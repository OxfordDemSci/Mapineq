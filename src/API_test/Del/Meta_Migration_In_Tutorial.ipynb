{
 "cells": [
  {
   "cell_type": "markdown",
   "id": "3954e2bf",
   "metadata": {},
   "source": [
    "\n",
    "# Meta Migration In — Hands‑On Tutorial (Jupyter Notebook)\n",
    "\n",
    "This notebook is a beginner‑friendly guide for working with the **Mapineq API** using the dataset **`meta_migration_in`**.  \n",
    "No server setup is needed — everything runs from your computer in this notebook.\n",
    "\n",
    "**You will:**\n",
    "- Discover which **years** and **NUTS levels** are available.\n",
    "- See which **origin** values (countries) you can filter by.\n",
    "- Download data for a **chosen origin**.\n",
    "- Compute **totals across all origins** per destination.\n",
    "- Save results to **CSV files** and make a simple **bar chart**.\n",
    "\n",
    "> **Requirements:** `requests`, `pandas`, `matplotlib`\n"
   ]
  },
  {
   "cell_type": "markdown",
   "id": "6f2bceeb",
   "metadata": {},
   "source": [
    "## 1) Setup"
   ]
  },
  {
   "cell_type": "code",
   "execution_count": null,
   "id": "accfe96a",
   "metadata": {},
   "outputs": [],
   "source": [
    "# If you're running this on a fresh environment, uncomment the next line:\n",
    "# !pip install requests pandas matplotlib"
   ]
  },
  {
   "cell_type": "markdown",
   "id": "328e4ca1",
   "metadata": {},
   "source": [
    "## 2) Imports and constants"
   ]
  },
  {
   "cell_type": "code",
   "execution_count": 9,
   "id": "b1064478",
   "metadata": {},
   "outputs": [
    {
     "name": "stdout",
     "output_type": "stream",
     "text": [
      "Setup complete.\n"
     ]
    }
   ],
   "source": [
    "import json\n",
    "import os\n",
    "from typing import List, Dict, Any\n",
    "\n",
    "import requests\n",
    "import pandas as pd\n",
    "import matplotlib.pyplot as plt\n",
    "\n",
    "# API base and dataset\n",
    "BASE = \"https://api.mapineq.org\"\n",
    "# RESOURCE = \"meta_migration_in\"\n",
    "RESOURCE = \"meta_sci\"\n",
    "\n",
    "# Default choices for an easy demo (change them later in Section 6)\n",
    "ORIGIN_CHOICE = \"UA\"   # e.g., 'UA' for Ukraine; you'll see available options below\n",
    "YEAR_CHOICE   = None   # None = auto pick latest available\n",
    "LEVEL_CHOICE  = 0      # 0 (country level); can be 1/2/3 if available in coverage\n",
    "\n",
    "SAVE_DIR = \"outputs_meta_migration_in\"\n",
    "os.makedirs(SAVE_DIR, exist_ok=True)\n",
    "\n",
    "print(\"Setup complete.\")\n"
   ]
  },
  {
   "cell_type": "markdown",
   "id": "1ef4b964",
   "metadata": {},
   "source": [
    "## 3) Helper functions"
   ]
  },
  {
   "cell_type": "code",
   "execution_count": 10,
   "id": "1ad4e7e6",
   "metadata": {},
   "outputs": [],
   "source": [
    "\n",
    "def _get(url: str, params: Dict[str, Any]) -> Any:\n",
    "    \"\"\"Wrapper around requests.get with basic error handling.\"\"\"\n",
    "    r = requests.get(url, params=params, timeout=60)\n",
    "    r.raise_for_status()\n",
    "    return r.json()\n",
    "\n",
    "def coverage(resource: str) -> pd.DataFrame:\n",
    "    \"\"\"Return valid (year, level) pairs for a resource.\"\"\"\n",
    "    data = _get(\n",
    "        f\"{BASE}/functions/postgisftw.get_year_nuts_level_from_source/items.json\",\n",
    "        {\"_resource\": resource}\n",
    "    )\n",
    "    df = pd.DataFrame(data).rename(columns={\"f_level\": \"level\", \"f_year\": \"year\"})\n",
    "    if df.empty:\n",
    "        raise RuntimeError(\"No coverage returned for this resource.\")\n",
    "    df[\"year\"] = df[\"year\"].astype(int)\n",
    "    df[\"level\"] = df[\"level\"].astype(int)\n",
    "    return df.sort_values([\"level\", \"year\"]).reset_index(drop=True)\n",
    "\n",
    "def list_filters(resource: str, year: int, level: int) -> pd.DataFrame:\n",
    "    \"\"\"Return a tidy table of filter options (field, field_label, label, value).\"\"\"\n",
    "    sel = {\"year\": str(year), \"level\": str(level), \"selected\": []}\n",
    "    data = _get(\n",
    "        f\"{BASE}/functions/postgisftw.get_column_values_source_json/items.json\",\n",
    "        {\"_resource\": resource, \"source_selections\": json.dumps(sel)}\n",
    "    )\n",
    "    rows = []\n",
    "    for item in (data or []):\n",
    "        field = item.get(\"field\")\n",
    "        field_label = item.get(\"field_label\")\n",
    "        values = item.get(\"field_values\") or []\n",
    "        if not values:\n",
    "            rows.append({\"field\": field, \"field_label\": field_label, \"label\": None, \"value\": None})\n",
    "        else:\n",
    "            for v in values:\n",
    "                rows.append({\n",
    "                    \"field\": field,\n",
    "                    \"field_label\": field_label,\n",
    "                    \"label\": v.get(\"label\"),\n",
    "                    \"value\": v.get(\"value\"),\n",
    "                })\n",
    "    return pd.DataFrame(rows, columns=[\"field\", \"field_label\", \"label\", \"value\"])\n",
    "\n",
    "def get_x_data(resource: str, year: int, level: int, conditions: List[Dict[str, str]], limit: int = 50000) -> pd.DataFrame:\n",
    "    \"\"\"Fetch observations for a resource given filters (conditions).\"\"\"\n",
    "    payload = {\"source\": resource, \"conditions\": conditions}\n",
    "    data = _get(\n",
    "        f\"{BASE}/functions/postgisftw.get_x_data/items.json\",\n",
    "        {\"_level\": level, \"_year\": year, \"X_JSON\": json.dumps(payload), \"limit\": limit}\n",
    "    )\n",
    "    df = pd.DataFrame(data)\n",
    "    if \"x\" in df.columns:\n",
    "        df[\"x\"] = pd.to_numeric(df[\"x\"], errors=\"coerce\")\n",
    "    return df\n"
   ]
  },
  {
   "cell_type": "markdown",
   "id": "9eed4cb0",
   "metadata": {},
   "source": [
    "## 4) Explore coverage (years × NUTS levels)"
   ]
  },
  {
   "cell_type": "code",
   "execution_count": 11,
   "id": "d4dc395e",
   "metadata": {},
   "outputs": [
    {
     "data": {
      "text/html": [
       "<div>\n",
       "<style scoped>\n",
       "    .dataframe tbody tr th:only-of-type {\n",
       "        vertical-align: middle;\n",
       "    }\n",
       "\n",
       "    .dataframe tbody tr th {\n",
       "        vertical-align: top;\n",
       "    }\n",
       "\n",
       "    .dataframe thead th {\n",
       "        text-align: right;\n",
       "    }\n",
       "</style>\n",
       "<table border=\"1\" class=\"dataframe\">\n",
       "  <thead>\n",
       "    <tr style=\"text-align: right;\">\n",
       "      <th></th>\n",
       "      <th>level</th>\n",
       "      <th>year</th>\n",
       "    </tr>\n",
       "  </thead>\n",
       "  <tbody>\n",
       "    <tr>\n",
       "      <th>0</th>\n",
       "      <td>0</td>\n",
       "      <td>2021</td>\n",
       "    </tr>\n",
       "    <tr>\n",
       "      <th>1</th>\n",
       "      <td>2</td>\n",
       "      <td>2021</td>\n",
       "    </tr>\n",
       "    <tr>\n",
       "      <th>2</th>\n",
       "      <td>3</td>\n",
       "      <td>2021</td>\n",
       "    </tr>\n",
       "  </tbody>\n",
       "</table>\n",
       "</div>"
      ],
      "text/plain": [
       "   level  year\n",
       "0      0  2021\n",
       "1      2  2021\n",
       "2      3  2021"
      ]
     },
     "metadata": {},
     "output_type": "display_data"
    },
    {
     "name": "stdout",
     "output_type": "stream",
     "text": [
      "Available years: [2021]\n",
      "Available levels: [0, 2, 3]\n"
     ]
    }
   ],
   "source": [
    "cov = coverage(RESOURCE)\n",
    "display(cov)\n",
    "print(f\"Available years: {sorted(cov['year'].unique().tolist())}\")\n",
    "print(f\"Available levels: {sorted(cov['level'].unique().tolist())}\")"
   ]
  },
  {
   "cell_type": "markdown",
   "id": "20368341",
   "metadata": {},
   "source": [
    "## 5) Choose a year and NUTS level"
   ]
  },
  {
   "cell_type": "code",
   "execution_count": 12,
   "id": "1f11e848",
   "metadata": {},
   "outputs": [
    {
     "name": "stdout",
     "output_type": "stream",
     "text": [
      "Using year=2021, level=0\n"
     ]
    }
   ],
   "source": [
    "# Pick year (latest if YEAR_CHOICE is None) and a valid level\n",
    "year = int(cov[\"year\"].max()) if YEAR_CHOICE is None else int(YEAR_CHOICE)\n",
    "\n",
    "# If LEVEL_CHOICE isn't available for that year, fall back to the first level for the year (or first row overall)\n",
    "candidates = cov[(cov[\"year\"] == year)]\n",
    "if candidates.empty:\n",
    "    print(\"[info] No rows for the chosen year; using the first row in coverage.\")\n",
    "    row = cov.iloc[0]\n",
    "else:\n",
    "    row = candidates.iloc[0]\n",
    "\n",
    "level = int(LEVEL_CHOICE) if LEVEL_CHOICE is not None else int(row[\"level\"])\n",
    "if cov[(cov[\"year\"] == year) & (cov[\"level\"] == level)].empty:\n",
    "    print(f\"[info] Level {level} not available for year {year}; using level {int(row['level'])}.\")\n",
    "    level = int(row[\"level\"])\n",
    "\n",
    "print(f\"Using year={year}, level={level}\")\n"
   ]
  },
  {
   "cell_type": "markdown",
   "id": "b812d3a2",
   "metadata": {},
   "source": [
    "## 6) See available filters (e.g., `origin`)"
   ]
  },
  {
   "cell_type": "code",
   "execution_count": 13,
   "id": "c1bc8ba9",
   "metadata": {
    "scrolled": true
   },
   "outputs": [
    {
     "data": {
      "text/html": [
       "<div>\n",
       "<style scoped>\n",
       "    .dataframe tbody tr th:only-of-type {\n",
       "        vertical-align: middle;\n",
       "    }\n",
       "\n",
       "    .dataframe tbody tr th {\n",
       "        vertical-align: top;\n",
       "    }\n",
       "\n",
       "    .dataframe thead th {\n",
       "        text-align: right;\n",
       "    }\n",
       "</style>\n",
       "<table border=\"1\" class=\"dataframe\">\n",
       "  <thead>\n",
       "    <tr style=\"text-align: right;\">\n",
       "      <th></th>\n",
       "      <th>field</th>\n",
       "      <th>field_label</th>\n",
       "      <th>label</th>\n",
       "      <th>value</th>\n",
       "    </tr>\n",
       "  </thead>\n",
       "  <tbody>\n",
       "    <tr>\n",
       "      <th>0</th>\n",
       "      <td>friend_country</td>\n",
       "      <td>friend_country</td>\n",
       "      <td>DK</td>\n",
       "      <td>DK</td>\n",
       "    </tr>\n",
       "    <tr>\n",
       "      <th>1</th>\n",
       "      <td>friend_country</td>\n",
       "      <td>friend_country</td>\n",
       "      <td>SV</td>\n",
       "      <td>SV</td>\n",
       "    </tr>\n",
       "    <tr>\n",
       "      <th>2</th>\n",
       "      <td>friend_country</td>\n",
       "      <td>friend_country</td>\n",
       "      <td>SN</td>\n",
       "      <td>SN</td>\n",
       "    </tr>\n",
       "    <tr>\n",
       "      <th>3</th>\n",
       "      <td>friend_country</td>\n",
       "      <td>friend_country</td>\n",
       "      <td>SI</td>\n",
       "      <td>SI</td>\n",
       "    </tr>\n",
       "    <tr>\n",
       "      <th>4</th>\n",
       "      <td>friend_country</td>\n",
       "      <td>friend_country</td>\n",
       "      <td>CZ</td>\n",
       "      <td>CZ</td>\n",
       "    </tr>\n",
       "    <tr>\n",
       "      <th>5</th>\n",
       "      <td>friend_country</td>\n",
       "      <td>friend_country</td>\n",
       "      <td>KR</td>\n",
       "      <td>KR</td>\n",
       "    </tr>\n",
       "    <tr>\n",
       "      <th>6</th>\n",
       "      <td>friend_country</td>\n",
       "      <td>friend_country</td>\n",
       "      <td>JP</td>\n",
       "      <td>JP</td>\n",
       "    </tr>\n",
       "    <tr>\n",
       "      <th>7</th>\n",
       "      <td>friend_country</td>\n",
       "      <td>friend_country</td>\n",
       "      <td>BS</td>\n",
       "      <td>BS</td>\n",
       "    </tr>\n",
       "    <tr>\n",
       "      <th>8</th>\n",
       "      <td>friend_country</td>\n",
       "      <td>friend_country</td>\n",
       "      <td>UZ</td>\n",
       "      <td>UZ</td>\n",
       "    </tr>\n",
       "    <tr>\n",
       "      <th>9</th>\n",
       "      <td>friend_country</td>\n",
       "      <td>friend_country</td>\n",
       "      <td>TL</td>\n",
       "      <td>TL</td>\n",
       "    </tr>\n",
       "    <tr>\n",
       "      <th>10</th>\n",
       "      <td>friend_country</td>\n",
       "      <td>friend_country</td>\n",
       "      <td>AU</td>\n",
       "      <td>AU</td>\n",
       "    </tr>\n",
       "    <tr>\n",
       "      <th>11</th>\n",
       "      <td>friend_country</td>\n",
       "      <td>friend_country</td>\n",
       "      <td>CL</td>\n",
       "      <td>CL</td>\n",
       "    </tr>\n",
       "    <tr>\n",
       "      <th>12</th>\n",
       "      <td>friend_country</td>\n",
       "      <td>friend_country</td>\n",
       "      <td>QA</td>\n",
       "      <td>QA</td>\n",
       "    </tr>\n",
       "    <tr>\n",
       "      <th>13</th>\n",
       "      <td>friend_country</td>\n",
       "      <td>friend_country</td>\n",
       "      <td>MZ</td>\n",
       "      <td>MZ</td>\n",
       "    </tr>\n",
       "    <tr>\n",
       "      <th>14</th>\n",
       "      <td>friend_country</td>\n",
       "      <td>friend_country</td>\n",
       "      <td>GE</td>\n",
       "      <td>GE</td>\n",
       "    </tr>\n",
       "    <tr>\n",
       "      <th>15</th>\n",
       "      <td>friend_country</td>\n",
       "      <td>friend_country</td>\n",
       "      <td>EE</td>\n",
       "      <td>EE</td>\n",
       "    </tr>\n",
       "    <tr>\n",
       "      <th>16</th>\n",
       "      <td>friend_country</td>\n",
       "      <td>friend_country</td>\n",
       "      <td>AT</td>\n",
       "      <td>AT</td>\n",
       "    </tr>\n",
       "    <tr>\n",
       "      <th>17</th>\n",
       "      <td>friend_country</td>\n",
       "      <td>friend_country</td>\n",
       "      <td>LI</td>\n",
       "      <td>LI</td>\n",
       "    </tr>\n",
       "    <tr>\n",
       "      <th>18</th>\n",
       "      <td>friend_country</td>\n",
       "      <td>friend_country</td>\n",
       "      <td>VN</td>\n",
       "      <td>VN</td>\n",
       "    </tr>\n",
       "    <tr>\n",
       "      <th>19</th>\n",
       "      <td>friend_country</td>\n",
       "      <td>friend_country</td>\n",
       "      <td>TD</td>\n",
       "      <td>TD</td>\n",
       "    </tr>\n",
       "  </tbody>\n",
       "</table>\n",
       "</div>"
      ],
      "text/plain": [
       "             field     field_label label value\n",
       "0   friend_country  friend_country    DK    DK\n",
       "1   friend_country  friend_country    SV    SV\n",
       "2   friend_country  friend_country    SN    SN\n",
       "3   friend_country  friend_country    SI    SI\n",
       "4   friend_country  friend_country    CZ    CZ\n",
       "5   friend_country  friend_country    KR    KR\n",
       "6   friend_country  friend_country    JP    JP\n",
       "7   friend_country  friend_country    BS    BS\n",
       "8   friend_country  friend_country    UZ    UZ\n",
       "9   friend_country  friend_country    TL    TL\n",
       "10  friend_country  friend_country    AU    AU\n",
       "11  friend_country  friend_country    CL    CL\n",
       "12  friend_country  friend_country    QA    QA\n",
       "13  friend_country  friend_country    MZ    MZ\n",
       "14  friend_country  friend_country    GE    GE\n",
       "15  friend_country  friend_country    EE    EE\n",
       "16  friend_country  friend_country    AT    AT\n",
       "17  friend_country  friend_country    LI    LI\n",
       "18  friend_country  friend_country    VN    VN\n",
       "19  friend_country  friend_country    TD    TD"
      ]
     },
     "metadata": {},
     "output_type": "display_data"
    },
    {
     "name": "stdout",
     "output_type": "stream",
     "text": [
      "Found 0 origin options. Example: []\n",
      "[info] No origin filters exposed for this resource/year/level.\n"
     ]
    }
   ],
   "source": [
    "filters_df = list_filters(RESOURCE, year, level)\n",
    "display(filters_df.head(20))\n",
    "\n",
    "origin_values = filters_df.loc[filters_df[\"field\"] == \"origin\", \"value\"].dropna().unique().tolist()\n",
    "print(f\"Found {len(origin_values)} origin options. Example: {origin_values[:25]}\")\n",
    "\n",
    "# Pick an origin value to use (fall back to first if the default isn't present)\n",
    "if origin_values:\n",
    "    origin = ORIGIN_CHOICE if ORIGIN_CHOICE in origin_values else origin_values[0]\n",
    "    if origin != ORIGIN_CHOICE:\n",
    "        print(f\"[info] ORIGIN_CHOICE '{ORIGIN_CHOICE}' not found; using '{origin}'.\")\n",
    "else:\n",
    "    origin = None\n",
    "    print(\"[info] No origin filters exposed for this resource/year/level.\")"
   ]
  },
  {
   "cell_type": "markdown",
   "id": "3dc8914d",
   "metadata": {},
   "source": [
    "## 7) Download data for one origin"
   ]
  },
  {
   "cell_type": "code",
   "execution_count": 14,
   "id": "22071963",
   "metadata": {},
   "outputs": [
    {
     "data": {
      "text/html": [
       "<div>\n",
       "<style scoped>\n",
       "    .dataframe tbody tr th:only-of-type {\n",
       "        vertical-align: middle;\n",
       "    }\n",
       "\n",
       "    .dataframe tbody tr th {\n",
       "        vertical-align: top;\n",
       "    }\n",
       "\n",
       "    .dataframe thead th {\n",
       "        text-align: right;\n",
       "    }\n",
       "</style>\n",
       "<table border=\"1\" class=\"dataframe\">\n",
       "  <thead>\n",
       "    <tr style=\"text-align: right;\">\n",
       "      <th></th>\n",
       "      <th>data_year</th>\n",
       "      <th>geo</th>\n",
       "      <th>geo_name</th>\n",
       "      <th>geo_source</th>\n",
       "      <th>geo_year</th>\n",
       "      <th>migration_in</th>\n",
       "    </tr>\n",
       "  </thead>\n",
       "  <tbody>\n",
       "    <tr>\n",
       "      <th>0</th>\n",
       "      <td>2021</td>\n",
       "      <td>AL</td>\n",
       "      <td>Shqip�ria</td>\n",
       "      <td>NUTS</td>\n",
       "      <td>2024</td>\n",
       "      <td>2101.0</td>\n",
       "    </tr>\n",
       "    <tr>\n",
       "      <th>1</th>\n",
       "      <td>2021</td>\n",
       "      <td>AL</td>\n",
       "      <td>Shqip�ria</td>\n",
       "      <td>NUTS</td>\n",
       "      <td>2024</td>\n",
       "      <td>641.0</td>\n",
       "    </tr>\n",
       "    <tr>\n",
       "      <th>2</th>\n",
       "      <td>2021</td>\n",
       "      <td>AL</td>\n",
       "      <td>Shqip�ria</td>\n",
       "      <td>NUTS</td>\n",
       "      <td>2024</td>\n",
       "      <td>14884656.0</td>\n",
       "    </tr>\n",
       "    <tr>\n",
       "      <th>3</th>\n",
       "      <td>2021</td>\n",
       "      <td>AL</td>\n",
       "      <td>Shqip�ria</td>\n",
       "      <td>NUTS</td>\n",
       "      <td>2024</td>\n",
       "      <td>896.0</td>\n",
       "    </tr>\n",
       "    <tr>\n",
       "      <th>4</th>\n",
       "      <td>2021</td>\n",
       "      <td>AL</td>\n",
       "      <td>Shqip�ria</td>\n",
       "      <td>NUTS</td>\n",
       "      <td>2024</td>\n",
       "      <td>689.0</td>\n",
       "    </tr>\n",
       "  </tbody>\n",
       "</table>\n",
       "</div>"
      ],
      "text/plain": [
       "  data_year geo   geo_name geo_source geo_year  migration_in\n",
       "0      2021  AL  Shqip�ria       NUTS     2024        2101.0\n",
       "1      2021  AL  Shqip�ria       NUTS     2024         641.0\n",
       "2      2021  AL  Shqip�ria       NUTS     2024    14884656.0\n",
       "3      2021  AL  Shqip�ria       NUTS     2024         896.0\n",
       "4      2021  AL  Shqip�ria       NUTS     2024         689.0"
      ]
     },
     "metadata": {},
     "output_type": "display_data"
    },
    {
     "name": "stdout",
     "output_type": "stream",
     "text": [
      "(6292, 6)\n"
     ]
    }
   ],
   "source": [
    "if origin is None:\n",
    "    # No filters: fetch without conditions\n",
    "    df_one = get_x_data(RESOURCE, year, level, conditions=[])\n",
    "    df_one = df_one.rename(columns={\"x\": \"migration_in\"})\n",
    "else:\n",
    "    df_one = get_x_data(RESOURCE, year, level, conditions=[{\"field\": \"origin\", \"value\": origin}])\n",
    "    df_one = df_one.rename(columns={\"x\": f\"migration_in_from_{origin}\"})\n",
    "\n",
    "display(df_one.head())\n",
    "print(df_one.shape)"
   ]
  },
  {
   "cell_type": "markdown",
   "id": "98b080b4",
   "metadata": {},
   "source": [
    "## 8) Compute totals per destination (sum across origins)"
   ]
  },
  {
   "cell_type": "code",
   "execution_count": 15,
   "id": "538cf18a",
   "metadata": {},
   "outputs": [
    {
     "data": {
      "text/html": [
       "<div>\n",
       "<style scoped>\n",
       "    .dataframe tbody tr th:only-of-type {\n",
       "        vertical-align: middle;\n",
       "    }\n",
       "\n",
       "    .dataframe tbody tr th {\n",
       "        vertical-align: top;\n",
       "    }\n",
       "\n",
       "    .dataframe thead th {\n",
       "        text-align: right;\n",
       "    }\n",
       "</style>\n",
       "<table border=\"1\" class=\"dataframe\">\n",
       "  <thead>\n",
       "    <tr style=\"text-align: right;\">\n",
       "      <th></th>\n",
       "      <th>data_year</th>\n",
       "      <th>geo</th>\n",
       "      <th>geo_name</th>\n",
       "      <th>geo_source</th>\n",
       "      <th>geo_year</th>\n",
       "      <th>migration_in_total</th>\n",
       "    </tr>\n",
       "  </thead>\n",
       "  <tbody>\n",
       "    <tr>\n",
       "      <th>0</th>\n",
       "      <td>2021</td>\n",
       "      <td>AL</td>\n",
       "      <td>Shqip�ria</td>\n",
       "      <td>NUTS</td>\n",
       "      <td>2024</td>\n",
       "      <td>2101.0</td>\n",
       "    </tr>\n",
       "    <tr>\n",
       "      <th>1</th>\n",
       "      <td>2021</td>\n",
       "      <td>AL</td>\n",
       "      <td>Shqip�ria</td>\n",
       "      <td>NUTS</td>\n",
       "      <td>2024</td>\n",
       "      <td>641.0</td>\n",
       "    </tr>\n",
       "    <tr>\n",
       "      <th>2</th>\n",
       "      <td>2021</td>\n",
       "      <td>AL</td>\n",
       "      <td>Shqip�ria</td>\n",
       "      <td>NUTS</td>\n",
       "      <td>2024</td>\n",
       "      <td>14884656.0</td>\n",
       "    </tr>\n",
       "    <tr>\n",
       "      <th>3</th>\n",
       "      <td>2021</td>\n",
       "      <td>AL</td>\n",
       "      <td>Shqip�ria</td>\n",
       "      <td>NUTS</td>\n",
       "      <td>2024</td>\n",
       "      <td>896.0</td>\n",
       "    </tr>\n",
       "    <tr>\n",
       "      <th>4</th>\n",
       "      <td>2021</td>\n",
       "      <td>AL</td>\n",
       "      <td>Shqip�ria</td>\n",
       "      <td>NUTS</td>\n",
       "      <td>2024</td>\n",
       "      <td>689.0</td>\n",
       "    </tr>\n",
       "  </tbody>\n",
       "</table>\n",
       "</div>"
      ],
      "text/plain": [
       "  data_year geo   geo_name geo_source geo_year  migration_in_total\n",
       "0      2021  AL  Shqip�ria       NUTS     2024              2101.0\n",
       "1      2021  AL  Shqip�ria       NUTS     2024               641.0\n",
       "2      2021  AL  Shqip�ria       NUTS     2024          14884656.0\n",
       "3      2021  AL  Shqip�ria       NUTS     2024               896.0\n",
       "4      2021  AL  Shqip�ria       NUTS     2024               689.0"
      ]
     },
     "metadata": {},
     "output_type": "display_data"
    },
    {
     "name": "stdout",
     "output_type": "stream",
     "text": [
      "(6292, 6)\n"
     ]
    }
   ],
   "source": [
    "if origin_values:\n",
    "    # Try to use a built-in TOTAL if present, else sum manually\n",
    "    total_candidates = [o for o in origin_values if str(o).upper() in (\"TOTAL\", \"TOT\", \"ALL\")]\n",
    "    if total_candidates:\n",
    "        df_total = get_x_data(RESOURCE, year, level, conditions=[{\"field\": \"origin\", \"value\": total_candidates[0]}])\n",
    "        df_total = df_total.rename(columns={\"x\": \"migration_in_total\"})\n",
    "    else:\n",
    "        frames = []\n",
    "        for ov in origin_values:\n",
    "            d = get_x_data(RESOURCE, year, level, [{\"field\": \"origin\", \"value\": ov}])\n",
    "            d = d[[\"data_year\", \"geo\", \"geo_name\", \"geo_source\", \"geo_year\", \"x\"]]\n",
    "            frames.append(d)\n",
    "        big = pd.concat(frames, ignore_index=True)\n",
    "        df_total = (big.groupby([\"data_year\", \"geo\", \"geo_name\", \"geo_source\", \"geo_year\"], as_index=False)[\"x\"]\n",
    "                       .sum()\n",
    "                       .rename(columns={\"x\": \"migration_in_total\"}))\n",
    "else:\n",
    "    # No origin filters → single call already represents totals\n",
    "    df_total = df_one.rename(columns={df_one.columns[-1]: \"migration_in_total\"})\n",
    "\n",
    "display(df_total.head())\n",
    "print(df_total.shape)"
   ]
  },
  {
   "cell_type": "markdown",
   "id": "e40529b3",
   "metadata": {},
   "source": [
    "## 9) Save tidy CSV files"
   ]
  },
  {
   "cell_type": "code",
   "execution_count": 16,
   "id": "c37e7f66",
   "metadata": {},
   "outputs": [
    {
     "name": "stdout",
     "output_type": "stream",
     "text": [
      "Saved:\n",
      "- outputs_meta_migration_in/meta_migration_in_2021_L0_one_origin.csv\n",
      "- outputs_meta_migration_in/meta_migration_in_2021_L0_totals.csv\n"
     ]
    }
   ],
   "source": [
    "p_one = os.path.join(SAVE_DIR, f\"meta_migration_in_{year}_L{level}_one_origin.csv\")\n",
    "p_tot = os.path.join(SAVE_DIR, f\"meta_migration_in_{year}_L{level}_totals.csv\")\n",
    "\n",
    "df_one.to_csv(p_one, index=False)\n",
    "df_total.to_csv(p_tot, index=False)\n",
    "\n",
    "print(\"Saved:\")\n",
    "print(\"-\", p_one)\n",
    "print(\"-\", p_tot)"
   ]
  },
  {
   "cell_type": "markdown",
   "id": "3fc9e60b",
   "metadata": {},
   "source": [
    "## 10) Plot top destinations by total inflow"
   ]
  },
  {
   "cell_type": "code",
   "execution_count": 17,
   "id": "3304c0d9",
   "metadata": {},
   "outputs": [
    {
     "name": "stdout",
     "output_type": "stream",
     "text": [
      "Chart saved: outputs_meta_migration_in/meta_migration_in_2021_L0_totals_top15.png\n"
     ]
    },
    {
     "data": {
      "image/png": "[encoded data removed]",
      "text/plain": [
       "<Figure size 1000x600 with 1 Axes>"
      ]
     },
     "metadata": {},
     "output_type": "display_data"
    }
   ],
   "source": [
    "topN = 15\n",
    "top = df_total.sort_values(\"migration_in_total\", ascending=False).head(topN)\n",
    "\n",
    "plt.figure(figsize=(10, 6))\n",
    "plt.barh(top[\"geo_name\"], top[\"migration_in_total\"])\n",
    "plt.gca().invert_yaxis()\n",
    "plt.xlabel(\"Total migration inflow\")\n",
    "plt.ylabel(\"Destination (geo_name)\")\n",
    "plt.title(f\"Meta Migration In – totals by destination (year={year}, level={level})\")\n",
    "plt.tight_layout()\n",
    "\n",
    "chart_path = os.path.join(SAVE_DIR, f\"meta_migration_in_{year}_L{level}_totals_top{topN}.png\")\n",
    "plt.savefig(chart_path, dpi=150)\n",
    "print(\"Chart saved:\", chart_path)"
   ]
  },
  {
   "cell_type": "markdown",
   "id": "976d9ee0",
   "metadata": {},
   "source": [
    "\n",
    "## 11) What you can explain to a non‑technical audience\n",
    "\n",
    "- We asked the **Mapineq API** which **years** and **regional levels** are available for *meta_migration_in*.\n",
    "- We saw the available **origin** values (source countries).\n",
    "- We downloaded data for one origin and also **summed across all origins** to get totals per destination.\n",
    "- We saved two **CSV files** and a **PNG chart** to the `outputs_meta_migration_in` folder.\n",
    "- You can now change `ORIGIN_CHOICE`, `YEAR_CHOICE`, and `LEVEL_CHOICE` at the top and re‑run to answer “what‑if” questions.\n"
   ]
  }
 ],
 "metadata": {
  "kernelspec": {
   "display_name": "Python 3 (ipykernel)",
   "language": "python",
   "name": "python3"
  },
  "language_info": {
   "codemirror_mode": {
    "name": "ipython",
    "version": 3
   },
   "file_extension": ".py",
   "mimetype": "text/x-python",
   "name": "python",
   "nbconvert_exporter": "python",
   "pygments_lexer": "ipython3",
   "version": "3.10.17"
  }
 },
 "nbformat": 4,
 "nbformat_minor": 5
}
