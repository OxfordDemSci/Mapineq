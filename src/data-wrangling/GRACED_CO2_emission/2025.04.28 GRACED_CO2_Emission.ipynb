{
 "cells": [
  {
   "cell_type": "code",
   "execution_count": 18,
   "id": "c7dfae83",
   "metadata": {},
   "outputs": [],
   "source": [
    "import os\n",
    "import gc\n",
    "import tarfile\n",
    "import netCDF4 as nc\n",
    "import numpy as np\n",
    "import pandas as pd\n",
    "import geopandas as gpd\n",
    "from osgeo import gdal, osr\n",
    "from tqdm import tqdm\n",
    "import rasterio\n",
    "from rasterstats import zonal_stats"
   ]
  },
  {
   "cell_type": "markdown",
   "id": "5ac91178-1833-4969-8b52-76b70ba4c904",
   "metadata": {},
   "source": [
    "# 1. Uncompress and convert nc to tif"
   ]
  },
  {
   "cell_type": "code",
   "execution_count": 10,
   "id": "0b0c1555-6b71-461d-8ca4-0786cfa71142",
   "metadata": {},
   "outputs": [
    {
     "name": "stderr",
     "output_type": "stream",
     "text": [
      "100%|██████████████████████████████████████████████████████████████████████████████████| 75/75 [06:33<00:00,  5.25s/it]\n"
     ]
    }
   ],
   "source": [
    "# Unzip all gz files\n",
    "read_folder = r'C:\\1-Data\\GRACED'\n",
    "save_folder = r'C:\\1-Data\\GRACED\\nc'\n",
    "\n",
    "for file in tqdm(os.listdir(read_folder)):\n",
    "    if file.endswith('gz'):\n",
    "        with tarfile.open(read_folder + '\\\\' + file) as tar:\n",
    "            tar.extractall(save_folder)"
   ]
  },
  {
   "cell_type": "code",
   "execution_count": null,
   "id": "5faa461b-686d-406c-93d9-420ae198913b",
   "metadata": {},
   "outputs": [],
   "source": [
    "def nc_to_geotiff(read_path, save_path, dstSRS='EPSG:3035'):\n",
    "    nc_file = nc.Dataset(read_path)\n",
    "    lat = nc_file.variables['latitude'][:]\n",
    "    lon = nc_file.variables['longitude'][:]\n",
    "    PM25 = np.asanyarray(nc_file.variables['PM25'])\n",
    "\n",
    "    # get the spatial range of the netcdf\n",
    "    Lonmin, Latmax, Lonmax, Latmin = [lon.min(), lat.max(), lon.max(), lat.min()]\n",
    "\n",
    "    # calculate the resolution\n",
    "    Num_lat = len(lat)\n",
    "    Num_lon = len(lon)\n",
    "    Lat_res = (Latmax - Latmin) / (float(Num_lat) - 1)\n",
    "    Lon_res = (Lonmax - Lonmin) / (float(Num_lon) - 1)\n",
    "\n",
    "    # create the tif file and save it into the virtual file system in memory\n",
    "    driver = gdal.GetDriverByName('GTiff')\n",
    "    out_tif = driver.Create('/vsimem/PM25.tif', Num_lon, Num_lat, 1, gdal.GDT_Float32)\n",
    "\n",
    "    # set the spatial range of the tif file\n",
    "    geotransform = (Lonmin, Lon_res, 0.0, Latmax, 0.0, -Lat_res)\n",
    "    out_tif.SetGeoTransform(geotransform)\n",
    "\n",
    "    # set the projection system\n",
    "    prj = osr.SpatialReference()\n",
    "    prj.ImportFromEPSG(4326)\n",
    "    out_tif.SetProjection(prj.ExportToWkt())\n",
    "\n",
    "    # check is the data are flipped and correct the data if yes\n",
    "    if lat[0] <= lat[-1]: \n",
    "        PM25 = PM25[::-1]\n",
    "    else:\n",
    "        pass\n",
    "\n",
    "    # write data into tif and close the file\n",
    "    out_tif.GetRasterBand(1).WriteArray(PM25)\n",
    "    # transform the projection to 3035 and save\n",
    "    gdal.Warp(save_path, out_tif, srcSRS='EPSG:4326', dstSRS=dstSRS)\n",
    "    out_tif.FlushCache() \n",
    "    out_tif = None"
   ]
  },
  {
   "cell_type": "code",
   "execution_count": 20,
   "id": "5f6853d3-9072-4a33-a45b-f60499ec60e7",
   "metadata": {},
   "outputs": [],
   "source": [
    "read_path = r'C:\\1-Data\\GRACED\\nc\\CarbonMonitor_total_y2019_m01.nc'\n",
    "nc_file = nc.Dataset(read_path)\n"
   ]
  },
  {
   "cell_type": "code",
   "execution_count": null,
   "id": "bd0d92ae-c4d5-4c41-81ed-0de09fd32a34",
   "metadata": {},
   "outputs": [],
   "source": [
    "lat = nc_file.variables['latitude'][:]\n",
    "lon = nc_file.variables['longitude'][:]\n",
    "emission = np.asanyarray(nc_file.variables['emission'])"
   ]
  },
  {
   "cell_type": "code",
   "execution_count": 22,
   "id": "8366b5ab-429c-4986-9ca5-2c78843b7031",
   "metadata": {},
   "outputs": [
    {
     "data": {
      "text/plain": [
       "{'latitude': <class 'netCDF4.Variable'>\n",
       " float64 latitude(latitude)\n",
       "     _FillValue: nan\n",
       " unlimited dimensions: \n",
       " current shape = (1800,)\n",
       " filling on,\n",
       " 'longitude': <class 'netCDF4.Variable'>\n",
       " float64 longitude(longitude)\n",
       "     _FillValue: nan\n",
       " unlimited dimensions: \n",
       " current shape = (3600,)\n",
       " filling on,\n",
       " 'emission': <class 'netCDF4.Variable'>\n",
       " float32 emission(nday, latitude, longitude)\n",
       "     _FillValue: nan\n",
       " unlimited dimensions: \n",
       " current shape = (31, 1800, 3600)\n",
       " filling on,\n",
       " 'nday': <class 'netCDF4.Variable'>\n",
       " int64 nday(nday)\n",
       "     units: days since 2019-01-01 00:00:00\n",
       "     calendar: proleptic_gregorian\n",
       " unlimited dimensions: \n",
       " current shape = (31,)\n",
       " filling on, default _FillValue of -9223372036854775806 used}"
      ]
     },
     "execution_count": 22,
     "metadata": {},
     "output_type": "execute_result"
    }
   ],
   "source": [
    "nc_file.variables"
   ]
  },
  {
   "cell_type": "code",
   "execution_count": 26,
   "id": "aa70474d-9696-43a0-b44c-1ab99677663a",
   "metadata": {},
   "outputs": [
    {
     "data": {
      "text/plain": [
       "masked_array(data=[ 0,  1,  2,  3,  4,  5,  6,  7,  8,  9, 10, 11, 12, 13,\n",
       "                   14, 15, 16, 17, 18, 19, 20, 21, 22, 23, 24, 25, 26, 27,\n",
       "                   28, 29, 30],\n",
       "             mask=False,\n",
       "       fill_value=999999,\n",
       "            dtype=int64)"
      ]
     },
     "execution_count": 26,
     "metadata": {},
     "output_type": "execute_result"
    }
   ],
   "source": [
    "nc_file.variables['nday'][:]"
   ]
  },
  {
   "cell_type": "code",
   "execution_count": null,
   "id": "076c5479-7b0b-45d7-872a-b0e684dcdb29",
   "metadata": {},
   "outputs": [],
   "source": [
    "lat = nc_file.variables['latitude'][:]\n",
    "lon = nc_file.variables['longitude'][:]\n",
    "PM25 = np.asanyarray(nc_file.variables['PM25'])"
   ]
  },
  {
   "cell_type": "code",
   "execution_count": null,
   "id": "c5a7eeae-4cb3-4e7b-a11e-3963e31f5f3d",
   "metadata": {},
   "outputs": [],
   "source": []
  },
  {
   "cell_type": "code",
   "execution_count": null,
   "id": "0e2d7cf6-eec1-4ee9-9df5-a2f3b7075ac4",
   "metadata": {},
   "outputs": [],
   "source": [
    "# convert nc to tiff for nuts data extraction\n",
    "read_folder = '/data/xiang/1-Data/PM2.5/netcdf'\n",
    "save_folder = '/data/xiang/1-Data/PM2.5/raster'\n",
    "\n",
    "if __name__ == '__main__':\n",
    "    for netc in tqdm(os.listdir(read_folder)):\n",
    "        if netc.endswith('.nc'):\n",
    "            read_path = read_folder + r'/' + netc\n",
    "            save_path = save_folder + r'/' + netc[:-2] + 'tif'\n",
    "            nc_to_geotiff(read_path, save_path)"
   ]
  },
  {
   "cell_type": "code",
   "execution_count": null,
   "id": "9955c959-4dcb-4d67-ad84-db5f73271d28",
   "metadata": {},
   "outputs": [],
   "source": []
  },
  {
   "cell_type": "code",
   "execution_count": null,
   "id": "63b033ae-93e7-4b05-84fe-c3a3f2374fa6",
   "metadata": {},
   "outputs": [],
   "source": []
  },
  {
   "cell_type": "code",
   "execution_count": null,
   "id": "2d9cc8aa",
   "metadata": {},
   "outputs": [],
   "source": [
    "nuts_folder = '/data/xiang/1-Data/NUTS/nuts version'\n",
    "read_folder = '/data/xiang/1-Data/PM2.5/raster'\n",
    "# for nuts_file in os.listdir(nuts_folder):\n",
    "nuts_list = ['NUTS_RG_01M_2006_3035.shp', 'NUTS_RG_01M_2013_3035.shp', 'NUTS_RG_01M_2016_3035.shp', 'NUTS_RG_01M_2003_3035.shp']\n",
    "for nuts_file in nuts_list:\n",
    "    df_comb = None\n",
    "    if nuts_file.endswith('.shp'):\n",
    "        nuts_file = nuts_folder + r'/' + nuts_file\n",
    "        nuts = gpd.read_file(nuts_file)\n",
    "        for PM_file in tqdm(os.listdir(read_folder)):\n",
    "            read_file = read_folder + r'/' + PM_file\n",
    "            year = PM_file.split('.')[-3][:4]\n",
    "            # link the zonal statistics table to the boundary index\n",
    "            zs_temp = pd.DataFrame(zonal_stats(nuts_file, read_file))['mean']\n",
    "            df_temp = pd.merge(nuts[['NUTS_ID']], zs_temp, left_index=True, right_index=True)\n",
    "            df_temp.columns = ['geo','ObsValue']\n",
    "            df_temp['Indicator'] = 'PM2.5'\n",
    "            df_temp['freq'] = '1 year'\n",
    "            df_temp['ObsTime'] = year\n",
    "            df_temp['unit'] = 'ug/m3'\n",
    "            df_comb = df_temp if df_comb is None else pd.concat([df_comb, df_temp])\n",
    "        # save the table\n",
    "        geo_source = 'NUTS' + nuts_file.split('_')[-2]\n",
    "        df_comb['geo_source'] = geo_source\n",
    "        df_comb.set_index('geo').to_csv('/data/xiang/3-case studies/2-PM2.5/PM25_' + geo_source + '.csv')    \n",
    "        # delete nuts and release the RAM\n",
    "        del nuts\n",
    "        gc.collect()"
   ]
  },
  {
   "cell_type": "code",
   "execution_count": null,
   "id": "362825f3",
   "metadata": {},
   "outputs": [],
   "source": []
  },
  {
   "cell_type": "code",
   "execution_count": null,
   "id": "c29442f2",
   "metadata": {},
   "outputs": [],
   "source": []
  },
  {
   "cell_type": "code",
   "execution_count": null,
   "id": "c062bf35",
   "metadata": {},
   "outputs": [],
   "source": []
  },
  {
   "cell_type": "code",
   "execution_count": null,
   "id": "5c43e4cd",
   "metadata": {},
   "outputs": [],
   "source": []
  },
  {
   "cell_type": "code",
   "execution_count": null,
   "id": "6c706657",
   "metadata": {},
   "outputs": [],
   "source": []
  },
  {
   "cell_type": "code",
   "execution_count": null,
   "id": "b8b44405",
   "metadata": {},
   "outputs": [],
   "source": []
  },
  {
   "cell_type": "code",
   "execution_count": null,
   "id": "4e63e74a",
   "metadata": {},
   "outputs": [],
   "source": []
  },
  {
   "cell_type": "code",
   "execution_count": null,
   "id": "96bb58b5",
   "metadata": {},
   "outputs": [],
   "source": []
  },
  {
   "cell_type": "code",
   "execution_count": null,
   "id": "e4266849",
   "metadata": {},
   "outputs": [],
   "source": []
  },
  {
   "cell_type": "code",
   "execution_count": null,
   "id": "121a177e",
   "metadata": {},
   "outputs": [],
   "source": []
  },
  {
   "cell_type": "code",
   "execution_count": null,
   "id": "4046bfe3",
   "metadata": {},
   "outputs": [],
   "source": []
  },
  {
   "cell_type": "code",
   "execution_count": null,
   "id": "0cf21d8e",
   "metadata": {},
   "outputs": [],
   "source": []
  },
  {
   "cell_type": "code",
   "execution_count": null,
   "id": "33b3a34b",
   "metadata": {},
   "outputs": [],
   "source": []
  },
  {
   "cell_type": "code",
   "execution_count": null,
   "id": "b110e19c",
   "metadata": {},
   "outputs": [],
   "source": []
  },
  {
   "cell_type": "code",
   "execution_count": null,
   "id": "4ab83b0f",
   "metadata": {},
   "outputs": [],
   "source": []
  },
  {
   "cell_type": "code",
   "execution_count": null,
   "id": "4a4625c5",
   "metadata": {},
   "outputs": [],
   "source": []
  },
  {
   "cell_type": "code",
   "execution_count": null,
   "id": "a140353f",
   "metadata": {},
   "outputs": [],
   "source": []
  },
  {
   "cell_type": "code",
   "execution_count": null,
   "id": "349dba9d",
   "metadata": {},
   "outputs": [],
   "source": []
  },
  {
   "cell_type": "code",
   "execution_count": null,
   "id": "36f09f4e",
   "metadata": {},
   "outputs": [],
   "source": []
  },
  {
   "cell_type": "code",
   "execution_count": null,
   "id": "b4021917",
   "metadata": {},
   "outputs": [],
   "source": []
  },
  {
   "cell_type": "code",
   "execution_count": null,
   "id": "28c30907",
   "metadata": {},
   "outputs": [],
   "source": []
  },
  {
   "cell_type": "code",
   "execution_count": null,
   "id": "088f15d0",
   "metadata": {},
   "outputs": [],
   "source": []
  },
  {
   "cell_type": "code",
   "execution_count": null,
   "id": "b4be016b",
   "metadata": {},
   "outputs": [],
   "source": []
  },
  {
   "cell_type": "code",
   "execution_count": null,
   "id": "8f3ff781",
   "metadata": {},
   "outputs": [],
   "source": []
  },
  {
   "cell_type": "code",
   "execution_count": null,
   "id": "fad45c16",
   "metadata": {},
   "outputs": [],
   "source": []
  },
  {
   "cell_type": "code",
   "execution_count": null,
   "id": "f7189731",
   "metadata": {},
   "outputs": [],
   "source": []
  },
  {
   "cell_type": "code",
   "execution_count": null,
   "id": "53ed2535",
   "metadata": {},
   "outputs": [],
   "source": []
  },
  {
   "cell_type": "code",
   "execution_count": null,
   "id": "328708af",
   "metadata": {},
   "outputs": [],
   "source": []
  },
  {
   "cell_type": "code",
   "execution_count": null,
   "id": "60eeda88",
   "metadata": {},
   "outputs": [],
   "source": []
  },
  {
   "cell_type": "code",
   "execution_count": null,
   "id": "9f9aa33e",
   "metadata": {},
   "outputs": [],
   "source": []
  },
  {
   "cell_type": "code",
   "execution_count": null,
   "id": "ea1011cc",
   "metadata": {},
   "outputs": [],
   "source": []
  },
  {
   "cell_type": "code",
   "execution_count": null,
   "id": "f7eb96f6",
   "metadata": {},
   "outputs": [],
   "source": []
  },
  {
   "cell_type": "code",
   "execution_count": null,
   "id": "17565c6e",
   "metadata": {},
   "outputs": [],
   "source": []
  },
  {
   "cell_type": "code",
   "execution_count": null,
   "id": "7d909ddb",
   "metadata": {},
   "outputs": [],
   "source": []
  },
  {
   "cell_type": "code",
   "execution_count": null,
   "id": "3f7cbe91",
   "metadata": {},
   "outputs": [],
   "source": []
  }
 ],
 "metadata": {
  "kernelspec": {
   "display_name": "Python 3 (ipykernel)",
   "language": "python",
   "name": "python3"
  },
  "language_info": {
   "codemirror_mode": {
    "name": "ipython",
    "version": 3
   },
   "file_extension": ".py",
   "mimetype": "text/x-python",
   "name": "python",
   "nbconvert_exporter": "python",
   "pygments_lexer": "ipython3",
   "version": "3.12.3"
  }
 },
 "nbformat": 4,
 "nbformat_minor": 5
}
