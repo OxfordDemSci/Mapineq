{
 "cells": [
  {
   "cell_type": "code",
   "execution_count": 6,
   "id": "034974f7-d76b-43ad-995a-0b0601ffeb61",
   "metadata": {},
   "outputs": [],
   "source": [
    "import pandas as pd"
   ]
  },
  {
   "cell_type": "markdown",
   "id": "2e4a39b9-96fb-467f-960e-436b80ca0c3a",
   "metadata": {},
   "source": [
    "# 1. read and process raw data"
   ]
  },
  {
   "cell_type": "code",
   "execution_count": 14,
   "id": "39eed8c5-f601-45c3-9458-b40613ffebf9",
   "metadata": {},
   "outputs": [],
   "source": [
    "read_folder = r'C:\\1-Data\\Social connectedness index'\n",
    "save_folder = r'C:\\2-Case studies\\social connectedness'"
   ]
  },
  {
   "cell_type": "code",
   "execution_count": 40,
   "id": "9b48ca61-858b-4ea0-a544-9836fba7378a",
   "metadata": {},
   "outputs": [],
   "source": [
    "# import the data sheets\n",
    "df_countries = pd.read_table(read_folder + '\\\\' + r'countries-countries-fb-social-connectedness-index-october-2021.tsv')\n",
    "df_nuts2 = pd.read_table(read_folder + '\\\\' + r'gadm1_nuts2-gadm1_nuts2-fb-social-connectedness-index-october-2021.tsv')\n",
    "df_nuts3 = pd.read_table(read_folder + '\\\\' + r'gadm1_nuts3_counties-gadm1_nuts3_counties - FB Social Connectedness Index - October 2021.tsv')\n",
    "gadm_nuts2 = pd.read_csv(read_folder + '\\\\' + 'gadm1_nuts2_levels.csv')\n",
    "gadm_nuts3 = pd.read_csv(read_folder + '\\\\' + 'gadm1_nuts3_counties_levels.csv')"
   ]
  },
  {
   "cell_type": "code",
   "execution_count": 41,
   "id": "c0299ae7-2b95-4274-9aad-00dbd538d899",
   "metadata": {},
   "outputs": [],
   "source": [
    "df_countries['geo_source'] = 'NUTS2016'\n",
    "df_countries['obsTime'] = 'Oct. 2021'\n",
    "df_countries.rename(columns={'user_loc':'geo', 'fr_loc':'friend_geo', 'scaled_sci':'obsValue'}, inplace=True)"
   ]
  },
  {
   "cell_type": "code",
   "execution_count": 42,
   "id": "b6a20e64-31b5-43d4-8990-0c9277e3c5c1",
   "metadata": {},
   "outputs": [],
   "source": [
    "df_nuts2['geo_source'] = 'NUTS2016'\n",
    "df_nuts2['obsTime'] = 'Oct. 2021'\n",
    "df_nuts2.rename(columns={'user_loc':'geo', 'fr_loc':'friend_geo', 'scaled_sci':'obsValue'}, inplace=True)\n",
    "\n",
    "# remove values that are based on GDAM levels\n",
    "list_nuts2 = list(gadm_nuts2[gadm_nuts2['level']=='nuts2']['key'].values)\n",
    "df_nuts2_sim = df_nuts2[(df_nuts2['geo'].isin(list_nuts2))&(df_nuts2['friend_geo'].isin(list_nuts2))]"
   ]
  },
  {
   "cell_type": "code",
   "execution_count": 43,
   "id": "bec74c7b-a68a-4a38-94b9-478941a2c16f",
   "metadata": {},
   "outputs": [],
   "source": [
    "df_nuts3['geo_source'] = 'NUTS2016'\n",
    "df_nuts3['obsTime'] = 'Oct. 2021'\n",
    "df_nuts3.rename(columns={'user_loc':'geo', 'fr_loc':'friend_geo', 'scaled_sci':'obsValue'}, inplace=True)\n",
    "\n",
    "# remove values that are based on GDAM levels\n",
    "list_nuts3 = list(gadm_nuts3[gadm_nuts3['level']=='nuts3']['key'].values)\n",
    "df_nuts3_sim = df_nuts3[(df_nuts3['geo'].isin(list_nuts3))&(df_nuts3['friend_geo'].isin(list_nuts3))]"
   ]
  },
  {
   "cell_type": "markdown",
   "id": "f6b73699-5f77-4d8f-8e4f-c9390f0ff849",
   "metadata": {},
   "source": [
    "# 2. concatenante and reformat the table"
   ]
  },
  {
   "cell_type": "code",
   "execution_count": 54,
   "id": "f241c777-e84c-47e1-9600-ecd3355f5b55",
   "metadata": {},
   "outputs": [],
   "source": [
    "df_nuts = pd.concat([df_countries, df_nuts2_sim, df_nuts3_sim])\n",
    "df_nuts['id'] = df_nuts.reset_index().index\n",
    "df_nuts = df_nuts[['id'] + [i for i in df_nuts.columns if i not in ['geo_source', 'id']]+['geo_source']]"
   ]
  },
  {
   "cell_type": "code",
   "execution_count": 62,
   "id": "1fb03d79-9c91-4bb2-bbb6-244bd2d14243",
   "metadata": {},
   "outputs": [],
   "source": [
    "df_nuts.to_csv(save_folder + '\\\\' + 'social connectedness index.csv', index = False)"
   ]
  },
  {
   "cell_type": "code",
   "execution_count": null,
   "id": "7154da4e-a2cd-4290-b8c8-eca70218eaf0",
   "metadata": {},
   "outputs": [],
   "source": []
  },
  {
   "cell_type": "code",
   "execution_count": null,
   "id": "f86e1b18-6193-48bb-892e-02f3720e3802",
   "metadata": {},
   "outputs": [],
   "source": []
  },
  {
   "cell_type": "code",
   "execution_count": null,
   "id": "b623a5b3-73cc-4431-8612-db5e4cf128fd",
   "metadata": {},
   "outputs": [],
   "source": []
  },
  {
   "cell_type": "code",
   "execution_count": null,
   "id": "5d181788-5a3f-41ee-8528-157100f563a7",
   "metadata": {},
   "outputs": [],
   "source": []
  },
  {
   "cell_type": "code",
   "execution_count": null,
   "id": "45163d69-a04a-4b3a-9c03-bfc8e7ce7fda",
   "metadata": {},
   "outputs": [],
   "source": []
  },
  {
   "cell_type": "code",
   "execution_count": null,
   "id": "dd1e707d-7271-4d8f-a2ef-e4df6c3e8e66",
   "metadata": {},
   "outputs": [],
   "source": []
  },
  {
   "cell_type": "code",
   "execution_count": null,
   "id": "6b467d0f-653c-4358-b394-f098076e8806",
   "metadata": {},
   "outputs": [],
   "source": []
  },
  {
   "cell_type": "code",
   "execution_count": null,
   "id": "667bfeb0-a80d-4aec-8539-29a43f6026e4",
   "metadata": {},
   "outputs": [],
   "source": []
  },
  {
   "cell_type": "code",
   "execution_count": null,
   "id": "05f2920e-2004-4c5f-88c9-b84c68a95de6",
   "metadata": {},
   "outputs": [],
   "source": []
  },
  {
   "cell_type": "code",
   "execution_count": null,
   "id": "1c8b8d8a-3c97-49e2-8388-a188a85b5cfd",
   "metadata": {},
   "outputs": [],
   "source": []
  },
  {
   "cell_type": "code",
   "execution_count": null,
   "id": "0e188b09-ccf3-435b-892c-7263d8ddd576",
   "metadata": {},
   "outputs": [],
   "source": []
  },
  {
   "cell_type": "code",
   "execution_count": null,
   "id": "5bb45a32-12b7-4a64-8c83-323d56e8fec9",
   "metadata": {},
   "outputs": [],
   "source": []
  },
  {
   "cell_type": "code",
   "execution_count": null,
   "id": "7adc4a39-f375-4d71-872a-97cc4ac91588",
   "metadata": {},
   "outputs": [],
   "source": []
  },
  {
   "cell_type": "code",
   "execution_count": null,
   "id": "376f9f7a-b279-4658-af99-4e98ad9214b5",
   "metadata": {},
   "outputs": [],
   "source": []
  },
  {
   "cell_type": "code",
   "execution_count": null,
   "id": "85bcc93b-d69b-4040-a23c-e3721dffe4cc",
   "metadata": {},
   "outputs": [],
   "source": []
  },
  {
   "cell_type": "code",
   "execution_count": null,
   "id": "6b79fbda-4497-4076-921b-8ab2f12721d9",
   "metadata": {},
   "outputs": [],
   "source": []
  },
  {
   "cell_type": "code",
   "execution_count": null,
   "id": "561fb21a-3923-462d-a853-2a5bc3ea4d4a",
   "metadata": {},
   "outputs": [],
   "source": []
  },
  {
   "cell_type": "code",
   "execution_count": null,
   "id": "5515e22c-16f7-401a-b45a-1daef69569b7",
   "metadata": {},
   "outputs": [],
   "source": []
  },
  {
   "cell_type": "code",
   "execution_count": null,
   "id": "8427a979-f8ab-4ee6-a64d-bf013ca90cb8",
   "metadata": {},
   "outputs": [],
   "source": []
  },
  {
   "cell_type": "code",
   "execution_count": null,
   "id": "681ac818-7fd1-4ce8-a192-bd85843e15d3",
   "metadata": {},
   "outputs": [],
   "source": []
  },
  {
   "cell_type": "code",
   "execution_count": null,
   "id": "4f59b4ef-faf6-468c-88a7-0600ba5e23d9",
   "metadata": {},
   "outputs": [],
   "source": []
  },
  {
   "cell_type": "code",
   "execution_count": null,
   "id": "690d7e81-4285-4ace-a782-7f9e861ba895",
   "metadata": {},
   "outputs": [],
   "source": []
  },
  {
   "cell_type": "code",
   "execution_count": null,
   "id": "b2ed9697-26dd-4a33-9163-8591148ea9ef",
   "metadata": {},
   "outputs": [],
   "source": []
  },
  {
   "cell_type": "code",
   "execution_count": null,
   "id": "149086be-3679-44a6-ba47-04db469e56d0",
   "metadata": {},
   "outputs": [],
   "source": []
  },
  {
   "cell_type": "code",
   "execution_count": null,
   "id": "10480c96-04ff-47da-8e90-c202c3e08a46",
   "metadata": {},
   "outputs": [],
   "source": []
  },
  {
   "cell_type": "code",
   "execution_count": null,
   "id": "f1c608ee-28fa-4640-a221-c16f5890b3bd",
   "metadata": {},
   "outputs": [],
   "source": []
  },
  {
   "cell_type": "code",
   "execution_count": null,
   "id": "061a87f4-cb43-4f88-a34b-87f82faa750a",
   "metadata": {},
   "outputs": [],
   "source": []
  },
  {
   "cell_type": "code",
   "execution_count": null,
   "id": "08361d81-eb92-4402-b863-f76289dacc8c",
   "metadata": {},
   "outputs": [],
   "source": []
  },
  {
   "cell_type": "code",
   "execution_count": null,
   "id": "fc6b2b8e-a04c-486e-9c7e-d5bb4e1ea2cd",
   "metadata": {},
   "outputs": [],
   "source": []
  },
  {
   "cell_type": "code",
   "execution_count": null,
   "id": "1cf3a2a5-1345-455e-b7a0-79b11a663de1",
   "metadata": {},
   "outputs": [],
   "source": []
  },
  {
   "cell_type": "code",
   "execution_count": null,
   "id": "08abb69e-6609-4428-b61c-0e36e114b1e6",
   "metadata": {},
   "outputs": [],
   "source": []
  },
  {
   "cell_type": "code",
   "execution_count": null,
   "id": "0c686f02-b633-4cca-ba88-f22d7e44d1c8",
   "metadata": {},
   "outputs": [],
   "source": []
  },
  {
   "cell_type": "code",
   "execution_count": null,
   "id": "a4ad146d-2906-4362-9e1b-1c0a268970f6",
   "metadata": {},
   "outputs": [],
   "source": []
  },
  {
   "cell_type": "code",
   "execution_count": null,
   "id": "b677c18b-0254-47be-9c21-27af6ae23a02",
   "metadata": {},
   "outputs": [],
   "source": []
  }
 ],
 "metadata": {
  "kernelspec": {
   "display_name": "Python 3 (ipykernel)",
   "language": "python",
   "name": "python3"
  },
  "language_info": {
   "codemirror_mode": {
    "name": "ipython",
    "version": 3
   },
   "file_extension": ".py",
   "mimetype": "text/x-python",
   "name": "python",
   "nbconvert_exporter": "python",
   "pygments_lexer": "ipython3",
   "version": "3.12.3"
  }
 },
 "nbformat": 4,
 "nbformat_minor": 5
}
