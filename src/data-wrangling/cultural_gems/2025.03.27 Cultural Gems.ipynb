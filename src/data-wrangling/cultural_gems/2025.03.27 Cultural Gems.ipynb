{
 "cells": [
  {
   "cell_type": "code",
   "execution_count": 1,
   "id": "f6f39aff-677b-4a8e-8027-68451ac5a36d",
   "metadata": {},
   "outputs": [],
   "source": [
    "import requests\n",
    "import json\n",
    "import re\n",
    "import pandas as pd\n",
    "import numpy as np\n",
    "import geopandas as gpd\n",
    "from tqdm import tqdm"
   ]
  },
  {
   "cell_type": "markdown",
   "id": "292218a6-a327-4710-86d0-dbd5cc2a0baf",
   "metadata": {},
   "source": [
    "## 1. Request the lon and lat information of all POIs using api\n",
    "### 1.1 Walk through all EU countries and request POIs of all categories in all regions in each country\n",
    "The maximal number of returned POIs is 5000. Some countries might have more than 5000 POIs in the first round of request. Document those missing countries in a list"
   ]
  },
  {
   "cell_type": "code",
   "execution_count": 221,
   "id": "3d6df998-1d08-423a-b5d3-ac73a4812706",
   "metadata": {},
   "outputs": [],
   "source": [
    "url_dict = {'Albania':r'https://cultural-gems.jrc.ec.europa.eu/geoserver/gems/ows?service=WFS&version=1.0.0&request=GetFeature&typeName=gems:all_osm&srsName=EPSG:4326&CQL_FILTER=(%22category%22%20LIKE%20%27%25EUCultureFromHome%25%27%20OR%20%22category%22%20LIKE%20%27%25Aqueducts%25%27%20OR%20%22category%22%20LIKE%20%27%25Archaeological%20sites%25%27%20OR%20%22category%22%20LIKE%20%27%25Art%20gallery%25%27%20OR%20%22category%22%20LIKE%20%27%25Arts%20centre%25%27%20OR%20%22category%22%20LIKE%20%27%25Attraction%25%27%20OR%20%22category%22%20LIKE%20%27%25Castles%25%27%20OR%20%22category%22%20LIKE%20%27%25Church%25%27%20OR%20%22category%22%20LIKE%20%27%25Cinema%25%27%20OR%20%22category%22%20LIKE%20%27%25City%20gate%25%27%20OR%20%22category%22%20LIKE%20%27%25City%20walls%25%27%20OR%20%22category%22%20LIKE%20%27%25Community%20centre%25%27%20OR%20%22category%22%20LIKE%20%27%25Crypt%25%27%20OR%20%22category%22%20LIKE%20%27%25Fountain%25%27%20OR%20%22category%22%20LIKE%20%27%25Historic%20building%25%27%20OR%20%22category%22%20LIKE%20%27%25Manors%25%27%20OR%20%22category%22%20LIKE%20%27%25Memorial%25%27%20OR%20%22category%22%20LIKE%20%27%25Monastery%25%27%20OR%20%22category%22%20LIKE%20%27%25Monument%25%27%20OR%20%22category%22%20LIKE%20%27%25Museum%25%27%20OR%20%22category%22%20LIKE%20%27%25Music%20venue%25%27%20OR%20%22category%22%20LIKE%20%27%25Place%20of%20worship%25%27%20OR%20%22category%22%20LIKE%20%27%25Planetarium%25%27%20OR%20%22category%22%20LIKE%20%27%25Public%20artworks%25%27%20OR%20%22category%22%20LIKE%20%27%25Public%20library%25%27%20OR%20%22category%22%20LIKE%20%27%25Social%20centre%25%27%20OR%20%22category%22%20LIKE%20%27%25Theatre%25%27%20OR%20%22category%22%20LIKE%20%27%25Viewpoint%25%27)%20AND%20(%22nuts_id%22%20==%20%27AL03%27%20OR%20%22nuts_id%22%20==%20%27AL02%27%20OR%20%22nuts_id%22%20==%20%27AL01%27)&,urn:ogc:def:crs:EPSG:3857&outputFormat=application%2Fjson&maxFeatures=5000',\n",
    "           'Austria':r'https://cultural-gems.jrc.ec.europa.eu/geoserver/gems/ows?service=WFS&version=1.0.0&request=GetFeature&typeName=gems:all_osm&srsName=EPSG:4326&CQL_FILTER=(%22category%22%20LIKE%20%27%25EUCultureFromHome%25%27%20OR%20%22category%22%20LIKE%20%27%25Aqueducts%25%27%20OR%20%22category%22%20LIKE%20%27%25Archaeological%20sites%25%27%20OR%20%22category%22%20LIKE%20%27%25Art%20gallery%25%27%20OR%20%22category%22%20LIKE%20%27%25Arts%20centre%25%27%20OR%20%22category%22%20LIKE%20%27%25Attraction%25%27%20OR%20%22category%22%20LIKE%20%27%25Castles%25%27%20OR%20%22category%22%20LIKE%20%27%25Church%25%27%20OR%20%22category%22%20LIKE%20%27%25Cinema%25%27%20OR%20%22category%22%20LIKE%20%27%25City%20gate%25%27%20OR%20%22category%22%20LIKE%20%27%25City%20walls%25%27%20OR%20%22category%22%20LIKE%20%27%25Community%20centre%25%27%20OR%20%22category%22%20LIKE%20%27%25Crypt%25%27%20OR%20%22category%22%20LIKE%20%27%25Fountain%25%27%20OR%20%22category%22%20LIKE%20%27%25Historic%20building%25%27%20OR%20%22category%22%20LIKE%20%27%25Manors%25%27%20OR%20%22category%22%20LIKE%20%27%25Memorial%25%27%20OR%20%22category%22%20LIKE%20%27%25Monastery%25%27%20OR%20%22category%22%20LIKE%20%27%25Monument%25%27%20OR%20%22category%22%20LIKE%20%27%25Museum%25%27%20OR%20%22category%22%20LIKE%20%27%25Music%20venue%25%27%20OR%20%22category%22%20LIKE%20%27%25Place%20of%20worship%25%27%20OR%20%22category%22%20LIKE%20%27%25Planetarium%25%27%20OR%20%22category%22%20LIKE%20%27%25Public%20artworks%25%27%20OR%20%22category%22%20LIKE%20%27%25Public%20library%25%27%20OR%20%22category%22%20LIKE%20%27%25Social%20centre%25%27%20OR%20%22category%22%20LIKE%20%27%25Theatre%25%27%20OR%20%22category%22%20LIKE%20%27%25Viewpoint%25%27)%20AND%20(%22nuts_id%22%20==%20%27AT11%27%20OR%20%22nuts_id%22%20==%20%27AT21%27%20OR%20%22nuts_id%22%20==%20%27AT12%27%20OR%20%22nuts_id%22%20==%20%27AT31%27%20OR%20%22nuts_id%22%20==%20%27AT32%27%20OR%20%22nuts_id%22%20==%20%27AT22%27%20OR%20%22nuts_id%22%20==%20%27AT33%27%20OR%20%22nuts_id%22%20==%20%27AT34%27%20OR%20%22nuts_id%22%20==%20%27AT13%27)&,urn:ogc:def:crs:EPSG:3857&outputFormat=application%2Fjson&maxFeatures=5000',\n",
    "           'Belgium':r'https://cultural-gems.jrc.ec.europa.eu/geoserver/gems/ows?service=WFS&version=1.0.0&request=GetFeature&typeName=gems:all_osm&srsName=EPSG:4326&CQL_FILTER=(%22category%22%20LIKE%20%27%25EUCultureFromHome%25%27%20OR%20%22category%22%20LIKE%20%27%25Aqueducts%25%27%20OR%20%22category%22%20LIKE%20%27%25Archaeological%20sites%25%27%20OR%20%22category%22%20LIKE%20%27%25Art%20gallery%25%27%20OR%20%22category%22%20LIKE%20%27%25Arts%20centre%25%27%20OR%20%22category%22%20LIKE%20%27%25Attraction%25%27%20OR%20%22category%22%20LIKE%20%27%25Castles%25%27%20OR%20%22category%22%20LIKE%20%27%25Church%25%27%20OR%20%22category%22%20LIKE%20%27%25Cinema%25%27%20OR%20%22category%22%20LIKE%20%27%25City%20gate%25%27%20OR%20%22category%22%20LIKE%20%27%25City%20walls%25%27%20OR%20%22category%22%20LIKE%20%27%25Community%20centre%25%27%20OR%20%22category%22%20LIKE%20%27%25Crypt%25%27%20OR%20%22category%22%20LIKE%20%27%25Fountain%25%27%20OR%20%22category%22%20LIKE%20%27%25Historic%20building%25%27%20OR%20%22category%22%20LIKE%20%27%25Manors%25%27%20OR%20%22category%22%20LIKE%20%27%25Memorial%25%27%20OR%20%22category%22%20LIKE%20%27%25Monastery%25%27%20OR%20%22category%22%20LIKE%20%27%25Monument%25%27%20OR%20%22category%22%20LIKE%20%27%25Museum%25%27%20OR%20%22category%22%20LIKE%20%27%25Music%20venue%25%27%20OR%20%22category%22%20LIKE%20%27%25Place%20of%20worship%25%27%20OR%20%22category%22%20LIKE%20%27%25Planetarium%25%27%20OR%20%22category%22%20LIKE%20%27%25Public%20artworks%25%27%20OR%20%22category%22%20LIKE%20%27%25Public%20library%25%27%20OR%20%22category%22%20LIKE%20%27%25Social%20centre%25%27%20OR%20%22category%22%20LIKE%20%27%25Theatre%25%27%20OR%20%22category%22%20LIKE%20%27%25Viewpoint%25%27)%20AND%20(%22nuts_id%22%20==%20%27BE21%27%20OR%20%22nuts_id%22%20==%20%27BE31%27%20OR%20%22nuts_id%22%20==%20%27BE32%27%20OR%20%22nuts_id%22%20==%20%27BE22%27%20OR%20%22nuts_id%22%20==%20%27BE33%27%20OR%20%22nuts_id%22%20==%20%27BE34%27%20OR%20%22nuts_id%22%20==%20%27BE35%27%20OR%20%22nuts_id%22%20==%20%27BE23%27%20OR%20%22nuts_id%22%20==%20%27BE24%27%20OR%20%22nuts_id%22%20==%20%27BE25%27%20OR%20%22nuts_id%22%20==%20%27BE10%27)&,urn:ogc:def:crs:EPSG:3857&outputFormat=application%2Fjson&maxFeatures=5000',\n",
    "           'Bosnia and Herzegovina':r'https://cultural-gems.jrc.ec.europa.eu/geoserver/gems/ows?service=WFS&version=1.0.0&request=GetFeature&typeName=gems:all_osm&srsName=EPSG:4326&CQL_FILTER=(%22category%22%20LIKE%20%27%25EUCultureFromHome%25%27%20OR%20%22category%22%20LIKE%20%27%25Aqueducts%25%27%20OR%20%22category%22%20LIKE%20%27%25Archaeological%20sites%25%27%20OR%20%22category%22%20LIKE%20%27%25Art%20gallery%25%27%20OR%20%22category%22%20LIKE%20%27%25Arts%20centre%25%27%20OR%20%22category%22%20LIKE%20%27%25Attraction%25%27%20OR%20%22category%22%20LIKE%20%27%25Castles%25%27%20OR%20%22category%22%20LIKE%20%27%25Church%25%27%20OR%20%22category%22%20LIKE%20%27%25Cinema%25%27%20OR%20%22category%22%20LIKE%20%27%25City%20gate%25%27%20OR%20%22category%22%20LIKE%20%27%25City%20walls%25%27%20OR%20%22category%22%20LIKE%20%27%25Community%20centre%25%27%20OR%20%22category%22%20LIKE%20%27%25Crypt%25%27%20OR%20%22category%22%20LIKE%20%27%25Fountain%25%27%20OR%20%22category%22%20LIKE%20%27%25Historic%20building%25%27%20OR%20%22category%22%20LIKE%20%27%25Manors%25%27%20OR%20%22category%22%20LIKE%20%27%25Memorial%25%27%20OR%20%22category%22%20LIKE%20%27%25Monastery%25%27%20OR%20%22category%22%20LIKE%20%27%25Monument%25%27%20OR%20%22category%22%20LIKE%20%27%25Museum%25%27%20OR%20%22category%22%20LIKE%20%27%25Music%20venue%25%27%20OR%20%22category%22%20LIKE%20%27%25Place%20of%20worship%25%27%20OR%20%22category%22%20LIKE%20%27%25Planetarium%25%27%20OR%20%22category%22%20LIKE%20%27%25Public%20artworks%25%27%20OR%20%22category%22%20LIKE%20%27%25Public%20library%25%27%20OR%20%22category%22%20LIKE%20%27%25Social%20centre%25%27%20OR%20%22category%22%20LIKE%20%27%25Theatre%25%27%20OR%20%22category%22%20LIKE%20%27%25Viewpoint%25%27)%20AND%20(%22nuts_id%22%20==%20%27BA%27)&,urn:ogc:def:crs:EPSG:3857&outputFormat=application%2Fjson&maxFeatures=5000',\n",
    "           'Bulgaria':r'https://cultural-gems.jrc.ec.europa.eu/geoserver/gems/ows?service=WFS&version=1.0.0&request=GetFeature&typeName=gems:all_osm&srsName=EPSG:4326&CQL_FILTER=(%22category%22%20LIKE%20%27%25EUCultureFromHome%25%27%20OR%20%22category%22%20LIKE%20%27%25Aqueducts%25%27%20OR%20%22category%22%20LIKE%20%27%25Archaeological%20sites%25%27%20OR%20%22category%22%20LIKE%20%27%25Art%20gallery%25%27%20OR%20%22category%22%20LIKE%20%27%25Arts%20centre%25%27%20OR%20%22category%22%20LIKE%20%27%25Attraction%25%27%20OR%20%22category%22%20LIKE%20%27%25Castles%25%27%20OR%20%22category%22%20LIKE%20%27%25Church%25%27%20OR%20%22category%22%20LIKE%20%27%25Cinema%25%27%20OR%20%22category%22%20LIKE%20%27%25City%20gate%25%27%20OR%20%22category%22%20LIKE%20%27%25City%20walls%25%27%20OR%20%22category%22%20LIKE%20%27%25Community%20centre%25%27%20OR%20%22category%22%20LIKE%20%27%25Crypt%25%27%20OR%20%22category%22%20LIKE%20%27%25Fountain%25%27%20OR%20%22category%22%20LIKE%20%27%25Historic%20building%25%27%20OR%20%22category%22%20LIKE%20%27%25Manors%25%27%20OR%20%22category%22%20LIKE%20%27%25Memorial%25%27%20OR%20%22category%22%20LIKE%20%27%25Monastery%25%27%20OR%20%22category%22%20LIKE%20%27%25Monument%25%27%20OR%20%22category%22%20LIKE%20%27%25Museum%25%27%20OR%20%22category%22%20LIKE%20%27%25Music%20venue%25%27%20OR%20%22category%22%20LIKE%20%27%25Place%20of%20worship%25%27%20OR%20%22category%22%20LIKE%20%27%25Planetarium%25%27%20OR%20%22category%22%20LIKE%20%27%25Public%20artworks%25%27%20OR%20%22category%22%20LIKE%20%27%25Public%20library%25%27%20OR%20%22category%22%20LIKE%20%27%25Social%20centre%25%27%20OR%20%22category%22%20LIKE%20%27%25Theatre%25%27%20OR%20%22category%22%20LIKE%20%27%25Viewpoint%25%27)%20AND%20(%22nuts_id%22%20==%20%27BG32%27%20OR%20%22nuts_id%22%20==%20%27BG33%27%20OR%20%22nuts_id%22%20==%20%27BG31%27%20OR%20%22nuts_id%22%20==%20%27BG34%27%20OR%20%22nuts_id%22%20==%20%27BG41%27%20OR%20%22nuts_id%22%20==%20%27BG42%27)&,urn:ogc:def:crs:EPSG:3857&outputFormat=application%2Fjson&maxFeatures=5000',\n",
    "           'Croatia':r'https://cultural-gems.jrc.ec.europa.eu/geoserver/gems/ows?service=WFS&version=1.0.0&request=GetFeature&typeName=gems:all_osm&srsName=EPSG:4326&CQL_FILTER=(%22category%22%20LIKE%20%27%25EUCultureFromHome%25%27%20OR%20%22category%22%20LIKE%20%27%25Aqueducts%25%27%20OR%20%22category%22%20LIKE%20%27%25Archaeological%20sites%25%27%20OR%20%22category%22%20LIKE%20%27%25Art%20gallery%25%27%20OR%20%22category%22%20LIKE%20%27%25Arts%20centre%25%27%20OR%20%22category%22%20LIKE%20%27%25Attraction%25%27%20OR%20%22category%22%20LIKE%20%27%25Castles%25%27%20OR%20%22category%22%20LIKE%20%27%25Church%25%27%20OR%20%22category%22%20LIKE%20%27%25Cinema%25%27%20OR%20%22category%22%20LIKE%20%27%25City%20gate%25%27%20OR%20%22category%22%20LIKE%20%27%25City%20walls%25%27%20OR%20%22category%22%20LIKE%20%27%25Community%20centre%25%27%20OR%20%22category%22%20LIKE%20%27%25Crypt%25%27%20OR%20%22category%22%20LIKE%20%27%25Fountain%25%27%20OR%20%22category%22%20LIKE%20%27%25Historic%20building%25%27%20OR%20%22category%22%20LIKE%20%27%25Manors%25%27%20OR%20%22category%22%20LIKE%20%27%25Memorial%25%27%20OR%20%22category%22%20LIKE%20%27%25Monastery%25%27%20OR%20%22category%22%20LIKE%20%27%25Monument%25%27%20OR%20%22category%22%20LIKE%20%27%25Museum%25%27%20OR%20%22category%22%20LIKE%20%27%25Music%20venue%25%27%20OR%20%22category%22%20LIKE%20%27%25Place%20of%20worship%25%27%20OR%20%22category%22%20LIKE%20%27%25Planetarium%25%27%20OR%20%22category%22%20LIKE%20%27%25Public%20artworks%25%27%20OR%20%22category%22%20LIKE%20%27%25Public%20library%25%27%20OR%20%22category%22%20LIKE%20%27%25Social%20centre%25%27%20OR%20%22category%22%20LIKE%20%27%25Theatre%25%27%20OR%20%22category%22%20LIKE%20%27%25Viewpoint%25%27)%20AND%20(%22nuts_id%22%20==%20%27HR05%27%20OR%20%22nuts_id%22%20==%20%27HR03%27%20OR%20%22nuts_id%22%20==%20%27HR02%27%20OR%20%22nuts_id%22%20==%20%27HR06%27)&,urn:ogc:def:crs:EPSG:3857&outputFormat=application%2Fjson&maxFeatures=5000',\n",
    "           'Cyprus':r'https://cultural-gems.jrc.ec.europa.eu/geoserver/gems/ows?service=WFS&version=1.0.0&request=GetFeature&typeName=gems:all_osm&srsName=EPSG:4326&CQL_FILTER=(%22category%22%20LIKE%20%27%25EUCultureFromHome%25%27%20OR%20%22category%22%20LIKE%20%27%25Aqueducts%25%27%20OR%20%22category%22%20LIKE%20%27%25Archaeological%20sites%25%27%20OR%20%22category%22%20LIKE%20%27%25Art%20gallery%25%27%20OR%20%22category%22%20LIKE%20%27%25Arts%20centre%25%27%20OR%20%22category%22%20LIKE%20%27%25Attraction%25%27%20OR%20%22category%22%20LIKE%20%27%25Castles%25%27%20OR%20%22category%22%20LIKE%20%27%25Church%25%27%20OR%20%22category%22%20LIKE%20%27%25Cinema%25%27%20OR%20%22category%22%20LIKE%20%27%25City%20gate%25%27%20OR%20%22category%22%20LIKE%20%27%25City%20walls%25%27%20OR%20%22category%22%20LIKE%20%27%25Community%20centre%25%27%20OR%20%22category%22%20LIKE%20%27%25Crypt%25%27%20OR%20%22category%22%20LIKE%20%27%25Fountain%25%27%20OR%20%22category%22%20LIKE%20%27%25Historic%20building%25%27%20OR%20%22category%22%20LIKE%20%27%25Manors%25%27%20OR%20%22category%22%20LIKE%20%27%25Memorial%25%27%20OR%20%22category%22%20LIKE%20%27%25Monastery%25%27%20OR%20%22category%22%20LIKE%20%27%25Monument%25%27%20OR%20%22category%22%20LIKE%20%27%25Museum%25%27%20OR%20%22category%22%20LIKE%20%27%25Music%20venue%25%27%20OR%20%22category%22%20LIKE%20%27%25Place%20of%20worship%25%27%20OR%20%22category%22%20LIKE%20%27%25Planetarium%25%27%20OR%20%22category%22%20LIKE%20%27%25Public%20artworks%25%27%20OR%20%22category%22%20LIKE%20%27%25Public%20library%25%27%20OR%20%22category%22%20LIKE%20%27%25Social%20centre%25%27%20OR%20%22category%22%20LIKE%20%27%25Theatre%25%27%20OR%20%22category%22%20LIKE%20%27%25Viewpoint%25%27)%20AND%20(%22nuts_id%22%20==%20%27CY00%27)&,urn:ogc:def:crs:EPSG:3857&outputFormat=application%2Fjson&maxFeatures=5000',\n",
    "           'Czechia':r'https://cultural-gems.jrc.ec.europa.eu/geoserver/gems/ows?service=WFS&version=1.0.0&request=GetFeature&typeName=gems:all_osm&srsName=EPSG:4326&CQL_FILTER=(%22category%22%20LIKE%20%27%25EUCultureFromHome%25%27%20OR%20%22category%22%20LIKE%20%27%25Aqueducts%25%27%20OR%20%22category%22%20LIKE%20%27%25Archaeological%20sites%25%27%20OR%20%22category%22%20LIKE%20%27%25Art%20gallery%25%27%20OR%20%22category%22%20LIKE%20%27%25Arts%20centre%25%27%20OR%20%22category%22%20LIKE%20%27%25Attraction%25%27%20OR%20%22category%22%20LIKE%20%27%25Castles%25%27%20OR%20%22category%22%20LIKE%20%27%25Church%25%27%20OR%20%22category%22%20LIKE%20%27%25Cinema%25%27%20OR%20%22category%22%20LIKE%20%27%25City%20gate%25%27%20OR%20%22category%22%20LIKE%20%27%25City%20walls%25%27%20OR%20%22category%22%20LIKE%20%27%25Community%20centre%25%27%20OR%20%22category%22%20LIKE%20%27%25Crypt%25%27%20OR%20%22category%22%20LIKE%20%27%25Fountain%25%27%20OR%20%22category%22%20LIKE%20%27%25Historic%20building%25%27%20OR%20%22category%22%20LIKE%20%27%25Manors%25%27%20OR%20%22category%22%20LIKE%20%27%25Memorial%25%27%20OR%20%22category%22%20LIKE%20%27%25Monastery%25%27%20OR%20%22category%22%20LIKE%20%27%25Monument%25%27%20OR%20%22category%22%20LIKE%20%27%25Museum%25%27%20OR%20%22category%22%20LIKE%20%27%25Music%20venue%25%27%20OR%20%22category%22%20LIKE%20%27%25Place%20of%20worship%25%27%20OR%20%22category%22%20LIKE%20%27%25Planetarium%25%27%20OR%20%22category%22%20LIKE%20%27%25Public%20artworks%25%27%20OR%20%22category%22%20LIKE%20%27%25Public%20library%25%27%20OR%20%22category%22%20LIKE%20%27%25Social%20centre%25%27%20OR%20%22category%22%20LIKE%20%27%25Theatre%25%27%20OR%20%22category%22%20LIKE%20%27%25Viewpoint%25%27)%20AND%20(%22nuts_id%22%20==%20%27CZ06%27%20OR%20%22nuts_id%22%20==%20%27CZ03%27%20OR%20%22nuts_id%22%20==%20%27CZ08%27%20OR%20%22nuts_id%22%20==%20%27CZ01%27%20OR%20%22nuts_id%22%20==%20%27CZ05%27%20OR%20%22nuts_id%22%20==%20%27CZ04%27%20OR%20%22nuts_id%22%20==%20%27CZ07%27%20OR%20%22nuts_id%22%20==%20%27CZ02%27)&,urn:ogc:def:crs:EPSG:3857&outputFormat=application%2Fjson&maxFeatures=5000',\n",
    "           'Denmark':r'https://cultural-gems.jrc.ec.europa.eu/geoserver/gems/ows?service=WFS&version=1.0.0&request=GetFeature&typeName=gems:all_osm&srsName=EPSG:4326&CQL_FILTER=(%22category%22%20LIKE%20%27%25EUCultureFromHome%25%27%20OR%20%22category%22%20LIKE%20%27%25Aqueducts%25%27%20OR%20%22category%22%20LIKE%20%27%25Archaeological%20sites%25%27%20OR%20%22category%22%20LIKE%20%27%25Art%20gallery%25%27%20OR%20%22category%22%20LIKE%20%27%25Arts%20centre%25%27%20OR%20%22category%22%20LIKE%20%27%25Attraction%25%27%20OR%20%22category%22%20LIKE%20%27%25Castles%25%27%20OR%20%22category%22%20LIKE%20%27%25Church%25%27%20OR%20%22category%22%20LIKE%20%27%25Cinema%25%27%20OR%20%22category%22%20LIKE%20%27%25City%20gate%25%27%20OR%20%22category%22%20LIKE%20%27%25City%20walls%25%27%20OR%20%22category%22%20LIKE%20%27%25Community%20centre%25%27%20OR%20%22category%22%20LIKE%20%27%25Crypt%25%27%20OR%20%22category%22%20LIKE%20%27%25Fountain%25%27%20OR%20%22category%22%20LIKE%20%27%25Historic%20building%25%27%20OR%20%22category%22%20LIKE%20%27%25Manors%25%27%20OR%20%22category%22%20LIKE%20%27%25Memorial%25%27%20OR%20%22category%22%20LIKE%20%27%25Monastery%25%27%20OR%20%22category%22%20LIKE%20%27%25Monument%25%27%20OR%20%22category%22%20LIKE%20%27%25Museum%25%27%20OR%20%22category%22%20LIKE%20%27%25Music%20venue%25%27%20OR%20%22category%22%20LIKE%20%27%25Place%20of%20worship%25%27%20OR%20%22category%22%20LIKE%20%27%25Planetarium%25%27%20OR%20%22category%22%20LIKE%20%27%25Public%20artworks%25%27%20OR%20%22category%22%20LIKE%20%27%25Public%20library%25%27%20OR%20%22category%22%20LIKE%20%27%25Social%20centre%25%27%20OR%20%22category%22%20LIKE%20%27%25Theatre%25%27%20OR%20%22category%22%20LIKE%20%27%25Viewpoint%25%27)%20AND%20(%22nuts_id%22%20==%20%27DK01%27%20OR%20%22nuts_id%22%20==%20%27DK04%27%20OR%20%22nuts_id%22%20==%20%27DK05%27%20OR%20%22nuts_id%22%20==%20%27DK02%27%20OR%20%22nuts_id%22%20==%20%27DK03%27)&,urn:ogc:def:crs:EPSG:3857&outputFormat=application%2Fjson&maxFeatures=5000',\n",
    "           'Estonia':r'https://cultural-gems.jrc.ec.europa.eu/geoserver/gems/ows?service=WFS&version=1.0.0&request=GetFeature&typeName=gems:all_osm&srsName=EPSG:4326&CQL_FILTER=(%22category%22%20LIKE%20%27%25EUCultureFromHome%25%27%20OR%20%22category%22%20LIKE%20%27%25Aqueducts%25%27%20OR%20%22category%22%20LIKE%20%27%25Archaeological%20sites%25%27%20OR%20%22category%22%20LIKE%20%27%25Art%20gallery%25%27%20OR%20%22category%22%20LIKE%20%27%25Arts%20centre%25%27%20OR%20%22category%22%20LIKE%20%27%25Attraction%25%27%20OR%20%22category%22%20LIKE%20%27%25Castles%25%27%20OR%20%22category%22%20LIKE%20%27%25Church%25%27%20OR%20%22category%22%20LIKE%20%27%25Cinema%25%27%20OR%20%22category%22%20LIKE%20%27%25City%20gate%25%27%20OR%20%22category%22%20LIKE%20%27%25City%20walls%25%27%20OR%20%22category%22%20LIKE%20%27%25Community%20centre%25%27%20OR%20%22category%22%20LIKE%20%27%25Crypt%25%27%20OR%20%22category%22%20LIKE%20%27%25Fountain%25%27%20OR%20%22category%22%20LIKE%20%27%25Historic%20building%25%27%20OR%20%22category%22%20LIKE%20%27%25Manors%25%27%20OR%20%22category%22%20LIKE%20%27%25Memorial%25%27%20OR%20%22category%22%20LIKE%20%27%25Monastery%25%27%20OR%20%22category%22%20LIKE%20%27%25Monument%25%27%20OR%20%22category%22%20LIKE%20%27%25Museum%25%27%20OR%20%22category%22%20LIKE%20%27%25Music%20venue%25%27%20OR%20%22category%22%20LIKE%20%27%25Place%20of%20worship%25%27%20OR%20%22category%22%20LIKE%20%27%25Planetarium%25%27%20OR%20%22category%22%20LIKE%20%27%25Public%20artworks%25%27%20OR%20%22category%22%20LIKE%20%27%25Public%20library%25%27%20OR%20%22category%22%20LIKE%20%27%25Social%20centre%25%27%20OR%20%22category%22%20LIKE%20%27%25Theatre%25%27%20OR%20%22category%22%20LIKE%20%27%25Viewpoint%25%27)%20AND%20(%22nuts_id%22%20==%20%27EE00%27%20OR%20%22nuts_id%22%20==%20%27DEE0%27)&,urn:ogc:def:crs:EPSG:3857&outputFormat=application%2Fjson&maxFeatures=5000',\n",
    "           'Finland':r'https://cultural-gems.jrc.ec.europa.eu/geoserver/gems/ows?service=WFS&version=1.0.0&request=GetFeature&typeName=gems:all_osm&srsName=EPSG:4326&CQL_FILTER=(%22category%22%20LIKE%20%27%25EUCultureFromHome%25%27%20OR%20%22category%22%20LIKE%20%27%25Aqueducts%25%27%20OR%20%22category%22%20LIKE%20%27%25Archaeological%20sites%25%27%20OR%20%22category%22%20LIKE%20%27%25Art%20gallery%25%27%20OR%20%22category%22%20LIKE%20%27%25Arts%20centre%25%27%20OR%20%22category%22%20LIKE%20%27%25Attraction%25%27%20OR%20%22category%22%20LIKE%20%27%25Castles%25%27%20OR%20%22category%22%20LIKE%20%27%25Church%25%27%20OR%20%22category%22%20LIKE%20%27%25Cinema%25%27%20OR%20%22category%22%20LIKE%20%27%25City%20gate%25%27%20OR%20%22category%22%20LIKE%20%27%25City%20walls%25%27%20OR%20%22category%22%20LIKE%20%27%25Community%20centre%25%27%20OR%20%22category%22%20LIKE%20%27%25Crypt%25%27%20OR%20%22category%22%20LIKE%20%27%25Fountain%25%27%20OR%20%22category%22%20LIKE%20%27%25Historic%20building%25%27%20OR%20%22category%22%20LIKE%20%27%25Manors%25%27%20OR%20%22category%22%20LIKE%20%27%25Memorial%25%27%20OR%20%22category%22%20LIKE%20%27%25Monastery%25%27%20OR%20%22category%22%20LIKE%20%27%25Monument%25%27%20OR%20%22category%22%20LIKE%20%27%25Museum%25%27%20OR%20%22category%22%20LIKE%20%27%25Music%20venue%25%27%20OR%20%22category%22%20LIKE%20%27%25Place%20of%20worship%25%27%20OR%20%22category%22%20LIKE%20%27%25Planetarium%25%27%20OR%20%22category%22%20LIKE%20%27%25Public%20artworks%25%27%20OR%20%22category%22%20LIKE%20%27%25Public%20library%25%27%20OR%20%22category%22%20LIKE%20%27%25Social%20centre%25%27%20OR%20%22category%22%20LIKE%20%27%25Theatre%25%27%20OR%20%22category%22%20LIKE%20%27%25Viewpoint%25%27)%20AND%20(%22nuts_id%22%20==%20%27FI1C%27%20OR%20%22nuts_id%22%20==%20%27FI1B%27%20OR%20%22nuts_id%22%20==%20%27FI19%27%20OR%20%22nuts_id%22%20==%20%27FI1D%27%20OR%20%22nuts_id%22%20==%20%27FI20%27)&,urn:ogc:def:crs:EPSG:3857&outputFormat=application%2Fjson&maxFeatures=5000',\n",
    "           'France':r'https://cultural-gems.jrc.ec.europa.eu/geoserver/gems/ows?service=WFS&version=1.0.0&request=GetFeature&typeName=gems:all_osm&srsName=EPSG:4326&CQL_FILTER=(%22category%22%20LIKE%20%27%25EUCultureFromHome%25%27%20OR%20%22category%22%20LIKE%20%27%25Aqueducts%25%27%20OR%20%22category%22%20LIKE%20%27%25Archaeological%20sites%25%27%20OR%20%22category%22%20LIKE%20%27%25Art%20gallery%25%27%20OR%20%22category%22%20LIKE%20%27%25Arts%20centre%25%27%20OR%20%22category%22%20LIKE%20%27%25Attraction%25%27%20OR%20%22category%22%20LIKE%20%27%25Castles%25%27%20OR%20%22category%22%20LIKE%20%27%25Church%25%27%20OR%20%22category%22%20LIKE%20%27%25Cinema%25%27%20OR%20%22category%22%20LIKE%20%27%25City%20gate%25%27%20OR%20%22category%22%20LIKE%20%27%25City%20walls%25%27%20OR%20%22category%22%20LIKE%20%27%25Community%20centre%25%27%20OR%20%22category%22%20LIKE%20%27%25Crypt%25%27%20OR%20%22category%22%20LIKE%20%27%25Fountain%25%27%20OR%20%22category%22%20LIKE%20%27%25Historic%20building%25%27%20OR%20%22category%22%20LIKE%20%27%25Manors%25%27%20OR%20%22category%22%20LIKE%20%27%25Memorial%25%27%20OR%20%22category%22%20LIKE%20%27%25Monastery%25%27%20OR%20%22category%22%20LIKE%20%27%25Monument%25%27%20OR%20%22category%22%20LIKE%20%27%25Museum%25%27%20OR%20%22category%22%20LIKE%20%27%25Music%20venue%25%27%20OR%20%22category%22%20LIKE%20%27%25Place%20of%20worship%25%27%20OR%20%22category%22%20LIKE%20%27%25Planetarium%25%27%20OR%20%22category%22%20LIKE%20%27%25Public%20artworks%25%27%20OR%20%22category%22%20LIKE%20%27%25Public%20library%25%27%20OR%20%22category%22%20LIKE%20%27%25Social%20centre%25%27%20OR%20%22category%22%20LIKE%20%27%25Theatre%25%27%20OR%20%22category%22%20LIKE%20%27%25Viewpoint%25%27)%20AND%20(%22nuts_id%22%20==%20%27FRF1%27%20OR%20%22nuts_id%22%20==%20%27FRI1%27%20OR%20%22nuts_id%22%20==%20%27FRK1%27%20OR%20%22nuts_id%22%20==%20%27FRD1%27%20OR%20%22nuts_id%22%20==%20%27FRC1%27%20OR%20%22nuts_id%22%20==%20%27FRH0%27%20OR%20%22nuts_id%22%20==%20%27FRB0%27%20OR%20%22nuts_id%22%20==%20%27FRF2%27%20OR%20%22nuts_id%22%20==%20%27FRM0%27%20OR%20%22nuts_id%22%20==%20%27FRC2%27%20OR%20%22nuts_id%22%20==%20%27FRY1%27%20OR%20%22nuts_id%22%20==%20%27FRY3%27%20OR%20%22nuts_id%22%20==%20%27FRD2%27%20OR%20%22nuts_id%22%20==%20%27FR10%27%20OR%20%22nuts_id%22%20==%20%27FRY4%27%20OR%20%22nuts_id%22%20==%20%27FRJ1%27%20OR%20%22nuts_id%22%20==%20%27FRI2%27%20OR%20%22nuts_id%22%20==%20%27FRF3%27%20OR%20%22nuts_id%22%20==%20%27FRY2%27%20OR%20%22nuts_id%22%20==%20%27FRY5%27%20OR%20%22nuts_id%22%20==%20%27FRJ2%27%20OR%20%22nuts_id%22%20==%20%27FRE1%27%20OR%20%22nuts_id%22%20==%20%27FRG0%27%20OR%20%22nuts_id%22%20==%20%27FRE2%27%20OR%20%22nuts_id%22%20==%20%27FRI3%27%20OR%20%22nuts_id%22%20==%20%27FRL0%27%20OR%20%22nuts_id%22%20==%20%27FRK2%27)&,urn:ogc:def:crs:EPSG:3857&outputFormat=application%2Fjson&maxFeatures=5000',\n",
    "           'Germany':r'https://cultural-gems.jrc.ec.europa.eu/geoserver/gems/ows?service=WFS&version=1.0.0&request=GetFeature&typeName=gems:all_osm&srsName=EPSG:4326&CQL_FILTER=(%22category%22%20LIKE%20%27%25EUCultureFromHome%25%27%20OR%20%22category%22%20LIKE%20%27%25Aqueducts%25%27%20OR%20%22category%22%20LIKE%20%27%25Archaeological%20sites%25%27%20OR%20%22category%22%20LIKE%20%27%25Art%20gallery%25%27%20OR%20%22category%22%20LIKE%20%27%25Arts%20centre%25%27%20OR%20%22category%22%20LIKE%20%27%25Attraction%25%27%20OR%20%22category%22%20LIKE%20%27%25Castles%25%27%20OR%20%22category%22%20LIKE%20%27%25Church%25%27%20OR%20%22category%22%20LIKE%20%27%25Cinema%25%27%20OR%20%22category%22%20LIKE%20%27%25City%20gate%25%27%20OR%20%22category%22%20LIKE%20%27%25City%20walls%25%27%20OR%20%22category%22%20LIKE%20%27%25Community%20centre%25%27%20OR%20%22category%22%20LIKE%20%27%25Crypt%25%27%20OR%20%22category%22%20LIKE%20%27%25Fountain%25%27%20OR%20%22category%22%20LIKE%20%27%25Historic%20building%25%27%20OR%20%22category%22%20LIKE%20%27%25Manors%25%27%20OR%20%22category%22%20LIKE%20%27%25Memorial%25%27%20OR%20%22category%22%20LIKE%20%27%25Monastery%25%27%20OR%20%22category%22%20LIKE%20%27%25Monument%25%27%20OR%20%22category%22%20LIKE%20%27%25Museum%25%27%20OR%20%22category%22%20LIKE%20%27%25Music%20venue%25%27%20OR%20%22category%22%20LIKE%20%27%25Place%20of%20worship%25%27%20OR%20%22category%22%20LIKE%20%27%25Planetarium%25%27%20OR%20%22category%22%20LIKE%20%27%25Public%20artworks%25%27%20OR%20%22category%22%20LIKE%20%27%25Public%20library%25%27%20OR%20%22category%22%20LIKE%20%27%25Social%20centre%25%27%20OR%20%22category%22%20LIKE%20%27%25Theatre%25%27%20OR%20%22category%22%20LIKE%20%27%25Viewpoint%25%27)%20AND%20(%22nuts_id%22%20==%20%27DEA5%27%20OR%20%22nuts_id%22%20==%20%27DE30%27%20OR%20%22nuts_id%22%20==%20%27DE40%27%20OR%20%22nuts_id%22%20==%20%27DE91%27%20OR%20%22nuts_id%22%20==%20%27DE50%27%20OR%20%22nuts_id%22%20==%20%27DED4%27%20OR%20%22nuts_id%22%20==%20%27DE71%27%20OR%20%22nuts_id%22%20==%20%27DEA4%27%20OR%20%22nuts_id%22%20==%20%27DED2%27%20OR%20%22nuts_id%22%20==%20%27DEA1%27%20OR%20%22nuts_id%22%20==%20%27DE13%27%20OR%20%22nuts_id%22%20==%20%27DE72%27%20OR%20%22nuts_id%22%20==%20%27DE60%27%20OR%20%22nuts_id%22%20==%20%27DE92%27%20OR%20%22nuts_id%22%20==%20%27DE12%27%20OR%20%22nuts_id%22%20==%20%27DE73%27%20OR%20%22nuts_id%22%20==%20%27DEB1%27%20OR%20%22nuts_id%22%20==%20%27DEA2%27%20OR%20%22nuts_id%22%20==%20%27DED5%27%20OR%20%22nuts_id%22%20==%20%27DE93%27%20OR%20%22nuts_id%22%20==%20%27DE80%27%20OR%20%22nuts_id%22%20==%20%27DE25%27%20OR%20%22nuts_id%22%20==%20%27DEA3%27%20OR%20%22nuts_id%22%20==%20%27DE22%27%20OR%20%22nuts_id%22%20==%20%27DE21%27%20OR%20%22nuts_id%22%20==%20%27DE24%27%20OR%20%22nuts_id%22%20==%20%27DE23%27%20OR%20%22nuts_id%22%20==%20%27DEB3%27%20OR%20%22nuts_id%22%20==%20%27DEC0%27%20OR%20%22nuts_id%22%20==%20%27DEE0%27%20OR%20%22nuts_id%22%20==%20%27DEF0%27%20OR%20%22nuts_id%22%20==%20%27DE27%27%20OR%20%22nuts_id%22%20==%20%27DE11%27%20OR%20%22nuts_id%22%20==%20%27DEG0%27%20OR%20%22nuts_id%22%20==%20%27DEB2%27%20OR%20%22nuts_id%22%20==%20%27DE14%27%20OR%20%22nuts_id%22%20==%20%27DE26%27%20OR%20%22nuts_id%22%20==%20%27DE94%27)&,urn:ogc:def:crs:EPSG:3857&outputFormat=application%2Fjson&maxFeatures=5000',\n",
    "           'Greece':r'https://cultural-gems.jrc.ec.europa.eu/geoserver/gems/ows?service=WFS&version=1.0.0&request=GetFeature&typeName=gems:all_osm&srsName=EPSG:4326&CQL_FILTER=(%22category%22%20LIKE%20%27%25EUCultureFromHome%25%27%20OR%20%22category%22%20LIKE%20%27%25Aqueducts%25%27%20OR%20%22category%22%20LIKE%20%27%25Archaeological%20sites%25%27%20OR%20%22category%22%20LIKE%20%27%25Art%20gallery%25%27%20OR%20%22category%22%20LIKE%20%27%25Arts%20centre%25%27%20OR%20%22category%22%20LIKE%20%27%25Attraction%25%27%20OR%20%22category%22%20LIKE%20%27%25Castles%25%27%20OR%20%22category%22%20LIKE%20%27%25Church%25%27%20OR%20%22category%22%20LIKE%20%27%25Cinema%25%27%20OR%20%22category%22%20LIKE%20%27%25City%20gate%25%27%20OR%20%22category%22%20LIKE%20%27%25City%20walls%25%27%20OR%20%22category%22%20LIKE%20%27%25Community%20centre%25%27%20OR%20%22category%22%20LIKE%20%27%25Crypt%25%27%20OR%20%22category%22%20LIKE%20%27%25Fountain%25%27%20OR%20%22category%22%20LIKE%20%27%25Historic%20building%25%27%20OR%20%22category%22%20LIKE%20%27%25Manors%25%27%20OR%20%22category%22%20LIKE%20%27%25Memorial%25%27%20OR%20%22category%22%20LIKE%20%27%25Monastery%25%27%20OR%20%22category%22%20LIKE%20%27%25Monument%25%27%20OR%20%22category%22%20LIKE%20%27%25Museum%25%27%20OR%20%22category%22%20LIKE%20%27%25Music%20venue%25%27%20OR%20%22category%22%20LIKE%20%27%25Place%20of%20worship%25%27%20OR%20%22category%22%20LIKE%20%27%25Planetarium%25%27%20OR%20%22category%22%20LIKE%20%27%25Public%20artworks%25%27%20OR%20%22category%22%20LIKE%20%27%25Public%20library%25%27%20OR%20%22category%22%20LIKE%20%27%25Social%20centre%25%27%20OR%20%22category%22%20LIKE%20%27%25Theatre%25%27%20OR%20%22category%22%20LIKE%20%27%25Viewpoint%25%27)%20AND%20(%22nuts_id%22%20==%20%27EL51%27%20OR%20%22nuts_id%22%20==%20%27EL30%27%20OR%20%22nuts_id%22%20==%20%27EL63%27%20OR%20%22nuts_id%22%20==%20%27EL53%27%20OR%20%22nuts_id%22%20==%20%27EL62%27%20OR%20%22nuts_id%22%20==%20%27EL54%27%20OR%20%22nuts_id%22%20==%20%27EL52%27%20OR%20%22nuts_id%22%20==%20%27EL43%27%20OR%20%22nuts_id%22%20==%20%27EL42%27%20OR%20%22nuts_id%22%20==%20%27EL65%27%20OR%20%22nuts_id%22%20==%20%27EL64%27%20OR%20%22nuts_id%22%20==%20%27EL61%27%20OR%20%22nuts_id%22%20==%20%27EL41%27)&,urn:ogc:def:crs:EPSG:3857&outputFormat=application%2Fjson&maxFeatures=5000',\n",
    "           'Hungary':r'https://cultural-gems.jrc.ec.europa.eu/geoserver/gems/ows?service=WFS&version=1.0.0&request=GetFeature&typeName=gems:all_osm&srsName=EPSG:4326&CQL_FILTER=(%22category%22%20LIKE%20%27%25EUCultureFromHome%25%27%20OR%20%22category%22%20LIKE%20%27%25Aqueducts%25%27%20OR%20%22category%22%20LIKE%20%27%25Archaeological%20sites%25%27%20OR%20%22category%22%20LIKE%20%27%25Art%20gallery%25%27%20OR%20%22category%22%20LIKE%20%27%25Arts%20centre%25%27%20OR%20%22category%22%20LIKE%20%27%25Attraction%25%27%20OR%20%22category%22%20LIKE%20%27%25Castles%25%27%20OR%20%22category%22%20LIKE%20%27%25Church%25%27%20OR%20%22category%22%20LIKE%20%27%25Cinema%25%27%20OR%20%22category%22%20LIKE%20%27%25City%20gate%25%27%20OR%20%22category%22%20LIKE%20%27%25City%20walls%25%27%20OR%20%22category%22%20LIKE%20%27%25Community%20centre%25%27%20OR%20%22category%22%20LIKE%20%27%25Crypt%25%27%20OR%20%22category%22%20LIKE%20%27%25Fountain%25%27%20OR%20%22category%22%20LIKE%20%27%25Historic%20building%25%27%20OR%20%22category%22%20LIKE%20%27%25Manors%25%27%20OR%20%22category%22%20LIKE%20%27%25Memorial%25%27%20OR%20%22category%22%20LIKE%20%27%25Monastery%25%27%20OR%20%22category%22%20LIKE%20%27%25Monument%25%27%20OR%20%22category%22%20LIKE%20%27%25Museum%25%27%20OR%20%22category%22%20LIKE%20%27%25Music%20venue%25%27%20OR%20%22category%22%20LIKE%20%27%25Place%20of%20worship%25%27%20OR%20%22category%22%20LIKE%20%27%25Planetarium%25%27%20OR%20%22category%22%20LIKE%20%27%25Public%20artworks%25%27%20OR%20%22category%22%20LIKE%20%27%25Public%20library%25%27%20OR%20%22category%22%20LIKE%20%27%25Social%20centre%25%27%20OR%20%22category%22%20LIKE%20%27%25Theatre%25%27%20OR%20%22category%22%20LIKE%20%27%25Viewpoint%25%27)%20AND%20(%22nuts_id%22%20==%20%27HU11%27%20OR%20%22nuts_id%22%20==%20%27HU33%27%20OR%20%22nuts_id%22%20==%20%27HU23%27%20OR%20%22nuts_id%22%20==%20%27HU21%27%20OR%20%22nuts_id%22%20==%20%27HU22%27%20OR%20%22nuts_id%22%20==%20%27HU12%27%20OR%20%22nuts_id%22%20==%20%27HU32%27%20OR%20%22nuts_id%22%20==%20%27HU31%27)&,urn:ogc:def:crs:EPSG:3857&outputFormat=application%2Fjson&maxFeatures=5000',\n",
    "           'Ireland':r'https://cultural-gems.jrc.ec.europa.eu/geoserver/gems/ows?service=WFS&version=1.0.0&request=GetFeature&typeName=gems:all_osm&srsName=EPSG:4326&CQL_FILTER=(%22category%22%20LIKE%20%27%25EUCultureFromHome%25%27%20OR%20%22category%22%20LIKE%20%27%25Aqueducts%25%27%20OR%20%22category%22%20LIKE%20%27%25Archaeological%20sites%25%27%20OR%20%22category%22%20LIKE%20%27%25Art%20gallery%25%27%20OR%20%22category%22%20LIKE%20%27%25Arts%20centre%25%27%20OR%20%22category%22%20LIKE%20%27%25Attraction%25%27%20OR%20%22category%22%20LIKE%20%27%25Castles%25%27%20OR%20%22category%22%20LIKE%20%27%25Church%25%27%20OR%20%22category%22%20LIKE%20%27%25Cinema%25%27%20OR%20%22category%22%20LIKE%20%27%25City%20gate%25%27%20OR%20%22category%22%20LIKE%20%27%25City%20walls%25%27%20OR%20%22category%22%20LIKE%20%27%25Community%20centre%25%27%20OR%20%22category%22%20LIKE%20%27%25Crypt%25%27%20OR%20%22category%22%20LIKE%20%27%25Fountain%25%27%20OR%20%22category%22%20LIKE%20%27%25Historic%20building%25%27%20OR%20%22category%22%20LIKE%20%27%25Manors%25%27%20OR%20%22category%22%20LIKE%20%27%25Memorial%25%27%20OR%20%22category%22%20LIKE%20%27%25Monastery%25%27%20OR%20%22category%22%20LIKE%20%27%25Monument%25%27%20OR%20%22category%22%20LIKE%20%27%25Museum%25%27%20OR%20%22category%22%20LIKE%20%27%25Music%20venue%25%27%20OR%20%22category%22%20LIKE%20%27%25Place%20of%20worship%25%27%20OR%20%22category%22%20LIKE%20%27%25Planetarium%25%27%20OR%20%22category%22%20LIKE%20%27%25Public%20artworks%25%27%20OR%20%22category%22%20LIKE%20%27%25Public%20library%25%27%20OR%20%22category%22%20LIKE%20%27%25Social%20centre%25%27%20OR%20%22category%22%20LIKE%20%27%25Theatre%25%27%20OR%20%22category%22%20LIKE%20%27%25Viewpoint%25%27)%20AND%20(%22nuts_id%22%20==%20%27IE06%27%20OR%20%22nuts_id%22%20==%20%27IE04%27%20OR%20%22nuts_id%22%20==%20%27IE05%27)&,urn:ogc:def:crs:EPSG:3857&outputFormat=application%2Fjson&maxFeatures=5000',\n",
    "           'Italy':r'https://cultural-gems.jrc.ec.europa.eu/geoserver/gems/ows?service=WFS&version=1.0.0&request=GetFeature&typeName=gems:all_osm&srsName=EPSG:4326&CQL_FILTER=(%22category%22%20LIKE%20%27%25EUCultureFromHome%25%27%20OR%20%22category%22%20LIKE%20%27%25Aqueducts%25%27%20OR%20%22category%22%20LIKE%20%27%25Archaeological%20sites%25%27%20OR%20%22category%22%20LIKE%20%27%25Art%20gallery%25%27%20OR%20%22category%22%20LIKE%20%27%25Arts%20centre%25%27%20OR%20%22category%22%20LIKE%20%27%25Attraction%25%27%20OR%20%22category%22%20LIKE%20%27%25Castles%25%27%20OR%20%22category%22%20LIKE%20%27%25Church%25%27%20OR%20%22category%22%20LIKE%20%27%25Cinema%25%27%20OR%20%22category%22%20LIKE%20%27%25City%20gate%25%27%20OR%20%22category%22%20LIKE%20%27%25City%20walls%25%27%20OR%20%22category%22%20LIKE%20%27%25Community%20centre%25%27%20OR%20%22category%22%20LIKE%20%27%25Crypt%25%27%20OR%20%22category%22%20LIKE%20%27%25Fountain%25%27%20OR%20%22category%22%20LIKE%20%27%25Historic%20building%25%27%20OR%20%22category%22%20LIKE%20%27%25Manors%25%27%20OR%20%22category%22%20LIKE%20%27%25Memorial%25%27%20OR%20%22category%22%20LIKE%20%27%25Monastery%25%27%20OR%20%22category%22%20LIKE%20%27%25Monument%25%27%20OR%20%22category%22%20LIKE%20%27%25Museum%25%27%20OR%20%22category%22%20LIKE%20%27%25Music%20venue%25%27%20OR%20%22category%22%20LIKE%20%27%25Place%20of%20worship%25%27%20OR%20%22category%22%20LIKE%20%27%25Planetarium%25%27%20OR%20%22category%22%20LIKE%20%27%25Public%20artworks%25%27%20OR%20%22category%22%20LIKE%20%27%25Public%20library%25%27%20OR%20%22category%22%20LIKE%20%27%25Social%20centre%25%27%20OR%20%22category%22%20LIKE%20%27%25Theatre%25%27%20OR%20%22category%22%20LIKE%20%27%25Viewpoint%25%27)%20AND%20(%22nuts_id%22%20==%20%27ITF1%27%20OR%20%22nuts_id%22%20==%20%27ITF5%27%20OR%20%22nuts_id%22%20==%20%27ITF6%27%20OR%20%22nuts_id%22%20==%20%27ITF3%27%20OR%20%22nuts_id%22%20==%20%27ITH5%27%20OR%20%22nuts_id%22%20==%20%27ITH4%27%20OR%20%22nuts_id%22%20==%20%27ITI4%27%20OR%20%22nuts_id%22%20==%20%27ITC3%27%20OR%20%22nuts_id%22%20==%20%27ITC4%27%20OR%20%22nuts_id%22%20==%20%27ITI3%27%20OR%20%22nuts_id%22%20==%20%27ITF2%27%20OR%20%22nuts_id%22%20==%20%27ITC1%27%20OR%20%22nuts_id%22%20==%20%27ITH1%27%20OR%20%22nuts_id%22%20==%20%27ITH2%27%20OR%20%22nuts_id%22%20==%20%27ITF4%27%20OR%20%22nuts_id%22%20==%20%27ITG2%27%20OR%20%22nuts_id%22%20==%20%27ITG1%27%20OR%20%22nuts_id%22%20==%20%27ITI1%27%20OR%20%22nuts_id%22%20==%20%27ITI2%27%20OR%20%22nuts_id%22%20==%20%27ITC2%27%20OR%20%22nuts_id%22%20==%20%27ITH3%27)&,urn:ogc:def:crs:EPSG:3857&outputFormat=application%2Fjson&maxFeatures=5000',\n",
    "           'Kosovo':r'https://cultural-gems.jrc.ec.europa.eu/geoserver/gems/ows?service=WFS&version=1.0.0&request=GetFeature&typeName=gems:all_osm&srsName=EPSG:4326&CQL_FILTER=(%22category%22%20LIKE%20%27%25EUCultureFromHome%25%27%20OR%20%22category%22%20LIKE%20%27%25Aqueducts%25%27%20OR%20%22category%22%20LIKE%20%27%25Archaeological%20sites%25%27%20OR%20%22category%22%20LIKE%20%27%25Art%20gallery%25%27%20OR%20%22category%22%20LIKE%20%27%25Arts%20centre%25%27%20OR%20%22category%22%20LIKE%20%27%25Attraction%25%27%20OR%20%22category%22%20LIKE%20%27%25Castles%25%27%20OR%20%22category%22%20LIKE%20%27%25Church%25%27%20OR%20%22category%22%20LIKE%20%27%25Cinema%25%27%20OR%20%22category%22%20LIKE%20%27%25City%20gate%25%27%20OR%20%22category%22%20LIKE%20%27%25City%20walls%25%27%20OR%20%22category%22%20LIKE%20%27%25Community%20centre%25%27%20OR%20%22category%22%20LIKE%20%27%25Crypt%25%27%20OR%20%22category%22%20LIKE%20%27%25Fountain%25%27%20OR%20%22category%22%20LIKE%20%27%25Historic%20building%25%27%20OR%20%22category%22%20LIKE%20%27%25Manors%25%27%20OR%20%22category%22%20LIKE%20%27%25Memorial%25%27%20OR%20%22category%22%20LIKE%20%27%25Monastery%25%27%20OR%20%22category%22%20LIKE%20%27%25Monument%25%27%20OR%20%22category%22%20LIKE%20%27%25Museum%25%27%20OR%20%22category%22%20LIKE%20%27%25Music%20venue%25%27%20OR%20%22category%22%20LIKE%20%27%25Place%20of%20worship%25%27%20OR%20%22category%22%20LIKE%20%27%25Planetarium%25%27%20OR%20%22category%22%20LIKE%20%27%25Public%20artworks%25%27%20OR%20%22category%22%20LIKE%20%27%25Public%20library%25%27%20OR%20%22category%22%20LIKE%20%27%25Social%20centre%25%27%20OR%20%22category%22%20LIKE%20%27%25Theatre%25%27%20OR%20%22category%22%20LIKE%20%27%25Viewpoint%25%27)%20AND%20(%22nuts_id%22%20==%20%27XK*%27)&,urn:ogc:def:crs:EPSG:3857&outputFormat=application%2Fjson&maxFeatures=5000',\n",
    "           'Latvia':r'https://cultural-gems.jrc.ec.europa.eu/geoserver/gems/ows?service=WFS&version=1.0.0&request=GetFeature&typeName=gems:all_osm&srsName=EPSG:4326&CQL_FILTER=(%22category%22%20LIKE%20%27%25EUCultureFromHome%25%27%20OR%20%22category%22%20LIKE%20%27%25Aqueducts%25%27%20OR%20%22category%22%20LIKE%20%27%25Archaeological%20sites%25%27%20OR%20%22category%22%20LIKE%20%27%25Art%20gallery%25%27%20OR%20%22category%22%20LIKE%20%27%25Arts%20centre%25%27%20OR%20%22category%22%20LIKE%20%27%25Attraction%25%27%20OR%20%22category%22%20LIKE%20%27%25Castles%25%27%20OR%20%22category%22%20LIKE%20%27%25Church%25%27%20OR%20%22category%22%20LIKE%20%27%25Cinema%25%27%20OR%20%22category%22%20LIKE%20%27%25City%20gate%25%27%20OR%20%22category%22%20LIKE%20%27%25City%20walls%25%27%20OR%20%22category%22%20LIKE%20%27%25Community%20centre%25%27%20OR%20%22category%22%20LIKE%20%27%25Crypt%25%27%20OR%20%22category%22%20LIKE%20%27%25Fountain%25%27%20OR%20%22category%22%20LIKE%20%27%25Historic%20building%25%27%20OR%20%22category%22%20LIKE%20%27%25Manors%25%27%20OR%20%22category%22%20LIKE%20%27%25Memorial%25%27%20OR%20%22category%22%20LIKE%20%27%25Monastery%25%27%20OR%20%22category%22%20LIKE%20%27%25Monument%25%27%20OR%20%22category%22%20LIKE%20%27%25Museum%25%27%20OR%20%22category%22%20LIKE%20%27%25Music%20venue%25%27%20OR%20%22category%22%20LIKE%20%27%25Place%20of%20worship%25%27%20OR%20%22category%22%20LIKE%20%27%25Planetarium%25%27%20OR%20%22category%22%20LIKE%20%27%25Public%20artworks%25%27%20OR%20%22category%22%20LIKE%20%27%25Public%20library%25%27%20OR%20%22category%22%20LIKE%20%27%25Social%20centre%25%27%20OR%20%22category%22%20LIKE%20%27%25Theatre%25%27%20OR%20%22category%22%20LIKE%20%27%25Viewpoint%25%27)%20AND%20(%22nuts_id%22%20==%20%27LV00%27)&,urn:ogc:def:crs:EPSG:3857&outputFormat=application%2Fjson&maxFeatures=5000',\n",
    "           'Lithuania':r'https://cultural-gems.jrc.ec.europa.eu/geoserver/gems/ows?service=WFS&version=1.0.0&request=GetFeature&typeName=gems:all_osm&srsName=EPSG:4326&CQL_FILTER=(%22category%22%20LIKE%20%27%25EUCultureFromHome%25%27%20OR%20%22category%22%20LIKE%20%27%25Aqueducts%25%27%20OR%20%22category%22%20LIKE%20%27%25Archaeological%20sites%25%27%20OR%20%22category%22%20LIKE%20%27%25Art%20gallery%25%27%20OR%20%22category%22%20LIKE%20%27%25Arts%20centre%25%27%20OR%20%22category%22%20LIKE%20%27%25Attraction%25%27%20OR%20%22category%22%20LIKE%20%27%25Castles%25%27%20OR%20%22category%22%20LIKE%20%27%25Church%25%27%20OR%20%22category%22%20LIKE%20%27%25Cinema%25%27%20OR%20%22category%22%20LIKE%20%27%25City%20gate%25%27%20OR%20%22category%22%20LIKE%20%27%25City%20walls%25%27%20OR%20%22category%22%20LIKE%20%27%25Community%20centre%25%27%20OR%20%22category%22%20LIKE%20%27%25Crypt%25%27%20OR%20%22category%22%20LIKE%20%27%25Fountain%25%27%20OR%20%22category%22%20LIKE%20%27%25Historic%20building%25%27%20OR%20%22category%22%20LIKE%20%27%25Manors%25%27%20OR%20%22category%22%20LIKE%20%27%25Memorial%25%27%20OR%20%22category%22%20LIKE%20%27%25Monastery%25%27%20OR%20%22category%22%20LIKE%20%27%25Monument%25%27%20OR%20%22category%22%20LIKE%20%27%25Museum%25%27%20OR%20%22category%22%20LIKE%20%27%25Music%20venue%25%27%20OR%20%22category%22%20LIKE%20%27%25Place%20of%20worship%25%27%20OR%20%22category%22%20LIKE%20%27%25Planetarium%25%27%20OR%20%22category%22%20LIKE%20%27%25Public%20artworks%25%27%20OR%20%22category%22%20LIKE%20%27%25Public%20library%25%27%20OR%20%22category%22%20LIKE%20%27%25Social%20centre%25%27%20OR%20%22category%22%20LIKE%20%27%25Theatre%25%27%20OR%20%22category%22%20LIKE%20%27%25Viewpoint%25%27)%20AND%20(%22nuts_id%22%20==%20%27LT01%27%20OR%20%22nuts_id%22%20==%20%27LT02%27)&,urn:ogc:def:crs:EPSG:3857&outputFormat=application%2Fjson&maxFeatures=5000',\n",
    "           'Luxembourg':r'https://cultural-gems.jrc.ec.europa.eu/geoserver/gems/ows?service=WFS&version=1.0.0&request=GetFeature&typeName=gems:all_osm&srsName=EPSG:4326&CQL_FILTER=(%22category%22%20LIKE%20%27%25EUCultureFromHome%25%27%20OR%20%22category%22%20LIKE%20%27%25Aqueducts%25%27%20OR%20%22category%22%20LIKE%20%27%25Archaeological%20sites%25%27%20OR%20%22category%22%20LIKE%20%27%25Art%20gallery%25%27%20OR%20%22category%22%20LIKE%20%27%25Arts%20centre%25%27%20OR%20%22category%22%20LIKE%20%27%25Attraction%25%27%20OR%20%22category%22%20LIKE%20%27%25Castles%25%27%20OR%20%22category%22%20LIKE%20%27%25Church%25%27%20OR%20%22category%22%20LIKE%20%27%25Cinema%25%27%20OR%20%22category%22%20LIKE%20%27%25City%20gate%25%27%20OR%20%22category%22%20LIKE%20%27%25City%20walls%25%27%20OR%20%22category%22%20LIKE%20%27%25Community%20centre%25%27%20OR%20%22category%22%20LIKE%20%27%25Crypt%25%27%20OR%20%22category%22%20LIKE%20%27%25Fountain%25%27%20OR%20%22category%22%20LIKE%20%27%25Historic%20building%25%27%20OR%20%22category%22%20LIKE%20%27%25Manors%25%27%20OR%20%22category%22%20LIKE%20%27%25Memorial%25%27%20OR%20%22category%22%20LIKE%20%27%25Monastery%25%27%20OR%20%22category%22%20LIKE%20%27%25Monument%25%27%20OR%20%22category%22%20LIKE%20%27%25Museum%25%27%20OR%20%22category%22%20LIKE%20%27%25Music%20venue%25%27%20OR%20%22category%22%20LIKE%20%27%25Place%20of%20worship%25%27%20OR%20%22category%22%20LIKE%20%27%25Planetarium%25%27%20OR%20%22category%22%20LIKE%20%27%25Public%20artworks%25%27%20OR%20%22category%22%20LIKE%20%27%25Public%20library%25%27%20OR%20%22category%22%20LIKE%20%27%25Social%20centre%25%27%20OR%20%22category%22%20LIKE%20%27%25Theatre%25%27%20OR%20%22category%22%20LIKE%20%27%25Viewpoint%25%27)%20AND%20(%22nuts_id%22%20==%20%27LU00%27)&,urn:ogc:def:crs:EPSG:3857&outputFormat=application%2Fjson&maxFeatures=5000',\n",
    "           'Malta':r'https://cultural-gems.jrc.ec.europa.eu/geoserver/gems/ows?service=WFS&version=1.0.0&request=GetFeature&typeName=gems:all_osm&srsName=EPSG:4326&CQL_FILTER=(%22category%22%20LIKE%20%27%25EUCultureFromHome%25%27%20OR%20%22category%22%20LIKE%20%27%25Aqueducts%25%27%20OR%20%22category%22%20LIKE%20%27%25Archaeological%20sites%25%27%20OR%20%22category%22%20LIKE%20%27%25Art%20gallery%25%27%20OR%20%22category%22%20LIKE%20%27%25Arts%20centre%25%27%20OR%20%22category%22%20LIKE%20%27%25Attraction%25%27%20OR%20%22category%22%20LIKE%20%27%25Castles%25%27%20OR%20%22category%22%20LIKE%20%27%25Church%25%27%20OR%20%22category%22%20LIKE%20%27%25Cinema%25%27%20OR%20%22category%22%20LIKE%20%27%25City%20gate%25%27%20OR%20%22category%22%20LIKE%20%27%25City%20walls%25%27%20OR%20%22category%22%20LIKE%20%27%25Community%20centre%25%27%20OR%20%22category%22%20LIKE%20%27%25Crypt%25%27%20OR%20%22category%22%20LIKE%20%27%25Fountain%25%27%20OR%20%22category%22%20LIKE%20%27%25Historic%20building%25%27%20OR%20%22category%22%20LIKE%20%27%25Manors%25%27%20OR%20%22category%22%20LIKE%20%27%25Memorial%25%27%20OR%20%22category%22%20LIKE%20%27%25Monastery%25%27%20OR%20%22category%22%20LIKE%20%27%25Monument%25%27%20OR%20%22category%22%20LIKE%20%27%25Museum%25%27%20OR%20%22category%22%20LIKE%20%27%25Music%20venue%25%27%20OR%20%22category%22%20LIKE%20%27%25Place%20of%20worship%25%27%20OR%20%22category%22%20LIKE%20%27%25Planetarium%25%27%20OR%20%22category%22%20LIKE%20%27%25Public%20artworks%25%27%20OR%20%22category%22%20LIKE%20%27%25Public%20library%25%27%20OR%20%22category%22%20LIKE%20%27%25Social%20centre%25%27%20OR%20%22category%22%20LIKE%20%27%25Theatre%25%27%20OR%20%22category%22%20LIKE%20%27%25Viewpoint%25%27)%20AND%20(%22nuts_id%22%20==%20%27MT00%27)&,urn:ogc:def:crs:EPSG:3857&outputFormat=application%2Fjson&maxFeatures=5000',\n",
    "           'Montenegro':r'https://cultural-gems.jrc.ec.europa.eu/geoserver/gems/ows?service=WFS&version=1.0.0&request=GetFeature&typeName=gems:all_osm&srsName=EPSG:4326&CQL_FILTER=(%22category%22%20LIKE%20%27%25EUCultureFromHome%25%27%20OR%20%22category%22%20LIKE%20%27%25Aqueducts%25%27%20OR%20%22category%22%20LIKE%20%27%25Archaeological%20sites%25%27%20OR%20%22category%22%20LIKE%20%27%25Art%20gallery%25%27%20OR%20%22category%22%20LIKE%20%27%25Arts%20centre%25%27%20OR%20%22category%22%20LIKE%20%27%25Attraction%25%27%20OR%20%22category%22%20LIKE%20%27%25Castles%25%27%20OR%20%22category%22%20LIKE%20%27%25Church%25%27%20OR%20%22category%22%20LIKE%20%27%25Cinema%25%27%20OR%20%22category%22%20LIKE%20%27%25City%20gate%25%27%20OR%20%22category%22%20LIKE%20%27%25City%20walls%25%27%20OR%20%22category%22%20LIKE%20%27%25Community%20centre%25%27%20OR%20%22category%22%20LIKE%20%27%25Crypt%25%27%20OR%20%22category%22%20LIKE%20%27%25Fountain%25%27%20OR%20%22category%22%20LIKE%20%27%25Historic%20building%25%27%20OR%20%22category%22%20LIKE%20%27%25Manors%25%27%20OR%20%22category%22%20LIKE%20%27%25Memorial%25%27%20OR%20%22category%22%20LIKE%20%27%25Monastery%25%27%20OR%20%22category%22%20LIKE%20%27%25Monument%25%27%20OR%20%22category%22%20LIKE%20%27%25Museum%25%27%20OR%20%22category%22%20LIKE%20%27%25Music%20venue%25%27%20OR%20%22category%22%20LIKE%20%27%25Place%20of%20worship%25%27%20OR%20%22category%22%20LIKE%20%27%25Planetarium%25%27%20OR%20%22category%22%20LIKE%20%27%25Public%20artworks%25%27%20OR%20%22category%22%20LIKE%20%27%25Public%20library%25%27%20OR%20%22category%22%20LIKE%20%27%25Social%20centre%25%27%20OR%20%22category%22%20LIKE%20%27%25Theatre%25%27%20OR%20%22category%22%20LIKE%20%27%25Viewpoint%25%27)%20AND%20(%22nuts_id%22%20==%20%27ME00%27)&,urn:ogc:def:crs:EPSG:3857&outputFormat=application%2Fjson&maxFeatures=5000',\n",
    "           'Netherlands':r'https://cultural-gems.jrc.ec.europa.eu/geoserver/gems/ows?service=WFS&version=1.0.0&request=GetFeature&typeName=gems:all_osm&srsName=EPSG:4326&CQL_FILTER=(%22category%22%20LIKE%20%27%25EUCultureFromHome%25%27%20OR%20%22category%22%20LIKE%20%27%25Aqueducts%25%27%20OR%20%22category%22%20LIKE%20%27%25Archaeological%20sites%25%27%20OR%20%22category%22%20LIKE%20%27%25Art%20gallery%25%27%20OR%20%22category%22%20LIKE%20%27%25Arts%20centre%25%27%20OR%20%22category%22%20LIKE%20%27%25Attraction%25%27%20OR%20%22category%22%20LIKE%20%27%25Castles%25%27%20OR%20%22category%22%20LIKE%20%27%25Church%25%27%20OR%20%22category%22%20LIKE%20%27%25Cinema%25%27%20OR%20%22category%22%20LIKE%20%27%25City%20gate%25%27%20OR%20%22category%22%20LIKE%20%27%25City%20walls%25%27%20OR%20%22category%22%20LIKE%20%27%25Community%20centre%25%27%20OR%20%22category%22%20LIKE%20%27%25Crypt%25%27%20OR%20%22category%22%20LIKE%20%27%25Fountain%25%27%20OR%20%22category%22%20LIKE%20%27%25Historic%20building%25%27%20OR%20%22category%22%20LIKE%20%27%25Manors%25%27%20OR%20%22category%22%20LIKE%20%27%25Memorial%25%27%20OR%20%22category%22%20LIKE%20%27%25Monastery%25%27%20OR%20%22category%22%20LIKE%20%27%25Monument%25%27%20OR%20%22category%22%20LIKE%20%27%25Museum%25%27%20OR%20%22category%22%20LIKE%20%27%25Music%20venue%25%27%20OR%20%22category%22%20LIKE%20%27%25Place%20of%20worship%25%27%20OR%20%22category%22%20LIKE%20%27%25Planetarium%25%27%20OR%20%22category%22%20LIKE%20%27%25Public%20artworks%25%27%20OR%20%22category%22%20LIKE%20%27%25Public%20library%25%27%20OR%20%22category%22%20LIKE%20%27%25Social%20centre%25%27%20OR%20%22category%22%20LIKE%20%27%25Theatre%25%27%20OR%20%22category%22%20LIKE%20%27%25Viewpoint%25%27)%20AND%20(%22nuts_id%22%20==%20%27NL13%27%20OR%20%22nuts_id%22%20==%20%27NL23%27%20OR%20%22nuts_id%22%20==%20%27NL12%27%20OR%20%22nuts_id%22%20==%20%27NL22%27%20OR%20%22nuts_id%22%20==%20%27NL11%27%20OR%20%22nuts_id%22%20==%20%27NL42%27%20OR%20%22nuts_id%22%20==%20%27NL41%27%20OR%20%22nuts_id%22%20==%20%27NL32%27%20OR%20%22nuts_id%22%20==%20%27NL21%27%20OR%20%22nuts_id%22%20==%20%27NL31%27%20OR%20%22nuts_id%22%20==%20%27NL34%27%20OR%20%22nuts_id%22%20==%20%27NL33%27)&,urn:ogc:def:crs:EPSG:3857&outputFormat=application%2Fjson&maxFeatures=5000',\n",
    "           'North Macedonia':r'https://cultural-gems.jrc.ec.europa.eu/geoserver/gems/ows?service=WFS&version=1.0.0&request=GetFeature&typeName=gems:all_osm&srsName=EPSG:4326&CQL_FILTER=(%22category%22%20LIKE%20%27%25EUCultureFromHome%25%27%20OR%20%22category%22%20LIKE%20%27%25Aqueducts%25%27%20OR%20%22category%22%20LIKE%20%27%25Archaeological%20sites%25%27%20OR%20%22category%22%20LIKE%20%27%25Art%20gallery%25%27%20OR%20%22category%22%20LIKE%20%27%25Arts%20centre%25%27%20OR%20%22category%22%20LIKE%20%27%25Attraction%25%27%20OR%20%22category%22%20LIKE%20%27%25Castles%25%27%20OR%20%22category%22%20LIKE%20%27%25Church%25%27%20OR%20%22category%22%20LIKE%20%27%25Cinema%25%27%20OR%20%22category%22%20LIKE%20%27%25City%20gate%25%27%20OR%20%22category%22%20LIKE%20%27%25City%20walls%25%27%20OR%20%22category%22%20LIKE%20%27%25Community%20centre%25%27%20OR%20%22category%22%20LIKE%20%27%25Crypt%25%27%20OR%20%22category%22%20LIKE%20%27%25Fountain%25%27%20OR%20%22category%22%20LIKE%20%27%25Historic%20building%25%27%20OR%20%22category%22%20LIKE%20%27%25Manors%25%27%20OR%20%22category%22%20LIKE%20%27%25Memorial%25%27%20OR%20%22category%22%20LIKE%20%27%25Monastery%25%27%20OR%20%22category%22%20LIKE%20%27%25Monument%25%27%20OR%20%22category%22%20LIKE%20%27%25Museum%25%27%20OR%20%22category%22%20LIKE%20%27%25Music%20venue%25%27%20OR%20%22category%22%20LIKE%20%27%25Place%20of%20worship%25%27%20OR%20%22category%22%20LIKE%20%27%25Planetarium%25%27%20OR%20%22category%22%20LIKE%20%27%25Public%20artworks%25%27%20OR%20%22category%22%20LIKE%20%27%25Public%20library%25%27%20OR%20%22category%22%20LIKE%20%27%25Social%20centre%25%27%20OR%20%22category%22%20LIKE%20%27%25Theatre%25%27%20OR%20%22category%22%20LIKE%20%27%25Viewpoint%25%27)%20AND%20(%22nuts_id%22%20==%20%27MK00%27)&,urn:ogc:def:crs:EPSG:3857&outputFormat=application%2Fjson&maxFeatures=5000',\n",
    "           'Norway':r'https://cultural-gems.jrc.ec.europa.eu/geoserver/gems/ows?service=WFS&version=1.0.0&request=GetFeature&typeName=gems:all_osm&srsName=EPSG:4326&CQL_FILTER=(%22category%22%20LIKE%20%27%25EUCultureFromHome%25%27%20OR%20%22category%22%20LIKE%20%27%25Aqueducts%25%27%20OR%20%22category%22%20LIKE%20%27%25Archaeological%20sites%25%27%20OR%20%22category%22%20LIKE%20%27%25Art%20gallery%25%27%20OR%20%22category%22%20LIKE%20%27%25Arts%20centre%25%27%20OR%20%22category%22%20LIKE%20%27%25Attraction%25%27%20OR%20%22category%22%20LIKE%20%27%25Castles%25%27%20OR%20%22category%22%20LIKE%20%27%25Church%25%27%20OR%20%22category%22%20LIKE%20%27%25Cinema%25%27%20OR%20%22category%22%20LIKE%20%27%25City%20gate%25%27%20OR%20%22category%22%20LIKE%20%27%25City%20walls%25%27%20OR%20%22category%22%20LIKE%20%27%25Community%20centre%25%27%20OR%20%22category%22%20LIKE%20%27%25Crypt%25%27%20OR%20%22category%22%20LIKE%20%27%25Fountain%25%27%20OR%20%22category%22%20LIKE%20%27%25Historic%20building%25%27%20OR%20%22category%22%20LIKE%20%27%25Manors%25%27%20OR%20%22category%22%20LIKE%20%27%25Memorial%25%27%20OR%20%22category%22%20LIKE%20%27%25Monastery%25%27%20OR%20%22category%22%20LIKE%20%27%25Monument%25%27%20OR%20%22category%22%20LIKE%20%27%25Museum%25%27%20OR%20%22category%22%20LIKE%20%27%25Music%20venue%25%27%20OR%20%22category%22%20LIKE%20%27%25Place%20of%20worship%25%27%20OR%20%22category%22%20LIKE%20%27%25Planetarium%25%27%20OR%20%22category%22%20LIKE%20%27%25Public%20artworks%25%27%20OR%20%22category%22%20LIKE%20%27%25Public%20library%25%27%20OR%20%22category%22%20LIKE%20%27%25Social%20centre%25%27%20OR%20%22category%22%20LIKE%20%27%25Theatre%25%27%20OR%20%22category%22%20LIKE%20%27%25Viewpoint%25%27)%20AND%20(%22nuts_id%22%20==%20%27NO09%27%20OR%20%22nuts_id%22%20==%20%27NO02%27%20OR%20%22nuts_id%22%20==%20%27NO0B%27%20OR%20%22nuts_id%22%20==%20%27NO07%27%20OR%20%22nuts_id%22%20==%20%27NO08%27%20OR%20%22nuts_id%22%20==%20%27NO06%27%20OR%20%22nuts_id%22%20==%20%27NO0A%27)&,urn:ogc:def:crs:EPSG:3857&outputFormat=application%2Fjson&maxFeatures=5000',\n",
    "           'Poland':r'https://cultural-gems.jrc.ec.europa.eu/geoserver/gems/ows?service=WFS&version=1.0.0&request=GetFeature&typeName=gems:all_osm&srsName=EPSG:4326&CQL_FILTER=(%22category%22%20LIKE%20%27%25EUCultureFromHome%25%27%20OR%20%22category%22%20LIKE%20%27%25Aqueducts%25%27%20OR%20%22category%22%20LIKE%20%27%25Archaeological%20sites%25%27%20OR%20%22category%22%20LIKE%20%27%25Art%20gallery%25%27%20OR%20%22category%22%20LIKE%20%27%25Arts%20centre%25%27%20OR%20%22category%22%20LIKE%20%27%25Attraction%25%27%20OR%20%22category%22%20LIKE%20%27%25Castles%25%27%20OR%20%22category%22%20LIKE%20%27%25Church%25%27%20OR%20%22category%22%20LIKE%20%27%25Cinema%25%27%20OR%20%22category%22%20LIKE%20%27%25City%20gate%25%27%20OR%20%22category%22%20LIKE%20%27%25City%20walls%25%27%20OR%20%22category%22%20LIKE%20%27%25Community%20centre%25%27%20OR%20%22category%22%20LIKE%20%27%25Crypt%25%27%20OR%20%22category%22%20LIKE%20%27%25Fountain%25%27%20OR%20%22category%22%20LIKE%20%27%25Historic%20building%25%27%20OR%20%22category%22%20LIKE%20%27%25Manors%25%27%20OR%20%22category%22%20LIKE%20%27%25Memorial%25%27%20OR%20%22category%22%20LIKE%20%27%25Monastery%25%27%20OR%20%22category%22%20LIKE%20%27%25Monument%25%27%20OR%20%22category%22%20LIKE%20%27%25Museum%25%27%20OR%20%22category%22%20LIKE%20%27%25Music%20venue%25%27%20OR%20%22category%22%20LIKE%20%27%25Place%20of%20worship%25%27%20OR%20%22category%22%20LIKE%20%27%25Planetarium%25%27%20OR%20%22category%22%20LIKE%20%27%25Public%20artworks%25%27%20OR%20%22category%22%20LIKE%20%27%25Public%20library%25%27%20OR%20%22category%22%20LIKE%20%27%25Social%20centre%25%27%20OR%20%22category%22%20LIKE%20%27%25Theatre%25%27%20OR%20%22category%22%20LIKE%20%27%25Viewpoint%25%27)%20AND%20(%22nuts_id%22%20==%20%27PL51%27%20OR%20%22nuts_id%22%20==%20%27PL61%27%20OR%20%22nuts_id%22%20==%20%27PL81%27%20OR%20%22nuts_id%22%20==%20%27PL43%27%20OR%20%22nuts_id%22%20==%20%27PL92%27%20OR%20%22nuts_id%22%20==%20%27PL21%27%20OR%20%22nuts_id%22%20==%20%27PL52%27%20OR%20%22nuts_id%22%20==%20%27PL82%27%20OR%20%22nuts_id%22%20==%20%27PL84%27%20OR%20%22nuts_id%22%20==%20%27PL63%27%20OR%20%22nuts_id%22%20==%20%27PL62%27%20OR%20%22nuts_id%22%20==%20%27PL91%27%20OR%20%22nuts_id%22%20==%20%27PL41%27%20OR%20%22nuts_id%22%20==%20%27PL42%27%20OR%20%22nuts_id%22%20==%20%27PL71%27%20OR%20%22nuts_id%22%20==%20%27PL22%27%20OR%20%22nuts_id%22%20==%20%27PL72%27)&,urn:ogc:def:crs:EPSG:3857&outputFormat=application%2Fjson&maxFeatures=5000',\n",
    "           'Portugal':r'https://cultural-gems.jrc.ec.europa.eu/geoserver/gems/ows?service=WFS&version=1.0.0&request=GetFeature&typeName=gems:all_osm&srsName=EPSG:4326&CQL_FILTER=(%22category%22%20LIKE%20%27%25EUCultureFromHome%25%27%20OR%20%22category%22%20LIKE%20%27%25Aqueducts%25%27%20OR%20%22category%22%20LIKE%20%27%25Archaeological%20sites%25%27%20OR%20%22category%22%20LIKE%20%27%25Art%20gallery%25%27%20OR%20%22category%22%20LIKE%20%27%25Arts%20centre%25%27%20OR%20%22category%22%20LIKE%20%27%25Attraction%25%27%20OR%20%22category%22%20LIKE%20%27%25Castles%25%27%20OR%20%22category%22%20LIKE%20%27%25Church%25%27%20OR%20%22category%22%20LIKE%20%27%25Cinema%25%27%20OR%20%22category%22%20LIKE%20%27%25City%20gate%25%27%20OR%20%22category%22%20LIKE%20%27%25City%20walls%25%27%20OR%20%22category%22%20LIKE%20%27%25Community%20centre%25%27%20OR%20%22category%22%20LIKE%20%27%25Crypt%25%27%20OR%20%22category%22%20LIKE%20%27%25Fountain%25%27%20OR%20%22category%22%20LIKE%20%27%25Historic%20building%25%27%20OR%20%22category%22%20LIKE%20%27%25Manors%25%27%20OR%20%22category%22%20LIKE%20%27%25Memorial%25%27%20OR%20%22category%22%20LIKE%20%27%25Monastery%25%27%20OR%20%22category%22%20LIKE%20%27%25Monument%25%27%20OR%20%22category%22%20LIKE%20%27%25Museum%25%27%20OR%20%22category%22%20LIKE%20%27%25Music%20venue%25%27%20OR%20%22category%22%20LIKE%20%27%25Place%20of%20worship%25%27%20OR%20%22category%22%20LIKE%20%27%25Planetarium%25%27%20OR%20%22category%22%20LIKE%20%27%25Public%20artworks%25%27%20OR%20%22category%22%20LIKE%20%27%25Public%20library%25%27%20OR%20%22category%22%20LIKE%20%27%25Social%20centre%25%27%20OR%20%22category%22%20LIKE%20%27%25Theatre%25%27%20OR%20%22category%22%20LIKE%20%27%25Viewpoint%25%27)%20AND%20(%22nuts_id%22%20==%20%27PT18%27%20OR%20%22nuts_id%22%20==%20%27PT15%27%20OR%20%22nuts_id%22%20==%20%27PT16%27%20OR%20%22nuts_id%22%20==%20%27PT11%27%20OR%20%22nuts_id%22%20==%20%27PT30%27%20OR%20%22nuts_id%22%20==%20%27PT20%27%20OR%20%22nuts_id%22%20==%20%27PT17%27)&,urn:ogc:def:crs:EPSG:3857&outputFormat=application%2Fjson&maxFeatures=5000',\n",
    "           'Romania':r'https://cultural-gems.jrc.ec.europa.eu/geoserver/gems/ows?service=WFS&version=1.0.0&request=GetFeature&typeName=gems:all_osm&srsName=EPSG:4326&CQL_FILTER=(%22category%22%20LIKE%20%27%25EUCultureFromHome%25%27%20OR%20%22category%22%20LIKE%20%27%25Aqueducts%25%27%20OR%20%22category%22%20LIKE%20%27%25Archaeological%20sites%25%27%20OR%20%22category%22%20LIKE%20%27%25Art%20gallery%25%27%20OR%20%22category%22%20LIKE%20%27%25Arts%20centre%25%27%20OR%20%22category%22%20LIKE%20%27%25Attraction%25%27%20OR%20%22category%22%20LIKE%20%27%25Castles%25%27%20OR%20%22category%22%20LIKE%20%27%25Church%25%27%20OR%20%22category%22%20LIKE%20%27%25Cinema%25%27%20OR%20%22category%22%20LIKE%20%27%25City%20gate%25%27%20OR%20%22category%22%20LIKE%20%27%25City%20walls%25%27%20OR%20%22category%22%20LIKE%20%27%25Community%20centre%25%27%20OR%20%22category%22%20LIKE%20%27%25Crypt%25%27%20OR%20%22category%22%20LIKE%20%27%25Fountain%25%27%20OR%20%22category%22%20LIKE%20%27%25Historic%20building%25%27%20OR%20%22category%22%20LIKE%20%27%25Manors%25%27%20OR%20%22category%22%20LIKE%20%27%25Memorial%25%27%20OR%20%22category%22%20LIKE%20%27%25Monastery%25%27%20OR%20%22category%22%20LIKE%20%27%25Monument%25%27%20OR%20%22category%22%20LIKE%20%27%25Museum%25%27%20OR%20%22category%22%20LIKE%20%27%25Music%20venue%25%27%20OR%20%22category%22%20LIKE%20%27%25Place%20of%20worship%25%27%20OR%20%22category%22%20LIKE%20%27%25Planetarium%25%27%20OR%20%22category%22%20LIKE%20%27%25Public%20artworks%25%27%20OR%20%22category%22%20LIKE%20%27%25Public%20library%25%27%20OR%20%22category%22%20LIKE%20%27%25Social%20centre%25%27%20OR%20%22category%22%20LIKE%20%27%25Theatre%25%27%20OR%20%22category%22%20LIKE%20%27%25Viewpoint%25%27)%20AND%20(%22nuts_id%22%20==%20%27RO32%27%20OR%20%22nuts_id%22%20==%20%27RO12%27%20OR%20%22nuts_id%22%20==%20%27RO21%27%20OR%20%22nuts_id%22%20==%20%27RO11%27%20OR%20%22nuts_id%22%20==%20%27RO22%27%20OR%20%22nuts_id%22%20==%20%27RO31%27%20OR%20%22nuts_id%22%20==%20%27RO41%27%20OR%20%22nuts_id%22%20==%20%27RO42%27)&,urn:ogc:def:crs:EPSG:3857&outputFormat=application%2Fjson&maxFeatures=5000',\n",
    "           'Serbia':r'https://cultural-gems.jrc.ec.europa.eu/geoserver/gems/ows?service=WFS&version=1.0.0&request=GetFeature&typeName=gems:all_osm&srsName=EPSG:4326&CQL_FILTER=(%22category%22%20LIKE%20%27%25EUCultureFromHome%25%27%20OR%20%22category%22%20LIKE%20%27%25Aqueducts%25%27%20OR%20%22category%22%20LIKE%20%27%25Archaeological%20sites%25%27%20OR%20%22category%22%20LIKE%20%27%25Art%20gallery%25%27%20OR%20%22category%22%20LIKE%20%27%25Arts%20centre%25%27%20OR%20%22category%22%20LIKE%20%27%25Attraction%25%27%20OR%20%22category%22%20LIKE%20%27%25Castles%25%27%20OR%20%22category%22%20LIKE%20%27%25Church%25%27%20OR%20%22category%22%20LIKE%20%27%25Cinema%25%27%20OR%20%22category%22%20LIKE%20%27%25City%20gate%25%27%20OR%20%22category%22%20LIKE%20%27%25City%20walls%25%27%20OR%20%22category%22%20LIKE%20%27%25Community%20centre%25%27%20OR%20%22category%22%20LIKE%20%27%25Crypt%25%27%20OR%20%22category%22%20LIKE%20%27%25Fountain%25%27%20OR%20%22category%22%20LIKE%20%27%25Historic%20building%25%27%20OR%20%22category%22%20LIKE%20%27%25Manors%25%27%20OR%20%22category%22%20LIKE%20%27%25Memorial%25%27%20OR%20%22category%22%20LIKE%20%27%25Monastery%25%27%20OR%20%22category%22%20LIKE%20%27%25Monument%25%27%20OR%20%22category%22%20LIKE%20%27%25Museum%25%27%20OR%20%22category%22%20LIKE%20%27%25Music%20venue%25%27%20OR%20%22category%22%20LIKE%20%27%25Place%20of%20worship%25%27%20OR%20%22category%22%20LIKE%20%27%25Planetarium%25%27%20OR%20%22category%22%20LIKE%20%27%25Public%20artworks%25%27%20OR%20%22category%22%20LIKE%20%27%25Public%20library%25%27%20OR%20%22category%22%20LIKE%20%27%25Social%20centre%25%27%20OR%20%22category%22%20LIKE%20%27%25Theatre%25%27%20OR%20%22category%22%20LIKE%20%27%25Viewpoint%25%27)%20AND%20(%22nuts_id%22%20==%20%27RS12%27%20OR%20%22nuts_id%22%20==%20%27RS11%27%20OR%20%22nuts_id%22%20==%20%27RS22%27%20OR%20%22nuts_id%22%20==%20%27RS21%27)&,urn:ogc:def:crs:EPSG:3857&outputFormat=application%2Fjson&maxFeatures=5000',\n",
    "           'Slovakia':r'https://cultural-gems.jrc.ec.europa.eu/geoserver/gems/ows?service=WFS&version=1.0.0&request=GetFeature&typeName=gems:all_osm&srsName=EPSG:4326&CQL_FILTER=(%22category%22%20LIKE%20%27%25EUCultureFromHome%25%27%20OR%20%22category%22%20LIKE%20%27%25Aqueducts%25%27%20OR%20%22category%22%20LIKE%20%27%25Archaeological%20sites%25%27%20OR%20%22category%22%20LIKE%20%27%25Art%20gallery%25%27%20OR%20%22category%22%20LIKE%20%27%25Arts%20centre%25%27%20OR%20%22category%22%20LIKE%20%27%25Attraction%25%27%20OR%20%22category%22%20LIKE%20%27%25Castles%25%27%20OR%20%22category%22%20LIKE%20%27%25Church%25%27%20OR%20%22category%22%20LIKE%20%27%25Cinema%25%27%20OR%20%22category%22%20LIKE%20%27%25City%20gate%25%27%20OR%20%22category%22%20LIKE%20%27%25City%20walls%25%27%20OR%20%22category%22%20LIKE%20%27%25Community%20centre%25%27%20OR%20%22category%22%20LIKE%20%27%25Crypt%25%27%20OR%20%22category%22%20LIKE%20%27%25Fountain%25%27%20OR%20%22category%22%20LIKE%20%27%25Historic%20building%25%27%20OR%20%22category%22%20LIKE%20%27%25Manors%25%27%20OR%20%22category%22%20LIKE%20%27%25Memorial%25%27%20OR%20%22category%22%20LIKE%20%27%25Monastery%25%27%20OR%20%22category%22%20LIKE%20%27%25Monument%25%27%20OR%20%22category%22%20LIKE%20%27%25Museum%25%27%20OR%20%22category%22%20LIKE%20%27%25Music%20venue%25%27%20OR%20%22category%22%20LIKE%20%27%25Place%20of%20worship%25%27%20OR%20%22category%22%20LIKE%20%27%25Planetarium%25%27%20OR%20%22category%22%20LIKE%20%27%25Public%20artworks%25%27%20OR%20%22category%22%20LIKE%20%27%25Public%20library%25%27%20OR%20%22category%22%20LIKE%20%27%25Social%20centre%25%27%20OR%20%22category%22%20LIKE%20%27%25Theatre%25%27%20OR%20%22category%22%20LIKE%20%27%25Viewpoint%25%27)%20AND%20(%22nuts_id%22%20==%20%27SK01%27%20OR%20%22nuts_id%22%20==%20%27SK03%27%20OR%20%22nuts_id%22%20==%20%27SK04%27%20OR%20%22nuts_id%22%20==%20%27SK02%27)&,urn:ogc:def:crs:EPSG:3857&outputFormat=application%2Fjson&maxFeatures=5000',\n",
    "           'Slovenia':r'https://cultural-gems.jrc.ec.europa.eu/geoserver/gems/ows?service=WFS&version=1.0.0&request=GetFeature&typeName=gems:all_osm&srsName=EPSG:4326&CQL_FILTER=(%22category%22%20LIKE%20%27%25EUCultureFromHome%25%27%20OR%20%22category%22%20LIKE%20%27%25Aqueducts%25%27%20OR%20%22category%22%20LIKE%20%27%25Archaeological%20sites%25%27%20OR%20%22category%22%20LIKE%20%27%25Art%20gallery%25%27%20OR%20%22category%22%20LIKE%20%27%25Arts%20centre%25%27%20OR%20%22category%22%20LIKE%20%27%25Attraction%25%27%20OR%20%22category%22%20LIKE%20%27%25Castles%25%27%20OR%20%22category%22%20LIKE%20%27%25Church%25%27%20OR%20%22category%22%20LIKE%20%27%25Cinema%25%27%20OR%20%22category%22%20LIKE%20%27%25City%20gate%25%27%20OR%20%22category%22%20LIKE%20%27%25City%20walls%25%27%20OR%20%22category%22%20LIKE%20%27%25Community%20centre%25%27%20OR%20%22category%22%20LIKE%20%27%25Crypt%25%27%20OR%20%22category%22%20LIKE%20%27%25Fountain%25%27%20OR%20%22category%22%20LIKE%20%27%25Historic%20building%25%27%20OR%20%22category%22%20LIKE%20%27%25Manors%25%27%20OR%20%22category%22%20LIKE%20%27%25Memorial%25%27%20OR%20%22category%22%20LIKE%20%27%25Monastery%25%27%20OR%20%22category%22%20LIKE%20%27%25Monument%25%27%20OR%20%22category%22%20LIKE%20%27%25Museum%25%27%20OR%20%22category%22%20LIKE%20%27%25Music%20venue%25%27%20OR%20%22category%22%20LIKE%20%27%25Place%20of%20worship%25%27%20OR%20%22category%22%20LIKE%20%27%25Planetarium%25%27%20OR%20%22category%22%20LIKE%20%27%25Public%20artworks%25%27%20OR%20%22category%22%20LIKE%20%27%25Public%20library%25%27%20OR%20%22category%22%20LIKE%20%27%25Social%20centre%25%27%20OR%20%22category%22%20LIKE%20%27%25Theatre%25%27%20OR%20%22category%22%20LIKE%20%27%25Viewpoint%25%27)%20AND%20(%22nuts_id%22%20==%20%27SI03%27%20OR%20%22nuts_id%22%20==%20%27SI04%27)&,urn:ogc:def:crs:EPSG:3857&outputFormat=application%2Fjson&maxFeatures=5000',\n",
    "           'Spain':r'https://cultural-gems.jrc.ec.europa.eu/geoserver/gems/ows?service=WFS&version=1.0.0&request=GetFeature&typeName=gems:all_osm&srsName=EPSG:4326&CQL_FILTER=(%22category%22%20LIKE%20%27%25EUCultureFromHome%25%27%20OR%20%22category%22%20LIKE%20%27%25Aqueducts%25%27%20OR%20%22category%22%20LIKE%20%27%25Archaeological%20sites%25%27%20OR%20%22category%22%20LIKE%20%27%25Art%20gallery%25%27%20OR%20%22category%22%20LIKE%20%27%25Arts%20centre%25%27%20OR%20%22category%22%20LIKE%20%27%25Attraction%25%27%20OR%20%22category%22%20LIKE%20%27%25Castles%25%27%20OR%20%22category%22%20LIKE%20%27%25Church%25%27%20OR%20%22category%22%20LIKE%20%27%25Cinema%25%27%20OR%20%22category%22%20LIKE%20%27%25City%20gate%25%27%20OR%20%22category%22%20LIKE%20%27%25City%20walls%25%27%20OR%20%22category%22%20LIKE%20%27%25Community%20centre%25%27%20OR%20%22category%22%20LIKE%20%27%25Crypt%25%27%20OR%20%22category%22%20LIKE%20%27%25Fountain%25%27%20OR%20%22category%22%20LIKE%20%27%25Historic%20building%25%27%20OR%20%22category%22%20LIKE%20%27%25Manors%25%27%20OR%20%22category%22%20LIKE%20%27%25Memorial%25%27%20OR%20%22category%22%20LIKE%20%27%25Monastery%25%27%20OR%20%22category%22%20LIKE%20%27%25Monument%25%27%20OR%20%22category%22%20LIKE%20%27%25Museum%25%27%20OR%20%22category%22%20LIKE%20%27%25Music%20venue%25%27%20OR%20%22category%22%20LIKE%20%27%25Place%20of%20worship%25%27%20OR%20%22category%22%20LIKE%20%27%25Planetarium%25%27%20OR%20%22category%22%20LIKE%20%27%25Public%20artworks%25%27%20OR%20%22category%22%20LIKE%20%27%25Public%20library%25%27%20OR%20%22category%22%20LIKE%20%27%25Social%20centre%25%27%20OR%20%22category%22%20LIKE%20%27%25Theatre%25%27%20OR%20%22category%22%20LIKE%20%27%25Viewpoint%25%27)%20AND%20(%22nuts_id%22%20==%20%27ES61%27%20OR%20%22nuts_id%22%20==%20%27ES24%27%20OR%20%22nuts_id%22%20==%20%27ES70%27%20OR%20%22nuts_id%22%20==%20%27ES13%27%20OR%20%22nuts_id%22%20==%20%27ES41%27%20OR%20%22nuts_id%22%20==%20%27ES42%27%20OR%20%22nuts_id%22%20==%20%27ES51%27%20OR%20%22nuts_id%22%20==%20%27ES63%27%20OR%20%22nuts_id%22%20==%20%27ES64%27%20OR%20%22nuts_id%22%20==%20%27ES22%27%20OR%20%22nuts_id%22%20==%20%27ES30%27%20OR%20%22nuts_id%22%20==%20%27ES52%27%20OR%20%22nuts_id%22%20==%20%27ES43%27%20OR%20%22nuts_id%22%20==%20%27ES11%27%20OR%20%22nuts_id%22%20==%20%27ES53%27%20OR%20%22nuts_id%22%20==%20%27ES23%27%20OR%20%22nuts_id%22%20==%20%27ES21%27%20OR%20%22nuts_id%22%20==%20%27ES12%27%20OR%20%22nuts_id%22%20==%20%27ES62%27)&,urn:ogc:def:crs:EPSG:3857&outputFormat=application%2Fjson&maxFeatures=5000',\n",
    "           'Sweden':r'https://cultural-gems.jrc.ec.europa.eu/geoserver/gems/ows?service=WFS&version=1.0.0&request=GetFeature&typeName=gems:all_osm&srsName=EPSG:4326&CQL_FILTER=(%22category%22%20LIKE%20%27%25EUCultureFromHome%25%27%20OR%20%22category%22%20LIKE%20%27%25Aqueducts%25%27%20OR%20%22category%22%20LIKE%20%27%25Archaeological%20sites%25%27%20OR%20%22category%22%20LIKE%20%27%25Art%20gallery%25%27%20OR%20%22category%22%20LIKE%20%27%25Arts%20centre%25%27%20OR%20%22category%22%20LIKE%20%27%25Attraction%25%27%20OR%20%22category%22%20LIKE%20%27%25Castles%25%27%20OR%20%22category%22%20LIKE%20%27%25Church%25%27%20OR%20%22category%22%20LIKE%20%27%25Cinema%25%27%20OR%20%22category%22%20LIKE%20%27%25City%20gate%25%27%20OR%20%22category%22%20LIKE%20%27%25City%20walls%25%27%20OR%20%22category%22%20LIKE%20%27%25Community%20centre%25%27%20OR%20%22category%22%20LIKE%20%27%25Crypt%25%27%20OR%20%22category%22%20LIKE%20%27%25Fountain%25%27%20OR%20%22category%22%20LIKE%20%27%25Historic%20building%25%27%20OR%20%22category%22%20LIKE%20%27%25Manors%25%27%20OR%20%22category%22%20LIKE%20%27%25Memorial%25%27%20OR%20%22category%22%20LIKE%20%27%25Monastery%25%27%20OR%20%22category%22%20LIKE%20%27%25Monument%25%27%20OR%20%22category%22%20LIKE%20%27%25Museum%25%27%20OR%20%22category%22%20LIKE%20%27%25Music%20venue%25%27%20OR%20%22category%22%20LIKE%20%27%25Place%20of%20worship%25%27%20OR%20%22category%22%20LIKE%20%27%25Planetarium%25%27%20OR%20%22category%22%20LIKE%20%27%25Public%20artworks%25%27%20OR%20%22category%22%20LIKE%20%27%25Public%20library%25%27%20OR%20%22category%22%20LIKE%20%27%25Social%20centre%25%27%20OR%20%22category%22%20LIKE%20%27%25Theatre%25%27%20OR%20%22category%22%20LIKE%20%27%25Viewpoint%25%27)%20AND%20(%22nuts_id%22%20==%20%27SE32%27%20OR%20%22nuts_id%22%20==%20%27SE31%27%20OR%20%22nuts_id%22%20==%20%27SE21%27%20OR%20%22nuts_id%22%20==%20%27SE11%27%20OR%20%22nuts_id%22%20==%20%27SE22%27%20OR%20%22nuts_id%22%20==%20%27SE23%27%20OR%20%22nuts_id%22%20==%20%27SE12%27%20OR%20%22nuts_id%22%20==%20%27SE33%27)&,urn:ogc:def:crs:EPSG:3857&outputFormat=application%2Fjson&maxFeatures=5000',\n",
    "           'Switzerland':r'https://cultural-gems.jrc.ec.europa.eu/geoserver/gems/ows?service=WFS&version=1.0.0&request=GetFeature&typeName=gems:all_osm&srsName=EPSG:4326&CQL_FILTER=(%22category%22%20LIKE%20%27%25EUCultureFromHome%25%27%20OR%20%22category%22%20LIKE%20%27%25Aqueducts%25%27%20OR%20%22category%22%20LIKE%20%27%25Archaeological%20sites%25%27%20OR%20%22category%22%20LIKE%20%27%25Art%20gallery%25%27%20OR%20%22category%22%20LIKE%20%27%25Arts%20centre%25%27%20OR%20%22category%22%20LIKE%20%27%25Attraction%25%27%20OR%20%22category%22%20LIKE%20%27%25Castles%25%27%20OR%20%22category%22%20LIKE%20%27%25Church%25%27%20OR%20%22category%22%20LIKE%20%27%25Cinema%25%27%20OR%20%22category%22%20LIKE%20%27%25City%20gate%25%27%20OR%20%22category%22%20LIKE%20%27%25City%20walls%25%27%20OR%20%22category%22%20LIKE%20%27%25Community%20centre%25%27%20OR%20%22category%22%20LIKE%20%27%25Crypt%25%27%20OR%20%22category%22%20LIKE%20%27%25Fountain%25%27%20OR%20%22category%22%20LIKE%20%27%25Historic%20building%25%27%20OR%20%22category%22%20LIKE%20%27%25Manors%25%27%20OR%20%22category%22%20LIKE%20%27%25Memorial%25%27%20OR%20%22category%22%20LIKE%20%27%25Monastery%25%27%20OR%20%22category%22%20LIKE%20%27%25Monument%25%27%20OR%20%22category%22%20LIKE%20%27%25Museum%25%27%20OR%20%22category%22%20LIKE%20%27%25Music%20venue%25%27%20OR%20%22category%22%20LIKE%20%27%25Place%20of%20worship%25%27%20OR%20%22category%22%20LIKE%20%27%25Planetarium%25%27%20OR%20%22category%22%20LIKE%20%27%25Public%20artworks%25%27%20OR%20%22category%22%20LIKE%20%27%25Public%20library%25%27%20OR%20%22category%22%20LIKE%20%27%25Social%20centre%25%27%20OR%20%22category%22%20LIKE%20%27%25Theatre%25%27%20OR%20%22category%22%20LIKE%20%27%25Viewpoint%25%27)%20AND%20(%22nuts_id%22%20==%20%27CH02%27%20OR%20%22nuts_id%22%20==%20%27CH03%27%20OR%20%22nuts_id%22%20==%20%27CH05%27%20OR%20%22nuts_id%22%20==%20%27CH01%27%20OR%20%22nuts_id%22%20==%20%27CH07%27%20OR%20%22nuts_id%22%20==%20%27CH06%27%20OR%20%22nuts_id%22%20==%20%27CH04%27)&,urn:ogc:def:crs:EPSG:3857&outputFormat=application%2Fjson&maxFeatures=5000',\n",
    "           'UK':r'https://cultural-gems.jrc.ec.europa.eu/geoserver/gems/ows?service=WFS&version=1.0.0&request=GetFeature&typeName=gems:all_osm&srsName=EPSG:4326&CQL_FILTER=(%22category%22%20LIKE%20%27%25EUCultureFromHome%25%27%20OR%20%22category%22%20LIKE%20%27%25Aqueducts%25%27%20OR%20%22category%22%20LIKE%20%27%25Archaeological%20sites%25%27%20OR%20%22category%22%20LIKE%20%27%25Art%20gallery%25%27%20OR%20%22category%22%20LIKE%20%27%25Arts%20centre%25%27%20OR%20%22category%22%20LIKE%20%27%25Attraction%25%27%20OR%20%22category%22%20LIKE%20%27%25Castles%25%27%20OR%20%22category%22%20LIKE%20%27%25Church%25%27%20OR%20%22category%22%20LIKE%20%27%25Cinema%25%27%20OR%20%22category%22%20LIKE%20%27%25City%20gate%25%27%20OR%20%22category%22%20LIKE%20%27%25City%20walls%25%27%20OR%20%22category%22%20LIKE%20%27%25Community%20centre%25%27%20OR%20%22category%22%20LIKE%20%27%25Crypt%25%27%20OR%20%22category%22%20LIKE%20%27%25Fountain%25%27%20OR%20%22category%22%20LIKE%20%27%25Historic%20building%25%27%20OR%20%22category%22%20LIKE%20%27%25Manors%25%27%20OR%20%22category%22%20LIKE%20%27%25Memorial%25%27%20OR%20%22category%22%20LIKE%20%27%25Monastery%25%27%20OR%20%22category%22%20LIKE%20%27%25Monument%25%27%20OR%20%22category%22%20LIKE%20%27%25Museum%25%27%20OR%20%22category%22%20LIKE%20%27%25Music%20venue%25%27%20OR%20%22category%22%20LIKE%20%27%25Place%20of%20worship%25%27%20OR%20%22category%22%20LIKE%20%27%25Planetarium%25%27%20OR%20%22category%22%20LIKE%20%27%25Public%20artworks%25%27%20OR%20%22category%22%20LIKE%20%27%25Public%20library%25%27%20OR%20%22category%22%20LIKE%20%27%25Social%20centre%25%27%20OR%20%22category%22%20LIKE%20%27%25Theatre%25%27%20OR%20%22category%22%20LIKE%20%27%25Viewpoint%25%27)%20AND%20(%22nuts_id%22%20==%20%27UKH2%27%20OR%20%22nuts_id%22%20==%20%27UKJ1%27%20OR%20%22nuts_id%22%20==%20%27UKD6%27%20OR%20%22nuts_id%22%20==%20%27UKK3%27%20OR%20%22nuts_id%22%20==%20%27UKD1%27%20OR%20%22nuts_id%22%20==%20%27UKF1%27%20OR%20%22nuts_id%22%20==%20%27UKK4%27%20OR%20%22nuts_id%22%20==%20%27UKK2%27%20OR%20%22nuts_id%22%20==%20%27UKH1%27%20OR%20%22nuts_id%22%20==%20%27UKL2%27%20OR%20%22nuts_id%22%20==%20%27UKE1%27%20OR%20%22nuts_id%22%20==%20%27UKM7%27%20OR%20%22nuts_id%22%20==%20%27UKH3%27%20OR%20%22nuts_id%22%20==%20%27UKK1%27%20OR%20%22nuts_id%22%20==%20%27UKD3%27%20OR%20%22nuts_id%22%20==%20%27UKJ3%27%20OR%20%22nuts_id%22%20==%20%27UKG1%27%20OR%20%22nuts_id%22%20==%20%27UKM6%27%20OR%20%22nuts_id%22%20==%20%27UKI4%27%20OR%20%22nuts_id%22%20==%20%27UKI3%27%20OR%20%22nuts_id%22%20==%20%27UKJ4%27%20OR%20%22nuts_id%22%20==%20%27UKD4%27%20OR%20%22nuts_id%22%20==%20%27UKF2%27%20OR%20%22nuts_id%22%20==%20%27UKF3%27%20OR%20%22nuts_id%22%20==%20%27UKD7%27%20OR%20%22nuts_id%22%20==%20%27UKM5%27%20OR%20%22nuts_id%22%20==%20%27UKE2%27%20OR%20%22nuts_id%22%20==%20%27UKN0%27%20OR%20%22nuts_id%22%20==%20%27UKC2%27%20OR%20%22nuts_id%22%20==%20%27UKI5%27%20OR%20%22nuts_id%22%20==%20%27UKI6%27%20OR%20%22nuts_id%22%20==%20%27UKI7%27%20OR%20%22nuts_id%22%20==%20%27UKG2%27%20OR%20%22nuts_id%22%20==%20%27UKE3%27%20OR%20%22nuts_id%22%20==%20%27UKM9%27%20OR%20%22nuts_id%22%20==%20%27UKJ2%27%20OR%20%22nuts_id%22%20==%20%27UKC1%27%20OR%20%22nuts_id%22%20==%20%27UKM8%27%20OR%20%22nuts_id%22%20==%20%27UKG3%27%20OR%20%22nuts_id%22%20==%20%27UKL1%27%20OR%20%22nuts_id%22%20==%20%27UKE4%27)&,urn:ogc:def:crs:EPSG:3857&outputFormat=application%2Fjson&maxFeatures=5000'\n",
    "           }"
   ]
  },
  {
   "cell_type": "code",
   "execution_count": 222,
   "id": "aa603e3d-3195-417a-875f-735110fee37e",
   "metadata": {},
   "outputs": [],
   "source": [
    "def get_features_in_url(url):\n",
    "    dict_features = {}\n",
    "    r = requests.get(url)\n",
    "    features_json = json.loads(r.text)\n",
    "    \n",
    "    for feature in features_json['features']:\n",
    "        properties = feature['properties']\n",
    "        title = properties['title']\n",
    "        category = properties['category']\n",
    "        source = properties['source']\n",
    "        loc_lat= properties['loc_lat']\n",
    "        loc_lng= properties['loc_lng']\n",
    "        dict_features[title] = [title, category, source, loc_lat, loc_lng]\n",
    "        \n",
    "    df_features = pd.DataFrame(dict_features).T\n",
    "    df_features.columns = ['title', 'category', 'source', 'lat', 'lon']\n",
    "\n",
    "    return df_features"
   ]
  },
  {
   "cell_type": "code",
   "execution_count": 223,
   "id": "43d504f1-f013-4c7d-8036-9c4c0fbbbaaf",
   "metadata": {},
   "outputs": [
    {
     "name": "stderr",
     "output_type": "stream",
     "text": [
      "100%|██████████████████████████████████████████████████████████████████████████████████| 36/36 [00:34<00:00,  1.04it/s]\n"
     ]
    }
   ],
   "source": [
    "list_missing_country = []\n",
    "df_features_comb = None\n",
    "for country in tqdm(url_dict.keys()):\n",
    "    try:\n",
    "        url = url_dict[country]\n",
    "        df_features_temp = get_features_in_url(url)\n",
    "        df_features_comb = df_features_temp if df_features_comb is None else pd.concat([df_features_comb, df_features_temp])\n",
    "    except:\n",
    "        list_missing_country.append(country)\n",
    "        pass\n",
    "        \n",
    "df_features_comb.to_csv(r'C:\\1-Data\\Cultural Gems\\temp_0.csv')"
   ]
  },
  {
   "cell_type": "markdown",
   "id": "99b8dc92-a436-48e1-8cb1-3e21455a93d3",
   "metadata": {},
   "source": [
    "## 1.2 Divide the total categories into groups. Only request POIs in certain group each time to avoid the number of returned POIs exceed 5000"
   ]
  },
  {
   "cell_type": "code",
   "execution_count": 83,
   "id": "5b851842-6cd8-453a-98c0-bdec8edd77e4",
   "metadata": {},
   "outputs": [],
   "source": [
    "def get_category_groups(interval=3):\n",
    "    # interval is the number of categories in each group\n",
    "    category_list = ['Community centre', 'Social centre', 'Attraction', 'Viewpoint', 'Public library', 'Art gallery',\n",
    "                 'Arts centre', 'Public artworks', 'EUCultureFromHome', 'Museum', 'Planetarium', 'Cinema', 'Music venue', \n",
    "                 'Theatre', 'Aqueducts', 'Archaeological sites', 'Castles', 'City gate', 'City walls', 'Crypt', 'Fountain', \n",
    "                 'Historic building', 'Manors', 'Memorial', 'Monument', 'Church', 'Monastery', 'Place of worship']\n",
    "    num_groups = len(category_list) // interval + 1\n",
    "    \n",
    "    groups = []\n",
    "    for i in range(num_groups):\n",
    "        start = i * interval\n",
    "        # Last group: take everything to the end\n",
    "        if i == num_groups - 1:\n",
    "            end = len(category_list)\n",
    "        else:\n",
    "            end = (i + 1) * interval\n",
    "        group  = [i.replace(' ', '%20') for i in category_list[start:end]]\n",
    "        groups.append(group)\n",
    "    return groups"
   ]
  },
  {
   "cell_type": "code",
   "execution_count": 226,
   "id": "16098817-5484-4f7d-9d4b-182f2986cd57",
   "metadata": {},
   "outputs": [
    {
     "name": "stderr",
     "output_type": "stream",
     "text": [
      "  7%|█████▉                                                                             | 1/14 [00:23<05:05, 23.48s/it]"
     ]
    },
    {
     "name": "stdout",
     "output_type": "stream",
     "text": [
      "23032 POIs were retrieved for Austria\n"
     ]
    },
    {
     "name": "stderr",
     "output_type": "stream",
     "text": [
      " 14%|███████████▊                                                                       | 2/14 [00:47<04:42, 23.56s/it]"
     ]
    },
    {
     "name": "stdout",
     "output_type": "stream",
     "text": [
      "19266 POIs were retrieved for Belgium\n"
     ]
    },
    {
     "name": "stderr",
     "output_type": "stream",
     "text": [
      " 21%|█████████████████▊                                                                 | 3/14 [01:10<04:19, 23.57s/it]"
     ]
    },
    {
     "name": "stdout",
     "output_type": "stream",
     "text": [
      "18086 POIs were retrieved for Czechia\n"
     ]
    },
    {
     "name": "stderr",
     "output_type": "stream",
     "text": [
      " 29%|███████████████████████▋                                                           | 4/14 [01:35<04:02, 24.23s/it]"
     ]
    },
    {
     "name": "stdout",
     "output_type": "stream",
     "text": [
      "46190 POIs were retrieved for France\n"
     ]
    },
    {
     "name": "stderr",
     "output_type": "stream",
     "text": [
      " 36%|█████████████████████████████▋                                                     | 5/14 [02:00<03:39, 24.33s/it]"
     ]
    },
    {
     "name": "stdout",
     "output_type": "stream",
     "text": [
      "49954 POIs were retrieved for Germany\n"
     ]
    },
    {
     "name": "stderr",
     "output_type": "stream",
     "text": [
      " 43%|███████████████████████████████████▌                                               | 6/14 [02:22<03:09, 23.66s/it]"
     ]
    },
    {
     "name": "stdout",
     "output_type": "stream",
     "text": [
      "12805 POIs were retrieved for Greece\n"
     ]
    },
    {
     "name": "stderr",
     "output_type": "stream",
     "text": [
      " 50%|█████████████████████████████████████████▌                                         | 7/14 [02:45<02:44, 23.43s/it]"
     ]
    },
    {
     "name": "stdout",
     "output_type": "stream",
     "text": [
      "16187 POIs were retrieved for Hungary\n"
     ]
    },
    {
     "name": "stderr",
     "output_type": "stream",
     "text": [
      " 57%|███████████████████████████████████████████████▍                                   | 8/14 [03:13<02:28, 24.81s/it]"
     ]
    },
    {
     "name": "stdout",
     "output_type": "stream",
     "text": [
      "47714 POIs were retrieved for Italy\n"
     ]
    },
    {
     "name": "stderr",
     "output_type": "stream",
     "text": [
      " 64%|█████████████████████████████████████████████████████▎                             | 9/14 [03:37<02:02, 24.53s/it]"
     ]
    },
    {
     "name": "stdout",
     "output_type": "stream",
     "text": [
      "21101 POIs were retrieved for Netherlands\n"
     ]
    },
    {
     "name": "stderr",
     "output_type": "stream",
     "text": [
      " 71%|██████████████████████████████████████████████████████████▌                       | 10/14 [04:02<01:38, 24.55s/it]"
     ]
    },
    {
     "name": "stdout",
     "output_type": "stream",
     "text": [
      "30132 POIs were retrieved for Poland\n"
     ]
    },
    {
     "name": "stderr",
     "output_type": "stream",
     "text": [
      " 79%|████████████████████████████████████████████████████████████████▍                 | 11/14 [04:24<01:11, 23.88s/it]"
     ]
    },
    {
     "name": "stdout",
     "output_type": "stream",
     "text": [
      "13792 POIs were retrieved for Romania\n"
     ]
    },
    {
     "name": "stderr",
     "output_type": "stream",
     "text": [
      " 86%|██████████████████████████████████████████████████████████████████████▎           | 12/14 [04:52<00:50, 25.25s/it]"
     ]
    },
    {
     "name": "stdout",
     "output_type": "stream",
     "text": [
      "45214 POIs were retrieved for Spain\n"
     ]
    },
    {
     "name": "stderr",
     "output_type": "stream",
     "text": [
      " 93%|████████████████████████████████████████████████████████████████████████████▏     | 13/14 [05:16<00:24, 24.68s/it]"
     ]
    },
    {
     "name": "stdout",
     "output_type": "stream",
     "text": [
      "16015 POIs were retrieved for Sweden\n"
     ]
    },
    {
     "name": "stderr",
     "output_type": "stream",
     "text": [
      "100%|██████████████████████████████████████████████████████████████████████████████████| 14/14 [05:43<00:00, 24.54s/it]"
     ]
    },
    {
     "name": "stdout",
     "output_type": "stream",
     "text": [
      "41535 POIs were retrieved for UK\n"
     ]
    },
    {
     "name": "stderr",
     "output_type": "stream",
     "text": [
      "\n"
     ]
    }
   ],
   "source": [
    "groups = get_category_groups(2)\n",
    "\n",
    "df_missing_comb = None\n",
    "for country in tqdm(list_missing_country):\n",
    "    df_country_comb = None\n",
    "    original_url = url_dict[country]\n",
    "    for group in groups:\n",
    "        category_string = '%22category%22%20LIKE%20%27%25' + '%25%27%20OR%20%22category%22%20LIKE%20%27%25'.join(group) + '%25%27'\n",
    "        current_url = re.sub(r'(CQL_FILTER=\\().*?(\\))', rf'\\1{category_string}\\2', original_url)\n",
    "        df_country_temp = get_features_in_url(current_url)\n",
    "        df_country_comb = df_country_temp if df_country_comb is None else pd.concat([df_country_comb, df_country_temp])\n",
    "    df_missing_comb = df_country_comb if df_missing_comb is None else pd.concat([df_missing_comb, df_country_comb])\n",
    "    print('{} POIs were retrieved for {}'.format(len(df_country_comb), country))\n",
    "\n",
    "df_missing_comb.to_csv(r'C:\\1-Data\\Cultural Gems\\temp_1.csv')       "
   ]
  },
  {
   "cell_type": "code",
   "execution_count": 227,
   "id": "e3a71fff-13bb-463b-8fb9-ff210bde3851",
   "metadata": {},
   "outputs": [
    {
     "name": "stdout",
     "output_type": "stream",
     "text": [
      "465810\n"
     ]
    }
   ],
   "source": [
    "# Concatenante the two df of features and export\n",
    "df_features = pd.concat([df_features_comb, df_missing_comb])\n",
    "df_features['category_unique'] = df_features['category'].apply(lambda x: x if '|' not in str(x) else x.split('|')[0])\n",
    "\n",
    "# merge with Doug's category\n",
    "doug_category = pd.read_excel(r'C:\\1-Data\\Cultural Gems\\cultural gems categories_drl.xlsx')\n",
    "df_features = pd.merge(df_features, doug_category[['category', 'Doug’s category']], how='left', left_on='category_unique', right_on='category')\n",
    "df_features.drop(columns=['category_y']).rename(columns={'category_x':'category'}).to_csv(r'C:\\1-Data\\Cultural Gems\\all_cultural_gems_poi.csv')\n",
    "print(len(df_features))"
   ]
  },
  {
   "cell_type": "markdown",
   "id": "46c51424-e99c-4c6a-b691-da2797a4941e",
   "metadata": {},
   "source": [
    "## 2. Aggregate all categories by Doug’s category and by NUTS regions"
   ]
  },
  {
   "cell_type": "code",
   "execution_count": 4,
   "id": "4417dd67-77b6-433e-a31d-47e11c9f668d",
   "metadata": {},
   "outputs": [],
   "source": [
    "# import and convert the dataframe of cultural gems pois to shp\n",
    "df_features = pd.read_csv(r'C:\\1-Data\\Cultural Gems\\all_cultural_gems_poi.csv', index_col=0)\n",
    "gdf_features = gpd.GeoDataFrame(df_features, geometry=gpd.points_from_xy(df_features.lon, df_features.lat),\n",
    "                                crs=\"EPSG:4326\").to_crs('EPSG:3035')"
   ]
  },
  {
   "cell_type": "code",
   "execution_count": 7,
   "id": "23495133-7239-434c-a2f9-b31ce2976f2f",
   "metadata": {},
   "outputs": [],
   "source": [
    "save_folder = r'C:\\2-Case studies\\Cultural Gems\\category'\n",
    "nuts_folder = r'C:\\1-Data\\NUTS'\n",
    "years = [2003, 2006, 2010, 2013, 2016, 2021, 2024]"
   ]
  },
  {
   "cell_type": "code",
   "execution_count": 24,
   "id": "d8526716-8722-492d-80db-96aaf269da19",
   "metadata": {
    "scrolled": true
   },
   "outputs": [
    {
     "name": "stderr",
     "output_type": "stream",
     "text": [
      "  0%|                                                                                            | 0/7 [00:00<?, ?it/s]\n",
      "  0%|                                                                                           | 0/45 [00:00<?, ?it/s]\u001b[A\n",
      "  2%|█▊                                                                                 | 1/45 [00:06<04:45,  6.50s/it]\u001b[A\n",
      "  4%|███▋                                                                               | 2/45 [00:12<04:34,  6.38s/it]\u001b[A\n",
      "  7%|█████▌                                                                             | 3/45 [00:18<04:22,  6.25s/it]\u001b[A\n",
      "  9%|███████▍                                                                           | 4/45 [00:24<04:10,  6.10s/it]\u001b[A\n",
      " 11%|█████████▏                                                                         | 5/45 [00:30<03:59,  5.99s/it]\u001b[A\n",
      " 13%|███████████                                                                        | 6/45 [00:36<03:57,  6.08s/it]\u001b[A\n",
      " 16%|████████████▉                                                                      | 7/45 [00:42<03:51,  6.10s/it]\u001b[A\n",
      " 18%|██████████████▊                                                                    | 8/45 [00:49<03:50,  6.23s/it]\u001b[A\n",
      " 20%|████████████████▌                                                                  | 9/45 [00:55<03:47,  6.33s/it]\u001b[A\n",
      " 22%|██████████████████▏                                                               | 10/45 [01:02<03:38,  6.25s/it]\u001b[A\n",
      " 24%|████████████████████                                                              | 11/45 [01:08<03:29,  6.16s/it]\u001b[A\n",
      " 27%|█████████████████████▊                                                            | 12/45 [01:14<03:21,  6.12s/it]\u001b[A\n",
      " 29%|███████████████████████▋                                                          | 13/45 [01:19<03:13,  6.05s/it]\u001b[A\n",
      " 31%|█████████████████████████▌                                                        | 14/45 [01:25<03:07,  6.05s/it]\u001b[A\n",
      " 33%|███████████████████████████▎                                                      | 15/45 [01:31<03:00,  6.03s/it]\u001b[A\n",
      " 36%|█████████████████████████████▏                                                    | 16/45 [01:37<02:53,  6.00s/it]\u001b[A\n",
      " 38%|██████████████████████████████▉                                                   | 17/45 [01:43<02:45,  5.92s/it]\u001b[A\n",
      " 40%|████████████████████████████████▊                                                 | 18/45 [01:49<02:36,  5.81s/it]\u001b[A\n",
      " 42%|██████████████████████████████████▌                                               | 19/45 [01:55<02:32,  5.85s/it]\u001b[A\n",
      " 44%|████████████████████████████████████▍                                             | 20/45 [02:01<02:31,  6.04s/it]\u001b[A\n",
      " 47%|██████████████████████████████████████▎                                           | 21/45 [02:07<02:25,  6.05s/it]\u001b[A\n",
      " 49%|████████████████████████████████████████                                          | 22/45 [02:13<02:16,  5.94s/it]\u001b[A\n",
      " 51%|█████████████████████████████████████████▉                                        | 23/45 [02:19<02:10,  5.94s/it]\u001b[A\n",
      " 53%|███████████████████████████████████████████▋                                      | 24/45 [02:25<02:04,  5.92s/it]\u001b[A\n",
      " 56%|█████████████████████████████████████████████▌                                    | 25/45 [02:31<01:58,  5.90s/it]\u001b[A\n",
      " 58%|███████████████████████████████████████████████▍                                  | 26/45 [02:36<01:52,  5.92s/it]\u001b[A\n",
      " 60%|█████████████████████████████████████████████████▏                                | 27/45 [02:42<01:44,  5.81s/it]\u001b[A\n",
      " 62%|███████████████████████████████████████████████████                               | 28/45 [02:48<01:37,  5.76s/it]\u001b[A\n",
      " 64%|████████████████████████████████████████████████████▊                             | 29/45 [02:53<01:31,  5.72s/it]\u001b[A\n",
      " 67%|██████████████████████████████████████████████████████▋                           | 30/45 [02:59<01:25,  5.72s/it]\u001b[A\n",
      " 69%|████████████████████████████████████████████████████████▍                         | 31/45 [03:05<01:20,  5.73s/it]\u001b[A\n",
      " 71%|██████████████████████████████████████████████████████████▎                       | 32/45 [03:10<01:14,  5.70s/it]\u001b[A\n",
      " 73%|████████████████████████████████████████████████████████████▏                     | 33/45 [03:17<01:09,  5.83s/it]\u001b[A\n",
      " 76%|█████████████████████████████████████████████████████████████▉                    | 34/45 [03:23<01:05,  5.93s/it]\u001b[A\n",
      " 78%|███████████████████████████████████████████████████████████████▊                  | 35/45 [03:29<00:59,  6.00s/it]\u001b[A\n",
      " 80%|█████████████████████████████████████████████████████████████████▌                | 36/45 [03:35<00:54,  6.08s/it]\u001b[A\n",
      " 82%|███████████████████████████████████████████████████████████████████▍              | 37/45 [03:41<00:48,  6.02s/it]\u001b[A\n",
      " 84%|█████████████████████████████████████████████████████████████████████▏            | 38/45 [03:47<00:41,  5.91s/it]\u001b[A\n",
      " 87%|███████████████████████████████████████████████████████████████████████           | 39/45 [03:53<00:35,  5.89s/it]\u001b[A\n",
      " 89%|████████████████████████████████████████████████████████████████████████▉         | 40/45 [03:58<00:29,  5.88s/it]\u001b[A\n",
      " 91%|██████████████████████████████████████████████████████████████████████████▋       | 41/45 [04:05<00:23,  5.95s/it]\u001b[A\n",
      " 93%|████████████████████████████████████████████████████████████████████████████▌     | 42/45 [04:11<00:18,  6.01s/it]\u001b[A\n",
      " 96%|██████████████████████████████████████████████████████████████████████████████▎   | 43/45 [04:17<00:12,  6.03s/it]\u001b[A\n",
      " 98%|████████████████████████████████████████████████████████████████████████████████▏ | 44/45 [04:23<00:05,  6.00s/it]\u001b[A\n",
      "100%|██████████████████████████████████████████████████████████████████████████████████| 45/45 [04:28<00:00,  5.98s/it]\u001b[A\n",
      " 14%|███████████▊                                                                       | 1/7 [04:34<27:26, 274.36s/it]\n",
      "  0%|                                                                                           | 0/45 [00:00<?, ?it/s]\u001b[A\n",
      "  2%|█▊                                                                                 | 1/45 [00:07<05:18,  7.24s/it]\u001b[A\n",
      "  4%|███▋                                                                               | 2/45 [00:14<05:10,  7.22s/it]\u001b[A\n",
      "  7%|█████▌                                                                             | 3/45 [00:21<05:05,  7.27s/it]\u001b[A\n",
      "  9%|███████▍                                                                           | 4/45 [00:29<04:58,  7.28s/it]\u001b[A\n",
      " 11%|█████████▏                                                                         | 5/45 [00:36<04:47,  7.18s/it]\u001b[A\n",
      " 13%|███████████                                                                        | 6/45 [00:43<04:43,  7.26s/it]\u001b[A\n",
      " 16%|████████████▉                                                                      | 7/45 [00:50<04:38,  7.33s/it]\u001b[A\n",
      " 18%|██████████████▊                                                                    | 8/45 [00:58<04:31,  7.33s/it]\u001b[A\n",
      " 20%|████████████████▌                                                                  | 9/45 [01:06<04:29,  7.49s/it]\u001b[A\n",
      " 22%|██████████████████▏                                                               | 10/45 [01:13<04:19,  7.42s/it]\u001b[A\n",
      " 24%|████████████████████                                                              | 11/45 [01:21<04:17,  7.56s/it]\u001b[A\n",
      " 27%|█████████████████████▊                                                            | 12/45 [01:28<04:09,  7.57s/it]\u001b[A\n",
      " 29%|███████████████████████▋                                                          | 13/45 [01:36<04:01,  7.55s/it]\u001b[A\n",
      " 31%|█████████████████████████▌                                                        | 14/45 [01:43<03:50,  7.44s/it]\u001b[A\n",
      " 33%|███████████████████████████▎                                                      | 15/45 [01:50<03:42,  7.43s/it]\u001b[A\n",
      " 36%|█████████████████████████████▏                                                    | 16/45 [01:58<03:38,  7.52s/it]\u001b[A\n",
      " 38%|██████████████████████████████▉                                                   | 17/45 [02:06<03:31,  7.54s/it]\u001b[A\n",
      " 40%|████████████████████████████████▊                                                 | 18/45 [02:13<03:23,  7.55s/it]\u001b[A\n",
      " 42%|██████████████████████████████████▌                                               | 19/45 [02:21<03:13,  7.46s/it]\u001b[A\n",
      " 44%|████████████████████████████████████▍                                             | 20/45 [02:28<03:07,  7.50s/it]\u001b[A\n",
      " 47%|██████████████████████████████████████▎                                           | 21/45 [02:35<02:58,  7.43s/it]\u001b[A\n",
      " 49%|████████████████████████████████████████                                          | 22/45 [02:43<02:50,  7.42s/it]\u001b[A\n",
      " 51%|█████████████████████████████████████████▉                                        | 23/45 [02:50<02:43,  7.43s/it]\u001b[A\n",
      " 53%|███████████████████████████████████████████▋                                      | 24/45 [02:58<02:35,  7.39s/it]\u001b[A\n",
      " 56%|█████████████████████████████████████████████▌                                    | 25/45 [03:04<02:24,  7.21s/it]\u001b[A\n",
      " 58%|███████████████████████████████████████████████▍                                  | 26/45 [03:11<02:14,  7.10s/it]\u001b[A\n",
      " 60%|█████████████████████████████████████████████████▏                                | 27/45 [03:18<02:06,  7.03s/it]\u001b[A\n",
      " 62%|███████████████████████████████████████████████████                               | 28/45 [03:25<01:58,  7.00s/it]\u001b[A\n",
      " 64%|████████████████████████████████████████████████████▊                             | 29/45 [03:32<01:51,  6.97s/it]\u001b[A\n",
      " 67%|██████████████████████████████████████████████████████▋                           | 30/45 [03:39<01:44,  7.00s/it]\u001b[A\n",
      " 69%|████████████████████████████████████████████████████████▍                         | 31/45 [03:46<01:37,  6.93s/it]\u001b[A\n",
      " 71%|██████████████████████████████████████████████████████████▎                       | 32/45 [03:53<01:29,  6.88s/it]\u001b[A\n",
      " 73%|████████████████████████████████████████████████████████████▏                     | 33/45 [03:59<01:22,  6.83s/it]\u001b[A\n",
      " 76%|█████████████████████████████████████████████████████████████▉                    | 34/45 [04:06<01:14,  6.78s/it]\u001b[A\n",
      " 78%|███████████████████████████████████████████████████████████████▊                  | 35/45 [04:13<01:07,  6.78s/it]\u001b[A\n",
      " 80%|█████████████████████████████████████████████████████████████████▌                | 36/45 [04:19<01:00,  6.75s/it]\u001b[A\n",
      " 82%|███████████████████████████████████████████████████████████████████▍              | 37/45 [04:26<00:53,  6.70s/it]\u001b[A\n",
      " 84%|█████████████████████████████████████████████████████████████████████▏            | 38/45 [04:33<00:47,  6.74s/it]\u001b[A\n",
      " 87%|███████████████████████████████████████████████████████████████████████           | 39/45 [04:39<00:40,  6.70s/it]\u001b[A\n",
      " 89%|████████████████████████████████████████████████████████████████████████▉         | 40/45 [04:46<00:33,  6.68s/it]\u001b[A\n",
      " 91%|██████████████████████████████████████████████████████████████████████████▋       | 41/45 [04:53<00:26,  6.69s/it]\u001b[A\n",
      " 93%|████████████████████████████████████████████████████████████████████████████▌     | 42/45 [04:59<00:20,  6.68s/it]\u001b[A\n",
      " 96%|██████████████████████████████████████████████████████████████████████████████▎   | 43/45 [05:06<00:13,  6.67s/it]\u001b[A\n",
      " 98%|████████████████████████████████████████████████████████████████████████████████▏ | 44/45 [05:13<00:06,  6.62s/it]\u001b[A\n",
      "100%|██████████████████████████████████████████████████████████████████████████████████| 45/45 [05:19<00:00,  7.11s/it]\u001b[A\n",
      " 29%|███████████████████████▋                                                           | 2/7 [10:06<25:40, 308.13s/it]\n",
      "  0%|                                                                                           | 0/45 [00:00<?, ?it/s]\u001b[A\n",
      "  2%|█▊                                                                                 | 1/45 [00:05<04:04,  5.56s/it]\u001b[A\n",
      "  4%|███▋                                                                               | 2/45 [00:11<04:05,  5.70s/it]\u001b[A\n",
      "  7%|█████▌                                                                             | 3/45 [00:17<03:58,  5.68s/it]\u001b[A\n",
      "  9%|███████▍                                                                           | 4/45 [00:23<03:58,  5.82s/it]\u001b[A\n",
      " 11%|█████████▏                                                                         | 5/45 [00:29<03:54,  5.87s/it]\u001b[A\n",
      " 13%|███████████                                                                        | 6/45 [00:35<03:55,  6.04s/it]\u001b[A\n",
      " 16%|████████████▉                                                                      | 7/45 [00:41<03:54,  6.17s/it]\u001b[A\n",
      " 18%|██████████████▊                                                                    | 8/45 [00:47<03:47,  6.15s/it]\u001b[A\n",
      " 20%|████████████████▌                                                                  | 9/45 [00:54<03:40,  6.14s/it]\u001b[A\n",
      " 22%|██████████████████▏                                                               | 10/45 [00:59<03:31,  6.03s/it]\u001b[A\n",
      " 24%|████████████████████                                                              | 11/45 [01:06<03:27,  6.10s/it]\u001b[A\n",
      " 27%|█████████████████████▊                                                            | 12/45 [01:12<03:21,  6.09s/it]\u001b[A\n",
      " 29%|███████████████████████▋                                                          | 13/45 [01:18<03:16,  6.15s/it]\u001b[A\n",
      " 31%|█████████████████████████▌                                                        | 14/45 [01:25<03:15,  6.32s/it]\u001b[A\n",
      " 33%|███████████████████████████▎                                                      | 15/45 [01:31<03:06,  6.23s/it]\u001b[A\n",
      " 36%|█████████████████████████████▏                                                    | 16/45 [01:36<02:55,  6.04s/it]\u001b[A\n",
      " 38%|██████████████████████████████▉                                                   | 17/45 [01:42<02:48,  6.03s/it]\u001b[A\n",
      " 40%|████████████████████████████████▊                                                 | 18/45 [01:48<02:40,  5.96s/it]\u001b[A\n",
      " 42%|██████████████████████████████████▌                                               | 19/45 [01:54<02:38,  6.09s/it]\u001b[A\n",
      " 44%|████████████████████████████████████▍                                             | 20/45 [02:00<02:31,  6.06s/it]\u001b[A\n",
      " 47%|██████████████████████████████████████▎                                           | 21/45 [02:06<02:23,  5.96s/it]\u001b[A\n",
      " 49%|████████████████████████████████████████                                          | 22/45 [02:12<02:15,  5.89s/it]\u001b[A\n",
      " 51%|█████████████████████████████████████████▉                                        | 23/45 [02:18<02:10,  5.91s/it]\u001b[A\n",
      " 53%|███████████████████████████████████████████▋                                      | 24/45 [02:24<02:02,  5.85s/it]\u001b[A\n",
      " 56%|█████████████████████████████████████████████▌                                    | 25/45 [02:30<01:59,  6.00s/it]\u001b[A\n",
      " 58%|███████████████████████████████████████████████▍                                  | 26/45 [02:36<01:55,  6.10s/it]\u001b[A\n",
      " 60%|█████████████████████████████████████████████████▏                                | 27/45 [02:43<01:52,  6.24s/it]\u001b[A\n",
      " 62%|███████████████████████████████████████████████████                               | 28/45 [02:49<01:46,  6.24s/it]\u001b[A\n",
      " 64%|████████████████████████████████████████████████████▊                             | 29/45 [02:55<01:39,  6.24s/it]\u001b[A\n",
      " 67%|██████████████████████████████████████████████████████▋                           | 30/45 [03:02<01:34,  6.28s/it]\u001b[A\n",
      " 69%|████████████████████████████████████████████████████████▍                         | 31/45 [03:08<01:28,  6.34s/it]\u001b[A\n",
      " 71%|██████████████████████████████████████████████████████████▎                       | 32/45 [03:14<01:22,  6.31s/it]\u001b[A\n",
      " 73%|████████████████████████████████████████████████████████████▏                     | 33/45 [03:21<01:17,  6.42s/it]\u001b[A\n",
      " 76%|█████████████████████████████████████████████████████████████▉                    | 34/45 [03:28<01:10,  6.42s/it]\u001b[A\n",
      " 78%|███████████████████████████████████████████████████████████████▊                  | 35/45 [03:34<01:04,  6.48s/it]\u001b[A\n",
      " 80%|█████████████████████████████████████████████████████████████████▌                | 36/45 [03:41<00:59,  6.57s/it]\u001b[A\n",
      " 82%|███████████████████████████████████████████████████████████████████▍              | 37/45 [03:48<00:52,  6.60s/it]\u001b[A\n",
      " 84%|█████████████████████████████████████████████████████████████████████▏            | 38/45 [03:54<00:46,  6.63s/it]\u001b[A\n",
      " 87%|███████████████████████████████████████████████████████████████████████           | 39/45 [04:01<00:39,  6.63s/it]\u001b[A\n",
      " 89%|████████████████████████████████████████████████████████████████████████▉         | 40/45 [04:08<00:33,  6.64s/it]\u001b[A\n",
      " 91%|██████████████████████████████████████████████████████████████████████████▋       | 41/45 [04:14<00:26,  6.67s/it]\u001b[A\n",
      " 93%|████████████████████████████████████████████████████████████████████████████▌     | 42/45 [04:21<00:20,  6.71s/it]\u001b[A\n",
      " 96%|██████████████████████████████████████████████████████████████████████████████▎   | 43/45 [04:28<00:13,  6.75s/it]\u001b[A\n",
      " 98%|████████████████████████████████████████████████████████████████████████████████▏ | 44/45 [04:35<00:06,  6.78s/it]\u001b[A\n",
      "100%|██████████████████████████████████████████████████████████████████████████████████| 45/45 [04:42<00:00,  6.27s/it]\u001b[A\n",
      " 43%|███████████████████████████████████▌                                               | 3/7 [14:53<19:55, 298.75s/it]\n",
      "  0%|                                                                                           | 0/45 [00:00<?, ?it/s]\u001b[A\n",
      "  2%|█▊                                                                                 | 1/45 [00:05<04:19,  5.89s/it]\u001b[A\n",
      "  4%|███▋                                                                               | 2/45 [00:11<04:17,  5.98s/it]\u001b[A\n",
      "  7%|█████▌                                                                             | 3/45 [00:17<04:11,  5.98s/it]\u001b[A\n",
      "  9%|███████▍                                                                           | 4/45 [00:23<04:06,  6.01s/it]\u001b[A\n",
      " 11%|█████████▏                                                                         | 5/45 [00:30<04:01,  6.03s/it]\u001b[A\n",
      " 13%|███████████                                                                        | 6/45 [00:36<03:54,  6.02s/it]\u001b[A\n",
      " 16%|████████████▉                                                                      | 7/45 [00:42<03:49,  6.03s/it]\u001b[A\n",
      " 18%|██████████████▊                                                                    | 8/45 [00:47<03:41,  5.99s/it]\u001b[A\n",
      " 20%|████████████████▌                                                                  | 9/45 [00:53<03:28,  5.80s/it]\u001b[A\n",
      " 22%|██████████████████▏                                                               | 10/45 [00:58<03:12,  5.51s/it]\u001b[A\n",
      " 24%|████████████████████                                                              | 11/45 [01:03<03:05,  5.46s/it]\u001b[A\n",
      " 27%|█████████████████████▊                                                            | 12/45 [01:08<02:57,  5.39s/it]\u001b[A\n",
      " 29%|███████████████████████▋                                                          | 13/45 [01:14<02:53,  5.42s/it]\u001b[A\n",
      " 31%|█████████████████████████▌                                                        | 14/45 [01:19<02:47,  5.41s/it]\u001b[A\n",
      " 33%|███████████████████████████▎                                                      | 15/45 [01:25<02:43,  5.45s/it]\u001b[A\n",
      " 36%|█████████████████████████████▏                                                    | 16/45 [01:30<02:37,  5.43s/it]\u001b[A\n",
      " 38%|██████████████████████████████▉                                                   | 17/45 [01:36<02:36,  5.58s/it]\u001b[A\n",
      " 40%|████████████████████████████████▊                                                 | 18/45 [01:42<02:30,  5.58s/it]\u001b[A\n",
      " 42%|██████████████████████████████████▌                                               | 19/45 [01:47<02:21,  5.43s/it]\u001b[A\n",
      " 44%|████████████████████████████████████▍                                             | 20/45 [01:52<02:15,  5.42s/it]\u001b[A\n",
      " 47%|██████████████████████████████████████▎                                           | 21/45 [01:57<02:08,  5.34s/it]\u001b[A\n",
      " 49%|████████████████████████████████████████                                          | 22/45 [02:02<02:00,  5.23s/it]\u001b[A\n",
      " 51%|█████████████████████████████████████████▉                                        | 23/45 [02:08<01:55,  5.26s/it]\u001b[A\n",
      " 53%|███████████████████████████████████████████▋                                      | 24/45 [02:13<01:49,  5.19s/it]\u001b[A\n",
      " 56%|█████████████████████████████████████████████▌                                    | 25/45 [02:18<01:43,  5.17s/it]\u001b[A\n",
      " 58%|███████████████████████████████████████████████▍                                  | 26/45 [02:23<01:37,  5.14s/it]\u001b[A\n",
      " 60%|█████████████████████████████████████████████████▏                                | 27/45 [02:28<01:33,  5.18s/it]\u001b[A\n",
      " 62%|███████████████████████████████████████████████████                               | 28/45 [02:33<01:27,  5.14s/it]\u001b[A\n",
      " 64%|████████████████████████████████████████████████████▊                             | 29/45 [02:38<01:22,  5.13s/it]\u001b[A\n",
      " 67%|██████████████████████████████████████████████████████▋                           | 30/45 [02:44<01:17,  5.18s/it]\u001b[A\n",
      " 69%|████████████████████████████████████████████████████████▍                         | 31/45 [02:49<01:13,  5.23s/it]\u001b[A\n",
      " 71%|██████████████████████████████████████████████████████████▎                       | 32/45 [02:54<01:08,  5.25s/it]\u001b[A\n",
      " 73%|████████████████████████████████████████████████████████████▏                     | 33/45 [02:59<01:02,  5.19s/it]\u001b[A\n",
      " 76%|█████████████████████████████████████████████████████████████▉                    | 34/45 [03:04<00:56,  5.15s/it]\u001b[A\n",
      " 78%|███████████████████████████████████████████████████████████████▊                  | 35/45 [03:09<00:51,  5.16s/it]\u001b[A\n",
      " 80%|█████████████████████████████████████████████████████████████████▌                | 36/45 [03:15<00:46,  5.15s/it]\u001b[A\n",
      " 82%|███████████████████████████████████████████████████████████████████▍              | 37/45 [03:20<00:41,  5.20s/it]\u001b[A\n",
      " 84%|█████████████████████████████████████████████████████████████████████▏            | 38/45 [03:25<00:36,  5.23s/it]\u001b[A\n",
      " 87%|███████████████████████████████████████████████████████████████████████           | 39/45 [03:30<00:31,  5.23s/it]\u001b[A\n",
      " 89%|████████████████████████████████████████████████████████████████████████▉         | 40/45 [03:36<00:26,  5.25s/it]\u001b[A\n",
      " 91%|██████████████████████████████████████████████████████████████████████████▋       | 41/45 [03:41<00:20,  5.15s/it]\u001b[A\n",
      " 93%|████████████████████████████████████████████████████████████████████████████▌     | 42/45 [03:45<00:15,  5.02s/it]\u001b[A\n",
      " 96%|██████████████████████████████████████████████████████████████████████████████▎   | 43/45 [03:50<00:10,  5.00s/it]\u001b[A\n",
      " 98%|████████████████████████████████████████████████████████████████████████████████▏ | 44/45 [03:55<00:04,  4.94s/it]\u001b[A\n",
      "100%|██████████████████████████████████████████████████████████████████████████████████| 45/45 [04:00<00:00,  5.35s/it]\u001b[A\n",
      " 57%|███████████████████████████████████████████████▍                                   | 4/7 [18:58<13:52, 277.34s/it]\n",
      "  0%|                                                                                           | 0/45 [00:00<?, ?it/s]\u001b[A\n",
      "  2%|█▊                                                                                 | 1/45 [00:06<04:45,  6.48s/it]\u001b[A\n",
      "  4%|███▋                                                                               | 2/45 [00:12<04:30,  6.29s/it]\u001b[A\n",
      "  7%|█████▌                                                                             | 3/45 [00:18<04:22,  6.25s/it]\u001b[A\n",
      "  9%|███████▍                                                                           | 4/45 [00:24<04:14,  6.21s/it]\u001b[A\n",
      " 11%|█████████▏                                                                         | 5/45 [00:31<04:05,  6.14s/it]\u001b[A\n",
      " 13%|███████████                                                                        | 6/45 [00:37<03:57,  6.10s/it]\u001b[A\n",
      " 16%|████████████▉                                                                      | 7/45 [00:43<03:51,  6.09s/it]\u001b[A\n",
      " 18%|██████████████▊                                                                    | 8/45 [00:48<03:40,  5.97s/it]\u001b[A\n",
      " 20%|████████████████▌                                                                  | 9/45 [00:54<03:32,  5.91s/it]\u001b[A\n",
      " 22%|██████████████████▏                                                               | 10/45 [01:00<03:22,  5.80s/it]\u001b[A\n",
      " 24%|████████████████████                                                              | 11/45 [01:05<03:16,  5.77s/it]\u001b[A\n",
      " 27%|█████████████████████▊                                                            | 12/45 [01:11<03:12,  5.82s/it]\u001b[A\n",
      " 29%|███████████████████████▋                                                          | 13/45 [01:17<03:05,  5.81s/it]\u001b[A\n",
      " 31%|█████████████████████████▌                                                        | 14/45 [01:23<02:59,  5.79s/it]\u001b[A\n",
      " 33%|███████████████████████████▎                                                      | 15/45 [01:28<02:52,  5.75s/it]\u001b[A\n",
      " 36%|█████████████████████████████▏                                                    | 16/45 [01:34<02:46,  5.73s/it]\u001b[A\n",
      " 38%|██████████████████████████████▉                                                   | 17/45 [01:40<02:41,  5.77s/it]\u001b[A\n",
      " 40%|████████████████████████████████▊                                                 | 18/45 [01:46<02:36,  5.79s/it]\u001b[A\n",
      " 42%|██████████████████████████████████▌                                               | 19/45 [01:52<02:32,  5.85s/it]\u001b[A\n",
      " 44%|████████████████████████████████████▍                                             | 20/45 [01:58<02:26,  5.85s/it]\u001b[A\n",
      " 47%|██████████████████████████████████████▎                                           | 21/45 [02:04<02:21,  5.88s/it]\u001b[A\n",
      " 49%|████████████████████████████████████████                                          | 22/45 [02:10<02:15,  5.87s/it]\u001b[A\n",
      " 51%|█████████████████████████████████████████▉                                        | 23/45 [02:16<02:11,  5.96s/it]\u001b[A\n",
      " 53%|███████████████████████████████████████████▋                                      | 24/45 [02:22<02:05,  5.99s/it]\u001b[A\n",
      " 56%|█████████████████████████████████████████████▌                                    | 25/45 [02:28<01:59,  5.96s/it]\u001b[A\n",
      " 58%|███████████████████████████████████████████████▍                                  | 26/45 [02:34<01:53,  5.96s/it]\u001b[A\n",
      " 60%|█████████████████████████████████████████████████▏                                | 27/45 [02:39<01:45,  5.87s/it]\u001b[A\n",
      " 62%|███████████████████████████████████████████████████                               | 28/45 [02:45<01:39,  5.86s/it]\u001b[A\n",
      " 64%|████████████████████████████████████████████████████▊                             | 29/45 [02:51<01:34,  5.92s/it]\u001b[A\n",
      " 67%|██████████████████████████████████████████████████████▋                           | 30/45 [02:57<01:29,  5.95s/it]\u001b[A\n",
      " 69%|████████████████████████████████████████████████████████▍                         | 31/45 [03:04<01:24,  6.07s/it]\u001b[A\n",
      " 71%|██████████████████████████████████████████████████████████▎                       | 32/45 [03:10<01:19,  6.14s/it]\u001b[A\n",
      " 73%|████████████████████████████████████████████████████████████▏                     | 33/45 [03:16<01:14,  6.24s/it]\u001b[A\n",
      " 76%|█████████████████████████████████████████████████████████████▉                    | 34/45 [03:22<01:08,  6.22s/it]\u001b[A\n",
      " 78%|███████████████████████████████████████████████████████████████▊                  | 35/45 [03:29<01:02,  6.26s/it]\u001b[A\n",
      " 80%|█████████████████████████████████████████████████████████████████▌                | 36/45 [03:35<00:55,  6.19s/it]\u001b[A\n",
      " 82%|███████████████████████████████████████████████████████████████████▍              | 37/45 [03:41<00:49,  6.18s/it]\u001b[A\n",
      " 84%|█████████████████████████████████████████████████████████████████████▏            | 38/45 [03:47<00:43,  6.18s/it]\u001b[A\n",
      " 87%|███████████████████████████████████████████████████████████████████████           | 39/45 [03:53<00:37,  6.20s/it]\u001b[A\n",
      " 89%|████████████████████████████████████████████████████████████████████████▉         | 40/45 [04:00<00:31,  6.33s/it]\u001b[A\n",
      " 91%|██████████████████████████████████████████████████████████████████████████▋       | 41/45 [04:07<00:25,  6.40s/it]\u001b[A\n",
      " 93%|████████████████████████████████████████████████████████████████████████████▌     | 42/45 [04:13<00:19,  6.45s/it]\u001b[A\n",
      " 96%|██████████████████████████████████████████████████████████████████████████████▎   | 43/45 [04:20<00:13,  6.53s/it]\u001b[A\n",
      " 98%|████████████████████████████████████████████████████████████████████████████████▏ | 44/45 [04:27<00:06,  6.60s/it]\u001b[A\n",
      "100%|██████████████████████████████████████████████████████████████████████████████████| 45/45 [04:33<00:00,  6.09s/it]\u001b[A\n",
      " 71%|███████████████████████████████████████████████████████████▎                       | 5/7 [23:37<09:16, 278.21s/it]\n",
      "  0%|                                                                                           | 0/45 [00:00<?, ?it/s]\u001b[A\n",
      "  2%|█▊                                                                                 | 1/45 [00:06<04:30,  6.16s/it]\u001b[A\n",
      "  4%|███▋                                                                               | 2/45 [00:12<04:19,  6.02s/it]\u001b[A\n",
      "  7%|█████▌                                                                             | 3/45 [00:17<04:09,  5.94s/it]\u001b[A\n",
      "  9%|███████▍                                                                           | 4/45 [00:23<04:04,  5.97s/it]\u001b[A\n",
      " 11%|█████████▏                                                                         | 5/45 [00:29<03:56,  5.91s/it]\u001b[A\n",
      " 13%|███████████                                                                        | 6/45 [00:35<03:48,  5.86s/it]\u001b[A\n",
      " 16%|████████████▉                                                                      | 7/45 [00:41<03:43,  5.88s/it]\u001b[A\n",
      " 18%|██████████████▊                                                                    | 8/45 [00:47<03:38,  5.89s/it]\u001b[A\n",
      " 20%|████████████████▌                                                                  | 9/45 [00:53<03:32,  5.91s/it]\u001b[A\n",
      " 22%|██████████████████▏                                                               | 10/45 [00:59<03:24,  5.85s/it]\u001b[A\n",
      " 24%|████████████████████                                                              | 11/45 [01:04<03:20,  5.88s/it]\u001b[A\n",
      " 27%|█████████████████████▊                                                            | 12/45 [01:11<03:15,  5.93s/it]\u001b[A\n",
      " 29%|███████████████████████▋                                                          | 13/45 [01:17<03:12,  6.02s/it]\u001b[A\n",
      " 31%|█████████████████████████▌                                                        | 14/45 [01:23<03:05,  5.98s/it]\u001b[A\n",
      " 33%|███████████████████████████▎                                                      | 15/45 [01:29<02:59,  5.98s/it]\u001b[A\n",
      " 36%|█████████████████████████████▏                                                    | 16/45 [01:35<02:52,  5.96s/it]\u001b[A\n",
      " 38%|██████████████████████████████▉                                                   | 17/45 [01:40<02:46,  5.94s/it]\u001b[A\n",
      " 40%|████████████████████████████████▊                                                 | 18/45 [01:46<02:40,  5.96s/it]\u001b[A\n",
      " 42%|██████████████████████████████████▌                                               | 19/45 [01:52<02:35,  5.99s/it]\u001b[A\n",
      " 44%|████████████████████████████████████▍                                             | 20/45 [01:59<02:30,  6.01s/it]\u001b[A\n",
      " 47%|██████████████████████████████████████▎                                           | 21/45 [02:05<02:25,  6.07s/it]\u001b[A\n",
      " 49%|████████████████████████████████████████                                          | 22/45 [02:11<02:19,  6.06s/it]\u001b[A\n",
      " 51%|█████████████████████████████████████████▉                                        | 23/45 [02:17<02:14,  6.10s/it]\u001b[A\n",
      " 53%|███████████████████████████████████████████▋                                      | 24/45 [02:23<02:09,  6.16s/it]\u001b[A\n",
      " 56%|█████████████████████████████████████████████▌                                    | 25/45 [02:30<02:04,  6.22s/it]\u001b[A\n",
      " 58%|███████████████████████████████████████████████▍                                  | 26/45 [02:36<01:59,  6.27s/it]\u001b[A\n",
      " 60%|█████████████████████████████████████████████████▏                                | 27/45 [02:42<01:52,  6.27s/it]\u001b[A\n",
      " 62%|███████████████████████████████████████████████████                               | 28/45 [02:48<01:45,  6.20s/it]\u001b[A\n",
      " 64%|████████████████████████████████████████████████████▊                             | 29/45 [02:55<01:40,  6.28s/it]\u001b[A\n",
      " 67%|██████████████████████████████████████████████████████▋                           | 30/45 [03:01<01:35,  6.36s/it]\u001b[A\n",
      " 69%|████████████████████████████████████████████████████████▍                         | 31/45 [03:08<01:30,  6.48s/it]\u001b[A\n",
      " 71%|██████████████████████████████████████████████████████████▎                       | 32/45 [03:15<01:25,  6.55s/it]\u001b[A\n",
      " 73%|████████████████████████████████████████████████████████████▏                     | 33/45 [03:21<01:18,  6.56s/it]\u001b[A\n",
      " 76%|█████████████████████████████████████████████████████████████▉                    | 34/45 [03:28<01:12,  6.57s/it]\u001b[A\n",
      " 78%|███████████████████████████████████████████████████████████████▊                  | 35/45 [03:35<01:05,  6.58s/it]\u001b[A\n",
      " 80%|█████████████████████████████████████████████████████████████████▌                | 36/45 [03:41<00:58,  6.53s/it]\u001b[A\n",
      " 82%|███████████████████████████████████████████████████████████████████▍              | 37/45 [03:48<00:52,  6.56s/it]\u001b[A\n",
      " 84%|█████████████████████████████████████████████████████████████████████▏            | 38/45 [03:54<00:45,  6.56s/it]\u001b[A\n",
      " 87%|███████████████████████████████████████████████████████████████████████           | 39/45 [04:00<00:38,  6.44s/it]\u001b[A\n",
      " 89%|████████████████████████████████████████████████████████████████████████▉         | 40/45 [04:07<00:31,  6.37s/it]\u001b[A\n",
      " 91%|██████████████████████████████████████████████████████████████████████████▋       | 41/45 [04:13<00:25,  6.26s/it]\u001b[A\n",
      " 93%|████████████████████████████████████████████████████████████████████████████▌     | 42/45 [04:18<00:18,  6.15s/it]\u001b[A\n",
      " 96%|██████████████████████████████████████████████████████████████████████████████▎   | 43/45 [04:24<00:12,  6.09s/it]\u001b[A\n",
      " 98%|████████████████████████████████████████████████████████████████████████████████▏ | 44/45 [04:30<00:06,  6.02s/it]\u001b[A\n",
      "100%|██████████████████████████████████████████████████████████████████████████████████| 45/45 [04:36<00:00,  6.15s/it]\u001b[A\n",
      " 86%|███████████████████████████████████████████████████████████████████████▏           | 6/7 [28:21<04:39, 279.88s/it]\n",
      "  0%|                                                                                           | 0/45 [00:00<?, ?it/s]\u001b[A\n",
      "  2%|█▊                                                                                 | 1/45 [00:05<03:54,  5.34s/it]\u001b[A\n",
      "  4%|███▋                                                                               | 2/45 [00:10<03:49,  5.34s/it]\u001b[A\n",
      "  7%|█████▌                                                                             | 3/45 [00:16<03:44,  5.34s/it]\u001b[A\n",
      "  9%|███████▍                                                                           | 4/45 [00:21<03:43,  5.46s/it]\u001b[A\n",
      " 11%|█████████▏                                                                         | 5/45 [00:27<03:39,  5.50s/it]\u001b[A\n",
      " 13%|███████████                                                                        | 6/45 [00:32<03:30,  5.41s/it]\u001b[A\n",
      " 16%|████████████▉                                                                      | 7/45 [00:37<03:24,  5.39s/it]\u001b[A\n",
      " 18%|██████████████▊                                                                    | 8/45 [00:43<03:21,  5.46s/it]\u001b[A\n",
      " 20%|████████████████▌                                                                  | 9/45 [00:48<03:16,  5.45s/it]\u001b[A\n",
      " 22%|██████████████████▏                                                               | 10/45 [00:53<03:05,  5.30s/it]\u001b[A\n",
      " 24%|████████████████████                                                              | 11/45 [00:58<02:58,  5.24s/it]\u001b[A\n",
      " 27%|█████████████████████▊                                                            | 12/45 [01:04<02:53,  5.25s/it]\u001b[A\n",
      " 29%|███████████████████████▋                                                          | 13/45 [01:09<02:48,  5.26s/it]\u001b[A\n",
      " 31%|█████████████████████████▌                                                        | 14/45 [01:14<02:43,  5.28s/it]\u001b[A\n",
      " 33%|███████████████████████████▎                                                      | 15/45 [01:19<02:37,  5.23s/it]\u001b[A\n",
      " 36%|█████████████████████████████▏                                                    | 16/45 [01:25<02:36,  5.41s/it]\u001b[A\n",
      " 38%|██████████████████████████████▉                                                   | 17/45 [01:31<02:34,  5.52s/it]\u001b[A\n",
      " 40%|████████████████████████████████▊                                                 | 18/45 [01:36<02:28,  5.49s/it]\u001b[A\n",
      " 42%|██████████████████████████████████▌                                               | 19/45 [01:42<02:22,  5.48s/it]\u001b[A\n",
      " 44%|████████████████████████████████████▍                                             | 20/45 [01:47<02:15,  5.42s/it]\u001b[A\n",
      " 47%|██████████████████████████████████████▎                                           | 21/45 [01:53<02:12,  5.52s/it]\u001b[A\n",
      " 49%|████████████████████████████████████████                                          | 22/45 [01:59<02:10,  5.66s/it]\u001b[A\n",
      " 51%|█████████████████████████████████████████▉                                        | 23/45 [02:05<02:06,  5.74s/it]\u001b[A\n",
      " 53%|███████████████████████████████████████████▋                                      | 24/45 [02:11<02:00,  5.75s/it]\u001b[A\n",
      " 56%|█████████████████████████████████████████████▌                                    | 25/45 [02:16<01:54,  5.73s/it]\u001b[A\n",
      " 58%|███████████████████████████████████████████████▍                                  | 26/45 [02:22<01:50,  5.80s/it]\u001b[A\n",
      " 60%|█████████████████████████████████████████████████▏                                | 27/45 [02:28<01:44,  5.81s/it]\u001b[A\n",
      " 62%|███████████████████████████████████████████████████                               | 28/45 [02:34<01:40,  5.94s/it]\u001b[A\n",
      " 64%|████████████████████████████████████████████████████▊                             | 29/45 [02:40<01:33,  5.85s/it]\u001b[A\n",
      " 67%|██████████████████████████████████████████████████████▋                           | 30/45 [02:46<01:26,  5.79s/it]\u001b[A\n",
      " 69%|████████████████████████████████████████████████████████▍                         | 31/45 [02:51<01:20,  5.74s/it]\u001b[A\n",
      " 71%|██████████████████████████████████████████████████████████▎                       | 32/45 [02:57<01:15,  5.77s/it]\u001b[A\n",
      " 73%|████████████████████████████████████████████████████████████▏                     | 33/45 [03:03<01:09,  5.79s/it]\u001b[A\n",
      " 76%|█████████████████████████████████████████████████████████████▉                    | 34/45 [03:09<01:03,  5.74s/it]\u001b[A\n",
      " 78%|███████████████████████████████████████████████████████████████▊                  | 35/45 [03:14<00:57,  5.75s/it]\u001b[A\n",
      " 80%|█████████████████████████████████████████████████████████████████▌                | 36/45 [03:20<00:50,  5.65s/it]\u001b[A\n",
      " 82%|███████████████████████████████████████████████████████████████████▍              | 37/45 [03:25<00:44,  5.55s/it]\u001b[A\n",
      " 84%|█████████████████████████████████████████████████████████████████████▏            | 38/45 [03:31<00:38,  5.54s/it]\u001b[A\n",
      " 87%|███████████████████████████████████████████████████████████████████████           | 39/45 [03:36<00:33,  5.56s/it]\u001b[A\n",
      " 89%|████████████████████████████████████████████████████████████████████████▉         | 40/45 [03:42<00:28,  5.60s/it]\u001b[A\n",
      " 91%|██████████████████████████████████████████████████████████████████████████▋       | 41/45 [03:48<00:22,  5.71s/it]\u001b[A\n",
      " 93%|████████████████████████████████████████████████████████████████████████████▌     | 42/45 [03:53<00:16,  5.57s/it]\u001b[A\n",
      " 96%|██████████████████████████████████████████████████████████████████████████████▎   | 43/45 [03:58<00:11,  5.50s/it]\u001b[A\n",
      " 98%|████████████████████████████████████████████████████████████████████████████████▏ | 44/45 [04:04<00:05,  5.48s/it]\u001b[A\n",
      "100%|██████████████████████████████████████████████████████████████████████████████████| 45/45 [04:09<00:00,  5.55s/it]\u001b[A\n",
      "100%|███████████████████████████████████████████████████████████████████████████████████| 7/7 [32:36<00:00, 279.47s/it]\n"
     ]
    }
   ],
   "source": [
    "categories = set(df_features['category_unique'])\n",
    "for year in tqdm(years):\n",
    "    nuts = gpd.read_file(nuts_folder + '\\\\' + 'NUTS_RG_01M_' + str(year) + '_3035.shp')\n",
    "    count_cat_comb = None\n",
    "    for category in tqdm(categories):\n",
    "        gdf_joined = gpd.sjoin(gdf_features, nuts[['NUTS_ID', 'geometry']], how=\"left\", predicate='within')\n",
    "        gdf_joined_cat = gdf_joined[gdf_joined['category_unique']==category]\n",
    "        count_cat = gdf_joined_cat.groupby('NUTS_ID').count()[['title']].reset_index()\n",
    "        count_cat.columns = ['geo', 'obsValue']\n",
    "        count_cat['geo_source'] = 'NUTS' + str(year)\n",
    "        count_cat['indicator'] = category\n",
    "        count_cat_comb = count_cat if count_cat_comb is None else pd.concat([count_cat_comb, count_cat])\n",
    "    count_cat_comb.reset_index().drop(columns=['index']).to_csv(save_folder + '\\\\' + str(year) + '.csv')"
   ]
  },
  {
   "cell_type": "code",
   "execution_count": 3,
   "id": "de93cf6e-331a-49e8-9fb8-e23e31d2690c",
   "metadata": {},
   "outputs": [],
   "source": [
    "# combine all df\n",
    "read_path = r'C:\\2-Case studies\\Cultural Gems\\category'\n",
    "df_categories_align = pd.read_excel(r'C:\\1-Data\\Cultural Gems\\cultural gems categories_drl.xlsx')"
   ]
  },
  {
   "cell_type": "code",
   "execution_count": 13,
   "id": "eccf3cea-0cd2-4033-98a6-34c8163e2cd3",
   "metadata": {},
   "outputs": [
    {
     "name": "stderr",
     "output_type": "stream",
     "text": [
      "100%|████████████████████████████████████████████████████████████████████████████████████| 7/7 [00:00<00:00, 12.46it/s]\n"
     ]
    }
   ],
   "source": [
    "df_comb = None\n",
    "for year in tqdm(years):\n",
    "    # import csv of certain year and add broad category\n",
    "    df_year = pd.read_csv(read_path + '\\\\' + str(year) + '.csv', index_col=0)\n",
    "    df_year = pd.merge(df_year, df_categories_align[['category', 'Doug’s category']], left_on='indicator', right_on='category')\n",
    "    \n",
    "    # groupby broad categories and geo, and get sum values of call broad categories\n",
    "    df_add = df_year.groupby(['geo', 'Doug’s category'])['obsValue'].sum().reset_index()\n",
    "    df_add['category'] = 'All'\n",
    "    df_add['indicator'] = 'All'\n",
    "    df_add['geo_source'] = 'NUTS' + str(year)\n",
    "    \n",
    "    # concatenante the sum values of call broad categories to the original df\n",
    "    df_year = pd.concat([df_year, df_add])\n",
    "    df_year.drop(columns=['indicator'], inplace=True)\n",
    "    df_year.rename(columns={'Doug’s category':'broad_category'}, inplace=True)\n",
    "\n",
    "    df_comb = df_year if df_comb is None else pd.concat([df_comb, df_year])\n",
    "\n",
    "# calculate the sum of all pois in each geo\n",
    "df_all = df_comb[df_comb['category']=='All']\n",
    "df_all = df_all.groupby(['geo', 'geo_source'])['obsValue'].sum().reset_index()\n",
    "df_all['category'] = 'All'\n",
    "df_all['broad_category'] = 'All'\n",
    "df_comb = pd.concat([df_comb, df_all])\n",
    "df_comb['obsTime'] = 2025\n",
    "# add and id column (sequential integers)\n",
    "df_comb['id'] = df_comb.reset_index().index\n",
    "# move the geo_source column to the last column position\n",
    "df_comb = df_comb[['id'] + [i for i in df_comb.columns if i not in ['geo_source', 'id']]+['geo_source']]\n",
    "\n",
    "df_comb.to_csv(r'C:\\2-Case studies\\Cultural Gems\\Cultural Gems_final.csv', index=False)"
   ]
  }
 ],
 "metadata": {
  "kernelspec": {
   "display_name": "Python 3 (ipykernel)",
   "language": "python",
   "name": "python3"
  },
  "language_info": {
   "codemirror_mode": {
    "name": "ipython",
    "version": 3
   },
   "file_extension": ".py",
   "mimetype": "text/x-python",
   "name": "python",
   "nbconvert_exporter": "python",
   "pygments_lexer": "ipython3",
   "version": "3.12.3"
  }
 },
 "nbformat": 4,
 "nbformat_minor": 5
}
