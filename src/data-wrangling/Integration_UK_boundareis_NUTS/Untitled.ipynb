{
 "cells": [
  {
   "cell_type": "code",
   "execution_count": 1,
   "id": "09d72874-7e1b-49d7-bd72-81015f235679",
   "metadata": {},
   "outputs": [],
   "source": [
    "import os\n",
    "import pandas as pd\n",
    "import geopandas as gpd\n",
    "from tqdm import tqdm"
   ]
  },
  {
   "cell_type": "code",
   "execution_count": 3,
   "id": "240070d3-f784-4702-a5f3-d53d35f34ff2",
   "metadata": {},
   "outputs": [],
   "source": [
    "NUTS_2021 = gpd.read_file(r'C:\\1-Data\\NUTS\\NUTS_RG_01M_2021_3035.shp')\n",
    "NUTS_2024 = gpd.read_file(r'C:\\1-Data\\NUTS\\NUTS_RG_01M_2024_3035.shp')"
   ]
  },
  {
   "cell_type": "code",
   "execution_count": 9,
   "id": "cbe15a12-cb25-434f-a3e4-9768da698dca",
   "metadata": {},
   "outputs": [
    {
     "name": "stderr",
     "output_type": "stream",
     "text": [
      "100%|██████████████████████████████████████████████████████████████████████████████████| 30/30 [00:25<00:00,  1.18it/s]\n"
     ]
    }
   ],
   "source": [
    "folder_2021 = r'C:\\1-Data\\TIL_UK\\2021'\n",
    "ITL_comb = None\n",
    "for file in tqdm(os.listdir(folder_2021)):\n",
    "    if file.endswith('shp'):\n",
    "        shp_temp = gpd.read_file(folder_2021 + '\\\\' + file)\n",
    "        ITL_ID = [i for i in shp_temp.columns if i.endswith('CD')][0]\n",
    "        shp_temp['NUTS_ID'] = shp_temp[ITL_ID]\n",
    "        ITL_name = [i for i in shp_temp.columns if i.endswith('NM')][0]\n",
    "        shp_temp['NUTS_NAME'] = shp_temp[ITL_name]\n",
    "        shp_temp['LEVL_CODE'] = int(file.split('_')[0][-1])\n",
    "        shp_temp['CNTR_CODE'] = 'UK'\n",
    "        ITL_temp = shp_temp[['BNG_E', 'BNG_N', 'LONG', 'LAT', 'GlobalID','NUTS_ID', \n",
    "                             'LEVL_CODE', 'CNTR_CODE', 'NUTS_NAME', 'geometry']]\n",
    "        ITL_comb = ITL_temp if ITL_comb is None else pd.concat([ITL_comb, ITL_temp])\n",
    "\n",
    "NUTS_comb = pd.concat([NUTS_2021, ITL_comb.to_crs(NUTS_2021.crs)])\n",
    "NUTS_comb.to_file(r'C:\\1-Data\\TIL_UK\\2021_NUTS_ITL.shp')"
   ]
  },
  {
   "cell_type": "code",
   "execution_count": null,
   "id": "eb4fb91b-a707-4193-ad6d-ac8e9e645704",
   "metadata": {},
   "outputs": [
    {
     "name": "stderr",
     "output_type": "stream",
     "text": [
      "100%|██████████████████████████████████████████████████████████████████████████████████| 18/18 [00:42<00:00,  2.38s/it]\n"
     ]
    }
   ],
   "source": [
    "folder_2025 = r'C:\\1-Data\\TIL_UK\\2025'\n",
    "ITL_comb = None\n",
    "for file in tqdm(os.listdir(folder_2025)):\n",
    "    if file.endswith('shp'):\n",
    "        shp_temp = gpd.read_file(folder_2025 + '\\\\' + file)\n",
    "        ITL_ID = [i for i in shp_temp.columns if i.endswith('CD')][0]\n",
    "        shp_temp['NUTS_ID'] = shp_temp[ITL_ID]\n",
    "        ITL_name = [i for i in shp_temp.columns if i.endswith('NM')][0]\n",
    "        shp_temp['NUTS_NAME'] = shp_temp[ITL_name]\n",
    "        shp_temp['LEVL_CODE'] = int(file.split('_')[0][-1])\n",
    "        shp_temp['CNTR_CODE'] = 'UK'\n",
    "        ITL_temp = shp_temp[['BNG_E', 'BNG_N', 'LONG', 'LAT', 'GlobalID','NUTS_ID', \n",
    "                             'LEVL_CODE', 'CNTR_CODE', 'NUTS_NAME', 'geometry']]\n",
    "        ITL_comb = ITL_temp if ITL_comb is None else pd.concat([ITL_comb, ITL_temp])\n",
    "\n",
    "NUTS_comb = pd.concat([NUTS_2024, ITL_comb.to_crs(NUTS_2024.crs)])\n",
    "NUTS_comb.to_file(r'C:\\1-Data\\TIL_UK\\2024_NUTS_ITL.shp')"
   ]
  },
  {
   "cell_type": "code",
   "execution_count": null,
   "id": "8aaa3007-ba58-4a1e-a035-ca6afaeec709",
   "metadata": {},
   "outputs": [],
   "source": []
  },
  {
   "cell_type": "code",
   "execution_count": null,
   "id": "e6365562-5bc8-4923-b632-94670da3e93b",
   "metadata": {},
   "outputs": [],
   "source": []
  },
  {
   "cell_type": "code",
   "execution_count": null,
   "id": "c0c43e65-9306-4032-869d-9cd22889a125",
   "metadata": {},
   "outputs": [],
   "source": []
  },
  {
   "cell_type": "code",
   "execution_count": null,
   "id": "323f477f-0a9b-4462-b16e-e2aced89f69c",
   "metadata": {},
   "outputs": [],
   "source": []
  },
  {
   "cell_type": "code",
   "execution_count": null,
   "id": "68ce9a6e-7060-4ce0-8dbb-8d2d544d5a50",
   "metadata": {},
   "outputs": [],
   "source": []
  }
 ],
 "metadata": {
  "kernelspec": {
   "display_name": "Python 3 (ipykernel)",
   "language": "python",
   "name": "python3"
  },
  "language_info": {
   "codemirror_mode": {
    "name": "ipython",
    "version": 3
   },
   "file_extension": ".py",
   "mimetype": "text/x-python",
   "name": "python",
   "nbconvert_exporter": "python",
   "pygments_lexer": "ipython3",
   "version": "3.12.3"
  }
 },
 "nbformat": 4,
 "nbformat_minor": 5
}
