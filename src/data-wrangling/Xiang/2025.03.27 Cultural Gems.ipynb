{
 "cells": [
  {
   "cell_type": "code",
   "execution_count": 19,
   "id": "f6f39aff-677b-4a8e-8027-68451ac5a36d",
   "metadata": {},
   "outputs": [],
   "source": [
    "import requests\n",
    "import json\n",
    "import re\n",
    "import pandas as pd\n",
    "import numpy as np\n",
    "import geopandas as gpd\n",
    "from tqdm import tqdm"
   ]
  },
  {
   "cell_type": "markdown",
   "id": "292218a6-a327-4710-86d0-dbd5cc2a0baf",
   "metadata": {},
   "source": [
    "## 1. Request the lon and lat information of all POIs using api\n",
    "### 1.1 Walk through all EU countries and request POIs of all categories in all regions in each country\n",
    "The maximal number of returned POIs is 5000. Some countries might have more than 5000 POIs in the first round of request. Document those missing countries in a list"
   ]
  },
  {
   "cell_type": "code",
   "execution_count": 221,
   "id": "3d6df998-1d08-423a-b5d3-ac73a4812706",
   "metadata": {},
   "outputs": [],
   "source": [
    "url_dict = {'Albania':r'https://cultural-gems.jrc.ec.europa.eu/geoserver/gems/ows?service=WFS&version=1.0.0&request=GetFeature&typeName=gems:all_osm&srsName=EPSG:4326&CQL_FILTER=(%22category%22%20LIKE%20%27%25EUCultureFromHome%25%27%20OR%20%22category%22%20LIKE%20%27%25Aqueducts%25%27%20OR%20%22category%22%20LIKE%20%27%25Archaeological%20sites%25%27%20OR%20%22category%22%20LIKE%20%27%25Art%20gallery%25%27%20OR%20%22category%22%20LIKE%20%27%25Arts%20centre%25%27%20OR%20%22category%22%20LIKE%20%27%25Attraction%25%27%20OR%20%22category%22%20LIKE%20%27%25Castles%25%27%20OR%20%22category%22%20LIKE%20%27%25Church%25%27%20OR%20%22category%22%20LIKE%20%27%25Cinema%25%27%20OR%20%22category%22%20LIKE%20%27%25City%20gate%25%27%20OR%20%22category%22%20LIKE%20%27%25City%20walls%25%27%20OR%20%22category%22%20LIKE%20%27%25Community%20centre%25%27%20OR%20%22category%22%20LIKE%20%27%25Crypt%25%27%20OR%20%22category%22%20LIKE%20%27%25Fountain%25%27%20OR%20%22category%22%20LIKE%20%27%25Historic%20building%25%27%20OR%20%22category%22%20LIKE%20%27%25Manors%25%27%20OR%20%22category%22%20LIKE%20%27%25Memorial%25%27%20OR%20%22category%22%20LIKE%20%27%25Monastery%25%27%20OR%20%22category%22%20LIKE%20%27%25Monument%25%27%20OR%20%22category%22%20LIKE%20%27%25Museum%25%27%20OR%20%22category%22%20LIKE%20%27%25Music%20venue%25%27%20OR%20%22category%22%20LIKE%20%27%25Place%20of%20worship%25%27%20OR%20%22category%22%20LIKE%20%27%25Planetarium%25%27%20OR%20%22category%22%20LIKE%20%27%25Public%20artworks%25%27%20OR%20%22category%22%20LIKE%20%27%25Public%20library%25%27%20OR%20%22category%22%20LIKE%20%27%25Social%20centre%25%27%20OR%20%22category%22%20LIKE%20%27%25Theatre%25%27%20OR%20%22category%22%20LIKE%20%27%25Viewpoint%25%27)%20AND%20(%22nuts_id%22%20==%20%27AL03%27%20OR%20%22nuts_id%22%20==%20%27AL02%27%20OR%20%22nuts_id%22%20==%20%27AL01%27)&,urn:ogc:def:crs:EPSG:3857&outputFormat=application%2Fjson&maxFeatures=5000',\n",
    "           'Austria':r'https://cultural-gems.jrc.ec.europa.eu/geoserver/gems/ows?service=WFS&version=1.0.0&request=GetFeature&typeName=gems:all_osm&srsName=EPSG:4326&CQL_FILTER=(%22category%22%20LIKE%20%27%25EUCultureFromHome%25%27%20OR%20%22category%22%20LIKE%20%27%25Aqueducts%25%27%20OR%20%22category%22%20LIKE%20%27%25Archaeological%20sites%25%27%20OR%20%22category%22%20LIKE%20%27%25Art%20gallery%25%27%20OR%20%22category%22%20LIKE%20%27%25Arts%20centre%25%27%20OR%20%22category%22%20LIKE%20%27%25Attraction%25%27%20OR%20%22category%22%20LIKE%20%27%25Castles%25%27%20OR%20%22category%22%20LIKE%20%27%25Church%25%27%20OR%20%22category%22%20LIKE%20%27%25Cinema%25%27%20OR%20%22category%22%20LIKE%20%27%25City%20gate%25%27%20OR%20%22category%22%20LIKE%20%27%25City%20walls%25%27%20OR%20%22category%22%20LIKE%20%27%25Community%20centre%25%27%20OR%20%22category%22%20LIKE%20%27%25Crypt%25%27%20OR%20%22category%22%20LIKE%20%27%25Fountain%25%27%20OR%20%22category%22%20LIKE%20%27%25Historic%20building%25%27%20OR%20%22category%22%20LIKE%20%27%25Manors%25%27%20OR%20%22category%22%20LIKE%20%27%25Memorial%25%27%20OR%20%22category%22%20LIKE%20%27%25Monastery%25%27%20OR%20%22category%22%20LIKE%20%27%25Monument%25%27%20OR%20%22category%22%20LIKE%20%27%25Museum%25%27%20OR%20%22category%22%20LIKE%20%27%25Music%20venue%25%27%20OR%20%22category%22%20LIKE%20%27%25Place%20of%20worship%25%27%20OR%20%22category%22%20LIKE%20%27%25Planetarium%25%27%20OR%20%22category%22%20LIKE%20%27%25Public%20artworks%25%27%20OR%20%22category%22%20LIKE%20%27%25Public%20library%25%27%20OR%20%22category%22%20LIKE%20%27%25Social%20centre%25%27%20OR%20%22category%22%20LIKE%20%27%25Theatre%25%27%20OR%20%22category%22%20LIKE%20%27%25Viewpoint%25%27)%20AND%20(%22nuts_id%22%20==%20%27AT11%27%20OR%20%22nuts_id%22%20==%20%27AT21%27%20OR%20%22nuts_id%22%20==%20%27AT12%27%20OR%20%22nuts_id%22%20==%20%27AT31%27%20OR%20%22nuts_id%22%20==%20%27AT32%27%20OR%20%22nuts_id%22%20==%20%27AT22%27%20OR%20%22nuts_id%22%20==%20%27AT33%27%20OR%20%22nuts_id%22%20==%20%27AT34%27%20OR%20%22nuts_id%22%20==%20%27AT13%27)&,urn:ogc:def:crs:EPSG:3857&outputFormat=application%2Fjson&maxFeatures=5000',\n",
    "           'Belgium':r'https://cultural-gems.jrc.ec.europa.eu/geoserver/gems/ows?service=WFS&version=1.0.0&request=GetFeature&typeName=gems:all_osm&srsName=EPSG:4326&CQL_FILTER=(%22category%22%20LIKE%20%27%25EUCultureFromHome%25%27%20OR%20%22category%22%20LIKE%20%27%25Aqueducts%25%27%20OR%20%22category%22%20LIKE%20%27%25Archaeological%20sites%25%27%20OR%20%22category%22%20LIKE%20%27%25Art%20gallery%25%27%20OR%20%22category%22%20LIKE%20%27%25Arts%20centre%25%27%20OR%20%22category%22%20LIKE%20%27%25Attraction%25%27%20OR%20%22category%22%20LIKE%20%27%25Castles%25%27%20OR%20%22category%22%20LIKE%20%27%25Church%25%27%20OR%20%22category%22%20LIKE%20%27%25Cinema%25%27%20OR%20%22category%22%20LIKE%20%27%25City%20gate%25%27%20OR%20%22category%22%20LIKE%20%27%25City%20walls%25%27%20OR%20%22category%22%20LIKE%20%27%25Community%20centre%25%27%20OR%20%22category%22%20LIKE%20%27%25Crypt%25%27%20OR%20%22category%22%20LIKE%20%27%25Fountain%25%27%20OR%20%22category%22%20LIKE%20%27%25Historic%20building%25%27%20OR%20%22category%22%20LIKE%20%27%25Manors%25%27%20OR%20%22category%22%20LIKE%20%27%25Memorial%25%27%20OR%20%22category%22%20LIKE%20%27%25Monastery%25%27%20OR%20%22category%22%20LIKE%20%27%25Monument%25%27%20OR%20%22category%22%20LIKE%20%27%25Museum%25%27%20OR%20%22category%22%20LIKE%20%27%25Music%20venue%25%27%20OR%20%22category%22%20LIKE%20%27%25Place%20of%20worship%25%27%20OR%20%22category%22%20LIKE%20%27%25Planetarium%25%27%20OR%20%22category%22%20LIKE%20%27%25Public%20artworks%25%27%20OR%20%22category%22%20LIKE%20%27%25Public%20library%25%27%20OR%20%22category%22%20LIKE%20%27%25Social%20centre%25%27%20OR%20%22category%22%20LIKE%20%27%25Theatre%25%27%20OR%20%22category%22%20LIKE%20%27%25Viewpoint%25%27)%20AND%20(%22nuts_id%22%20==%20%27BE21%27%20OR%20%22nuts_id%22%20==%20%27BE31%27%20OR%20%22nuts_id%22%20==%20%27BE32%27%20OR%20%22nuts_id%22%20==%20%27BE22%27%20OR%20%22nuts_id%22%20==%20%27BE33%27%20OR%20%22nuts_id%22%20==%20%27BE34%27%20OR%20%22nuts_id%22%20==%20%27BE35%27%20OR%20%22nuts_id%22%20==%20%27BE23%27%20OR%20%22nuts_id%22%20==%20%27BE24%27%20OR%20%22nuts_id%22%20==%20%27BE25%27%20OR%20%22nuts_id%22%20==%20%27BE10%27)&,urn:ogc:def:crs:EPSG:3857&outputFormat=application%2Fjson&maxFeatures=5000',\n",
    "           'Bosnia and Herzegovina':r'https://cultural-gems.jrc.ec.europa.eu/geoserver/gems/ows?service=WFS&version=1.0.0&request=GetFeature&typeName=gems:all_osm&srsName=EPSG:4326&CQL_FILTER=(%22category%22%20LIKE%20%27%25EUCultureFromHome%25%27%20OR%20%22category%22%20LIKE%20%27%25Aqueducts%25%27%20OR%20%22category%22%20LIKE%20%27%25Archaeological%20sites%25%27%20OR%20%22category%22%20LIKE%20%27%25Art%20gallery%25%27%20OR%20%22category%22%20LIKE%20%27%25Arts%20centre%25%27%20OR%20%22category%22%20LIKE%20%27%25Attraction%25%27%20OR%20%22category%22%20LIKE%20%27%25Castles%25%27%20OR%20%22category%22%20LIKE%20%27%25Church%25%27%20OR%20%22category%22%20LIKE%20%27%25Cinema%25%27%20OR%20%22category%22%20LIKE%20%27%25City%20gate%25%27%20OR%20%22category%22%20LIKE%20%27%25City%20walls%25%27%20OR%20%22category%22%20LIKE%20%27%25Community%20centre%25%27%20OR%20%22category%22%20LIKE%20%27%25Crypt%25%27%20OR%20%22category%22%20LIKE%20%27%25Fountain%25%27%20OR%20%22category%22%20LIKE%20%27%25Historic%20building%25%27%20OR%20%22category%22%20LIKE%20%27%25Manors%25%27%20OR%20%22category%22%20LIKE%20%27%25Memorial%25%27%20OR%20%22category%22%20LIKE%20%27%25Monastery%25%27%20OR%20%22category%22%20LIKE%20%27%25Monument%25%27%20OR%20%22category%22%20LIKE%20%27%25Museum%25%27%20OR%20%22category%22%20LIKE%20%27%25Music%20venue%25%27%20OR%20%22category%22%20LIKE%20%27%25Place%20of%20worship%25%27%20OR%20%22category%22%20LIKE%20%27%25Planetarium%25%27%20OR%20%22category%22%20LIKE%20%27%25Public%20artworks%25%27%20OR%20%22category%22%20LIKE%20%27%25Public%20library%25%27%20OR%20%22category%22%20LIKE%20%27%25Social%20centre%25%27%20OR%20%22category%22%20LIKE%20%27%25Theatre%25%27%20OR%20%22category%22%20LIKE%20%27%25Viewpoint%25%27)%20AND%20(%22nuts_id%22%20==%20%27BA%27)&,urn:ogc:def:crs:EPSG:3857&outputFormat=application%2Fjson&maxFeatures=5000',\n",
    "           'Bulgaria':r'https://cultural-gems.jrc.ec.europa.eu/geoserver/gems/ows?service=WFS&version=1.0.0&request=GetFeature&typeName=gems:all_osm&srsName=EPSG:4326&CQL_FILTER=(%22category%22%20LIKE%20%27%25EUCultureFromHome%25%27%20OR%20%22category%22%20LIKE%20%27%25Aqueducts%25%27%20OR%20%22category%22%20LIKE%20%27%25Archaeological%20sites%25%27%20OR%20%22category%22%20LIKE%20%27%25Art%20gallery%25%27%20OR%20%22category%22%20LIKE%20%27%25Arts%20centre%25%27%20OR%20%22category%22%20LIKE%20%27%25Attraction%25%27%20OR%20%22category%22%20LIKE%20%27%25Castles%25%27%20OR%20%22category%22%20LIKE%20%27%25Church%25%27%20OR%20%22category%22%20LIKE%20%27%25Cinema%25%27%20OR%20%22category%22%20LIKE%20%27%25City%20gate%25%27%20OR%20%22category%22%20LIKE%20%27%25City%20walls%25%27%20OR%20%22category%22%20LIKE%20%27%25Community%20centre%25%27%20OR%20%22category%22%20LIKE%20%27%25Crypt%25%27%20OR%20%22category%22%20LIKE%20%27%25Fountain%25%27%20OR%20%22category%22%20LIKE%20%27%25Historic%20building%25%27%20OR%20%22category%22%20LIKE%20%27%25Manors%25%27%20OR%20%22category%22%20LIKE%20%27%25Memorial%25%27%20OR%20%22category%22%20LIKE%20%27%25Monastery%25%27%20OR%20%22category%22%20LIKE%20%27%25Monument%25%27%20OR%20%22category%22%20LIKE%20%27%25Museum%25%27%20OR%20%22category%22%20LIKE%20%27%25Music%20venue%25%27%20OR%20%22category%22%20LIKE%20%27%25Place%20of%20worship%25%27%20OR%20%22category%22%20LIKE%20%27%25Planetarium%25%27%20OR%20%22category%22%20LIKE%20%27%25Public%20artworks%25%27%20OR%20%22category%22%20LIKE%20%27%25Public%20library%25%27%20OR%20%22category%22%20LIKE%20%27%25Social%20centre%25%27%20OR%20%22category%22%20LIKE%20%27%25Theatre%25%27%20OR%20%22category%22%20LIKE%20%27%25Viewpoint%25%27)%20AND%20(%22nuts_id%22%20==%20%27BG32%27%20OR%20%22nuts_id%22%20==%20%27BG33%27%20OR%20%22nuts_id%22%20==%20%27BG31%27%20OR%20%22nuts_id%22%20==%20%27BG34%27%20OR%20%22nuts_id%22%20==%20%27BG41%27%20OR%20%22nuts_id%22%20==%20%27BG42%27)&,urn:ogc:def:crs:EPSG:3857&outputFormat=application%2Fjson&maxFeatures=5000',\n",
    "           'Croatia':r'https://cultural-gems.jrc.ec.europa.eu/geoserver/gems/ows?service=WFS&version=1.0.0&request=GetFeature&typeName=gems:all_osm&srsName=EPSG:4326&CQL_FILTER=(%22category%22%20LIKE%20%27%25EUCultureFromHome%25%27%20OR%20%22category%22%20LIKE%20%27%25Aqueducts%25%27%20OR%20%22category%22%20LIKE%20%27%25Archaeological%20sites%25%27%20OR%20%22category%22%20LIKE%20%27%25Art%20gallery%25%27%20OR%20%22category%22%20LIKE%20%27%25Arts%20centre%25%27%20OR%20%22category%22%20LIKE%20%27%25Attraction%25%27%20OR%20%22category%22%20LIKE%20%27%25Castles%25%27%20OR%20%22category%22%20LIKE%20%27%25Church%25%27%20OR%20%22category%22%20LIKE%20%27%25Cinema%25%27%20OR%20%22category%22%20LIKE%20%27%25City%20gate%25%27%20OR%20%22category%22%20LIKE%20%27%25City%20walls%25%27%20OR%20%22category%22%20LIKE%20%27%25Community%20centre%25%27%20OR%20%22category%22%20LIKE%20%27%25Crypt%25%27%20OR%20%22category%22%20LIKE%20%27%25Fountain%25%27%20OR%20%22category%22%20LIKE%20%27%25Historic%20building%25%27%20OR%20%22category%22%20LIKE%20%27%25Manors%25%27%20OR%20%22category%22%20LIKE%20%27%25Memorial%25%27%20OR%20%22category%22%20LIKE%20%27%25Monastery%25%27%20OR%20%22category%22%20LIKE%20%27%25Monument%25%27%20OR%20%22category%22%20LIKE%20%27%25Museum%25%27%20OR%20%22category%22%20LIKE%20%27%25Music%20venue%25%27%20OR%20%22category%22%20LIKE%20%27%25Place%20of%20worship%25%27%20OR%20%22category%22%20LIKE%20%27%25Planetarium%25%27%20OR%20%22category%22%20LIKE%20%27%25Public%20artworks%25%27%20OR%20%22category%22%20LIKE%20%27%25Public%20library%25%27%20OR%20%22category%22%20LIKE%20%27%25Social%20centre%25%27%20OR%20%22category%22%20LIKE%20%27%25Theatre%25%27%20OR%20%22category%22%20LIKE%20%27%25Viewpoint%25%27)%20AND%20(%22nuts_id%22%20==%20%27HR05%27%20OR%20%22nuts_id%22%20==%20%27HR03%27%20OR%20%22nuts_id%22%20==%20%27HR02%27%20OR%20%22nuts_id%22%20==%20%27HR06%27)&,urn:ogc:def:crs:EPSG:3857&outputFormat=application%2Fjson&maxFeatures=5000',\n",
    "           'Cyprus':r'https://cultural-gems.jrc.ec.europa.eu/geoserver/gems/ows?service=WFS&version=1.0.0&request=GetFeature&typeName=gems:all_osm&srsName=EPSG:4326&CQL_FILTER=(%22category%22%20LIKE%20%27%25EUCultureFromHome%25%27%20OR%20%22category%22%20LIKE%20%27%25Aqueducts%25%27%20OR%20%22category%22%20LIKE%20%27%25Archaeological%20sites%25%27%20OR%20%22category%22%20LIKE%20%27%25Art%20gallery%25%27%20OR%20%22category%22%20LIKE%20%27%25Arts%20centre%25%27%20OR%20%22category%22%20LIKE%20%27%25Attraction%25%27%20OR%20%22category%22%20LIKE%20%27%25Castles%25%27%20OR%20%22category%22%20LIKE%20%27%25Church%25%27%20OR%20%22category%22%20LIKE%20%27%25Cinema%25%27%20OR%20%22category%22%20LIKE%20%27%25City%20gate%25%27%20OR%20%22category%22%20LIKE%20%27%25City%20walls%25%27%20OR%20%22category%22%20LIKE%20%27%25Community%20centre%25%27%20OR%20%22category%22%20LIKE%20%27%25Crypt%25%27%20OR%20%22category%22%20LIKE%20%27%25Fountain%25%27%20OR%20%22category%22%20LIKE%20%27%25Historic%20building%25%27%20OR%20%22category%22%20LIKE%20%27%25Manors%25%27%20OR%20%22category%22%20LIKE%20%27%25Memorial%25%27%20OR%20%22category%22%20LIKE%20%27%25Monastery%25%27%20OR%20%22category%22%20LIKE%20%27%25Monument%25%27%20OR%20%22category%22%20LIKE%20%27%25Museum%25%27%20OR%20%22category%22%20LIKE%20%27%25Music%20venue%25%27%20OR%20%22category%22%20LIKE%20%27%25Place%20of%20worship%25%27%20OR%20%22category%22%20LIKE%20%27%25Planetarium%25%27%20OR%20%22category%22%20LIKE%20%27%25Public%20artworks%25%27%20OR%20%22category%22%20LIKE%20%27%25Public%20library%25%27%20OR%20%22category%22%20LIKE%20%27%25Social%20centre%25%27%20OR%20%22category%22%20LIKE%20%27%25Theatre%25%27%20OR%20%22category%22%20LIKE%20%27%25Viewpoint%25%27)%20AND%20(%22nuts_id%22%20==%20%27CY00%27)&,urn:ogc:def:crs:EPSG:3857&outputFormat=application%2Fjson&maxFeatures=5000',\n",
    "           'Czechia':r'https://cultural-gems.jrc.ec.europa.eu/geoserver/gems/ows?service=WFS&version=1.0.0&request=GetFeature&typeName=gems:all_osm&srsName=EPSG:4326&CQL_FILTER=(%22category%22%20LIKE%20%27%25EUCultureFromHome%25%27%20OR%20%22category%22%20LIKE%20%27%25Aqueducts%25%27%20OR%20%22category%22%20LIKE%20%27%25Archaeological%20sites%25%27%20OR%20%22category%22%20LIKE%20%27%25Art%20gallery%25%27%20OR%20%22category%22%20LIKE%20%27%25Arts%20centre%25%27%20OR%20%22category%22%20LIKE%20%27%25Attraction%25%27%20OR%20%22category%22%20LIKE%20%27%25Castles%25%27%20OR%20%22category%22%20LIKE%20%27%25Church%25%27%20OR%20%22category%22%20LIKE%20%27%25Cinema%25%27%20OR%20%22category%22%20LIKE%20%27%25City%20gate%25%27%20OR%20%22category%22%20LIKE%20%27%25City%20walls%25%27%20OR%20%22category%22%20LIKE%20%27%25Community%20centre%25%27%20OR%20%22category%22%20LIKE%20%27%25Crypt%25%27%20OR%20%22category%22%20LIKE%20%27%25Fountain%25%27%20OR%20%22category%22%20LIKE%20%27%25Historic%20building%25%27%20OR%20%22category%22%20LIKE%20%27%25Manors%25%27%20OR%20%22category%22%20LIKE%20%27%25Memorial%25%27%20OR%20%22category%22%20LIKE%20%27%25Monastery%25%27%20OR%20%22category%22%20LIKE%20%27%25Monument%25%27%20OR%20%22category%22%20LIKE%20%27%25Museum%25%27%20OR%20%22category%22%20LIKE%20%27%25Music%20venue%25%27%20OR%20%22category%22%20LIKE%20%27%25Place%20of%20worship%25%27%20OR%20%22category%22%20LIKE%20%27%25Planetarium%25%27%20OR%20%22category%22%20LIKE%20%27%25Public%20artworks%25%27%20OR%20%22category%22%20LIKE%20%27%25Public%20library%25%27%20OR%20%22category%22%20LIKE%20%27%25Social%20centre%25%27%20OR%20%22category%22%20LIKE%20%27%25Theatre%25%27%20OR%20%22category%22%20LIKE%20%27%25Viewpoint%25%27)%20AND%20(%22nuts_id%22%20==%20%27CZ06%27%20OR%20%22nuts_id%22%20==%20%27CZ03%27%20OR%20%22nuts_id%22%20==%20%27CZ08%27%20OR%20%22nuts_id%22%20==%20%27CZ01%27%20OR%20%22nuts_id%22%20==%20%27CZ05%27%20OR%20%22nuts_id%22%20==%20%27CZ04%27%20OR%20%22nuts_id%22%20==%20%27CZ07%27%20OR%20%22nuts_id%22%20==%20%27CZ02%27)&,urn:ogc:def:crs:EPSG:3857&outputFormat=application%2Fjson&maxFeatures=5000',\n",
    "           'Denmark':r'https://cultural-gems.jrc.ec.europa.eu/geoserver/gems/ows?service=WFS&version=1.0.0&request=GetFeature&typeName=gems:all_osm&srsName=EPSG:4326&CQL_FILTER=(%22category%22%20LIKE%20%27%25EUCultureFromHome%25%27%20OR%20%22category%22%20LIKE%20%27%25Aqueducts%25%27%20OR%20%22category%22%20LIKE%20%27%25Archaeological%20sites%25%27%20OR%20%22category%22%20LIKE%20%27%25Art%20gallery%25%27%20OR%20%22category%22%20LIKE%20%27%25Arts%20centre%25%27%20OR%20%22category%22%20LIKE%20%27%25Attraction%25%27%20OR%20%22category%22%20LIKE%20%27%25Castles%25%27%20OR%20%22category%22%20LIKE%20%27%25Church%25%27%20OR%20%22category%22%20LIKE%20%27%25Cinema%25%27%20OR%20%22category%22%20LIKE%20%27%25City%20gate%25%27%20OR%20%22category%22%20LIKE%20%27%25City%20walls%25%27%20OR%20%22category%22%20LIKE%20%27%25Community%20centre%25%27%20OR%20%22category%22%20LIKE%20%27%25Crypt%25%27%20OR%20%22category%22%20LIKE%20%27%25Fountain%25%27%20OR%20%22category%22%20LIKE%20%27%25Historic%20building%25%27%20OR%20%22category%22%20LIKE%20%27%25Manors%25%27%20OR%20%22category%22%20LIKE%20%27%25Memorial%25%27%20OR%20%22category%22%20LIKE%20%27%25Monastery%25%27%20OR%20%22category%22%20LIKE%20%27%25Monument%25%27%20OR%20%22category%22%20LIKE%20%27%25Museum%25%27%20OR%20%22category%22%20LIKE%20%27%25Music%20venue%25%27%20OR%20%22category%22%20LIKE%20%27%25Place%20of%20worship%25%27%20OR%20%22category%22%20LIKE%20%27%25Planetarium%25%27%20OR%20%22category%22%20LIKE%20%27%25Public%20artworks%25%27%20OR%20%22category%22%20LIKE%20%27%25Public%20library%25%27%20OR%20%22category%22%20LIKE%20%27%25Social%20centre%25%27%20OR%20%22category%22%20LIKE%20%27%25Theatre%25%27%20OR%20%22category%22%20LIKE%20%27%25Viewpoint%25%27)%20AND%20(%22nuts_id%22%20==%20%27DK01%27%20OR%20%22nuts_id%22%20==%20%27DK04%27%20OR%20%22nuts_id%22%20==%20%27DK05%27%20OR%20%22nuts_id%22%20==%20%27DK02%27%20OR%20%22nuts_id%22%20==%20%27DK03%27)&,urn:ogc:def:crs:EPSG:3857&outputFormat=application%2Fjson&maxFeatures=5000',\n",
    "           'Estonia':r'https://cultural-gems.jrc.ec.europa.eu/geoserver/gems/ows?service=WFS&version=1.0.0&request=GetFeature&typeName=gems:all_osm&srsName=EPSG:4326&CQL_FILTER=(%22category%22%20LIKE%20%27%25EUCultureFromHome%25%27%20OR%20%22category%22%20LIKE%20%27%25Aqueducts%25%27%20OR%20%22category%22%20LIKE%20%27%25Archaeological%20sites%25%27%20OR%20%22category%22%20LIKE%20%27%25Art%20gallery%25%27%20OR%20%22category%22%20LIKE%20%27%25Arts%20centre%25%27%20OR%20%22category%22%20LIKE%20%27%25Attraction%25%27%20OR%20%22category%22%20LIKE%20%27%25Castles%25%27%20OR%20%22category%22%20LIKE%20%27%25Church%25%27%20OR%20%22category%22%20LIKE%20%27%25Cinema%25%27%20OR%20%22category%22%20LIKE%20%27%25City%20gate%25%27%20OR%20%22category%22%20LIKE%20%27%25City%20walls%25%27%20OR%20%22category%22%20LIKE%20%27%25Community%20centre%25%27%20OR%20%22category%22%20LIKE%20%27%25Crypt%25%27%20OR%20%22category%22%20LIKE%20%27%25Fountain%25%27%20OR%20%22category%22%20LIKE%20%27%25Historic%20building%25%27%20OR%20%22category%22%20LIKE%20%27%25Manors%25%27%20OR%20%22category%22%20LIKE%20%27%25Memorial%25%27%20OR%20%22category%22%20LIKE%20%27%25Monastery%25%27%20OR%20%22category%22%20LIKE%20%27%25Monument%25%27%20OR%20%22category%22%20LIKE%20%27%25Museum%25%27%20OR%20%22category%22%20LIKE%20%27%25Music%20venue%25%27%20OR%20%22category%22%20LIKE%20%27%25Place%20of%20worship%25%27%20OR%20%22category%22%20LIKE%20%27%25Planetarium%25%27%20OR%20%22category%22%20LIKE%20%27%25Public%20artworks%25%27%20OR%20%22category%22%20LIKE%20%27%25Public%20library%25%27%20OR%20%22category%22%20LIKE%20%27%25Social%20centre%25%27%20OR%20%22category%22%20LIKE%20%27%25Theatre%25%27%20OR%20%22category%22%20LIKE%20%27%25Viewpoint%25%27)%20AND%20(%22nuts_id%22%20==%20%27EE00%27%20OR%20%22nuts_id%22%20==%20%27DEE0%27)&,urn:ogc:def:crs:EPSG:3857&outputFormat=application%2Fjson&maxFeatures=5000',\n",
    "           'Finland':r'https://cultural-gems.jrc.ec.europa.eu/geoserver/gems/ows?service=WFS&version=1.0.0&request=GetFeature&typeName=gems:all_osm&srsName=EPSG:4326&CQL_FILTER=(%22category%22%20LIKE%20%27%25EUCultureFromHome%25%27%20OR%20%22category%22%20LIKE%20%27%25Aqueducts%25%27%20OR%20%22category%22%20LIKE%20%27%25Archaeological%20sites%25%27%20OR%20%22category%22%20LIKE%20%27%25Art%20gallery%25%27%20OR%20%22category%22%20LIKE%20%27%25Arts%20centre%25%27%20OR%20%22category%22%20LIKE%20%27%25Attraction%25%27%20OR%20%22category%22%20LIKE%20%27%25Castles%25%27%20OR%20%22category%22%20LIKE%20%27%25Church%25%27%20OR%20%22category%22%20LIKE%20%27%25Cinema%25%27%20OR%20%22category%22%20LIKE%20%27%25City%20gate%25%27%20OR%20%22category%22%20LIKE%20%27%25City%20walls%25%27%20OR%20%22category%22%20LIKE%20%27%25Community%20centre%25%27%20OR%20%22category%22%20LIKE%20%27%25Crypt%25%27%20OR%20%22category%22%20LIKE%20%27%25Fountain%25%27%20OR%20%22category%22%20LIKE%20%27%25Historic%20building%25%27%20OR%20%22category%22%20LIKE%20%27%25Manors%25%27%20OR%20%22category%22%20LIKE%20%27%25Memorial%25%27%20OR%20%22category%22%20LIKE%20%27%25Monastery%25%27%20OR%20%22category%22%20LIKE%20%27%25Monument%25%27%20OR%20%22category%22%20LIKE%20%27%25Museum%25%27%20OR%20%22category%22%20LIKE%20%27%25Music%20venue%25%27%20OR%20%22category%22%20LIKE%20%27%25Place%20of%20worship%25%27%20OR%20%22category%22%20LIKE%20%27%25Planetarium%25%27%20OR%20%22category%22%20LIKE%20%27%25Public%20artworks%25%27%20OR%20%22category%22%20LIKE%20%27%25Public%20library%25%27%20OR%20%22category%22%20LIKE%20%27%25Social%20centre%25%27%20OR%20%22category%22%20LIKE%20%27%25Theatre%25%27%20OR%20%22category%22%20LIKE%20%27%25Viewpoint%25%27)%20AND%20(%22nuts_id%22%20==%20%27FI1C%27%20OR%20%22nuts_id%22%20==%20%27FI1B%27%20OR%20%22nuts_id%22%20==%20%27FI19%27%20OR%20%22nuts_id%22%20==%20%27FI1D%27%20OR%20%22nuts_id%22%20==%20%27FI20%27)&,urn:ogc:def:crs:EPSG:3857&outputFormat=application%2Fjson&maxFeatures=5000',\n",
    "           'France':r'https://cultural-gems.jrc.ec.europa.eu/geoserver/gems/ows?service=WFS&version=1.0.0&request=GetFeature&typeName=gems:all_osm&srsName=EPSG:4326&CQL_FILTER=(%22category%22%20LIKE%20%27%25EUCultureFromHome%25%27%20OR%20%22category%22%20LIKE%20%27%25Aqueducts%25%27%20OR%20%22category%22%20LIKE%20%27%25Archaeological%20sites%25%27%20OR%20%22category%22%20LIKE%20%27%25Art%20gallery%25%27%20OR%20%22category%22%20LIKE%20%27%25Arts%20centre%25%27%20OR%20%22category%22%20LIKE%20%27%25Attraction%25%27%20OR%20%22category%22%20LIKE%20%27%25Castles%25%27%20OR%20%22category%22%20LIKE%20%27%25Church%25%27%20OR%20%22category%22%20LIKE%20%27%25Cinema%25%27%20OR%20%22category%22%20LIKE%20%27%25City%20gate%25%27%20OR%20%22category%22%20LIKE%20%27%25City%20walls%25%27%20OR%20%22category%22%20LIKE%20%27%25Community%20centre%25%27%20OR%20%22category%22%20LIKE%20%27%25Crypt%25%27%20OR%20%22category%22%20LIKE%20%27%25Fountain%25%27%20OR%20%22category%22%20LIKE%20%27%25Historic%20building%25%27%20OR%20%22category%22%20LIKE%20%27%25Manors%25%27%20OR%20%22category%22%20LIKE%20%27%25Memorial%25%27%20OR%20%22category%22%20LIKE%20%27%25Monastery%25%27%20OR%20%22category%22%20LIKE%20%27%25Monument%25%27%20OR%20%22category%22%20LIKE%20%27%25Museum%25%27%20OR%20%22category%22%20LIKE%20%27%25Music%20venue%25%27%20OR%20%22category%22%20LIKE%20%27%25Place%20of%20worship%25%27%20OR%20%22category%22%20LIKE%20%27%25Planetarium%25%27%20OR%20%22category%22%20LIKE%20%27%25Public%20artworks%25%27%20OR%20%22category%22%20LIKE%20%27%25Public%20library%25%27%20OR%20%22category%22%20LIKE%20%27%25Social%20centre%25%27%20OR%20%22category%22%20LIKE%20%27%25Theatre%25%27%20OR%20%22category%22%20LIKE%20%27%25Viewpoint%25%27)%20AND%20(%22nuts_id%22%20==%20%27FRF1%27%20OR%20%22nuts_id%22%20==%20%27FRI1%27%20OR%20%22nuts_id%22%20==%20%27FRK1%27%20OR%20%22nuts_id%22%20==%20%27FRD1%27%20OR%20%22nuts_id%22%20==%20%27FRC1%27%20OR%20%22nuts_id%22%20==%20%27FRH0%27%20OR%20%22nuts_id%22%20==%20%27FRB0%27%20OR%20%22nuts_id%22%20==%20%27FRF2%27%20OR%20%22nuts_id%22%20==%20%27FRM0%27%20OR%20%22nuts_id%22%20==%20%27FRC2%27%20OR%20%22nuts_id%22%20==%20%27FRY1%27%20OR%20%22nuts_id%22%20==%20%27FRY3%27%20OR%20%22nuts_id%22%20==%20%27FRD2%27%20OR%20%22nuts_id%22%20==%20%27FR10%27%20OR%20%22nuts_id%22%20==%20%27FRY4%27%20OR%20%22nuts_id%22%20==%20%27FRJ1%27%20OR%20%22nuts_id%22%20==%20%27FRI2%27%20OR%20%22nuts_id%22%20==%20%27FRF3%27%20OR%20%22nuts_id%22%20==%20%27FRY2%27%20OR%20%22nuts_id%22%20==%20%27FRY5%27%20OR%20%22nuts_id%22%20==%20%27FRJ2%27%20OR%20%22nuts_id%22%20==%20%27FRE1%27%20OR%20%22nuts_id%22%20==%20%27FRG0%27%20OR%20%22nuts_id%22%20==%20%27FRE2%27%20OR%20%22nuts_id%22%20==%20%27FRI3%27%20OR%20%22nuts_id%22%20==%20%27FRL0%27%20OR%20%22nuts_id%22%20==%20%27FRK2%27)&,urn:ogc:def:crs:EPSG:3857&outputFormat=application%2Fjson&maxFeatures=5000',\n",
    "           'Germany':r'https://cultural-gems.jrc.ec.europa.eu/geoserver/gems/ows?service=WFS&version=1.0.0&request=GetFeature&typeName=gems:all_osm&srsName=EPSG:4326&CQL_FILTER=(%22category%22%20LIKE%20%27%25EUCultureFromHome%25%27%20OR%20%22category%22%20LIKE%20%27%25Aqueducts%25%27%20OR%20%22category%22%20LIKE%20%27%25Archaeological%20sites%25%27%20OR%20%22category%22%20LIKE%20%27%25Art%20gallery%25%27%20OR%20%22category%22%20LIKE%20%27%25Arts%20centre%25%27%20OR%20%22category%22%20LIKE%20%27%25Attraction%25%27%20OR%20%22category%22%20LIKE%20%27%25Castles%25%27%20OR%20%22category%22%20LIKE%20%27%25Church%25%27%20OR%20%22category%22%20LIKE%20%27%25Cinema%25%27%20OR%20%22category%22%20LIKE%20%27%25City%20gate%25%27%20OR%20%22category%22%20LIKE%20%27%25City%20walls%25%27%20OR%20%22category%22%20LIKE%20%27%25Community%20centre%25%27%20OR%20%22category%22%20LIKE%20%27%25Crypt%25%27%20OR%20%22category%22%20LIKE%20%27%25Fountain%25%27%20OR%20%22category%22%20LIKE%20%27%25Historic%20building%25%27%20OR%20%22category%22%20LIKE%20%27%25Manors%25%27%20OR%20%22category%22%20LIKE%20%27%25Memorial%25%27%20OR%20%22category%22%20LIKE%20%27%25Monastery%25%27%20OR%20%22category%22%20LIKE%20%27%25Monument%25%27%20OR%20%22category%22%20LIKE%20%27%25Museum%25%27%20OR%20%22category%22%20LIKE%20%27%25Music%20venue%25%27%20OR%20%22category%22%20LIKE%20%27%25Place%20of%20worship%25%27%20OR%20%22category%22%20LIKE%20%27%25Planetarium%25%27%20OR%20%22category%22%20LIKE%20%27%25Public%20artworks%25%27%20OR%20%22category%22%20LIKE%20%27%25Public%20library%25%27%20OR%20%22category%22%20LIKE%20%27%25Social%20centre%25%27%20OR%20%22category%22%20LIKE%20%27%25Theatre%25%27%20OR%20%22category%22%20LIKE%20%27%25Viewpoint%25%27)%20AND%20(%22nuts_id%22%20==%20%27DEA5%27%20OR%20%22nuts_id%22%20==%20%27DE30%27%20OR%20%22nuts_id%22%20==%20%27DE40%27%20OR%20%22nuts_id%22%20==%20%27DE91%27%20OR%20%22nuts_id%22%20==%20%27DE50%27%20OR%20%22nuts_id%22%20==%20%27DED4%27%20OR%20%22nuts_id%22%20==%20%27DE71%27%20OR%20%22nuts_id%22%20==%20%27DEA4%27%20OR%20%22nuts_id%22%20==%20%27DED2%27%20OR%20%22nuts_id%22%20==%20%27DEA1%27%20OR%20%22nuts_id%22%20==%20%27DE13%27%20OR%20%22nuts_id%22%20==%20%27DE72%27%20OR%20%22nuts_id%22%20==%20%27DE60%27%20OR%20%22nuts_id%22%20==%20%27DE92%27%20OR%20%22nuts_id%22%20==%20%27DE12%27%20OR%20%22nuts_id%22%20==%20%27DE73%27%20OR%20%22nuts_id%22%20==%20%27DEB1%27%20OR%20%22nuts_id%22%20==%20%27DEA2%27%20OR%20%22nuts_id%22%20==%20%27DED5%27%20OR%20%22nuts_id%22%20==%20%27DE93%27%20OR%20%22nuts_id%22%20==%20%27DE80%27%20OR%20%22nuts_id%22%20==%20%27DE25%27%20OR%20%22nuts_id%22%20==%20%27DEA3%27%20OR%20%22nuts_id%22%20==%20%27DE22%27%20OR%20%22nuts_id%22%20==%20%27DE21%27%20OR%20%22nuts_id%22%20==%20%27DE24%27%20OR%20%22nuts_id%22%20==%20%27DE23%27%20OR%20%22nuts_id%22%20==%20%27DEB3%27%20OR%20%22nuts_id%22%20==%20%27DEC0%27%20OR%20%22nuts_id%22%20==%20%27DEE0%27%20OR%20%22nuts_id%22%20==%20%27DEF0%27%20OR%20%22nuts_id%22%20==%20%27DE27%27%20OR%20%22nuts_id%22%20==%20%27DE11%27%20OR%20%22nuts_id%22%20==%20%27DEG0%27%20OR%20%22nuts_id%22%20==%20%27DEB2%27%20OR%20%22nuts_id%22%20==%20%27DE14%27%20OR%20%22nuts_id%22%20==%20%27DE26%27%20OR%20%22nuts_id%22%20==%20%27DE94%27)&,urn:ogc:def:crs:EPSG:3857&outputFormat=application%2Fjson&maxFeatures=5000',\n",
    "           'Greece':r'https://cultural-gems.jrc.ec.europa.eu/geoserver/gems/ows?service=WFS&version=1.0.0&request=GetFeature&typeName=gems:all_osm&srsName=EPSG:4326&CQL_FILTER=(%22category%22%20LIKE%20%27%25EUCultureFromHome%25%27%20OR%20%22category%22%20LIKE%20%27%25Aqueducts%25%27%20OR%20%22category%22%20LIKE%20%27%25Archaeological%20sites%25%27%20OR%20%22category%22%20LIKE%20%27%25Art%20gallery%25%27%20OR%20%22category%22%20LIKE%20%27%25Arts%20centre%25%27%20OR%20%22category%22%20LIKE%20%27%25Attraction%25%27%20OR%20%22category%22%20LIKE%20%27%25Castles%25%27%20OR%20%22category%22%20LIKE%20%27%25Church%25%27%20OR%20%22category%22%20LIKE%20%27%25Cinema%25%27%20OR%20%22category%22%20LIKE%20%27%25City%20gate%25%27%20OR%20%22category%22%20LIKE%20%27%25City%20walls%25%27%20OR%20%22category%22%20LIKE%20%27%25Community%20centre%25%27%20OR%20%22category%22%20LIKE%20%27%25Crypt%25%27%20OR%20%22category%22%20LIKE%20%27%25Fountain%25%27%20OR%20%22category%22%20LIKE%20%27%25Historic%20building%25%27%20OR%20%22category%22%20LIKE%20%27%25Manors%25%27%20OR%20%22category%22%20LIKE%20%27%25Memorial%25%27%20OR%20%22category%22%20LIKE%20%27%25Monastery%25%27%20OR%20%22category%22%20LIKE%20%27%25Monument%25%27%20OR%20%22category%22%20LIKE%20%27%25Museum%25%27%20OR%20%22category%22%20LIKE%20%27%25Music%20venue%25%27%20OR%20%22category%22%20LIKE%20%27%25Place%20of%20worship%25%27%20OR%20%22category%22%20LIKE%20%27%25Planetarium%25%27%20OR%20%22category%22%20LIKE%20%27%25Public%20artworks%25%27%20OR%20%22category%22%20LIKE%20%27%25Public%20library%25%27%20OR%20%22category%22%20LIKE%20%27%25Social%20centre%25%27%20OR%20%22category%22%20LIKE%20%27%25Theatre%25%27%20OR%20%22category%22%20LIKE%20%27%25Viewpoint%25%27)%20AND%20(%22nuts_id%22%20==%20%27EL51%27%20OR%20%22nuts_id%22%20==%20%27EL30%27%20OR%20%22nuts_id%22%20==%20%27EL63%27%20OR%20%22nuts_id%22%20==%20%27EL53%27%20OR%20%22nuts_id%22%20==%20%27EL62%27%20OR%20%22nuts_id%22%20==%20%27EL54%27%20OR%20%22nuts_id%22%20==%20%27EL52%27%20OR%20%22nuts_id%22%20==%20%27EL43%27%20OR%20%22nuts_id%22%20==%20%27EL42%27%20OR%20%22nuts_id%22%20==%20%27EL65%27%20OR%20%22nuts_id%22%20==%20%27EL64%27%20OR%20%22nuts_id%22%20==%20%27EL61%27%20OR%20%22nuts_id%22%20==%20%27EL41%27)&,urn:ogc:def:crs:EPSG:3857&outputFormat=application%2Fjson&maxFeatures=5000',\n",
    "           'Hungary':r'https://cultural-gems.jrc.ec.europa.eu/geoserver/gems/ows?service=WFS&version=1.0.0&request=GetFeature&typeName=gems:all_osm&srsName=EPSG:4326&CQL_FILTER=(%22category%22%20LIKE%20%27%25EUCultureFromHome%25%27%20OR%20%22category%22%20LIKE%20%27%25Aqueducts%25%27%20OR%20%22category%22%20LIKE%20%27%25Archaeological%20sites%25%27%20OR%20%22category%22%20LIKE%20%27%25Art%20gallery%25%27%20OR%20%22category%22%20LIKE%20%27%25Arts%20centre%25%27%20OR%20%22category%22%20LIKE%20%27%25Attraction%25%27%20OR%20%22category%22%20LIKE%20%27%25Castles%25%27%20OR%20%22category%22%20LIKE%20%27%25Church%25%27%20OR%20%22category%22%20LIKE%20%27%25Cinema%25%27%20OR%20%22category%22%20LIKE%20%27%25City%20gate%25%27%20OR%20%22category%22%20LIKE%20%27%25City%20walls%25%27%20OR%20%22category%22%20LIKE%20%27%25Community%20centre%25%27%20OR%20%22category%22%20LIKE%20%27%25Crypt%25%27%20OR%20%22category%22%20LIKE%20%27%25Fountain%25%27%20OR%20%22category%22%20LIKE%20%27%25Historic%20building%25%27%20OR%20%22category%22%20LIKE%20%27%25Manors%25%27%20OR%20%22category%22%20LIKE%20%27%25Memorial%25%27%20OR%20%22category%22%20LIKE%20%27%25Monastery%25%27%20OR%20%22category%22%20LIKE%20%27%25Monument%25%27%20OR%20%22category%22%20LIKE%20%27%25Museum%25%27%20OR%20%22category%22%20LIKE%20%27%25Music%20venue%25%27%20OR%20%22category%22%20LIKE%20%27%25Place%20of%20worship%25%27%20OR%20%22category%22%20LIKE%20%27%25Planetarium%25%27%20OR%20%22category%22%20LIKE%20%27%25Public%20artworks%25%27%20OR%20%22category%22%20LIKE%20%27%25Public%20library%25%27%20OR%20%22category%22%20LIKE%20%27%25Social%20centre%25%27%20OR%20%22category%22%20LIKE%20%27%25Theatre%25%27%20OR%20%22category%22%20LIKE%20%27%25Viewpoint%25%27)%20AND%20(%22nuts_id%22%20==%20%27HU11%27%20OR%20%22nuts_id%22%20==%20%27HU33%27%20OR%20%22nuts_id%22%20==%20%27HU23%27%20OR%20%22nuts_id%22%20==%20%27HU21%27%20OR%20%22nuts_id%22%20==%20%27HU22%27%20OR%20%22nuts_id%22%20==%20%27HU12%27%20OR%20%22nuts_id%22%20==%20%27HU32%27%20OR%20%22nuts_id%22%20==%20%27HU31%27)&,urn:ogc:def:crs:EPSG:3857&outputFormat=application%2Fjson&maxFeatures=5000',\n",
    "           'Ireland':r'https://cultural-gems.jrc.ec.europa.eu/geoserver/gems/ows?service=WFS&version=1.0.0&request=GetFeature&typeName=gems:all_osm&srsName=EPSG:4326&CQL_FILTER=(%22category%22%20LIKE%20%27%25EUCultureFromHome%25%27%20OR%20%22category%22%20LIKE%20%27%25Aqueducts%25%27%20OR%20%22category%22%20LIKE%20%27%25Archaeological%20sites%25%27%20OR%20%22category%22%20LIKE%20%27%25Art%20gallery%25%27%20OR%20%22category%22%20LIKE%20%27%25Arts%20centre%25%27%20OR%20%22category%22%20LIKE%20%27%25Attraction%25%27%20OR%20%22category%22%20LIKE%20%27%25Castles%25%27%20OR%20%22category%22%20LIKE%20%27%25Church%25%27%20OR%20%22category%22%20LIKE%20%27%25Cinema%25%27%20OR%20%22category%22%20LIKE%20%27%25City%20gate%25%27%20OR%20%22category%22%20LIKE%20%27%25City%20walls%25%27%20OR%20%22category%22%20LIKE%20%27%25Community%20centre%25%27%20OR%20%22category%22%20LIKE%20%27%25Crypt%25%27%20OR%20%22category%22%20LIKE%20%27%25Fountain%25%27%20OR%20%22category%22%20LIKE%20%27%25Historic%20building%25%27%20OR%20%22category%22%20LIKE%20%27%25Manors%25%27%20OR%20%22category%22%20LIKE%20%27%25Memorial%25%27%20OR%20%22category%22%20LIKE%20%27%25Monastery%25%27%20OR%20%22category%22%20LIKE%20%27%25Monument%25%27%20OR%20%22category%22%20LIKE%20%27%25Museum%25%27%20OR%20%22category%22%20LIKE%20%27%25Music%20venue%25%27%20OR%20%22category%22%20LIKE%20%27%25Place%20of%20worship%25%27%20OR%20%22category%22%20LIKE%20%27%25Planetarium%25%27%20OR%20%22category%22%20LIKE%20%27%25Public%20artworks%25%27%20OR%20%22category%22%20LIKE%20%27%25Public%20library%25%27%20OR%20%22category%22%20LIKE%20%27%25Social%20centre%25%27%20OR%20%22category%22%20LIKE%20%27%25Theatre%25%27%20OR%20%22category%22%20LIKE%20%27%25Viewpoint%25%27)%20AND%20(%22nuts_id%22%20==%20%27IE06%27%20OR%20%22nuts_id%22%20==%20%27IE04%27%20OR%20%22nuts_id%22%20==%20%27IE05%27)&,urn:ogc:def:crs:EPSG:3857&outputFormat=application%2Fjson&maxFeatures=5000',\n",
    "           'Italy':r'https://cultural-gems.jrc.ec.europa.eu/geoserver/gems/ows?service=WFS&version=1.0.0&request=GetFeature&typeName=gems:all_osm&srsName=EPSG:4326&CQL_FILTER=(%22category%22%20LIKE%20%27%25EUCultureFromHome%25%27%20OR%20%22category%22%20LIKE%20%27%25Aqueducts%25%27%20OR%20%22category%22%20LIKE%20%27%25Archaeological%20sites%25%27%20OR%20%22category%22%20LIKE%20%27%25Art%20gallery%25%27%20OR%20%22category%22%20LIKE%20%27%25Arts%20centre%25%27%20OR%20%22category%22%20LIKE%20%27%25Attraction%25%27%20OR%20%22category%22%20LIKE%20%27%25Castles%25%27%20OR%20%22category%22%20LIKE%20%27%25Church%25%27%20OR%20%22category%22%20LIKE%20%27%25Cinema%25%27%20OR%20%22category%22%20LIKE%20%27%25City%20gate%25%27%20OR%20%22category%22%20LIKE%20%27%25City%20walls%25%27%20OR%20%22category%22%20LIKE%20%27%25Community%20centre%25%27%20OR%20%22category%22%20LIKE%20%27%25Crypt%25%27%20OR%20%22category%22%20LIKE%20%27%25Fountain%25%27%20OR%20%22category%22%20LIKE%20%27%25Historic%20building%25%27%20OR%20%22category%22%20LIKE%20%27%25Manors%25%27%20OR%20%22category%22%20LIKE%20%27%25Memorial%25%27%20OR%20%22category%22%20LIKE%20%27%25Monastery%25%27%20OR%20%22category%22%20LIKE%20%27%25Monument%25%27%20OR%20%22category%22%20LIKE%20%27%25Museum%25%27%20OR%20%22category%22%20LIKE%20%27%25Music%20venue%25%27%20OR%20%22category%22%20LIKE%20%27%25Place%20of%20worship%25%27%20OR%20%22category%22%20LIKE%20%27%25Planetarium%25%27%20OR%20%22category%22%20LIKE%20%27%25Public%20artworks%25%27%20OR%20%22category%22%20LIKE%20%27%25Public%20library%25%27%20OR%20%22category%22%20LIKE%20%27%25Social%20centre%25%27%20OR%20%22category%22%20LIKE%20%27%25Theatre%25%27%20OR%20%22category%22%20LIKE%20%27%25Viewpoint%25%27)%20AND%20(%22nuts_id%22%20==%20%27ITF1%27%20OR%20%22nuts_id%22%20==%20%27ITF5%27%20OR%20%22nuts_id%22%20==%20%27ITF6%27%20OR%20%22nuts_id%22%20==%20%27ITF3%27%20OR%20%22nuts_id%22%20==%20%27ITH5%27%20OR%20%22nuts_id%22%20==%20%27ITH4%27%20OR%20%22nuts_id%22%20==%20%27ITI4%27%20OR%20%22nuts_id%22%20==%20%27ITC3%27%20OR%20%22nuts_id%22%20==%20%27ITC4%27%20OR%20%22nuts_id%22%20==%20%27ITI3%27%20OR%20%22nuts_id%22%20==%20%27ITF2%27%20OR%20%22nuts_id%22%20==%20%27ITC1%27%20OR%20%22nuts_id%22%20==%20%27ITH1%27%20OR%20%22nuts_id%22%20==%20%27ITH2%27%20OR%20%22nuts_id%22%20==%20%27ITF4%27%20OR%20%22nuts_id%22%20==%20%27ITG2%27%20OR%20%22nuts_id%22%20==%20%27ITG1%27%20OR%20%22nuts_id%22%20==%20%27ITI1%27%20OR%20%22nuts_id%22%20==%20%27ITI2%27%20OR%20%22nuts_id%22%20==%20%27ITC2%27%20OR%20%22nuts_id%22%20==%20%27ITH3%27)&,urn:ogc:def:crs:EPSG:3857&outputFormat=application%2Fjson&maxFeatures=5000',\n",
    "           'Kosovo':r'https://cultural-gems.jrc.ec.europa.eu/geoserver/gems/ows?service=WFS&version=1.0.0&request=GetFeature&typeName=gems:all_osm&srsName=EPSG:4326&CQL_FILTER=(%22category%22%20LIKE%20%27%25EUCultureFromHome%25%27%20OR%20%22category%22%20LIKE%20%27%25Aqueducts%25%27%20OR%20%22category%22%20LIKE%20%27%25Archaeological%20sites%25%27%20OR%20%22category%22%20LIKE%20%27%25Art%20gallery%25%27%20OR%20%22category%22%20LIKE%20%27%25Arts%20centre%25%27%20OR%20%22category%22%20LIKE%20%27%25Attraction%25%27%20OR%20%22category%22%20LIKE%20%27%25Castles%25%27%20OR%20%22category%22%20LIKE%20%27%25Church%25%27%20OR%20%22category%22%20LIKE%20%27%25Cinema%25%27%20OR%20%22category%22%20LIKE%20%27%25City%20gate%25%27%20OR%20%22category%22%20LIKE%20%27%25City%20walls%25%27%20OR%20%22category%22%20LIKE%20%27%25Community%20centre%25%27%20OR%20%22category%22%20LIKE%20%27%25Crypt%25%27%20OR%20%22category%22%20LIKE%20%27%25Fountain%25%27%20OR%20%22category%22%20LIKE%20%27%25Historic%20building%25%27%20OR%20%22category%22%20LIKE%20%27%25Manors%25%27%20OR%20%22category%22%20LIKE%20%27%25Memorial%25%27%20OR%20%22category%22%20LIKE%20%27%25Monastery%25%27%20OR%20%22category%22%20LIKE%20%27%25Monument%25%27%20OR%20%22category%22%20LIKE%20%27%25Museum%25%27%20OR%20%22category%22%20LIKE%20%27%25Music%20venue%25%27%20OR%20%22category%22%20LIKE%20%27%25Place%20of%20worship%25%27%20OR%20%22category%22%20LIKE%20%27%25Planetarium%25%27%20OR%20%22category%22%20LIKE%20%27%25Public%20artworks%25%27%20OR%20%22category%22%20LIKE%20%27%25Public%20library%25%27%20OR%20%22category%22%20LIKE%20%27%25Social%20centre%25%27%20OR%20%22category%22%20LIKE%20%27%25Theatre%25%27%20OR%20%22category%22%20LIKE%20%27%25Viewpoint%25%27)%20AND%20(%22nuts_id%22%20==%20%27XK*%27)&,urn:ogc:def:crs:EPSG:3857&outputFormat=application%2Fjson&maxFeatures=5000',\n",
    "           'Latvia':r'https://cultural-gems.jrc.ec.europa.eu/geoserver/gems/ows?service=WFS&version=1.0.0&request=GetFeature&typeName=gems:all_osm&srsName=EPSG:4326&CQL_FILTER=(%22category%22%20LIKE%20%27%25EUCultureFromHome%25%27%20OR%20%22category%22%20LIKE%20%27%25Aqueducts%25%27%20OR%20%22category%22%20LIKE%20%27%25Archaeological%20sites%25%27%20OR%20%22category%22%20LIKE%20%27%25Art%20gallery%25%27%20OR%20%22category%22%20LIKE%20%27%25Arts%20centre%25%27%20OR%20%22category%22%20LIKE%20%27%25Attraction%25%27%20OR%20%22category%22%20LIKE%20%27%25Castles%25%27%20OR%20%22category%22%20LIKE%20%27%25Church%25%27%20OR%20%22category%22%20LIKE%20%27%25Cinema%25%27%20OR%20%22category%22%20LIKE%20%27%25City%20gate%25%27%20OR%20%22category%22%20LIKE%20%27%25City%20walls%25%27%20OR%20%22category%22%20LIKE%20%27%25Community%20centre%25%27%20OR%20%22category%22%20LIKE%20%27%25Crypt%25%27%20OR%20%22category%22%20LIKE%20%27%25Fountain%25%27%20OR%20%22category%22%20LIKE%20%27%25Historic%20building%25%27%20OR%20%22category%22%20LIKE%20%27%25Manors%25%27%20OR%20%22category%22%20LIKE%20%27%25Memorial%25%27%20OR%20%22category%22%20LIKE%20%27%25Monastery%25%27%20OR%20%22category%22%20LIKE%20%27%25Monument%25%27%20OR%20%22category%22%20LIKE%20%27%25Museum%25%27%20OR%20%22category%22%20LIKE%20%27%25Music%20venue%25%27%20OR%20%22category%22%20LIKE%20%27%25Place%20of%20worship%25%27%20OR%20%22category%22%20LIKE%20%27%25Planetarium%25%27%20OR%20%22category%22%20LIKE%20%27%25Public%20artworks%25%27%20OR%20%22category%22%20LIKE%20%27%25Public%20library%25%27%20OR%20%22category%22%20LIKE%20%27%25Social%20centre%25%27%20OR%20%22category%22%20LIKE%20%27%25Theatre%25%27%20OR%20%22category%22%20LIKE%20%27%25Viewpoint%25%27)%20AND%20(%22nuts_id%22%20==%20%27LV00%27)&,urn:ogc:def:crs:EPSG:3857&outputFormat=application%2Fjson&maxFeatures=5000',\n",
    "           'Lithuania':r'https://cultural-gems.jrc.ec.europa.eu/geoserver/gems/ows?service=WFS&version=1.0.0&request=GetFeature&typeName=gems:all_osm&srsName=EPSG:4326&CQL_FILTER=(%22category%22%20LIKE%20%27%25EUCultureFromHome%25%27%20OR%20%22category%22%20LIKE%20%27%25Aqueducts%25%27%20OR%20%22category%22%20LIKE%20%27%25Archaeological%20sites%25%27%20OR%20%22category%22%20LIKE%20%27%25Art%20gallery%25%27%20OR%20%22category%22%20LIKE%20%27%25Arts%20centre%25%27%20OR%20%22category%22%20LIKE%20%27%25Attraction%25%27%20OR%20%22category%22%20LIKE%20%27%25Castles%25%27%20OR%20%22category%22%20LIKE%20%27%25Church%25%27%20OR%20%22category%22%20LIKE%20%27%25Cinema%25%27%20OR%20%22category%22%20LIKE%20%27%25City%20gate%25%27%20OR%20%22category%22%20LIKE%20%27%25City%20walls%25%27%20OR%20%22category%22%20LIKE%20%27%25Community%20centre%25%27%20OR%20%22category%22%20LIKE%20%27%25Crypt%25%27%20OR%20%22category%22%20LIKE%20%27%25Fountain%25%27%20OR%20%22category%22%20LIKE%20%27%25Historic%20building%25%27%20OR%20%22category%22%20LIKE%20%27%25Manors%25%27%20OR%20%22category%22%20LIKE%20%27%25Memorial%25%27%20OR%20%22category%22%20LIKE%20%27%25Monastery%25%27%20OR%20%22category%22%20LIKE%20%27%25Monument%25%27%20OR%20%22category%22%20LIKE%20%27%25Museum%25%27%20OR%20%22category%22%20LIKE%20%27%25Music%20venue%25%27%20OR%20%22category%22%20LIKE%20%27%25Place%20of%20worship%25%27%20OR%20%22category%22%20LIKE%20%27%25Planetarium%25%27%20OR%20%22category%22%20LIKE%20%27%25Public%20artworks%25%27%20OR%20%22category%22%20LIKE%20%27%25Public%20library%25%27%20OR%20%22category%22%20LIKE%20%27%25Social%20centre%25%27%20OR%20%22category%22%20LIKE%20%27%25Theatre%25%27%20OR%20%22category%22%20LIKE%20%27%25Viewpoint%25%27)%20AND%20(%22nuts_id%22%20==%20%27LT01%27%20OR%20%22nuts_id%22%20==%20%27LT02%27)&,urn:ogc:def:crs:EPSG:3857&outputFormat=application%2Fjson&maxFeatures=5000',\n",
    "           'Luxembourg':r'https://cultural-gems.jrc.ec.europa.eu/geoserver/gems/ows?service=WFS&version=1.0.0&request=GetFeature&typeName=gems:all_osm&srsName=EPSG:4326&CQL_FILTER=(%22category%22%20LIKE%20%27%25EUCultureFromHome%25%27%20OR%20%22category%22%20LIKE%20%27%25Aqueducts%25%27%20OR%20%22category%22%20LIKE%20%27%25Archaeological%20sites%25%27%20OR%20%22category%22%20LIKE%20%27%25Art%20gallery%25%27%20OR%20%22category%22%20LIKE%20%27%25Arts%20centre%25%27%20OR%20%22category%22%20LIKE%20%27%25Attraction%25%27%20OR%20%22category%22%20LIKE%20%27%25Castles%25%27%20OR%20%22category%22%20LIKE%20%27%25Church%25%27%20OR%20%22category%22%20LIKE%20%27%25Cinema%25%27%20OR%20%22category%22%20LIKE%20%27%25City%20gate%25%27%20OR%20%22category%22%20LIKE%20%27%25City%20walls%25%27%20OR%20%22category%22%20LIKE%20%27%25Community%20centre%25%27%20OR%20%22category%22%20LIKE%20%27%25Crypt%25%27%20OR%20%22category%22%20LIKE%20%27%25Fountain%25%27%20OR%20%22category%22%20LIKE%20%27%25Historic%20building%25%27%20OR%20%22category%22%20LIKE%20%27%25Manors%25%27%20OR%20%22category%22%20LIKE%20%27%25Memorial%25%27%20OR%20%22category%22%20LIKE%20%27%25Monastery%25%27%20OR%20%22category%22%20LIKE%20%27%25Monument%25%27%20OR%20%22category%22%20LIKE%20%27%25Museum%25%27%20OR%20%22category%22%20LIKE%20%27%25Music%20venue%25%27%20OR%20%22category%22%20LIKE%20%27%25Place%20of%20worship%25%27%20OR%20%22category%22%20LIKE%20%27%25Planetarium%25%27%20OR%20%22category%22%20LIKE%20%27%25Public%20artworks%25%27%20OR%20%22category%22%20LIKE%20%27%25Public%20library%25%27%20OR%20%22category%22%20LIKE%20%27%25Social%20centre%25%27%20OR%20%22category%22%20LIKE%20%27%25Theatre%25%27%20OR%20%22category%22%20LIKE%20%27%25Viewpoint%25%27)%20AND%20(%22nuts_id%22%20==%20%27LU00%27)&,urn:ogc:def:crs:EPSG:3857&outputFormat=application%2Fjson&maxFeatures=5000',\n",
    "           'Malta':r'https://cultural-gems.jrc.ec.europa.eu/geoserver/gems/ows?service=WFS&version=1.0.0&request=GetFeature&typeName=gems:all_osm&srsName=EPSG:4326&CQL_FILTER=(%22category%22%20LIKE%20%27%25EUCultureFromHome%25%27%20OR%20%22category%22%20LIKE%20%27%25Aqueducts%25%27%20OR%20%22category%22%20LIKE%20%27%25Archaeological%20sites%25%27%20OR%20%22category%22%20LIKE%20%27%25Art%20gallery%25%27%20OR%20%22category%22%20LIKE%20%27%25Arts%20centre%25%27%20OR%20%22category%22%20LIKE%20%27%25Attraction%25%27%20OR%20%22category%22%20LIKE%20%27%25Castles%25%27%20OR%20%22category%22%20LIKE%20%27%25Church%25%27%20OR%20%22category%22%20LIKE%20%27%25Cinema%25%27%20OR%20%22category%22%20LIKE%20%27%25City%20gate%25%27%20OR%20%22category%22%20LIKE%20%27%25City%20walls%25%27%20OR%20%22category%22%20LIKE%20%27%25Community%20centre%25%27%20OR%20%22category%22%20LIKE%20%27%25Crypt%25%27%20OR%20%22category%22%20LIKE%20%27%25Fountain%25%27%20OR%20%22category%22%20LIKE%20%27%25Historic%20building%25%27%20OR%20%22category%22%20LIKE%20%27%25Manors%25%27%20OR%20%22category%22%20LIKE%20%27%25Memorial%25%27%20OR%20%22category%22%20LIKE%20%27%25Monastery%25%27%20OR%20%22category%22%20LIKE%20%27%25Monument%25%27%20OR%20%22category%22%20LIKE%20%27%25Museum%25%27%20OR%20%22category%22%20LIKE%20%27%25Music%20venue%25%27%20OR%20%22category%22%20LIKE%20%27%25Place%20of%20worship%25%27%20OR%20%22category%22%20LIKE%20%27%25Planetarium%25%27%20OR%20%22category%22%20LIKE%20%27%25Public%20artworks%25%27%20OR%20%22category%22%20LIKE%20%27%25Public%20library%25%27%20OR%20%22category%22%20LIKE%20%27%25Social%20centre%25%27%20OR%20%22category%22%20LIKE%20%27%25Theatre%25%27%20OR%20%22category%22%20LIKE%20%27%25Viewpoint%25%27)%20AND%20(%22nuts_id%22%20==%20%27MT00%27)&,urn:ogc:def:crs:EPSG:3857&outputFormat=application%2Fjson&maxFeatures=5000',\n",
    "           'Montenegro':r'https://cultural-gems.jrc.ec.europa.eu/geoserver/gems/ows?service=WFS&version=1.0.0&request=GetFeature&typeName=gems:all_osm&srsName=EPSG:4326&CQL_FILTER=(%22category%22%20LIKE%20%27%25EUCultureFromHome%25%27%20OR%20%22category%22%20LIKE%20%27%25Aqueducts%25%27%20OR%20%22category%22%20LIKE%20%27%25Archaeological%20sites%25%27%20OR%20%22category%22%20LIKE%20%27%25Art%20gallery%25%27%20OR%20%22category%22%20LIKE%20%27%25Arts%20centre%25%27%20OR%20%22category%22%20LIKE%20%27%25Attraction%25%27%20OR%20%22category%22%20LIKE%20%27%25Castles%25%27%20OR%20%22category%22%20LIKE%20%27%25Church%25%27%20OR%20%22category%22%20LIKE%20%27%25Cinema%25%27%20OR%20%22category%22%20LIKE%20%27%25City%20gate%25%27%20OR%20%22category%22%20LIKE%20%27%25City%20walls%25%27%20OR%20%22category%22%20LIKE%20%27%25Community%20centre%25%27%20OR%20%22category%22%20LIKE%20%27%25Crypt%25%27%20OR%20%22category%22%20LIKE%20%27%25Fountain%25%27%20OR%20%22category%22%20LIKE%20%27%25Historic%20building%25%27%20OR%20%22category%22%20LIKE%20%27%25Manors%25%27%20OR%20%22category%22%20LIKE%20%27%25Memorial%25%27%20OR%20%22category%22%20LIKE%20%27%25Monastery%25%27%20OR%20%22category%22%20LIKE%20%27%25Monument%25%27%20OR%20%22category%22%20LIKE%20%27%25Museum%25%27%20OR%20%22category%22%20LIKE%20%27%25Music%20venue%25%27%20OR%20%22category%22%20LIKE%20%27%25Place%20of%20worship%25%27%20OR%20%22category%22%20LIKE%20%27%25Planetarium%25%27%20OR%20%22category%22%20LIKE%20%27%25Public%20artworks%25%27%20OR%20%22category%22%20LIKE%20%27%25Public%20library%25%27%20OR%20%22category%22%20LIKE%20%27%25Social%20centre%25%27%20OR%20%22category%22%20LIKE%20%27%25Theatre%25%27%20OR%20%22category%22%20LIKE%20%27%25Viewpoint%25%27)%20AND%20(%22nuts_id%22%20==%20%27ME00%27)&,urn:ogc:def:crs:EPSG:3857&outputFormat=application%2Fjson&maxFeatures=5000',\n",
    "           'Netherlands':r'https://cultural-gems.jrc.ec.europa.eu/geoserver/gems/ows?service=WFS&version=1.0.0&request=GetFeature&typeName=gems:all_osm&srsName=EPSG:4326&CQL_FILTER=(%22category%22%20LIKE%20%27%25EUCultureFromHome%25%27%20OR%20%22category%22%20LIKE%20%27%25Aqueducts%25%27%20OR%20%22category%22%20LIKE%20%27%25Archaeological%20sites%25%27%20OR%20%22category%22%20LIKE%20%27%25Art%20gallery%25%27%20OR%20%22category%22%20LIKE%20%27%25Arts%20centre%25%27%20OR%20%22category%22%20LIKE%20%27%25Attraction%25%27%20OR%20%22category%22%20LIKE%20%27%25Castles%25%27%20OR%20%22category%22%20LIKE%20%27%25Church%25%27%20OR%20%22category%22%20LIKE%20%27%25Cinema%25%27%20OR%20%22category%22%20LIKE%20%27%25City%20gate%25%27%20OR%20%22category%22%20LIKE%20%27%25City%20walls%25%27%20OR%20%22category%22%20LIKE%20%27%25Community%20centre%25%27%20OR%20%22category%22%20LIKE%20%27%25Crypt%25%27%20OR%20%22category%22%20LIKE%20%27%25Fountain%25%27%20OR%20%22category%22%20LIKE%20%27%25Historic%20building%25%27%20OR%20%22category%22%20LIKE%20%27%25Manors%25%27%20OR%20%22category%22%20LIKE%20%27%25Memorial%25%27%20OR%20%22category%22%20LIKE%20%27%25Monastery%25%27%20OR%20%22category%22%20LIKE%20%27%25Monument%25%27%20OR%20%22category%22%20LIKE%20%27%25Museum%25%27%20OR%20%22category%22%20LIKE%20%27%25Music%20venue%25%27%20OR%20%22category%22%20LIKE%20%27%25Place%20of%20worship%25%27%20OR%20%22category%22%20LIKE%20%27%25Planetarium%25%27%20OR%20%22category%22%20LIKE%20%27%25Public%20artworks%25%27%20OR%20%22category%22%20LIKE%20%27%25Public%20library%25%27%20OR%20%22category%22%20LIKE%20%27%25Social%20centre%25%27%20OR%20%22category%22%20LIKE%20%27%25Theatre%25%27%20OR%20%22category%22%20LIKE%20%27%25Viewpoint%25%27)%20AND%20(%22nuts_id%22%20==%20%27NL13%27%20OR%20%22nuts_id%22%20==%20%27NL23%27%20OR%20%22nuts_id%22%20==%20%27NL12%27%20OR%20%22nuts_id%22%20==%20%27NL22%27%20OR%20%22nuts_id%22%20==%20%27NL11%27%20OR%20%22nuts_id%22%20==%20%27NL42%27%20OR%20%22nuts_id%22%20==%20%27NL41%27%20OR%20%22nuts_id%22%20==%20%27NL32%27%20OR%20%22nuts_id%22%20==%20%27NL21%27%20OR%20%22nuts_id%22%20==%20%27NL31%27%20OR%20%22nuts_id%22%20==%20%27NL34%27%20OR%20%22nuts_id%22%20==%20%27NL33%27)&,urn:ogc:def:crs:EPSG:3857&outputFormat=application%2Fjson&maxFeatures=5000',\n",
    "           'North Macedonia':r'https://cultural-gems.jrc.ec.europa.eu/geoserver/gems/ows?service=WFS&version=1.0.0&request=GetFeature&typeName=gems:all_osm&srsName=EPSG:4326&CQL_FILTER=(%22category%22%20LIKE%20%27%25EUCultureFromHome%25%27%20OR%20%22category%22%20LIKE%20%27%25Aqueducts%25%27%20OR%20%22category%22%20LIKE%20%27%25Archaeological%20sites%25%27%20OR%20%22category%22%20LIKE%20%27%25Art%20gallery%25%27%20OR%20%22category%22%20LIKE%20%27%25Arts%20centre%25%27%20OR%20%22category%22%20LIKE%20%27%25Attraction%25%27%20OR%20%22category%22%20LIKE%20%27%25Castles%25%27%20OR%20%22category%22%20LIKE%20%27%25Church%25%27%20OR%20%22category%22%20LIKE%20%27%25Cinema%25%27%20OR%20%22category%22%20LIKE%20%27%25City%20gate%25%27%20OR%20%22category%22%20LIKE%20%27%25City%20walls%25%27%20OR%20%22category%22%20LIKE%20%27%25Community%20centre%25%27%20OR%20%22category%22%20LIKE%20%27%25Crypt%25%27%20OR%20%22category%22%20LIKE%20%27%25Fountain%25%27%20OR%20%22category%22%20LIKE%20%27%25Historic%20building%25%27%20OR%20%22category%22%20LIKE%20%27%25Manors%25%27%20OR%20%22category%22%20LIKE%20%27%25Memorial%25%27%20OR%20%22category%22%20LIKE%20%27%25Monastery%25%27%20OR%20%22category%22%20LIKE%20%27%25Monument%25%27%20OR%20%22category%22%20LIKE%20%27%25Museum%25%27%20OR%20%22category%22%20LIKE%20%27%25Music%20venue%25%27%20OR%20%22category%22%20LIKE%20%27%25Place%20of%20worship%25%27%20OR%20%22category%22%20LIKE%20%27%25Planetarium%25%27%20OR%20%22category%22%20LIKE%20%27%25Public%20artworks%25%27%20OR%20%22category%22%20LIKE%20%27%25Public%20library%25%27%20OR%20%22category%22%20LIKE%20%27%25Social%20centre%25%27%20OR%20%22category%22%20LIKE%20%27%25Theatre%25%27%20OR%20%22category%22%20LIKE%20%27%25Viewpoint%25%27)%20AND%20(%22nuts_id%22%20==%20%27MK00%27)&,urn:ogc:def:crs:EPSG:3857&outputFormat=application%2Fjson&maxFeatures=5000',\n",
    "           'Norway':r'https://cultural-gems.jrc.ec.europa.eu/geoserver/gems/ows?service=WFS&version=1.0.0&request=GetFeature&typeName=gems:all_osm&srsName=EPSG:4326&CQL_FILTER=(%22category%22%20LIKE%20%27%25EUCultureFromHome%25%27%20OR%20%22category%22%20LIKE%20%27%25Aqueducts%25%27%20OR%20%22category%22%20LIKE%20%27%25Archaeological%20sites%25%27%20OR%20%22category%22%20LIKE%20%27%25Art%20gallery%25%27%20OR%20%22category%22%20LIKE%20%27%25Arts%20centre%25%27%20OR%20%22category%22%20LIKE%20%27%25Attraction%25%27%20OR%20%22category%22%20LIKE%20%27%25Castles%25%27%20OR%20%22category%22%20LIKE%20%27%25Church%25%27%20OR%20%22category%22%20LIKE%20%27%25Cinema%25%27%20OR%20%22category%22%20LIKE%20%27%25City%20gate%25%27%20OR%20%22category%22%20LIKE%20%27%25City%20walls%25%27%20OR%20%22category%22%20LIKE%20%27%25Community%20centre%25%27%20OR%20%22category%22%20LIKE%20%27%25Crypt%25%27%20OR%20%22category%22%20LIKE%20%27%25Fountain%25%27%20OR%20%22category%22%20LIKE%20%27%25Historic%20building%25%27%20OR%20%22category%22%20LIKE%20%27%25Manors%25%27%20OR%20%22category%22%20LIKE%20%27%25Memorial%25%27%20OR%20%22category%22%20LIKE%20%27%25Monastery%25%27%20OR%20%22category%22%20LIKE%20%27%25Monument%25%27%20OR%20%22category%22%20LIKE%20%27%25Museum%25%27%20OR%20%22category%22%20LIKE%20%27%25Music%20venue%25%27%20OR%20%22category%22%20LIKE%20%27%25Place%20of%20worship%25%27%20OR%20%22category%22%20LIKE%20%27%25Planetarium%25%27%20OR%20%22category%22%20LIKE%20%27%25Public%20artworks%25%27%20OR%20%22category%22%20LIKE%20%27%25Public%20library%25%27%20OR%20%22category%22%20LIKE%20%27%25Social%20centre%25%27%20OR%20%22category%22%20LIKE%20%27%25Theatre%25%27%20OR%20%22category%22%20LIKE%20%27%25Viewpoint%25%27)%20AND%20(%22nuts_id%22%20==%20%27NO09%27%20OR%20%22nuts_id%22%20==%20%27NO02%27%20OR%20%22nuts_id%22%20==%20%27NO0B%27%20OR%20%22nuts_id%22%20==%20%27NO07%27%20OR%20%22nuts_id%22%20==%20%27NO08%27%20OR%20%22nuts_id%22%20==%20%27NO06%27%20OR%20%22nuts_id%22%20==%20%27NO0A%27)&,urn:ogc:def:crs:EPSG:3857&outputFormat=application%2Fjson&maxFeatures=5000',\n",
    "           'Poland':r'https://cultural-gems.jrc.ec.europa.eu/geoserver/gems/ows?service=WFS&version=1.0.0&request=GetFeature&typeName=gems:all_osm&srsName=EPSG:4326&CQL_FILTER=(%22category%22%20LIKE%20%27%25EUCultureFromHome%25%27%20OR%20%22category%22%20LIKE%20%27%25Aqueducts%25%27%20OR%20%22category%22%20LIKE%20%27%25Archaeological%20sites%25%27%20OR%20%22category%22%20LIKE%20%27%25Art%20gallery%25%27%20OR%20%22category%22%20LIKE%20%27%25Arts%20centre%25%27%20OR%20%22category%22%20LIKE%20%27%25Attraction%25%27%20OR%20%22category%22%20LIKE%20%27%25Castles%25%27%20OR%20%22category%22%20LIKE%20%27%25Church%25%27%20OR%20%22category%22%20LIKE%20%27%25Cinema%25%27%20OR%20%22category%22%20LIKE%20%27%25City%20gate%25%27%20OR%20%22category%22%20LIKE%20%27%25City%20walls%25%27%20OR%20%22category%22%20LIKE%20%27%25Community%20centre%25%27%20OR%20%22category%22%20LIKE%20%27%25Crypt%25%27%20OR%20%22category%22%20LIKE%20%27%25Fountain%25%27%20OR%20%22category%22%20LIKE%20%27%25Historic%20building%25%27%20OR%20%22category%22%20LIKE%20%27%25Manors%25%27%20OR%20%22category%22%20LIKE%20%27%25Memorial%25%27%20OR%20%22category%22%20LIKE%20%27%25Monastery%25%27%20OR%20%22category%22%20LIKE%20%27%25Monument%25%27%20OR%20%22category%22%20LIKE%20%27%25Museum%25%27%20OR%20%22category%22%20LIKE%20%27%25Music%20venue%25%27%20OR%20%22category%22%20LIKE%20%27%25Place%20of%20worship%25%27%20OR%20%22category%22%20LIKE%20%27%25Planetarium%25%27%20OR%20%22category%22%20LIKE%20%27%25Public%20artworks%25%27%20OR%20%22category%22%20LIKE%20%27%25Public%20library%25%27%20OR%20%22category%22%20LIKE%20%27%25Social%20centre%25%27%20OR%20%22category%22%20LIKE%20%27%25Theatre%25%27%20OR%20%22category%22%20LIKE%20%27%25Viewpoint%25%27)%20AND%20(%22nuts_id%22%20==%20%27PL51%27%20OR%20%22nuts_id%22%20==%20%27PL61%27%20OR%20%22nuts_id%22%20==%20%27PL81%27%20OR%20%22nuts_id%22%20==%20%27PL43%27%20OR%20%22nuts_id%22%20==%20%27PL92%27%20OR%20%22nuts_id%22%20==%20%27PL21%27%20OR%20%22nuts_id%22%20==%20%27PL52%27%20OR%20%22nuts_id%22%20==%20%27PL82%27%20OR%20%22nuts_id%22%20==%20%27PL84%27%20OR%20%22nuts_id%22%20==%20%27PL63%27%20OR%20%22nuts_id%22%20==%20%27PL62%27%20OR%20%22nuts_id%22%20==%20%27PL91%27%20OR%20%22nuts_id%22%20==%20%27PL41%27%20OR%20%22nuts_id%22%20==%20%27PL42%27%20OR%20%22nuts_id%22%20==%20%27PL71%27%20OR%20%22nuts_id%22%20==%20%27PL22%27%20OR%20%22nuts_id%22%20==%20%27PL72%27)&,urn:ogc:def:crs:EPSG:3857&outputFormat=application%2Fjson&maxFeatures=5000',\n",
    "           'Portugal':r'https://cultural-gems.jrc.ec.europa.eu/geoserver/gems/ows?service=WFS&version=1.0.0&request=GetFeature&typeName=gems:all_osm&srsName=EPSG:4326&CQL_FILTER=(%22category%22%20LIKE%20%27%25EUCultureFromHome%25%27%20OR%20%22category%22%20LIKE%20%27%25Aqueducts%25%27%20OR%20%22category%22%20LIKE%20%27%25Archaeological%20sites%25%27%20OR%20%22category%22%20LIKE%20%27%25Art%20gallery%25%27%20OR%20%22category%22%20LIKE%20%27%25Arts%20centre%25%27%20OR%20%22category%22%20LIKE%20%27%25Attraction%25%27%20OR%20%22category%22%20LIKE%20%27%25Castles%25%27%20OR%20%22category%22%20LIKE%20%27%25Church%25%27%20OR%20%22category%22%20LIKE%20%27%25Cinema%25%27%20OR%20%22category%22%20LIKE%20%27%25City%20gate%25%27%20OR%20%22category%22%20LIKE%20%27%25City%20walls%25%27%20OR%20%22category%22%20LIKE%20%27%25Community%20centre%25%27%20OR%20%22category%22%20LIKE%20%27%25Crypt%25%27%20OR%20%22category%22%20LIKE%20%27%25Fountain%25%27%20OR%20%22category%22%20LIKE%20%27%25Historic%20building%25%27%20OR%20%22category%22%20LIKE%20%27%25Manors%25%27%20OR%20%22category%22%20LIKE%20%27%25Memorial%25%27%20OR%20%22category%22%20LIKE%20%27%25Monastery%25%27%20OR%20%22category%22%20LIKE%20%27%25Monument%25%27%20OR%20%22category%22%20LIKE%20%27%25Museum%25%27%20OR%20%22category%22%20LIKE%20%27%25Music%20venue%25%27%20OR%20%22category%22%20LIKE%20%27%25Place%20of%20worship%25%27%20OR%20%22category%22%20LIKE%20%27%25Planetarium%25%27%20OR%20%22category%22%20LIKE%20%27%25Public%20artworks%25%27%20OR%20%22category%22%20LIKE%20%27%25Public%20library%25%27%20OR%20%22category%22%20LIKE%20%27%25Social%20centre%25%27%20OR%20%22category%22%20LIKE%20%27%25Theatre%25%27%20OR%20%22category%22%20LIKE%20%27%25Viewpoint%25%27)%20AND%20(%22nuts_id%22%20==%20%27PT18%27%20OR%20%22nuts_id%22%20==%20%27PT15%27%20OR%20%22nuts_id%22%20==%20%27PT16%27%20OR%20%22nuts_id%22%20==%20%27PT11%27%20OR%20%22nuts_id%22%20==%20%27PT30%27%20OR%20%22nuts_id%22%20==%20%27PT20%27%20OR%20%22nuts_id%22%20==%20%27PT17%27)&,urn:ogc:def:crs:EPSG:3857&outputFormat=application%2Fjson&maxFeatures=5000',\n",
    "           'Romania':r'https://cultural-gems.jrc.ec.europa.eu/geoserver/gems/ows?service=WFS&version=1.0.0&request=GetFeature&typeName=gems:all_osm&srsName=EPSG:4326&CQL_FILTER=(%22category%22%20LIKE%20%27%25EUCultureFromHome%25%27%20OR%20%22category%22%20LIKE%20%27%25Aqueducts%25%27%20OR%20%22category%22%20LIKE%20%27%25Archaeological%20sites%25%27%20OR%20%22category%22%20LIKE%20%27%25Art%20gallery%25%27%20OR%20%22category%22%20LIKE%20%27%25Arts%20centre%25%27%20OR%20%22category%22%20LIKE%20%27%25Attraction%25%27%20OR%20%22category%22%20LIKE%20%27%25Castles%25%27%20OR%20%22category%22%20LIKE%20%27%25Church%25%27%20OR%20%22category%22%20LIKE%20%27%25Cinema%25%27%20OR%20%22category%22%20LIKE%20%27%25City%20gate%25%27%20OR%20%22category%22%20LIKE%20%27%25City%20walls%25%27%20OR%20%22category%22%20LIKE%20%27%25Community%20centre%25%27%20OR%20%22category%22%20LIKE%20%27%25Crypt%25%27%20OR%20%22category%22%20LIKE%20%27%25Fountain%25%27%20OR%20%22category%22%20LIKE%20%27%25Historic%20building%25%27%20OR%20%22category%22%20LIKE%20%27%25Manors%25%27%20OR%20%22category%22%20LIKE%20%27%25Memorial%25%27%20OR%20%22category%22%20LIKE%20%27%25Monastery%25%27%20OR%20%22category%22%20LIKE%20%27%25Monument%25%27%20OR%20%22category%22%20LIKE%20%27%25Museum%25%27%20OR%20%22category%22%20LIKE%20%27%25Music%20venue%25%27%20OR%20%22category%22%20LIKE%20%27%25Place%20of%20worship%25%27%20OR%20%22category%22%20LIKE%20%27%25Planetarium%25%27%20OR%20%22category%22%20LIKE%20%27%25Public%20artworks%25%27%20OR%20%22category%22%20LIKE%20%27%25Public%20library%25%27%20OR%20%22category%22%20LIKE%20%27%25Social%20centre%25%27%20OR%20%22category%22%20LIKE%20%27%25Theatre%25%27%20OR%20%22category%22%20LIKE%20%27%25Viewpoint%25%27)%20AND%20(%22nuts_id%22%20==%20%27RO32%27%20OR%20%22nuts_id%22%20==%20%27RO12%27%20OR%20%22nuts_id%22%20==%20%27RO21%27%20OR%20%22nuts_id%22%20==%20%27RO11%27%20OR%20%22nuts_id%22%20==%20%27RO22%27%20OR%20%22nuts_id%22%20==%20%27RO31%27%20OR%20%22nuts_id%22%20==%20%27RO41%27%20OR%20%22nuts_id%22%20==%20%27RO42%27)&,urn:ogc:def:crs:EPSG:3857&outputFormat=application%2Fjson&maxFeatures=5000',\n",
    "           'Serbia':r'https://cultural-gems.jrc.ec.europa.eu/geoserver/gems/ows?service=WFS&version=1.0.0&request=GetFeature&typeName=gems:all_osm&srsName=EPSG:4326&CQL_FILTER=(%22category%22%20LIKE%20%27%25EUCultureFromHome%25%27%20OR%20%22category%22%20LIKE%20%27%25Aqueducts%25%27%20OR%20%22category%22%20LIKE%20%27%25Archaeological%20sites%25%27%20OR%20%22category%22%20LIKE%20%27%25Art%20gallery%25%27%20OR%20%22category%22%20LIKE%20%27%25Arts%20centre%25%27%20OR%20%22category%22%20LIKE%20%27%25Attraction%25%27%20OR%20%22category%22%20LIKE%20%27%25Castles%25%27%20OR%20%22category%22%20LIKE%20%27%25Church%25%27%20OR%20%22category%22%20LIKE%20%27%25Cinema%25%27%20OR%20%22category%22%20LIKE%20%27%25City%20gate%25%27%20OR%20%22category%22%20LIKE%20%27%25City%20walls%25%27%20OR%20%22category%22%20LIKE%20%27%25Community%20centre%25%27%20OR%20%22category%22%20LIKE%20%27%25Crypt%25%27%20OR%20%22category%22%20LIKE%20%27%25Fountain%25%27%20OR%20%22category%22%20LIKE%20%27%25Historic%20building%25%27%20OR%20%22category%22%20LIKE%20%27%25Manors%25%27%20OR%20%22category%22%20LIKE%20%27%25Memorial%25%27%20OR%20%22category%22%20LIKE%20%27%25Monastery%25%27%20OR%20%22category%22%20LIKE%20%27%25Monument%25%27%20OR%20%22category%22%20LIKE%20%27%25Museum%25%27%20OR%20%22category%22%20LIKE%20%27%25Music%20venue%25%27%20OR%20%22category%22%20LIKE%20%27%25Place%20of%20worship%25%27%20OR%20%22category%22%20LIKE%20%27%25Planetarium%25%27%20OR%20%22category%22%20LIKE%20%27%25Public%20artworks%25%27%20OR%20%22category%22%20LIKE%20%27%25Public%20library%25%27%20OR%20%22category%22%20LIKE%20%27%25Social%20centre%25%27%20OR%20%22category%22%20LIKE%20%27%25Theatre%25%27%20OR%20%22category%22%20LIKE%20%27%25Viewpoint%25%27)%20AND%20(%22nuts_id%22%20==%20%27RS12%27%20OR%20%22nuts_id%22%20==%20%27RS11%27%20OR%20%22nuts_id%22%20==%20%27RS22%27%20OR%20%22nuts_id%22%20==%20%27RS21%27)&,urn:ogc:def:crs:EPSG:3857&outputFormat=application%2Fjson&maxFeatures=5000',\n",
    "           'Slovakia':r'https://cultural-gems.jrc.ec.europa.eu/geoserver/gems/ows?service=WFS&version=1.0.0&request=GetFeature&typeName=gems:all_osm&srsName=EPSG:4326&CQL_FILTER=(%22category%22%20LIKE%20%27%25EUCultureFromHome%25%27%20OR%20%22category%22%20LIKE%20%27%25Aqueducts%25%27%20OR%20%22category%22%20LIKE%20%27%25Archaeological%20sites%25%27%20OR%20%22category%22%20LIKE%20%27%25Art%20gallery%25%27%20OR%20%22category%22%20LIKE%20%27%25Arts%20centre%25%27%20OR%20%22category%22%20LIKE%20%27%25Attraction%25%27%20OR%20%22category%22%20LIKE%20%27%25Castles%25%27%20OR%20%22category%22%20LIKE%20%27%25Church%25%27%20OR%20%22category%22%20LIKE%20%27%25Cinema%25%27%20OR%20%22category%22%20LIKE%20%27%25City%20gate%25%27%20OR%20%22category%22%20LIKE%20%27%25City%20walls%25%27%20OR%20%22category%22%20LIKE%20%27%25Community%20centre%25%27%20OR%20%22category%22%20LIKE%20%27%25Crypt%25%27%20OR%20%22category%22%20LIKE%20%27%25Fountain%25%27%20OR%20%22category%22%20LIKE%20%27%25Historic%20building%25%27%20OR%20%22category%22%20LIKE%20%27%25Manors%25%27%20OR%20%22category%22%20LIKE%20%27%25Memorial%25%27%20OR%20%22category%22%20LIKE%20%27%25Monastery%25%27%20OR%20%22category%22%20LIKE%20%27%25Monument%25%27%20OR%20%22category%22%20LIKE%20%27%25Museum%25%27%20OR%20%22category%22%20LIKE%20%27%25Music%20venue%25%27%20OR%20%22category%22%20LIKE%20%27%25Place%20of%20worship%25%27%20OR%20%22category%22%20LIKE%20%27%25Planetarium%25%27%20OR%20%22category%22%20LIKE%20%27%25Public%20artworks%25%27%20OR%20%22category%22%20LIKE%20%27%25Public%20library%25%27%20OR%20%22category%22%20LIKE%20%27%25Social%20centre%25%27%20OR%20%22category%22%20LIKE%20%27%25Theatre%25%27%20OR%20%22category%22%20LIKE%20%27%25Viewpoint%25%27)%20AND%20(%22nuts_id%22%20==%20%27SK01%27%20OR%20%22nuts_id%22%20==%20%27SK03%27%20OR%20%22nuts_id%22%20==%20%27SK04%27%20OR%20%22nuts_id%22%20==%20%27SK02%27)&,urn:ogc:def:crs:EPSG:3857&outputFormat=application%2Fjson&maxFeatures=5000',\n",
    "           'Slovenia':r'https://cultural-gems.jrc.ec.europa.eu/geoserver/gems/ows?service=WFS&version=1.0.0&request=GetFeature&typeName=gems:all_osm&srsName=EPSG:4326&CQL_FILTER=(%22category%22%20LIKE%20%27%25EUCultureFromHome%25%27%20OR%20%22category%22%20LIKE%20%27%25Aqueducts%25%27%20OR%20%22category%22%20LIKE%20%27%25Archaeological%20sites%25%27%20OR%20%22category%22%20LIKE%20%27%25Art%20gallery%25%27%20OR%20%22category%22%20LIKE%20%27%25Arts%20centre%25%27%20OR%20%22category%22%20LIKE%20%27%25Attraction%25%27%20OR%20%22category%22%20LIKE%20%27%25Castles%25%27%20OR%20%22category%22%20LIKE%20%27%25Church%25%27%20OR%20%22category%22%20LIKE%20%27%25Cinema%25%27%20OR%20%22category%22%20LIKE%20%27%25City%20gate%25%27%20OR%20%22category%22%20LIKE%20%27%25City%20walls%25%27%20OR%20%22category%22%20LIKE%20%27%25Community%20centre%25%27%20OR%20%22category%22%20LIKE%20%27%25Crypt%25%27%20OR%20%22category%22%20LIKE%20%27%25Fountain%25%27%20OR%20%22category%22%20LIKE%20%27%25Historic%20building%25%27%20OR%20%22category%22%20LIKE%20%27%25Manors%25%27%20OR%20%22category%22%20LIKE%20%27%25Memorial%25%27%20OR%20%22category%22%20LIKE%20%27%25Monastery%25%27%20OR%20%22category%22%20LIKE%20%27%25Monument%25%27%20OR%20%22category%22%20LIKE%20%27%25Museum%25%27%20OR%20%22category%22%20LIKE%20%27%25Music%20venue%25%27%20OR%20%22category%22%20LIKE%20%27%25Place%20of%20worship%25%27%20OR%20%22category%22%20LIKE%20%27%25Planetarium%25%27%20OR%20%22category%22%20LIKE%20%27%25Public%20artworks%25%27%20OR%20%22category%22%20LIKE%20%27%25Public%20library%25%27%20OR%20%22category%22%20LIKE%20%27%25Social%20centre%25%27%20OR%20%22category%22%20LIKE%20%27%25Theatre%25%27%20OR%20%22category%22%20LIKE%20%27%25Viewpoint%25%27)%20AND%20(%22nuts_id%22%20==%20%27SI03%27%20OR%20%22nuts_id%22%20==%20%27SI04%27)&,urn:ogc:def:crs:EPSG:3857&outputFormat=application%2Fjson&maxFeatures=5000',\n",
    "           'Spain':r'https://cultural-gems.jrc.ec.europa.eu/geoserver/gems/ows?service=WFS&version=1.0.0&request=GetFeature&typeName=gems:all_osm&srsName=EPSG:4326&CQL_FILTER=(%22category%22%20LIKE%20%27%25EUCultureFromHome%25%27%20OR%20%22category%22%20LIKE%20%27%25Aqueducts%25%27%20OR%20%22category%22%20LIKE%20%27%25Archaeological%20sites%25%27%20OR%20%22category%22%20LIKE%20%27%25Art%20gallery%25%27%20OR%20%22category%22%20LIKE%20%27%25Arts%20centre%25%27%20OR%20%22category%22%20LIKE%20%27%25Attraction%25%27%20OR%20%22category%22%20LIKE%20%27%25Castles%25%27%20OR%20%22category%22%20LIKE%20%27%25Church%25%27%20OR%20%22category%22%20LIKE%20%27%25Cinema%25%27%20OR%20%22category%22%20LIKE%20%27%25City%20gate%25%27%20OR%20%22category%22%20LIKE%20%27%25City%20walls%25%27%20OR%20%22category%22%20LIKE%20%27%25Community%20centre%25%27%20OR%20%22category%22%20LIKE%20%27%25Crypt%25%27%20OR%20%22category%22%20LIKE%20%27%25Fountain%25%27%20OR%20%22category%22%20LIKE%20%27%25Historic%20building%25%27%20OR%20%22category%22%20LIKE%20%27%25Manors%25%27%20OR%20%22category%22%20LIKE%20%27%25Memorial%25%27%20OR%20%22category%22%20LIKE%20%27%25Monastery%25%27%20OR%20%22category%22%20LIKE%20%27%25Monument%25%27%20OR%20%22category%22%20LIKE%20%27%25Museum%25%27%20OR%20%22category%22%20LIKE%20%27%25Music%20venue%25%27%20OR%20%22category%22%20LIKE%20%27%25Place%20of%20worship%25%27%20OR%20%22category%22%20LIKE%20%27%25Planetarium%25%27%20OR%20%22category%22%20LIKE%20%27%25Public%20artworks%25%27%20OR%20%22category%22%20LIKE%20%27%25Public%20library%25%27%20OR%20%22category%22%20LIKE%20%27%25Social%20centre%25%27%20OR%20%22category%22%20LIKE%20%27%25Theatre%25%27%20OR%20%22category%22%20LIKE%20%27%25Viewpoint%25%27)%20AND%20(%22nuts_id%22%20==%20%27ES61%27%20OR%20%22nuts_id%22%20==%20%27ES24%27%20OR%20%22nuts_id%22%20==%20%27ES70%27%20OR%20%22nuts_id%22%20==%20%27ES13%27%20OR%20%22nuts_id%22%20==%20%27ES41%27%20OR%20%22nuts_id%22%20==%20%27ES42%27%20OR%20%22nuts_id%22%20==%20%27ES51%27%20OR%20%22nuts_id%22%20==%20%27ES63%27%20OR%20%22nuts_id%22%20==%20%27ES64%27%20OR%20%22nuts_id%22%20==%20%27ES22%27%20OR%20%22nuts_id%22%20==%20%27ES30%27%20OR%20%22nuts_id%22%20==%20%27ES52%27%20OR%20%22nuts_id%22%20==%20%27ES43%27%20OR%20%22nuts_id%22%20==%20%27ES11%27%20OR%20%22nuts_id%22%20==%20%27ES53%27%20OR%20%22nuts_id%22%20==%20%27ES23%27%20OR%20%22nuts_id%22%20==%20%27ES21%27%20OR%20%22nuts_id%22%20==%20%27ES12%27%20OR%20%22nuts_id%22%20==%20%27ES62%27)&,urn:ogc:def:crs:EPSG:3857&outputFormat=application%2Fjson&maxFeatures=5000',\n",
    "           'Sweden':r'https://cultural-gems.jrc.ec.europa.eu/geoserver/gems/ows?service=WFS&version=1.0.0&request=GetFeature&typeName=gems:all_osm&srsName=EPSG:4326&CQL_FILTER=(%22category%22%20LIKE%20%27%25EUCultureFromHome%25%27%20OR%20%22category%22%20LIKE%20%27%25Aqueducts%25%27%20OR%20%22category%22%20LIKE%20%27%25Archaeological%20sites%25%27%20OR%20%22category%22%20LIKE%20%27%25Art%20gallery%25%27%20OR%20%22category%22%20LIKE%20%27%25Arts%20centre%25%27%20OR%20%22category%22%20LIKE%20%27%25Attraction%25%27%20OR%20%22category%22%20LIKE%20%27%25Castles%25%27%20OR%20%22category%22%20LIKE%20%27%25Church%25%27%20OR%20%22category%22%20LIKE%20%27%25Cinema%25%27%20OR%20%22category%22%20LIKE%20%27%25City%20gate%25%27%20OR%20%22category%22%20LIKE%20%27%25City%20walls%25%27%20OR%20%22category%22%20LIKE%20%27%25Community%20centre%25%27%20OR%20%22category%22%20LIKE%20%27%25Crypt%25%27%20OR%20%22category%22%20LIKE%20%27%25Fountain%25%27%20OR%20%22category%22%20LIKE%20%27%25Historic%20building%25%27%20OR%20%22category%22%20LIKE%20%27%25Manors%25%27%20OR%20%22category%22%20LIKE%20%27%25Memorial%25%27%20OR%20%22category%22%20LIKE%20%27%25Monastery%25%27%20OR%20%22category%22%20LIKE%20%27%25Monument%25%27%20OR%20%22category%22%20LIKE%20%27%25Museum%25%27%20OR%20%22category%22%20LIKE%20%27%25Music%20venue%25%27%20OR%20%22category%22%20LIKE%20%27%25Place%20of%20worship%25%27%20OR%20%22category%22%20LIKE%20%27%25Planetarium%25%27%20OR%20%22category%22%20LIKE%20%27%25Public%20artworks%25%27%20OR%20%22category%22%20LIKE%20%27%25Public%20library%25%27%20OR%20%22category%22%20LIKE%20%27%25Social%20centre%25%27%20OR%20%22category%22%20LIKE%20%27%25Theatre%25%27%20OR%20%22category%22%20LIKE%20%27%25Viewpoint%25%27)%20AND%20(%22nuts_id%22%20==%20%27SE32%27%20OR%20%22nuts_id%22%20==%20%27SE31%27%20OR%20%22nuts_id%22%20==%20%27SE21%27%20OR%20%22nuts_id%22%20==%20%27SE11%27%20OR%20%22nuts_id%22%20==%20%27SE22%27%20OR%20%22nuts_id%22%20==%20%27SE23%27%20OR%20%22nuts_id%22%20==%20%27SE12%27%20OR%20%22nuts_id%22%20==%20%27SE33%27)&,urn:ogc:def:crs:EPSG:3857&outputFormat=application%2Fjson&maxFeatures=5000',\n",
    "           'Switzerland':r'https://cultural-gems.jrc.ec.europa.eu/geoserver/gems/ows?service=WFS&version=1.0.0&request=GetFeature&typeName=gems:all_osm&srsName=EPSG:4326&CQL_FILTER=(%22category%22%20LIKE%20%27%25EUCultureFromHome%25%27%20OR%20%22category%22%20LIKE%20%27%25Aqueducts%25%27%20OR%20%22category%22%20LIKE%20%27%25Archaeological%20sites%25%27%20OR%20%22category%22%20LIKE%20%27%25Art%20gallery%25%27%20OR%20%22category%22%20LIKE%20%27%25Arts%20centre%25%27%20OR%20%22category%22%20LIKE%20%27%25Attraction%25%27%20OR%20%22category%22%20LIKE%20%27%25Castles%25%27%20OR%20%22category%22%20LIKE%20%27%25Church%25%27%20OR%20%22category%22%20LIKE%20%27%25Cinema%25%27%20OR%20%22category%22%20LIKE%20%27%25City%20gate%25%27%20OR%20%22category%22%20LIKE%20%27%25City%20walls%25%27%20OR%20%22category%22%20LIKE%20%27%25Community%20centre%25%27%20OR%20%22category%22%20LIKE%20%27%25Crypt%25%27%20OR%20%22category%22%20LIKE%20%27%25Fountain%25%27%20OR%20%22category%22%20LIKE%20%27%25Historic%20building%25%27%20OR%20%22category%22%20LIKE%20%27%25Manors%25%27%20OR%20%22category%22%20LIKE%20%27%25Memorial%25%27%20OR%20%22category%22%20LIKE%20%27%25Monastery%25%27%20OR%20%22category%22%20LIKE%20%27%25Monument%25%27%20OR%20%22category%22%20LIKE%20%27%25Museum%25%27%20OR%20%22category%22%20LIKE%20%27%25Music%20venue%25%27%20OR%20%22category%22%20LIKE%20%27%25Place%20of%20worship%25%27%20OR%20%22category%22%20LIKE%20%27%25Planetarium%25%27%20OR%20%22category%22%20LIKE%20%27%25Public%20artworks%25%27%20OR%20%22category%22%20LIKE%20%27%25Public%20library%25%27%20OR%20%22category%22%20LIKE%20%27%25Social%20centre%25%27%20OR%20%22category%22%20LIKE%20%27%25Theatre%25%27%20OR%20%22category%22%20LIKE%20%27%25Viewpoint%25%27)%20AND%20(%22nuts_id%22%20==%20%27CH02%27%20OR%20%22nuts_id%22%20==%20%27CH03%27%20OR%20%22nuts_id%22%20==%20%27CH05%27%20OR%20%22nuts_id%22%20==%20%27CH01%27%20OR%20%22nuts_id%22%20==%20%27CH07%27%20OR%20%22nuts_id%22%20==%20%27CH06%27%20OR%20%22nuts_id%22%20==%20%27CH04%27)&,urn:ogc:def:crs:EPSG:3857&outputFormat=application%2Fjson&maxFeatures=5000',\n",
    "           'UK':r'https://cultural-gems.jrc.ec.europa.eu/geoserver/gems/ows?service=WFS&version=1.0.0&request=GetFeature&typeName=gems:all_osm&srsName=EPSG:4326&CQL_FILTER=(%22category%22%20LIKE%20%27%25EUCultureFromHome%25%27%20OR%20%22category%22%20LIKE%20%27%25Aqueducts%25%27%20OR%20%22category%22%20LIKE%20%27%25Archaeological%20sites%25%27%20OR%20%22category%22%20LIKE%20%27%25Art%20gallery%25%27%20OR%20%22category%22%20LIKE%20%27%25Arts%20centre%25%27%20OR%20%22category%22%20LIKE%20%27%25Attraction%25%27%20OR%20%22category%22%20LIKE%20%27%25Castles%25%27%20OR%20%22category%22%20LIKE%20%27%25Church%25%27%20OR%20%22category%22%20LIKE%20%27%25Cinema%25%27%20OR%20%22category%22%20LIKE%20%27%25City%20gate%25%27%20OR%20%22category%22%20LIKE%20%27%25City%20walls%25%27%20OR%20%22category%22%20LIKE%20%27%25Community%20centre%25%27%20OR%20%22category%22%20LIKE%20%27%25Crypt%25%27%20OR%20%22category%22%20LIKE%20%27%25Fountain%25%27%20OR%20%22category%22%20LIKE%20%27%25Historic%20building%25%27%20OR%20%22category%22%20LIKE%20%27%25Manors%25%27%20OR%20%22category%22%20LIKE%20%27%25Memorial%25%27%20OR%20%22category%22%20LIKE%20%27%25Monastery%25%27%20OR%20%22category%22%20LIKE%20%27%25Monument%25%27%20OR%20%22category%22%20LIKE%20%27%25Museum%25%27%20OR%20%22category%22%20LIKE%20%27%25Music%20venue%25%27%20OR%20%22category%22%20LIKE%20%27%25Place%20of%20worship%25%27%20OR%20%22category%22%20LIKE%20%27%25Planetarium%25%27%20OR%20%22category%22%20LIKE%20%27%25Public%20artworks%25%27%20OR%20%22category%22%20LIKE%20%27%25Public%20library%25%27%20OR%20%22category%22%20LIKE%20%27%25Social%20centre%25%27%20OR%20%22category%22%20LIKE%20%27%25Theatre%25%27%20OR%20%22category%22%20LIKE%20%27%25Viewpoint%25%27)%20AND%20(%22nuts_id%22%20==%20%27UKH2%27%20OR%20%22nuts_id%22%20==%20%27UKJ1%27%20OR%20%22nuts_id%22%20==%20%27UKD6%27%20OR%20%22nuts_id%22%20==%20%27UKK3%27%20OR%20%22nuts_id%22%20==%20%27UKD1%27%20OR%20%22nuts_id%22%20==%20%27UKF1%27%20OR%20%22nuts_id%22%20==%20%27UKK4%27%20OR%20%22nuts_id%22%20==%20%27UKK2%27%20OR%20%22nuts_id%22%20==%20%27UKH1%27%20OR%20%22nuts_id%22%20==%20%27UKL2%27%20OR%20%22nuts_id%22%20==%20%27UKE1%27%20OR%20%22nuts_id%22%20==%20%27UKM7%27%20OR%20%22nuts_id%22%20==%20%27UKH3%27%20OR%20%22nuts_id%22%20==%20%27UKK1%27%20OR%20%22nuts_id%22%20==%20%27UKD3%27%20OR%20%22nuts_id%22%20==%20%27UKJ3%27%20OR%20%22nuts_id%22%20==%20%27UKG1%27%20OR%20%22nuts_id%22%20==%20%27UKM6%27%20OR%20%22nuts_id%22%20==%20%27UKI4%27%20OR%20%22nuts_id%22%20==%20%27UKI3%27%20OR%20%22nuts_id%22%20==%20%27UKJ4%27%20OR%20%22nuts_id%22%20==%20%27UKD4%27%20OR%20%22nuts_id%22%20==%20%27UKF2%27%20OR%20%22nuts_id%22%20==%20%27UKF3%27%20OR%20%22nuts_id%22%20==%20%27UKD7%27%20OR%20%22nuts_id%22%20==%20%27UKM5%27%20OR%20%22nuts_id%22%20==%20%27UKE2%27%20OR%20%22nuts_id%22%20==%20%27UKN0%27%20OR%20%22nuts_id%22%20==%20%27UKC2%27%20OR%20%22nuts_id%22%20==%20%27UKI5%27%20OR%20%22nuts_id%22%20==%20%27UKI6%27%20OR%20%22nuts_id%22%20==%20%27UKI7%27%20OR%20%22nuts_id%22%20==%20%27UKG2%27%20OR%20%22nuts_id%22%20==%20%27UKE3%27%20OR%20%22nuts_id%22%20==%20%27UKM9%27%20OR%20%22nuts_id%22%20==%20%27UKJ2%27%20OR%20%22nuts_id%22%20==%20%27UKC1%27%20OR%20%22nuts_id%22%20==%20%27UKM8%27%20OR%20%22nuts_id%22%20==%20%27UKG3%27%20OR%20%22nuts_id%22%20==%20%27UKL1%27%20OR%20%22nuts_id%22%20==%20%27UKE4%27)&,urn:ogc:def:crs:EPSG:3857&outputFormat=application%2Fjson&maxFeatures=5000'\n",
    "           }"
   ]
  },
  {
   "cell_type": "code",
   "execution_count": 222,
   "id": "aa603e3d-3195-417a-875f-735110fee37e",
   "metadata": {},
   "outputs": [],
   "source": [
    "def get_features_in_url(url):\n",
    "    dict_features = {}\n",
    "    r = requests.get(url)\n",
    "    features_json = json.loads(r.text)\n",
    "    \n",
    "    for feature in features_json['features']:\n",
    "        properties = feature['properties']\n",
    "        title = properties['title']\n",
    "        category = properties['category']\n",
    "        source = properties['source']\n",
    "        loc_lat= properties['loc_lat']\n",
    "        loc_lng= properties['loc_lng']\n",
    "        dict_features[title] = [title, category, source, loc_lat, loc_lng]\n",
    "        \n",
    "    df_features = pd.DataFrame(dict_features).T\n",
    "    df_features.columns = ['title', 'category', 'source', 'lat', 'lon']\n",
    "\n",
    "    return df_features"
   ]
  },
  {
   "cell_type": "code",
   "execution_count": 223,
   "id": "43d504f1-f013-4c7d-8036-9c4c0fbbbaaf",
   "metadata": {},
   "outputs": [
    {
     "name": "stderr",
     "output_type": "stream",
     "text": [
      "100%|██████████████████████████████████████████████████████████████████████████████████| 36/36 [00:34<00:00,  1.04it/s]\n"
     ]
    }
   ],
   "source": [
    "list_missing_country = []\n",
    "df_features_comb = None\n",
    "for country in tqdm(url_dict.keys()):\n",
    "    try:\n",
    "        url = url_dict[country]\n",
    "        df_features_temp = get_features_in_url(url)\n",
    "        df_features_comb = df_features_temp if df_features_comb is None else pd.concat([df_features_comb, df_features_temp])\n",
    "    except:\n",
    "        list_missing_country.append(country)\n",
    "        pass\n",
    "        \n",
    "df_features_comb.to_csv(r'C:\\1-Data\\Cultural Gems\\temp_0.csv')"
   ]
  },
  {
   "cell_type": "markdown",
   "id": "99b8dc92-a436-48e1-8cb1-3e21455a93d3",
   "metadata": {},
   "source": [
    "## 1.2 Divide the total categories into groups. Only request POIs in certain group each time to avoid the number of returned POIs exceed 5000"
   ]
  },
  {
   "cell_type": "code",
   "execution_count": 83,
   "id": "5b851842-6cd8-453a-98c0-bdec8edd77e4",
   "metadata": {},
   "outputs": [],
   "source": [
    "def get_category_groups(interval=3):\n",
    "    # interval is the number of categories in each group\n",
    "    category_list = ['Community centre', 'Social centre', 'Attraction', 'Viewpoint', 'Public library', 'Art gallery',\n",
    "                 'Arts centre', 'Public artworks', 'EUCultureFromHome', 'Museum', 'Planetarium', 'Cinema', 'Music venue', \n",
    "                 'Theatre', 'Aqueducts', 'Archaeological sites', 'Castles', 'City gate', 'City walls', 'Crypt', 'Fountain', \n",
    "                 'Historic building', 'Manors', 'Memorial', 'Monument', 'Church', 'Monastery', 'Place of worship']\n",
    "    num_groups = len(category_list) // interval + 1\n",
    "    \n",
    "    groups = []\n",
    "    for i in range(num_groups):\n",
    "        start = i * interval\n",
    "        # Last group: take everything to the end\n",
    "        if i == num_groups - 1:\n",
    "            end = len(category_list)\n",
    "        else:\n",
    "            end = (i + 1) * interval\n",
    "        group  = [i.replace(' ', '%20') for i in category_list[start:end]]\n",
    "        groups.append(group)\n",
    "    return groups"
   ]
  },
  {
   "cell_type": "code",
   "execution_count": 226,
   "id": "16098817-5484-4f7d-9d4b-182f2986cd57",
   "metadata": {},
   "outputs": [
    {
     "name": "stderr",
     "output_type": "stream",
     "text": [
      "  7%|█████▉                                                                             | 1/14 [00:23<05:05, 23.48s/it]"
     ]
    },
    {
     "name": "stdout",
     "output_type": "stream",
     "text": [
      "23032 POIs were retrieved for Austria\n"
     ]
    },
    {
     "name": "stderr",
     "output_type": "stream",
     "text": [
      " 14%|███████████▊                                                                       | 2/14 [00:47<04:42, 23.56s/it]"
     ]
    },
    {
     "name": "stdout",
     "output_type": "stream",
     "text": [
      "19266 POIs were retrieved for Belgium\n"
     ]
    },
    {
     "name": "stderr",
     "output_type": "stream",
     "text": [
      " 21%|█████████████████▊                                                                 | 3/14 [01:10<04:19, 23.57s/it]"
     ]
    },
    {
     "name": "stdout",
     "output_type": "stream",
     "text": [
      "18086 POIs were retrieved for Czechia\n"
     ]
    },
    {
     "name": "stderr",
     "output_type": "stream",
     "text": [
      " 29%|███████████████████████▋                                                           | 4/14 [01:35<04:02, 24.23s/it]"
     ]
    },
    {
     "name": "stdout",
     "output_type": "stream",
     "text": [
      "46190 POIs were retrieved for France\n"
     ]
    },
    {
     "name": "stderr",
     "output_type": "stream",
     "text": [
      " 36%|█████████████████████████████▋                                                     | 5/14 [02:00<03:39, 24.33s/it]"
     ]
    },
    {
     "name": "stdout",
     "output_type": "stream",
     "text": [
      "49954 POIs were retrieved for Germany\n"
     ]
    },
    {
     "name": "stderr",
     "output_type": "stream",
     "text": [
      " 43%|███████████████████████████████████▌                                               | 6/14 [02:22<03:09, 23.66s/it]"
     ]
    },
    {
     "name": "stdout",
     "output_type": "stream",
     "text": [
      "12805 POIs were retrieved for Greece\n"
     ]
    },
    {
     "name": "stderr",
     "output_type": "stream",
     "text": [
      " 50%|█████████████████████████████████████████▌                                         | 7/14 [02:45<02:44, 23.43s/it]"
     ]
    },
    {
     "name": "stdout",
     "output_type": "stream",
     "text": [
      "16187 POIs were retrieved for Hungary\n"
     ]
    },
    {
     "name": "stderr",
     "output_type": "stream",
     "text": [
      " 57%|███████████████████████████████████████████████▍                                   | 8/14 [03:13<02:28, 24.81s/it]"
     ]
    },
    {
     "name": "stdout",
     "output_type": "stream",
     "text": [
      "47714 POIs were retrieved for Italy\n"
     ]
    },
    {
     "name": "stderr",
     "output_type": "stream",
     "text": [
      " 64%|█████████████████████████████████████████████████████▎                             | 9/14 [03:37<02:02, 24.53s/it]"
     ]
    },
    {
     "name": "stdout",
     "output_type": "stream",
     "text": [
      "21101 POIs were retrieved for Netherlands\n"
     ]
    },
    {
     "name": "stderr",
     "output_type": "stream",
     "text": [
      " 71%|██████████████████████████████████████████████████████████▌                       | 10/14 [04:02<01:38, 24.55s/it]"
     ]
    },
    {
     "name": "stdout",
     "output_type": "stream",
     "text": [
      "30132 POIs were retrieved for Poland\n"
     ]
    },
    {
     "name": "stderr",
     "output_type": "stream",
     "text": [
      " 79%|████████████████████████████████████████████████████████████████▍                 | 11/14 [04:24<01:11, 23.88s/it]"
     ]
    },
    {
     "name": "stdout",
     "output_type": "stream",
     "text": [
      "13792 POIs were retrieved for Romania\n"
     ]
    },
    {
     "name": "stderr",
     "output_type": "stream",
     "text": [
      " 86%|██████████████████████████████████████████████████████████████████████▎           | 12/14 [04:52<00:50, 25.25s/it]"
     ]
    },
    {
     "name": "stdout",
     "output_type": "stream",
     "text": [
      "45214 POIs were retrieved for Spain\n"
     ]
    },
    {
     "name": "stderr",
     "output_type": "stream",
     "text": [
      " 93%|████████████████████████████████████████████████████████████████████████████▏     | 13/14 [05:16<00:24, 24.68s/it]"
     ]
    },
    {
     "name": "stdout",
     "output_type": "stream",
     "text": [
      "16015 POIs were retrieved for Sweden\n"
     ]
    },
    {
     "name": "stderr",
     "output_type": "stream",
     "text": [
      "100%|██████████████████████████████████████████████████████████████████████████████████| 14/14 [05:43<00:00, 24.54s/it]"
     ]
    },
    {
     "name": "stdout",
     "output_type": "stream",
     "text": [
      "41535 POIs were retrieved for UK\n"
     ]
    },
    {
     "name": "stderr",
     "output_type": "stream",
     "text": [
      "\n"
     ]
    }
   ],
   "source": [
    "groups = get_category_groups(2)\n",
    "\n",
    "df_missing_comb = None\n",
    "for country in tqdm(list_missing_country):\n",
    "    df_country_comb = None\n",
    "    original_url = url_dict[country]\n",
    "    for group in groups:\n",
    "        category_string = '%22category%22%20LIKE%20%27%25' + '%25%27%20OR%20%22category%22%20LIKE%20%27%25'.join(group) + '%25%27'\n",
    "        current_url = re.sub(r'(CQL_FILTER=\\().*?(\\))', rf'\\1{category_string}\\2', original_url)\n",
    "        df_country_temp = get_features_in_url(current_url)\n",
    "        df_country_comb = df_country_temp if df_country_comb is None else pd.concat([df_country_comb, df_country_temp])\n",
    "    df_missing_comb = df_country_comb if df_missing_comb is None else pd.concat([df_missing_comb, df_country_comb])\n",
    "    print('{} POIs were retrieved for {}'.format(len(df_country_comb), country))\n",
    "\n",
    "df_missing_comb.to_csv(r'C:\\1-Data\\Cultural Gems\\temp_1.csv')       "
   ]
  },
  {
   "cell_type": "code",
   "execution_count": 227,
   "id": "e3a71fff-13bb-463b-8fb9-ff210bde3851",
   "metadata": {},
   "outputs": [
    {
     "name": "stdout",
     "output_type": "stream",
     "text": [
      "465810\n"
     ]
    }
   ],
   "source": [
    "# Concatenante the two df of features and export\n",
    "df_features = pd.concat([df_features_comb, df_missing_comb])\n",
    "df_features['category_unique'] = df_features['category'].apply(lambda x: x if '|' not in str(x) else x.split('|')[0])\n",
    "\n",
    "# merge with Doug's category\n",
    "doug_category = pd.read_excel(r'C:\\1-Data\\Cultural Gems\\cultural gems categories_drl.xlsx')\n",
    "df_features = pd.merge(df_features, doug_category[['category', 'Doug’s category']], how='left', left_on='category_unique', right_on='category')\n",
    "df_features.drop(columns=['category_y']).rename(columns={'category_x':'category'}).to_csv(r'C:\\1-Data\\Cultural Gems\\all_cultural_gems_poi.csv')\n",
    "print(len(df_features))"
   ]
  },
  {
   "cell_type": "markdown",
   "id": "46c51424-e99c-4c6a-b691-da2797a4941e",
   "metadata": {},
   "source": [
    "## 2. Aggregate all categories by Doug’s category and by NUTS regions"
   ]
  },
  {
   "cell_type": "code",
   "execution_count": 131,
   "id": "4417dd67-77b6-433e-a31d-47e11c9f668d",
   "metadata": {},
   "outputs": [],
   "source": [
    "# import and convert the dataframe of cultural gems pois to shp\n",
    "df_features = pd.read_csv(r'C:\\1-Data\\Cultural Gems\\all_cultural_gems_poi.csv', index_col=0)\n",
    "gdf_features = gpd.GeoDataFrame(df_features, geometry=gpd.points_from_xy(df_features.lon, df_features.lat),\n",
    "                                crs=\"EPSG:4326\").to_crs('EPSG:3035')"
   ]
  },
  {
   "cell_type": "code",
   "execution_count": 139,
   "id": "23495133-7239-434c-a2f9-b31ce2976f2f",
   "metadata": {},
   "outputs": [],
   "source": [
    "save_folder = r'C:\\2-Case studies\\Cultural Gems'\n",
    "nuts_folder = r'C:\\1-Data\\NUTS'\n",
    "years = [2003, 2006, 2010, 2013, 2016, 2021, 2024]"
   ]
  },
  {
   "cell_type": "code",
   "execution_count": null,
   "id": "fa5b2204-c2f4-4591-9388-5592ece73429",
   "metadata": {},
   "outputs": [],
   "source": [
    "doug_categories = set(df_features['Doug’s category'])\n",
    "for category in tqdm(doug_categories):\n",
    "    count_cat_comb = None\n",
    "    for year in years:\n",
    "        nuts = gpd.read_file(nuts_folder + '\\\\' + 'NUTS_RG_01M_' + str(year) + '_3035.shp')\n",
    "        gdf_joined = gpd.sjoin(gdf_features, nuts[['NUTS_ID', 'geometry']], how=\"left\", predicate='within')\n",
    "        gdf_joined_cat = gdf_joined[gdf_joined['Doug’s category']==category]\n",
    "        count_cat = gdf_joined_cat.groupby('NUTS_ID').count()[['title']].reset_index()\n",
    "        count_cat.columns = ['geo', 'ObsValue']\n",
    "        count_cat['geo_source'] = 'NUTS' + str(year)\n",
    "        count_cat['Indicator'] = category\n",
    "        count_cat['freq'] = 'NA'\n",
    "        count_cat['ObsTime'] = 2025\n",
    "        count_cat['Unit'] = '-'\n",
    "        count_cat_comb = count_cat if count_cat_comb is None else pd.concat([count_cat_comb, count_cat])\n",
    "    count_cat_comb.reset_index().drop(columns=['index']).to_csv(save_folder + '\\\\' + str(category) + '.csv')"
   ]
  },
  {
   "cell_type": "code",
   "execution_count": null,
   "id": "a4edf4ef-b4cf-4292-be24-33762c095c7f",
   "metadata": {},
   "outputs": [],
   "source": []
  },
  {
   "cell_type": "code",
   "execution_count": null,
   "id": "f1e80194-8350-4c2b-a35e-2e7dda59b596",
   "metadata": {},
   "outputs": [],
   "source": []
  },
  {
   "cell_type": "code",
   "execution_count": null,
   "id": "8cc524b1-c706-43c8-a0b1-0ce4d18b89c9",
   "metadata": {},
   "outputs": [],
   "source": []
  },
  {
   "cell_type": "code",
   "execution_count": null,
   "id": "91150b5d-a4d7-46a6-a3e5-446e7fdbe498",
   "metadata": {},
   "outputs": [],
   "source": []
  },
  {
   "cell_type": "code",
   "execution_count": null,
   "id": "584b5f8f-1c56-488b-93d2-845158134ee1",
   "metadata": {},
   "outputs": [],
   "source": []
  }
 ],
 "metadata": {
  "kernelspec": {
   "display_name": "Python 3 (ipykernel)",
   "language": "python",
   "name": "python3"
  },
  "language_info": {
   "codemirror_mode": {
    "name": "ipython",
    "version": 3
   },
   "file_extension": ".py",
   "mimetype": "text/x-python",
   "name": "python",
   "nbconvert_exporter": "python",
   "pygments_lexer": "ipython3",
   "version": "3.12.3"
  }
 },
 "nbformat": 4,
 "nbformat_minor": 5
}
