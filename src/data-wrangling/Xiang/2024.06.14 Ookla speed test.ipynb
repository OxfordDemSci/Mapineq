{
 "cells": [
  {
   "cell_type": "code",
   "execution_count": 1,
   "id": "47dd3f95",
   "metadata": {},
   "outputs": [],
   "source": [
    "import os\n",
    "import gc\n",
    "from tqdm import tqdm\n",
    "import pandas as pd\n",
    "import geopandas as gpd\n",
    "from shapely.geometry import LineString\n",
    "import matplotlib.pyplot as plt"
   ]
  },
  {
   "cell_type": "code",
   "execution_count": 9,
   "id": "21bb4ec8",
   "metadata": {
    "scrolled": true
   },
   "outputs": [],
   "source": [
    "def get_ookla_nuts_level(nuts, read_root, folder, file, eu_range):\n",
    "    # read ookla data, reproject and calculate the area of each tile\n",
    "    print(read_root + r'/' + folder + r'/' + file)\n",
    "    ookla_global = gpd.read_file(read_root + r'/' + folder + r'/' + file)\n",
    "    print('ookla loaded')\n",
    "    ookla_global.to_crs('EPSG:3035', inplace = True)\n",
    "    print('transformed')\n",
    "    ookla_global['Shape_Area'] = ookla_global.area    \n",
    "    print('area calculated')\n",
    "    \n",
    "    # extract ookla polygon to centroids\n",
    "    ookla_global.geometry = ookla_global['geometry'].centroid\n",
    "\n",
    "    # musk the centroids by NUTS boundary\n",
    "    ookla = gpd.clip(ookla_global, eu_range)\n",
    "    del ookla_global\n",
    "    gc.collect()\n",
    "\n",
    "    # calculate the average download and upload data of all ookla points that fall within certain NUTS region\n",
    "    speed_dict = {}\n",
    "    unit = 'kbps'\n",
    "    freq = 'quarter'\n",
    "    for nuts_id in tqdm(nuts['NUTS_ID']):\n",
    "        area = nuts[nuts['NUTS_ID']==nuts_id]\n",
    "        ookla_within = gpd.sjoin(ookla, area, how='inner')\n",
    "        ookla_within['area*d'] = ookla_within['avg_d_kbps']*ookla_within['Shape_Area']\n",
    "        ookla_within['area*u'] = ookla_within['avg_u_kbps']*ookla_within['Shape_Area']\n",
    "        avg_d_kpbs = ookla_within['area*d'].sum()/ookla_within['Shape_Area'].sum()\n",
    "        avg_u_kbps = ookla_within['area*u'].sum()/ookla_within['Shape_Area'].sum()\n",
    "        speed_dict[nuts_id] = [quarter, network_type, unit, freq, avg_d_kpbs, avg_u_kbps, year]\n",
    "\n",
    "    del ookla\n",
    "    gc.collect()\n",
    "    \n",
    "    return speed_dict    "
   ]
  },
  {
   "cell_type": "code",
   "execution_count": null,
   "id": "43669f1d",
   "metadata": {},
   "outputs": [
    {
     "name": "stderr",
     "output_type": "stream",
     "text": [
      "  0%|                                                    | 0/42 [00:00<?, ?it/s]"
     ]
    }
   ],
   "source": [
    "if __name__ == \"__main__\":\n",
    "    nuts = gpd.read_file('/data/xiang/1-Data/NUTS/NUTS_RG_01M_2021_3035.shp')\n",
    "    eu_range = gpd.read_file('/data/xiang/1-Data/NUTS/eu.shp')\n",
    "    \n",
    "    read_root = '/data/xiang/1-Data/Ookla'\n",
    "    save_path = '/data/xiang/1-Data/Ookla_eu.xlsx'\n",
    "    for folder in tqdm(os.listdir(read_root)[:2]): \n",
    "        for file in os.listdir(read_root + '//' + folder):\n",
    "            if file.endswith('.shp'):\n",
    "                # get the input variable from file paths\n",
    "                year = folder.split('-')[0]\n",
    "                quarter = int(folder.split('-')[1])//3+1\n",
    "                network_type = folder.split('_')[-2]\n",
    "\n",
    "                #  concatenante df from different quarters and years into one\n",
    "                speed_dict = get_ookla_nuts_level(nuts, read_root, folder, file, eu_range)\n",
    "                speed_df = pd.DataFrame(speed_dict).T\n",
    "                speed_df.reset_index(inplace=True)\n",
    "                speed_df.columns = ['geo', 'quarter', 'network_type', 'unit', 'freq', 'download', 'upload', 'obsTime']\n",
    "\n",
    "                # reshape the df and save it\n",
    "                reshap_df = pd.melt(speed_df, id_vars=['geo', 'quarter', 'unit', 'freq', 'obsTime','network_type'], value_vars = ['download', 'upload'], var_name = 'direction', value_name = 'obsValue')\n",
    "                reshap_df.to_excel('/data/xiang/3-case studies/0-ookla data' + folder + '.xlsx')"
   ]
  }
 ],
 "metadata": {
  "kernelspec": {
   "display_name": "Python 3 (ipykernel)",
   "language": "python",
   "name": "python3"
  },
  "language_info": {
   "codemirror_mode": {
    "name": "ipython",
    "version": 3
   },
   "file_extension": ".py",
   "mimetype": "text/x-python",
   "name": "python",
   "nbconvert_exporter": "python",
   "pygments_lexer": "ipython3",
   "version": "3.11.6"
  }
 },
 "nbformat": 4,
 "nbformat_minor": 5
}
