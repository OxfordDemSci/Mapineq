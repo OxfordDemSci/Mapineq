{
 "cells": [
  {
   "cell_type": "code",
   "execution_count": 16,
   "id": "47dd3f95",
   "metadata": {},
   "outputs": [],
   "source": [
    "import os\n",
    "import pandas as pd\n",
    "import geopandas as gpd\n",
    "from shapely.geometry import LineString\n",
    "import jenkspy\n",
    "import matplotlib.pyplot as plt"
   ]
  },
  {
   "cell_type": "code",
   "execution_count": 2,
   "id": "7af5b2c8",
   "metadata": {},
   "outputs": [],
   "source": [
    "# clip ookla data to eu wide\n",
    "ookla = gpd.read_file(r'D:\\OneDrive - Nexus365\\1-Oxford\\1 - Oxford Uni related\\7 - Services\\2024.05.20 Mapineq\\0-data\\ookla\\2024-01-01_performance_mobile_tiles\\gps_mobile_tiles.shp')\n",
    "ookla.to_crs('EPSG:3035')\n",
    "mask_clip = gpd.clip(ookla, nuts)\n",
    "ookla_eu = mask_clip[~mask_clip.is_empty]\n",
    "ookla_eu.to_file(r'D:\\OneDrive - Nexus365\\1-Oxford\\1 - Oxford Uni related\\7 - Services\\2024.05.20 Mapineq\\0-data\\ookla\\2024-01-01_performance_mobile_tiles\\ookla_eu.shp')"
   ]
  },
  {
   "cell_type": "code",
   "execution_count": 5,
   "id": "80877e49",
   "metadata": {
    "collapsed": true
   },
   "outputs": [
    {
     "data": {
      "text/html": [
       "<div>\n",
       "<style scoped>\n",
       "    .dataframe tbody tr th:only-of-type {\n",
       "        vertical-align: middle;\n",
       "    }\n",
       "\n",
       "    .dataframe tbody tr th {\n",
       "        vertical-align: top;\n",
       "    }\n",
       "\n",
       "    .dataframe thead th {\n",
       "        text-align: right;\n",
       "    }\n",
       "</style>\n",
       "<table border=\"1\" class=\"dataframe\">\n",
       "  <thead>\n",
       "    <tr style=\"text-align: right;\">\n",
       "      <th></th>\n",
       "      <th>quadkey</th>\n",
       "      <th>avg_d_kbps</th>\n",
       "      <th>avg_u_kbps</th>\n",
       "      <th>avg_lat_ms</th>\n",
       "      <th>tests</th>\n",
       "      <th>devices</th>\n",
       "      <th>Shape_Leng</th>\n",
       "      <th>Shape_Area</th>\n",
       "      <th>geometry</th>\n",
       "    </tr>\n",
       "  </thead>\n",
       "  <tbody>\n",
       "    <tr>\n",
       "      <th>0</th>\n",
       "      <td>0313102133033211</td>\n",
       "      <td>1700</td>\n",
       "      <td>6510</td>\n",
       "      <td>24</td>\n",
       "      <td>1</td>\n",
       "      <td>1</td>\n",
       "      <td>1458.165163</td>\n",
       "      <td>132888.452032</td>\n",
       "      <td>POINT (3098330.310 3529520.980)</td>\n",
       "    </tr>\n",
       "    <tr>\n",
       "      <th>1</th>\n",
       "      <td>0311332332313212</td>\n",
       "      <td>22995</td>\n",
       "      <td>17377</td>\n",
       "      <td>29</td>\n",
       "      <td>3</td>\n",
       "      <td>1</td>\n",
       "      <td>1375.362007</td>\n",
       "      <td>118225.164146</td>\n",
       "      <td>POINT (3499119.563 3712302.537)</td>\n",
       "    </tr>\n",
       "    <tr>\n",
       "      <th>2</th>\n",
       "      <td>0313103021112001</td>\n",
       "      <td>126381</td>\n",
       "      <td>41120</td>\n",
       "      <td>21</td>\n",
       "      <td>2</td>\n",
       "      <td>1</td>\n",
       "      <td>1448.788408</td>\n",
       "      <td>131185.197566</td>\n",
       "      <td>POINT (3158606.333 3545553.113)</td>\n",
       "    </tr>\n",
       "    <tr>\n",
       "      <th>3</th>\n",
       "      <td>0313101320101320</td>\n",
       "      <td>2310</td>\n",
       "      <td>1518</td>\n",
       "      <td>67</td>\n",
       "      <td>1</td>\n",
       "      <td>1</td>\n",
       "      <td>1420.165778</td>\n",
       "      <td>126053.037175</td>\n",
       "      <td>POINT (3245822.618 3619699.790)</td>\n",
       "    </tr>\n",
       "    <tr>\n",
       "      <th>4</th>\n",
       "      <td>0310131111231302</td>\n",
       "      <td>553</td>\n",
       "      <td>333</td>\n",
       "      <td>44</td>\n",
       "      <td>1</td>\n",
       "      <td>1</td>\n",
       "      <td>1073.146253</td>\n",
       "      <td>71949.994197</td>\n",
       "      <td>POINT (2783214.026 4917639.435)</td>\n",
       "    </tr>\n",
       "  </tbody>\n",
       "</table>\n",
       "</div>"
      ],
      "text/plain": [
       "            quadkey  avg_d_kbps  avg_u_kbps  avg_lat_ms  tests  devices  \\\n",
       "0  0313102133033211        1700        6510          24      1        1   \n",
       "1  0311332332313212       22995       17377          29      3        1   \n",
       "2  0313103021112001      126381       41120          21      2        1   \n",
       "3  0313101320101320        2310        1518          67      1        1   \n",
       "4  0310131111231302         553         333          44      1        1   \n",
       "\n",
       "    Shape_Leng     Shape_Area                         geometry  \n",
       "0  1458.165163  132888.452032  POINT (3098330.310 3529520.980)  \n",
       "1  1375.362007  118225.164146  POINT (3499119.563 3712302.537)  \n",
       "2  1448.788408  131185.197566  POINT (3158606.333 3545553.113)  \n",
       "3  1420.165778  126053.037175  POINT (3245822.618 3619699.790)  \n",
       "4  1073.146253   71949.994197  POINT (2783214.026 4917639.435)  "
      ]
     },
     "execution_count": 5,
     "metadata": {},
     "output_type": "execute_result"
    }
   ],
   "source": [
    "ookla_eu = gpd.read_file(r'D:\\OneDrive - Nexus365\\1-Oxford\\1 - Oxford Uni related\\7 - Services\\2024.05.20 Mapineq\\0-data\\ookla\\2024-01-01_performance_mobile_tiles\\ookla_24_1qr_clip.shp')\n",
    "ookla_eu.to_crs('EPSG:3035')\n",
    "# extract ookla polygon to centroids\n",
    "ookla_pt = ookla_eu.copy()\n",
    "ookla_pt.geometry = ookla_pt['geometry'].centroid\n",
    "ookla_pt.crs = ookla_eu.crs\n",
    "ookla_pt.to_file(r'D:\\OneDrive - Nexus365\\1-Oxford\\1 - Oxford Uni related\\7 - Services\\2024.05.20 Mapineq\\0-data\\ookla\\2024-01-01_performance_mobile_tiles\\ookla_24_1qr_eu_pt.shp')"
   ]
  },
  {
   "cell_type": "code",
   "execution_count": 17,
   "id": "b73afc51",
   "metadata": {},
   "outputs": [],
   "source": [
    "nuts = gpd.read_file(r'D:\\OneDrive - Nexus365\\1-Oxford\\1 - Oxford Uni related\\7 - Services\\2024.05.20 Mapineq\\0-data\\NUTS\\NUTS_RG_01M_2021_3035\\NUTS_RG_01M_2021_3035.shp')\n",
    "ookla_pt = gpd.read_file(r'D:\\OneDrive - Nexus365\\1-Oxford\\1 - Oxford Uni related\\7 - Services\\2024.05.20 Mapineq\\0-data\\ookla\\2024-01-01_performance_mobile_tiles\\ookla_24_1qr_eu_pt.shp')"
   ]
  },
  {
   "cell_type": "code",
   "execution_count": 18,
   "id": "21bb4ec8",
   "metadata": {},
   "outputs": [],
   "source": [
    "speed_dict = {}\n",
    "for nuts_id in nuts['NUTS_ID']:\n",
    "    area = nuts[nuts['NUTS_ID']==nuts_id]\n",
    "    ookla_within = gpd.sjoin(ookla_pt, area, how='inner')\n",
    "    ookla_within['area*d'] = ookla_within['avg_d_kbps']*ookla_within['Shape_Area']\n",
    "    ookla_within['area*u'] = ookla_within['avg_u_kbps']*ookla_within['Shape_Area']\n",
    "    avg_d_kpbs = ookla_within['area*d'].sum()/ookla_within['Shape_Area'].sum()\n",
    "    avg_u_kbps = ookla_within['area*u'].sum()/ookla_within['Shape_Area'].sum()\n",
    "    speed_dict[nuts_id] = ['kbps', avg_d_kpbs, avg_u_kbps, '2024-1st-qtr']"
   ]
  },
  {
   "cell_type": "code",
   "execution_count": 19,
   "id": "660abbed",
   "metadata": {},
   "outputs": [],
   "source": [
    "speed_df = pd.DataFrame(speed_dict).T\n",
    "speed_df.reset_index(inplace=True)\n",
    "speed_df.columns = ['geo', 'unit', 'avg_d_kbps', 'avg_u_kbps', 'obsTime']\n",
    "speed_df.to_excel(r'D:\\OneDrive - Nexus365\\1-Oxford\\1 - Oxford Uni related\\7 - Services\\2024.05.20 Mapineq\\2-project\\try.xlsx')"
   ]
  },
  {
   "cell_type": "code",
   "execution_count": null,
   "id": "bd3ed3d9",
   "metadata": {},
   "outputs": [],
   "source": []
  },
  {
   "cell_type": "code",
   "execution_count": null,
   "id": "ca000446",
   "metadata": {},
   "outputs": [],
   "source": []
  },
  {
   "cell_type": "code",
   "execution_count": null,
   "id": "50b671e6",
   "metadata": {},
   "outputs": [],
   "source": []
  },
  {
   "cell_type": "code",
   "execution_count": null,
   "id": "8e8f6f83",
   "metadata": {},
   "outputs": [],
   "source": []
  },
  {
   "cell_type": "code",
   "execution_count": null,
   "id": "43669f1d",
   "metadata": {},
   "outputs": [],
   "source": []
  },
  {
   "cell_type": "code",
   "execution_count": null,
   "id": "885c8f56",
   "metadata": {},
   "outputs": [],
   "source": []
  },
  {
   "cell_type": "code",
   "execution_count": null,
   "id": "722d2060",
   "metadata": {},
   "outputs": [],
   "source": []
  },
  {
   "cell_type": "code",
   "execution_count": null,
   "id": "2bfbed18",
   "metadata": {},
   "outputs": [],
   "source": []
  },
  {
   "cell_type": "code",
   "execution_count": null,
   "id": "9c05e57b",
   "metadata": {},
   "outputs": [],
   "source": []
  }
 ],
 "metadata": {
  "kernelspec": {
   "display_name": "Python 3 (ipykernel)",
   "language": "python",
   "name": "python3"
  },
  "language_info": {
   "codemirror_mode": {
    "name": "ipython",
    "version": 3
   },
   "file_extension": ".py",
   "mimetype": "text/x-python",
   "name": "python",
   "nbconvert_exporter": "python",
   "pygments_lexer": "ipython3",
   "version": "3.11.5"
  }
 },
 "nbformat": 4,
 "nbformat_minor": 5
}
