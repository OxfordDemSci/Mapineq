{
 "cells": [
  {
   "cell_type": "code",
   "execution_count": 2,
   "id": "47dd3f95",
   "metadata": {},
   "outputs": [],
   "source": [
    "import os\n",
    "from tqdm import tqdm\n",
    "import pandas as pd\n",
    "import geopandas as gpd\n",
    "from shapely.geometry import LineString\n",
    "import matplotlib.pyplot as plt"
   ]
  },
  {
   "cell_type": "code",
   "execution_count": 3,
   "id": "21bb4ec8",
   "metadata": {
    "scrolled": true
   },
   "outputs": [],
   "source": [
    "def get_ookla_nuts_level(nuts, read_root, folder, file):\n",
    "    # read ookla data, reproject and calculate the area of each tile\n",
    "    ookla_try = gpd.read_file(read_root + '//' + folder + '//' + file)\n",
    "    ookla_try.to_crs('EPSG:3035', inplace = True)\n",
    "    ookla_try['Shape_Area'] = ookla_try.area    \n",
    "    \n",
    "    # extract ookla polygon to centroids\n",
    "    ookla_pt = ookla_try.copy()\n",
    "    ookla_pt.geometry = ookla_pt['geometry'].centroid\n",
    "\n",
    "    # calculate the average download and upload data of all ookla points that fall within certain NUTS region\n",
    "    speed_dict = {}\n",
    "    unit = 'kbps'\n",
    "    freq = 'quarter'\n",
    "    for nuts_id in nuts['NUTS_ID']:\n",
    "        area = nuts[nuts['NUTS_ID']==nuts_id]\n",
    "        ookla_within = gpd.sjoin(ookla_pt, area, how='inner')\n",
    "        ookla_within['area*d'] = ookla_within['avg_d_kbps']*ookla_within['Shape_Area']\n",
    "        ookla_within['area*u'] = ookla_within['avg_u_kbps']*ookla_within['Shape_Area']\n",
    "        avg_d_kpbs = ookla_within['area*d'].sum()/ookla_within['Shape_Area'].sum()\n",
    "        avg_u_kbps = ookla_within['area*u'].sum()/ookla_within['Shape_Area'].sum()\n",
    "        speed_dict[nuts_id] = [quarter, network_type, unit, freq, avg_d_kpbs, avg_u_kbps, year]\n",
    "\n",
    "    return speed_dict    "
   ]
  },
  {
   "cell_type": "code",
   "execution_count": null,
   "id": "43669f1d",
   "metadata": {},
   "outputs": [
    {
     "name": "stderr",
     "output_type": "stream",
     "text": [
      "  0%|                                                    | 0/42 [00:00<?, ?it/s]"
     ]
    }
   ],
   "source": [
    "if __name__ == \"__main__\":\n",
    "    df_comb = None\n",
    "    nuts = gpd.read_file('/data/xiang/1-Data/NUTS/NUTS_RG_01M_2021_3035.shp')\n",
    "    read_root = '/data/xiang/1-Data/Ookla'\n",
    "    save_path = '/data/xiang/1-Data/Ookla_eu.xlsx'\n",
    "    for folder in tqdm(os.listdir(read_root)):\n",
    "        for file in os.listdir(read_root + '//' + folder):\n",
    "            if file.endswith('.shp'):\n",
    "                # get the input variable from file paths\n",
    "                year = folder.split('-')[0]\n",
    "                quarter = int(folder.split('-')[1])//3+1\n",
    "                network_type = folder.split('_')[-2]\n",
    "\n",
    "                #  concatenante df from different quarters and years into one\n",
    "                speed_dict = get_ookla_nuts_level(nuts, read_root, folder, file)\n",
    "                speed_df = pd.DataFrame(speed_dict).T\n",
    "                speed_df.reset_index(inplace=True)\n",
    "                speed_df.columns = ['geo', 'quarter', 'network_type', 'unit', 'freq', 'download', 'upload', 'obsTime']\n",
    "                df_comb = speed_df if df_comb is None else pd.concat([df_comb,speed_df], axis=0)\n",
    "\n",
    "    # reshape the df and save it\n",
    "    reshap_df = pd.melt(df_try, id_vars=['geo', 'quarter', 'unit', 'freq', 'obsTime','network_type'], value_vars = ['download', 'upload'], var_name = 'direction', value_name = 'obsValue')\n",
    "    df_comb.to_excel('/data/xiang/1-Data/Ookla_eu.xlsx')\n",
    "    reshap_df.to_excel('/data/xiang/1-Data/Ookla_eu_re.xlsx')"
   ]
  },
  {
   "cell_type": "code",
   "execution_count": null,
   "id": "9c05e57b",
   "metadata": {},
   "outputs": [],
   "source": []
  }
 ],
 "metadata": {
  "kernelspec": {
   "display_name": "Python 3 (ipykernel)",
   "language": "python",
   "name": "python3"
  },
  "language_info": {
   "codemirror_mode": {
    "name": "ipython",
    "version": 3
   },
   "file_extension": ".py",
   "mimetype": "text/x-python",
   "name": "python",
   "nbconvert_exporter": "python",
   "pygments_lexer": "ipython3",
   "version": "3.11.6"
  }
 },
 "nbformat": 4,
 "nbformat_minor": 5
}
