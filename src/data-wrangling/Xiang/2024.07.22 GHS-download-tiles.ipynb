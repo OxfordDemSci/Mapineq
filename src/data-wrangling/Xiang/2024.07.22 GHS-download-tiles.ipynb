{
 "cells": [
  {
   "cell_type": "code",
   "execution_count": 29,
   "id": "00f83626-548a-4b65-855d-57149df18050",
   "metadata": {},
   "outputs": [],
   "source": [
    "import requests\n",
    "import zipfile\n",
    "import os"
   ]
  },
  {
   "cell_type": "code",
   "execution_count": 21,
   "id": "72e47bc5-f90c-4320-94ae-c927f36d5852",
   "metadata": {},
   "outputs": [
    {
     "data": {
      "text/plain": [
       "'\\nEU range:\\nR1 C15 to R5 C23\\n'"
      ]
     },
     "execution_count": 21,
     "metadata": {},
     "output_type": "execute_result"
    }
   ],
   "source": [
    "'''\n",
    "EU range:\n",
    "R1 C15 to R5 C23\n",
    "'''"
   ]
  },
  {
   "cell_type": "code",
   "execution_count": 25,
   "id": "fad1b550-15c9-4cf0-8167-a6a4dbb1e3e9",
   "metadata": {},
   "outputs": [
    {
     "name": "stderr",
     "output_type": "stream",
     "text": [
      "100%|████████████████████████████████████████████████████████████████████████████████████| 5/5 [02:40<00:00, 32.04s/it]\n"
     ]
    }
   ],
   "source": [
    "# For GHS-Built-H. Only 2018 is available\n",
    "# For AGBH data in GHS-Built-H \n",
    "url_head = r'https://jeodpp.jrc.ec.europa.eu/ftp/jrc-opendata/GHSL/GHS_BUILT_H_GLOBE_R2023A/GHS_BUILT_H_AGBH_E2018_GLOBE_R2023A_54009_100/V1-0/tiles/GHS_BUILT_H_AGBH_E2018_GLOBE_R2023A_54009_100_V1_0_R'\n",
    "save_folder = r'D:\\0-data\\GHS_BUILT_H'\n",
    "for row in tqdm(range(1,6)):\n",
    "    for column in range(15,24):\n",
    "        url = url_head + str(row) + '_C' + str(column) + '.zip' \n",
    "        r = requests.get(url)\n",
    "        if r.status_code==200:\n",
    "            with open(save_folder + '\\\\' + 'R' + str(row) + '_C' + str(column) + '.zip' ,'wb') as file:\n",
    "                file.write(r.content)\n",
    "        else:\n",
    "            # no data for this tile. This is common when there is only sea for certain tile\n",
    "            pass\n",
    "\n",
    "# unzip downloaded files\n",
    "for file in tqdm(os.listdir(save_folder)):\n",
    "    if file.endswith('.zip'):\n",
    "        zip_path = save_folder + '\\\\' + file\n",
    "        f = zipfile.ZipFile(zip_path,'r')\n",
    "        for file in f.namelist():\n",
    "            f.extract(file, save_folder)\n",
    "        f.close()\n",
    "        os.remove(zip_path)"
   ]
  },
  {
   "cell_type": "code",
   "execution_count": 39,
   "id": "3a8a059f-3933-4be2-bc96-161d6e9a288f",
   "metadata": {},
   "outputs": [
    {
     "name": "stderr",
     "output_type": "stream",
     "text": [
      "100%|████████████████████████████████████████████████████████████████████████████████████| 5/5 [00:52<00:00, 10.47s/it]\n",
      "100%|██████████████████████████████████████████████████████████████████████████████████| 81/81 [00:10<00:00,  7.97it/s]\n"
     ]
    }
   ],
   "source": [
    "# For GHS-Built-H. Only 2018 is available\n",
    "# For ANBH data in GHS-Built-H \n",
    "url_head = r'https://jeodpp.jrc.ec.europa.eu/ftp/jrc-opendata/GHSL/GHS_BUILT_H_GLOBE_R2023A/GHS_BUILT_H_ANBH_E2018_GLOBE_R2023A_54009_100/V1-0/tiles/GHS_BUILT_H_ANBH_E2018_GLOBE_R2023A_54009_100_V1_0_R'\n",
    "save_folder = r'D:\\0-data\\GHS_BUILT_H'\n",
    "for row in tqdm(range(1,6)):\n",
    "    for column in range(15,24):\n",
    "        url = url_head + str(row) + '_C' + str(column) + '.zip' \n",
    "        r = requests.get(url)\n",
    "        if r.status_code==200:\n",
    "            with open(save_folder + '\\\\' + 'R' + str(row) + '_C' + str(column) + '.zip' ,'wb') as file:\n",
    "                file.write(r.content)\n",
    "        else:\n",
    "            # no data for this tile. This is common when there is only sea for certain tile\n",
    "            pass\n",
    "\n",
    "# unzip downloaded files\n",
    "for file in tqdm(os.listdir(save_folder)):\n",
    "    if file.endswith('.zip'):\n",
    "        zip_path = save_folder + '\\\\' + file\n",
    "        f = zipfile.ZipFile(zip_path,'r')\n",
    "        for file in f.namelist():\n",
    "            f.extract(file, save_folder)\n",
    "        f.close()\n",
    "        os.remove(zip_path)"
   ]
  },
  {
   "cell_type": "code",
   "execution_count": null,
   "id": "6a2b5053-a4a5-4747-86cb-382e5fed73dc",
   "metadata": {},
   "outputs": [
    {
     "name": "stderr",
     "output_type": "stream",
     "text": [
      " 33%|███████████████████████████▋                                                       | 4/12 [05:08<10:21, 77.66s/it]"
     ]
    }
   ],
   "source": [
    "# For GHS-V. Years 1975 to 2030 are available\n",
    "# For Total (RES + NRES area)\n",
    "url_head = r'https://jeodpp.jrc.ec.europa.eu/ftp/jrc-opendata/GHSL/GHS_BUILT_V_GLOBE_R2023A/GHS_BUILT_V_E'\n",
    "url_neck = r'_GLOBE_R2023A_54009_100/V1-0/tiles/GHS_BUILT_V_E'\n",
    "url_tail = r'_GLOBE_R2023A_54009_100_V1_0_R'\n",
    "save_folder = r'D:\\0-data\\GHS_BUILT_V'\n",
    "for year in tqdm(range(1975, 2035,5)):\n",
    "    for row in range(1,6):\n",
    "        for column in range(15,24):\n",
    "            url = url_head + str(year) + url_neck + str(year) + url_tail + str(row) + '_C' + str(column) + '.zip' \n",
    "            r = requests.get(url)\n",
    "            if r.status_code==200:\n",
    "                with open(save_folder + '\\\\' + 'R' + str(row) + '_C' + str(column) + '.zip' ,'wb') as file:\n",
    "                    file.write(r.content)\n",
    "            else:\n",
    "                # no data for this tile. This is common when there is only sea for certain tile\n",
    "                pass\n",
    "\n",
    "# unzip downloaded files\n",
    "for file in tqdm(os.listdir(save_folder)):\n",
    "    if file.endswith('.zip'):\n",
    "        zip_path = save_folder + '\\\\' + file\n",
    "        f = zipfile.ZipFile(zip_path,'r')\n",
    "        for file in f.namelist():\n",
    "            f.extract(file, save_folder)\n",
    "        f.close()\n",
    "        os.remove(zip_path)"
   ]
  },
  {
   "cell_type": "code",
   "execution_count": null,
   "id": "3be119a8-1326-45a2-bf3e-0a5fb2f06181",
   "metadata": {},
   "outputs": [],
   "source": [
    "# For GHS-V. Years 1975 to 2030 are available\n",
    "# For NRES area\n",
    "url_head = r'https://jeodpp.jrc.ec.europa.eu/ftp/jrc-opendata/GHSL/GHS_BUILT_V_GLOBE_R2023A/GHS_BUILT_V_NRES_E'\n",
    "url_neck = r'_GLOBE_R2023A_54009_100/V1-0/tiles/GHS_BUILT_V_NRES_E'\n",
    "url_tail = r'_GLOBE_R2023A_54009_100_V1_0_R'\n",
    "save_folder = r'D:\\0-data\\GHS_BUILT_V'\n",
    "for year in tqdm(range(1975, 2035,5):\n",
    "    for row in range(1,6):\n",
    "        for column in range(15,24):\n",
    "            url = url_head + str(year) + url_neck + str(year) + url_tail + str(row) + '_C' + str(column) + '.zip' \n",
    "            r = requests.get(url)\n",
    "            if r.status_code==200:\n",
    "                with open(save_folder + '\\\\' + 'R' + str(row) + '_C' + str(column) + '.zip' ,'wb') as file:\n",
    "                    file.write(r.content)\n",
    "            else:\n",
    "                # no data for this tile. This is common when there is only sea for certain tile\n",
    "                pass\n",
    "\n",
    "# unzip downloaded files\n",
    "for file in tqdm(os.listdir(save_folder)):\n",
    "    if file.endswith('.zip'):\n",
    "        zip_path = save_folder + '\\\\' + file\n",
    "        f = zipfile.ZipFile(zip_path,'r')\n",
    "        for file in f.namelist():\n",
    "            f.extract(file, save_folder)\n",
    "        f.close()\n",
    "        os.remove(zip_path)"
   ]
  },
  {
   "cell_type": "code",
   "execution_count": null,
   "id": "27c94502-afef-4b6d-aee2-b28b13fa6e1e",
   "metadata": {},
   "outputs": [],
   "source": [
    "# For GHS-BUILT-C. Only year 2018 is available\n",
    "# For Morphological Settlement Zone (MSZ)\n",
    "url_head = r'https://jeodpp.jrc.ec.europa.eu/ftp/jrc-opendata/GHSL/GHS_BUILT_C_GLOBE_R2023A/GHS_BUILT_C_MSZ_E2018_GLOBE_R2023A_54009_10/V1-0/tiles/GHS_BUILT_C_MSZ_E2018_GLOBE_R2023A_54009_10_V1_0_R'\n",
    "save_folder = r'D:\\0-data\\GHS_BUILT_C'\n",
    "for row in tqdm(range(1,6)):\n",
    "    for column in range(15,24):\n",
    "        url = url_head + str(row) + '_C' + str(column) + '.zip' \n",
    "        r = requests.get(url)\n",
    "        if r.status_code==200:\n",
    "            with open(save_folder + '\\\\' + 'R' + str(row) + '_C' + str(column) + '.zip' ,'wb') as file:\n",
    "                file.write(r.content)\n",
    "        else:\n",
    "            # no data for this tile. This is common when there is only sea for certain tile\n",
    "            pass\n",
    "\n",
    "# unzip downloaded files\n",
    "for file in tqdm(os.listdir(save_folder)):\n",
    "    if file.endswith('.zip'):\n",
    "        zip_path = save_folder + '\\\\' + file\n",
    "        f = zipfile.ZipFile(zip_path,'r')\n",
    "        for file in f.namelist():\n",
    "            f.extract(file, save_folder)\n",
    "        f.close()\n",
    "        os.remove(zip_path)"
   ]
  },
  {
   "cell_type": "code",
   "execution_count": null,
   "id": "eb1f0e5a-4f77-42dd-885c-17719c5bb60c",
   "metadata": {},
   "outputs": [],
   "source": [
    "# For GHS-BUILT-C. Only year 2018 is available\n",
    "# For Functional classification (RES vs. NRES)\n",
    "url_head = r'https://jeodpp.jrc.ec.europa.eu/ftp/jrc-opendata/GHSL/GHS_BUILT_C_GLOBE_R2023A/GHS_BUILT_C_FUN_E2018_GLOBE_R2023A_54009_10/V1-0/tiles/GHS_BUILT_C_FUN_E2018_GLOBE_R2023A_54009_10_V1_0_R'\n",
    "save_folder = r'D:\\0-data\\GHS_BUILT_C'\n",
    "for row in tqdm(range(1,6)):\n",
    "    for column in range(15,24):\n",
    "        url = url_head + str(row) + '_C' + str(column) + '.zip' \n",
    "        r = requests.get(url)\n",
    "        if r.status_code==200:\n",
    "            with open(save_folder + '\\\\' + 'R' + str(row) + '_C' + str(column) + '.zip' ,'wb') as file:\n",
    "                file.write(r.content)\n",
    "        else:\n",
    "            # no data for this tile. This is common when there is only sea for certain tile\n",
    "            pass\n",
    "\n",
    "# unzip downloaded files\n",
    "for file in tqdm(os.listdir(save_folder)):\n",
    "    if file.endswith('.zip'):\n",
    "        zip_path = save_folder + '\\\\' + file\n",
    "        f = zipfile.ZipFile(zip_path,'r')\n",
    "        for file in f.namelist():\n",
    "            f.extract(file, save_folder)\n",
    "        f.close()\n",
    "        os.remove(zip_path)"
   ]
  }
 ],
 "metadata": {
  "kernelspec": {
   "display_name": "Python 3 (ipykernel)",
   "language": "python",
   "name": "python3"
  },
  "language_info": {
   "codemirror_mode": {
    "name": "ipython",
    "version": 3
   },
   "file_extension": ".py",
   "mimetype": "text/x-python",
   "name": "python",
   "nbconvert_exporter": "python",
   "pygments_lexer": "ipython3",
   "version": "3.12.3"
  }
 },
 "nbformat": 4,
 "nbformat_minor": 5
}
