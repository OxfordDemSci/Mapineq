{
 "cells": [
  {
   "cell_type": "code",
   "execution_count": 1,
   "id": "60e1e64e-e823-4785-8d74-153e4fbf7dd7",
   "metadata": {},
   "outputs": [],
   "source": [
    "import os\n",
    "import gc\n",
    "import rasterio\n",
    "import geopandas as gpd\n",
    "import numpy as np\n",
    "import pandas as pd\n",
    "from tqdm import tqdm\n",
    "from osgeo import gdal\n",
    "from rasterstats import zonal_stats"
   ]
  },
  {
   "cell_type": "code",
   "execution_count": null,
   "id": "183d7468-b879-4bbc-b164-f3db172aa23d",
   "metadata": {},
   "outputs": [
    {
     "name": "stderr",
     "output_type": "stream",
     "text": [
      "  0%|                                                                                            | 0/2 [00:00<?, ?it/s]\n",
      "  0%|                                                                                           | 0/31 [00:00<?, ?it/s]\u001b[A\n",
      " 16%|█████████████▍                                                                     | 5/31 [01:06<05:46, 13.33s/it]\u001b[A\n",
      " 32%|██████████████████████████▍                                                       | 10/31 [02:39<05:43, 16.36s/it]\u001b[A\n",
      " 48%|███████████████████████████████████████▋                                          | 15/31 [03:49<04:04, 15.28s/it]\u001b[A\n",
      " 65%|████████████████████████████████████████████████████▉                             | 20/31 [04:44<02:29, 13.61s/it]\u001b[A"
     ]
    }
   ],
   "source": [
    "res = 500\n",
    "GHS = 'GHS_BUILT_H'\n",
    "indicator_list = {'AGBH':'Average of the Gross Building Height','ANBH':'Average of the Net Building Height'}\n",
    "for Character in tqdm(['AGBH','ANBH']):\n",
    "    read_folder = r'D:\\0-data' + '\\\\' + GHS + '\\\\' + Character\n",
    "    raster_list = []\n",
    "    # generate a list of all raster tiles\n",
    "    for file in os.listdir(read_folder):\n",
    "        if file.endswith('.tif'):\n",
    "            raster_list.append(read_folder + '\\\\' + file)\n",
    "    # merge the raster tiles into one\n",
    "    save_folder = r'D:\\0-data\\GHS_BUILT_eu' + '\\\\' + GHS + '\\\\' + Character\n",
    "    if not os.path.exists(save_folder):\n",
    "        os.makedirs(save_folder)\n",
    "    save_path = save_folder + '\\\\' + 'GHS_BUILT_C_2018_'+ Character + '_' + str(res) + '.tif'\n",
    "    # set resampling method to average, because this is a dataset with continuous values\n",
    "    gdal.Warp(save_path, raster_list, format='GTiff', dstSRS='EPSG:3035', xRes=res, yRes=res, \n",
    "              outputType=gdal.GDT_Float32, resampleAlg='average', options=['COMPRESS=LZW'])\n",
    "\n",
    "    # Zonal statistics looping all years of NUTS regions\n",
    "    nuts_folder = r'C:\\1-Data\\NUTS'\n",
    "    for nuts_file in tqdm(os.listdir(nuts_folder)):\n",
    "        if nuts_file.endswith('.shp'):\n",
    "            nuts_path = nuts_folder + '\\\\' + nuts_file\n",
    "            nuts = gpd.read_file(nuts_path)\n",
    "            nuts_year = nuts_file.split('_')[-2]\n",
    "            df_comb = None\n",
    "            for tif in os.listdir(save_folder):\n",
    "                if tif.endswith('.tif'):\n",
    "                    # Conduct zonal statistics and add other needed information\n",
    "                    zs_temp = pd.DataFrame(zonal_stats(nuts_path, save_folder + '\\\\' + tif, stats=\"mean\"))\n",
    "                    df_temp = pd.merge(nuts[['NUTS_ID']], zs_temp, left_index=True, right_index=True)\n",
    "                    df_temp.columns = ['geo','ObsValue']\n",
    "                    df_temp['Indicator'] = indicator_list[Character]\n",
    "                    df_temp['freq'] = 'NA'\n",
    "                    df_temp['ObsTime'] = '2018'\n",
    "                    df_temp['unit'] = 'm'\n",
    "                    df_temp['ObsValue'] = df_temp['ObsValue'].apply(lambda x: x*(res/1000)**2)\n",
    "                    df_comb = df_temp if df_comb is None else pd.concat([df_comb, df_temp])\n",
    "            geo_source = 'NUTS' + nuts_year\n",
    "            df_comb['geo_source'] = geo_source\n",
    "            df_comb.set_index('geo').to_csv(r'D:\\1-Case studies\\GHS' + '\\\\' + GHS + '_' + Character + '_' + geo_source +'.csv') "
   ]
  },
  {
   "cell_type": "code",
   "execution_count": null,
   "id": "101219b0-a343-4e66-b761-125141ee1783",
   "metadata": {},
   "outputs": [],
   "source": []
  },
  {
   "cell_type": "code",
   "execution_count": null,
   "id": "dd72ead8-8845-4224-a654-74068ccc7730",
   "metadata": {},
   "outputs": [],
   "source": []
  },
  {
   "cell_type": "code",
   "execution_count": null,
   "id": "754b65f0-15fb-457b-a04a-fa89f858cd5a",
   "metadata": {},
   "outputs": [],
   "source": []
  },
  {
   "cell_type": "code",
   "execution_count": null,
   "id": "eb1cbd8d-bc09-46a9-8189-177ee7eda934",
   "metadata": {},
   "outputs": [],
   "source": []
  },
  {
   "cell_type": "code",
   "execution_count": null,
   "id": "f4510317-911b-4dad-908d-a1e8f476b471",
   "metadata": {},
   "outputs": [],
   "source": []
  },
  {
   "cell_type": "code",
   "execution_count": null,
   "id": "ad514547-dc99-4539-b23d-9e7a7fd357c9",
   "metadata": {},
   "outputs": [],
   "source": []
  },
  {
   "cell_type": "code",
   "execution_count": null,
   "id": "775aceec-907a-400e-a2a7-a1d72ea1b457",
   "metadata": {},
   "outputs": [],
   "source": []
  },
  {
   "cell_type": "code",
   "execution_count": null,
   "id": "a4119ead-9173-4287-9ae2-703846f04e81",
   "metadata": {},
   "outputs": [],
   "source": []
  },
  {
   "cell_type": "code",
   "execution_count": null,
   "id": "fded7408-4474-45df-91d3-d983c0eb7b4a",
   "metadata": {},
   "outputs": [],
   "source": []
  },
  {
   "cell_type": "code",
   "execution_count": null,
   "id": "790fa44b-ed85-44c0-adcc-a89965a64acd",
   "metadata": {},
   "outputs": [],
   "source": []
  },
  {
   "cell_type": "code",
   "execution_count": null,
   "id": "40363023-0507-4af6-b8b1-8b87372a6d8f",
   "metadata": {},
   "outputs": [],
   "source": []
  },
  {
   "cell_type": "code",
   "execution_count": null,
   "id": "c2322eb3-d4dd-48e5-a208-94ac1e35a35d",
   "metadata": {},
   "outputs": [],
   "source": []
  },
  {
   "cell_type": "code",
   "execution_count": null,
   "id": "46658a21-ba2e-4a76-83bc-bd4b05096684",
   "metadata": {},
   "outputs": [],
   "source": []
  },
  {
   "cell_type": "code",
   "execution_count": null,
   "id": "e1680405-7477-4dee-b8a0-fe0391ae0f74",
   "metadata": {},
   "outputs": [],
   "source": []
  },
  {
   "cell_type": "code",
   "execution_count": null,
   "id": "50302292-2fe2-439a-b46d-5df8583591c6",
   "metadata": {},
   "outputs": [],
   "source": []
  },
  {
   "cell_type": "code",
   "execution_count": null,
   "id": "95911583-6a89-46df-aab4-9095af8ff488",
   "metadata": {},
   "outputs": [],
   "source": []
  },
  {
   "cell_type": "code",
   "execution_count": null,
   "id": "114b9bb0-d165-4d89-8fa1-55bf6feec450",
   "metadata": {},
   "outputs": [],
   "source": []
  },
  {
   "cell_type": "code",
   "execution_count": null,
   "id": "a82a7966-8d95-4161-9206-f4530672c7ef",
   "metadata": {},
   "outputs": [],
   "source": []
  }
 ],
 "metadata": {
  "kernelspec": {
   "display_name": "Python 3 (ipykernel)",
   "language": "python",
   "name": "python3"
  },
  "language_info": {
   "codemirror_mode": {
    "name": "ipython",
    "version": 3
   },
   "file_extension": ".py",
   "mimetype": "text/x-python",
   "name": "python",
   "nbconvert_exporter": "python",
   "pygments_lexer": "ipython3",
   "version": "3.12.3"
  }
 },
 "nbformat": 4,
 "nbformat_minor": 5
}
