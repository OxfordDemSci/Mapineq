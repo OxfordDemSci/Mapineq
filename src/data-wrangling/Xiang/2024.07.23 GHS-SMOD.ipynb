{
 "cells": [
  {
   "cell_type": "code",
   "execution_count": 1,
   "id": "77c3c665-a5ff-49e0-a378-b5b7e028c2a2",
   "metadata": {},
   "outputs": [],
   "source": [
    "import os\n",
    "import gc\n",
    "import rasterio\n",
    "import geopandas as gpd\n",
    "import numpy as np\n",
    "import pandas as pd\n",
    "from tqdm import tqdm\n",
    "from rasterstats import zonal_stats\n",
    "from rasterio.io import MemoryFile\n",
    "from contextlib import contextmanager"
   ]
  },
  {
   "cell_type": "code",
   "execution_count": 1,
   "id": "7a6ae903-185d-4661-9764-293f8c60f093",
   "metadata": {},
   "outputs": [],
   "source": [
    "def reclass_reproject_raster(in_path, out_path, dst_crs):\n",
    "    with rasterio.open(in_path) as src:\n",
    "        transform, width, height = rasterio.warp.calculate_default_transform(\n",
    "            src.crs, dst_crs, src.width, src.height, *src.bounds)\n",
    "        kwargs = src.meta.copy()\n",
    "        kwargs.update({\n",
    "            'crs': dst_crs,\n",
    "            'transform': transform,\n",
    "            'width': width,\n",
    "            'height': height\n",
    "        })\n",
    "\n",
    "        # keep only those rasters with a lable of 23\n",
    "        a = src.read(1)\n",
    "        new_src = a.copy()\n",
    "        new_src[np.where(a!=23)]=0\n",
    "        new_src[np.where(a==23)]=1\n",
    "\n",
    "        with rasterio.open(out_path, 'w', **kwargs) as dst:\n",
    "            rasterio.warp.reproject(\n",
    "                source=new_src,\n",
    "                destination=rasterio.band(dst, 1),\n",
    "                src_transform=src.transform,\n",
    "                src_crs=src.crs,\n",
    "                dst_transform=transform,\n",
    "                dst_crs=dst_crs,\n",
    "                resampling=rasterio.warp.Resampling.nearest)\n"
   ]
  },
  {
   "cell_type": "code",
   "execution_count": null,
   "id": "f89181e1-98ae-4954-8408-5c7936225a44",
   "metadata": {},
   "outputs": [],
   "source": [
    "# Reclassify and reproject all rasters\n",
    "read_root = r'C:\\1-Data\\GHS_SMOD'\n",
    "out_folder = r'C:\\1-Data\\GHS_SMOD_re'\n",
    "dst_crs = 'EPSG:3035'\n",
    "for folder in tqdm(os.listdir(read_root)):\n",
    "    for pop_file in tqdm(os.listdir(read_root + '\\\\' + folder)):\n",
    "        if pop_file.endswith('.tif'):\n",
    "            in_path = read_root + '\\\\' + folder + '\\\\' + pop_file\n",
    "            out_path = out_folder + '\\\\' + pop_file\n",
    "            reclass_reproject_raster(in_path, out_path, dst_crs)\n",
    "            "
   ]
  },
  {
   "cell_type": "code",
   "execution_count": null,
   "id": "51743cf3-efc5-4157-8685-39c57e8f246e",
   "metadata": {},
   "outputs": [],
   "source": [
    "# zonal statistics looping all years of NUTS regions\n",
    "nuts_folder = r'C:\\1-Data\\NUTS'\n",
    "for nuts_file in os.listdir(nuts_folder):\n",
    "    if nuts_file.endswith('.shp'):\n",
    "        nuts_path = nuts_folder + '\\\\' + nuts_file\n",
    "        nuts = gpd.read_file(nuts_path)\n",
    "        year = nuts_file.split('_')[-2]\n",
    "        df_comb = None\n",
    "        for tif in tqdm(os.listdir(out_folder)):\n",
    "            if tif.endswith('.tif'):\n",
    "                zs_temp = pd.DataFrame(zonal_stats(nuts_path, out_folder + '\\\\' + tif))['count']\n",
    "                df_temp = pd.merge(nuts[['NUTS_ID']], zs_temp, left_index=True, right_index=True)\n",
    "                df_temp.columns = ['geo','ObsValue']\n",
    "                df_temp['Indicator'] = 'DENSE URBAN CLUSTER GRID CELL'\n",
    "                df_temp['freq'] = '5 year'\n",
    "                df_temp['ObsTime'] = year\n",
    "                df_temp['unit'] = 'km2'\n",
    "                df_comb = df_temp if df_comb is None else pd.concat([df_comb, df_temp])\n",
    "        geo_source = 'NUTS' + year\n",
    "        df_comb['geo_source'] = geo_source\n",
    "        df_comb.set_index('geo').to_csv(r'C:\\Users\\DemSc\\Documents\\GitHub\\MapIneq\\src\\data-wrangling\\Xiang\\1-case studies\\GHS_SMOD\\GHS_SMOD_' + geo_source + '.csv')    "
   ]
  },
  {
   "cell_type": "code",
   "execution_count": null,
   "id": "4706ab6f-232e-488d-9d43-5cfb6d16eec4",
   "metadata": {},
   "outputs": [],
   "source": []
  },
  {
   "cell_type": "code",
   "execution_count": null,
   "id": "77e1f3e1-c66f-4b28-a714-8d12075e0bd3",
   "metadata": {},
   "outputs": [],
   "source": []
  },
  {
   "cell_type": "code",
   "execution_count": null,
   "id": "44ea6cd5-6e69-49f6-8906-041b701eee5c",
   "metadata": {},
   "outputs": [],
   "source": []
  },
  {
   "cell_type": "code",
   "execution_count": null,
   "id": "24febe08-93b5-4c3e-b0b9-1d80aa03b285",
   "metadata": {},
   "outputs": [],
   "source": []
  },
  {
   "cell_type": "code",
   "execution_count": null,
   "id": "cd28bb69-9ca2-4028-a9c3-76d018ad687f",
   "metadata": {},
   "outputs": [],
   "source": []
  },
  {
   "cell_type": "code",
   "execution_count": null,
   "id": "1c7d4a41-7335-41cf-87cd-8ccd210d05a5",
   "metadata": {},
   "outputs": [],
   "source": []
  },
  {
   "cell_type": "code",
   "execution_count": null,
   "id": "313ef7fe-0134-4cd5-8d9a-51a2e78055ac",
   "metadata": {},
   "outputs": [],
   "source": []
  },
  {
   "cell_type": "code",
   "execution_count": null,
   "id": "3d3a5b56-4988-4b4f-bebe-5aa9e685b1b6",
   "metadata": {},
   "outputs": [],
   "source": []
  },
  {
   "cell_type": "code",
   "execution_count": null,
   "id": "5f767751-a118-49ce-8f49-e7779eeaa0fe",
   "metadata": {},
   "outputs": [],
   "source": []
  },
  {
   "cell_type": "code",
   "execution_count": null,
   "id": "a9641285-cabc-4c20-9c9b-f481ba2391f0",
   "metadata": {},
   "outputs": [],
   "source": []
  },
  {
   "cell_type": "code",
   "execution_count": null,
   "id": "ac4ad875-f840-46f9-8cdb-b8d9b58d8b05",
   "metadata": {},
   "outputs": [],
   "source": []
  },
  {
   "cell_type": "code",
   "execution_count": null,
   "id": "b36c28fd-0fac-4713-bad2-f36f46a08d36",
   "metadata": {},
   "outputs": [],
   "source": []
  },
  {
   "cell_type": "code",
   "execution_count": null,
   "id": "b2acf51d-7930-41e4-954c-6eb879673622",
   "metadata": {},
   "outputs": [],
   "source": []
  },
  {
   "cell_type": "code",
   "execution_count": null,
   "id": "ed97a99b-998d-4604-b95d-5ae5de4cadd2",
   "metadata": {},
   "outputs": [],
   "source": []
  },
  {
   "cell_type": "code",
   "execution_count": null,
   "id": "72c1b068-74d4-4587-b5cb-186f41f220ef",
   "metadata": {},
   "outputs": [],
   "source": []
  },
  {
   "cell_type": "code",
   "execution_count": null,
   "id": "6a0f5433-eaa6-4c1c-9115-85ba8e2ac7ea",
   "metadata": {},
   "outputs": [],
   "source": []
  },
  {
   "cell_type": "code",
   "execution_count": null,
   "id": "da65c10f-05fb-4df2-82b5-b4c8c0df6542",
   "metadata": {},
   "outputs": [],
   "source": []
  },
  {
   "cell_type": "code",
   "execution_count": null,
   "id": "8fada927-ca12-4763-82ce-3267aefeba4a",
   "metadata": {},
   "outputs": [],
   "source": []
  },
  {
   "cell_type": "code",
   "execution_count": null,
   "id": "b93c35b9-ec2a-4d2f-be14-08a52b92608a",
   "metadata": {},
   "outputs": [],
   "source": []
  },
  {
   "cell_type": "code",
   "execution_count": null,
   "id": "056a85ee-7f8f-4ad8-8f32-464507b58988",
   "metadata": {},
   "outputs": [],
   "source": []
  },
  {
   "cell_type": "code",
   "execution_count": null,
   "id": "4253d1c9-41cf-4706-a6af-f2e4938e7f73",
   "metadata": {},
   "outputs": [],
   "source": []
  },
  {
   "cell_type": "code",
   "execution_count": null,
   "id": "2454ee9e-fab1-467d-9ee6-9f3e4ec7a63b",
   "metadata": {},
   "outputs": [],
   "source": []
  }
 ],
 "metadata": {
  "kernelspec": {
   "display_name": "Python 3 (ipykernel)",
   "language": "python",
   "name": "python3"
  },
  "language_info": {
   "codemirror_mode": {
    "name": "ipython",
    "version": 3
   },
   "file_extension": ".py",
   "mimetype": "text/x-python",
   "name": "python",
   "nbconvert_exporter": "python",
   "pygments_lexer": "ipython3",
   "version": "3.12.3"
  }
 },
 "nbformat": 4,
 "nbformat_minor": 5
}
