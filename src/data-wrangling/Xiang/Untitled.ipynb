{
 "cells": [
  {
   "cell_type": "code",
   "execution_count": null,
   "id": "ebe5dd17",
   "metadata": {},
   "outputs": [],
   "source": [
    "# Merge dataframes by geo-source\n",
    "read_folder = r'E:\\1-Case studies\\GHS_SMOD\\NUTS'\n",
    "for year in tqdm([2003, 2006, 2010, 2013, 2016, 2021]):\n",
    "    df_comb = None\n",
    "    for file in os.listdir(read_folder):\n",
    "        if file.split('_')[2][-4:] == str(year):\n",
    "            df_temp = pd.read_csv(read_folder + '//' + file)\n",
    "            df_comb = df_temp if df_comb is None else pd.concat([df_comb, df_temp]) \n",
    "    df_comb.to_csv(r'E:\\1-Case studies\\GHS_SMOD' + '\\\\' + 'GHS_SMOD_NUTS' + str(year) + '.csv')"
   ]
  }
 ],
 "metadata": {
  "kernelspec": {
   "display_name": "Python 3 (ipykernel)",
   "language": "python",
   "name": "python3"
  },
  "language_info": {
   "codemirror_mode": {
    "name": "ipython",
    "version": 3
   },
   "file_extension": ".py",
   "mimetype": "text/x-python",
   "name": "python",
   "nbconvert_exporter": "python",
   "pygments_lexer": "ipython3",
   "version": "3.11.5"
  }
 },
 "nbformat": 4,
 "nbformat_minor": 5
}
