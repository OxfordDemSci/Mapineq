{
 "cells": [
  {
   "cell_type": "code",
   "execution_count": 3,
   "id": "f336aa29-a99f-4c6e-acf7-e9b83880303f",
   "metadata": {},
   "outputs": [],
   "source": [
    "import os\n",
    "import gc\n",
    "import rasterio\n",
    "import geopandas as gpd\n",
    "import numpy as np\n",
    "import pandas as pd\n",
    "from tqdm import tqdm\n",
    "from osgeo import gdal\n",
    "from rasterstats import zonal_stats"
   ]
  },
  {
   "cell_type": "code",
   "execution_count": 15,
   "id": "6c0d4f32-7783-44ad-bd3a-183e54515b38",
   "metadata": {},
   "outputs": [
    {
     "name": "stderr",
     "output_type": "stream",
     "text": [
      "100%|███████████████████████████████████████████████████████████████████████████████████| 1/1 [04:51<00:00, 291.56s/it]\n"
     ]
    }
   ],
   "source": [
    "res = 100\n",
    "for Character in tqdm(['MSZ','FUN']):\n",
    "    read_folder = r'D:\\0-data\\GHS_BUILT_C' + '\\\\' + Character\n",
    "    raster_list = []\n",
    "    # generate a list of all raster tiles\n",
    "    for file in os.listdir(read_folder):\n",
    "        if file.endswith('.tif'):\n",
    "            raster_list.append(read_folder + '\\\\' + file)\n",
    "    # merge the raster tiles into one\n",
    "    save_folder = r'D:\\0-data\\GHS_BUILT_eu\\GHS_BUILT_C' + '\\\\' + Character\n",
    "    if not os.path.exists(save_folder):\n",
    "        os.makedirs(save_folder)\n",
    "    save_path = save_folder + '\\\\' + 'GHS_BUILT_C_2018_'+ Character + '_' + str(res) + '.tif'\n",
    "    gdal.Warp(save_path, raster_list, format='GTiff', dstSRS='EPSG:3035', xRes=res, yRes=res, outputType=gdal.GDT_Byte, options=['COMPRESS=LZW'])"
   ]
  },
  {
   "cell_type": "code",
   "execution_count": 37,
   "id": "6e83bd97-0a61-4803-ae52-7e3109e86bdd",
   "metadata": {},
   "outputs": [],
   "source": [
    "def reclass_reproject_raster(in_path, out_path, dst_crs, settlement_class):\n",
    "    with rasterio.open(in_path) as src:\n",
    "        transform, width, height = rasterio.warp.calculate_default_transform(\n",
    "            src.crs, dst_crs, src.width, src.height, *src.bounds)\n",
    "        kwargs = src.meta.copy()\n",
    "        kwargs.update({\n",
    "            'crs': dst_crs,\n",
    "            'transform': transform,\n",
    "            'width': width,\n",
    "            'height': height\n",
    "        })\n",
    "\n",
    "        # keep only those rasters with a lable of settlement_class\n",
    "        a = src.read(1)\n",
    "        new_src = a.copy()\n",
    "        new_src[np.where(a!=settlement_class)]=0\n",
    "        new_src[np.where(a==settlement_class)]=1\n",
    "\n",
    "        with rasterio.open(out_path, 'w', **kwargs) as dst:\n",
    "            rasterio.warp.reproject(\n",
    "                source=new_src,\n",
    "                destination=rasterio.band(dst, 1),\n",
    "                src_transform=src.transform,\n",
    "                src_crs=src.crs,\n",
    "                dst_transform=transform,\n",
    "                dst_crs=dst_crs,\n",
    "                resampling=rasterio.warp.Resampling.nearest)"
   ]
  },
  {
   "cell_type": "code",
   "execution_count": null,
   "id": "d3fa72f5-1a51-449e-aa27-98e5f4b4ab8b",
   "metadata": {},
   "outputs": [
    {
     "name": "stderr",
     "output_type": "stream",
     "text": [
      "  0%|                                                                                           | 0/15 [00:00<?, ?it/s]"
     ]
    }
   ],
   "source": [
    "# Processing GHS-C-MSZ for NUTs\n",
    "settlement_dict = {1:'MSZ, open spaces, low vegetation surfaces NDVI <= 0.3',\n",
    "                   2:'MSZ, open spaces, medium vegetation surfaces 0.3 < NDVI <=0.5',\n",
    "                   3:'MSZ, open spaces, high vegetation surfaces NDVI > 0.5',\n",
    "                   4:'MSZ, open spaces, water surfaces LAND < 0.5',\n",
    "                   5:'MSZ, open spaces, road surfaces',\n",
    "                   11:'MSZ, built spaces, residential, building height <= 3m',\n",
    "                   12:'MSZ, built spaces, residential, 3m < building height <= 6m',\n",
    "                   13:'MSZ, built spaces, residential, 6m < building height <= 15m',\n",
    "                   14:'MSZ, built spaces, residential, 15m < building height <= 30m',\n",
    "                   15:'MSZ, built spaces, residential, building height > 30m',\n",
    "                   21:'MSZ, built spaces, non-residential, building height <= 3m',\n",
    "                   22:'MSZ, built spaces, non-residential, 3m < building height <= 6m',\n",
    "                   23:'MSZ, built spaces, non-residential, 6m < building height <= 15m',\n",
    "                   24:'MSZ, built spaces, non-residential, 15m < building height <= 30m',\n",
    "                   25:'MSZ, built spaces, non-residential, building height > 30m'}\n",
    "\n",
    "for settlement_class in tqdm(settlement_dict.keys()):\n",
    "    read_root = r'D:\\0-data\\GHS_BUILT_eu\\GHS_BUILT_C\\MSZ'\n",
    "    out_folder = r'D:\\0-data\\GHS_BUILT_eu\\GHS_BUILT_C\\MSZ' + '\\\\' + str(settlement_class)\n",
    "    dst_crs = 'EPSG:3035'\n",
    "    indicator = settlement_dict[settlement_class]\n",
    "    if not os.path.exists(out_folder):\n",
    "        os.makedirs(out_folder)\n",
    "\n",
    "    file = 'GHS_BUILT_C_2018_MSZ.tif'\n",
    "    in_path = r'D:\\0-data\\GHS_BUILT_eu\\GHS_BUILT_C\\MSZ' + '\\\\' + file\n",
    "    out_path = out_folder + '\\\\' + file\n",
    "    reclass_reproject_raster(in_path, out_path, dst_crs, settlement_class)\n",
    "\n",
    "    # Zonal statistics looping all years of NUTS regions\n",
    "    nuts_folder = r'C:\\1-Data\\NUTS'\n",
    "    for nuts_file in tqdm(os.listdir(nuts_folder)):\n",
    "        if nuts_file.endswith('.shp'):\n",
    "            nuts_path = nuts_folder + '\\\\' + nuts_file\n",
    "            nuts = gpd.read_file(nuts_path)\n",
    "            nuts_year = nuts_file.split('_')[-2]\n",
    "            df_comb = None\n",
    "            for tif in os.listdir(out_folder):\n",
    "                if tif.endswith('.tif'):\n",
    "                    zs_temp = pd.DataFrame(zonal_stats(nuts_path, out_folder + '\\\\' + tif, stats=\"sum\"))\n",
    "                    df_temp = pd.merge(nuts[['NUTS_ID']], zs_temp, left_index=True, right_index=True)\n",
    "                    df_temp.columns = ['geo','ObsValue']\n",
    "                    df_temp['Indicator'] = indicator\n",
    "                    df_temp['freq'] = 'NA'\n",
    "                    df_temp['ObsTime'] = '2018'\n",
    "                    df_temp['unit'] = str(round((res/1000)**2,2)) + 'km2'\n",
    "                    df_comb = df_temp if df_comb is None else pd.concat([df_comb, df_temp])\n",
    "            geo_source = 'NUTS' + nuts_year\n",
    "            df_comb['geo_source'] = geo_source\n",
    "            df_comb.set_index('geo').to_csv(r'D:\\1-Case studies\\GHS\\GHS_C_MSZ' + geo_source + '_' + indicator + '.csv') \n"
   ]
  },
  {
   "cell_type": "code",
   "execution_count": null,
   "id": "71567057-3b48-4430-a2f1-af60c943441e",
   "metadata": {},
   "outputs": [],
   "source": []
  },
  {
   "cell_type": "code",
   "execution_count": null,
   "id": "d9952348-de8c-4c24-bb7e-595f1880314b",
   "metadata": {},
   "outputs": [],
   "source": []
  },
  {
   "cell_type": "code",
   "execution_count": null,
   "id": "cb8cf4db-ab77-477c-8a98-3762ab713a4a",
   "metadata": {},
   "outputs": [],
   "source": []
  },
  {
   "cell_type": "code",
   "execution_count": null,
   "id": "012931a0-50a4-486f-a7c4-a23091ef3863",
   "metadata": {},
   "outputs": [],
   "source": []
  },
  {
   "cell_type": "code",
   "execution_count": null,
   "id": "2317d4ce-b431-4dc4-bb4e-8b2af0abf849",
   "metadata": {},
   "outputs": [],
   "source": []
  },
  {
   "cell_type": "code",
   "execution_count": null,
   "id": "5c5e598b-b859-4730-a5d5-1e6323b86894",
   "metadata": {},
   "outputs": [],
   "source": []
  },
  {
   "cell_type": "code",
   "execution_count": null,
   "id": "bc4d12e7-8993-49df-bb42-a645d02deb35",
   "metadata": {},
   "outputs": [],
   "source": []
  },
  {
   "cell_type": "code",
   "execution_count": null,
   "id": "581dc9c4-066d-407c-b755-7ee919bc3a04",
   "metadata": {},
   "outputs": [],
   "source": []
  },
  {
   "cell_type": "code",
   "execution_count": null,
   "id": "12045549-fc2a-4535-9b2c-43bf2e6a0c1e",
   "metadata": {},
   "outputs": [],
   "source": []
  },
  {
   "cell_type": "code",
   "execution_count": null,
   "id": "4b3708d2-541f-4c60-951e-b7e19d44e637",
   "metadata": {},
   "outputs": [],
   "source": []
  },
  {
   "cell_type": "code",
   "execution_count": null,
   "id": "753e6b71-0202-4efd-9834-ebfefa2210d2",
   "metadata": {},
   "outputs": [],
   "source": []
  },
  {
   "cell_type": "code",
   "execution_count": null,
   "id": "31155cfb-ec27-4826-a181-7f4d473f386e",
   "metadata": {},
   "outputs": [],
   "source": []
  },
  {
   "cell_type": "code",
   "execution_count": null,
   "id": "5daba657-3557-4e1f-a81e-14489f621702",
   "metadata": {},
   "outputs": [],
   "source": []
  },
  {
   "cell_type": "code",
   "execution_count": null,
   "id": "27ae7543-661f-4764-90ba-5c8d12dcdc56",
   "metadata": {},
   "outputs": [],
   "source": []
  },
  {
   "cell_type": "code",
   "execution_count": null,
   "id": "acbad6c6-9e62-4cf3-9667-b9100eb1da09",
   "metadata": {},
   "outputs": [],
   "source": []
  },
  {
   "cell_type": "code",
   "execution_count": null,
   "id": "7452c1f4-49d6-45ae-9908-330cdde846c7",
   "metadata": {},
   "outputs": [],
   "source": []
  },
  {
   "cell_type": "code",
   "execution_count": null,
   "id": "fd027289-92ed-462c-9d5a-4242c9c91bdf",
   "metadata": {},
   "outputs": [],
   "source": []
  },
  {
   "cell_type": "code",
   "execution_count": null,
   "id": "4cdc9365-24d2-44d8-95ea-51516924592b",
   "metadata": {},
   "outputs": [],
   "source": []
  },
  {
   "cell_type": "code",
   "execution_count": null,
   "id": "d6cdc3ea-b5f0-444d-aa59-45b6ba789ced",
   "metadata": {},
   "outputs": [],
   "source": []
  },
  {
   "cell_type": "code",
   "execution_count": null,
   "id": "f75cb8f0-5b8c-4083-918c-8089fc846dea",
   "metadata": {},
   "outputs": [],
   "source": []
  },
  {
   "cell_type": "code",
   "execution_count": null,
   "id": "03c34c22-f5c0-4af3-a14a-671de76f3f0d",
   "metadata": {},
   "outputs": [],
   "source": []
  },
  {
   "cell_type": "code",
   "execution_count": null,
   "id": "8f3c7d52-0d53-4031-a3bf-2f73f479929f",
   "metadata": {},
   "outputs": [],
   "source": []
  },
  {
   "cell_type": "code",
   "execution_count": null,
   "id": "4e7f2e91-9492-46ab-b805-ea58afbf6523",
   "metadata": {},
   "outputs": [],
   "source": []
  },
  {
   "cell_type": "code",
   "execution_count": null,
   "id": "80785928-ed0d-4231-a84a-94e7d0ad2083",
   "metadata": {},
   "outputs": [],
   "source": []
  },
  {
   "cell_type": "code",
   "execution_count": null,
   "id": "c33210b3-8989-4659-bad2-3213442fd430",
   "metadata": {},
   "outputs": [],
   "source": []
  },
  {
   "cell_type": "code",
   "execution_count": null,
   "id": "2353db2a-31c6-4c64-b46d-f7b1190bd2ca",
   "metadata": {},
   "outputs": [],
   "source": []
  },
  {
   "cell_type": "code",
   "execution_count": null,
   "id": "d2d7b75e-df74-4fbe-97cc-1355b1a86fb6",
   "metadata": {},
   "outputs": [],
   "source": []
  },
  {
   "cell_type": "code",
   "execution_count": null,
   "id": "f6cd70ea-c95f-4ba7-8a78-e8b7c723eaf4",
   "metadata": {},
   "outputs": [],
   "source": []
  },
  {
   "cell_type": "code",
   "execution_count": null,
   "id": "1f01d018-5c93-4fe0-b45b-1896e8b42e6c",
   "metadata": {},
   "outputs": [],
   "source": []
  },
  {
   "cell_type": "code",
   "execution_count": null,
   "id": "b6b6233c-e5ac-4117-b26c-8509755d4e51",
   "metadata": {},
   "outputs": [],
   "source": []
  },
  {
   "cell_type": "code",
   "execution_count": null,
   "id": "dad4d38b-5a09-4b01-82bc-11af6c51b644",
   "metadata": {},
   "outputs": [],
   "source": []
  },
  {
   "cell_type": "code",
   "execution_count": null,
   "id": "385bc28d-2522-469b-b6af-08b1e1eabff9",
   "metadata": {},
   "outputs": [],
   "source": []
  },
  {
   "cell_type": "code",
   "execution_count": null,
   "id": "f8d4320c-c77d-4aac-86d1-11064bfb0902",
   "metadata": {},
   "outputs": [],
   "source": []
  },
  {
   "cell_type": "code",
   "execution_count": null,
   "id": "f35ad16f-c951-4d45-9df1-91d22aa8d579",
   "metadata": {},
   "outputs": [],
   "source": []
  },
  {
   "cell_type": "code",
   "execution_count": null,
   "id": "8d7c19ad-d7b2-4cb9-934b-6bb6d7aee40d",
   "metadata": {},
   "outputs": [],
   "source": []
  },
  {
   "cell_type": "code",
   "execution_count": null,
   "id": "9649a32e-275a-4efa-895f-c38e321321e0",
   "metadata": {},
   "outputs": [],
   "source": []
  }
 ],
 "metadata": {
  "kernelspec": {
   "display_name": "Python 3 (ipykernel)",
   "language": "python",
   "name": "python3"
  },
  "language_info": {
   "codemirror_mode": {
    "name": "ipython",
    "version": 3
   },
   "file_extension": ".py",
   "mimetype": "text/x-python",
   "name": "python",
   "nbconvert_exporter": "python",
   "pygments_lexer": "ipython3",
   "version": "3.12.3"
  }
 },
 "nbformat": 4,
 "nbformat_minor": 5
}
