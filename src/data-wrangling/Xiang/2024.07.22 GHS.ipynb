{
 "cells": [
  {
   "cell_type": "code",
   "execution_count": 39,
   "id": "00f83626-548a-4b65-855d-57149df18050",
   "metadata": {},
   "outputs": [],
   "source": [
    "import os\n",
    "import gc\n",
    "import rasterio\n",
    "import geopandas as gpd\n",
    "import numpy as np\n",
    "import pandas as pd\n",
    "from tqdm import tqdm\n",
    "from rasterstats import zonal_stats\n",
    "from rasterio.io import MemoryFile"
   ]
  },
  {
   "cell_type": "code",
   "execution_count": 3,
   "id": "2e4c087a-5af8-4825-978e-95ac3701e32a",
   "metadata": {},
   "outputs": [
    {
     "name": "stdout",
     "output_type": "stream",
     "text": [
      "NUTS_RG_01M_2003_3035.shp\n",
      "NUTS_RG_01M_2006_3035.shp\n",
      "NUTS_RG_01M_2010_3035.shp\n",
      "NUTS_RG_01M_2013_3035.shp\n",
      "NUTS_RG_01M_2016_3035.shp\n",
      "NUTS_RG_01M_2021_3035.shp\n"
     ]
    }
   ],
   "source": [
    "nuts_folder = r'C:\\1-Data\\NUTS'\n",
    "for nuts_file in os.listdir(nuts_folder):\n",
    "    if nuts_file.endswith('.shp'):\n",
    "        print(nuts_file)"
   ]
  },
  {
   "cell_type": "code",
   "execution_count": 7,
   "id": "c1b9c9db-a86a-4efd-bd8b-97bda7f1cfda",
   "metadata": {},
   "outputs": [
    {
     "name": "stdout",
     "output_type": "stream",
     "text": [
      "GHS_POP_E1975_GLOBE_R2023A_54009_100_V1_0.tif\n",
      "GHS_POP_E1980_GLOBE_R2023A_54009_100_V1_0.tif\n",
      "GHS_POP_E1985_GLOBE_R2023A_54009_100_V1_0.tif\n",
      "GHS_POP_E1990_GLOBE_R2023A_54009_100_V1_0.tif\n",
      "GHS_POP_E1995_GLOBE_R2023A_54009_100_V1_0.tif\n",
      "GHS_POP_E2000_GLOBE_R2023A_54009_100_V1_0.tif\n",
      "GHS_POP_E2005_GLOBE_R2023A_54009_100_V1_0.tif\n",
      "GHS_POP_E2010_GLOBE_R2023A_54009_100_V1_0.tif\n",
      "GHS_POP_E2015_GLOBE_R2023A_54009_100_V1_0.tif\n",
      "GHS_POP_E2020_GLOBE_R2023A_54009_100_V1_0.tif\n",
      "GHS_POP_E2025_GLOBE_R2023A_54009_100_V1_0.tif\n",
      "GHS_POP_E2030_GLOBE_R2023A_54009_100_V1_0.tif\n"
     ]
    }
   ],
   "source": [
    "read_root = r'C:\\1-Data\\GHS_POP'\n",
    "for folder in os.listdir(read_root):\n",
    "    for pop_file in os.listdir(read_root + '\\\\' + folder):\n",
    "        if pop_file.endswith('.tif'):\n",
    "            print(pop_file)"
   ]
  },
  {
   "cell_type": "code",
   "execution_count": null,
   "id": "8835a583-2031-4401-8db4-9aaadc6c4f94",
   "metadata": {},
   "outputs": [],
   "source": [
    "zs_temp = pd.DataFrame(zonal_stats(nuts_folder + '\\\\' + nuts_file, read_root + '\\\\' + folder + '\\\\' + 'GHS_POP_E2030_GLOBE_R2023A_54009_100_V1_0.tif'))['mean']"
   ]
  },
  {
   "cell_type": "code",
   "execution_count": null,
   "id": "943d90fb-037c-4a3c-8f5e-c6ebe5279406",
   "metadata": {},
   "outputs": [],
   "source": [
    "a = zonal_stats(nuts_folder + '\\\\' + nuts_file, read_root + '\\\\' + folder + '\\\\' + 'GHS_POP_E2030_GLOBE_R2023A_54009_100_V1_0.tif')"
   ]
  },
  {
   "cell_type": "code",
   "execution_count": 27,
   "id": "67454a0a-7718-488c-8bcb-f517fc175069",
   "metadata": {},
   "outputs": [],
   "source": [
    "nuts = gpd.read_file(nuts_folder + '\\\\' + nuts_file)"
   ]
  },
  {
   "cell_type": "code",
   "execution_count": 33,
   "id": "1c333a0e-8ce9-430d-bb3d-a371423c8216",
   "metadata": {},
   "outputs": [],
   "source": [
    "EU = gpd.read_file(r'C:\\1-Data\\NUTS\\EU.shp')"
   ]
  },
  {
   "cell_type": "code",
   "execution_count": null,
   "id": "956f125b-5dcc-4e4c-9283-d2d9e1077103",
   "metadata": {},
   "outputs": [],
   "source": [
    "rasterio.warp.reproject() "
   ]
  },
  {
   "cell_type": "code",
   "execution_count": 53,
   "id": "ea600e41-12ac-461a-b5e9-d8e6dd9a4c6a",
   "metadata": {},
   "outputs": [],
   "source": [
    "def reproject_raster(in_path, dst_crs):\n",
    "    with rasterio.open(in_path) as src:\n",
    "        transform, width, height = rasterio.warp.calculate_default_transform(\n",
    "            src.crs, dst_crs, src.width, src.height, *src.bounds)\n",
    "        kwargs = src.meta.copy()\n",
    "        kwargs.update({\n",
    "            'crs': dst_crs,\n",
    "            'transform': transform,\n",
    "            'width': width,\n",
    "            'height': height\n",
    "        })\n",
    "\n",
    "    with MemoryFile() as memfile:\n",
    "        with memfile.open(**kwargs) as dst:\n",
    "            for i in range(1, src.count + 1):\n",
    "                rasterio.warp.reproject(\n",
    "                    source=rasterio.band(src, i),\n",
    "                    destination=rasterio.band(dst, i),\n",
    "                    src_transform=src.transform,\n",
    "                    src_crs=src.crs,\n",
    "                    dst_transform=transform,\n",
    "                    dst_crs=crs,\n",
    "                    resampling=Resampling.nearest)\n",
    "        with memfile.open() as dataset:  # Reopen as DatasetReader\n",
    "            return dataset  # Note yield not return as we're a contextmanager"
   ]
  },
  {
   "cell_type": "code",
   "execution_count": 43,
   "id": "2c1bf2ee-5282-4551-aead-019c3bb28c6e",
   "metadata": {},
   "outputs": [],
   "source": [
    "in_path = read_root + '\\\\' + folder + '\\\\' + 'GHS_POP_E2030_GLOBE_R2023A_54009_100_V1_0.tif'\n",
    "dst_crs = 'EPSG:3035'\n",
    "tif = reproject_raster(in_path, dst_crs)"
   ]
  },
  {
   "cell_type": "code",
   "execution_count": 55,
   "id": "812044fd-3b1b-4e86-a537-f35f45b2876a",
   "metadata": {
    "scrolled": true
   },
   "outputs": [
    {
     "ename": "RasterioIOError",
     "evalue": "087dcafe-aed6-46b2-bc15-058294a7d0a4.tif: Free disk space available is 33777467392 bytes, whereas 650362475568 are at least necessary. You can disable this check by defining the CHECK_DISK_FREE_SPACE configuration option to FALSE.",
     "output_type": "error",
     "traceback": [
      "\u001b[1;31m---------------------------------------------------------------------------\u001b[0m",
      "\u001b[1;31mCPLE_FileIOError\u001b[0m                          Traceback (most recent call last)",
      "File \u001b[1;32mrasterio\\\\_io.pyx:1488\u001b[0m, in \u001b[0;36mrasterio._io.DatasetWriterBase.__init__\u001b[1;34m()\u001b[0m\n",
      "File \u001b[1;32mrasterio\\\\_err.pyx:221\u001b[0m, in \u001b[0;36mrasterio._err.exc_wrap_pointer\u001b[1;34m()\u001b[0m\n",
      "\u001b[1;31mCPLE_FileIOError\u001b[0m: 087dcafe-aed6-46b2-bc15-058294a7d0a4.tif: Free disk space available is 33777467392 bytes, whereas 650362475568 are at least necessary. You can disable this check by defining the CHECK_DISK_FREE_SPACE configuration option to FALSE.",
      "\nDuring handling of the above exception, another exception occurred:\n",
      "\u001b[1;31mRasterioIOError\u001b[0m                           Traceback (most recent call last)",
      "Cell \u001b[1;32mIn[55], line 1\u001b[0m\n\u001b[1;32m----> 1\u001b[0m \u001b[38;5;28;01mwith\u001b[39;00m reproject_raster(in_path, dst_crs) \u001b[38;5;28;01mas\u001b[39;00m re:\n\u001b[0;32m      2\u001b[0m     \u001b[38;5;28mprint\u001b[39m(re)\n",
      "Cell \u001b[1;32mIn[53], line 14\u001b[0m, in \u001b[0;36mreproject_raster\u001b[1;34m(in_path, dst_crs)\u001b[0m\n\u001b[0;32m      6\u001b[0m     kwargs\u001b[38;5;241m.\u001b[39mupdate({\n\u001b[0;32m      7\u001b[0m         \u001b[38;5;124m'\u001b[39m\u001b[38;5;124mcrs\u001b[39m\u001b[38;5;124m'\u001b[39m: dst_crs,\n\u001b[0;32m      8\u001b[0m         \u001b[38;5;124m'\u001b[39m\u001b[38;5;124mtransform\u001b[39m\u001b[38;5;124m'\u001b[39m: transform,\n\u001b[0;32m      9\u001b[0m         \u001b[38;5;124m'\u001b[39m\u001b[38;5;124mwidth\u001b[39m\u001b[38;5;124m'\u001b[39m: width,\n\u001b[0;32m     10\u001b[0m         \u001b[38;5;124m'\u001b[39m\u001b[38;5;124mheight\u001b[39m\u001b[38;5;124m'\u001b[39m: height\n\u001b[0;32m     11\u001b[0m     })\n\u001b[0;32m     13\u001b[0m \u001b[38;5;28;01mwith\u001b[39;00m MemoryFile() \u001b[38;5;28;01mas\u001b[39;00m memfile:\n\u001b[1;32m---> 14\u001b[0m     \u001b[38;5;28;01mwith\u001b[39;00m memfile\u001b[38;5;241m.\u001b[39mopen(\u001b[38;5;241m*\u001b[39m\u001b[38;5;241m*\u001b[39mkwargs) \u001b[38;5;28;01mas\u001b[39;00m dst:\n\u001b[0;32m     15\u001b[0m         \u001b[38;5;28;01mfor\u001b[39;00m i \u001b[38;5;129;01min\u001b[39;00m \u001b[38;5;28mrange\u001b[39m(\u001b[38;5;241m1\u001b[39m, src\u001b[38;5;241m.\u001b[39mcount \u001b[38;5;241m+\u001b[39m \u001b[38;5;241m1\u001b[39m):\n\u001b[0;32m     16\u001b[0m             reproject(\n\u001b[0;32m     17\u001b[0m                 source\u001b[38;5;241m=\u001b[39mrasterio\u001b[38;5;241m.\u001b[39mband(src, i),\n\u001b[0;32m     18\u001b[0m                 destination\u001b[38;5;241m=\u001b[39mrasterio\u001b[38;5;241m.\u001b[39mband(dst, i),\n\u001b[1;32m   (...)\u001b[0m\n\u001b[0;32m     22\u001b[0m                 dst_crs\u001b[38;5;241m=\u001b[39mcrs,\n\u001b[0;32m     23\u001b[0m                 resampling\u001b[38;5;241m=\u001b[39mResampling\u001b[38;5;241m.\u001b[39mnearest)\n",
      "File \u001b[1;32m~\\anaconda3\\Lib\\site-packages\\rasterio\\env.py:401\u001b[0m, in \u001b[0;36mensure_env.<locals>.wrapper\u001b[1;34m(*args, **kwds)\u001b[0m\n\u001b[0;32m    399\u001b[0m \u001b[38;5;28;01melse\u001b[39;00m:\n\u001b[0;32m    400\u001b[0m     \u001b[38;5;28;01mwith\u001b[39;00m Env\u001b[38;5;241m.\u001b[39mfrom_defaults():\n\u001b[1;32m--> 401\u001b[0m         \u001b[38;5;28;01mreturn\u001b[39;00m f(\u001b[38;5;241m*\u001b[39margs, \u001b[38;5;241m*\u001b[39m\u001b[38;5;241m*\u001b[39mkwds)\n",
      "File \u001b[1;32m~\\anaconda3\\Lib\\site-packages\\rasterio\\io.py:141\u001b[0m, in \u001b[0;36mMemoryFile.open\u001b[1;34m(self, driver, width, height, count, crs, transform, dtype, nodata, sharing, **kwargs)\u001b[0m\n\u001b[0;32m    139\u001b[0m \u001b[38;5;28;01melse\u001b[39;00m:\n\u001b[0;32m    140\u001b[0m     writer \u001b[38;5;241m=\u001b[39m get_writer_for_driver(driver)\n\u001b[1;32m--> 141\u001b[0m     \u001b[38;5;28;01mreturn\u001b[39;00m writer(\n\u001b[0;32m    142\u001b[0m         mempath,\n\u001b[0;32m    143\u001b[0m         \u001b[38;5;124m\"\u001b[39m\u001b[38;5;124mw+\u001b[39m\u001b[38;5;124m\"\u001b[39m,\n\u001b[0;32m    144\u001b[0m         driver\u001b[38;5;241m=\u001b[39mdriver,\n\u001b[0;32m    145\u001b[0m         width\u001b[38;5;241m=\u001b[39mwidth,\n\u001b[0;32m    146\u001b[0m         height\u001b[38;5;241m=\u001b[39mheight,\n\u001b[0;32m    147\u001b[0m         count\u001b[38;5;241m=\u001b[39mcount,\n\u001b[0;32m    148\u001b[0m         crs\u001b[38;5;241m=\u001b[39mcrs,\n\u001b[0;32m    149\u001b[0m         transform\u001b[38;5;241m=\u001b[39mtransform,\n\u001b[0;32m    150\u001b[0m         dtype\u001b[38;5;241m=\u001b[39mdtype,\n\u001b[0;32m    151\u001b[0m         nodata\u001b[38;5;241m=\u001b[39mnodata,\n\u001b[0;32m    152\u001b[0m         sharing\u001b[38;5;241m=\u001b[39msharing,\n\u001b[0;32m    153\u001b[0m         \u001b[38;5;241m*\u001b[39m\u001b[38;5;241m*\u001b[39mkwargs\n\u001b[0;32m    154\u001b[0m     )\n",
      "File \u001b[1;32mrasterio\\\\_io.pyx:1493\u001b[0m, in \u001b[0;36mrasterio._io.DatasetWriterBase.__init__\u001b[1;34m()\u001b[0m\n",
      "\u001b[1;31mRasterioIOError\u001b[0m: 087dcafe-aed6-46b2-bc15-058294a7d0a4.tif: Free disk space available is 33777467392 bytes, whereas 650362475568 are at least necessary. You can disable this check by defining the CHECK_DISK_FREE_SPACE configuration option to FALSE."
     ]
    }
   ],
   "source": [
    "re = reproject_raster(in_path, dst_crs) as re:\n",
    "    print(re)"
   ]
  },
  {
   "cell_type": "code",
   "execution_count": null,
   "id": "77ff531b-97bf-421e-90fc-923767456447",
   "metadata": {},
   "outputs": [],
   "source": []
  },
  {
   "cell_type": "code",
   "execution_count": null,
   "id": "f00a766f-b23b-438e-ab89-3c4107313085",
   "metadata": {},
   "outputs": [],
   "source": []
  },
  {
   "cell_type": "code",
   "execution_count": null,
   "id": "09a33ac2-1c3c-4520-8c82-8777305b938f",
   "metadata": {},
   "outputs": [],
   "source": []
  },
  {
   "cell_type": "code",
   "execution_count": null,
   "id": "af5c13a8-0222-4cc8-956c-7ab34f0167e1",
   "metadata": {},
   "outputs": [],
   "source": []
  },
  {
   "cell_type": "code",
   "execution_count": null,
   "id": "ce3a79c7-867d-4ae5-be4a-6b5ac5309f75",
   "metadata": {},
   "outputs": [],
   "source": []
  },
  {
   "cell_type": "code",
   "execution_count": null,
   "id": "ca812bab-b5a9-484c-8073-55518b8a12fc",
   "metadata": {},
   "outputs": [],
   "source": []
  },
  {
   "cell_type": "code",
   "execution_count": null,
   "id": "3a8a059f-3933-4be2-bc96-161d6e9a288f",
   "metadata": {},
   "outputs": [],
   "source": []
  },
  {
   "cell_type": "code",
   "execution_count": null,
   "id": "4d678712-c2cf-4d04-875c-3d17d5ca1940",
   "metadata": {},
   "outputs": [],
   "source": []
  },
  {
   "cell_type": "code",
   "execution_count": null,
   "id": "f7091a9f-43cc-483a-98c5-b414dac85493",
   "metadata": {},
   "outputs": [],
   "source": []
  }
 ],
 "metadata": {
  "kernelspec": {
   "display_name": "Python 3 (ipykernel)",
   "language": "python",
   "name": "python3"
  },
  "language_info": {
   "codemirror_mode": {
    "name": "ipython",
    "version": 3
   },
   "file_extension": ".py",
   "mimetype": "text/x-python",
   "name": "python",
   "nbconvert_exporter": "python",
   "pygments_lexer": "ipython3",
   "version": "3.12.4"
  }
 },
 "nbformat": 4,
 "nbformat_minor": 5
}
