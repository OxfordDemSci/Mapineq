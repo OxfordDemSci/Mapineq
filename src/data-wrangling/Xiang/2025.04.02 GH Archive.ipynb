{
 "cells": [
  {
   "cell_type": "code",
   "execution_count": 17,
   "id": "6efcb59b-1608-426d-82fe-04d94455b40b",
   "metadata": {},
   "outputs": [],
   "source": [
    "import json\n",
    "import pandas as pd"
   ]
  },
  {
   "cell_type": "code",
   "execution_count": 55,
   "id": "af01c6b2-b76c-418b-bdbd-d66aec82c3da",
   "metadata": {},
   "outputs": [
    {
     "data": {
      "text/html": [
       "<div>\n",
       "<style scoped>\n",
       "    .dataframe tbody tr th:only-of-type {\n",
       "        vertical-align: middle;\n",
       "    }\n",
       "\n",
       "    .dataframe tbody tr th {\n",
       "        vertical-align: top;\n",
       "    }\n",
       "\n",
       "    .dataframe thead th {\n",
       "        text-align: right;\n",
       "    }\n",
       "</style>\n",
       "<table border=\"1\" class=\"dataframe\">\n",
       "  <thead>\n",
       "    <tr style=\"text-align: right;\">\n",
       "      <th></th>\n",
       "      <th>id</th>\n",
       "      <th>type</th>\n",
       "      <th>actor</th>\n",
       "      <th>repo</th>\n",
       "      <th>payload</th>\n",
       "      <th>public</th>\n",
       "      <th>created_at</th>\n",
       "      <th>org</th>\n",
       "    </tr>\n",
       "  </thead>\n",
       "  <tbody>\n",
       "    <tr>\n",
       "      <th>0</th>\n",
       "      <td>2489582589</td>\n",
       "      <td>WatchEvent</td>\n",
       "      <td>{'id': 1780538, 'login': 'kevinvanhove', 'grav...</td>\n",
       "      <td>{'id': 28624016, 'name': 'kevinvanhove/cssobje...</td>\n",
       "      <td>{'action': 'started'}</td>\n",
       "      <td>True</td>\n",
       "      <td>2015-01-01 12:00:01+00:00</td>\n",
       "      <td>NaN</td>\n",
       "    </tr>\n",
       "    <tr>\n",
       "      <th>1</th>\n",
       "      <td>2489582590</td>\n",
       "      <td>WatchEvent</td>\n",
       "      <td>{'id': 678465, 'login': 'remidewitte', 'gravat...</td>\n",
       "      <td>{'id': 20787122, 'name': 'begriffs/postgrest',...</td>\n",
       "      <td>{'action': 'started'}</td>\n",
       "      <td>True</td>\n",
       "      <td>2015-01-01 12:00:01+00:00</td>\n",
       "      <td>NaN</td>\n",
       "    </tr>\n",
       "    <tr>\n",
       "      <th>2</th>\n",
       "      <td>2489582592</td>\n",
       "      <td>PushEvent</td>\n",
       "      <td>{'id': 1121789, 'login': 'Saisi', 'gravatar_id...</td>\n",
       "      <td>{'id': 25811730, 'name': 'Saisi/secret-octo-wo...</td>\n",
       "      <td>{'push_id': 536834835, 'size': 1, 'distinct_si...</td>\n",
       "      <td>True</td>\n",
       "      <td>2015-01-01 12:00:01+00:00</td>\n",
       "      <td>NaN</td>\n",
       "    </tr>\n",
       "    <tr>\n",
       "      <th>3</th>\n",
       "      <td>2489582593</td>\n",
       "      <td>CreateEvent</td>\n",
       "      <td>{'id': 10254070, 'login': 'ApoorveTyagi', 'gra...</td>\n",
       "      <td>{'id': 28685793, 'name': 'ApoorveTyagi/ATTwoWa...</td>\n",
       "      <td>{'ref': None, 'ref_type': 'repository', 'maste...</td>\n",
       "      <td>True</td>\n",
       "      <td>2015-01-01 12:00:01+00:00</td>\n",
       "      <td>NaN</td>\n",
       "    </tr>\n",
       "    <tr>\n",
       "      <th>4</th>\n",
       "      <td>2489582595</td>\n",
       "      <td>PushEvent</td>\n",
       "      <td>{'id': 4573903, 'login': 'szwacz', 'gravatar_i...</td>\n",
       "      <td>{'id': 12433734, 'name': 'szwacz/sputnik', 'ur...</td>\n",
       "      <td>{'push_id': 536834837, 'size': 6, 'distinct_si...</td>\n",
       "      <td>True</td>\n",
       "      <td>2015-01-01 12:00:01+00:00</td>\n",
       "      <td>NaN</td>\n",
       "    </tr>\n",
       "  </tbody>\n",
       "</table>\n",
       "</div>"
      ],
      "text/plain": [
       "           id         type                                              actor  \\\n",
       "0  2489582589   WatchEvent  {'id': 1780538, 'login': 'kevinvanhove', 'grav...   \n",
       "1  2489582590   WatchEvent  {'id': 678465, 'login': 'remidewitte', 'gravat...   \n",
       "2  2489582592    PushEvent  {'id': 1121789, 'login': 'Saisi', 'gravatar_id...   \n",
       "3  2489582593  CreateEvent  {'id': 10254070, 'login': 'ApoorveTyagi', 'gra...   \n",
       "4  2489582595    PushEvent  {'id': 4573903, 'login': 'szwacz', 'gravatar_i...   \n",
       "\n",
       "                                                repo  \\\n",
       "0  {'id': 28624016, 'name': 'kevinvanhove/cssobje...   \n",
       "1  {'id': 20787122, 'name': 'begriffs/postgrest',...   \n",
       "2  {'id': 25811730, 'name': 'Saisi/secret-octo-wo...   \n",
       "3  {'id': 28685793, 'name': 'ApoorveTyagi/ATTwoWa...   \n",
       "4  {'id': 12433734, 'name': 'szwacz/sputnik', 'ur...   \n",
       "\n",
       "                                             payload  public  \\\n",
       "0                              {'action': 'started'}    True   \n",
       "1                              {'action': 'started'}    True   \n",
       "2  {'push_id': 536834835, 'size': 1, 'distinct_si...    True   \n",
       "3  {'ref': None, 'ref_type': 'repository', 'maste...    True   \n",
       "4  {'push_id': 536834837, 'size': 6, 'distinct_si...    True   \n",
       "\n",
       "                 created_at  org  \n",
       "0 2015-01-01 12:00:01+00:00  NaN  \n",
       "1 2015-01-01 12:00:01+00:00  NaN  \n",
       "2 2015-01-01 12:00:01+00:00  NaN  \n",
       "3 2015-01-01 12:00:01+00:00  NaN  \n",
       "4 2015-01-01 12:00:01+00:00  NaN  "
      ]
     },
     "execution_count": 55,
     "metadata": {},
     "output_type": "execute_result"
    }
   ],
   "source": [
    "archive_df = pd.read_json(r'C:\\Users\\DemSc\\Desktop\\2015-01-01-12.json', lines=True)\n",
    "archive_df.head()"
   ]
  },
  {
   "cell_type": "code",
   "execution_count": 45,
   "id": "4286e93e-f2bd-41ac-a3e3-22f613676c50",
   "metadata": {},
   "outputs": [],
   "source": [
    "b = a[a['type']=='CommitCommentEvent'].loc[14,:]"
   ]
  },
  {
   "cell_type": "code",
   "execution_count": 53,
   "id": "6cc1fee9-0eee-42ca-b72e-d36e739ef998",
   "metadata": {},
   "outputs": [
    {
     "data": {
      "text/plain": [
       "{'id': 16643114,\n",
       " 'name': 'am11/node-sass',\n",
       " 'url': 'https://api.github.com/repos/am11/node-sass'}"
      ]
     },
     "execution_count": 53,
     "metadata": {},
     "output_type": "execute_result"
    }
   ],
   "source": [
    "b['repo']"
   ]
  },
  {
   "cell_type": "code",
   "execution_count": 35,
   "id": "db71e695-86dc-412e-9a7e-3841908cccd2",
   "metadata": {},
   "outputs": [
    {
     "data": {
      "text/plain": [
       "id                                                   2489582589\n",
       "type                                                 WatchEvent\n",
       "actor         {'id': 1780538, 'login': 'kevinvanhove', 'grav...\n",
       "repo          {'id': 28624016, 'name': 'kevinvanhove/cssobje...\n",
       "payload                                   {'action': 'started'}\n",
       "public                                                     True\n",
       "created_at                            2015-01-01 12:00:01+00:00\n",
       "org                                                         NaN\n",
       "Name: 0, dtype: object"
      ]
     },
     "execution_count": 35,
     "metadata": {},
     "output_type": "execute_result"
    }
   ],
   "source": [
    "a.iloc[0,:]"
   ]
  },
  {
   "cell_type": "code",
   "execution_count": 37,
   "id": "3630041a-8d45-4003-b550-4426c95732f8",
   "metadata": {},
   "outputs": [
    {
     "data": {
      "text/plain": [
       "{'id': 1780538,\n",
       " 'login': 'kevinvanhove',\n",
       " 'gravatar_id': '',\n",
       " 'url': 'https://api.github.com/users/kevinvanhove',\n",
       " 'avatar_url': 'https://avatars.githubusercontent.com/u/1780538?'}"
      ]
     },
     "execution_count": 37,
     "metadata": {},
     "output_type": "execute_result"
    }
   ],
   "source": [
    "a.iloc[0,:]['actor']"
   ]
  },
  {
   "cell_type": "code",
   "execution_count": 29,
   "id": "ec1efa99-11ca-4228-a051-d78a88f79554",
   "metadata": {},
   "outputs": [
    {
     "data": {
      "text/plain": [
       "Index(['id', 'type', 'actor', 'repo', 'payload', 'public', 'created_at',\n",
       "       'org'],\n",
       "      dtype='object')"
      ]
     },
     "execution_count": 29,
     "metadata": {},
     "output_type": "execute_result"
    }
   ],
   "source": [
    "a.columns"
   ]
  },
  {
   "cell_type": "code",
   "execution_count": null,
   "id": "127da0c9-a9bf-445f-ac0b-0fe9a54fbfd3",
   "metadata": {},
   "outputs": [],
   "source": []
  },
  {
   "cell_type": "code",
   "execution_count": null,
   "id": "9995af19-6fa6-4bc5-8c90-f0ff943a2ca8",
   "metadata": {},
   "outputs": [],
   "source": []
  },
  {
   "cell_type": "code",
   "execution_count": null,
   "id": "5fbd8b8d-b7e8-45d6-a90b-817ec72fb73d",
   "metadata": {},
   "outputs": [],
   "source": []
  },
  {
   "cell_type": "code",
   "execution_count": null,
   "id": "7db70d41-590b-47ff-ad34-50c6119b66ec",
   "metadata": {},
   "outputs": [],
   "source": []
  },
  {
   "cell_type": "code",
   "execution_count": null,
   "id": "f52dff1a-96de-489b-a3aa-f2af162f01e5",
   "metadata": {},
   "outputs": [],
   "source": []
  },
  {
   "cell_type": "code",
   "execution_count": null,
   "id": "5cad0979-2b02-4b15-a62d-218940963801",
   "metadata": {},
   "outputs": [],
   "source": []
  },
  {
   "cell_type": "code",
   "execution_count": null,
   "id": "bab2047a-0c28-4a20-b0b2-7d573f82a540",
   "metadata": {},
   "outputs": [],
   "source": []
  },
  {
   "cell_type": "code",
   "execution_count": null,
   "id": "a7f98bd2-9891-47f6-91b9-24eaab9aa0d7",
   "metadata": {},
   "outputs": [],
   "source": []
  },
  {
   "cell_type": "code",
   "execution_count": null,
   "id": "916a260a-8ea4-45d3-bf17-32e7091de0d9",
   "metadata": {},
   "outputs": [],
   "source": []
  },
  {
   "cell_type": "code",
   "execution_count": null,
   "id": "460d5ad2-a4b5-481b-8060-4655d4d7305c",
   "metadata": {},
   "outputs": [],
   "source": []
  },
  {
   "cell_type": "code",
   "execution_count": null,
   "id": "73f1266d-55b9-4ccc-b552-4b472e4f20bd",
   "metadata": {},
   "outputs": [],
   "source": []
  },
  {
   "cell_type": "code",
   "execution_count": null,
   "id": "60eca556-c38d-4ad4-a981-044729f21f84",
   "metadata": {},
   "outputs": [],
   "source": []
  },
  {
   "cell_type": "code",
   "execution_count": null,
   "id": "df84901f-317e-41f6-9250-ae5e61972eb4",
   "metadata": {},
   "outputs": [],
   "source": []
  },
  {
   "cell_type": "code",
   "execution_count": null,
   "id": "8fc690d4-3d7b-413f-9983-fb8ee1673455",
   "metadata": {},
   "outputs": [],
   "source": []
  },
  {
   "cell_type": "code",
   "execution_count": null,
   "id": "ba910cc6-a572-4d04-baf4-af653e1b0f0a",
   "metadata": {},
   "outputs": [],
   "source": []
  },
  {
   "cell_type": "code",
   "execution_count": null,
   "id": "fc7f19c9-8b22-46fc-9db4-0a6a80cecff3",
   "metadata": {},
   "outputs": [],
   "source": []
  },
  {
   "cell_type": "code",
   "execution_count": null,
   "id": "10e22d37-9f63-4cc8-9cdd-02d24f0b0a26",
   "metadata": {},
   "outputs": [],
   "source": []
  },
  {
   "cell_type": "code",
   "execution_count": null,
   "id": "63f7cc23-5a23-4527-8e30-12961f1cc69c",
   "metadata": {},
   "outputs": [],
   "source": []
  },
  {
   "cell_type": "code",
   "execution_count": null,
   "id": "d49b3f4c-ea8c-4a98-9802-fc005e3d103b",
   "metadata": {},
   "outputs": [],
   "source": []
  },
  {
   "cell_type": "code",
   "execution_count": null,
   "id": "f4d52ab1-2f0a-425e-9c9d-a692c303631a",
   "metadata": {},
   "outputs": [],
   "source": []
  },
  {
   "cell_type": "code",
   "execution_count": null,
   "id": "1e1d9a2f-bc93-466d-9323-41f7b476abb3",
   "metadata": {},
   "outputs": [],
   "source": []
  },
  {
   "cell_type": "code",
   "execution_count": null,
   "id": "8f63350d-c26e-47ca-a7d1-476258d9aecb",
   "metadata": {},
   "outputs": [],
   "source": []
  },
  {
   "cell_type": "code",
   "execution_count": null,
   "id": "897dc85c-d549-430d-9f2f-2747cd6db249",
   "metadata": {},
   "outputs": [],
   "source": []
  },
  {
   "cell_type": "code",
   "execution_count": null,
   "id": "ff788f4d-7999-48df-8440-f021beedd217",
   "metadata": {},
   "outputs": [],
   "source": []
  },
  {
   "cell_type": "code",
   "execution_count": null,
   "id": "93a4ff31-4e30-485b-a030-fe78b4b759e2",
   "metadata": {},
   "outputs": [],
   "source": []
  },
  {
   "cell_type": "code",
   "execution_count": null,
   "id": "8383c28e-fa1e-447d-b33b-e0c0ac73b8ba",
   "metadata": {},
   "outputs": [],
   "source": []
  },
  {
   "cell_type": "code",
   "execution_count": null,
   "id": "451ba719-ddc9-45b6-8050-d51e32b3cc90",
   "metadata": {},
   "outputs": [],
   "source": []
  },
  {
   "cell_type": "code",
   "execution_count": null,
   "id": "b92202fd-9329-42ff-b1be-ecc530175209",
   "metadata": {},
   "outputs": [],
   "source": []
  },
  {
   "cell_type": "code",
   "execution_count": null,
   "id": "b4affd00-a97a-4657-913f-ff891f2adbc6",
   "metadata": {},
   "outputs": [],
   "source": []
  },
  {
   "cell_type": "code",
   "execution_count": null,
   "id": "a6c68249-7063-457c-8bc4-a2b0740624af",
   "metadata": {},
   "outputs": [],
   "source": []
  },
  {
   "cell_type": "code",
   "execution_count": null,
   "id": "fb7c6cca-4f2e-40d9-8ac2-75703ec9824e",
   "metadata": {},
   "outputs": [],
   "source": []
  },
  {
   "cell_type": "code",
   "execution_count": null,
   "id": "60a1a392-b5fb-47c1-a48b-01d621e3f708",
   "metadata": {},
   "outputs": [],
   "source": []
  },
  {
   "cell_type": "code",
   "execution_count": null,
   "id": "43030262-db42-404d-a947-5cc3322e26e4",
   "metadata": {},
   "outputs": [],
   "source": []
  }
 ],
 "metadata": {
  "kernelspec": {
   "display_name": "Python 3 (ipykernel)",
   "language": "python",
   "name": "python3"
  },
  "language_info": {
   "codemirror_mode": {
    "name": "ipython",
    "version": 3
   },
   "file_extension": ".py",
   "mimetype": "text/x-python",
   "name": "python",
   "nbconvert_exporter": "python",
   "pygments_lexer": "ipython3",
   "version": "3.12.3"
  }
 },
 "nbformat": 4,
 "nbformat_minor": 5
}
