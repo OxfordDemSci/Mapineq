{
 "cells": [
  {
   "cell_type": "code",
   "execution_count": null,
   "id": "03204499-04d4-4c14-81fe-d27e0576c14d",
   "metadata": {},
   "outputs": [],
   "source": [
    "import os\n",
    "import gc\n",
    "from tqdm import tqdm\n",
    "import pandas as pd\n",
    "import geopandas as gpd"
   ]
  },
  {
   "cell_type": "code",
   "execution_count": null,
   "id": "a4c08568-e1eb-4484-89ea-971ff1ffa299",
   "metadata": {},
   "outputs": [],
   "source": [
    "def green_area_by_FUA(read_folder, geo_source, nuts):\n",
    "# This function is to calculate the total green areas and urban areas of each FUA by the nuts boundaries\n",
    "    for folder in tqdm(os.listdir(read_folder)):\n",
    "        # get the country id and ua id of each shp\n",
    "        country_id = folder.split('_')[0][:2]\n",
    "        ua_num = folder.split('_')[0][2:5]\n",
    "    \n",
    "        # read the shp and separate green area from the total area\n",
    "        sub_folder = read_folder + r'/' + folder + r'/' + 'Data' + r'/'\n",
    "        ua = gpd.read_file(sub_folder + os.listdir(sub_folder)[0])\n",
    "        ua.to_crs('EPSG:3035', inplace = True)\n",
    "        green = ua[ua['class_2018']=='Green urban areas']\n",
    "        \n",
    "        # get the total area and total green area of shp that falls within the boundary of NTUS regions in the same country\n",
    "        country_shp = nuts[nuts['NUTS_ID'].str.contains(country_id)]\n",
    "        dict_temp = {}\n",
    "        for subregion_id in country_shp['NUTS_ID']:\n",
    "            subregion = country_shp[country_shp['NUTS_ID']==subregion_id]\n",
    "            Green_temp = gpd.sjoin(green, subregion, how='inner')\n",
    "            Green_temp['shape area'] = Green_temp.area\n",
    "            total_temp = gpd.sjoin(ua, subregion, how='inner')\n",
    "            total_temp['shape area'] = total_temp.area\n",
    "            dict_temp[subregion_id] = [Green_temp['shape area'].sum(),total_temp['shape area'].sum()]\n",
    "    \n",
    "        # record the green and total area and export the dataframe\n",
    "        df_temp = pd.DataFrame([dict_temp]).T\n",
    "        df_temp['green urban area'] = df_temp[0].apply(lambda x: x[0])\n",
    "        df_temp['total functional urban area'] = df_temp[0].apply(lambda x: x[1])\n",
    "        save_folder = '/data/xiang/3-case studies/1-urban atlas' + r'/' + geo_source \n",
    "        if not os.path.exists(save_folder + r'/' + 'FUAs'):\n",
    "            os.makedirs(save_folder + r'/' + 'FUAs')\n",
    "        df_temp[['green urban area','total functional urban area']].to_excel(save_folder + r'/' + 'FUAs' + r'/' + country_id + '_' + ua_num + '.xlsx')\n",
    "\n",
    "        del ua\n",
    "        gc.collect()\n",
    "        \n",
    "    return save_folder"
   ]
  },
  {
   "cell_type": "code",
   "execution_count": null,
   "id": "c80246be-b2e6-4320-90ef-55fdc2c87479",
   "metadata": {},
   "outputs": [],
   "source": [
    "def green_area_by_country(geo_ref_folder):\n",
    "    file_list = os.listdir(geo_ref_folder + r'/' + 'FUAs')\n",
    "    country_set = set([i.split('_')[0] for i in file_list if i.endswith('.xlsx')])\n",
    "    if not os.path.exists(geo_ref_folder + r'/' + 'country merge'):\n",
    "            os.makedirs(geo_ref_folder + r'/' + 'country merge')\n",
    "    for country in country_set:\n",
    "        file_country_list = [i for i in file_list if i.split('_')[0] == country]\n",
    "        df_comb = None\n",
    "        for file in file_country_list:\n",
    "            if file.endswith('.xlsx'):\n",
    "                # for FUAs in the same country, sum the total of green and total areas to each NUTS level\n",
    "                df_temp = pd.read_excel(geo_ref_folder + r'/' + 'FUAs' + r'/' + file, index_col=0)\n",
    "                df_comb = df_temp if df_comb is None else df_comb + df_temp\n",
    "            else:\n",
    "                pass\n",
    "        df_comb.to_excel(geo_ref_folder + r'/' + 'country merge' + r'/' + country + '.xlsx')"
   ]
  },
  {
   "cell_type": "code",
   "execution_count": null,
   "id": "69337732-575d-4e4f-9dae-73069d4de80e",
   "metadata": {},
   "outputs": [],
   "source": [
    "def compile_table(geo_ref_folder, geo_source):\n",
    "    df_concat = None\n",
    "    for file in os.listdir(geo_ref_folder + r'/' + 'country merge'):\n",
    "        df_temp = pd.read_excel(geo_ref_folder + r'/' + 'country merge' + r'/' + file)\n",
    "        df_concat = df_temp if df_concat is None else pd.concat([df_concat, df_temp])\n",
    "    df_concat.columns = ['geo', 'green urban area', 'total functional urban area']\n",
    "    df_concat['fraction green urban area'] = 100*df_concat['green urban area']/df_concat['total functional urban area']\n",
    "    df_concat['obsTime'] = '2018'\n",
    "    df_concat['freq'] = '6 years'\n",
    "    \n",
    "    reshap_df = pd.melt(df_concat, id_vars=['geo', 'freq', 'obsTime'], value_vars = ['green urban area', 'total functional urban area', 'fraction green urban area'], var_name = 'indicator', value_name = 'obsValue')\n",
    "    reshap_df['unit'] = reshap_df['indicator'].apply(lambda x: 'percentage' if x == 'fraction green urban area' else 'square meters')\n",
    "    reshap_df.to_csv(geo_ref_folder + r'/' + 'Urban green area' + geo_source + '.csv')"
   ]
  },
  {
   "cell_type": "code",
   "execution_count": null,
   "id": "2252db03-2784-4d04-bcf5-492c414cbba5",
   "metadata": {},
   "outputs": [],
   "source": [
    "if __name__ == '__main__':\n",
    "    read_folder = '/data/xiang/1-Data/Urban atlas'\n",
    "    nuts_folder = '/data/xiang/1-Data/NUTS/nuts version'\n",
    "    nuts_list = ['NUTS_RG_01M_2021_3035.shp','NUTS_RG_01M_2010_3035.shp', 'NUTS_RG_01M_2006_3035.shp', 'NUTS_RG_01M_2013_3035.shp', 'NUTS_RG_01M_2016_3035.shp', 'NUTS_RG_01M_2003_3035.shp']\n",
    "    for nuts_file in nuts_list:\n",
    "    # for nuts_file in os.listdir(nuts_folder):\n",
    "        if nuts_file.endswith('.shp'):\n",
    "            geo_source = 'NUTS' + nuts_file.split('_')[-2]\n",
    "            nuts_file = nuts_folder + r'/' + nuts_file\n",
    "            nuts = gpd.read_file(nuts_file)\n",
    "            geo_ref_folder = green_area_by_FUA(read_folder, geo_source, nuts)\n",
    "            green_area_by_country(geo_ref_folder)\n",
    "            compile_table(geo_ref_folder, geo_source)"
   ]
  },
  {
   "cell_type": "code",
   "execution_count": null,
   "id": "ba2a8913-e0d3-4475-9e74-6f067a4d9cc8",
   "metadata": {},
   "outputs": [],
   "source": []
  }
 ],
 "metadata": {
  "kernelspec": {
   "display_name": "Python 3 (ipykernel)",
   "language": "python",
   "name": "python3"
  },
  "language_info": {
   "codemirror_mode": {
    "name": "ipython",
    "version": 3
   },
   "file_extension": ".py",
   "mimetype": "text/x-python",
   "name": "python",
   "nbconvert_exporter": "python",
   "pygments_lexer": "ipython3",
   "version": "3.11.6"
  }
 },
 "nbformat": 4,
 "nbformat_minor": 5
}
