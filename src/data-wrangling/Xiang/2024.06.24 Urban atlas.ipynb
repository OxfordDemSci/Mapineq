{
 "cells": [
  {
   "cell_type": "code",
   "execution_count": 1,
   "id": "03204499-04d4-4c14-81fe-d27e0576c14d",
   "metadata": {},
   "outputs": [],
   "source": [
    "import os\n",
    "from tqdm import tqdm\n",
    "import pandas as pd\n",
    "import geopandas as gpd\n",
    "from shapely.geometry import LineString\n",
    "import matplotlib.pyplot as plt"
   ]
  },
  {
   "cell_type": "code",
   "execution_count": 2,
   "id": "c3b9ec9a-d1dc-4afc-9e5d-1c606ac99891",
   "metadata": {},
   "outputs": [],
   "source": [
    "# read nuts shp and enter the path for\n",
    "nuts = gpd.read_file('/data/xiang/1-Data/NUTS/NUTS_RG_01M_2021_3035.shp')\n",
    "read_folder = '/data/xiang/1-Data/Urban atlas'"
   ]
  },
  {
   "cell_type": "code",
   "execution_count": null,
   "id": "09c2cc45-e699-4acc-b820-f9b8a47e1647",
   "metadata": {
    "scrolled": true
   },
   "outputs": [],
   "source": [
    "for folder in os.listdir(read_folder):\n",
    "    # get the country id and ua id of each shp\n",
    "    country_id = folder.split('_')[0][:2]\n",
    "    ua_num = folder.split('_')[0][2:5]\n",
    "\n",
    "    # read the shp and separate green area from the total area\n",
    "    sub_folder = read_folder + r'/' + folder + r'/' + 'Data' + r'/'\n",
    "    ua = gpd.read_file(sub_folder + os.listdir(sub_folder)[0])\n",
    "    ua.to_crs('EPSG:3035', inplace = True)\n",
    "    green = ua[ua['class_2018']=='Green urban areas']\n",
    "    \n",
    "    # get the total area and total green area of shp that falls within the boundary of NTUS regions in the same country\n",
    "    country_shp = nuts[nuts['NUTS_ID'].str.contains(country_id)]\n",
    "    dict_temp = {}\n",
    "    for subregion_id in country_shp['NUTS_ID']:\n",
    "        subregion = country_shp[country_shp['NUTS_ID']==subregion_id]\n",
    "        Green_temp = gpd.sjoin(green, subregion, how='inner')\n",
    "        Green_temp['shape area'] = Green_temp.area\n",
    "        total_temp = gpd.sjoin(ua, subregion, how='inner')\n",
    "        total_temp['shape area'] = total_temp.area\n",
    "        dict_temp[subregion_id] = [Green_temp['shape area'].sum(),total_temp['shape area'].sum()]\n",
    "\n",
    "    # record the green and total area and export the dataframe\n",
    "    df_temp = pd.DataFrame([dict_temp]).T\n",
    "    df_temp['green area'] = df_temp[0].apply(lambda x: x[0])\n",
    "    df_temp['total area'] = df_temp[0].apply(lambda x: x[1])\n",
    "    df_temp[['green area','total area']].to_excel('/data/xiang/3-case studies/1-urban atlas/FUAs' + r'/' + country_id + '_' + ua_num + '.xlsx')"
   ]
  },
  {
   "cell_type": "code",
   "execution_count": null,
   "id": "dce60394-1f21-4596-a6aa-cf3bcfdde633",
   "metadata": {},
   "outputs": [],
   "source": [
    "file_list = os.listdir('/data/xiang/3-case studies/1-urban atlas/FUAs')\n",
    "for country in country_list:\n",
    "    file_country_list = [i for i in file_list if i.split('_')[0] == country]\n",
    "    df_comb = None\n",
    "    for file in file_country_list:\n",
    "        # for FUAs in the same country, sum the total of green and total areas to each NUTS level\n",
    "        df_temp = pd.read_excel('/data/xiang/3-case studies/1-urban atlas/FUAs' + r'/' + file, index_col=0)\n",
    "        df_comb = df_temp if df_comb is None else df_comb + df_temp\n",
    "    df_comb.to_excel('/data/xiang/3-case studies/1-urban atlas/country merge' + r'/' + country + '.xlsx')"
   ]
  },
  {
   "cell_type": "code",
   "execution_count": null,
   "id": "2459d91b-056c-4425-876a-4da517cba9d5",
   "metadata": {},
   "outputs": [],
   "source": [
    "df_concat = None\n",
    "for file in os.listdir('/data/xiang/3-case studies/1-urban atlas/country merge'):\n",
    "    df_temp = pd.read_excel('/data/xiang/3-case studies/1-urban atlas/country merge' + r'/' + file)\n",
    "    df_concat = df_temp if df_concat is None else pd.concat([df_concat, df_temp])"
   ]
  },
  {
   "cell_type": "code",
   "execution_count": null,
   "id": "8535107f-49b6-4de6-b689-9206c076a003",
   "metadata": {
    "scrolled": true
   },
   "outputs": [],
   "source": [
    "df_concat.columns = ['geo', 'obsValue']\n",
    "df_concat['obsTime'] = '2018'\n",
    "df_concat['unit'] = 'square meters'\n",
    "df_concat['freq'] = '6 years'\n",
    "df_concat.to_excel('/data/xiang/3-case studies/1-urban atlas/Urban green area.xlsx')"
   ]
  },
  {
   "cell_type": "code",
   "execution_count": null,
   "id": "20644e81-4daf-474b-89ff-900f8c7a3281",
   "metadata": {},
   "outputs": [],
   "source": [
    "df_concat"
   ]
  },
  {
   "cell_type": "code",
   "execution_count": null,
   "id": "9cf77100-6298-4a1a-b047-c5ad7a59e072",
   "metadata": {},
   "outputs": [],
   "source": []
  },
  {
   "cell_type": "code",
   "execution_count": null,
   "id": "00675cbf-e130-4d41-82c0-5622db0d5dcc",
   "metadata": {},
   "outputs": [],
   "source": []
  },
  {
   "cell_type": "code",
   "execution_count": null,
   "id": "5337028e-ac67-48bb-9577-5e42b4873157",
   "metadata": {},
   "outputs": [],
   "source": []
  },
  {
   "cell_type": "code",
   "execution_count": null,
   "id": "ba372810-66a7-4a68-886e-f898b9291aa6",
   "metadata": {},
   "outputs": [],
   "source": []
  },
  {
   "cell_type": "code",
   "execution_count": null,
   "id": "d5a3f26d-6406-4d9e-98af-b0991db03194",
   "metadata": {},
   "outputs": [],
   "source": []
  },
  {
   "cell_type": "code",
   "execution_count": null,
   "id": "5c6a2296-bc18-4799-a975-f8335da74af8",
   "metadata": {},
   "outputs": [],
   "source": []
  },
  {
   "cell_type": "code",
   "execution_count": null,
   "id": "09b96958-b6a7-4137-a998-8a7e607e2a54",
   "metadata": {},
   "outputs": [],
   "source": []
  },
  {
   "cell_type": "code",
   "execution_count": null,
   "id": "999baf78-5842-43fa-a93e-ebd91cbc2abb",
   "metadata": {},
   "outputs": [],
   "source": []
  },
  {
   "cell_type": "code",
   "execution_count": null,
   "id": "5c32f898-0436-4c49-bc8d-9451e58a2580",
   "metadata": {},
   "outputs": [],
   "source": []
  },
  {
   "cell_type": "code",
   "execution_count": null,
   "id": "78fa59db-e036-4898-aacf-ea8db808f824",
   "metadata": {},
   "outputs": [],
   "source": []
  },
  {
   "cell_type": "code",
   "execution_count": null,
   "id": "0ddfbbed-7f51-4887-bb95-76acd92fefb2",
   "metadata": {},
   "outputs": [],
   "source": []
  },
  {
   "cell_type": "code",
   "execution_count": null,
   "id": "45c70879-c1a2-40a6-810a-2ae1e9c060f8",
   "metadata": {},
   "outputs": [],
   "source": []
  }
 ],
 "metadata": {
  "kernelspec": {
   "display_name": "Python 3 (ipykernel)",
   "language": "python",
   "name": "python3"
  },
  "language_info": {
   "codemirror_mode": {
    "name": "ipython",
    "version": 3
   },
   "file_extension": ".py",
   "mimetype": "text/x-python",
   "name": "python",
   "nbconvert_exporter": "python",
   "pygments_lexer": "ipython3",
   "version": "3.11.6"
  }
 },
 "nbformat": 4,
 "nbformat_minor": 5
}
