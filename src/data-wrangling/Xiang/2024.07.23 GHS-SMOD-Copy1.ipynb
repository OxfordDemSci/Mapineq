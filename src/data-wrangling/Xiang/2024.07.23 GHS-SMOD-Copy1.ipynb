{
 "cells": [
  {
   "cell_type": "code",
   "execution_count": 1,
   "id": "77c3c665-a5ff-49e0-a378-b5b7e028c2a2",
   "metadata": {},
   "outputs": [],
   "source": [
    "import os\n",
    "import gc\n",
    "import rasterio\n",
    "import geopandas as gpd\n",
    "import numpy as np\n",
    "import pandas as pd\n",
    "from tqdm import tqdm\n",
    "from rasterstats import zonal_stats"
   ]
  },
  {
   "cell_type": "code",
   "execution_count": 35,
   "id": "7a6ae903-185d-4661-9764-293f8c60f093",
   "metadata": {},
   "outputs": [],
   "source": [
    "def reclass_reproject_raster(in_path, out_path, dst_crs, settlement_class=23):\n",
    "    with rasterio.open(in_path) as src:\n",
    "        transform, width, height = rasterio.warp.calculate_default_transform(\n",
    "            src.crs, dst_crs, src.width, src.height, *src.bounds)\n",
    "        kwargs = src.meta.copy()\n",
    "        kwargs.update({\n",
    "            'crs': dst_crs,\n",
    "            'transform': transform,\n",
    "            'width': width,\n",
    "            'height': height\n",
    "        })\n",
    "\n",
    "        # keep only those rasters with a lable of settlement_class\n",
    "        a = src.read(1)\n",
    "        new_src = a.copy()\n",
    "        new_src[np.where(a!=settlement_class)]=0\n",
    "        new_src[np.where(a==settlement_class)]=1\n",
    "\n",
    "        with rasterio.open(out_path, 'w', **kwargs) as dst:\n",
    "            rasterio.warp.reproject(\n",
    "                source=new_src,\n",
    "                destination=rasterio.band(dst, 1),\n",
    "                src_transform=src.transform,\n",
    "                src_crs=src.crs,\n",
    "                dst_transform=transform,\n",
    "                dst_crs=dst_crs,\n",
    "                resampling=rasterio.warp.Resampling.nearest)\n"
   ]
  },
  {
   "cell_type": "code",
   "execution_count": 17,
   "id": "f89181e1-98ae-4954-8408-5c7936225a44",
   "metadata": {},
   "outputs": [
    {
     "name": "stderr",
     "output_type": "stream",
     "text": [
      "  0%|                                                                                            | 0/8 [00:00<?, ?it/s]\n",
      "  0%|                                                                                           | 0/31 [00:00<?, ?it/s]\u001b[A\n",
      " 16%|█████████████▍                                                                     | 5/31 [07:00<36:25, 84.04s/it]\u001b[A\n",
      " 32%|██████████████████████████▏                                                      | 10/31 [17:56<39:07, 111.80s/it]\u001b[A\n",
      " 48%|███████████████████████████████████████▏                                         | 15/31 [25:50<27:44, 104.05s/it]\u001b[A\n",
      " 65%|████████████████████████████████████████████████████▉                             | 20/31 [32:31<17:21, 94.66s/it]\u001b[A\n",
      " 81%|██████████████████████████████████████████████████████████████████▏               | 25/31 [40:37<09:33, 95.55s/it]\u001b[A\n",
      "100%|██████████████████████████████████████████████████████████████████████████████████| 31/31 [49:01<00:00, 94.89s/it]\u001b[A\n",
      " 12%|██████████                                                                      | 1/8 [49:01<5:43:10, 2941.53s/it]\n",
      " 13%|██████████▋                                                                        | 4/31 [03:18<22:20, 49.66s/it]\u001b[A\n",
      " 12%|██████████                                                                      | 1/8 [52:20<6:06:21, 3140.16s/it]\n"
     ]
    },
    {
     "ename": "KeyboardInterrupt",
     "evalue": "",
     "output_type": "error",
     "traceback": [
      "\u001b[1;31m---------------------------------------------------------------------------\u001b[0m",
      "\u001b[1;31mKeyboardInterrupt\u001b[0m                         Traceback (most recent call last)",
      "Cell \u001b[1;32mIn[17], line 39\u001b[0m\n\u001b[0;32m     37\u001b[0m \u001b[38;5;28;01mfor\u001b[39;00m tif \u001b[38;5;129;01min\u001b[39;00m os\u001b[38;5;241m.\u001b[39mlistdir(out_folder):\n\u001b[0;32m     38\u001b[0m     \u001b[38;5;28;01mif\u001b[39;00m tif\u001b[38;5;241m.\u001b[39mendswith(\u001b[38;5;124m'\u001b[39m\u001b[38;5;124m.tif\u001b[39m\u001b[38;5;124m'\u001b[39m):\n\u001b[1;32m---> 39\u001b[0m         zs_temp \u001b[38;5;241m=\u001b[39m pd\u001b[38;5;241m.\u001b[39mDataFrame(zonal_stats(nuts_path, out_folder \u001b[38;5;241m+\u001b[39m \u001b[38;5;124m'\u001b[39m\u001b[38;5;130;01m\\\\\u001b[39;00m\u001b[38;5;124m'\u001b[39m \u001b[38;5;241m+\u001b[39m tif, stats\u001b[38;5;241m=\u001b[39m\u001b[38;5;124m\"\u001b[39m\u001b[38;5;124msum\u001b[39m\u001b[38;5;124m\"\u001b[39m))\n\u001b[0;32m     40\u001b[0m         df_temp \u001b[38;5;241m=\u001b[39m pd\u001b[38;5;241m.\u001b[39mmerge(nuts[[\u001b[38;5;124m'\u001b[39m\u001b[38;5;124mNUTS_ID\u001b[39m\u001b[38;5;124m'\u001b[39m]], zs_temp, left_index\u001b[38;5;241m=\u001b[39m\u001b[38;5;28;01mTrue\u001b[39;00m, right_index\u001b[38;5;241m=\u001b[39m\u001b[38;5;28;01mTrue\u001b[39;00m)\n\u001b[0;32m     41\u001b[0m         df_temp\u001b[38;5;241m.\u001b[39mcolumns \u001b[38;5;241m=\u001b[39m [\u001b[38;5;124m'\u001b[39m\u001b[38;5;124mgeo\u001b[39m\u001b[38;5;124m'\u001b[39m,\u001b[38;5;124m'\u001b[39m\u001b[38;5;124mObsValue\u001b[39m\u001b[38;5;124m'\u001b[39m]\n",
      "File \u001b[1;32m~\\anaconda3\\Lib\\site-packages\\rasterstats\\main.py:36\u001b[0m, in \u001b[0;36mzonal_stats\u001b[1;34m(*args, **kwargs)\u001b[0m\n\u001b[0;32m     28\u001b[0m \u001b[38;5;28;01mdef\u001b[39;00m \u001b[38;5;21mzonal_stats\u001b[39m(\u001b[38;5;241m*\u001b[39margs, \u001b[38;5;241m*\u001b[39m\u001b[38;5;241m*\u001b[39mkwargs):\n\u001b[0;32m     29\u001b[0m \u001b[38;5;250m    \u001b[39m\u001b[38;5;124;03m\"\"\"The primary zonal statistics entry point.\u001b[39;00m\n\u001b[0;32m     30\u001b[0m \n\u001b[0;32m     31\u001b[0m \u001b[38;5;124;03m    All arguments are passed directly to ``gen_zonal_stats``.\u001b[39;00m\n\u001b[1;32m   (...)\u001b[0m\n\u001b[0;32m     34\u001b[0m \u001b[38;5;124;03m    The only difference is that ``zonal_stats`` will\u001b[39;00m\n\u001b[0;32m     35\u001b[0m \u001b[38;5;124;03m    return a list rather than a generator.\"\"\"\u001b[39;00m\n\u001b[1;32m---> 36\u001b[0m     \u001b[38;5;28;01mreturn\u001b[39;00m \u001b[38;5;28mlist\u001b[39m(gen_zonal_stats(\u001b[38;5;241m*\u001b[39margs, \u001b[38;5;241m*\u001b[39m\u001b[38;5;241m*\u001b[39mkwargs))\n",
      "File \u001b[1;32m~\\anaconda3\\Lib\\site-packages\\rasterstats\\main.py:171\u001b[0m, in \u001b[0;36mgen_zonal_stats\u001b[1;34m(vectors, raster, layer, band, nodata, affine, stats, all_touched, categorical, category_map, add_stats, zone_func, raster_out, prefix, geojson_out, boundless, **kwargs)\u001b[0m\n\u001b[0;32m    167\u001b[0m     geom \u001b[38;5;241m=\u001b[39m boxify_points(geom, rast)\n\u001b[0;32m    169\u001b[0m geom_bounds \u001b[38;5;241m=\u001b[39m \u001b[38;5;28mtuple\u001b[39m(geom\u001b[38;5;241m.\u001b[39mbounds)\n\u001b[1;32m--> 171\u001b[0m fsrc \u001b[38;5;241m=\u001b[39m rast\u001b[38;5;241m.\u001b[39mread(bounds\u001b[38;5;241m=\u001b[39mgeom_bounds, boundless\u001b[38;5;241m=\u001b[39mboundless)\n\u001b[0;32m    173\u001b[0m \u001b[38;5;66;03m# rasterized geometry\u001b[39;00m\n\u001b[0;32m    174\u001b[0m rv_array \u001b[38;5;241m=\u001b[39m rasterize_geom(geom, like\u001b[38;5;241m=\u001b[39mfsrc, all_touched\u001b[38;5;241m=\u001b[39mall_touched)\n",
      "File \u001b[1;32m~\\anaconda3\\Lib\\site-packages\\rasterstats\\io.py:349\u001b[0m, in \u001b[0;36mRaster.read\u001b[1;34m(self, bounds, window, masked, boundless)\u001b[0m\n\u001b[0;32m    344\u001b[0m             masked \u001b[38;5;241m=\u001b[39m \u001b[38;5;28;01mTrue\u001b[39;00m\n\u001b[0;32m    345\u001b[0m             warnings\u001b[38;5;241m.\u001b[39mwarn(\n\u001b[0;32m    346\u001b[0m                 \u001b[38;5;124m\"\u001b[39m\u001b[38;5;124mSetting masked to True because dataset mask has been detected\u001b[39m\u001b[38;5;124m\"\u001b[39m\n\u001b[0;32m    347\u001b[0m             )\n\u001b[1;32m--> 349\u001b[0m     new_array \u001b[38;5;241m=\u001b[39m \u001b[38;5;28mself\u001b[39m\u001b[38;5;241m.\u001b[39msrc\u001b[38;5;241m.\u001b[39mread(\n\u001b[0;32m    350\u001b[0m         \u001b[38;5;28mself\u001b[39m\u001b[38;5;241m.\u001b[39mband, window\u001b[38;5;241m=\u001b[39mwin, boundless\u001b[38;5;241m=\u001b[39mboundless, masked\u001b[38;5;241m=\u001b[39mmasked\n\u001b[0;32m    351\u001b[0m     )\n\u001b[0;32m    353\u001b[0m \u001b[38;5;28;01mreturn\u001b[39;00m Raster(new_array, new_affine, nodata)\n",
      "File \u001b[1;32mrasterio\\\\_io.pyx:694\u001b[0m, in \u001b[0;36mrasterio._io.DatasetReaderBase.read\u001b[1;34m()\u001b[0m\n",
      "File \u001b[1;32mrasterio\\\\_base.pyx:450\u001b[0m, in \u001b[0;36mrasterio._base.DatasetBase.__exit__\u001b[1;34m()\u001b[0m\n",
      "File \u001b[1;32mrasterio\\\\_base.pyx:441\u001b[0m, in \u001b[0;36mrasterio._base.DatasetBase.close\u001b[1;34m()\u001b[0m\n",
      "File \u001b[1;32m~\\anaconda3\\Lib\\contextlib.py:616\u001b[0m, in \u001b[0;36mExitStack.close\u001b[1;34m(self)\u001b[0m\n\u001b[0;32m    613\u001b[0m             \u001b[38;5;28;01mraise\u001b[39;00m\n\u001b[0;32m    614\u001b[0m     \u001b[38;5;28;01mreturn\u001b[39;00m received_exc \u001b[38;5;129;01mand\u001b[39;00m suppressed_exc\n\u001b[1;32m--> 616\u001b[0m \u001b[38;5;28;01mdef\u001b[39;00m \u001b[38;5;21mclose\u001b[39m(\u001b[38;5;28mself\u001b[39m):\n\u001b[0;32m    617\u001b[0m \u001b[38;5;250m    \u001b[39m\u001b[38;5;124;03m\"\"\"Immediately unwind the context stack.\"\"\"\u001b[39;00m\n\u001b[0;32m    618\u001b[0m     \u001b[38;5;28mself\u001b[39m\u001b[38;5;241m.\u001b[39m\u001b[38;5;21m__exit__\u001b[39m(\u001b[38;5;28;01mNone\u001b[39;00m, \u001b[38;5;28;01mNone\u001b[39;00m, \u001b[38;5;28;01mNone\u001b[39;00m)\n",
      "\u001b[1;31mKeyboardInterrupt\u001b[0m: "
     ]
    }
   ],
   "source": [
    "# Processing GHS-SMOD for NUTs\n",
    "settlement_dict = {30: 'URBAN CENTRE GRID CELL',\n",
    "                   23: 'DENSE URBAN CLUSTER GRID CELL',\n",
    "                   22: 'SEMI-DENSE URBAN CLUSTER GRID CELL',\n",
    "                   21: 'SUBURBAN OR PERI-URBAN GRID CELL',\n",
    "                   13: 'RURAL CLUSTER GRID CELL',\n",
    "                   12: 'LOW DENSITY RURAL GRID CELL',\n",
    "                   11: 'VERY LOW DENSITY RURAL GRID CELL',\n",
    "                   10: 'WATER GRID CELL'}\n",
    "\n",
    "for settlement_class in tqdm(settlement_dict.keys()):\n",
    "    read_root = r'C:\\1-Data\\GHS_SMOD\\raw data'\n",
    "    out_folder = r'C:\\1-Data\\GHS_SMOD\\reclassify_nuts' + '\\\\' + str(settlement_class)\n",
    "    dst_crs = 'EPSG:3035'\n",
    "    indicator = settlement_dict[settlement_class]\n",
    "    if not os.path.exists(out_folder):\n",
    "        os.makedirs(out_folder)\n",
    "\n",
    "    '''\n",
    "    # Reproject and reclass only the files not processed before. This is to avoid replicate work upon interruption and rerunning the script\n",
    "    for folder in tqdm([i for i in os.listdir(read_root) if i not in os.listdir(out_folder)]):\n",
    "        for pop_file in os.listdir(read_root + '\\\\' + folder):\n",
    "            if pop_file.endswith('.tif'):\n",
    "                in_path = read_root + '\\\\' + folder + '\\\\' + pop_file\n",
    "                out_path = out_folder + '\\\\' + pop_file\n",
    "                reclass_reproject_raster(in_path, out_path, dst_crs)\n",
    "    '''\n",
    "\n",
    "    # Zonal statistics looping all years of NUTS regions\n",
    "    nuts_folder = r'C:\\1-Data\\NUTS'\n",
    "    for nuts_file in tqdm(os.listdir(nuts_folder)):\n",
    "        if nuts_file.endswith('.shp'):\n",
    "            nuts_path = nuts_folder + '\\\\' + nuts_file\n",
    "            nuts = gpd.read_file(nuts_path)\n",
    "            nuts_year = nuts_file.split('_')[-2]\n",
    "            df_comb = None\n",
    "            for tif in os.listdir(out_folder):\n",
    "                if tif.endswith('.tif'):\n",
    "                    zs_temp = pd.DataFrame(zonal_stats(nuts_path, out_folder + '\\\\' + tif, stats=\"sum\"))\n",
    "                    df_temp = pd.merge(nuts[['NUTS_ID']], zs_temp, left_index=True, right_index=True)\n",
    "                    df_temp.columns = ['geo','ObsValue']\n",
    "                    df_temp['Indicator'] = indicator\n",
    "                    df_temp['freq'] = '5 year'\n",
    "                    df_temp['ObsTime'] = tif.split('_')[2][1:]\n",
    "                    df_temp['unit'] = 'km2'\n",
    "                    df_comb = df_temp if df_comb is None else pd.concat([df_comb, df_temp])\n",
    "            geo_source = 'NUTS' + nuts_year\n",
    "            df_comb['geo_source'] = geo_source\n",
    "            df_comb.set_index('geo').to_csv(r'C:\\2-Case studies\\GHS_SMOD\\GHS_SMOD_' + geo_source + '_' + indicator + '.csv') \n"
   ]
  },
  {
   "cell_type": "code",
   "execution_count": null,
   "id": "4253d1c9-41cf-4706-a6af-f2e4938e7f73",
   "metadata": {},
   "outputs": [],
   "source": []
  },
  {
   "cell_type": "code",
   "execution_count": null,
   "id": "2454ee9e-fab1-467d-9ee6-9f3e4ec7a63b",
   "metadata": {},
   "outputs": [],
   "source": []
  }
 ],
 "metadata": {
  "kernelspec": {
   "display_name": "Python 3 (ipykernel)",
   "language": "python",
   "name": "python3"
  },
  "language_info": {
   "codemirror_mode": {
    "name": "ipython",
    "version": 3
   },
   "file_extension": ".py",
   "mimetype": "text/x-python",
   "name": "python",
   "nbconvert_exporter": "python",
   "pygments_lexer": "ipython3",
   "version": "3.12.3"
  }
 },
 "nbformat": 4,
 "nbformat_minor": 5
}
