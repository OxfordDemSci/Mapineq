{
 "cells": [
  {
   "cell_type": "code",
   "execution_count": 5,
   "id": "ad6f01e6",
   "metadata": {},
   "outputs": [],
   "source": [
    "import psycopg2\n",
    "import pandas as pd\n",
    "import geopandas as gpd\n",
    "from sqlalchemy import create_engine"
   ]
  },
  {
   "cell_type": "code",
   "execution_count": null,
   "id": "598bf02d",
   "metadata": {},
   "outputs": [],
   "source": [
    "Type: PostgreSQL\n",
    "Host: 15.236.82.244\n",
    "Port: 5432\n",
    "Database: mapineq\n",
    "User: postgres\n",
    "Password: Fni7fUqnbXzEURcf"
   ]
  },
  {
   "cell_type": "code",
   "execution_count": 6,
   "id": "87473b14",
   "metadata": {},
   "outputs": [],
   "source": [
    "user = 'postgres'\n",
    "password = 'Fni7fUqnbXzEURcf'\n",
    "host = '15.236.82.244'\n",
    "database_name = 'mapineq'\n",
    "engine = create_engine('postgresql://%s:%s@%s/%s'%(user,password,host,database_name))"
   ]
  },
  {
   "cell_type": "code",
   "execution_count": null,
   "id": "b5897bd3",
   "metadata": {},
   "outputs": [],
   "source": []
  },
  {
   "cell_type": "code",
   "execution_count": null,
   "id": "f9cffdfd",
   "metadata": {},
   "outputs": [],
   "source": []
  }
 ],
 "metadata": {
  "kernelspec": {
   "display_name": "Python 3 (ipykernel)",
   "language": "python",
   "name": "python3"
  },
  "language_info": {
   "codemirror_mode": {
    "name": "ipython",
    "version": 3
   },
   "file_extension": ".py",
   "mimetype": "text/x-python",
   "name": "python",
   "nbconvert_exporter": "python",
   "pygments_lexer": "ipython3",
   "version": "3.11.5"
  }
 },
 "nbformat": 4,
 "nbformat_minor": 5
}
