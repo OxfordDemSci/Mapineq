{
 "cells": [
  {
   "cell_type": "code",
   "execution_count": 1,
   "id": "02860533",
   "metadata": {},
   "outputs": [],
   "source": [
    "import os\n",
    "import numpy as np\n",
    "import netCDF4 as nc\n",
    "import geopandas as gpd\n",
    "from tqdm import tqdm\n",
    "import rasterio\n",
    "from osgeo import gdal, osr\n",
    "from rasterstats import zonal_stats"
   ]
  },
  {
   "cell_type": "markdown",
   "id": "a01fcd1f",
   "metadata": {},
   "source": [
    "# 1. Convert NC to raster"
   ]
  },
  {
   "cell_type": "code",
   "execution_count": 2,
   "id": "7ceb06e1",
   "metadata": {},
   "outputs": [],
   "source": [
    "def nc_to_geotiff(read_path, save_path):\n",
    "    nc_file = nc.Dataset(read_path)\n",
    "    lat = nc_file.variables['latitude'][:]\n",
    "    lon = nc_file.variables['longitude'][:]\n",
    "    PM25 = np.asanyarray(nc_file.variables['PM25'])\n",
    "\n",
    "    # get the spatial range of the netcdf\n",
    "    Lonmin, Latmax, Lonmax, Latmin = [lon.min(), lat.max(), lon.max(), lat.min()]\n",
    "\n",
    "    # calculate the resolution\n",
    "    Num_lat = len(lat)\n",
    "    Num_lon = len(lon)\n",
    "    Lat_res = (Latmax - Latmin) / (float(Num_lat) - 1)\n",
    "    Lon_res = (Lonmax - Lonmin) / (float(Num_lon) - 1)\n",
    "\n",
    "    # create the tif file and save it into the virtual file system in memory\n",
    "    driver = gdal.GetDriverByName('GTiff')\n",
    "    out_tif = driver.Create('/vsimem/PM25.tif', Num_lon, Num_lat, 1, gdal.GDT_Float32)\n",
    "\n",
    "    # set the spatial range of the tif file\n",
    "    geotransform = (Lonmin, Lon_res, 0.0, Latmax, 0.0, -Lat_res)\n",
    "    out_tif.SetGeoTransform(geotransform)\n",
    "\n",
    "    # set the projection system\n",
    "    prj = osr.SpatialReference()\n",
    "    prj.ImportFromEPSG(4326)\n",
    "    out_tif.SetProjection(prj.ExportToWkt())\n",
    "\n",
    "    # check is the data are flipped and correct the data if yes\n",
    "    if lat[0] <= lat[-1]: \n",
    "        PM25 = PM25[::-1]\n",
    "    else:\n",
    "        pass\n",
    "\n",
    "    # write data into tif and close the file\n",
    "    out_tif.GetRasterBand(1).WriteArray(PM25)\n",
    "    # transform the projection to 3035 and save\n",
    "    gdal.Warp(save_path, out_tif, srcSRS='EPSG:4326', dstSRS='EPSG:3035')\n",
    "    out_tif.FlushCache() \n",
    "    out_tif = None"
   ]
  },
  {
   "cell_type": "code",
   "execution_count": null,
   "id": "f09e6520-f063-4544-8b63-b34451850842",
   "metadata": {},
   "outputs": [
    {
     "name": "stderr",
     "output_type": "stream",
     "text": [
      "  0%|                                                    | 0/25 [00:00<?, ?it/s]"
     ]
    }
   ],
   "source": [
    "read_folder = '/data/xiang/1-Data/PM2.5/netcdf'\n",
    "save_folder = '/data/xiang/1-Data/PM2.5/raster'\n",
    "\n",
    "if __name__ == '__main__':\n",
    "    for netc in tqdm(os.listdir(read_folder)):\n",
    "        if netc.endswith('.nc'):\n",
    "            read_path = read_folder + r'/' + netc\n",
    "            save_path = save_folder + r'/' + netc[:-2] + '.tif'\n",
    "            nc_to_geotiff(read_path, save_path)"
   ]
  },
  {
   "cell_type": "markdown",
   "id": "eb5418e3",
   "metadata": {},
   "source": [
    "# 2. Zonal statistics"
   ]
  },
  {
   "cell_type": "code",
   "execution_count": 1,
   "id": "ca12099e",
   "metadata": {
    "scrolled": true
   },
   "outputs": [
    {
     "ename": "NameError",
     "evalue": "name 'gpd' is not defined",
     "output_type": "error",
     "traceback": [
      "\u001b[0;31m---------------------------------------------------------------------------\u001b[0m",
      "\u001b[0;31mNameError\u001b[0m                                 Traceback (most recent call last)",
      "Cell \u001b[0;32mIn[1], line 2\u001b[0m\n\u001b[1;32m      1\u001b[0m \u001b[38;5;66;03m# read nuts shp and PM2.5 raster data\u001b[39;00m\n\u001b[0;32m----> 2\u001b[0m nuts \u001b[38;5;241m=\u001b[39m gpd\u001b[38;5;241m.\u001b[39mread_file(\u001b[38;5;124m'\u001b[39m\u001b[38;5;124m/data/xiang/1-Data/NUTS/eu.shp\u001b[39m\u001b[38;5;124m'\u001b[39m)\n\u001b[1;32m      3\u001b[0m PM_ras \u001b[38;5;241m=\u001b[39m rasterio\u001b[38;5;241m.\u001b[39mopen(\u001b[38;5;124m'\u001b[39m\u001b[38;5;124m/data/xiang/1-Data/PM2.5/raster/V6G02_2009.tif\u001b[39m\u001b[38;5;124m'\u001b[39m)\n",
      "\u001b[0;31mNameError\u001b[0m: name 'gpd' is not defined"
     ]
    }
   ],
   "source": [
    "# read nuts shp and PM2.5 raster data\n",
    "nuts = gpd.read_file('/data/xiang/1-Data/NUTS/eu.shp')\n",
    "PM_ras = rasterio.open('/data/xiang/1-Data/PM2.5/raster/V6G02_2009.tif')"
   ]
  },
  {
   "cell_type": "code",
   "execution_count": 9,
   "id": "dd1ea6b8",
   "metadata": {},
   "outputs": [
    {
     "data": {
      "text/plain": [
       "\u001b[0;31mSignature:\u001b[0m\n",
       "\u001b[0mrasterio\u001b[0m\u001b[0;34m.\u001b[0m\u001b[0mwarp\u001b[0m\u001b[0;34m.\u001b[0m\u001b[0mreproject\u001b[0m\u001b[0;34m(\u001b[0m\u001b[0;34m\u001b[0m\n",
       "\u001b[0;34m\u001b[0m    \u001b[0msource\u001b[0m\u001b[0;34m,\u001b[0m\u001b[0;34m\u001b[0m\n",
       "\u001b[0;34m\u001b[0m    \u001b[0mdestination\u001b[0m\u001b[0;34m=\u001b[0m\u001b[0;32mNone\u001b[0m\u001b[0;34m,\u001b[0m\u001b[0;34m\u001b[0m\n",
       "\u001b[0;34m\u001b[0m    \u001b[0msrc_transform\u001b[0m\u001b[0;34m=\u001b[0m\u001b[0;32mNone\u001b[0m\u001b[0;34m,\u001b[0m\u001b[0;34m\u001b[0m\n",
       "\u001b[0;34m\u001b[0m    \u001b[0mgcps\u001b[0m\u001b[0;34m=\u001b[0m\u001b[0;32mNone\u001b[0m\u001b[0;34m,\u001b[0m\u001b[0;34m\u001b[0m\n",
       "\u001b[0;34m\u001b[0m    \u001b[0mrpcs\u001b[0m\u001b[0;34m=\u001b[0m\u001b[0;32mNone\u001b[0m\u001b[0;34m,\u001b[0m\u001b[0;34m\u001b[0m\n",
       "\u001b[0;34m\u001b[0m    \u001b[0msrc_crs\u001b[0m\u001b[0;34m=\u001b[0m\u001b[0;32mNone\u001b[0m\u001b[0;34m,\u001b[0m\u001b[0;34m\u001b[0m\n",
       "\u001b[0;34m\u001b[0m    \u001b[0msrc_nodata\u001b[0m\u001b[0;34m=\u001b[0m\u001b[0;32mNone\u001b[0m\u001b[0;34m,\u001b[0m\u001b[0;34m\u001b[0m\n",
       "\u001b[0;34m\u001b[0m    \u001b[0mdst_transform\u001b[0m\u001b[0;34m=\u001b[0m\u001b[0;32mNone\u001b[0m\u001b[0;34m,\u001b[0m\u001b[0;34m\u001b[0m\n",
       "\u001b[0;34m\u001b[0m    \u001b[0mdst_crs\u001b[0m\u001b[0;34m=\u001b[0m\u001b[0;32mNone\u001b[0m\u001b[0;34m,\u001b[0m\u001b[0;34m\u001b[0m\n",
       "\u001b[0;34m\u001b[0m    \u001b[0mdst_nodata\u001b[0m\u001b[0;34m=\u001b[0m\u001b[0;32mNone\u001b[0m\u001b[0;34m,\u001b[0m\u001b[0;34m\u001b[0m\n",
       "\u001b[0;34m\u001b[0m    \u001b[0mdst_resolution\u001b[0m\u001b[0;34m=\u001b[0m\u001b[0;32mNone\u001b[0m\u001b[0;34m,\u001b[0m\u001b[0;34m\u001b[0m\n",
       "\u001b[0;34m\u001b[0m    \u001b[0msrc_alpha\u001b[0m\u001b[0;34m=\u001b[0m\u001b[0;36m0\u001b[0m\u001b[0;34m,\u001b[0m\u001b[0;34m\u001b[0m\n",
       "\u001b[0;34m\u001b[0m    \u001b[0mdst_alpha\u001b[0m\u001b[0;34m=\u001b[0m\u001b[0;36m0\u001b[0m\u001b[0;34m,\u001b[0m\u001b[0;34m\u001b[0m\n",
       "\u001b[0;34m\u001b[0m    \u001b[0mresampling\u001b[0m\u001b[0;34m=\u001b[0m\u001b[0;34m<\u001b[0m\u001b[0mResampling\u001b[0m\u001b[0;34m.\u001b[0m\u001b[0mnearest\u001b[0m\u001b[0;34m:\u001b[0m \u001b[0;36m0\u001b[0m\u001b[0;34m>\u001b[0m\u001b[0;34m,\u001b[0m\u001b[0;34m\u001b[0m\n",
       "\u001b[0;34m\u001b[0m    \u001b[0mnum_threads\u001b[0m\u001b[0;34m=\u001b[0m\u001b[0;36m1\u001b[0m\u001b[0;34m,\u001b[0m\u001b[0;34m\u001b[0m\n",
       "\u001b[0;34m\u001b[0m    \u001b[0minit_dest_nodata\u001b[0m\u001b[0;34m=\u001b[0m\u001b[0;32mTrue\u001b[0m\u001b[0;34m,\u001b[0m\u001b[0;34m\u001b[0m\n",
       "\u001b[0;34m\u001b[0m    \u001b[0mwarp_mem_limit\u001b[0m\u001b[0;34m=\u001b[0m\u001b[0;36m0\u001b[0m\u001b[0;34m,\u001b[0m\u001b[0;34m\u001b[0m\n",
       "\u001b[0;34m\u001b[0m    \u001b[0;34m**\u001b[0m\u001b[0mkwargs\u001b[0m\u001b[0;34m,\u001b[0m\u001b[0;34m\u001b[0m\n",
       "\u001b[0;34m\u001b[0m\u001b[0;34m)\u001b[0m\u001b[0;34m\u001b[0m\u001b[0;34m\u001b[0m\u001b[0m\n",
       "\u001b[0;31mDocstring:\u001b[0m\n",
       "Reproject a source raster to a destination raster.\n",
       "\n",
       "If the source and destination are ndarrays, coordinate reference\n",
       "system definitions and affine transformation parameters or ground\n",
       "control points (gcps) are required for reprojection.\n",
       "\n",
       "If the source and destination are rasterio Bands, shorthand for\n",
       "bands of datasets on disk, the coordinate reference systems and\n",
       "transforms or GCPs will be read from the appropriate datasets.\n",
       "\n",
       "Parameters\n",
       "------------\n",
       "source: ndarray or Band\n",
       "    The source is a 2 or 3-D ndarray, or a single or a multiple\n",
       "    Rasterio Band object. The dimensionality of source\n",
       "    and destination must match, i.e., for multiband reprojection\n",
       "    the lengths of the first axes of the source and destination\n",
       "    must be the same.\n",
       "destination: ndarray or Band, optional\n",
       "    The destination is a 2 or 3-D ndarray, or a single or a multiple\n",
       "    Rasterio Band object. The dimensionality of source\n",
       "    and destination must match, i.e., for multiband reprojection\n",
       "    the lengths of the first axes of the source and destination\n",
       "    must be the same.\n",
       "src_transform: affine.Affine(), optional\n",
       "    Source affine transformation. Required if source and\n",
       "    destination are ndarrays. Will be derived from source if it is\n",
       "    a rasterio Band. An error will be raised if this parameter is\n",
       "    defined together with gcps.\n",
       "gcps: sequence of GroundControlPoint, optional\n",
       "    Ground control points for the source. An error will be raised\n",
       "    if this parameter is defined together with src_transform or rpcs.\n",
       "rpcs: RPC or dict, optional\n",
       "    Rational polynomial coefficients for the source. An error will\n",
       "    be raised if this parameter is defined together with src_transform\n",
       "    or gcps.\n",
       "src_crs: CRS or dict, optional\n",
       "    Source coordinate reference system, in rasterio dict format.\n",
       "    Required if source and destination are ndarrays.\n",
       "    Will be derived from source if it is a rasterio Band.\n",
       "    Example: CRS({'init': 'EPSG:4326'})\n",
       "src_nodata: int or float, optional\n",
       "    The source nodata value. Pixels with this value will not be\n",
       "    used for interpolation. If not set, it will default to the\n",
       "    nodata value of the source image if a masked ndarray or\n",
       "    rasterio band, if available.\n",
       "dst_transform: affine.Affine(), optional\n",
       "    Target affine transformation. Required if source and\n",
       "    destination are ndarrays. Will be derived from target if it is\n",
       "    a rasterio Band.\n",
       "dst_crs: CRS or dict, optional\n",
       "    Target coordinate reference system. Required if source and\n",
       "    destination are ndarrays. Will be derived from target if it\n",
       "    is a rasterio Band.\n",
       "dst_nodata: int or float, optional\n",
       "    The nodata value used to initialize the destination; it will\n",
       "    remain in all areas not covered by the reprojected source.\n",
       "    Defaults to the nodata value of the destination image (if set),\n",
       "    the value of src_nodata, or 0 (GDAL default).\n",
       "dst_resolution: tuple (x resolution, y resolution) or float, optional\n",
       "    Target resolution, in units of target coordinate reference\n",
       "    system.\n",
       "src_alpha : int, optional\n",
       "    Index of a band to use as the alpha band when warping.\n",
       "dst_alpha : int, optional\n",
       "    Index of a band to use as the alpha band when warping.\n",
       "resampling: int, rasterio.enums.Resampling\n",
       "    Resampling method to use.\n",
       "    Default is :attr:`rasterio.enums.Resampling.nearest`.\n",
       "    An exception will be raised for a method not supported by the running\n",
       "    version of GDAL.\n",
       "num_threads : int, optional\n",
       "    The number of warp worker threads. Default: 1.\n",
       "init_dest_nodata: bool\n",
       "    Flag to specify initialization of nodata in destination;\n",
       "    prevents overwrite of previous warps. Defaults to True.\n",
       "warp_mem_limit : int, optional\n",
       "    The warp operation memory limit in MB. Larger values allow the\n",
       "    warp operation to be carried out in fewer chunks. The amount of\n",
       "    memory required to warp a 3-band uint8 2000 row x 2000 col\n",
       "    raster to a destination of the same size is approximately\n",
       "    56 MB. The default (0) means 64 MB with GDAL 2.2.\n",
       "kwargs:  dict, optional\n",
       "    Additional arguments passed to both the image to image\n",
       "    transformer :cpp:func:`GDALCreateGenImgProjTransformer2` (for example,\n",
       "    MAX_GCP_ORDER=2) and the :cpp:struct:`GDALWarpOptions` (for example,\n",
       "    INIT_DEST=NO_DATA).\n",
       "\n",
       "Returns\n",
       "---------\n",
       "destination: ndarray or Band\n",
       "    The transformed narray or Band.\n",
       "dst_transform: Affine\n",
       "    THe affine transformation matrix of the destination.\n",
       "\u001b[0;31mFile:\u001b[0m      ~/ENTER/lib/python3.11/site-packages/rasterio/warp.py\n",
       "\u001b[0;31mType:\u001b[0m      function"
      ]
     },
     "metadata": {},
     "output_type": "display_data"
    }
   ],
   "source": [
    "rasterio.warp.reproject?"
   ]
  },
  {
   "cell_type": "code",
   "execution_count": null,
   "id": "4e5a1c0a",
   "metadata": {},
   "outputs": [],
   "source": [
    "zonal_stats(nuts, PM_ras, stats='mean')"
   ]
  },
  {
   "cell_type": "code",
   "execution_count": null,
   "id": "b6a99c88",
   "metadata": {},
   "outputs": [],
   "source": []
  },
  {
   "cell_type": "code",
   "execution_count": null,
   "id": "90da3cbc",
   "metadata": {},
   "outputs": [],
   "source": []
  },
  {
   "cell_type": "code",
   "execution_count": null,
   "id": "f2096099",
   "metadata": {},
   "outputs": [],
   "source": []
  },
  {
   "cell_type": "code",
   "execution_count": null,
   "id": "95d6e7e2",
   "metadata": {},
   "outputs": [],
   "source": []
  },
  {
   "cell_type": "code",
   "execution_count": null,
   "id": "2724d949",
   "metadata": {},
   "outputs": [],
   "source": []
  },
  {
   "cell_type": "code",
   "execution_count": null,
   "id": "4a8a8b12",
   "metadata": {},
   "outputs": [],
   "source": []
  },
  {
   "cell_type": "code",
   "execution_count": null,
   "id": "2200c8b4",
   "metadata": {},
   "outputs": [],
   "source": []
  },
  {
   "cell_type": "code",
   "execution_count": null,
   "id": "cecc050b",
   "metadata": {},
   "outputs": [],
   "source": []
  },
  {
   "cell_type": "code",
   "execution_count": null,
   "id": "9fed28a6",
   "metadata": {},
   "outputs": [],
   "source": []
  },
  {
   "cell_type": "code",
   "execution_count": null,
   "id": "33ad1173",
   "metadata": {},
   "outputs": [],
   "source": []
  },
  {
   "cell_type": "code",
   "execution_count": null,
   "id": "0949c4a3",
   "metadata": {},
   "outputs": [],
   "source": []
  },
  {
   "cell_type": "code",
   "execution_count": null,
   "id": "354e0121",
   "metadata": {},
   "outputs": [],
   "source": []
  },
  {
   "cell_type": "code",
   "execution_count": null,
   "id": "19c5a086",
   "metadata": {},
   "outputs": [],
   "source": []
  },
  {
   "cell_type": "code",
   "execution_count": null,
   "id": "d41c663a",
   "metadata": {},
   "outputs": [],
   "source": []
  },
  {
   "cell_type": "code",
   "execution_count": null,
   "id": "d62928b3",
   "metadata": {},
   "outputs": [],
   "source": []
  },
  {
   "cell_type": "code",
   "execution_count": null,
   "id": "d6d1ddc0",
   "metadata": {},
   "outputs": [],
   "source": []
  },
  {
   "cell_type": "code",
   "execution_count": null,
   "id": "0c2ad4c8",
   "metadata": {},
   "outputs": [],
   "source": []
  },
  {
   "cell_type": "code",
   "execution_count": null,
   "id": "48808d56",
   "metadata": {},
   "outputs": [],
   "source": []
  },
  {
   "cell_type": "code",
   "execution_count": null,
   "id": "eee0976f",
   "metadata": {},
   "outputs": [],
   "source": []
  },
  {
   "cell_type": "code",
   "execution_count": null,
   "id": "f6c87f4d",
   "metadata": {},
   "outputs": [],
   "source": []
  },
  {
   "cell_type": "code",
   "execution_count": null,
   "id": "28644a33",
   "metadata": {},
   "outputs": [],
   "source": []
  },
  {
   "cell_type": "code",
   "execution_count": null,
   "id": "605715fa",
   "metadata": {},
   "outputs": [],
   "source": []
  }
 ],
 "metadata": {
  "kernelspec": {
   "display_name": "Python 3 (ipykernel)",
   "language": "python",
   "name": "python3"
  },
  "language_info": {
   "codemirror_mode": {
    "name": "ipython",
    "version": 3
   },
   "file_extension": ".py",
   "mimetype": "text/x-python",
   "name": "python",
   "nbconvert_exporter": "python",
   "pygments_lexer": "ipython3",
   "version": "3.11.6"
  }
 },
 "nbformat": 4,
 "nbformat_minor": 5
}
