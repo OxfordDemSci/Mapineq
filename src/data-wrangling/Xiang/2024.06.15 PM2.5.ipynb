{
 "cells": [
  {
   "cell_type": "code",
   "execution_count": 2,
   "id": "02860533",
   "metadata": {},
   "outputs": [],
   "source": [
    "import os\n",
    "import netCDF4 as nc\n",
    "import geopandas as gpd\n",
    "import rasterio\n",
    "from osgeo import gdal, osr\n",
    "from rasterstats import zonal_stats"
   ]
  },
  {
   "cell_type": "markdown",
   "id": "a01fcd1f",
   "metadata": {},
   "source": [
    "# 1. Convert NC to raster"
   ]
  },
  {
   "cell_type": "code",
   "execution_count": 18,
   "id": "7ceb06e1",
   "metadata": {},
   "outputs": [],
   "source": [
    "def nc_to_geotiff(read_path, save_path):\n",
    "    nc_file = nc.Dataset(read_path)\n",
    "    lat = nc_file.variables['latitude'][:]\n",
    "    lon = nc_file.variables['longitude'][:]\n",
    "    PM25 = np.asanyarray(nc_file.variables['PM25'])\n",
    "\n",
    "    # get the spatial range of the netcdf\n",
    "    Lonmin, Latmax, Lonmax, Latmin = [lon.min(), lat.max(), lon.max(), lat.min()]\n",
    "\n",
    "    # calculate the resolution\n",
    "    Num_lat = len(lat)\n",
    "    Num_lon = len(lon)\n",
    "    Lat_res = (Latmax - Latmin) / (float(Num_lat) - 1)\n",
    "    Lon_res = (Lonmax - Lonmin) / (float(Num_lon) - 1)\n",
    "\n",
    "    # create the tif file and save it into the virtual file system in memory\n",
    "    driver = gdal.GetDriverByName('GTiff')\n",
    "    out_tif = driver.Create('/vsimem/PM25.tif', Num_lon, Num_lat, 1, gdal.GDT_Float32)\n",
    "\n",
    "    # set the spatial range of the tif file\n",
    "    geotransform = (Lonmin, Lon_res, 0.0, Latmax, 0.0, -Lat_res)\n",
    "    out_tif.SetGeoTransform(geotransform)\n",
    "\n",
    "    # set the projection system\n",
    "    prj = osr.SpatialReference()\n",
    "    prj.ImportFromEPSG(4326)\n",
    "    out_tif.SetProjection(prj.ExportToWkt())\n",
    "\n",
    "    # check is the data are flipped and correct the data if yes\n",
    "    if lat[0] <= lat[-1]: \n",
    "        PM25 = PM25[::-1]\n",
    "    else:\n",
    "        pass\n",
    "\n",
    "    # write data into tif and close the file\n",
    "    out_tif.GetRasterBand(1).WriteArray(PM25)\n",
    "    # transform the projection to 3035 and save\n",
    "    gdal.Warp(save_path, out_tif, srcSRS='EPSG:4326', dstSRS='EPSG:3035')\n",
    "    out_tif.FlushCache() \n",
    "    out_tif = None"
   ]
  },
  {
   "cell_type": "code",
   "execution_count": 19,
   "id": "c89dd3d1",
   "metadata": {},
   "outputs": [],
   "source": [
    "read_path = r'D:\\OneDrive - Nexus365\\1-Oxford\\1 - Oxford Uni related\\7 - Services\\2024.05.20 Mapineq\\0-data\\PM2.5\\V6GL02-a.CNNPM25.Global.201901-201912.nc'\n",
    "save_path = r'D:\\OneDrive - Nexus365\\1-Oxford\\1 - Oxford Uni related\\7 - Services\\2024.05.20 Mapineq\\0-data\\PM2.5\\V6G02_2019.tif'\n",
    "if __name__ == '__main__':\n",
    "    nc_to_geotiff(read_path, save_path)"
   ]
  },
  {
   "cell_type": "markdown",
   "id": "eb5418e3",
   "metadata": {},
   "source": [
    "# 2. Zonal statistics"
   ]
  },
  {
   "cell_type": "code",
   "execution_count": 3,
   "id": "ca12099e",
   "metadata": {},
   "outputs": [],
   "source": [
    "# read nuts shp and PM2.5 raster data\n",
    "nuts = gpd.read_file(r'D:\\OneDrive - Nexus365\\1-Oxford\\1 - Oxford Uni related\\7 - Services\\2024.05.20 Mapineq\\0-data\\NUTS\\NUTS_RG_01M_2021_3035\\NUTS_RG_01M_2021_3035.shp')\n",
    "PM_ras = rasterio.open(r'D:\\OneDrive - Nexus365\\1-Oxford\\1 - Oxford Uni related\\7 - Services\\2024.05.20 Mapineq\\0-data\\PM2.5\\V6G02_2019.tif')"
   ]
  },
  {
   "cell_type": "code",
   "execution_count": null,
   "id": "81704560",
   "metadata": {},
   "outputs": [],
   "source": [
    "zonal_stats(nuts, PM_ras, stats='mean')"
   ]
  },
  {
   "cell_type": "code",
   "execution_count": null,
   "id": "967330fe",
   "metadata": {},
   "outputs": [],
   "source": []
  },
  {
   "cell_type": "code",
   "execution_count": null,
   "id": "dd1ea6b8",
   "metadata": {},
   "outputs": [],
   "source": []
  },
  {
   "cell_type": "code",
   "execution_count": null,
   "id": "4e5a1c0a",
   "metadata": {},
   "outputs": [],
   "source": []
  },
  {
   "cell_type": "code",
   "execution_count": null,
   "id": "b6a99c88",
   "metadata": {},
   "outputs": [],
   "source": []
  },
  {
   "cell_type": "code",
   "execution_count": null,
   "id": "90da3cbc",
   "metadata": {},
   "outputs": [],
   "source": []
  },
  {
   "cell_type": "code",
   "execution_count": null,
   "id": "f2096099",
   "metadata": {},
   "outputs": [],
   "source": []
  },
  {
   "cell_type": "code",
   "execution_count": null,
   "id": "95d6e7e2",
   "metadata": {},
   "outputs": [],
   "source": []
  },
  {
   "cell_type": "code",
   "execution_count": null,
   "id": "2724d949",
   "metadata": {},
   "outputs": [],
   "source": []
  },
  {
   "cell_type": "code",
   "execution_count": null,
   "id": "4a8a8b12",
   "metadata": {},
   "outputs": [],
   "source": []
  },
  {
   "cell_type": "code",
   "execution_count": null,
   "id": "2200c8b4",
   "metadata": {},
   "outputs": [],
   "source": []
  },
  {
   "cell_type": "code",
   "execution_count": null,
   "id": "cecc050b",
   "metadata": {},
   "outputs": [],
   "source": []
  },
  {
   "cell_type": "code",
   "execution_count": null,
   "id": "9fed28a6",
   "metadata": {},
   "outputs": [],
   "source": []
  },
  {
   "cell_type": "code",
   "execution_count": null,
   "id": "33ad1173",
   "metadata": {},
   "outputs": [],
   "source": []
  },
  {
   "cell_type": "code",
   "execution_count": null,
   "id": "0949c4a3",
   "metadata": {},
   "outputs": [],
   "source": []
  },
  {
   "cell_type": "code",
   "execution_count": null,
   "id": "354e0121",
   "metadata": {},
   "outputs": [],
   "source": []
  },
  {
   "cell_type": "code",
   "execution_count": null,
   "id": "19c5a086",
   "metadata": {},
   "outputs": [],
   "source": []
  },
  {
   "cell_type": "code",
   "execution_count": null,
   "id": "d41c663a",
   "metadata": {},
   "outputs": [],
   "source": []
  },
  {
   "cell_type": "code",
   "execution_count": null,
   "id": "d62928b3",
   "metadata": {},
   "outputs": [],
   "source": []
  },
  {
   "cell_type": "code",
   "execution_count": null,
   "id": "d6d1ddc0",
   "metadata": {},
   "outputs": [],
   "source": []
  },
  {
   "cell_type": "code",
   "execution_count": null,
   "id": "0c2ad4c8",
   "metadata": {},
   "outputs": [],
   "source": []
  },
  {
   "cell_type": "code",
   "execution_count": null,
   "id": "48808d56",
   "metadata": {},
   "outputs": [],
   "source": []
  },
  {
   "cell_type": "code",
   "execution_count": null,
   "id": "eee0976f",
   "metadata": {},
   "outputs": [],
   "source": []
  },
  {
   "cell_type": "code",
   "execution_count": null,
   "id": "f6c87f4d",
   "metadata": {},
   "outputs": [],
   "source": []
  },
  {
   "cell_type": "code",
   "execution_count": null,
   "id": "28644a33",
   "metadata": {},
   "outputs": [],
   "source": []
  },
  {
   "cell_type": "code",
   "execution_count": null,
   "id": "605715fa",
   "metadata": {},
   "outputs": [],
   "source": []
  }
 ],
 "metadata": {
  "kernelspec": {
   "display_name": "Python 3 (ipykernel)",
   "language": "python",
   "name": "python3"
  },
  "language_info": {
   "codemirror_mode": {
    "name": "ipython",
    "version": 3
   },
   "file_extension": ".py",
   "mimetype": "text/x-python",
   "name": "python",
   "nbconvert_exporter": "python",
   "pygments_lexer": "ipython3",
   "version": "3.11.5"
  }
 },
 "nbformat": 4,
 "nbformat_minor": 5
}
