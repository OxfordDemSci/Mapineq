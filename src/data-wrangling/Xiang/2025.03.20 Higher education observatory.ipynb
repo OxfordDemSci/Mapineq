{
 "cells": [
  {
   "cell_type": "code",
   "execution_count": 1,
   "id": "260ded43",
   "metadata": {},
   "outputs": [],
   "source": [
    "import os\n",
    "import gc\n",
    "import rasterio\n",
    "import geopandas as gpd\n",
    "import numpy as np\n",
    "import pandas as pd\n",
    "from tqdm import tqdm\n",
    "from osgeo import gdal"
   ]
  },
  {
   "cell_type": "code",
   "execution_count": 9,
   "id": "8f437516-8a2e-4d76-a5df-5b1a3aa877e8",
   "metadata": {},
   "outputs": [
    {
     "name": "stderr",
     "output_type": "stream",
     "text": [
      "100%|██████████████████████████████████████████████████████████████████████████████████| 11/11 [03:28<00:00, 18.95s/it]\n"
     ]
    }
   ],
   "source": [
    "# get the name, lon and lat of unique institutions, and summarise the ratio of valid data for each column (attribtue)\n",
    "read_folder = r'C:\\1-Data\\higher education'\n",
    "len_all = 0\n",
    "dict_attribute = {}\n",
    "df_institute_comb = None\n",
    "for file in tqdm(os.listdir(read_folder)):\n",
    "    df = pd.read_excel(read_folder + '\\\\' + file)\n",
    "    len_all += len(df)\n",
    "    df_institute_temp = df[df.columns[:5]]\n",
    "    df_institute_comb = df_institute_temp if df_institute_comb is None else pd.concat([df_institute_comb, df_institute_temp])\n",
    "    \n",
    "    for column in df.columns[5:]:\n",
    "        len_valid = df[column].apply(lambda x: str(x).replace('.', '', 1).isdigit()).sum()\n",
    "        if column in dict_attribute.keys():\n",
    "            dict_attribute[column] += len_valid\n",
    "        else:\n",
    "            dict_attribute[column] = len_valid\n",
    "        "
   ]
  },
  {
   "cell_type": "code",
   "execution_count": 114,
   "id": "28f93788",
   "metadata": {},
   "outputs": [],
   "source": [
    "# divide the number of valid data by the total number to get the ratio\n",
    "df_attribute = pd.DataFrame([dict_attribute]).T\n",
    "df_attribute.columns = ['ratio of valid data']\n",
    "df_attribute['ratio of valid data'] = df_attribute['ratio of valid data']/len_all\n",
    "df_attribute.to_excel(r'C:\\1-Data\\higher education indicators.xlsx')"
   ]
  },
  {
   "cell_type": "code",
   "execution_count": 29,
   "id": "35ddb118-a230-4a86-ac6a-62b4541a38bb",
   "metadata": {},
   "outputs": [],
   "source": [
    "# # save the df of unique institutes \n",
    "# df_institute_unique = df_institute_comb.drop_duplicates(subset='ETER ID')\n",
    "# df_institute_unique.to_excel(r'C:\\1-Data\\higher education\\unique_institutes0.xlsx')"
   ]
  },
  {
   "cell_type": "code",
   "execution_count": 3,
   "id": "09fd7024-75ec-48a5-8897-918864cb3fbf",
   "metadata": {
    "scrolled": true
   },
   "outputs": [],
   "source": [
    "# import list of unique institutes with missing lon and lat of institutes manually added\n",
    "df_institute_unique = pd.read_excel(r'C:\\1-Data\\higher education\\unique_institutes.xlsx', index_col=0)\n",
    "df_institute_unique.rename(columns={'Geographic coordinates - latitude':'lat', \n",
    "                                    'Geographic coordinates - longitude':'lon'}, inplace=True)\n",
    "# import the list of kept indicators\n",
    "df_kept_indicators = pd.read_excel(r'C:\\1-Data\\higher education' + '\\\\' + 'higher education indicators.xlsx', sheet_name='keep', index_col=0)"
   ]
  },
  {
   "cell_type": "code",
   "execution_count": null,
   "id": "f4ab9998-ec24-44c2-8cfc-5679b1c6f74f",
   "metadata": {},
   "outputs": [
    {
     "name": "stderr",
     "output_type": "stream",
     "text": [
      "  0%|                                                                                            | 0/7 [00:00<?, ?it/s]\n",
      "  0%|                                                                                           | 0/11 [00:00<?, ?it/s]\u001b[A"
     ]
    }
   ],
   "source": [
    "read_folder = r'C:\\1-Data\\higher education'\n",
    "temp_folder = r'C:\\2-Case studies\\Higher Education Observatory\\temp'\n",
    "nuts_folder = r'C:\\1-Data\\NUTS'\n",
    "years = [2003, 2006, 2010, 2013, 2016, 2021, 2024]\n",
    "for year in tqdm(years):\n",
    "    nuts = gpd.read_file(nuts_folder + '\\\\' + 'NUTS_RG_01M_' + str(year) + '_3035.shp')\n",
    "    \n",
    "    for ObsTime in tqdm(range(2011, 2022)):\n",
    "        read_path = read_folder + '\\\\' + str(ObsTime) + '.xlsx'\n",
    "        df_raw_institute = pd.read_excel(read_path, index_col=0)\n",
    "        # append lon and lat data from df_institute_uniqe (because some lon and lat data are missing in raw data),\n",
    "        # and convert raw data of each year to shp\n",
    "        df_raw_institute = pd.merge(df_raw_institute, df_institute_unique[['ETER ID', 'lat', 'lon']], how='left', on='ETER ID')\n",
    "        gdf_raw_institute = gpd.GeoDataFrame(df_raw_institute, geometry=gpd.points_from_xy(df_raw_institute.lon, df_raw_institute.lat),\n",
    "                                    crs=\"EPSG:4326\").to_crs('EPSG:3035')\n",
    "        # spatial join nuts region and raw data of institutes\n",
    "        gdf_joined = gpd.sjoin(gdf_raw_institute, nuts[['NUTS_ID', 'geometry']], how=\"left\", predicate='within')\n",
    "    \n",
    "        # for each indicator, get the sum and export the df to a temp folder\n",
    "        for indicator in df_kept_indicators.index:\n",
    "            gdf_joined[indicator] = pd.to_numeric(gdf_joined[indicator], errors='coerce')\n",
    "            grouped_sum = pd.DataFrame(gdf_joined.groupby('NUTS_ID')[indicator].sum()).reset_index()\n",
    "            grouped_sum.columns = ['geo', 'ObsValue']\n",
    "            grouped_sum['geo_source'] = 'NUTS' + str(year)\n",
    "            grouped_sum['Indicator'] = indicator\n",
    "            grouped_sum['freq'] = 'year'\n",
    "            grouped_sum['ObsTime'] = ObsTime\n",
    "            grouped_sum['Unit'] = 'See indicator'\n",
    "            grouped_sum.to_csv(temp_folder + '\\\\' + indicator + '_' + str(ObsTime) + '_NUTS' + str(year) + '.csv')"
   ]
  },
  {
   "cell_type": "code",
   "execution_count": null,
   "id": "9255ad25",
   "metadata": {},
   "outputs": [],
   "source": []
  },
  {
   "cell_type": "code",
   "execution_count": null,
   "id": "ea7d95b8",
   "metadata": {},
   "outputs": [],
   "source": []
  },
  {
   "cell_type": "code",
   "execution_count": null,
   "id": "9266d3bc",
   "metadata": {},
   "outputs": [],
   "source": []
  },
  {
   "cell_type": "code",
   "execution_count": null,
   "id": "11c2470e",
   "metadata": {},
   "outputs": [],
   "source": []
  },
  {
   "cell_type": "code",
   "execution_count": null,
   "id": "c3933dd7",
   "metadata": {},
   "outputs": [],
   "source": []
  },
  {
   "cell_type": "code",
   "execution_count": null,
   "id": "99c5cf76",
   "metadata": {},
   "outputs": [],
   "source": []
  },
  {
   "cell_type": "code",
   "execution_count": null,
   "id": "ecb4ba14",
   "metadata": {},
   "outputs": [],
   "source": []
  },
  {
   "cell_type": "code",
   "execution_count": null,
   "id": "d72dd747",
   "metadata": {},
   "outputs": [],
   "source": []
  },
  {
   "cell_type": "code",
   "execution_count": null,
   "id": "313ed277",
   "metadata": {},
   "outputs": [],
   "source": []
  },
  {
   "cell_type": "code",
   "execution_count": null,
   "id": "2448637e",
   "metadata": {},
   "outputs": [],
   "source": []
  },
  {
   "cell_type": "code",
   "execution_count": null,
   "id": "1ca83ddd",
   "metadata": {},
   "outputs": [],
   "source": []
  },
  {
   "cell_type": "code",
   "execution_count": null,
   "id": "a0863f29",
   "metadata": {},
   "outputs": [],
   "source": []
  }
 ],
 "metadata": {
  "kernelspec": {
   "display_name": "Python 3 (ipykernel)",
   "language": "python",
   "name": "python3"
  },
  "language_info": {
   "codemirror_mode": {
    "name": "ipython",
    "version": 3
   },
   "file_extension": ".py",
   "mimetype": "text/x-python",
   "name": "python",
   "nbconvert_exporter": "python",
   "pygments_lexer": "ipython3",
   "version": "3.12.3"
  }
 },
 "nbformat": 4,
 "nbformat_minor": 5
}
