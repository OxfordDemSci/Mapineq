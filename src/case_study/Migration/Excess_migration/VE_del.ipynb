{
 "cells": [
  {
   "cell_type": "markdown",
   "id": "3f6f731c-f854-4f01-ae1b-77c4db35c2ee",
   "metadata": {},
   "source": [
    "paper: https://link.springer.com/article/10.1007/s11111-024-00452-9#Sec10\n",
    "\n",
    "Prophet: https://facebook.github.io/prophet/docs/quick_start.html#python-api  \n",
    "github: https://github.com/facebook/prophet  "
   ]
  },
  {
   "cell_type": "markdown",
   "id": "599c0648-1b44-4fdd-ac28-7a2dca3f43aa",
   "metadata": {},
   "source": [
    "| **Year**    | **Country/Region** | **Event / Policy**                     | **Migration Impact**                                                 |\n",
    "| ----------- | ------------------ | -------------------------------------- | -------------------------------------------------------------------- |\n",
    "| **2019**    | Argentina          | Severe financial crisis; inflation 54% | Argentinians start emigrating; fewer Venezuelans choose Argentina    |\n",
    "|             | Venezuela          | Hyperinflation + shortages             | Mass exodus (\\~4M migrants)                                          |\n",
    "|             | Chile/Peru/Ecuador | Visa rules tighten                     | Venezuelan migration shifts patterns                                 |\n",
    "|             | US–Mexico          | MPP (“Remain in Mexico”)               | Slows U.S. asylum, traps many                                        |\n",
    "| **2020**    | Regional           | COVID closures                         | Migration slows temporarily                                          |\n",
    "|             | U.S.               | Title 42 begins                        | Migrant expulsions surge                                             |\n",
    "| **2021 Q1** | Colombia           | TPS regularization for Venezuelans     | Encourages local settlement                                          |\n",
    "| **2021 Q2** | Chile              | New immigration law (April)            | Triggers Venezuelan & Haitian outflows                               |\n",
    "| **2021 Q3** | Haiti              | Assassination + earthquake             | Haitian migration peaks                                              |\n",
    "| **2022 Q1** | Argentina          | Inflation accelerates (\\~55%)          | Argentinians emigrate; Venezuelans in Argentina begin leaving        |\n",
    "| **2022 Q3** | Ecuador            | Venezuelan regularization              | Slows outflow temporarily                                            |\n",
    "| **2022 Q4** | US–Mexico          | Title 42 expanded to Venezuelans       | Thousands stranded in Mexico                                         |\n",
    "|             | Argentina          | Inflation \\~95%, IMF tensions          | Argentinian emigration accelerates sharply                           |"
   ]
  },
  {
   "cell_type": "code",
   "execution_count": null,
   "id": "90b70c56-e8d6-4c03-be23-30b25ad5d075",
   "metadata": {},
   "outputs": [],
   "source": [
    "import os\n",
    "import gc\n",
    "import numpy as np\n",
    "import pandas as pd\n",
    "from tqdm import tqdm\n",
    "from pathlib import Path\n",
    "\n",
    "# Geospatial\n",
    "import geopandas as gpd\n",
    "import dask_geopandas as dgpd\n",
    "import rasterio\n",
    "from rasterstats import zonal_stats\n",
    "from osgeo import gdal, osr\n",
    "\n",
    "# Statistics & Bayesian modeling\n",
    "import pymc as pm\n",
    "import arviz as az\n",
    "\n",
    "# Visualisation\n",
    "import seaborn as sns\n",
    "import matplotlib.pyplot as plt\n",
    "import plotly.express as px\n",
    "\n",
    "# Base directories\n",
    "BASE_DIR = Path(\"/Users/wenlanzhang/PycharmProjects/Mapineq/src/\")\n",
    "DATA_DIR = Path(\"/Users/wenlanzhang/Downloads/PhD_UCL/Data/Oxford\")\n",
    "\n",
    "country_list = ['CL', 'BR', 'ES', 'PE', 'US', 'EC', 'AR'] # 'CO', "
   ]
  },
  {
   "cell_type": "code",
   "execution_count": null,
   "id": "44228045-5569-4a17-af6d-234a54c849c1",
   "metadata": {},
   "outputs": [],
   "source": [
    "df = pd.read_csv(DATA_DIR/f\"Migration/international_migration_flow.csv\") \n",
    "df['year'] = pd.to_datetime(df['migration_month']).dt.year\n",
    "df['month'] = pd.to_datetime(df['migration_month']).dt.month\n",
    "df[\"migration_month\"] = pd.to_datetime(df[\"migration_month\"])\n",
    "\n",
    "# Define the mapping of old codes to new codes\n",
    "country_code_mapping = {\n",
    "    'GR': 'EL',  # Greece (GR → EL)\n",
    "    'GB': 'UK'   # United Kingdom (GB → UK)\n",
    "}\n",
    "\n",
    "# Apply the replacement to both columns\n",
    "df['country_from'] = df['country_from'].replace(country_code_mapping)\n",
    "df['country_to'] = df['country_to'].replace(country_code_mapping)\n",
    "\n",
    "df\n",
    "# len(df['country_from'].unique())"
   ]
  },
  {
   "cell_type": "markdown",
   "id": "7e1377ca-7af9-4809-a364-794126ccf741",
   "metadata": {},
   "source": [
    "# VE "
   ]
  },
  {
   "cell_type": "markdown",
   "id": "6eeca219-ea41-452e-99e1-d6de4e790691",
   "metadata": {},
   "source": [
    "## VE "
   ]
  },
  {
   "cell_type": "code",
   "execution_count": null,
   "id": "4388db7e-2bc7-4ffe-ba22-43f957b24247",
   "metadata": {},
   "outputs": [],
   "source": [
    "df_ve_in = df[(df['country_to'] == 'VE') & (df['num_migrants'] != 0)]\n",
    "df_ve_out = df[(df['country_from'] == 'VE') & (df['num_migrants'] != 0)]"
   ]
  },
  {
   "cell_type": "code",
   "execution_count": null,
   "id": "1bb4ee13-9edc-42ef-8a3f-907fc0b0bcf2",
   "metadata": {
    "scrolled": true
   },
   "outputs": [],
   "source": [
    "# df_ve_in\n",
    "fig = px.line(\n",
    "    df_ve_in,\n",
    "    x=\"migration_month\",\n",
    "    y=\"num_migrants\",\n",
    "    color=\"country_from\", \n",
    "    markers=True,\n",
    "    title=\"Migrants to VE Over Time\"\n",
    ")\n",
    "\n",
    "fig.update_layout(\n",
    "    xaxis_title=\"Month\",\n",
    "    yaxis_title=\"Number of Migrants\",\n",
    "    legend_title=\"From Country\"\n",
    ")\n",
    "\n",
    "fig.show()"
   ]
  },
  {
   "cell_type": "code",
   "execution_count": null,
   "id": "fdc9bdbe-02f3-4b06-8f06-0fa38bdc6ac1",
   "metadata": {},
   "outputs": [],
   "source": [
    "# df_ve_out\n",
    "fig = px.line(\n",
    "    df_ve_out,\n",
    "    # filtered_df,\n",
    "    x=\"migration_month\",\n",
    "    y=\"num_migrants\",\n",
    "    color=\"country_to\", \n",
    "    markers=True,\n",
    "    title=\"Migrants from VE Over Time\"\n",
    ")\n",
    "\n",
    "fig.update_layout(\n",
    "    xaxis_title=\"Month\",\n",
    "    yaxis_title=\"Number of Migrants\",\n",
    "    legend_title=\"To Country\"\n",
    ")\n",
    "\n",
    "fig.show()"
   ]
  },
  {
   "cell_type": "markdown",
   "id": "de7e95fb-7b17-4189-8207-029742adc445",
   "metadata": {
    "jp-MarkdownHeadingCollapsed": true
   },
   "source": [
    "## Haiti"
   ]
  },
  {
   "cell_type": "code",
   "execution_count": null,
   "id": "6d82eca8-200f-43b4-ba80-b100347b291b",
   "metadata": {},
   "outputs": [],
   "source": [
    "df_HT_in = df[(df['country_to'] == 'HT') & (df['num_migrants'] != 0)]\n",
    "df_HT_out = df[(df['country_from'] == 'HT') & (df['num_migrants'] != 0)]"
   ]
  },
  {
   "cell_type": "code",
   "execution_count": null,
   "id": "0f754d0c-db08-4699-82d6-44010f5ce6e1",
   "metadata": {},
   "outputs": [],
   "source": [
    "# df_HT_in\n",
    "fig = px.line(\n",
    "    df_HT_in,\n",
    "    x=\"migration_month\",\n",
    "    y=\"num_migrants\",\n",
    "    color=\"country_from\", \n",
    "    markers=True,\n",
    "    title=\"Migrants to HT Over Time\"\n",
    ")\n",
    "\n",
    "fig.update_layout(\n",
    "    xaxis_title=\"Month\",\n",
    "    yaxis_title=\"Number of Migrants\",\n",
    "    legend_title=\"From Country\"\n",
    ")\n",
    "\n",
    "fig.show()"
   ]
  },
  {
   "cell_type": "code",
   "execution_count": null,
   "id": "34fda086-50a5-4db3-8cf4-790917241c72",
   "metadata": {},
   "outputs": [],
   "source": [
    "# df_HT_out\n",
    "fig = px.line(\n",
    "    df_HT_out,\n",
    "    x=\"migration_month\",\n",
    "    y=\"num_migrants\",\n",
    "    color=\"country_to\", \n",
    "    markers=True,\n",
    "    title=\"Migrants from HT Over Time\"\n",
    ")\n",
    "\n",
    "fig.update_layout(\n",
    "    xaxis_title=\"Month\",\n",
    "    yaxis_title=\"Number of Migrants\",\n",
    "    legend_title=\"To Country\"\n",
    ")\n",
    "\n",
    "fig.show()"
   ]
  },
  {
   "cell_type": "markdown",
   "id": "5d01ffa4-609d-424f-a5f4-54a65f2defab",
   "metadata": {
    "jp-MarkdownHeadingCollapsed": true
   },
   "source": [
    "## AR"
   ]
  },
  {
   "cell_type": "code",
   "execution_count": null,
   "id": "cc76af43-0766-47e3-a720-0e9e0d3ee47b",
   "metadata": {},
   "outputs": [],
   "source": [
    "df_AR_in = df[(df['country_to'] == 'AR') & (df['num_migrants'] != 0)]\n",
    "df_AR_out = df[(df['country_from'] == 'AR') & (df['num_migrants'] != 0)]"
   ]
  },
  {
   "cell_type": "code",
   "execution_count": null,
   "id": "426ca401-bf7a-447e-be73-a2fea6a42eaf",
   "metadata": {
    "scrolled": true
   },
   "outputs": [],
   "source": [
    "# df_AR_in\n",
    "fig = px.line(\n",
    "    df_AR_in,\n",
    "    x=\"migration_month\",\n",
    "    y=\"num_migrants\",\n",
    "    color=\"country_from\", \n",
    "    markers=True,\n",
    "    title=\"Migrants to AR Over Time\"\n",
    ")\n",
    "\n",
    "fig.update_layout(\n",
    "    xaxis_title=\"Month\",\n",
    "    yaxis_title=\"Number of Migrants\",\n",
    "    legend_title=\"From Country\"\n",
    ")\n",
    "\n",
    "fig.show()"
   ]
  },
  {
   "cell_type": "code",
   "execution_count": null,
   "id": "a74aea68-f439-4ed1-8308-680e66b880e5",
   "metadata": {},
   "outputs": [],
   "source": [
    "# df_AR_out\n",
    "fig = px.line(\n",
    "    df_AR_out,\n",
    "    x=\"migration_month\",\n",
    "    y=\"num_migrants\",\n",
    "    color=\"country_to\", \n",
    "    markers=True,\n",
    "    title=\"Migrants from AR Over Time\"\n",
    ")\n",
    "\n",
    "fig.update_layout(\n",
    "    xaxis_title=\"Month\",\n",
    "    yaxis_title=\"Number of Migrants\",\n",
    "    legend_title=\"To Country\"\n",
    ")\n",
    "\n",
    "fig.show()"
   ]
  },
  {
   "cell_type": "code",
   "execution_count": null,
   "id": "ecc64cd4-286c-4111-8ed6-3ca980ff0dfd",
   "metadata": {},
   "outputs": [],
   "source": []
  },
  {
   "cell_type": "markdown",
   "id": "a3c41586-4a65-4464-8ca3-6d1eac4a45b6",
   "metadata": {},
   "source": [
    "# Importing "
   ]
  },
  {
   "cell_type": "markdown",
   "id": "9a3d53d8-f17d-4d3b-b4e5-632c160879c8",
   "metadata": {},
   "source": [
    "## CO"
   ]
  },
  {
   "cell_type": "markdown",
   "id": "670bf7c7-4985-4e20-b7fd-4c831fe94185",
   "metadata": {},
   "source": [
    "| **Date**         | **Policy Change**                                                                                                   | **Impact on VE Migration**                                                                                                                                                                                                                                             |                                                                                   |\n",
    "| ---------------- | ------------------------------------------------------------------------------------------------------------------- | ---------------------------------------------------------------------------------------------------------------------------------------------------------------------------------------------------------------------------------------------------------------------- | --------------------------------------------------------------------------------- |\n",
    "| **January 2019** | Colombia imposed entry bans on individuals with close ties to the Maduro regime, including high-ranking officials.  | This measure targeted specific individuals rather than the general Venezuelan population, aiming to restrict the entry of regime-linked figures. It did not directly affect the broader flow of Venezuelan migrants.                                                   |                                                                                   |\n",
    "| **August 2020**  | Launch of the Temporary Protection Statute (TPS) for Venezuelan migrants.                                           | The TPS provided legal status to undocumented Venezuelan migrants, granting them work permits, access to healthcare, and education. This initiative aimed to regularize the status of Venezuelans residing in Colombia and facilitate their integration into society.  |                                                                                   |\n",
    "| **October 2021** | Initiation of the Single Registry of Venezuelan Migrants (RUMV).                                                    | The RUMV was established to collect data on Venezuelan migrants in Colombia, aiding in the implementation of the TPS and other support measures. It helped identify the needs and vulnerabilities of the migrant population.                                           |                                                                                   |\n",
    "| **May 2022**     | Deadline for Venezuelan migrants to register under the TPS.                                                         | Migrants who registered by this date were granted legal status, enabling them to access various services and protections. Those who failed to register faced potential legal challenges and limited access to support.                                                 |                                                                                   |\n",
    "| **October 2022** | Introduction of the PEP-Tutor program.                                                                              | The PEP-Tutor provided legal status to guardians of Venezuelan children already residing in Colombia, facilitating family reunification and support. It aimed to regularize the status of caregivers and ensure the well-being of minors.                              | ([Wikipedia][1], [UNDP][2], [Wikipedia][3], [The World Bank][4], [as-coa.org][5]) |\n",
    "\n",
    "[1]: https://en.wikipedia.org/wiki/Sanctions_during_the_Venezuelan_crisis?utm_source=chatgpt.com \"Sanctions during the Venezuelan crisis\"\n",
    "[2]: https://www.undp.org/sites/g/files/zskgke326/files/2022-11/PNUDLAC-working-paper-34-Colombia-EN.pdf?utm_source=chatgpt.com \"[PDF] Migration in Colombia and Public Policy Responses\"\n",
    "[3]: https://en.wikipedia.org/wiki/Venezuelan_refugee_crisis?utm_source=chatgpt.com \"Venezuelan refugee crisis\"\n",
    "[4]: https://thedocs.worldbank.org/en/doc/7277e925bdaa64d6355c42c897721299-0050062023/original/WDR-Colombia-Case-Study-FORMATTED.pdf?utm_source=chatgpt.com \"[PDF] Colombia case study of migration from Venezuela - The World Bank\"\n",
    "[5]: https://www.as-coa.org/articles/explainer-venezuelan-migration-policy-americas?utm_source=chatgpt.com \"Explainer: Venezuelan Migration Policy in the Americas - AS/COA\"\n"
   ]
  },
  {
   "cell_type": "markdown",
   "id": "e558186b-1a62-4739-9241-bb98dd531db5",
   "metadata": {},
   "source": [
    "| **Date** | **Policy / Program**                          | **Impact on Venezuelan Migration**                                                  |\n",
    "| -------- | --------------------------------------------- | ----------------------------------------------------------------------------------- |\n",
    "| Jan 2019 | Entry restrictions on Maduro officials        | Limited entry for regime-linked individuals; general migrants unaffected            |\n",
    "| Aug 2020 | Temporary Protection Statute (TPS)            | Legalized status for undocumented Venezuelans; allowed work, healthcare, education  |\n",
    "| Oct 2021 | Single Registry of Venezuelan Migrants (RUMV) | Collected data to support TPS and aid programs; better migrant tracking             |\n",
    "| May 2022 | TPS registration deadline                     | Migrants registering gained legal status; others remained irregular                 |\n",
    "| Oct 2022 | PEP-Tutor program                             | Legal status for guardians of Venezuelan children; facilitated family reunification |\n"
   ]
  },
  {
   "cell_type": "markdown",
   "id": "5ec0adeb-72c9-4f08-898d-e33e814fcc77",
   "metadata": {},
   "source": [
    "| **Date**             | **Policy / Program**                                    | **Impact on Venezuelan Migration**                                                              |                                                                                                      |\n",
    "| -------------------- | ------------------------------------------------------- | ----------------------------------------------------------------------------------------------- | ---------------------------------------------------------------------------------------------------- |\n",
    "| **February 8, 2021** | Announcement of Temporary Protection Statute (ETPV)     | Legalized status for undocumented Venezuelans; allowed work, healthcare, education              |                                                                                                      |\n",
    "| **March 1, 2021**    | Decree 216: Official implementation of ETPV             | Formalized legal framework for ETPV; began registration process                                 |                                                                                                      |\n",
    "| **May 2021**         | Start of ETPV registration period                       | Venezuelans began registering for ETPV; access to services initiated                            |                                                                                                      |\n",
    "| **June 2021**        | ETPV registration deadline                              | Final date for registration; migrants without ETPV status faced legal uncertainty               |                                                                                                      |\n",
    "| **October 2021**     | Launch of Single Registry of Venezuelan Migrants (RUMV) | Collected data to support ETPV and aid programs; better migrant tracking                        |                                                                                                      |\n",
    "| **June 18, 2024**    | Announcement of PEP-Tutor program                       | Planned to grant legal status to guardians of Venezuelan minors; aimed to integrate caregivers  |                                                                                                      |\n",
    "| **October 2024**     | Implementation of PEP-Tutor program                     | Guardians of Venezuelan minors began receiving legal status; facilitated family reunification   | ([Axios][1], [Bitfinance][2], [Migration Network][3], [Cancillería][4], [r4v.info][5], [Reuters][6]) |\n",
    "\n",
    "[1]: https://www.axios.com/2021/02/08/colombia-venezuelan-migrants-legal-protections?utm_source=chatgpt.com \"Colombia to offer temporary protective status to Venezuelan migrants\"\n",
    "[2]: https://bitfinance.news/en/colombia-issues-decree-to-legalize-guardians-of-venezuelan-migrant-children/?utm_source=chatgpt.com \"Colombia issues decree to legalize guardians of Venezuelan ...\"\n",
    "[3]: https://migrationnetwork.un.org/pledge/implementation-and-socialization-temporary-protection-statute-venezuelan-migrants-etpv?utm_source=chatgpt.com \"Implementation and socialization of the Temporary Protection ...\"\n",
    "[4]: https://www.cancilleria.gov.co/sites/default/files/FOTOS2020/abc_estatuto_al_migrante-ingles-ok.pdf?utm_source=chatgpt.com \"[PDF] ABC Temporary Protection Status for Venezuelan Migrants\"\n",
    "[5]: https://www.r4v.info/sites/g/files/tmzbdl2426/files/2021-06/Venezuelans%20in%20Colombia_2021%20%28EN%29_17062021.pdf?utm_source=chatgpt.com \"[PDF] Venezuelans in Colombia_2021 (EN)_17062021\"\n",
    "[6]: https://www.reuters.com/world/americas/colombia-give-legal-status-up-540000-venezuelan-migrants-2024-06-18/?utm_source=chatgpt.com \"Colombia to give legal status to up to 540,000 Venezuelan migrants\"\n"
   ]
  },
  {
   "cell_type": "markdown",
   "id": "9e7b6b3c-883d-41c3-b11a-a950c101db06",
   "metadata": {},
   "source": [
    "TPS = ETPV"
   ]
  },
  {
   "cell_type": "markdown",
   "id": "a9745bf3-5146-460b-a6db-a22577779c84",
   "metadata": {},
   "source": [
    "| **Year**        | **Policy/Event**                                                                                                                             | **Significance**                                                                                                                                               |\n",
    "| --------------- | -------------------------------------------------------------------------------------------------------------------------------------------- | -------------------------------------------------------------------------------------------------------------------------------------------------------------- |\n",
    "| **2017**        | **Introduction of the Permiso Especial de Permanencia (PEP)** via Resolution 1272 (July 28, 2017) following Resolution 5797 (July 25, 2017). | First wide-reaching temporary permit allowing Venezuelans present by that date to legally stay and access basic services. ([Cancillería][1])                   |\n",
    "| **2017–2020**   | **Multiple extensions of PEP** through subsequent resolutions to accommodate new arrival waves (e.g., 2018, 2019, 2020).                     | Kept the program active and expanded eligibility dates. ([Cancillería][1], [Brigard Urrutia][2])                                                               |\n",
    "| **Mar 1, 2021** | **Launch of the Estatuto Temporal de Protección para Migrantes Venezolanos (ETPV)** through Decree 216.                                      | Introduced a robust, long-term 10-year legal status, replacing PEP’s temporary framework. ([Forvis Mazars][3], [Pathfinders][4], [migrationnetwork.un.org][5]) |\n",
    "| **April 2021**  | **Implementation phase kicks off**—Resolution 0971 initiated formal rollout via Migrants Registry starting May 5.                            | Operationalized ETPV logistics to include eligible individuals. ([migrationnetwork.un.org][5])                                                                 |\n",
    "| **2022**        | **Residency pathway solidified**—Resolution 5477 (2022) established a pathway from PPT/ETPV to Resident Visa.                                | Offered a route toward permanent legal status for holders. ([Forvis Mazars][3])                                                                                |\n",
    "| **Dec 4, 2024** | **Introduction of Transitional V Visa** (Resolution 12509).                                                                                  | Created a bridge for Venezuelans not previously registered under ETPV to access temporary status, work, and basic services. ([Forvis Mazars][3])               |\n",
    "\n",
    "[1]: https://www.cancilleria.gov.co/sites/default/files/FOTOS2020/resolucion_cancilleria_nuevo_plazo_de_expedicion_pep_07092020.pdf?utm_source=chatgpt.com \"Microsoft Word - Resolución Cancillería nuevo plazo de expedición PEP ...\"\n",
    "[2]: https://www.bu.com.co/en/insights/noticias/special-permit-permanence-pep-modified-terms?utm_source=chatgpt.com \"Special Permit of Permanence (PEP): modified terms\"\n",
    "[3]: https://www.forvismazars.com/co/en/who-we-are/news-publications-and-media/our-publications/laboral-y-migratorio/regularization-in-colombia-for-venezuelan-citizen?utm_source=chatgpt.com \"Path to migrant regularization in Colombia for Venezuelan citizen ...\"\n",
    "[4]: https://www.sdg16.plus/policies/temporary-protection-status-for-venezuelan-migrants-colombia/?utm_source=chatgpt.com \"Temporary Protection Status for Venezuelan Migrants: Colombia - Pathfinders\"\n",
    "[5]: https://migrationnetwork.un.org/pledge/implementation-and-socialization-temporary-protection-statute-venezuelan-migrants-etpv?utm_source=chatgpt.com \"Implementation and socialization of the Temporary Protection Statute ...\"\n"
   ]
  },
  {
   "cell_type": "markdown",
   "id": "f6118293-98e6-4f17-9240-3f237762a02f",
   "metadata": {},
   "source": [
    "people going back: \n",
    "1. Policy Stabilization & Registration Cutoff: No new PEPs since March 2021, only renew\n",
    "2. Economic Challenges in Colombia post covid \n",
    "3. Improved (Relative) Conditions in Venezuela since 2022"
   ]
  },
  {
   "cell_type": "code",
   "execution_count": null,
   "id": "89620b2e-cc7a-4c19-bc34-b4f0f033c5a6",
   "metadata": {},
   "outputs": [],
   "source": [
    "df_co_in = df[(df['country_to'] == 'CO') & (df['num_migrants'] != 0)]\n",
    "df_co_out = df[(df['country_from'] == 'CO') & (df['num_migrants'] != 0)]"
   ]
  },
  {
   "cell_type": "code",
   "execution_count": null,
   "id": "1ec72bc4-0368-4bab-9388-d95fe03cedb6",
   "metadata": {},
   "outputs": [],
   "source": [
    "# df_co_in\n",
    "fig = px.line(\n",
    "    df_co_in,\n",
    "    x=\"migration_month\",\n",
    "    y=\"num_migrants\",\n",
    "    color=\"country_from\", \n",
    "    markers=True,\n",
    "    title=\"Migrants to CO Over Time\"\n",
    ")\n",
    "\n",
    "fig.update_layout(\n",
    "    xaxis_title=\"Month\",\n",
    "    yaxis_title=\"Number of Migrants\",\n",
    "    legend_title=\"From Country\"\n",
    ")\n",
    "\n",
    "fig.show()"
   ]
  },
  {
   "cell_type": "code",
   "execution_count": null,
   "id": "80f83e5a-42cc-4d16-aae8-8130c0a30b27",
   "metadata": {},
   "outputs": [],
   "source": [
    "# df_co_out\n",
    "fig = px.line(\n",
    "    df_co_out,\n",
    "    x=\"migration_month\",\n",
    "    y=\"num_migrants\",\n",
    "    color=\"country_to\", \n",
    "    markers=True,\n",
    "    title=\"Migrants from CO Over Time\"\n",
    ")\n",
    "\n",
    "fig.update_layout(\n",
    "    xaxis_title=\"Month\",\n",
    "    yaxis_title=\"Number of Migrants\",\n",
    "    legend_title=\"To Country\"\n",
    ")\n",
    "\n",
    "fig.show()"
   ]
  },
  {
   "cell_type": "markdown",
   "id": "55d2123e-eb31-45ca-bbd5-9d699d0059b7",
   "metadata": {},
   "source": [
    "## PE"
   ]
  },
  {
   "cell_type": "markdown",
   "id": "a372853b-a269-4ed9-95a7-8565130e89de",
   "metadata": {},
   "source": [
    "| **Date**               | **Policy Change**                                                                                                                                                                                        | **Impact on VE Migration**                                                                                                                                                                                                                                                               |                                                                                  |\n",
    "| ---------------------- | -------------------------------------------------------------------------------------------------------------------------------------------------------------------------------------------------------- | ---------------------------------------------------------------------------------------------------------------------------------------------------------------------------------------------------------------------------------------------------------------------------------------- | -------------------------------------------------------------------------------- |\n",
    "| **June 6, 2019**       | President Martín Vizcarra announced that, starting June 15, 2019, Venezuelans would need a valid passport and visa to enter Peru.                                                                        | This policy shift aimed to regulate the growing influx of Venezuelan migrants. It led to a surge in border crossings as many Venezuelans rushed to enter before the deadline. On June 14, 2019, approximately 9,000 Venezuelans entered Peru through the Tumbes border in a single day.  |                                                                                  |\n",
    "| **June 15, 2019**      | Implementation of the visa requirement for Venezuelans entering Peru.                                                                                                                                    | Venezuelans without the required documentation were denied entry, leading to increased irregular migration and border challenges. The policy aimed to ensure a more controlled and orderly migration process. However, exceptions were made for vulnerable groups such as children, the elderly, and pregnant women, who were allowed entry without these documents.                                                                            |                                                                                  |\n",
    "| **July 2021–Nov 2023** | Application period for the Temporary Permanence Permit Card (CPP) for Venezuelan migrants who had arrived in Peru before October 22, 2020, and lacked regular status.                                    | The CPP granted regular status for two years and allowed beneficiaries to transition to one of the regular immigration categories. It aimed to regularize the status of Venezuelan migrants and provide them with legal rights and access to services.                                   |                                                                                  |\n",
    "| **2022**               | Peru continued efforts to integrate Venezuelan migrants through various programs and policies.                                                                                                           | Ongoing initiatives focused on providing legal status and access to services for Venezuelan migrants, facilitating their integration into Peruvian society.                                                                                                                              | ([Wikipedia][1], [Wikipedia][2], [AS/COA][3], [ECOI][4], [IADB Publications][5]) |\n",
    "\n",
    "[1]: https://es.wikipedia.org/wiki/Gobierno_de_Mart%C3%ADn_Vizcarra?utm_source=chatgpt.com \"Gobierno de Martín Vizcarra\"\n",
    "[2]: https://en.wikipedia.org/wiki/Venezuelan_refugee_crisis?utm_source=chatgpt.com \"Venezuelan refugee crisis\"\n",
    "[3]: https://www.as-coa.org/articles/explainer-venezuelan-migration-policy-americas?utm_source=chatgpt.com \"Explainer: Venezuelan Migration Policy in the Americas - AS/COA\"\n",
    "[4]: https://www.ecoi.net/en/document/2124532.html?utm_source=chatgpt.com \"“Peru and Venezuela: Requirements and procedures for foreign ...\"\n",
    "[5]: https://publications.iadb.org/publications/english/document/Impactregularizationprograminperu.pdf?utm_source=chatgpt.com \"[PDF] Impacts of a Regularization Program in Peru - IADB Publications\"\n"
   ]
  },
  {
   "cell_type": "markdown",
   "id": "b3801f18-8400-4e46-8f18-b616be08af14",
   "metadata": {},
   "source": [
    "1. Temporary Stay Permit (Carnet de Permiso Temporal de Permanencia - CPP) for Venezuelans\n",
    "Date Implemented: August 2020\n",
    "\n",
    "2. Reopening of Land Borders\n",
    "Date Implemented: February 2022\n",
    "\n",
    "3. Temporary Stay Permit for Haitians\n",
    "Date Implemented: 2022\n",
    "\n",
    "| Policy                             | Affected Nationalities | Potential Impact                                                         |                                                                                        |\n",
    "| ---------------------------------- | ---------------------- | ------------------------------------------------------------------------ | -------------------------------------------------------------------------------------- |\n",
    "| Temporary Stay Permit (CPP)        | Venezuelans            | Provided legal status and work rights; limited institutional recognition |                                                                                        |\n",
    "| Reopening of Land Borders          | Venezuelans, Haitians  | Facilitated entry and regularization processes                           |                                                                                        |\n",
    "| Temporary Stay Permit for Haitians | Haitians               | Offered legal recognition and work rights; challenges in service access  | ([The Global Compact on Refugees \\| UNHCR][1], [Migration Network][2], [acnur.org][3]) |\n",
    "\n",
    "[1]: https://globalcompactrefugees.org/good-practices/ptp-protection-oriented-migratory-arrangement-refugees-peru?utm_source=chatgpt.com \"PTP: Protection-oriented migratory arrangement for refugees in Peru\"\n",
    "[2]: https://migrationnetwork.un.org/pledge/implementation-and-socialization-temporary-protection-statute-venezuelan-migrants-etpv?utm_source=chatgpt.com \"Implementation and socialization of the Temporary Protection ...\"\n",
    "[3]: https://www.acnur.org/sites/default/files/legacy-pdf/632399d94.pdf?utm_source=chatgpt.com \"[PDF] January to June 2022 - ACNUR\"\n"
   ]
  },
  {
   "cell_type": "code",
   "execution_count": null,
   "id": "bec26610-7add-459b-82ae-a42e6833dcba",
   "metadata": {},
   "outputs": [],
   "source": [
    "df_PE_in = df[(df['country_to'] == 'PE') & (df['num_migrants'] != 0)]\n",
    "df_PE_out = df[(df['country_from'] == 'PE') & (df['num_migrants'] != 0)]"
   ]
  },
  {
   "cell_type": "code",
   "execution_count": null,
   "id": "90edf529-15db-4848-a54f-11e761904d06",
   "metadata": {
    "scrolled": true
   },
   "outputs": [],
   "source": [
    "# df_cl_in\n",
    "fig = px.line(\n",
    "    df_PE_in,\n",
    "    x=\"migration_month\",\n",
    "    y=\"num_migrants\",\n",
    "    color=\"country_from\", \n",
    "    markers=True,\n",
    "    title=\"Migrants to PE Over Time\"\n",
    ")\n",
    "\n",
    "fig.update_layout(\n",
    "    xaxis_title=\"Month\",\n",
    "    yaxis_title=\"Number of Migrants\",\n",
    "    legend_title=\"From Country\"\n",
    ")\n",
    "\n",
    "fig.show()"
   ]
  },
  {
   "cell_type": "code",
   "execution_count": null,
   "id": "ac2672ea-6bb4-4b33-8f89-4cd2d8f090a7",
   "metadata": {},
   "outputs": [],
   "source": [
    "# df_PE_out\n",
    "fig = px.line(\n",
    "    df_PE_out,\n",
    "    x=\"migration_month\",\n",
    "    y=\"num_migrants\",\n",
    "    color=\"country_to\", \n",
    "    markers=True,\n",
    "    title=\"Migrants from PE Over Time\"\n",
    ")\n",
    "\n",
    "fig.update_layout(\n",
    "    xaxis_title=\"Month\",\n",
    "    yaxis_title=\"Number of Migrants\",\n",
    "    legend_title=\"From Country\"\n",
    ")\n",
    "\n",
    "fig.show()"
   ]
  },
  {
   "cell_type": "markdown",
   "id": "dc5dfbbe-a0dc-4669-8caf-09434a321a94",
   "metadata": {},
   "source": [
    "## CL"
   ]
  },
  {
   "cell_type": "markdown",
   "id": "b841ebbe-dc10-47af-bd4d-da56e4c5490e",
   "metadata": {},
   "source": [
    "| Feature                     | Visa Responsabilidad Democrática (VRD)                 | Consular Tourist Visa                    |\n",
    "| --------------------------- | ------------------------------------------------------ | ---------------------------------------- |\n",
    "| **Purpose**                 | Residence and work                                     | Short-term tourism                       |\n",
    "| **Validity**                | Initially 1 year (renewable)                           | Up to 90 days                            |\n",
    "| **Renewal / Conversion**    | Renewable; convertible to permanent residency          | Not renewable; limited extension options |\n",
    "| **Work Authorization**      | Yes                                                    | No                                       |\n",
    "| **Study Authorization**     | Yes                                                    | Limited/no                               |\n",
    "| **Access to social rights** | Yes, includes healthcare, education, employment rights | Limited, mostly tourism                  |\n"
   ]
  },
  {
   "cell_type": "markdown",
   "id": "12820e25-ff1f-4468-9b05-12b5fe9d4908",
   "metadata": {},
   "source": [
    "| **Date**           | **Policy / Program**                             | **Impact on Venezuelan Migration**                                                         |\n",
    "| ------------------ | ------------------------------------------------ | ------------------------------------------------------------------------------------------ |\n",
    "| **June 21, 2019**  | Introduction of Visa Requirement for Venezuelans | Venezuelans now required a visa to enter Chile; irregular crossings increased temporarily. |\n",
    "| **July 2019**  from 2018？    | Temporary Residency Permit (Visa Temporaria)     | Allowed Venezuelans to regularize their stay, work legally, and access social services.    |\n",
    "| **June 2021**      | Extension of Temporary Residency Permit          | Continued support for integration; ensured ongoing access to employment and services.      |\n",
    "| **March 2022**     | New Visa Categories & Regularization Pathways    | Facilitated legal entry and residency; encouraged formal labor market participation.       |\n"
   ]
  },
  {
   "cell_type": "code",
   "execution_count": null,
   "id": "7f903bc1-e282-478e-8853-279efbec6ebf",
   "metadata": {},
   "outputs": [],
   "source": [
    "df_cl_in = df[(df['country_to'] == 'CL') & (df['num_migrants'] != 0)]\n",
    "df_cl_out = df[(df['country_from'] == 'CL') & (df['num_migrants'] != 0)]"
   ]
  },
  {
   "cell_type": "code",
   "execution_count": null,
   "id": "e0fe06ba-95f0-4080-b368-19d375608a44",
   "metadata": {},
   "outputs": [],
   "source": [
    "# df_cl_in\n",
    "fig = px.line(\n",
    "    df_cl_in,\n",
    "    x=\"migration_month\",\n",
    "    y=\"num_migrants\",\n",
    "    color=\"country_from\", \n",
    "    markers=True,\n",
    "    title=\"Migrants to CL Over Time\"\n",
    ")\n",
    "\n",
    "fig.update_layout(\n",
    "    xaxis_title=\"Month\",\n",
    "    yaxis_title=\"Number of Migrants\",\n",
    "    legend_title=\"From Country\"\n",
    ")\n",
    "\n",
    "fig.show()"
   ]
  },
  {
   "cell_type": "code",
   "execution_count": null,
   "id": "cfffdd86-1068-4308-9a91-528339ed74af",
   "metadata": {},
   "outputs": [],
   "source": [
    "# df_cl_out\n",
    "fig = px.line(\n",
    "    df_cl_out,\n",
    "    x=\"migration_month\",\n",
    "    y=\"num_migrants\",\n",
    "    color=\"country_to\", \n",
    "    markers=True,\n",
    "    title=\"Migrants from CL Over Time\"\n",
    ")\n",
    "\n",
    "fig.update_layout(\n",
    "    xaxis_title=\"Month\",\n",
    "    yaxis_title=\"Number of Migrants\",\n",
    "    legend_title=\"From Country\"\n",
    ")\n",
    "\n",
    "fig.show()"
   ]
  },
  {
   "cell_type": "code",
   "execution_count": null,
   "id": "d3ccc5ea-0b97-40c1-9386-2d61546a9617",
   "metadata": {},
   "outputs": [],
   "source": [
    "df_AR_in = df[(df['country_to'] == 'AR') & (df['num_migrants'] != 0)]\n",
    "df_AR_out = df[(df['country_from'] == 'AR') & (df['num_migrants'] != 0)]"
   ]
  },
  {
   "cell_type": "code",
   "execution_count": null,
   "id": "16f53aef-e81f-4ac9-bde6-085c1023aa8c",
   "metadata": {},
   "outputs": [],
   "source": [
    "# df_cl_in\n",
    "fig = px.line(\n",
    "    df_AR_in,\n",
    "    x=\"migration_month\",\n",
    "    y=\"num_migrants\",\n",
    "    color=\"country_from\", \n",
    "    markers=True,\n",
    "    title=\"Migrants to AR Over Time\"\n",
    ")\n",
    "\n",
    "fig.update_layout(\n",
    "    xaxis_title=\"Month\",\n",
    "    yaxis_title=\"Number of Migrants\",\n",
    "    legend_title=\"From Country\"\n",
    ")\n",
    "\n",
    "fig.show()"
   ]
  },
  {
   "cell_type": "code",
   "execution_count": null,
   "id": "4cb6cbec-cbf0-48e4-9af8-ff53cb72bde0",
   "metadata": {},
   "outputs": [],
   "source": [
    "# df_cl_out\n",
    "fig = px.line(\n",
    "    df_AR_out,\n",
    "    x=\"migration_month\",\n",
    "    y=\"num_migrants\",\n",
    "    color=\"country_to\", \n",
    "    markers=True,\n",
    "    title=\"Migrants from AR Over Time\"\n",
    ")\n",
    "\n",
    "fig.update_layout(\n",
    "    xaxis_title=\"Month\",\n",
    "    yaxis_title=\"Number of Migrants\",\n",
    "    legend_title=\"From Country\"\n",
    ")\n",
    "\n",
    "fig.show()"
   ]
  },
  {
   "cell_type": "markdown",
   "id": "f221791e-aa51-4179-9433-cb6ace5b51df",
   "metadata": {},
   "source": [
    "## MX"
   ]
  },
  {
   "cell_type": "code",
   "execution_count": null,
   "id": "f006cd57-42d5-464c-be8e-42eebad4f0a5",
   "metadata": {},
   "outputs": [],
   "source": [
    "df_MX_in = df[(df['country_to'] == 'MX') & (df['num_migrants'] != 0)]\n",
    "df_MX_out = df[(df['country_from'] == 'MX') & (df['num_migrants'] != 0)]"
   ]
  },
  {
   "cell_type": "code",
   "execution_count": null,
   "id": "28aaa79d-6a13-48de-864b-e789617ad683",
   "metadata": {},
   "outputs": [],
   "source": [
    "# df_mx_out\n",
    "fig = px.line(\n",
    "    df_MX_out,\n",
    "    x=\"migration_month\",\n",
    "    y=\"num_migrants\",\n",
    "    color=\"country_to\", \n",
    "    markers=True,\n",
    "    title=\"Migrants from MX Over Time\"\n",
    ")\n",
    "\n",
    "fig.update_layout(\n",
    "    xaxis_title=\"Month\",\n",
    "    yaxis_title=\"Number of Migrants\",\n",
    "    legend_title=\"To Country\"\n",
    ")\n",
    "\n",
    "fig.show()"
   ]
  },
  {
   "cell_type": "code",
   "execution_count": null,
   "id": "bacc7fcf-33ff-4aa9-93b7-03006260c129",
   "metadata": {},
   "outputs": [],
   "source": [
    "# df_mx_in\n",
    "fig = px.line(\n",
    "    df_MX_in,\n",
    "    x=\"migration_month\",\n",
    "    y=\"num_migrants\",\n",
    "    color=\"country_from\", \n",
    "    markers=True,\n",
    "    title=\"Migrants to MX Over Time\"\n",
    ")\n",
    "\n",
    "fig.update_layout(\n",
    "    xaxis_title=\"Month\",\n",
    "    yaxis_title=\"Number of Migrants\",\n",
    "    legend_title=\"From Country\"\n",
    ")\n",
    "\n",
    "fig.show()"
   ]
  },
  {
   "cell_type": "markdown",
   "id": "f323b90b-41e5-49a6-bf61-f3e6ced536ac",
   "metadata": {},
   "source": [
    "## EC"
   ]
  },
  {
   "cell_type": "markdown",
   "id": "3493e308-3d57-4221-94b8-4444f1112d1d",
   "metadata": {},
   "source": [
    "| **Date** | **Policy / Program**                    | **Impact on Venezuelan Migration**                                                           |\n",
    "| -------- | --------------------------------------- | -------------------------------------------------------------------------------------------- |\n",
    "| 2019     | Entry requirement: valid passport       | Venezuelans needed passports to enter; some irregular crossings increased                    |\n",
    "| 2020     | Humanitarian visa for Venezuelans       | Allowed migrants without passports to regularize status; access to work and services         |\n",
    "| 2021     | Extension of Temporary Residency Permit | Gave Venezuelans legal status and protection; helped integration into Ecuadorian society     |\n",
    "| 2022     | Simplified work permit process          | Improved access to employment for Venezuelan migrants; encouraged formal labor participation |\n"
   ]
  },
  {
   "cell_type": "markdown",
   "id": "42c83d2c-e0a0-4a59-bf9c-ed77ba55ae51",
   "metadata": {},
   "source": [
    "| **Date Introduced** | **Policy / Event**                                     | **When in Force**                      | **Target Group / Effect**                                                                                                                 | **Duration / Status**                                                                |\n",
    "| ------------------- | ------------------------------------------------------ | -------------------------------------- | ----------------------------------------------------------------------------------------------------------------------------------------- | ------------------------------------------------------------------------------------ |\n",
    "| **25 July 2019**    | **Presidential Decree 826**                            | **From 26 Aug 2019 onwards**           | Introduced **strict entry requirements** for Venezuelans: passport + apostilled criminal record + \\$50 fee.                               | **Still in effect** during 2019–2022.                                                |\n",
    "| **26 Aug 2019**     | **VERHU (Visa de Excepción por Razones Humanitarias)** | **Aug 2019 – 13 Mar 2020** (1st phase) | Allowed Venezuelans who entered **before 26 July 2019** to regularize status.                                                             | Paused in March 2020 due to COVID. Reopened later, extended until **July 27, 2022**. |\n",
    "| **Oct 2019**        | **Xenophobic backlash & local controls**               | **Oct 2019 onwards**                   | After a Venezuelan migrant committed a femicide, Ecuador imposed **heightened police & ID checks** on Venezuelans.                        | Intensified through **2020–2021**, but no formal law change.                         |\n",
    "| **16 Mar 2020**     | **COVID-19 Border Closures**                           | **16 Mar 2020 – June 2021**            | Ecuador **closed official borders**, blocking new legal entries. Venezuelans increasingly used irregular crossings.                       | Gradual reopening started mid-2021.                                                  |\n",
    "| **Mar 2021**        | **End of Moreno presidency**                           | N/A                                    | Transition to Guillermo Lasso in **May 2021**, but policies remained restrictive until new program launched.                              | N/A                                                                                  |\n",
    "| **1 June 2022**     | **VIRTE (Visa de Residencia Temporal de Excepción)**   | **1 Sep 2022 – 15 Aug 2023**           | Broader regularization program for Venezuelans who entered **before Aug 26, 2019**. Cost **\\$50**; required biometric registration first. | Active **Sep 2022 to Aug 2023**, granting over **62,000 visas**.                     |\n"
   ]
  },
  {
   "cell_type": "code",
   "execution_count": null,
   "id": "80269bed-2ae9-461d-8083-886baa2e6289",
   "metadata": {},
   "outputs": [],
   "source": [
    "df_EC_in = df[(df['country_to'] == 'EC') & (df['num_migrants'] != 0)]\n",
    "df_EC_out = df[(df['country_from'] == 'EC') & (df['num_migrants'] != 0)]"
   ]
  },
  {
   "cell_type": "code",
   "execution_count": null,
   "id": "c18f8eda-1a9a-4f60-b886-cc945e2b4211",
   "metadata": {},
   "outputs": [],
   "source": [
    "# df_EC_in\n",
    "fig = px.line(\n",
    "    df_EC_in,\n",
    "    x=\"migration_month\",\n",
    "    y=\"num_migrants\",\n",
    "    color=\"country_from\", \n",
    "    markers=True,\n",
    "    title=\"Migrants to EC Over Time\"\n",
    ")\n",
    "\n",
    "fig.update_layout(\n",
    "    xaxis_title=\"Month\",\n",
    "    yaxis_title=\"Number of Migrants\",\n",
    "    legend_title=\"From Country\"\n",
    ")\n",
    "\n",
    "fig.show()"
   ]
  },
  {
   "cell_type": "code",
   "execution_count": null,
   "id": "10ccfae5-52a7-4ffe-ab12-3f1546236db7",
   "metadata": {},
   "outputs": [],
   "source": [
    "# df_EC_out\n",
    "fig = px.line(\n",
    "    df_EC_out,\n",
    "    x=\"migration_month\",\n",
    "    y=\"num_migrants\",\n",
    "    color=\"country_to\", \n",
    "    markers=True,\n",
    "    title=\"Migrants from EC Over Time\"\n",
    ")\n",
    "\n",
    "fig.update_layout(\n",
    "    xaxis_title=\"Month\",\n",
    "    yaxis_title=\"Number of Migrants\",\n",
    "    legend_title=\"To Country\"\n",
    ")\n",
    "\n",
    "fig.show()"
   ]
  },
  {
   "cell_type": "markdown",
   "id": "7056dd9d-e23f-4e54-ae85-786e49260c0a",
   "metadata": {},
   "source": [
    "## UY (with AR) "
   ]
  },
  {
   "cell_type": "code",
   "execution_count": null,
   "id": "f7c595e8-963e-4f41-8393-4df30977c822",
   "metadata": {},
   "outputs": [],
   "source": [
    "df_UY_in = df[(df['country_to'] == 'UY') & (df['num_migrants'] != 0)]\n",
    "df_UY_out = df[(df['country_from'] == 'UY') & (df['num_migrants'] != 0)]"
   ]
  },
  {
   "cell_type": "code",
   "execution_count": null,
   "id": "9c24fb54-6525-4af4-be95-52c51fb1ccb4",
   "metadata": {},
   "outputs": [],
   "source": [
    "# df_ur_out\n",
    "fig = px.line(\n",
    "    df_UY_out,\n",
    "    x=\"migration_month\",\n",
    "    y=\"num_migrants\",\n",
    "    color=\"country_to\", \n",
    "    markers=True,\n",
    "    title=\"Migrants from UY Over Time\"\n",
    ")\n",
    "\n",
    "fig.update_layout(\n",
    "    xaxis_title=\"Month\",\n",
    "    yaxis_title=\"Number of Migrants\",\n",
    "    legend_title=\"From Country\"\n",
    ")\n",
    "\n",
    "fig.show()"
   ]
  },
  {
   "cell_type": "code",
   "execution_count": null,
   "id": "2dc71817-e376-457c-8b8f-75d1c8bf9a2f",
   "metadata": {},
   "outputs": [],
   "source": [
    "# df_uy_in\n",
    "fig = px.line(\n",
    "    df_UY_in,\n",
    "    x=\"migration_month\",\n",
    "    y=\"num_migrants\",\n",
    "    color=\"country_from\", \n",
    "    markers=True,\n",
    "    title=\"Migrants to UY Over Time\"\n",
    ")\n",
    "\n",
    "fig.update_layout(\n",
    "    xaxis_title=\"Month\",\n",
    "    yaxis_title=\"Number of Migrants\",\n",
    "    legend_title=\"From Country\"\n",
    ")\n",
    "\n",
    "fig.show()"
   ]
  },
  {
   "cell_type": "markdown",
   "id": "74d75fa6-1016-4241-84d4-330c54628a41",
   "metadata": {},
   "source": [
    "## DO (HT) "
   ]
  },
  {
   "cell_type": "code",
   "execution_count": null,
   "id": "3257c90f-d854-4bfa-97c7-b4cf2a267b4e",
   "metadata": {},
   "outputs": [],
   "source": [
    "df_DO_in = df[(df['country_to'] == 'DO') & (df['num_migrants'] != 0)]\n",
    "df_DO_out = df[(df['country_from'] == 'DO') & (df['num_migrants'] != 0)]"
   ]
  },
  {
   "cell_type": "code",
   "execution_count": null,
   "id": "58b7d07d-54f3-47ba-8d27-2fbb6564372b",
   "metadata": {},
   "outputs": [],
   "source": [
    "# df_DO_in\n",
    "fig = px.line(\n",
    "    df_DO_in,\n",
    "    x=\"migration_month\",\n",
    "    y=\"num_migrants\",\n",
    "    color=\"country_from\", \n",
    "    markers=True,\n",
    "    title=\"Migrants to DO Over Time\"\n",
    ")\n",
    "\n",
    "fig.update_layout(\n",
    "    xaxis_title=\"Month\",\n",
    "    yaxis_title=\"Number of Migrants\",\n",
    "    legend_title=\"From Country\"\n",
    ")\n",
    "\n",
    "fig.show()"
   ]
  },
  {
   "cell_type": "code",
   "execution_count": null,
   "id": "dad78660-316e-4abb-a598-65be7ba09a30",
   "metadata": {},
   "outputs": [],
   "source": [
    "# df_DO_out\n",
    "fig = px.line(\n",
    "    df_DO_out,\n",
    "    x=\"migration_month\",\n",
    "    y=\"num_migrants\",\n",
    "    color=\"country_to\", \n",
    "    markers=True,\n",
    "    title=\"Migrants from DO Over Time\"\n",
    ")\n",
    "\n",
    "fig.update_layout(\n",
    "    xaxis_title=\"Month\",\n",
    "    yaxis_title=\"Number of Migrants\",\n",
    "    legend_title=\"From Country\"\n",
    ")\n",
    "\n",
    "fig.show()"
   ]
  },
  {
   "cell_type": "markdown",
   "id": "a4d32359-eece-4431-a3d2-1aa2e6d34f10",
   "metadata": {},
   "source": [
    "# MM to TH"
   ]
  },
  {
   "cell_type": "code",
   "execution_count": null,
   "id": "86fc3627-19ed-4ef2-994e-8050d8fc84eb",
   "metadata": {},
   "outputs": [],
   "source": [
    "df_MM_in = df[(df['country_to'] == 'MM') & (df['num_migrants'] != 0)]\n",
    "df_MM_out = df[(df['country_from'] == 'MM') & (df['num_migrants'] != 0)]\n",
    "\n",
    "fig = px.line(\n",
    "    df_MM_in,\n",
    "    x=\"migration_month\",\n",
    "    y=\"num_migrants\",\n",
    "    color=\"country_from\", \n",
    "    markers=True,\n",
    "    title=\"Migrants to MM Over Time\"\n",
    ")\n",
    "\n",
    "fig.update_layout(\n",
    "    xaxis_title=\"Month\",\n",
    "    yaxis_title=\"Number of Migrants\",\n",
    "    legend_title=\"From Country\"\n",
    ")\n",
    "\n",
    "fig.show()"
   ]
  },
  {
   "cell_type": "code",
   "execution_count": null,
   "id": "e84f4d47-9838-415e-ab8d-2fe86b0802af",
   "metadata": {},
   "outputs": [],
   "source": [
    "# df_MM_out\n",
    "fig = px.line(\n",
    "    df_MM_out,\n",
    "    x=\"migration_month\",\n",
    "    y=\"num_migrants\",\n",
    "    color=\"country_to\", \n",
    "    markers=True,\n",
    "    title=\"Migrants from MM Over Time\"\n",
    ")\n",
    "\n",
    "fig.update_layout(\n",
    "    xaxis_title=\"Month\",\n",
    "    yaxis_title=\"Number of Migrants\",\n",
    "    legend_title=\"From Country\"\n",
    ")\n",
    "\n",
    "fig.show()"
   ]
  },
  {
   "cell_type": "code",
   "execution_count": null,
   "id": "7185e37a-ae2f-4869-92d5-b40a7e7f62d5",
   "metadata": {},
   "outputs": [],
   "source": [
    "df_TH_in = df[(df['country_to'] == 'TH') & (df['num_migrants'] != 0)]\n",
    "df_TH_out = df[(df['country_from'] == 'TH') & (df['num_migrants'] != 0)]\n",
    "\n",
    "fig = px.line(\n",
    "    df_TH_in,\n",
    "    x=\"migration_month\",\n",
    "    y=\"num_migrants\",\n",
    "    color=\"country_from\", \n",
    "    markers=True,\n",
    "    title=\"Migrants to TH Over Time\"\n",
    ")\n",
    "\n",
    "fig.update_layout(\n",
    "    xaxis_title=\"Month\",\n",
    "    yaxis_title=\"Number of Migrants\",\n",
    "    legend_title=\"From Country\"\n",
    ")\n",
    "\n",
    "fig.show()"
   ]
  },
  {
   "cell_type": "code",
   "execution_count": null,
   "id": "b2e252ef-5c8a-4975-89d8-8b44410a4d9c",
   "metadata": {},
   "outputs": [],
   "source": [
    "# df_TH_out\n",
    "fig = px.line(\n",
    "    df_TH_out,\n",
    "    x=\"migration_month\",\n",
    "    y=\"num_migrants\",\n",
    "    color=\"country_to\", \n",
    "    markers=True,\n",
    "    title=\"Migrants from TH Over Time\"\n",
    ")\n",
    "\n",
    "fig.update_layout(\n",
    "    xaxis_title=\"Month\",\n",
    "    yaxis_title=\"Number of Migrants\",\n",
    "    legend_title=\"To Country\"\n",
    ")\n",
    "\n",
    "fig.show()"
   ]
  },
  {
   "cell_type": "markdown",
   "id": "d8deb1d6-44e4-450c-a1b9-374d8a636815",
   "metadata": {},
   "source": [
    "# SY TR"
   ]
  },
  {
   "cell_type": "code",
   "execution_count": null,
   "id": "be02eb55-fa9b-48fd-9bb4-af4d684f503f",
   "metadata": {},
   "outputs": [],
   "source": [
    "df_SY_in = df[(df['country_to'] == 'SY') & (df['num_migrants'] != 0)]\n",
    "df_SY_out = df[(df['country_from'] == 'SY') & (df['num_migrants'] != 0)]\n",
    "\n",
    "# df_DO_in\n",
    "fig = px.line(\n",
    "    df_SY_in,\n",
    "    x=\"migration_month\",\n",
    "    y=\"num_migrants\",\n",
    "    color=\"country_from\", \n",
    "    markers=True,\n",
    "    title=\"Migrants to SY Over Time\"\n",
    ")\n",
    "\n",
    "fig.update_layout(\n",
    "    xaxis_title=\"Month\",\n",
    "    yaxis_title=\"Number of Migrants\",\n",
    "    legend_title=\"From Country\"\n",
    ")\n",
    "\n",
    "fig.show()"
   ]
  },
  {
   "cell_type": "code",
   "execution_count": null,
   "id": "40af330b-3fdc-476a-a13f-0fef53339f94",
   "metadata": {},
   "outputs": [],
   "source": [
    "# df_SY_out\n",
    "fig = px.line(\n",
    "    df_SY_out,\n",
    "    x=\"migration_month\",\n",
    "    y=\"num_migrants\",\n",
    "    color=\"country_to\", \n",
    "    markers=True,\n",
    "    title=\"Migrants from SY Over Time\"\n",
    ")\n",
    "\n",
    "fig.update_layout(\n",
    "    xaxis_title=\"Month\",\n",
    "    yaxis_title=\"Number of Migrants\",\n",
    "    legend_title=\"To Country\"\n",
    ")\n",
    "\n",
    "fig.show()"
   ]
  },
  {
   "cell_type": "code",
   "execution_count": null,
   "id": "1437b787-c6d5-4c84-98cd-8dc1ef7aa7b5",
   "metadata": {},
   "outputs": [],
   "source": [
    "df_TR_in = df[(df['country_to'] == 'TR') & (df['num_migrants'] != 0)]\n",
    "df_TR_out = df[(df['country_from'] == 'TR') & (df['num_migrants'] != 0)]\n",
    "\n",
    "# df_TR_in\n",
    "fig = px.line(\n",
    "    df_TR_in,\n",
    "    x=\"migration_month\",\n",
    "    y=\"num_migrants\",\n",
    "    color=\"country_from\", \n",
    "    markers=True,\n",
    "    title=\"Migrants to TR Over Time\"\n",
    ")\n",
    "\n",
    "fig.update_layout(\n",
    "    xaxis_title=\"Month\",\n",
    "    yaxis_title=\"Number of Migrants\",\n",
    "    legend_title=\"From Country\"\n",
    ")\n",
    "\n",
    "fig.show()"
   ]
  },
  {
   "cell_type": "code",
   "execution_count": null,
   "id": "c9cb472e-3821-4168-acd6-fa7df44cbb5a",
   "metadata": {},
   "outputs": [],
   "source": [
    "# df_TR_out\n",
    "fig = px.line(\n",
    "    df_TR_out,\n",
    "    x=\"migration_month\",\n",
    "    y=\"num_migrants\",\n",
    "    color=\"country_to\", \n",
    "    markers=True,\n",
    "    title=\"Migrants from TR Over Time\"\n",
    ")\n",
    "\n",
    "fig.update_layout(\n",
    "    xaxis_title=\"Month\",\n",
    "    yaxis_title=\"Number of Migrants\",\n",
    "    legend_title=\"To Country\"\n",
    ")\n",
    "\n",
    "fig.show()"
   ]
  },
  {
   "cell_type": "code",
   "execution_count": null,
   "id": "bdeec795-42d8-457b-b82c-7d560d4dfeb8",
   "metadata": {},
   "outputs": [],
   "source": []
  }
 ],
 "metadata": {
  "kernelspec": {
   "display_name": "Python 3 (ipykernel)",
   "language": "python",
   "name": "python3"
  },
  "language_info": {
   "codemirror_mode": {
    "name": "ipython",
    "version": 3
   },
   "file_extension": ".py",
   "mimetype": "text/x-python",
   "name": "python",
   "nbconvert_exporter": "python",
   "pygments_lexer": "ipython3",
   "version": "3.10.17"
  }
 },
 "nbformat": 4,
 "nbformat_minor": 5
}
