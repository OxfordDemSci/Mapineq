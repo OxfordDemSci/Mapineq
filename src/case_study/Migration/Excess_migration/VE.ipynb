{
 "cells": [
  {
   "cell_type": "markdown",
   "id": "3f6f731c-f854-4f01-ae1b-77c4db35c2ee",
   "metadata": {},
   "source": [
    "paper: https://link.springer.com/article/10.1007/s11111-024-00452-9#Sec10\n",
    "\n",
    "Prophet: https://facebook.github.io/prophet/docs/quick_start.html#python-api  \n",
    "github: https://github.com/facebook/prophet  "
   ]
  },
  {
   "cell_type": "markdown",
   "id": "599c0648-1b44-4fdd-ac28-7a2dca3f43aa",
   "metadata": {},
   "source": [
    "| **Year**    | **Country/Region** | **Event / Policy**                     | **Migration Impact**                                                 |\n",
    "| ----------- | ------------------ | -------------------------------------- | -------------------------------------------------------------------- |\n",
    "| **2019**    | Argentina          | Severe financial crisis; inflation 54% | Argentinians start emigrating; fewer Venezuelans choose Argentina    |\n",
    "|             | Venezuela          | Hyperinflation + shortages             | Mass exodus (\\~4M migrants)                                          |\n",
    "|             | Chile/Peru/Ecuador | Visa rules tighten                     | Venezuelan migration shifts patterns                                 |\n",
    "|             | US–Mexico          | MPP (“Remain in Mexico”)               | Slows U.S. asylum, traps many                                        |\n",
    "| **2020**    | Regional           | COVID closures                         | Migration slows temporarily                                          |\n",
    "|             | U.S.               | Title 42 begins                        | Migrant expulsions surge                                             |\n",
    "| **2021 Q1** | Colombia           | TPS regularization for Venezuelans     | Encourages local settlement                                          |\n",
    "| **2021 Q2** | Chile              | New immigration law (April)            | Triggers Venezuelan & Haitian outflows                               |\n",
    "| **2021 Q3** | Haiti              | Assassination + earthquake             | Haitian migration peaks                                              |\n",
    "| **2022 Q1** | Argentina          | Inflation accelerates (\\~55%)          | Argentinians emigrate; Venezuelans in Argentina begin leaving        |\n",
    "| **2022 Q3** | Ecuador            | Venezuelan regularization              | Slows outflow temporarily                                            |\n",
    "| **2022 Q4** | US–Mexico          | Title 42 expanded to Venezuelans       | Thousands stranded in Mexico                                         |\n",
    "|             | Argentina          | Inflation \\~95%, IMF tensions          | Argentinian emigration accelerates sharply                           |"
   ]
  },
  {
   "cell_type": "code",
   "execution_count": null,
   "id": "90b70c56-e8d6-4c03-be23-30b25ad5d075",
   "metadata": {},
   "outputs": [],
   "source": [
    "import os\n",
    "import gc\n",
    "import numpy as np\n",
    "import pandas as pd\n",
    "from tqdm import tqdm\n",
    "from pathlib import Path\n",
    "\n",
    "# Geospatial\n",
    "import geopandas as gpd\n",
    "import dask_geopandas as dgpd\n",
    "import rasterio\n",
    "from rasterstats import zonal_stats\n",
    "from osgeo import gdal, osr\n",
    "\n",
    "# Statistics & Bayesian modeling\n",
    "import pymc as pm\n",
    "import arviz as az\n",
    "\n",
    "# Visualisation\n",
    "import seaborn as sns\n",
    "import matplotlib.pyplot as plt\n",
    "import plotly.express as px\n",
    "\n",
    "# Base directories\n",
    "BASE_DIR = Path(\"/Users/wenlanzhang/PycharmProjects/Mapineq/src/\")\n",
    "DATA_DIR = Path(\"/Users/wenlanzhang/Downloads/PhD_UCL/Data/Oxford\")"
   ]
  },
  {
   "cell_type": "code",
   "execution_count": null,
   "id": "44228045-5569-4a17-af6d-234a54c849c1",
   "metadata": {},
   "outputs": [],
   "source": [
    "df = pd.read_csv(DATA_DIR/f\"Migration/international_migration_flow.csv\") \n",
    "df['year'] = pd.to_datetime(df['migration_month']).dt.year\n",
    "df['month'] = pd.to_datetime(df['migration_month']).dt.month\n",
    "df[\"migration_month\"] = pd.to_datetime(df[\"migration_month\"])\n",
    "\n",
    "# Define the mapping of old codes to new codes\n",
    "country_code_mapping = {\n",
    "    'GR': 'EL',  # Greece (GR → EL)\n",
    "    'GB': 'UK'   # United Kingdom (GB → UK)\n",
    "}\n",
    "\n",
    "# Apply the replacement to both columns\n",
    "df['country_from'] = df['country_from'].replace(country_code_mapping)\n",
    "df['country_to'] = df['country_to'].replace(country_code_mapping)\n",
    "\n",
    "df\n",
    "# len(df['country_from'].unique())"
   ]
  },
  {
   "cell_type": "code",
   "execution_count": null,
   "id": "0b6616c8-8652-4744-aaf6-2968af7a667f",
   "metadata": {},
   "outputs": [],
   "source": [
    "# country_list = ['EL', 'ES', 'FI', 'FR', 'HR', 'EE', 'DE', 'DK', 'BA', 'AT', 'BG',\n",
    "#        'CH', 'CY', 'BE', 'CZ', 'AL', 'LU', 'LV', 'ME', 'IE', 'IS', 'IT',\n",
    "#        'MK', 'MT', 'LI', 'NL', 'LT', 'HU', 'RS', 'SE', 'SI', 'TR', 'UA',\n",
    "#        'SK', 'RO', 'NO', 'PL', 'PT', 'XK', 'UK']\n",
    "# # df = df[(df['country_from'].isin(country_list)) | (df['country_to'].isin(country_list))]\n",
    "# # df = df[(df['country_from'].isin(country_list)) & (df['country_to'].isin(country_list))]\n",
    "\n",
    "# # df = df[(df['country_from'] == 'UA') & (df['country_to'].isin(country_list))]\n",
    "# # df = df[df['num_migrants'] != 0]\n",
    "# df = df[df['num_migrants'] >= 100]\n",
    "\n",
    "# df"
   ]
  },
  {
   "cell_type": "markdown",
   "id": "7e1377ca-7af9-4809-a364-794126ccf741",
   "metadata": {},
   "source": [
    "# VE "
   ]
  },
  {
   "cell_type": "code",
   "execution_count": null,
   "id": "4388db7e-2bc7-4ffe-ba22-43f957b24247",
   "metadata": {},
   "outputs": [],
   "source": [
    "df_ve_in = df[(df['country_to'] == 'VE') & (df['num_migrants'] != 0)]\n",
    "df_ve_out = df[(df['country_from'] == 'VE') & (df['num_migrants'] != 0)]"
   ]
  },
  {
   "cell_type": "code",
   "execution_count": null,
   "id": "cfad6e59-e46b-4036-990a-790e73919b00",
   "metadata": {},
   "outputs": [],
   "source": [
    "# 1. Always work on a copy of the dataframe to avoid chained assignment warnings\n",
    "df_ve_out = df_ve_out.copy()\n",
    "\n",
    "# 2. Convert migration_month to datetime safely\n",
    "df_ve_out.loc[:, \"migration_month\"] = pd.to_datetime(df_ve_out[\"migration_month\"])\n",
    "\n",
    "# 3. Create migration_quarter column safely using .loc\n",
    "df_ve_out.loc[:, \"migration_quarter\"] = df_ve_out[\"migration_month\"].dt.to_period(\"Q\").astype(str)\n",
    "\n",
    "# 4. Aggregate data by quarter & country\n",
    "df_quarterly = df_ve_out.groupby([\"migration_quarter\", \"country_to\"], as_index=False)[\"num_migrants\"].sum()\n",
    "\n",
    "# 5. Calculate total migrants per country\n",
    "df_country_totals = df_quarterly.groupby(\"country_to\", as_index=False)[\"num_migrants\"].sum()\n",
    "df_country_totals.rename(columns={\"num_migrants\": \"total_migrants\"}, inplace=True)\n",
    "\n",
    "# 6. Set threshold and filter valid countries\n",
    "threshold = 10000\n",
    "valid_countries = df_country_totals.loc[df_country_totals[\"total_migrants\"] > threshold, \"country_to\"]\n",
    "\n",
    "# 7. Filter df_quarterly without triggering SettingWithCopyWarning\n",
    "df_quarterly_filtered = df_quarterly[df_quarterly[\"country_to\"].isin(valid_countries)].copy()\n",
    "\n",
    "# 8. Create stacked bar chart with filtered data\n",
    "fig = px.bar(\n",
    "    df_quarterly_filtered,\n",
    "    x=\"migration_quarter\",\n",
    "    y=\"num_migrants\",\n",
    "    color=\"country_to\",\n",
    "    title=f\"Migrants from VE Over Time (Quarterly, Only Countries > {threshold} Migrants)\",\n",
    "    labels={\"migration_quarter\": \"Quarter\", \"num_migrants\": \"Number of Migrants\"},\n",
    ")\n",
    "\n",
    "fig.update_layout(\n",
    "    barmode=\"stack\",\n",
    "    xaxis_title=\"Quarter\",\n",
    "    yaxis_title=\"Number of Migrants\",\n",
    "    legend_title=\"From Country\",\n",
    ")\n",
    "\n",
    "fig.show()"
   ]
  },
  {
   "cell_type": "code",
   "execution_count": null,
   "id": "2fb54580-0721-48c4-89fd-960658aaa0f2",
   "metadata": {},
   "outputs": [],
   "source": [
    "# 1. Work on a copy to avoid SettingWithCopyWarning\n",
    "df_ve_in = df_ve_in.copy()\n",
    "\n",
    "# 2. Convert migration_month to datetime safely\n",
    "df_ve_in.loc[:, \"migration_month\"] = pd.to_datetime(df_ve_in[\"migration_month\"])\n",
    "\n",
    "# 3. Create migration_quarter column safely\n",
    "df_ve_in.loc[:, \"migration_quarter\"] = df_ve_in[\"migration_month\"].dt.to_period(\"Q\").astype(str)\n",
    "\n",
    "# 4. Aggregate data by quarter & country_from\n",
    "df_quarterly_in = df_ve_in.groupby([\"migration_quarter\", \"country_from\"], as_index=False)[\"num_migrants\"].sum()\n",
    "\n",
    "# 5. Calculate total migrants per country_from\n",
    "df_country_totals_in = df_quarterly_in.groupby(\"country_from\", as_index=False)[\"num_migrants\"].sum()\n",
    "df_country_totals_in.rename(columns={\"num_migrants\": \"total_migrants\"}, inplace=True)\n",
    "\n",
    "# 6. Set threshold (e.g., keep only countries with > 500 migrants total)\n",
    "threshold = 10000\n",
    "valid_countries_in = df_country_totals_in.loc[df_country_totals_in[\"total_migrants\"] > threshold, \"country_from\"]\n",
    "\n",
    "# 7. Filter df_quarterly_in to include only valid countries\n",
    "df_quarterly_in_filtered = df_quarterly_in[df_quarterly_in[\"country_from\"].isin(valid_countries_in)].copy()\n",
    "\n",
    "# 8. Create stacked bar chart with filtered data\n",
    "fig = px.bar(\n",
    "    df_quarterly_in_filtered,\n",
    "    x=\"migration_quarter\",\n",
    "    y=\"num_migrants\",\n",
    "    color=\"country_from\",\n",
    "    title=f\"Migrants to VE Over Time (Quarterly, Only Countries > {threshold} Migrants)\",\n",
    "    labels={\"migration_quarter\": \"Quarter\", \"num_migrants\": \"Number of Migrants\"},\n",
    ")\n",
    "\n",
    "fig.update_layout(\n",
    "    barmode=\"stack\",\n",
    "    xaxis_title=\"Quarter\",\n",
    "    yaxis_title=\"Number of Migrants\",\n",
    "    legend_title=\"From Country\",\n",
    ")\n",
    "\n",
    "fig.show()"
   ]
  },
  {
   "cell_type": "markdown",
   "id": "883112f2-3fa8-41ce-91b9-10e2e92fd931",
   "metadata": {
    "jp-MarkdownHeadingCollapsed": true
   },
   "source": [
    "### Waffle for R"
   ]
  },
  {
   "cell_type": "code",
   "execution_count": null,
   "id": "e09d6295-bde5-40c8-aa63-6554eb1ac418",
   "metadata": {},
   "outputs": [],
   "source": [
    "out_migration_totals = df_ve_out.groupby('country_to')['num_migrants'].sum().sort_values(ascending=False)\n",
    "out_migration_totals"
   ]
  },
  {
   "cell_type": "code",
   "execution_count": null,
   "id": "b45129e1-9399-49ae-9dae-2316af1b14dd",
   "metadata": {
    "jupyter": {
     "source_hidden": true
    }
   },
   "outputs": [],
   "source": [
    "plt.figure(figsize=(10, 6))\n",
    "plt.hist(out_migration_totals, bins=30, edgecolor='black')\n",
    "\n",
    "plt.title('Distribution of Migrant Counts per Destination Country')\n",
    "plt.xlabel('Number of Migrants')\n",
    "plt.ylabel('Number of Countries')\n",
    "plt.tight_layout()\n",
    "plt.show()"
   ]
  },
  {
   "cell_type": "code",
   "execution_count": null,
   "id": "a6491463-fc8a-4999-b474-037283ea66be",
   "metadata": {},
   "outputs": [],
   "source": [
    "threshold = 0.05 * 1_000_000  # 200,000 migrants\n",
    "major_countries = out_migration_totals[out_migration_totals > threshold]\n",
    "others_sum = out_migration_totals[out_migration_totals < threshold].sum()\n",
    "major_countries['Other'] = others_sum\n",
    "\n",
    "major_countries"
   ]
  },
  {
   "cell_type": "code",
   "execution_count": null,
   "id": "d345ae2d-b90c-423a-bb2c-33619f744843",
   "metadata": {},
   "outputs": [],
   "source": [
    "df_ve_out_top =  df_ve_out[df_ve_out['migration_month'] == '2022-02-01'].sort_values(by='num_migrants', ascending=False).head(11)\n",
    "df_ve_out_top[['country_to', 'num_migrants']]"
   ]
  },
  {
   "cell_type": "code",
   "execution_count": null,
   "id": "26534de1-8081-4b4d-a37d-8c681d9d31eb",
   "metadata": {},
   "outputs": [],
   "source": [
    "df_month = df_ve_out[df_ve_out['migration_month'] == '2022-02-01']\n",
    "\n",
    "migration_totals = df_month.groupby('country_to')['num_migrants'].sum()\n",
    "sorted_totals = migration_totals.sort_values(ascending=False)\n",
    "\n",
    "top_10 = sorted_totals.head(8)\n",
    "others_sum = sorted_totals.iloc[8:].sum()\n",
    "\n",
    "# Use pd.concat instead of append\n",
    "migration_final = pd.concat([top_10, pd.Series({'Other': others_sum})])\n",
    "\n",
    "migration_final"
   ]
  },
  {
   "cell_type": "markdown",
   "id": "c0617783-9e00-45d6-b8f5-1efef828293d",
   "metadata": {
    "jp-MarkdownHeadingCollapsed": true
   },
   "source": [
    "### Heatmap"
   ]
  },
  {
   "cell_type": "code",
   "execution_count": null,
   "id": "f6356baa-171a-421a-8679-5612d13ac277",
   "metadata": {},
   "outputs": [],
   "source": [
    "# 1. Filter origin and destination countries of interest:\n",
    "origin_countries = ['VE', 'CL', 'AR', 'PE']\n",
    "# For destination, you can pick top N countries by migrant volume or specific countries\n",
    "destination_countries = ['US', 'ES', 'CO', 'BR', 'EC', 'PE', 'CL', 'AR']  # example subset\n",
    "\n",
    "df_filtered = df[\n",
    "    (df['country_from'].isin(origin_countries)) &\n",
    "    (df['country_to'].isin(destination_countries))\n",
    "]\n",
    "\n",
    "# 2. Aggregate data: average monthly migrants by origin-destination pair over all months\n",
    "avg_flows = (\n",
    "    df_filtered\n",
    "    .groupby(['country_from', 'country_to'])['num_migrants']\n",
    "    .mean()\n",
    "    .reset_index()\n",
    ")\n",
    "\n",
    "# 3. Pivot data to get matrix form for heatmap: rows=origin, columns=destination\n",
    "heatmap_data = avg_flows.pivot(index='country_from', columns='country_to', values='num_migrants')\n",
    "\n",
    "# 4. Plot heatmap\n",
    "plt.figure(figsize=(10, 6))\n",
    "sns.heatmap(heatmap_data, annot=True, fmt=\".0f\", cmap='YlGnBu')\n",
    "\n",
    "plt.title('Average Monthly Migration Flows by Corridor')\n",
    "plt.ylabel('Origin Country')\n",
    "plt.xlabel('Destination Country')\n",
    "plt.tight_layout()\n",
    "plt.show()\n"
   ]
  },
  {
   "cell_type": "code",
   "execution_count": null,
   "id": "ddefbbd5-8e1e-488a-9862-082e3a2eb546",
   "metadata": {},
   "outputs": [],
   "source": []
  },
  {
   "cell_type": "markdown",
   "id": "cfcb0802-1aa4-4c91-b2fb-952078c25a21",
   "metadata": {},
   "source": [
    "## Exporting"
   ]
  },
  {
   "cell_type": "markdown",
   "id": "609ee343-ffa5-44ba-b15d-74a1c7d6eb03",
   "metadata": {},
   "source": [
    "### VE "
   ]
  },
  {
   "cell_type": "code",
   "execution_count": null,
   "id": "9a6eb0bd-5ad9-4395-87fa-39db7bc58e29",
   "metadata": {},
   "outputs": [],
   "source": [
    "df_ve_in = df[(df['country_to'] == 'VE') & (df['num_migrants'] != 0)]\n",
    "df_ve_out = df[(df['country_from'] == 'VE') & (df['num_migrants'] != 0)]"
   ]
  },
  {
   "cell_type": "code",
   "execution_count": null,
   "id": "1bb4ee13-9edc-42ef-8a3f-907fc0b0bcf2",
   "metadata": {
    "scrolled": true
   },
   "outputs": [],
   "source": [
    "# df_ve_in\n",
    "fig = px.line(\n",
    "    df_ve_in,\n",
    "    x=\"migration_month\",\n",
    "    y=\"num_migrants\",\n",
    "    color=\"country_from\", \n",
    "    markers=True,\n",
    "    title=\"Migrants to VE Over Time\"\n",
    ")\n",
    "\n",
    "fig.update_layout(\n",
    "    xaxis_title=\"Month\",\n",
    "    yaxis_title=\"Number of Migrants\",\n",
    "    legend_title=\"From Country\"\n",
    ")\n",
    "\n",
    "fig.show()"
   ]
  },
  {
   "cell_type": "code",
   "execution_count": null,
   "id": "fdc9bdbe-02f3-4b06-8f06-0fa38bdc6ac1",
   "metadata": {},
   "outputs": [],
   "source": [
    "# df_ve_out\n",
    "fig = px.line(\n",
    "    df_ve_out,\n",
    "    x=\"migration_month\",\n",
    "    y=\"num_migrants\",\n",
    "    color=\"country_to\", \n",
    "    markers=True,\n",
    "    title=\"Migrants from VE Over Time\"\n",
    ")\n",
    "\n",
    "fig.update_layout(\n",
    "    xaxis_title=\"Month\",\n",
    "    yaxis_title=\"Number of Migrants\",\n",
    "    legend_title=\"To Country\"\n",
    ")\n",
    "\n",
    "fig.show()"
   ]
  },
  {
   "cell_type": "markdown",
   "id": "de7e95fb-7b17-4189-8207-029742adc445",
   "metadata": {},
   "source": [
    "### Haiti"
   ]
  },
  {
   "cell_type": "code",
   "execution_count": null,
   "id": "6d82eca8-200f-43b4-ba80-b100347b291b",
   "metadata": {},
   "outputs": [],
   "source": [
    "df_HT_in = df[(df['country_to'] == 'HT') & (df['num_migrants'] != 0)]\n",
    "df_HT_out = df[(df['country_from'] == 'HT') & (df['num_migrants'] != 0)]"
   ]
  },
  {
   "cell_type": "code",
   "execution_count": null,
   "id": "0f754d0c-db08-4699-82d6-44010f5ce6e1",
   "metadata": {},
   "outputs": [],
   "source": [
    "# df_HT_in\n",
    "fig = px.line(\n",
    "    df_HT_in,\n",
    "    x=\"migration_month\",\n",
    "    y=\"num_migrants\",\n",
    "    color=\"country_from\", \n",
    "    markers=True,\n",
    "    title=\"Migrants to HT Over Time\"\n",
    ")\n",
    "\n",
    "fig.update_layout(\n",
    "    xaxis_title=\"Month\",\n",
    "    yaxis_title=\"Number of Migrants\",\n",
    "    legend_title=\"From Country\"\n",
    ")\n",
    "\n",
    "fig.show()"
   ]
  },
  {
   "cell_type": "code",
   "execution_count": null,
   "id": "34fda086-50a5-4db3-8cf4-790917241c72",
   "metadata": {},
   "outputs": [],
   "source": [
    "# df_HT_out\n",
    "fig = px.line(\n",
    "    df_HT_out,\n",
    "    x=\"migration_month\",\n",
    "    y=\"num_migrants\",\n",
    "    color=\"country_to\", \n",
    "    markers=True,\n",
    "    title=\"Migrants from HT Over Time\"\n",
    ")\n",
    "\n",
    "fig.update_layout(\n",
    "    xaxis_title=\"Month\",\n",
    "    yaxis_title=\"Number of Migrants\",\n",
    "    legend_title=\"To Country\"\n",
    ")\n",
    "\n",
    "fig.show()"
   ]
  },
  {
   "cell_type": "markdown",
   "id": "5d01ffa4-609d-424f-a5f4-54a65f2defab",
   "metadata": {},
   "source": [
    "### AR"
   ]
  },
  {
   "cell_type": "code",
   "execution_count": null,
   "id": "cc76af43-0766-47e3-a720-0e9e0d3ee47b",
   "metadata": {},
   "outputs": [],
   "source": [
    "df_AR_in = df[(df['country_to'] == 'AR') & (df['num_migrants'] != 0)]\n",
    "df_AR_out = df[(df['country_from'] == 'AR') & (df['num_migrants'] != 0)]"
   ]
  },
  {
   "cell_type": "code",
   "execution_count": null,
   "id": "426ca401-bf7a-447e-be73-a2fea6a42eaf",
   "metadata": {
    "scrolled": true
   },
   "outputs": [],
   "source": [
    "# df_AR_in\n",
    "fig = px.line(\n",
    "    df_AR_in,\n",
    "    x=\"migration_month\",\n",
    "    y=\"num_migrants\",\n",
    "    color=\"country_from\", \n",
    "    markers=True,\n",
    "    title=\"Migrants to AR Over Time\"\n",
    ")\n",
    "\n",
    "fig.update_layout(\n",
    "    xaxis_title=\"Month\",\n",
    "    yaxis_title=\"Number of Migrants\",\n",
    "    legend_title=\"From Country\"\n",
    ")\n",
    "\n",
    "fig.show()"
   ]
  },
  {
   "cell_type": "code",
   "execution_count": null,
   "id": "a74aea68-f439-4ed1-8308-680e66b880e5",
   "metadata": {},
   "outputs": [],
   "source": [
    "# df_AR_out\n",
    "fig = px.line(\n",
    "    df_AR_out,\n",
    "    x=\"migration_month\",\n",
    "    y=\"num_migrants\",\n",
    "    color=\"country_to\", \n",
    "    markers=True,\n",
    "    title=\"Migrants from AR Over Time\"\n",
    ")\n",
    "\n",
    "fig.update_layout(\n",
    "    xaxis_title=\"Month\",\n",
    "    yaxis_title=\"Number of Migrants\",\n",
    "    legend_title=\"To Country\"\n",
    ")\n",
    "\n",
    "fig.show()"
   ]
  },
  {
   "cell_type": "code",
   "execution_count": null,
   "id": "ecc64cd4-286c-4111-8ed6-3ca980ff0dfd",
   "metadata": {},
   "outputs": [],
   "source": []
  },
  {
   "cell_type": "markdown",
   "id": "a3c41586-4a65-4464-8ca3-6d1eac4a45b6",
   "metadata": {},
   "source": [
    "## Importing "
   ]
  },
  {
   "cell_type": "markdown",
   "id": "9a3d53d8-f17d-4d3b-b4e5-632c160879c8",
   "metadata": {},
   "source": [
    "### CO"
   ]
  },
  {
   "cell_type": "code",
   "execution_count": null,
   "id": "89620b2e-cc7a-4c19-bc34-b4f0f033c5a6",
   "metadata": {},
   "outputs": [],
   "source": [
    "df_co_in = df[(df['country_to'] == 'CO') & (df['num_migrants'] != 0)]\n",
    "df_co_out = df[(df['country_from'] == 'CO') & (df['num_migrants'] != 0)]"
   ]
  },
  {
   "cell_type": "code",
   "execution_count": null,
   "id": "1ec72bc4-0368-4bab-9388-d95fe03cedb6",
   "metadata": {},
   "outputs": [],
   "source": [
    "# df_co_in\n",
    "fig = px.line(\n",
    "    df_co_in,\n",
    "    x=\"migration_month\",\n",
    "    y=\"num_migrants\",\n",
    "    color=\"country_from\", \n",
    "    markers=True,\n",
    "    title=\"Migrants to CO Over Time\"\n",
    ")\n",
    "\n",
    "fig.update_layout(\n",
    "    xaxis_title=\"Month\",\n",
    "    yaxis_title=\"Number of Migrants\",\n",
    "    legend_title=\"From Country\"\n",
    ")\n",
    "\n",
    "fig.show()"
   ]
  },
  {
   "cell_type": "code",
   "execution_count": null,
   "id": "80f83e5a-42cc-4d16-aae8-8130c0a30b27",
   "metadata": {},
   "outputs": [],
   "source": [
    "# df_co_out\n",
    "fig = px.line(\n",
    "    df_co_out,\n",
    "    x=\"migration_month\",\n",
    "    y=\"num_migrants\",\n",
    "    color=\"country_to\", \n",
    "    markers=True,\n",
    "    title=\"Migrants from CO Over Time\"\n",
    ")\n",
    "\n",
    "fig.update_layout(\n",
    "    xaxis_title=\"Month\",\n",
    "    yaxis_title=\"Number of Migrants\",\n",
    "    legend_title=\"To Country\"\n",
    ")\n",
    "\n",
    "fig.show()"
   ]
  },
  {
   "cell_type": "markdown",
   "id": "55d2123e-eb31-45ca-bbd5-9d699d0059b7",
   "metadata": {},
   "source": [
    "### PE"
   ]
  },
  {
   "cell_type": "code",
   "execution_count": null,
   "id": "bec26610-7add-459b-82ae-a42e6833dcba",
   "metadata": {},
   "outputs": [],
   "source": [
    "df_PE_in = df[(df['country_to'] == 'PE') & (df['num_migrants'] != 0)]\n",
    "df_PE_out = df[(df['country_from'] == 'PE') & (df['num_migrants'] != 0)]"
   ]
  },
  {
   "cell_type": "code",
   "execution_count": null,
   "id": "90edf529-15db-4848-a54f-11e761904d06",
   "metadata": {},
   "outputs": [],
   "source": [
    "# df_cl_in\n",
    "fig = px.line(\n",
    "    df_PE_in,\n",
    "    x=\"migration_month\",\n",
    "    y=\"num_migrants\",\n",
    "    color=\"country_from\", \n",
    "    markers=True,\n",
    "    title=\"Migrants to PE Over Time\"\n",
    ")\n",
    "\n",
    "fig.update_layout(\n",
    "    xaxis_title=\"Month\",\n",
    "    yaxis_title=\"Number of Migrants\",\n",
    "    legend_title=\"From Country\"\n",
    ")\n",
    "\n",
    "fig.show()"
   ]
  },
  {
   "cell_type": "code",
   "execution_count": null,
   "id": "ac2672ea-6bb4-4b33-8f89-4cd2d8f090a7",
   "metadata": {},
   "outputs": [],
   "source": [
    "# df_PE_out\n",
    "fig = px.line(\n",
    "    df_PE_out,\n",
    "    x=\"migration_month\",\n",
    "    y=\"num_migrants\",\n",
    "    color=\"country_to\", \n",
    "    markers=True,\n",
    "    title=\"Migrants from PE Over Time\"\n",
    ")\n",
    "\n",
    "fig.update_layout(\n",
    "    xaxis_title=\"Month\",\n",
    "    yaxis_title=\"Number of Migrants\",\n",
    "    legend_title=\"From Country\"\n",
    ")\n",
    "\n",
    "fig.show()"
   ]
  },
  {
   "cell_type": "markdown",
   "id": "dc5dfbbe-a0dc-4669-8caf-09434a321a94",
   "metadata": {},
   "source": [
    "### CL"
   ]
  },
  {
   "cell_type": "code",
   "execution_count": null,
   "id": "7f903bc1-e282-478e-8853-279efbec6ebf",
   "metadata": {},
   "outputs": [],
   "source": [
    "df_cl_in = df[(df['country_to'] == 'CL') & (df['num_migrants'] != 0)]\n",
    "df_cl_out = df[(df['country_from'] == 'CL') & (df['num_migrants'] != 0)]"
   ]
  },
  {
   "cell_type": "code",
   "execution_count": null,
   "id": "e0fe06ba-95f0-4080-b368-19d375608a44",
   "metadata": {},
   "outputs": [],
   "source": [
    "# df_cl_in\n",
    "fig = px.line(\n",
    "    df_cl_in,\n",
    "    x=\"migration_month\",\n",
    "    y=\"num_migrants\",\n",
    "    color=\"country_from\", \n",
    "    markers=True,\n",
    "    title=\"Migrants to CL Over Time\"\n",
    ")\n",
    "\n",
    "fig.update_layout(\n",
    "    xaxis_title=\"Month\",\n",
    "    yaxis_title=\"Number of Migrants\",\n",
    "    legend_title=\"From Country\"\n",
    ")\n",
    "\n",
    "fig.show()"
   ]
  },
  {
   "cell_type": "code",
   "execution_count": null,
   "id": "cfffdd86-1068-4308-9a91-528339ed74af",
   "metadata": {},
   "outputs": [],
   "source": [
    "# df_cl_out\n",
    "fig = px.line(\n",
    "    df_cl_out,\n",
    "    x=\"migration_month\",\n",
    "    y=\"num_migrants\",\n",
    "    color=\"country_to\", \n",
    "    markers=True,\n",
    "    title=\"Migrants from CL Over Time\"\n",
    ")\n",
    "\n",
    "fig.update_layout(\n",
    "    xaxis_title=\"Month\",\n",
    "    yaxis_title=\"Number of Migrants\",\n",
    "    legend_title=\"From Country\"\n",
    ")\n",
    "\n",
    "fig.show()"
   ]
  },
  {
   "cell_type": "code",
   "execution_count": null,
   "id": "d3ccc5ea-0b97-40c1-9386-2d61546a9617",
   "metadata": {},
   "outputs": [],
   "source": [
    "df_AR_in = df[(df['country_to'] == 'AR') & (df['num_migrants'] != 0)]\n",
    "df_AR_out = df[(df['country_from'] == 'AR') & (df['num_migrants'] != 0)]"
   ]
  },
  {
   "cell_type": "code",
   "execution_count": null,
   "id": "16f53aef-e81f-4ac9-bde6-085c1023aa8c",
   "metadata": {},
   "outputs": [],
   "source": [
    "# df_cl_in\n",
    "fig = px.line(\n",
    "    df_AR_in,\n",
    "    x=\"migration_month\",\n",
    "    y=\"num_migrants\",\n",
    "    color=\"country_from\", \n",
    "    markers=True,\n",
    "    title=\"Migrants to AR Over Time\"\n",
    ")\n",
    "\n",
    "fig.update_layout(\n",
    "    xaxis_title=\"Month\",\n",
    "    yaxis_title=\"Number of Migrants\",\n",
    "    legend_title=\"From Country\"\n",
    ")\n",
    "\n",
    "fig.show()"
   ]
  },
  {
   "cell_type": "code",
   "execution_count": null,
   "id": "4cb6cbec-cbf0-48e4-9af8-ff53cb72bde0",
   "metadata": {},
   "outputs": [],
   "source": [
    "# df_cl_out\n",
    "fig = px.line(\n",
    "    df_AR_out,\n",
    "    x=\"migration_month\",\n",
    "    y=\"num_migrants\",\n",
    "    color=\"country_to\", \n",
    "    markers=True,\n",
    "    title=\"Migrants from AR Over Time\"\n",
    ")\n",
    "\n",
    "fig.update_layout(\n",
    "    xaxis_title=\"Month\",\n",
    "    yaxis_title=\"Number of Migrants\",\n",
    "    legend_title=\"From Country\"\n",
    ")\n",
    "\n",
    "fig.show()"
   ]
  },
  {
   "cell_type": "markdown",
   "id": "f221791e-aa51-4179-9433-cb6ace5b51df",
   "metadata": {},
   "source": [
    "### MX"
   ]
  },
  {
   "cell_type": "code",
   "execution_count": null,
   "id": "f006cd57-42d5-464c-be8e-42eebad4f0a5",
   "metadata": {},
   "outputs": [],
   "source": [
    "df_MX_in = df[(df['country_to'] == 'MX') & (df['num_migrants'] != 0)]\n",
    "df_MX_out = df[(df['country_from'] == 'MX') & (df['num_migrants'] != 0)]"
   ]
  },
  {
   "cell_type": "code",
   "execution_count": null,
   "id": "28aaa79d-6a13-48de-864b-e789617ad683",
   "metadata": {},
   "outputs": [],
   "source": [
    "# df_mx_out\n",
    "fig = px.line(\n",
    "    df_MX_out,\n",
    "    x=\"migration_month\",\n",
    "    y=\"num_migrants\",\n",
    "    color=\"country_to\", \n",
    "    markers=True,\n",
    "    title=\"Migrants from MX Over Time\"\n",
    ")\n",
    "\n",
    "fig.update_layout(\n",
    "    xaxis_title=\"Month\",\n",
    "    yaxis_title=\"Number of Migrants\",\n",
    "    legend_title=\"To Country\"\n",
    ")\n",
    "\n",
    "fig.show()"
   ]
  },
  {
   "cell_type": "code",
   "execution_count": null,
   "id": "bacc7fcf-33ff-4aa9-93b7-03006260c129",
   "metadata": {},
   "outputs": [],
   "source": [
    "# df_mx_in\n",
    "fig = px.line(\n",
    "    df_MX_in,\n",
    "    x=\"migration_month\",\n",
    "    y=\"num_migrants\",\n",
    "    color=\"country_from\", \n",
    "    markers=True,\n",
    "    title=\"Migrants to MX Over Time\"\n",
    ")\n",
    "\n",
    "fig.update_layout(\n",
    "    xaxis_title=\"Month\",\n",
    "    yaxis_title=\"Number of Migrants\",\n",
    "    legend_title=\"From Country\"\n",
    ")\n",
    "\n",
    "fig.show()"
   ]
  },
  {
   "cell_type": "markdown",
   "id": "f323b90b-41e5-49a6-bf61-f3e6ced536ac",
   "metadata": {},
   "source": [
    "### EC"
   ]
  },
  {
   "cell_type": "code",
   "execution_count": null,
   "id": "80269bed-2ae9-461d-8083-886baa2e6289",
   "metadata": {},
   "outputs": [],
   "source": [
    "df_EC_in = df[(df['country_to'] == 'EC') & (df['num_migrants'] != 0)]\n",
    "df_EC_out = df[(df['country_from'] == 'EC') & (df['num_migrants'] != 0)]"
   ]
  },
  {
   "cell_type": "code",
   "execution_count": null,
   "id": "c18f8eda-1a9a-4f60-b886-cc945e2b4211",
   "metadata": {},
   "outputs": [],
   "source": [
    "# df_EC_in\n",
    "fig = px.line(\n",
    "    df_EC_in,\n",
    "    x=\"migration_month\",\n",
    "    y=\"num_migrants\",\n",
    "    color=\"country_from\", \n",
    "    markers=True,\n",
    "    title=\"Migrants to EC Over Time\"\n",
    ")\n",
    "\n",
    "fig.update_layout(\n",
    "    xaxis_title=\"Month\",\n",
    "    yaxis_title=\"Number of Migrants\",\n",
    "    legend_title=\"From Country\"\n",
    ")\n",
    "\n",
    "fig.show()"
   ]
  },
  {
   "cell_type": "code",
   "execution_count": null,
   "id": "10ccfae5-52a7-4ffe-ab12-3f1546236db7",
   "metadata": {},
   "outputs": [],
   "source": [
    "# df_EC_out\n",
    "fig = px.line(\n",
    "    df_EC_out,\n",
    "    x=\"migration_month\",\n",
    "    y=\"num_migrants\",\n",
    "    color=\"country_to\", \n",
    "    markers=True,\n",
    "    title=\"Migrants from EC Over Time\"\n",
    ")\n",
    "\n",
    "fig.update_layout(\n",
    "    xaxis_title=\"Month\",\n",
    "    yaxis_title=\"Number of Migrants\",\n",
    "    legend_title=\"To Country\"\n",
    ")\n",
    "\n",
    "fig.show()"
   ]
  },
  {
   "cell_type": "markdown",
   "id": "7056dd9d-e23f-4e54-ae85-786e49260c0a",
   "metadata": {},
   "source": [
    "### UY (with AR) "
   ]
  },
  {
   "cell_type": "code",
   "execution_count": null,
   "id": "f7c595e8-963e-4f41-8393-4df30977c822",
   "metadata": {},
   "outputs": [],
   "source": [
    "df_UY_in = df[(df['country_to'] == 'UY') & (df['num_migrants'] != 0)]\n",
    "df_UY_out = df[(df['country_from'] == 'UY') & (df['num_migrants'] != 0)]"
   ]
  },
  {
   "cell_type": "code",
   "execution_count": null,
   "id": "9c24fb54-6525-4af4-be95-52c51fb1ccb4",
   "metadata": {},
   "outputs": [],
   "source": [
    "# df_ur_out\n",
    "fig = px.line(\n",
    "    df_UY_out,\n",
    "    x=\"migration_month\",\n",
    "    y=\"num_migrants\",\n",
    "    color=\"country_to\", \n",
    "    markers=True,\n",
    "    title=\"Migrants from UY Over Time\"\n",
    ")\n",
    "\n",
    "fig.update_layout(\n",
    "    xaxis_title=\"Month\",\n",
    "    yaxis_title=\"Number of Migrants\",\n",
    "    legend_title=\"From Country\"\n",
    ")\n",
    "\n",
    "fig.show()"
   ]
  },
  {
   "cell_type": "code",
   "execution_count": null,
   "id": "2dc71817-e376-457c-8b8f-75d1c8bf9a2f",
   "metadata": {},
   "outputs": [],
   "source": [
    "# df_uy_in\n",
    "fig = px.line(\n",
    "    df_UY_in,\n",
    "    x=\"migration_month\",\n",
    "    y=\"num_migrants\",\n",
    "    color=\"country_from\", \n",
    "    markers=True,\n",
    "    title=\"Migrants to UY Over Time\"\n",
    ")\n",
    "\n",
    "fig.update_layout(\n",
    "    xaxis_title=\"Month\",\n",
    "    yaxis_title=\"Number of Migrants\",\n",
    "    legend_title=\"From Country\"\n",
    ")\n",
    "\n",
    "fig.show()"
   ]
  },
  {
   "cell_type": "markdown",
   "id": "74d75fa6-1016-4241-84d4-330c54628a41",
   "metadata": {},
   "source": [
    "### DO  "
   ]
  },
  {
   "cell_type": "code",
   "execution_count": null,
   "id": "3257c90f-d854-4bfa-97c7-b4cf2a267b4e",
   "metadata": {},
   "outputs": [],
   "source": [
    "df_DO_in = df[(df['country_to'] == 'DO') & (df['num_migrants'] != 0)]\n",
    "df_DO_out = df[(df['country_from'] == 'DO') & (df['num_migrants'] != 0)]"
   ]
  },
  {
   "cell_type": "code",
   "execution_count": null,
   "id": "58b7d07d-54f3-47ba-8d27-2fbb6564372b",
   "metadata": {},
   "outputs": [],
   "source": [
    "# df_DO_in\n",
    "fig = px.line(\n",
    "    df_DO_in,\n",
    "    x=\"migration_month\",\n",
    "    y=\"num_migrants\",\n",
    "    color=\"country_from\", \n",
    "    markers=True,\n",
    "    title=\"Migrants to DO Over Time\"\n",
    ")\n",
    "\n",
    "fig.update_layout(\n",
    "    xaxis_title=\"Month\",\n",
    "    yaxis_title=\"Number of Migrants\",\n",
    "    legend_title=\"From Country\"\n",
    ")\n",
    "\n",
    "fig.show()"
   ]
  },
  {
   "cell_type": "code",
   "execution_count": null,
   "id": "dad78660-316e-4abb-a598-65be7ba09a30",
   "metadata": {},
   "outputs": [],
   "source": [
    "# df_DO_out\n",
    "fig = px.line(\n",
    "    df_DO_out,\n",
    "    x=\"migration_month\",\n",
    "    y=\"num_migrants\",\n",
    "    color=\"country_to\", \n",
    "    markers=True,\n",
    "    title=\"Migrants from DO Over Time\"\n",
    ")\n",
    "\n",
    "fig.update_layout(\n",
    "    xaxis_title=\"Month\",\n",
    "    yaxis_title=\"Number of Migrants\",\n",
    "    legend_title=\"From Country\"\n",
    ")\n",
    "\n",
    "fig.show()"
   ]
  },
  {
   "cell_type": "markdown",
   "id": "a4d32359-eece-4431-a3d2-1aa2e6d34f10",
   "metadata": {},
   "source": [
    "## MM to TH"
   ]
  },
  {
   "cell_type": "code",
   "execution_count": null,
   "id": "86fc3627-19ed-4ef2-994e-8050d8fc84eb",
   "metadata": {},
   "outputs": [],
   "source": [
    "df_MM_in = df[(df['country_to'] == 'MM') & (df['num_migrants'] != 0)]\n",
    "df_MM_out = df[(df['country_from'] == 'MM') & (df['num_migrants'] != 0)]\n",
    "\n",
    "fig = px.line(\n",
    "    df_MM_in,\n",
    "    x=\"migration_month\",\n",
    "    y=\"num_migrants\",\n",
    "    color=\"country_from\", \n",
    "    markers=True,\n",
    "    title=\"Migrants to MM Over Time\"\n",
    ")\n",
    "\n",
    "fig.update_layout(\n",
    "    xaxis_title=\"Month\",\n",
    "    yaxis_title=\"Number of Migrants\",\n",
    "    legend_title=\"From Country\"\n",
    ")\n",
    "\n",
    "fig.show()"
   ]
  },
  {
   "cell_type": "code",
   "execution_count": null,
   "id": "e84f4d47-9838-415e-ab8d-2fe86b0802af",
   "metadata": {},
   "outputs": [],
   "source": [
    "# df_MM_out\n",
    "fig = px.line(\n",
    "    df_MM_out,\n",
    "    x=\"migration_month\",\n",
    "    y=\"num_migrants\",\n",
    "    color=\"country_to\", \n",
    "    markers=True,\n",
    "    title=\"Migrants from MM Over Time\"\n",
    ")\n",
    "\n",
    "fig.update_layout(\n",
    "    xaxis_title=\"Month\",\n",
    "    yaxis_title=\"Number of Migrants\",\n",
    "    legend_title=\"From Country\"\n",
    ")\n",
    "\n",
    "fig.show()"
   ]
  },
  {
   "cell_type": "code",
   "execution_count": null,
   "id": "7185e37a-ae2f-4869-92d5-b40a7e7f62d5",
   "metadata": {},
   "outputs": [],
   "source": [
    "df_TH_in = df[(df['country_to'] == 'TH') & (df['num_migrants'] != 0)]\n",
    "df_TH_out = df[(df['country_from'] == 'TH') & (df['num_migrants'] != 0)]\n",
    "\n",
    "fig = px.line(\n",
    "    df_TH_in,\n",
    "    x=\"migration_month\",\n",
    "    y=\"num_migrants\",\n",
    "    color=\"country_from\", \n",
    "    markers=True,\n",
    "    title=\"Migrants to TH Over Time\"\n",
    ")\n",
    "\n",
    "fig.update_layout(\n",
    "    xaxis_title=\"Month\",\n",
    "    yaxis_title=\"Number of Migrants\",\n",
    "    legend_title=\"From Country\"\n",
    ")\n",
    "\n",
    "fig.show()"
   ]
  },
  {
   "cell_type": "code",
   "execution_count": null,
   "id": "b2e252ef-5c8a-4975-89d8-8b44410a4d9c",
   "metadata": {},
   "outputs": [],
   "source": [
    "# df_TH_out\n",
    "fig = px.line(\n",
    "    df_TH_out,\n",
    "    x=\"migration_month\",\n",
    "    y=\"num_migrants\",\n",
    "    color=\"country_to\", \n",
    "    markers=True,\n",
    "    title=\"Migrants from TH Over Time\"\n",
    ")\n",
    "\n",
    "fig.update_layout(\n",
    "    xaxis_title=\"Month\",\n",
    "    yaxis_title=\"Number of Migrants\",\n",
    "    legend_title=\"To Country\"\n",
    ")\n",
    "\n",
    "fig.show()"
   ]
  },
  {
   "cell_type": "markdown",
   "id": "d8deb1d6-44e4-450c-a1b9-374d8a636815",
   "metadata": {},
   "source": [
    "## SY TR"
   ]
  },
  {
   "cell_type": "code",
   "execution_count": null,
   "id": "be02eb55-fa9b-48fd-9bb4-af4d684f503f",
   "metadata": {},
   "outputs": [],
   "source": [
    "df_SY_in = df[(df['country_to'] == 'SY') & (df['num_migrants'] != 0)]\n",
    "df_SY_out = df[(df['country_from'] == 'SY') & (df['num_migrants'] != 0)]\n",
    "\n",
    "# df_DO_in\n",
    "fig = px.line(\n",
    "    df_SY_in,\n",
    "    x=\"migration_month\",\n",
    "    y=\"num_migrants\",\n",
    "    color=\"country_from\", \n",
    "    markers=True,\n",
    "    title=\"Migrants to SY Over Time\"\n",
    ")\n",
    "\n",
    "fig.update_layout(\n",
    "    xaxis_title=\"Month\",\n",
    "    yaxis_title=\"Number of Migrants\",\n",
    "    legend_title=\"From Country\"\n",
    ")\n",
    "\n",
    "fig.show()"
   ]
  },
  {
   "cell_type": "code",
   "execution_count": null,
   "id": "40af330b-3fdc-476a-a13f-0fef53339f94",
   "metadata": {},
   "outputs": [],
   "source": [
    "# df_SY_out\n",
    "fig = px.line(\n",
    "    df_SY_out,\n",
    "    x=\"migration_month\",\n",
    "    y=\"num_migrants\",\n",
    "    color=\"country_to\", \n",
    "    markers=True,\n",
    "    title=\"Migrants from SY Over Time\"\n",
    ")\n",
    "\n",
    "fig.update_layout(\n",
    "    xaxis_title=\"Month\",\n",
    "    yaxis_title=\"Number of Migrants\",\n",
    "    legend_title=\"To Country\"\n",
    ")\n",
    "\n",
    "fig.show()"
   ]
  },
  {
   "cell_type": "code",
   "execution_count": null,
   "id": "1437b787-c6d5-4c84-98cd-8dc1ef7aa7b5",
   "metadata": {},
   "outputs": [],
   "source": [
    "df_TR_in = df[(df['country_to'] == 'TR') & (df['num_migrants'] != 0)]\n",
    "df_TR_out = df[(df['country_from'] == 'TR') & (df['num_migrants'] != 0)]\n",
    "\n",
    "# df_TR_in\n",
    "fig = px.line(\n",
    "    df_TR_in,\n",
    "    x=\"migration_month\",\n",
    "    y=\"num_migrants\",\n",
    "    color=\"country_from\", \n",
    "    markers=True,\n",
    "    title=\"Migrants to TR Over Time\"\n",
    ")\n",
    "\n",
    "fig.update_layout(\n",
    "    xaxis_title=\"Month\",\n",
    "    yaxis_title=\"Number of Migrants\",\n",
    "    legend_title=\"From Country\"\n",
    ")\n",
    "\n",
    "fig.show()"
   ]
  },
  {
   "cell_type": "code",
   "execution_count": null,
   "id": "c9cb472e-3821-4168-acd6-fa7df44cbb5a",
   "metadata": {},
   "outputs": [],
   "source": [
    "# df_TR_out\n",
    "fig = px.line(\n",
    "    df_TR_out,\n",
    "    x=\"migration_month\",\n",
    "    y=\"num_migrants\",\n",
    "    color=\"country_to\", \n",
    "    markers=True,\n",
    "    title=\"Migrants from TR Over Time\"\n",
    ")\n",
    "\n",
    "fig.update_layout(\n",
    "    xaxis_title=\"Month\",\n",
    "    yaxis_title=\"Number of Migrants\",\n",
    "    legend_title=\"To Country\"\n",
    ")\n",
    "\n",
    "fig.show()"
   ]
  },
  {
   "cell_type": "markdown",
   "id": "ea5ce5d2-a8b0-4369-a028-098c691c2e07",
   "metadata": {},
   "source": [
    "# Test: with Baysian"
   ]
  },
  {
   "cell_type": "code",
   "execution_count": null,
   "id": "b0be4fc2-3bd6-408d-bf62-5acb73a18661",
   "metadata": {},
   "outputs": [],
   "source": [
    "# Step 1: Create unique flow ID (origin -> destination)\n",
    "df[\"flow_id\"] = df[\"country_from\"] + \"_\" + df[\"country_to\"]\n",
    "\n",
    "# Create numeric indices for flows and months\n",
    "df[\"flow_index\"] = df[\"flow_id\"].astype(\"category\").cat.codes\n",
    "df[\"time_index\"] = (\n",
    "    (df[\"migration_month\"].dt.year - df[\"migration_month\"].dt.year.min()) * 12 +\n",
    "    (df[\"migration_month\"].dt.month - df[\"migration_month\"].dt.month.min())\n",
    ")\n",
    "\n",
    "# Check unique flow mappings and time indexing\n",
    "flow_map = df[[\"flow_id\", \"flow_index\"]].drop_duplicates().reset_index(drop=True)\n",
    "time_range = df[\"migration_month\"].min(), df[\"migration_month\"].max()\n",
    "df"
   ]
  },
  {
   "cell_type": "code",
   "execution_count": null,
   "id": "4f09c064-de82-48cd-82e4-dededf00ad58",
   "metadata": {},
   "outputs": [],
   "source": [
    "# Your data:\n",
    "flow_idx = df[\"flow_index\"].values\n",
    "time_idx = df[\"time_index\"].values\n",
    "y = df[\"num_migrants\"].values\n",
    "num_flows = df[\"flow_index\"].nunique()\n",
    "num_times = df[\"time_index\"].nunique()\n",
    "\n",
    "with pm.Model() as model:\n",
    "    mu = pm.Normal(\"mu\", mu=0, sigma=5)\n",
    "    sigma_flow = pm.HalfNormal(\"sigma_flow\", sigma=2)\n",
    "    alpha = pm.Normal(\"alpha\", mu=0, sigma=sigma_flow, shape=num_flows)\n",
    "    sigma_time = pm.HalfNormal(\"sigma_time\", sigma=2)\n",
    "    beta = pm.Normal(\"beta\", mu=0, sigma=sigma_time, shape=num_times)\n",
    "    \n",
    "    log_lambda = mu + alpha[flow_idx] + beta[time_idx]\n",
    "    lambda_ = pm.math.exp(log_lambda)\n",
    "    \n",
    "    y_obs = pm.Poisson(\"y_obs\", mu=lambda_, observed=y)\n",
    "\n",
    "    trace = pm.sample(2000, tune=2000, target_accept=0.99, \n",
    "                      init='jitter+adapt_diag', chains=4, cores=4, max_treedepth=15, return_inferencedata=True)\n",
    "    \n",
    "    # trace = pm.sample(500, tune=500, chains=2, cores=2, target_accept=0.9)  # for simple test\n"
   ]
  },
  {
   "cell_type": "markdown",
   "id": "f011771f-612a-499d-ad2a-89c3c4d15dd7",
   "metadata": {},
   "source": [
    "| Term            | Meaning                                                                    |\n",
    "| --------------- | -------------------------------------------------------------------------- |\n",
    "| **mean**        | Posterior mean (best guess based on all chains)                            |\n",
    "| **sd**          | Posterior standard deviation (uncertainty)                                 |\n",
    "| **hdi\\_3%-97%** | 94% credible interval (Bayesian version of confidence interval)            |\n",
    "| **r\\_hat**      | Should be \\~1.00. Values >1.1 → **non-converged** (⚠️ yours are too high)  |\n",
    "| **ess\\_bulk**   | Effective sample size. You want this to be **much higher** (like >200)     |\n",
    "| **trace plots** | Chain mixing over time — your `mu` and `sigma_*` are **not well-mixed** 😕 |\n"
   ]
  },
  {
   "cell_type": "code",
   "execution_count": null,
   "id": "d76ca662-1e08-4cf7-9b50-c1ca059eaaf5",
   "metadata": {},
   "outputs": [],
   "source": [
    "az.plot_trace(trace, var_names=[\"mu\", \"sigma_flow\", \"sigma_time\"])\n",
    "az.summary(trace, var_names=[\"mu\", \"sigma_flow\", \"sigma_time\"])"
   ]
  },
  {
   "cell_type": "code",
   "execution_count": null,
   "id": "ed627830-740f-43ce-8db7-ec88452f62c4",
   "metadata": {},
   "outputs": [],
   "source": [
    "# import numpy as np\n",
    "# import arviz as az\n",
    "\n",
    "# Extract posterior samples from trace\n",
    "mu_samples = trace.posterior[\"mu\"].values.flatten()\n",
    "alpha_samples = trace.posterior[\"alpha\"].values[:, :, 28].flatten()  # flow_index = 36 UK; 28 PL\n",
    "beta_samples = trace.posterior[\"beta\"].values[:, :, 38].flatten()    # time_index = 41\n",
    "\n",
    "# Compute log-lambda samples\n",
    "log_lambda_samples = mu_samples + alpha_samples + beta_samples\n",
    "\n",
    "# Convert to rate (expected migrant count)\n",
    "lambda_samples = np.exp(log_lambda_samples)\n",
    "\n",
    "# Summary statistics\n",
    "mean_prediction = lambda_samples.mean()\n",
    "median_prediction = np.median(lambda_samples)\n",
    "hdi_interval = az.hdi(lambda_samples, hdi_prob=0.94)\n",
    "\n",
    "print(f\"Estimated migrants from UA to UK in 2022-04:\")\n",
    "print(f\"  Posterior mean: {mean_prediction:.2f}\")\n",
    "print(f\"  Posterior median: {median_prediction:.2f}\")\n",
    "print(f\"  94% credible interval: {hdi_interval[0]:.2f} to {hdi_interval[1]:.2f}\")\n"
   ]
  },
  {
   "cell_type": "code",
   "execution_count": null,
   "id": "13255d66-219f-4102-ba67-8e6b8cc729c4",
   "metadata": {},
   "outputs": [],
   "source": [
    "# df[(df['country_from'] == 'UA') & (df['country_to'] == 'PL')]\n",
    "# df[(df['country_from'] == 'UA') & (df['country_to'] == 'UK')]\n",
    "df[(df['flow_index'] == 28) & (df['time_index'] == 38)]"
   ]
  },
  {
   "cell_type": "code",
   "execution_count": null,
   "id": "bdeec795-42d8-457b-b82c-7d560d4dfeb8",
   "metadata": {},
   "outputs": [],
   "source": []
  }
 ],
 "metadata": {
  "kernelspec": {
   "display_name": "Python 3 (ipykernel)",
   "language": "python",
   "name": "python3"
  },
  "language_info": {
   "codemirror_mode": {
    "name": "ipython",
    "version": 3
   },
   "file_extension": ".py",
   "mimetype": "text/x-python",
   "name": "python",
   "nbconvert_exporter": "python",
   "pygments_lexer": "ipython3",
   "version": "3.10.17"
  }
 },
 "nbformat": 4,
 "nbformat_minor": 5
}
