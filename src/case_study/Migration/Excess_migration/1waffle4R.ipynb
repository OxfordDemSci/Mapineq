{
 "cells": [
  {
   "cell_type": "markdown",
   "id": "3f6f731c-f854-4f01-ae1b-77c4db35c2ee",
   "metadata": {},
   "source": [
    "paper: https://link.springer.com/article/10.1007/s11111-024-00452-9#Sec10\n",
    "\n",
    "Prophet: https://facebook.github.io/prophet/docs/quick_start.html#python-api  \n",
    "github: https://github.com/facebook/prophet  "
   ]
  },
  {
   "cell_type": "markdown",
   "id": "02ab8b7e-65c8-4eea-af7c-40097681cbf1",
   "metadata": {},
   "source": [
    "| Feature                            | **Prophet**                                    | **STL**                             |\n",
    "| ---------------------------------- | ---------------------------------------------- | ----------------------------------- |\n",
    "| **Purpose**                        | Forecasting + decomposition                    | Decomposition only (no forecasting) |\n",
    "| **Components**                     | Trend + Seasonality + Holidays                 | Trend + Seasonality + Residuals     |\n",
    "| **Handles missing data?**          | Yes                                            | No (must handle manually)           |\n",
    "| **Handles irregular time series?** | Yes                                            | No (requires evenly spaced data)    |\n",
    "| **Forecasting**                    | Yes (core feature)                             | ❌ No forecasting                    |\n",
    "| **Custom seasonality/holidays**    | Yes (add holidays, custom cycles)              | No                                  |\n",
    "| **Trend modeling**                 | Piecewise linear or logistic with changepoints | LOESS smoothing (local regression)  |\n",
    "| **Built-in in Python via**         | `prophet` package                              | `statsmodels.tsa.seasonal.STL`      |\n"
   ]
  },
  {
   "cell_type": "code",
   "execution_count": null,
   "id": "90b70c56-e8d6-4c03-be23-30b25ad5d075",
   "metadata": {},
   "outputs": [],
   "source": [
    "import os\n",
    "import gc\n",
    "import numpy as np\n",
    "import pandas as pd\n",
    "from tqdm import tqdm\n",
    "from pathlib import Path\n",
    "\n",
    "# Geospatial\n",
    "import geopandas as gpd\n",
    "import dask_geopandas as dgpd\n",
    "import rasterio\n",
    "from rasterstats import zonal_stats\n",
    "from osgeo import gdal, osr\n",
    "\n",
    "# Statistics & Bayesian modeling\n",
    "import pymc as pm\n",
    "import arviz as az\n",
    "\n",
    "# Visualisation\n",
    "import matplotlib.pyplot as plt\n",
    "import plotly.express as px\n",
    "\n",
    "# Base directories\n",
    "BASE_DIR = Path(\"/Users/wenlanzhang/PycharmProjects/Mapineq/src/\")\n",
    "DATA_DIR = Path(\"/Users/wenlanzhang/Downloads/PhD_UCL/Data/Oxford\")"
   ]
  },
  {
   "cell_type": "code",
   "execution_count": null,
   "id": "44228045-5569-4a17-af6d-234a54c849c1",
   "metadata": {
    "scrolled": true
   },
   "outputs": [],
   "source": [
    "df = pd.read_csv(DATA_DIR/f\"Migration/international_migration_flow.csv\") \n",
    "df['year'] = pd.to_datetime(df['migration_month']).dt.year\n",
    "df['month'] = pd.to_datetime(df['migration_month']).dt.month\n",
    "df[\"migration_month\"] = pd.to_datetime(df[\"migration_month\"])\n",
    "\n",
    "# Define the mapping of old codes to new codes\n",
    "country_code_mapping = {\n",
    "    'GR': 'EL',  # Greece (GR → EL)\n",
    "    'GB': 'UK'   # United Kingdom (GB → UK)\n",
    "}\n",
    "\n",
    "# Apply the replacement to both columns\n",
    "df['country_from'] = df['country_from'].replace(country_code_mapping)\n",
    "df['country_to'] = df['country_to'].replace(country_code_mapping)\n",
    "\n",
    "df\n",
    "# len(df['country_from'].unique())"
   ]
  },
  {
   "cell_type": "code",
   "execution_count": null,
   "id": "0b6616c8-8652-4744-aaf6-2968af7a667f",
   "metadata": {
    "scrolled": true
   },
   "outputs": [],
   "source": [
    "# country_list = ['EL', 'ES', 'FI', 'FR', 'HR', 'EE', 'DE', 'DK', 'BA', 'AT', 'BG',\n",
    "#        'CH', 'CY', 'BE', 'CZ', 'AL', 'LU', 'LV', 'ME', 'IE', 'IS', 'IT',\n",
    "#        'MK', 'MT', 'LI', 'NL', 'LT', 'HU', 'RS', 'SE', 'SI', 'TR', 'UA',\n",
    "#        'SK', 'RO', 'NO', 'PL', 'PT', 'XK', 'UK']\n",
    "# # df = df[(df['country_from'].isin(country_list)) | (df['country_to'].isin(country_list))]\n",
    "# # df = df[(df['country_from'].isin(country_list)) & (df['country_to'].isin(country_list))]\n",
    "\n",
    "# # df = df[(df['country_from'] == 'UA') & (df['country_to'].isin(country_list))]\n",
    "# # df = df[df['num_migrants'] != 0]\n",
    "# df = df[df['num_migrants'] >= 100]\n",
    "\n",
    "# df"
   ]
  },
  {
   "cell_type": "markdown",
   "id": "7a268a9a-bd0d-4886-81bc-75e1896e0899",
   "metadata": {},
   "source": [
    "# Time Series"
   ]
  },
  {
   "cell_type": "code",
   "execution_count": null,
   "id": "2e586cbe-8208-4854-9505-31624112d8d8",
   "metadata": {},
   "outputs": [],
   "source": [
    "df_ve_in = df[(df['country_to'] == 'VE') & (df['num_migrants'] != 0)]\n",
    "df_ve_out = df[(df['country_from'] == 'VE') & (df['num_migrants'] != 0)]"
   ]
  },
  {
   "cell_type": "code",
   "execution_count": null,
   "id": "03db0f49-eb51-4309-bad7-ba9e70949a4f",
   "metadata": {},
   "outputs": [],
   "source": [
    "# df_ve_in\n",
    "fig = px.line(\n",
    "    df_ve_in,\n",
    "    x=\"migration_month\",\n",
    "    y=\"num_migrants\",\n",
    "    color=\"country_from\", \n",
    "    markers=True,\n",
    "    title=\"Migrants to VE Over Time\"\n",
    ")\n",
    "\n",
    "fig.update_layout(\n",
    "    xaxis_title=\"Month\",\n",
    "    yaxis_title=\"Number of Migrants\",\n",
    "    legend_title=\"From Country\"\n",
    ")\n",
    "\n",
    "fig.show()"
   ]
  },
  {
   "cell_type": "code",
   "execution_count": null,
   "id": "949d50d0-de79-4ed6-af87-b1aa972d88c2",
   "metadata": {},
   "outputs": [],
   "source": [
    "# df_ve_out\n",
    "fig = px.line(\n",
    "    df_ve_out,\n",
    "    x=\"migration_month\",\n",
    "    y=\"num_migrants\",\n",
    "    color=\"country_to\", \n",
    "    markers=True,\n",
    "    title=\"Migrants from VE Over Time\"\n",
    ")\n",
    "\n",
    "fig.update_layout(\n",
    "    xaxis_title=\"Month\",\n",
    "    yaxis_title=\"Number of Migrants\",\n",
    "    legend_title=\"From Country\"\n",
    ")\n",
    "\n",
    "fig.show()"
   ]
  },
  {
   "cell_type": "markdown",
   "id": "22f8c5b9-7ca0-4df8-b192-9fa33659c50b",
   "metadata": {},
   "source": [
    "# Top over the 4 years"
   ]
  },
  {
   "cell_type": "code",
   "execution_count": null,
   "id": "bd092ef2-883a-4ca5-b7e4-82fa604323e0",
   "metadata": {},
   "outputs": [],
   "source": [
    "out_migration_totals = df_ve_out.groupby('country_to')['num_migrants'].sum().sort_values(ascending=False)\n",
    "out_migration_totals"
   ]
  },
  {
   "cell_type": "code",
   "execution_count": null,
   "id": "1d5b1b4a-07d1-4eaa-89cb-64ec08d9f375",
   "metadata": {},
   "outputs": [],
   "source": [
    "plt.figure(figsize=(10, 6))\n",
    "plt.hist(out_migration_totals, bins=30, edgecolor='black')\n",
    "\n",
    "plt.title('Distribution of Migrant Counts per Destination Country')\n",
    "plt.xlabel('Number of Migrants')\n",
    "plt.ylabel('Number of Countries')\n",
    "plt.tight_layout()\n",
    "plt.show()"
   ]
  },
  {
   "cell_type": "code",
   "execution_count": null,
   "id": "a99bfe9b-e984-4e4f-af6f-65c39b107005",
   "metadata": {},
   "outputs": [],
   "source": [
    "threshold = 0.05 * 1_000_000  # 200,000 migrants\n",
    "major_countries = out_migration_totals[out_migration_totals > threshold]\n",
    "others_sum = out_migration_totals[out_migration_totals < threshold].sum()\n",
    "major_countries['Other'] = others_sum\n",
    "\n",
    "major_countries"
   ]
  },
  {
   "cell_type": "code",
   "execution_count": null,
   "id": "1d744266-fd9a-4c02-ad84-25d91ee76c42",
   "metadata": {},
   "outputs": [],
   "source": [
    "df_ve_out_top =  df_ve_out[df_ve_out['migration_month'] == '2022-02-01'].sort_values(by='num_migrants', ascending=False).head(11)\n",
    "df_ve_out_top[['country_to', 'num_migrants']]"
   ]
  },
  {
   "cell_type": "markdown",
   "id": "f9b8e9f6-ab56-4bdf-af26-2dbfcd48e8a2",
   "metadata": {},
   "source": [
    "# Top ranked on 2022-02-01"
   ]
  },
  {
   "cell_type": "code",
   "execution_count": null,
   "id": "b7c9bfe1-2201-49e1-b3fe-909555d78137",
   "metadata": {},
   "outputs": [],
   "source": [
    "df_month = df_ve_out[df_ve_out['migration_month'] == '2022-02-01']\n",
    "\n",
    "migration_totals = df_month.groupby('country_to')['num_migrants'].sum()\n",
    "sorted_totals = migration_totals.sort_values(ascending=False)\n",
    "\n",
    "top_10 = sorted_totals.head(8)\n",
    "others_sum = sorted_totals.iloc[8:].sum()\n",
    "\n",
    "# Use pd.concat instead of append\n",
    "migration_final = pd.concat([top_10, pd.Series({'Other': others_sum})])\n",
    "\n",
    "migration_final"
   ]
  },
  {
   "cell_type": "code",
   "execution_count": null,
   "id": "4f026afa-3fb7-4e50-94ec-ccc4dfa5639e",
   "metadata": {},
   "outputs": [],
   "source": []
  },
  {
   "cell_type": "code",
   "execution_count": null,
   "id": "bdc32bc3-6eee-4038-b513-b4981f624d16",
   "metadata": {},
   "outputs": [],
   "source": [
    "# 1. Filter only rows where destination is UA\n",
    "df_ua_in = df[df['country_to'] == 'UA']\n",
    "df_ua_out = df[df['country_from'] == 'UA']"
   ]
  },
  {
   "cell_type": "code",
   "execution_count": null,
   "id": "97cecdc8-babf-4c36-8b5c-42cdbccca75c",
   "metadata": {
    "scrolled": true
   },
   "outputs": [],
   "source": [
    "# Plot one line per origin country\n",
    "plt.figure(figsize=(8, 5))\n",
    "for country in df_ua_in['country_from'].unique():\n",
    "    subset = df_ua_in[df_ua_in['country_from'] == country]\n",
    "    plt.plot(subset['migration_month'], subset['num_migrants'], label=country)\n",
    "    # plt.plot(subset['migration_month'], subset['num_migrants'], marker='o', label=country)\n",
    "\n",
    "# 3. Add labels and style\n",
    "plt.title(\"Migrants to UA Over Time\")\n",
    "plt.xlabel(\"Month\")\n",
    "plt.ylabel(\"Number of Migrants\")\n",
    "# plt.legend(title=\"From Country\")\n",
    "plt.grid(True)\n",
    "plt.tight_layout()\n",
    "\n",
    "plt.show()"
   ]
  },
  {
   "cell_type": "code",
   "execution_count": null,
   "id": "c716e2e8-ddab-428d-9ee6-6df44ff9330e",
   "metadata": {},
   "outputs": [],
   "source": [
    "# df_ua_in\n",
    "fig = px.line(\n",
    "    df_ua_in,\n",
    "    x=\"migration_month\",\n",
    "    y=\"num_migrants\",\n",
    "    color=\"country_from\",  # separate line for each origin country\n",
    "    markers=True,\n",
    "    title=\"Migrants to UA Over Time\"\n",
    ")\n",
    "\n",
    "fig.update_layout(\n",
    "    xaxis_title=\"Month\",\n",
    "    yaxis_title=\"Number of Migrants\",\n",
    "    legend_title=\"From Country\"\n",
    ")\n",
    "\n",
    "fig.show()"
   ]
  },
  {
   "cell_type": "code",
   "execution_count": null,
   "id": "54203096-8b53-4b99-8457-cf7f1c3fd549",
   "metadata": {},
   "outputs": [],
   "source": [
    "# df_ua_out\n",
    "fig = px.line(\n",
    "    df_ua_out,\n",
    "    x=\"migration_month\",\n",
    "    y=\"num_migrants\",\n",
    "    color=\"country_to\",  # separate line for each origin country\n",
    "    markers=True,\n",
    "    title=\"Migrants from UA Over Time\"\n",
    ")\n",
    "\n",
    "fig.update_layout(\n",
    "    xaxis_title=\"Month\",\n",
    "    yaxis_title=\"Number of Migrants\",\n",
    "    legend_title=\"From Country\"\n",
    ")\n",
    "\n",
    "fig.show()"
   ]
  },
  {
   "cell_type": "code",
   "execution_count": null,
   "id": "e4c31077-c49f-440c-88d1-6755a077cec0",
   "metadata": {},
   "outputs": [],
   "source": [
    "# df_pl_out\n",
    "df_pl_out = df[(df['country_from'] == 'PL') & (df['num_migrants'] != 0)]\n",
    "\n",
    "fig = px.line(\n",
    "    df_pl_out,\n",
    "    x=\"migration_month\",\n",
    "    y=\"num_migrants\",\n",
    "    color=\"country_to\",  # separate line for each origin country\n",
    "    markers=True,\n",
    "    title=\"Migrants from PL Over Time\"\n",
    ")\n",
    "\n",
    "fig.update_layout(\n",
    "    xaxis_title=\"Month\",\n",
    "    yaxis_title=\"Number of Migrants\",\n",
    "    legend_title=\"From Country\"\n",
    ")\n",
    "\n",
    "fig.show()"
   ]
  },
  {
   "cell_type": "code",
   "execution_count": null,
   "id": "5aa6a5de-c3ff-4f33-8698-7f9ca28e22aa",
   "metadata": {},
   "outputs": [],
   "source": [
    "# df_de_out\n",
    "df_de_out = df[(df['country_from'] == 'DE') & (df['num_migrants'] != 0)]\n",
    "\n",
    "fig = px.line(\n",
    "    df_de_out,\n",
    "    x=\"migration_month\",\n",
    "    y=\"num_migrants\",\n",
    "    color=\"country_to\",  # separate line for each origin country\n",
    "    markers=True,\n",
    "    title=\"Migrants from DE Over Time\"\n",
    ")\n",
    "\n",
    "fig.update_layout(\n",
    "    xaxis_title=\"Month\",\n",
    "    yaxis_title=\"Number of Migrants\",\n",
    "    legend_title=\"From Country\"\n",
    ")\n",
    "\n",
    "fig.show()"
   ]
  },
  {
   "cell_type": "code",
   "execution_count": null,
   "id": "9d20bbe7-a216-48a8-b0b6-28550ea327aa",
   "metadata": {},
   "outputs": [],
   "source": [
    "# df_cz_out\n",
    "df_cz_out = df[(df['country_from'] == 'CZ') & (df['num_migrants'] != 0)]\n",
    "\n",
    "fig = px.line(\n",
    "    df_cz_out,\n",
    "    x=\"migration_month\",\n",
    "    y=\"num_migrants\",\n",
    "    color=\"country_to\",  # separate line for each origin country\n",
    "    markers=True,\n",
    "    title=\"Migrants from CZ Over Time\"\n",
    ")\n",
    "\n",
    "fig.update_layout(\n",
    "    xaxis_title=\"Month\",\n",
    "    yaxis_title=\"Number of Migrants\",\n",
    "    legend_title=\"From Country\"\n",
    ")\n",
    "\n",
    "fig.show()"
   ]
  },
  {
   "cell_type": "code",
   "execution_count": null,
   "id": "1ce98654-71a8-4581-9488-202832985da0",
   "metadata": {},
   "outputs": [],
   "source": [
    "# Python\n",
    "df = pd.read_csv('https://raw.githubusercontent.com/facebook/prophet/main/examples/example_wp_log_peyton_manning.csv')\n",
    "df.head()\n",
    "# 2905 rows"
   ]
  },
  {
   "cell_type": "code",
   "execution_count": null,
   "id": "e5e086bb-4e22-400f-b412-8db54e6c6b0e",
   "metadata": {},
   "outputs": [],
   "source": [
    "m = Prophet()\n",
    "m.fit(df)"
   ]
  },
  {
   "cell_type": "code",
   "execution_count": null,
   "id": "a14ebf76-70b9-430d-9737-5c80cd193d7c",
   "metadata": {},
   "outputs": [],
   "source": [
    "future = m.make_future_dataframe(periods=365)\n",
    "future.tail()\n",
    "# 3270 row"
   ]
  },
  {
   "cell_type": "code",
   "execution_count": null,
   "id": "b2e4f09b-58c3-48a0-b914-9c21160ec87e",
   "metadata": {},
   "outputs": [],
   "source": [
    "forecast = m.predict(future)\n",
    "forecast[['ds', 'yhat', 'yhat_lower', 'yhat_upper']].tail()"
   ]
  },
  {
   "cell_type": "code",
   "execution_count": null,
   "id": "ea2cac9d-af6b-4b8e-a9e3-f3eef010e60e",
   "metadata": {},
   "outputs": [],
   "source": [
    "fig1 = m.plot(forecast)"
   ]
  },
  {
   "cell_type": "code",
   "execution_count": null,
   "id": "2c91eec7-9ebb-42a4-b339-7ec9cd877713",
   "metadata": {
    "scrolled": true
   },
   "outputs": [],
   "source": [
    "fig2 = m.plot_components(forecast)"
   ]
  },
  {
   "cell_type": "code",
   "execution_count": null,
   "id": "ceaf6625-3450-4f32-82d1-d95d0dcfb067",
   "metadata": {},
   "outputs": [],
   "source": [
    "plot_plotly(m, forecast)"
   ]
  },
  {
   "cell_type": "code",
   "execution_count": null,
   "id": "ecdc2e6d-7072-4fc1-9e46-fd9da14e3b95",
   "metadata": {},
   "outputs": [],
   "source": [
    "plot_components_plotly(m, forecast)"
   ]
  },
  {
   "cell_type": "code",
   "execution_count": null,
   "id": "bdeec795-42d8-457b-b82c-7d560d4dfeb8",
   "metadata": {},
   "outputs": [],
   "source": []
  }
 ],
 "metadata": {
  "kernelspec": {
   "display_name": "Python 3 (ipykernel)",
   "language": "python",
   "name": "python3"
  },
  "language_info": {
   "codemirror_mode": {
    "name": "ipython",
    "version": 3
   },
   "file_extension": ".py",
   "mimetype": "text/x-python",
   "name": "python",
   "nbconvert_exporter": "python",
   "pygments_lexer": "ipython3",
   "version": "3.10.17"
  }
 },
 "nbformat": 4,
 "nbformat_minor": 5
}
