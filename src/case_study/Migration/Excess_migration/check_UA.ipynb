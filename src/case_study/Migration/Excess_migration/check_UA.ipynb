{
 "cells": [
  {
   "cell_type": "markdown",
   "id": "3f6f731c-f854-4f01-ae1b-77c4db35c2ee",
   "metadata": {},
   "source": [
    "paper: https://link.springer.com/article/10.1007/s11111-024-00452-9#Sec10\n",
    "\n",
    "Prophet: https://facebook.github.io/prophet/docs/quick_start.html#python-api  \n",
    "github: https://github.com/facebook/prophet  "
   ]
  },
  {
   "cell_type": "code",
   "execution_count": null,
   "id": "90b70c56-e8d6-4c03-be23-30b25ad5d075",
   "metadata": {},
   "outputs": [],
   "source": [
    "import os\n",
    "import gc\n",
    "import numpy as np\n",
    "import pandas as pd\n",
    "from tqdm import tqdm\n",
    "from pathlib import Path\n",
    "\n",
    "# Geospatial\n",
    "import geopandas as gpd\n",
    "import dask_geopandas as dgpd\n",
    "import rasterio\n",
    "from rasterstats import zonal_stats\n",
    "from osgeo import gdal, osr\n",
    "\n",
    "# Statistics & Bayesian modeling\n",
    "import pymc as pm\n",
    "import arviz as az\n",
    "\n",
    "# Visualisation\n",
    "import seaborn as sns\n",
    "import matplotlib.pyplot as plt\n",
    "import plotly.express as px\n",
    "\n",
    "# Base directories\n",
    "BASE_DIR = Path(\"/Users/wenlanzhang/PycharmProjects/Mapineq/src/\")\n",
    "DATA_DIR = Path(\"/Users/wenlanzhang/Downloads/PhD_UCL/Data/Oxford\")"
   ]
  },
  {
   "cell_type": "code",
   "execution_count": null,
   "id": "44228045-5569-4a17-af6d-234a54c849c1",
   "metadata": {},
   "outputs": [],
   "source": [
    "df = pd.read_csv(DATA_DIR/f\"Migration/international_migration_flow.csv\") \n",
    "df['year'] = pd.to_datetime(df['migration_month']).dt.year\n",
    "df['month'] = pd.to_datetime(df['migration_month']).dt.month\n",
    "df[\"migration_month\"] = pd.to_datetime(df[\"migration_month\"])\n",
    "\n",
    "# Define the mapping of old codes to new codes\n",
    "country_code_mapping = {\n",
    "    'GR': 'EL',  # Greece (GR → EL)\n",
    "    'GB': 'UK'   # United Kingdom (GB → UK)\n",
    "}\n",
    "\n",
    "# Apply the replacement to both columns\n",
    "df['country_from'] = df['country_from'].replace(country_code_mapping)\n",
    "df['country_to'] = df['country_to'].replace(country_code_mapping)\n",
    "\n",
    "df\n",
    "# len(df['country_from'].unique())"
   ]
  },
  {
   "cell_type": "code",
   "execution_count": null,
   "id": "0b6616c8-8652-4744-aaf6-2968af7a667f",
   "metadata": {},
   "outputs": [],
   "source": [
    "# country_list = ['EL', 'ES', 'FI', 'FR', 'HR', 'EE', 'DE', 'DK', 'BA', 'AT', 'BG',\n",
    "#        'CH', 'CY', 'BE', 'CZ', 'AL', 'LU', 'LV', 'ME', 'IE', 'IS', 'IT',\n",
    "#        'MK', 'MT', 'LI', 'NL', 'LT', 'HU', 'RS', 'SE', 'SI', 'TR', 'UA',\n",
    "#        'SK', 'RO', 'NO', 'PL', 'PT', 'XK', 'UK']\n",
    "# # df = df[(df['country_from'].isin(country_list)) | (df['country_to'].isin(country_list))]\n",
    "# # df = df[(df['country_from'].isin(country_list)) & (df['country_to'].isin(country_list))]\n",
    "\n",
    "# # df = df[(df['country_from'] == 'UA') & (df['country_to'].isin(country_list))]\n",
    "# # df = df[df['num_migrants'] != 0]\n",
    "# df = df[df['num_migrants'] >= 100]\n",
    "\n",
    "# df"
   ]
  },
  {
   "cell_type": "markdown",
   "id": "40bc216b-89ea-4631-9feb-0bc9700d3c70",
   "metadata": {},
   "source": [
    "# Plot"
   ]
  },
  {
   "cell_type": "markdown",
   "id": "c4054a93-a84f-48ab-b8e0-dead77b194de",
   "metadata": {},
   "source": [
    "## UA "
   ]
  },
  {
   "cell_type": "code",
   "execution_count": null,
   "id": "bdc32bc3-6eee-4038-b513-b4981f624d16",
   "metadata": {},
   "outputs": [],
   "source": [
    "# 1. Filter only rows where destination is UA\n",
    "df_ua_in = df[df['country_to'] == 'UA']\n",
    "df_ua_out = df[df['country_from'] == 'UA']"
   ]
  },
  {
   "cell_type": "code",
   "execution_count": null,
   "id": "97cecdc8-babf-4c36-8b5c-42cdbccca75c",
   "metadata": {
    "jupyter": {
     "source_hidden": true
    }
   },
   "outputs": [],
   "source": [
    "# # Plot one line per origin country\n",
    "# plt.figure(figsize=(8, 5))\n",
    "# for country in df_ua_in['country_from'].unique():\n",
    "#     subset = df_ua_in[df_ua_in['country_from'] == country]\n",
    "#     plt.plot(subset['migration_month'], subset['num_migrants'], label=country)\n",
    "#     # plt.plot(subset['migration_month'], subset['num_migrants'], marker='o', label=country)\n",
    "\n",
    "# # 3. Add labels and style\n",
    "# plt.title(\"Migrants to UA Over Time\")\n",
    "# plt.xlabel(\"Month\")\n",
    "# plt.ylabel(\"Number of Migrants\")\n",
    "# # plt.legend(title=\"From Country\")\n",
    "# plt.grid(True)\n",
    "# plt.tight_layout()\n",
    "\n",
    "# plt.show()"
   ]
  },
  {
   "cell_type": "code",
   "execution_count": null,
   "id": "c716e2e8-ddab-428d-9ee6-6df44ff9330e",
   "metadata": {},
   "outputs": [],
   "source": [
    "# df_ua_in\n",
    "fig = px.line(\n",
    "    df_ua_in,\n",
    "    x=\"migration_month\",\n",
    "    y=\"num_migrants\",\n",
    "    color=\"country_from\",  # separate line for each origin country\n",
    "    markers=True,\n",
    "    title=\"Migrants to UA Over Time\"\n",
    ")\n",
    "\n",
    "fig.update_layout(\n",
    "    xaxis_title=\"Month\",\n",
    "    yaxis_title=\"Number of Migrants\",\n",
    "    legend_title=\"From Country\"\n",
    ")\n",
    "\n",
    "fig.show()"
   ]
  },
  {
   "cell_type": "code",
   "execution_count": null,
   "id": "54203096-8b53-4b99-8457-cf7f1c3fd549",
   "metadata": {},
   "outputs": [],
   "source": [
    "# df_ua_out\n",
    "fig = px.line(\n",
    "    df_ua_out,\n",
    "    x=\"migration_month\",\n",
    "    y=\"num_migrants\",\n",
    "    color=\"country_to\",  # separate line for each origin country\n",
    "    markers=True,\n",
    "    title=\"Migrants from UA Over Time\"\n",
    ")\n",
    "\n",
    "fig.update_layout(\n",
    "    xaxis_title=\"Month\",\n",
    "    yaxis_title=\"Number of Migrants\",\n",
    "    legend_title=\"From Country\"\n",
    ")\n",
    "\n",
    "fig.show()"
   ]
  },
  {
   "cell_type": "markdown",
   "id": "5bd7956b-aedc-40c4-a19b-da79305184ec",
   "metadata": {},
   "source": [
    "### From PL  "
   ]
  },
  {
   "cell_type": "code",
   "execution_count": null,
   "id": "e4c31077-c49f-440c-88d1-6755a077cec0",
   "metadata": {},
   "outputs": [],
   "source": [
    "# df_pl_out\n",
    "df_pl_out = df[(df['country_from'] == 'PL') & (df['num_migrants'] != 0)]\n",
    "\n",
    "fig = px.line(\n",
    "    df_pl_out,\n",
    "    x=\"migration_month\",\n",
    "    y=\"num_migrants\",\n",
    "    color=\"country_to\",  # separate line for each origin country\n",
    "    markers=True,\n",
    "    title=\"Migrants from PL Over Time\"\n",
    ")\n",
    "\n",
    "fig.update_layout(\n",
    "    xaxis_title=\"Month\",\n",
    "    yaxis_title=\"Number of Migrants\",\n",
    "    legend_title=\"From Country\"\n",
    ")\n",
    "\n",
    "fig.show()"
   ]
  },
  {
   "cell_type": "markdown",
   "id": "47641e69-67c8-4275-b8ff-236588af2aea",
   "metadata": {},
   "source": [
    "### From DE  "
   ]
  },
  {
   "cell_type": "code",
   "execution_count": null,
   "id": "5aa6a5de-c3ff-4f33-8698-7f9ca28e22aa",
   "metadata": {},
   "outputs": [],
   "source": [
    "# df_de_out\n",
    "df_de_out = df[(df['country_from'] == 'DE') & (df['num_migrants'] != 0)]\n",
    "\n",
    "fig = px.line(\n",
    "    df_de_out,\n",
    "    x=\"migration_month\",\n",
    "    y=\"num_migrants\",\n",
    "    color=\"country_to\",  # separate line for each origin country\n",
    "    markers=True,\n",
    "    title=\"Migrants from DE Over Time\"\n",
    ")\n",
    "\n",
    "fig.update_layout(\n",
    "    xaxis_title=\"Month\",\n",
    "    yaxis_title=\"Number of Migrants\",\n",
    "    legend_title=\"From Country\"\n",
    ")\n",
    "\n",
    "fig.show()"
   ]
  },
  {
   "cell_type": "markdown",
   "id": "ea772529-27a4-4f6e-b9b1-672f40d7ed97",
   "metadata": {},
   "source": [
    "### From CZ  "
   ]
  },
  {
   "cell_type": "code",
   "execution_count": null,
   "id": "9d20bbe7-a216-48a8-b0b6-28550ea327aa",
   "metadata": {},
   "outputs": [],
   "source": [
    "# df_cz_out\n",
    "df_cz_out = df[(df['country_from'] == 'CZ') & (df['num_migrants'] != 0)]\n",
    "\n",
    "fig = px.line(\n",
    "    df_cz_out,\n",
    "    x=\"migration_month\",\n",
    "    y=\"num_migrants\",\n",
    "    color=\"country_to\",  # separate line for each origin country\n",
    "    markers=True,\n",
    "    title=\"Migrants from CZ Over Time\"\n",
    ")\n",
    "\n",
    "fig.update_layout(\n",
    "    xaxis_title=\"Month\",\n",
    "    yaxis_title=\"Number of Migrants\",\n",
    "    legend_title=\"From Country\"\n",
    ")\n",
    "\n",
    "fig.show()"
   ]
  },
  {
   "cell_type": "code",
   "execution_count": null,
   "id": "b2e252ef-5c8a-4975-89d8-8b44410a4d9c",
   "metadata": {},
   "outputs": [],
   "source": []
  },
  {
   "cell_type": "code",
   "execution_count": null,
   "id": "be02eb55-fa9b-48fd-9bb4-af4d684f503f",
   "metadata": {},
   "outputs": [],
   "source": [
    "df_SY_in = df[(df['country_to'] == 'SY') & (df['num_migrants'] != 0)]\n",
    "df_SY_out = df[(df['country_from'] == 'SY') & (df['num_migrants'] != 0)]\n",
    "\n",
    "# df_DO_in\n",
    "fig = px.line(\n",
    "    df_SY_in,\n",
    "    x=\"migration_month\",\n",
    "    y=\"num_migrants\",\n",
    "    color=\"country_from\", \n",
    "    markers=True,\n",
    "    title=\"Migrants to SY Over Time\"\n",
    ")\n",
    "\n",
    "fig.update_layout(\n",
    "    xaxis_title=\"Month\",\n",
    "    yaxis_title=\"Number of Migrants\",\n",
    "    legend_title=\"From Country\"\n",
    ")\n",
    "\n",
    "fig.show()"
   ]
  },
  {
   "cell_type": "code",
   "execution_count": null,
   "id": "40af330b-3fdc-476a-a13f-0fef53339f94",
   "metadata": {},
   "outputs": [],
   "source": [
    "# df_SY_out\n",
    "fig = px.line(\n",
    "    df_SY_out,\n",
    "    x=\"migration_month\",\n",
    "    y=\"num_migrants\",\n",
    "    color=\"country_to\", \n",
    "    markers=True,\n",
    "    title=\"Migrants from SY Over Time\"\n",
    ")\n",
    "\n",
    "fig.update_layout(\n",
    "    xaxis_title=\"Month\",\n",
    "    yaxis_title=\"Number of Migrants\",\n",
    "    legend_title=\"From Country\"\n",
    ")\n",
    "\n",
    "fig.show()"
   ]
  },
  {
   "cell_type": "code",
   "execution_count": null,
   "id": "1437b787-c6d5-4c84-98cd-8dc1ef7aa7b5",
   "metadata": {},
   "outputs": [],
   "source": [
    "df_TR_in = df[(df['country_to'] == 'TR') & (df['num_migrants'] != 0)]\n",
    "df_TR_out = df[(df['country_from'] == 'TR') & (df['num_migrants'] != 0)]\n",
    "\n",
    "# df_TR_in\n",
    "fig = px.line(\n",
    "    df_TR_in,\n",
    "    x=\"migration_month\",\n",
    "    y=\"num_migrants\",\n",
    "    color=\"country_from\", \n",
    "    markers=True,\n",
    "    title=\"Migrants to TR Over Time\"\n",
    ")\n",
    "\n",
    "fig.update_layout(\n",
    "    xaxis_title=\"Month\",\n",
    "    yaxis_title=\"Number of Migrants\",\n",
    "    legend_title=\"From Country\"\n",
    ")\n",
    "\n",
    "fig.show()"
   ]
  },
  {
   "cell_type": "code",
   "execution_count": null,
   "id": "c9cb472e-3821-4168-acd6-fa7df44cbb5a",
   "metadata": {},
   "outputs": [],
   "source": [
    "# df_TR_out\n",
    "fig = px.line(\n",
    "    df_TR_out,\n",
    "    x=\"migration_month\",\n",
    "    y=\"num_migrants\",\n",
    "    color=\"country_to\", \n",
    "    markers=True,\n",
    "    title=\"Migrants from TR Over Time\"\n",
    ")\n",
    "\n",
    "fig.update_layout(\n",
    "    xaxis_title=\"Month\",\n",
    "    yaxis_title=\"Number of Migrants\",\n",
    "    legend_title=\"From Country\"\n",
    ")\n",
    "\n",
    "fig.show()"
   ]
  },
  {
   "cell_type": "code",
   "execution_count": null,
   "id": "ea13df53-8710-4091-8153-40cfe985d463",
   "metadata": {},
   "outputs": [],
   "source": []
  },
  {
   "cell_type": "code",
   "execution_count": null,
   "id": "bdeec795-42d8-457b-b82c-7d560d4dfeb8",
   "metadata": {},
   "outputs": [],
   "source": []
  }
 ],
 "metadata": {
  "kernelspec": {
   "display_name": "Python 3 (ipykernel)",
   "language": "python",
   "name": "python3"
  },
  "language_info": {
   "codemirror_mode": {
    "name": "ipython",
    "version": 3
   },
   "file_extension": ".py",
   "mimetype": "text/x-python",
   "name": "python",
   "nbconvert_exporter": "python",
   "pygments_lexer": "ipython3",
   "version": "3.10.17"
  }
 },
 "nbformat": 4,
 "nbformat_minor": 5
}
