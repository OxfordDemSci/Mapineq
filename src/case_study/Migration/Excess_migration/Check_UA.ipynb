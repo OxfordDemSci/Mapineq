{
 "cells": [
  {
   "cell_type": "markdown",
   "id": "3f6f731c-f854-4f01-ae1b-77c4db35c2ee",
   "metadata": {},
   "source": [
    "paper: https://link.springer.com/article/10.1007/s11111-024-00452-9#Sec10\n",
    "\n",
    "Prophet: https://facebook.github.io/prophet/docs/quick_start.html#python-api  \n",
    "github: https://github.com/facebook/prophet  "
   ]
  },
  {
   "cell_type": "markdown",
   "id": "02ab8b7e-65c8-4eea-af7c-40097681cbf1",
   "metadata": {},
   "source": [
    "| Feature                            | **Prophet**                                    | **STL**                             |\n",
    "| ---------------------------------- | ---------------------------------------------- | ----------------------------------- |\n",
    "| **Purpose**                        | Forecasting + decomposition                    | Decomposition only (no forecasting) |\n",
    "| **Components**                     | Trend + Seasonality + Holidays                 | Trend + Seasonality + Residuals     |\n",
    "| **Handles missing data?**          | Yes                                            | No (must handle manually)           |\n",
    "| **Handles irregular time series?** | Yes                                            | No (requires evenly spaced data)    |\n",
    "| **Forecasting**                    | Yes (core feature)                             | ❌ No forecasting                    |\n",
    "| **Custom seasonality/holidays**    | Yes (add holidays, custom cycles)              | No                                  |\n",
    "| **Trend modeling**                 | Piecewise linear or logistic with changepoints | LOESS smoothing (local regression)  |\n",
    "| **Built-in in Python via**         | `prophet` package                              | `statsmodels.tsa.seasonal.STL`      |\n"
   ]
  },
  {
   "cell_type": "code",
   "execution_count": null,
   "id": "90b70c56-e8d6-4c03-be23-30b25ad5d075",
   "metadata": {},
   "outputs": [],
   "source": [
    "import os\n",
    "import gc\n",
    "import numpy as np\n",
    "import pandas as pd\n",
    "from tqdm import tqdm\n",
    "from pathlib import Path\n",
    "\n",
    "# Geospatial\n",
    "import geopandas as gpd\n",
    "import dask_geopandas as dgpd\n",
    "import rasterio\n",
    "from rasterstats import zonal_stats\n",
    "from osgeo import gdal, osr\n",
    "\n",
    "# Statistics & Bayesian modeling\n",
    "import pymc as pm\n",
    "import arviz as az\n",
    "\n",
    "# Visualisation\n",
    "import seaborn as sns\n",
    "import matplotlib.pyplot as plt\n",
    "import plotly.express as px\n",
    "\n",
    "# Base directories\n",
    "BASE_DIR = Path(\"/Users/wenlanzhang/PycharmProjects/Mapineq/src/\")\n",
    "DATA_DIR = Path(\"/Users/wenlanzhang/Downloads/PhD_UCL/Data/Oxford\")"
   ]
  },
  {
   "cell_type": "code",
   "execution_count": null,
   "id": "44228045-5569-4a17-af6d-234a54c849c1",
   "metadata": {
    "scrolled": true
   },
   "outputs": [],
   "source": [
    "df = pd.read_csv(DATA_DIR/f\"Migration/international_migration_flow.csv\") \n",
    "df['year'] = pd.to_datetime(df['migration_month']).dt.year\n",
    "df['month'] = pd.to_datetime(df['migration_month']).dt.month\n",
    "df[\"migration_month\"] = pd.to_datetime(df[\"migration_month\"])\n",
    "\n",
    "# Define the mapping of old codes to new codes\n",
    "country_code_mapping = {\n",
    "    'GR': 'EL',  # Greece (GR → EL)\n",
    "    'GB': 'UK'   # United Kingdom (GB → UK)\n",
    "}\n",
    "\n",
    "# Apply the replacement to both columns\n",
    "df['country_from'] = df['country_from'].replace(country_code_mapping)\n",
    "df['country_to'] = df['country_to'].replace(country_code_mapping)\n",
    "\n",
    "df\n",
    "# len(df['country_from'].unique())"
   ]
  },
  {
   "cell_type": "code",
   "execution_count": null,
   "id": "0b6616c8-8652-4744-aaf6-2968af7a667f",
   "metadata": {
    "scrolled": true
   },
   "outputs": [],
   "source": [
    "# country_list = ['EL', 'ES', 'FI', 'FR', 'HR', 'EE', 'DE', 'DK', 'BA', 'AT', 'BG',\n",
    "#        'CH', 'CY', 'BE', 'CZ', 'AL', 'LU', 'LV', 'ME', 'IE', 'IS', 'IT',\n",
    "#        'MK', 'MT', 'LI', 'NL', 'LT', 'HU', 'RS', 'SE', 'SI', 'TR', 'UA',\n",
    "#        'SK', 'RO', 'NO', 'PL', 'PT', 'XK', 'UK']\n",
    "# # df = df[(df['country_from'].isin(country_list)) | (df['country_to'].isin(country_list))]\n",
    "# # df = df[(df['country_from'].isin(country_list)) & (df['country_to'].isin(country_list))]\n",
    "\n",
    "# # df = df[(df['country_from'] == 'UA') & (df['country_to'].isin(country_list))]\n",
    "# # df = df[df['num_migrants'] != 0]\n",
    "# df = df[df['num_migrants'] >= 100]\n",
    "\n",
    "# df"
   ]
  },
  {
   "cell_type": "markdown",
   "id": "40bc216b-89ea-4631-9feb-0bc9700d3c70",
   "metadata": {},
   "source": [
    "# Plot"
   ]
  },
  {
   "cell_type": "markdown",
   "id": "c4054a93-a84f-48ab-b8e0-dead77b194de",
   "metadata": {},
   "source": [
    "## UA "
   ]
  },
  {
   "cell_type": "code",
   "execution_count": null,
   "id": "bdc32bc3-6eee-4038-b513-b4981f624d16",
   "metadata": {},
   "outputs": [],
   "source": [
    "# 1. Filter only rows where destination is UA\n",
    "df_ua_in = df[df['country_to'] == 'UA']\n",
    "df_ua_out = df[df['country_from'] == 'UA']"
   ]
  },
  {
   "cell_type": "code",
   "execution_count": null,
   "id": "97cecdc8-babf-4c36-8b5c-42cdbccca75c",
   "metadata": {
    "jupyter": {
     "source_hidden": true
    },
    "scrolled": true
   },
   "outputs": [],
   "source": [
    "# # Plot one line per origin country\n",
    "# plt.figure(figsize=(8, 5))\n",
    "# for country in df_ua_in['country_from'].unique():\n",
    "#     subset = df_ua_in[df_ua_in['country_from'] == country]\n",
    "#     plt.plot(subset['migration_month'], subset['num_migrants'], label=country)\n",
    "#     # plt.plot(subset['migration_month'], subset['num_migrants'], marker='o', label=country)\n",
    "\n",
    "# # 3. Add labels and style\n",
    "# plt.title(\"Migrants to UA Over Time\")\n",
    "# plt.xlabel(\"Month\")\n",
    "# plt.ylabel(\"Number of Migrants\")\n",
    "# # plt.legend(title=\"From Country\")\n",
    "# plt.grid(True)\n",
    "# plt.tight_layout()\n",
    "\n",
    "# plt.show()"
   ]
  },
  {
   "cell_type": "code",
   "execution_count": null,
   "id": "c716e2e8-ddab-428d-9ee6-6df44ff9330e",
   "metadata": {},
   "outputs": [],
   "source": [
    "# df_ua_in\n",
    "fig = px.line(\n",
    "    df_ua_in,\n",
    "    x=\"migration_month\",\n",
    "    y=\"num_migrants\",\n",
    "    color=\"country_from\",  # separate line for each origin country\n",
    "    markers=True,\n",
    "    title=\"Migrants to UA Over Time\"\n",
    ")\n",
    "\n",
    "fig.update_layout(\n",
    "    xaxis_title=\"Month\",\n",
    "    yaxis_title=\"Number of Migrants\",\n",
    "    legend_title=\"From Country\"\n",
    ")\n",
    "\n",
    "fig.show()"
   ]
  },
  {
   "cell_type": "code",
   "execution_count": null,
   "id": "54203096-8b53-4b99-8457-cf7f1c3fd549",
   "metadata": {},
   "outputs": [],
   "source": [
    "# df_ua_out\n",
    "fig = px.line(\n",
    "    df_ua_out,\n",
    "    x=\"migration_month\",\n",
    "    y=\"num_migrants\",\n",
    "    color=\"country_to\",  # separate line for each origin country\n",
    "    markers=True,\n",
    "    title=\"Migrants from UA Over Time\"\n",
    ")\n",
    "\n",
    "fig.update_layout(\n",
    "    xaxis_title=\"Month\",\n",
    "    yaxis_title=\"Number of Migrants\",\n",
    "    legend_title=\"From Country\"\n",
    ")\n",
    "\n",
    "fig.show()"
   ]
  },
  {
   "cell_type": "markdown",
   "id": "5bd7956b-aedc-40c4-a19b-da79305184ec",
   "metadata": {},
   "source": [
    "### From PL  "
   ]
  },
  {
   "cell_type": "code",
   "execution_count": null,
   "id": "e4c31077-c49f-440c-88d1-6755a077cec0",
   "metadata": {},
   "outputs": [],
   "source": [
    "# df_pl_out\n",
    "df_pl_out = df[(df['country_from'] == 'PL') & (df['num_migrants'] != 0)]\n",
    "\n",
    "fig = px.line(\n",
    "    df_pl_out,\n",
    "    x=\"migration_month\",\n",
    "    y=\"num_migrants\",\n",
    "    color=\"country_to\",  # separate line for each origin country\n",
    "    markers=True,\n",
    "    title=\"Migrants from PL Over Time\"\n",
    ")\n",
    "\n",
    "fig.update_layout(\n",
    "    xaxis_title=\"Month\",\n",
    "    yaxis_title=\"Number of Migrants\",\n",
    "    legend_title=\"From Country\"\n",
    ")\n",
    "\n",
    "fig.show()"
   ]
  },
  {
   "cell_type": "markdown",
   "id": "47641e69-67c8-4275-b8ff-236588af2aea",
   "metadata": {},
   "source": [
    "### From DE  "
   ]
  },
  {
   "cell_type": "code",
   "execution_count": null,
   "id": "5aa6a5de-c3ff-4f33-8698-7f9ca28e22aa",
   "metadata": {},
   "outputs": [],
   "source": [
    "# df_de_out\n",
    "df_de_out = df[(df['country_from'] == 'DE') & (df['num_migrants'] != 0)]\n",
    "\n",
    "fig = px.line(\n",
    "    df_de_out,\n",
    "    x=\"migration_month\",\n",
    "    y=\"num_migrants\",\n",
    "    color=\"country_to\",  # separate line for each origin country\n",
    "    markers=True,\n",
    "    title=\"Migrants from DE Over Time\"\n",
    ")\n",
    "\n",
    "fig.update_layout(\n",
    "    xaxis_title=\"Month\",\n",
    "    yaxis_title=\"Number of Migrants\",\n",
    "    legend_title=\"From Country\"\n",
    ")\n",
    "\n",
    "fig.show()"
   ]
  },
  {
   "cell_type": "markdown",
   "id": "ea772529-27a4-4f6e-b9b1-672f40d7ed97",
   "metadata": {},
   "source": [
    "### From CZ  "
   ]
  },
  {
   "cell_type": "code",
   "execution_count": null,
   "id": "9d20bbe7-a216-48a8-b0b6-28550ea327aa",
   "metadata": {},
   "outputs": [],
   "source": [
    "# df_cz_out\n",
    "df_cz_out = df[(df['country_from'] == 'CZ') & (df['num_migrants'] != 0)]\n",
    "\n",
    "fig = px.line(\n",
    "    df_cz_out,\n",
    "    x=\"migration_month\",\n",
    "    y=\"num_migrants\",\n",
    "    color=\"country_to\",  # separate line for each origin country\n",
    "    markers=True,\n",
    "    title=\"Migrants from CZ Over Time\"\n",
    ")\n",
    "\n",
    "fig.update_layout(\n",
    "    xaxis_title=\"Month\",\n",
    "    yaxis_title=\"Number of Migrants\",\n",
    "    legend_title=\"From Country\"\n",
    ")\n",
    "\n",
    "fig.show()"
   ]
  },
  {
   "cell_type": "markdown",
   "id": "7e1377ca-7af9-4809-a364-794126ccf741",
   "metadata": {},
   "source": [
    "## VE "
   ]
  },
  {
   "cell_type": "code",
   "execution_count": null,
   "id": "49ba9527-dcbe-40ac-a39e-70ff5b104bc5",
   "metadata": {},
   "outputs": [],
   "source": [
    "df_ve_in = df[(df['country_to'] == 'VE') & (df['num_migrants'] != 0)]\n",
    "df_ve_out = df[(df['country_from'] == 'VE') & (df['num_migrants'] != 0)]"
   ]
  },
  {
   "cell_type": "code",
   "execution_count": null,
   "id": "6b884c17-9554-438b-a53e-b8ae0973d7e9",
   "metadata": {},
   "outputs": [],
   "source": [
    "# df_ve_in\n",
    "fig = px.line(\n",
    "    df_ve_in,\n",
    "    x=\"migration_month\",\n",
    "    y=\"num_migrants\",\n",
    "    color=\"country_from\", \n",
    "    markers=True,\n",
    "    title=\"Migrants to VE Over Time\"\n",
    ")\n",
    "\n",
    "fig.update_layout(\n",
    "    xaxis_title=\"Month\",\n",
    "    yaxis_title=\"Number of Migrants\",\n",
    "    legend_title=\"From Country\"\n",
    ")\n",
    "\n",
    "fig.show()"
   ]
  },
  {
   "cell_type": "code",
   "execution_count": null,
   "id": "b724a39f-d6be-49c3-b698-8e6623f4a61f",
   "metadata": {
    "scrolled": true
   },
   "outputs": [],
   "source": [
    "# df_ve_out\n",
    "fig = px.line(\n",
    "    df_ve_out,\n",
    "    x=\"migration_month\",\n",
    "    y=\"num_migrants\",\n",
    "    color=\"country_to\", \n",
    "    markers=True,\n",
    "    title=\"Migrants from VE Over Time\"\n",
    ")\n",
    "\n",
    "fig.update_layout(\n",
    "    xaxis_title=\"Month\",\n",
    "    yaxis_title=\"Number of Migrants\",\n",
    "    legend_title=\"From Country\"\n",
    ")\n",
    "\n",
    "fig.show()"
   ]
  },
  {
   "cell_type": "markdown",
   "id": "9c61029e-89c7-46ca-95cd-5de91fb9d785",
   "metadata": {},
   "source": [
    "#### Plot"
   ]
  },
  {
   "cell_type": "markdown",
   "id": "883112f2-3fa8-41ce-91b9-10e2e92fd931",
   "metadata": {},
   "source": [
    "##### Waffle for R"
   ]
  },
  {
   "cell_type": "code",
   "execution_count": null,
   "id": "e09d6295-bde5-40c8-aa63-6554eb1ac418",
   "metadata": {},
   "outputs": [],
   "source": [
    "out_migration_totals = df_ve_out.groupby('country_to')['num_migrants'].sum().sort_values(ascending=False)\n",
    "out_migration_totals"
   ]
  },
  {
   "cell_type": "code",
   "execution_count": null,
   "id": "b45129e1-9399-49ae-9dae-2316af1b14dd",
   "metadata": {
    "jupyter": {
     "source_hidden": true
    },
    "scrolled": true
   },
   "outputs": [],
   "source": [
    "plt.figure(figsize=(10, 6))\n",
    "plt.hist(out_migration_totals, bins=30, edgecolor='black')\n",
    "\n",
    "plt.title('Distribution of Migrant Counts per Destination Country')\n",
    "plt.xlabel('Number of Migrants')\n",
    "plt.ylabel('Number of Countries')\n",
    "plt.tight_layout()\n",
    "plt.show()"
   ]
  },
  {
   "cell_type": "code",
   "execution_count": null,
   "id": "a6491463-fc8a-4999-b474-037283ea66be",
   "metadata": {},
   "outputs": [],
   "source": [
    "threshold = 0.05 * 1_000_000  # 200,000 migrants\n",
    "major_countries = out_migration_totals[out_migration_totals > threshold]\n",
    "others_sum = out_migration_totals[out_migration_totals < threshold].sum()\n",
    "major_countries['Other'] = others_sum\n",
    "\n",
    "major_countries"
   ]
  },
  {
   "cell_type": "code",
   "execution_count": null,
   "id": "d345ae2d-b90c-423a-bb2c-33619f744843",
   "metadata": {
    "scrolled": true
   },
   "outputs": [],
   "source": [
    "df_ve_out_top =  df_ve_out[df_ve_out['migration_month'] == '2022-02-01'].sort_values(by='num_migrants', ascending=False).head(11)\n",
    "df_ve_out_top[['country_to', 'num_migrants']]"
   ]
  },
  {
   "cell_type": "code",
   "execution_count": null,
   "id": "26534de1-8081-4b4d-a37d-8c681d9d31eb",
   "metadata": {},
   "outputs": [],
   "source": [
    "df_month = df_ve_out[df_ve_out['migration_month'] == '2022-02-01']\n",
    "\n",
    "migration_totals = df_month.groupby('country_to')['num_migrants'].sum()\n",
    "sorted_totals = migration_totals.sort_values(ascending=False)\n",
    "\n",
    "top_10 = sorted_totals.head(8)\n",
    "others_sum = sorted_totals.iloc[8:].sum()\n",
    "\n",
    "# Use pd.concat instead of append\n",
    "migration_final = pd.concat([top_10, pd.Series({'Other': others_sum})])\n",
    "\n",
    "migration_final"
   ]
  },
  {
   "cell_type": "markdown",
   "id": "c0617783-9e00-45d6-b8f5-1efef828293d",
   "metadata": {},
   "source": [
    "##### Heatmap"
   ]
  },
  {
   "cell_type": "code",
   "execution_count": null,
   "id": "f6356baa-171a-421a-8679-5612d13ac277",
   "metadata": {
    "scrolled": true
   },
   "outputs": [],
   "source": [
    "# 1. Filter origin and destination countries of interest:\n",
    "origin_countries = ['VE', 'CL', 'AR', 'PE']\n",
    "# For destination, you can pick top N countries by migrant volume or specific countries\n",
    "destination_countries = ['US', 'ES', 'CO', 'BR', 'EC', 'PE', 'CL', 'AR']  # example subset\n",
    "\n",
    "df_filtered = df[\n",
    "    (df['country_from'].isin(origin_countries)) &\n",
    "    (df['country_to'].isin(destination_countries))\n",
    "]\n",
    "\n",
    "# 2. Aggregate data: average monthly migrants by origin-destination pair over all months\n",
    "avg_flows = (\n",
    "    df_filtered\n",
    "    .groupby(['country_from', 'country_to'])['num_migrants']\n",
    "    .mean()\n",
    "    .reset_index()\n",
    ")\n",
    "\n",
    "# 3. Pivot data to get matrix form for heatmap: rows=origin, columns=destination\n",
    "heatmap_data = avg_flows.pivot(index='country_from', columns='country_to', values='num_migrants')\n",
    "\n",
    "# 4. Plot heatmap\n",
    "plt.figure(figsize=(10, 6))\n",
    "sns.heatmap(heatmap_data, annot=True, fmt=\".0f\", cmap='YlGnBu')\n",
    "\n",
    "plt.title('Average Monthly Migration Flows by Corridor')\n",
    "plt.ylabel('Origin Country')\n",
    "plt.xlabel('Destination Country')\n",
    "plt.tight_layout()\n",
    "plt.show()\n"
   ]
  },
  {
   "cell_type": "code",
   "execution_count": null,
   "id": "ddefbbd5-8e1e-488a-9862-082e3a2eb546",
   "metadata": {},
   "outputs": [],
   "source": []
  },
  {
   "cell_type": "code",
   "execution_count": null,
   "id": "c3bbabeb-2ee2-4d8f-ab7b-10e6924c1068",
   "metadata": {},
   "outputs": [],
   "source": []
  },
  {
   "cell_type": "code",
   "execution_count": null,
   "id": "f13b34fe-f068-44d1-9ae4-ec5c3b5ad0a8",
   "metadata": {},
   "outputs": [],
   "source": []
  },
  {
   "cell_type": "markdown",
   "id": "9a3d53d8-f17d-4d3b-b4e5-632c160879c8",
   "metadata": {},
   "source": [
    "### CO"
   ]
  },
  {
   "cell_type": "code",
   "execution_count": null,
   "id": "89620b2e-cc7a-4c19-bc34-b4f0f033c5a6",
   "metadata": {},
   "outputs": [],
   "source": [
    "df_co_in = df[(df['country_to'] == 'CO') & (df['num_migrants'] != 0)]\n",
    "df_co_out = df[(df['country_from'] == 'CO') & (df['num_migrants'] != 0)]"
   ]
  },
  {
   "cell_type": "code",
   "execution_count": null,
   "id": "1ec72bc4-0368-4bab-9388-d95fe03cedb6",
   "metadata": {
    "jupyter": {
     "source_hidden": true
    }
   },
   "outputs": [],
   "source": [
    "# df_co_in\n",
    "fig = px.line(\n",
    "    df_co_in,\n",
    "    x=\"migration_month\",\n",
    "    y=\"num_migrants\",\n",
    "    color=\"country_from\", \n",
    "    markers=True,\n",
    "    title=\"Migrants to CO Over Time\"\n",
    ")\n",
    "\n",
    "fig.update_layout(\n",
    "    xaxis_title=\"Month\",\n",
    "    yaxis_title=\"Number of Migrants\",\n",
    "    legend_title=\"From Country\"\n",
    ")\n",
    "\n",
    "fig.show()"
   ]
  },
  {
   "cell_type": "code",
   "execution_count": null,
   "id": "80f83e5a-42cc-4d16-aae8-8130c0a30b27",
   "metadata": {
    "jupyter": {
     "source_hidden": true
    }
   },
   "outputs": [],
   "source": [
    "# df_co_out\n",
    "fig = px.line(\n",
    "    df_co_out,\n",
    "    x=\"migration_month\",\n",
    "    y=\"num_migrants\",\n",
    "    color=\"country_to\", \n",
    "    markers=True,\n",
    "    title=\"Migrants from CO Over Time\"\n",
    ")\n",
    "\n",
    "fig.update_layout(\n",
    "    xaxis_title=\"Month\",\n",
    "    yaxis_title=\"Number of Migrants\",\n",
    "    legend_title=\"From Country\"\n",
    ")\n",
    "\n",
    "fig.show()"
   ]
  },
  {
   "cell_type": "markdown",
   "id": "dc5dfbbe-a0dc-4669-8caf-09434a321a94",
   "metadata": {},
   "source": [
    "### CL"
   ]
  },
  {
   "cell_type": "code",
   "execution_count": null,
   "id": "7f903bc1-e282-478e-8853-279efbec6ebf",
   "metadata": {},
   "outputs": [],
   "source": [
    "df_cl_in = df[(df['country_to'] == 'CL') & (df['num_migrants'] != 0)]\n",
    "df_cl_out = df[(df['country_from'] == 'CL') & (df['num_migrants'] != 0)]"
   ]
  },
  {
   "cell_type": "code",
   "execution_count": null,
   "id": "e0fe06ba-95f0-4080-b368-19d375608a44",
   "metadata": {},
   "outputs": [],
   "source": [
    "# df_cl_in\n",
    "fig = px.line(\n",
    "    df_cl_in,\n",
    "    x=\"migration_month\",\n",
    "    y=\"num_migrants\",\n",
    "    color=\"country_from\", \n",
    "    markers=True,\n",
    "    title=\"Migrants to CL Over Time\"\n",
    ")\n",
    "\n",
    "fig.update_layout(\n",
    "    xaxis_title=\"Month\",\n",
    "    yaxis_title=\"Number of Migrants\",\n",
    "    legend_title=\"From Country\"\n",
    ")\n",
    "\n",
    "fig.show()"
   ]
  },
  {
   "cell_type": "code",
   "execution_count": null,
   "id": "cfffdd86-1068-4308-9a91-528339ed74af",
   "metadata": {},
   "outputs": [],
   "source": [
    "# df_cl_out\n",
    "fig = px.line(\n",
    "    df_cl_out,\n",
    "    x=\"migration_month\",\n",
    "    y=\"num_migrants\",\n",
    "    color=\"country_to\", \n",
    "    markers=True,\n",
    "    title=\"Migrants from CL Over Time\"\n",
    ")\n",
    "\n",
    "fig.update_layout(\n",
    "    xaxis_title=\"Month\",\n",
    "    yaxis_title=\"Number of Migrants\",\n",
    "    legend_title=\"From Country\"\n",
    ")\n",
    "\n",
    "fig.show()"
   ]
  },
  {
   "cell_type": "markdown",
   "id": "562863f4-c0ac-4a49-8c06-6364816446a7",
   "metadata": {},
   "source": [
    "### AR"
   ]
  },
  {
   "cell_type": "code",
   "execution_count": null,
   "id": "d3ccc5ea-0b97-40c1-9386-2d61546a9617",
   "metadata": {},
   "outputs": [],
   "source": [
    "df_AR_in = df[(df['country_to'] == 'AR') & (df['num_migrants'] != 0)]\n",
    "df_AR_out = df[(df['country_from'] == 'AR') & (df['num_migrants'] != 0)]"
   ]
  },
  {
   "cell_type": "code",
   "execution_count": null,
   "id": "16f53aef-e81f-4ac9-bde6-085c1023aa8c",
   "metadata": {},
   "outputs": [],
   "source": [
    "# df_cl_in\n",
    "fig = px.line(\n",
    "    df_AR_in,\n",
    "    x=\"migration_month\",\n",
    "    y=\"num_migrants\",\n",
    "    color=\"country_from\", \n",
    "    markers=True,\n",
    "    title=\"Migrants to AR Over Time\"\n",
    ")\n",
    "\n",
    "fig.update_layout(\n",
    "    xaxis_title=\"Month\",\n",
    "    yaxis_title=\"Number of Migrants\",\n",
    "    legend_title=\"From Country\"\n",
    ")\n",
    "\n",
    "fig.show()"
   ]
  },
  {
   "cell_type": "code",
   "execution_count": null,
   "id": "4cb6cbec-cbf0-48e4-9af8-ff53cb72bde0",
   "metadata": {},
   "outputs": [],
   "source": [
    "# df_cl_out\n",
    "fig = px.line(\n",
    "    df_AR_out,\n",
    "    x=\"migration_month\",\n",
    "    y=\"num_migrants\",\n",
    "    color=\"country_to\", \n",
    "    markers=True,\n",
    "    title=\"Migrants from AR Over Time\"\n",
    ")\n",
    "\n",
    "fig.update_layout(\n",
    "    xaxis_title=\"Month\",\n",
    "    yaxis_title=\"Number of Migrants\",\n",
    "    legend_title=\"From Country\"\n",
    ")\n",
    "\n",
    "fig.show()"
   ]
  },
  {
   "cell_type": "markdown",
   "id": "f221791e-aa51-4179-9433-cb6ace5b51df",
   "metadata": {},
   "source": [
    "### MX"
   ]
  },
  {
   "cell_type": "code",
   "execution_count": null,
   "id": "f006cd57-42d5-464c-be8e-42eebad4f0a5",
   "metadata": {},
   "outputs": [],
   "source": [
    "df_MX_in = df[(df['country_to'] == 'MX') & (df['num_migrants'] != 0)]\n",
    "df_MX_out = df[(df['country_from'] == 'MX') & (df['num_migrants'] != 0)]"
   ]
  },
  {
   "cell_type": "code",
   "execution_count": null,
   "id": "28aaa79d-6a13-48de-864b-e789617ad683",
   "metadata": {},
   "outputs": [],
   "source": [
    "# df_mx_out\n",
    "fig = px.line(\n",
    "    df_MX_out,\n",
    "    x=\"migration_month\",\n",
    "    y=\"num_migrants\",\n",
    "    color=\"country_to\", \n",
    "    markers=True,\n",
    "    title=\"Migrants from MX Over Time\"\n",
    ")\n",
    "\n",
    "fig.update_layout(\n",
    "    xaxis_title=\"Month\",\n",
    "    yaxis_title=\"Number of Migrants\",\n",
    "    legend_title=\"From Country\"\n",
    ")\n",
    "\n",
    "fig.show()"
   ]
  },
  {
   "cell_type": "code",
   "execution_count": null,
   "id": "bacc7fcf-33ff-4aa9-93b7-03006260c129",
   "metadata": {},
   "outputs": [],
   "source": [
    "# df_mx_in\n",
    "fig = px.line(\n",
    "    df_MX_in,\n",
    "    x=\"migration_month\",\n",
    "    y=\"num_migrants\",\n",
    "    color=\"country_from\", \n",
    "    markers=True,\n",
    "    title=\"Migrants to MX Over Time\"\n",
    ")\n",
    "\n",
    "fig.update_layout(\n",
    "    xaxis_title=\"Month\",\n",
    "    yaxis_title=\"Number of Migrants\",\n",
    "    legend_title=\"From Country\"\n",
    ")\n",
    "\n",
    "fig.show()"
   ]
  },
  {
   "cell_type": "code",
   "execution_count": null,
   "id": "80269bed-2ae9-461d-8083-886baa2e6289",
   "metadata": {},
   "outputs": [],
   "source": []
  },
  {
   "cell_type": "markdown",
   "id": "7056dd9d-e23f-4e54-ae85-786e49260c0a",
   "metadata": {},
   "source": [
    "### UY"
   ]
  },
  {
   "cell_type": "code",
   "execution_count": null,
   "id": "f7c595e8-963e-4f41-8393-4df30977c822",
   "metadata": {},
   "outputs": [],
   "source": [
    "df_UY_in = df[(df['country_to'] == 'UY') & (df['num_migrants'] != 0)]\n",
    "df_UY_out = df[(df['country_from'] == 'UY') & (df['num_migrants'] != 0)]"
   ]
  },
  {
   "cell_type": "code",
   "execution_count": null,
   "id": "9c24fb54-6525-4af4-be95-52c51fb1ccb4",
   "metadata": {},
   "outputs": [],
   "source": [
    "# df_ur_out\n",
    "fig = px.line(\n",
    "    df_UY_out,\n",
    "    x=\"migration_month\",\n",
    "    y=\"num_migrants\",\n",
    "    color=\"country_to\", \n",
    "    markers=True,\n",
    "    title=\"Migrants from UY Over Time\"\n",
    ")\n",
    "\n",
    "fig.update_layout(\n",
    "    xaxis_title=\"Month\",\n",
    "    yaxis_title=\"Number of Migrants\",\n",
    "    legend_title=\"From Country\"\n",
    ")\n",
    "\n",
    "fig.show()"
   ]
  },
  {
   "cell_type": "code",
   "execution_count": null,
   "id": "2dc71817-e376-457c-8b8f-75d1c8bf9a2f",
   "metadata": {},
   "outputs": [],
   "source": [
    "# df_uy_in\n",
    "fig = px.line(\n",
    "    df_UY_in,\n",
    "    x=\"migration_month\",\n",
    "    y=\"num_migrants\",\n",
    "    color=\"country_from\", \n",
    "    markers=True,\n",
    "    title=\"Migrants to UY Over Time\"\n",
    ")\n",
    "\n",
    "fig.update_layout(\n",
    "    xaxis_title=\"Month\",\n",
    "    yaxis_title=\"Number of Migrants\",\n",
    "    legend_title=\"From Country\"\n",
    ")\n",
    "\n",
    "fig.show()"
   ]
  },
  {
   "cell_type": "markdown",
   "id": "b3b45e89-00ac-408c-b062-123c48f4e3b2",
   "metadata": {},
   "source": [
    "## Haiti"
   ]
  },
  {
   "cell_type": "code",
   "execution_count": null,
   "id": "ebd40d68-3283-473a-a7b6-ff893b93464c",
   "metadata": {},
   "outputs": [],
   "source": [
    "df_HT_in = df[(df['country_to'] == 'HT') & (df['num_migrants'] != 0)]\n",
    "df_HT_out = df[(df['country_from'] == 'HT') & (df['num_migrants'] != 0)]"
   ]
  },
  {
   "cell_type": "code",
   "execution_count": null,
   "id": "ea2032e9-3092-4c00-a2b0-c54f49796a4d",
   "metadata": {},
   "outputs": [],
   "source": [
    "# df_HT_in\n",
    "fig = px.line(\n",
    "    df_HT_in,\n",
    "    x=\"migration_month\",\n",
    "    y=\"num_migrants\",\n",
    "    color=\"country_from\", \n",
    "    markers=True,\n",
    "    title=\"Migrants to HT Over Time\"\n",
    ")\n",
    "\n",
    "fig.update_layout(\n",
    "    xaxis_title=\"Month\",\n",
    "    yaxis_title=\"Number of Migrants\",\n",
    "    legend_title=\"From Country\"\n",
    ")\n",
    "\n",
    "fig.show()"
   ]
  },
  {
   "cell_type": "code",
   "execution_count": null,
   "id": "fddf9180-7ff1-43e7-b76c-6e2bad115c3d",
   "metadata": {},
   "outputs": [],
   "source": [
    "# df_HT_out\n",
    "fig = px.line(\n",
    "    df_HT_out,\n",
    "    x=\"migration_month\",\n",
    "    y=\"num_migrants\",\n",
    "    color=\"country_to\", \n",
    "    markers=True,\n",
    "    title=\"Migrants from HT Over Time\"\n",
    ")\n",
    "\n",
    "fig.update_layout(\n",
    "    xaxis_title=\"Month\",\n",
    "    yaxis_title=\"Number of Migrants\",\n",
    "    legend_title=\"From Country\"\n",
    ")\n",
    "\n",
    "fig.show()"
   ]
  },
  {
   "cell_type": "code",
   "execution_count": null,
   "id": "1a059e93-529a-4a75-b3a6-6881716ce9ea",
   "metadata": {},
   "outputs": [],
   "source": []
  },
  {
   "cell_type": "code",
   "execution_count": null,
   "id": "3257c90f-d854-4bfa-97c7-b4cf2a267b4e",
   "metadata": {},
   "outputs": [],
   "source": [
    "df_DO_in = df[(df['country_to'] == 'DO') & (df['num_migrants'] != 0)]\n",
    "df_DO_out = df[(df['country_from'] == 'DO') & (df['num_migrants'] != 0)]"
   ]
  },
  {
   "cell_type": "code",
   "execution_count": null,
   "id": "58b7d07d-54f3-47ba-8d27-2fbb6564372b",
   "metadata": {},
   "outputs": [],
   "source": [
    "# df_DO_in\n",
    "fig = px.line(\n",
    "    df_DO_in,\n",
    "    x=\"migration_month\",\n",
    "    y=\"num_migrants\",\n",
    "    color=\"country_from\", \n",
    "    markers=True,\n",
    "    title=\"Migrants to DO Over Time\"\n",
    ")\n",
    "\n",
    "fig.update_layout(\n",
    "    xaxis_title=\"Month\",\n",
    "    yaxis_title=\"Number of Migrants\",\n",
    "    legend_title=\"From Country\"\n",
    ")\n",
    "\n",
    "fig.show()"
   ]
  },
  {
   "cell_type": "code",
   "execution_count": null,
   "id": "dad78660-316e-4abb-a598-65be7ba09a30",
   "metadata": {},
   "outputs": [],
   "source": [
    "# df_DO_out\n",
    "fig = px.line(\n",
    "    df_DO_out,\n",
    "    x=\"migration_month\",\n",
    "    y=\"num_migrants\",\n",
    "    color=\"country_to\", \n",
    "    markers=True,\n",
    "    title=\"Migrants from DO Over Time\"\n",
    ")\n",
    "\n",
    "fig.update_layout(\n",
    "    xaxis_title=\"Month\",\n",
    "    yaxis_title=\"Number of Migrants\",\n",
    "    legend_title=\"From Country\"\n",
    ")\n",
    "\n",
    "fig.show()"
   ]
  },
  {
   "cell_type": "code",
   "execution_count": null,
   "id": "2c434588-22d7-4102-8540-e16ceef26cb1",
   "metadata": {},
   "outputs": [],
   "source": []
  },
  {
   "cell_type": "markdown",
   "id": "a4d32359-eece-4431-a3d2-1aa2e6d34f10",
   "metadata": {},
   "source": [
    "## MM to TH"
   ]
  },
  {
   "cell_type": "code",
   "execution_count": null,
   "id": "86fc3627-19ed-4ef2-994e-8050d8fc84eb",
   "metadata": {},
   "outputs": [],
   "source": [
    "df_MM_in = df[(df['country_to'] == 'MM') & (df['num_migrants'] != 0)]\n",
    "df_MM_out = df[(df['country_from'] == 'MM') & (df['num_migrants'] != 0)]\n",
    "\n",
    "# df_DO_in\n",
    "fig = px.line(\n",
    "    df_MM_in,\n",
    "    x=\"migration_month\",\n",
    "    y=\"num_migrants\",\n",
    "    color=\"country_from\", \n",
    "    markers=True,\n",
    "    title=\"Migrants to MM Over Time\"\n",
    ")\n",
    "\n",
    "fig.update_layout(\n",
    "    xaxis_title=\"Month\",\n",
    "    yaxis_title=\"Number of Migrants\",\n",
    "    legend_title=\"From Country\"\n",
    ")\n",
    "\n",
    "fig.show()"
   ]
  },
  {
   "cell_type": "code",
   "execution_count": null,
   "id": "e84f4d47-9838-415e-ab8d-2fe86b0802af",
   "metadata": {
    "scrolled": true
   },
   "outputs": [],
   "source": [
    "# df_MM_out\n",
    "fig = px.line(\n",
    "    df_MM_out,\n",
    "    x=\"migration_month\",\n",
    "    y=\"num_migrants\",\n",
    "    color=\"country_to\", \n",
    "    markers=True,\n",
    "    title=\"Migrants from MM Over Time\"\n",
    ")\n",
    "\n",
    "fig.update_layout(\n",
    "    xaxis_title=\"Month\",\n",
    "    yaxis_title=\"Number of Migrants\",\n",
    "    legend_title=\"From Country\"\n",
    ")\n",
    "\n",
    "fig.show()"
   ]
  },
  {
   "cell_type": "code",
   "execution_count": null,
   "id": "7185e37a-ae2f-4869-92d5-b40a7e7f62d5",
   "metadata": {},
   "outputs": [],
   "source": []
  },
  {
   "cell_type": "code",
   "execution_count": null,
   "id": "b2e252ef-5c8a-4975-89d8-8b44410a4d9c",
   "metadata": {},
   "outputs": [],
   "source": []
  },
  {
   "cell_type": "code",
   "execution_count": null,
   "id": "be02eb55-fa9b-48fd-9bb4-af4d684f503f",
   "metadata": {
    "scrolled": true
   },
   "outputs": [],
   "source": [
    "df_SY_in = df[(df['country_to'] == 'SY') & (df['num_migrants'] != 0)]\n",
    "df_SY_out = df[(df['country_from'] == 'SY') & (df['num_migrants'] != 0)]\n",
    "\n",
    "# df_DO_in\n",
    "fig = px.line(\n",
    "    df_SY_in,\n",
    "    x=\"migration_month\",\n",
    "    y=\"num_migrants\",\n",
    "    color=\"country_from\", \n",
    "    markers=True,\n",
    "    title=\"Migrants to SY Over Time\"\n",
    ")\n",
    "\n",
    "fig.update_layout(\n",
    "    xaxis_title=\"Month\",\n",
    "    yaxis_title=\"Number of Migrants\",\n",
    "    legend_title=\"From Country\"\n",
    ")\n",
    "\n",
    "fig.show()"
   ]
  },
  {
   "cell_type": "code",
   "execution_count": null,
   "id": "40af330b-3fdc-476a-a13f-0fef53339f94",
   "metadata": {},
   "outputs": [],
   "source": [
    "# df_SY_out\n",
    "fig = px.line(\n",
    "    df_SY_out,\n",
    "    x=\"migration_month\",\n",
    "    y=\"num_migrants\",\n",
    "    color=\"country_to\", \n",
    "    markers=True,\n",
    "    title=\"Migrants from SY Over Time\"\n",
    ")\n",
    "\n",
    "fig.update_layout(\n",
    "    xaxis_title=\"Month\",\n",
    "    yaxis_title=\"Number of Migrants\",\n",
    "    legend_title=\"From Country\"\n",
    ")\n",
    "\n",
    "fig.show()"
   ]
  },
  {
   "cell_type": "code",
   "execution_count": null,
   "id": "1437b787-c6d5-4c84-98cd-8dc1ef7aa7b5",
   "metadata": {},
   "outputs": [],
   "source": [
    "df_TR_in = df[(df['country_to'] == 'TR') & (df['num_migrants'] != 0)]\n",
    "df_TR_out = df[(df['country_from'] == 'TR') & (df['num_migrants'] != 0)]\n",
    "\n",
    "# df_TR_in\n",
    "fig = px.line(\n",
    "    df_TR_in,\n",
    "    x=\"migration_month\",\n",
    "    y=\"num_migrants\",\n",
    "    color=\"country_from\", \n",
    "    markers=True,\n",
    "    title=\"Migrants to TR Over Time\"\n",
    ")\n",
    "\n",
    "fig.update_layout(\n",
    "    xaxis_title=\"Month\",\n",
    "    yaxis_title=\"Number of Migrants\",\n",
    "    legend_title=\"From Country\"\n",
    ")\n",
    "\n",
    "fig.show()"
   ]
  },
  {
   "cell_type": "code",
   "execution_count": null,
   "id": "c9cb472e-3821-4168-acd6-fa7df44cbb5a",
   "metadata": {},
   "outputs": [],
   "source": [
    "# df_TR_out\n",
    "fig = px.line(\n",
    "    df_TR_out,\n",
    "    x=\"migration_month\",\n",
    "    y=\"num_migrants\",\n",
    "    color=\"country_to\", \n",
    "    markers=True,\n",
    "    title=\"Migrants from TR Over Time\"\n",
    ")\n",
    "\n",
    "fig.update_layout(\n",
    "    xaxis_title=\"Month\",\n",
    "    yaxis_title=\"Number of Migrants\",\n",
    "    legend_title=\"From Country\"\n",
    ")\n",
    "\n",
    "fig.show()"
   ]
  },
  {
   "cell_type": "markdown",
   "id": "dc0276fe-b07d-48c6-a663-27af45e6b637",
   "metadata": {},
   "source": [
    "# FB: Prophet"
   ]
  },
  {
   "cell_type": "code",
   "execution_count": null,
   "id": "21ca0e6f-fd74-4279-8bda-3e997174771d",
   "metadata": {},
   "outputs": [],
   "source": [
    "from prophet import Prophet\n",
    "from prophet.plot import plot_plotly, plot_components_plotly"
   ]
  },
  {
   "cell_type": "markdown",
   "id": "ed5f69c8-167e-439a-81a8-bd98d3c739c7",
   "metadata": {
    "jp-MarkdownHeadingCollapsed": true
   },
   "source": [
    "## Example "
   ]
  },
  {
   "cell_type": "code",
   "execution_count": null,
   "id": "1ce98654-71a8-4581-9488-202832985da0",
   "metadata": {},
   "outputs": [],
   "source": [
    "# Python\n",
    "df = pd.read_csv('https://raw.githubusercontent.com/facebook/prophet/main/examples/example_wp_log_peyton_manning.csv')\n",
    "df.head()\n",
    "# 2905 rows"
   ]
  },
  {
   "cell_type": "code",
   "execution_count": null,
   "id": "e5e086bb-4e22-400f-b412-8db54e6c6b0e",
   "metadata": {},
   "outputs": [],
   "source": [
    "m = Prophet()\n",
    "m.fit(df)"
   ]
  },
  {
   "cell_type": "code",
   "execution_count": null,
   "id": "a14ebf76-70b9-430d-9737-5c80cd193d7c",
   "metadata": {},
   "outputs": [],
   "source": [
    "future = m.make_future_dataframe(periods=365)\n",
    "future.tail()\n",
    "# 3270 row"
   ]
  },
  {
   "cell_type": "code",
   "execution_count": null,
   "id": "b2e4f09b-58c3-48a0-b914-9c21160ec87e",
   "metadata": {},
   "outputs": [],
   "source": [
    "forecast = m.predict(future)\n",
    "forecast[['ds', 'yhat', 'yhat_lower', 'yhat_upper']].tail()"
   ]
  },
  {
   "cell_type": "code",
   "execution_count": null,
   "id": "ea2cac9d-af6b-4b8e-a9e3-f3eef010e60e",
   "metadata": {},
   "outputs": [],
   "source": [
    "fig1 = m.plot(forecast)"
   ]
  },
  {
   "cell_type": "code",
   "execution_count": null,
   "id": "2c91eec7-9ebb-42a4-b339-7ec9cd877713",
   "metadata": {
    "scrolled": true
   },
   "outputs": [],
   "source": [
    "fig2 = m.plot_components(forecast)"
   ]
  },
  {
   "cell_type": "code",
   "execution_count": null,
   "id": "ceaf6625-3450-4f32-82d1-d95d0dcfb067",
   "metadata": {},
   "outputs": [],
   "source": [
    "plot_plotly(m, forecast)"
   ]
  },
  {
   "cell_type": "code",
   "execution_count": null,
   "id": "ecdc2e6d-7072-4fc1-9e46-fd9da14e3b95",
   "metadata": {},
   "outputs": [],
   "source": [
    "plot_components_plotly(m, forecast)"
   ]
  },
  {
   "cell_type": "markdown",
   "id": "797ad4e2-58c1-4c3f-b107-4c838467a53e",
   "metadata": {},
   "source": [
    "## Actual - CO / VE"
   ]
  },
  {
   "cell_type": "code",
   "execution_count": null,
   "id": "0268c3c6-723c-44b1-a154-55971861220a",
   "metadata": {
    "scrolled": true
   },
   "outputs": [],
   "source": [
    "df_ve_co = df_ve_out[df_ve_out['country_to'] == 'CO']\n",
    "df_co_ve = df_co_out[df_co_out['country_to'] == 'VE']"
   ]
  },
  {
   "cell_type": "code",
   "execution_count": null,
   "id": "00d225d4-d5e5-4c97-a92b-c8e9c3923e46",
   "metadata": {
    "jupyter": {
     "source_hidden": true
    }
   },
   "outputs": [],
   "source": [
    "# df_ve_co\n",
    "df_prophet = df_ve_co.copy().rename(columns={\n",
    "    'migration_month': 'ds',\n",
    "    'num_migrants': 'y'\n",
    "})\n",
    "\n",
    "# Step 2: Convert date to datetime\n",
    "df_prophet['ds'] = pd.to_datetime(df_prophet['ds'])\n",
    "\n",
    "# Step 3: Initialize Prophet\n",
    "model = Prophet(\n",
    "    yearly_seasonality=True,\n",
    "    weekly_seasonality=False,\n",
    "    daily_seasonality=False\n",
    ")\n",
    "\n",
    "# Step 4: Fit the model to your data\n",
    "model.fit(df_prophet)\n",
    "\n",
    "# Step 5: Use the same data as the \"future\" frame (no need to extend it)\n",
    "forecast = model.predict(df_prophet)\n",
    "\n",
    "# Step 6: Plot the components (trend and seasonality)\n",
    "model.plot_components(forecast)\n",
    "plt.show()"
   ]
  },
  {
   "cell_type": "code",
   "execution_count": null,
   "id": "ea3395ba-3bf3-47c2-8397-0c5f05d3ed0f",
   "metadata": {
    "jupyter": {
     "source_hidden": true
    },
    "scrolled": true
   },
   "outputs": [],
   "source": [
    "# df_co_ve\n",
    "df_prophet = df_co_ve.copy().rename(columns={\n",
    "    'migration_month': 'ds',\n",
    "    'num_migrants': 'y'\n",
    "})\n",
    "\n",
    "# Step 2: Convert date to datetime\n",
    "df_prophet['ds'] = pd.to_datetime(df_prophet['ds'])\n",
    "\n",
    "# Step 3: Initialize Prophet\n",
    "model = Prophet(\n",
    "    yearly_seasonality=True,\n",
    "    weekly_seasonality=False,\n",
    "    daily_seasonality=False\n",
    ")\n",
    "\n",
    "# Step 4: Fit the model to your data\n",
    "model.fit(df_prophet)\n",
    "\n",
    "# Step 5: Use the same data as the \"future\" frame (no need to extend it)\n",
    "forecast = model.predict(df_prophet)\n",
    "\n",
    "# Step 6: Plot the components (trend and seasonality)\n",
    "model.plot_components(forecast)\n",
    "plt.show()"
   ]
  },
  {
   "cell_type": "code",
   "execution_count": null,
   "id": "43c05ba8-8470-4e0b-bf18-1164781c59a9",
   "metadata": {},
   "outputs": [],
   "source": []
  },
  {
   "cell_type": "markdown",
   "id": "93b372ea-8e32-4a8e-b5d6-1307e1b073d7",
   "metadata": {},
   "source": [
    "## Actual - UA / PL"
   ]
  },
  {
   "cell_type": "code",
   "execution_count": null,
   "id": "94e15c83-f4fb-4f7f-84ac-e2ac3866eb94",
   "metadata": {},
   "outputs": [],
   "source": [
    "df_ua_pl = df[(df['country_to'] == 'PL') & (df['country_from'] == 'UA')]\n",
    "df_pl_ua = df[(df['country_to'] == 'UA') & (df['country_from'] == 'PL')]"
   ]
  },
  {
   "cell_type": "code",
   "execution_count": null,
   "id": "cca323aa-52ff-420e-b05e-750714e73e7e",
   "metadata": {
    "scrolled": true
   },
   "outputs": [],
   "source": [
    "# df_co_ve\n",
    "df_prophet = df_ua_pl.copy().rename(columns={\n",
    "    'migration_month': 'ds',\n",
    "    'num_migrants': 'y'\n",
    "})\n",
    "\n",
    "# Step 2: Convert date to datetime\n",
    "df_prophet['ds'] = pd.to_datetime(df_prophet['ds'])\n",
    "\n",
    "# Step 3: Initialize Prophet\n",
    "model = Prophet(\n",
    "    yearly_seasonality=True,\n",
    "    weekly_seasonality=False,\n",
    "    daily_seasonality=False\n",
    ")\n",
    "\n",
    "# Step 4: Fit the model to your data\n",
    "model.fit(df_prophet)\n",
    "\n",
    "# Step 5: Use the same data as the \"future\" frame (no need to extend it)\n",
    "forecast = model.predict(df_prophet)\n",
    "\n",
    "# Step 6: Plot the components (trend and seasonality)\n",
    "model.plot_components(forecast)\n",
    "plt.show()"
   ]
  },
  {
   "cell_type": "code",
   "execution_count": null,
   "id": "1d61c90f-a527-41bb-8a4e-272414bd233d",
   "metadata": {
    "scrolled": true
   },
   "outputs": [],
   "source": [
    "# df_co_ve\n",
    "df_prophet = df_pl_ua.copy().rename(columns={\n",
    "    'migration_month': 'ds',\n",
    "    'num_migrants': 'y'\n",
    "})\n",
    "\n",
    "# Step 2: Convert date to datetime\n",
    "df_prophet['ds'] = pd.to_datetime(df_prophet['ds'])\n",
    "\n",
    "# Step 3: Initialize Prophet\n",
    "model = Prophet(\n",
    "    yearly_seasonality=True,\n",
    "    weekly_seasonality=False,\n",
    "    daily_seasonality=False\n",
    ")\n",
    "\n",
    "# Step 4: Fit the model to your data\n",
    "model.fit(df_prophet)\n",
    "\n",
    "# Step 5: Use the same data as the \"future\" frame (no need to extend it)\n",
    "forecast = model.predict(df_prophet)\n",
    "\n",
    "# Step 6: Plot the components (trend and seasonality)\n",
    "model.plot_components(forecast)\n",
    "plt.show()"
   ]
  },
  {
   "cell_type": "code",
   "execution_count": null,
   "id": "9cbb8c9b-e627-4a72-aeed-5e5472037ec6",
   "metadata": {},
   "outputs": [],
   "source": []
  },
  {
   "cell_type": "code",
   "execution_count": null,
   "id": "9b824919-f1ce-44fe-8d42-5ff277a5812d",
   "metadata": {},
   "outputs": [],
   "source": [
    "df_uk_fr = df[(df['country_to'] == 'FR') & (df['country_from'] == 'UK')]\n",
    "df_fr_uk = df[(df['country_to'] == 'UK') & (df['country_from'] == 'FR')]"
   ]
  },
  {
   "cell_type": "code",
   "execution_count": null,
   "id": "0fb8c30d-3c2d-4e9f-a52c-d3d8be43ae42",
   "metadata": {
    "jupyter": {
     "source_hidden": true
    },
    "scrolled": true
   },
   "outputs": [],
   "source": [
    "df_prophet = df_uk_fr.copy().rename(columns={\n",
    "    'migration_month': 'ds',\n",
    "    'num_migrants': 'y'\n",
    "})\n",
    "\n",
    "# Step 2: Convert date to datetime\n",
    "df_prophet['ds'] = pd.to_datetime(df_prophet['ds'])\n",
    "\n",
    "# Step 3: Initialize Prophet\n",
    "model = Prophet(\n",
    "    yearly_seasonality=True,\n",
    "    weekly_seasonality=False,\n",
    "    daily_seasonality=False\n",
    ")\n",
    "\n",
    "# Step 4: Fit the model to your data\n",
    "model.fit(df_prophet)\n",
    "\n",
    "# Step 5: Use the same data as the \"future\" frame (no need to extend it)\n",
    "forecast = model.predict(df_prophet)\n",
    "\n",
    "# Step 6: Plot the components (trend and seasonality)\n",
    "model.plot_components(forecast)\n",
    "plt.show()"
   ]
  },
  {
   "cell_type": "code",
   "execution_count": null,
   "id": "6c07e021-310b-4d22-bd93-f559ed2e0c94",
   "metadata": {
    "jupyter": {
     "source_hidden": true
    },
    "scrolled": true
   },
   "outputs": [],
   "source": [
    "df_prophet = df_fr_uk.copy().rename(columns={\n",
    "    'migration_month': 'ds',\n",
    "    'num_migrants': 'y'\n",
    "})\n",
    "\n",
    "# Step 2: Convert date to datetime\n",
    "df_prophet['ds'] = pd.to_datetime(df_prophet['ds'])\n",
    "\n",
    "# Step 3: Initialize Prophet\n",
    "model = Prophet(\n",
    "    yearly_seasonality=True,\n",
    "    weekly_seasonality=False,\n",
    "    daily_seasonality=False\n",
    ")\n",
    "\n",
    "# Step 4: Fit the model to your data\n",
    "model.fit(df_prophet)\n",
    "\n",
    "# Step 5: Use the same data as the \"future\" frame (no need to extend it)\n",
    "forecast = model.predict(df_prophet)\n",
    "\n",
    "# Step 6: Plot the components (trend and seasonality)\n",
    "model.plot_components(forecast)\n",
    "plt.show()"
   ]
  },
  {
   "cell_type": "code",
   "execution_count": null,
   "id": "ea13df53-8710-4091-8153-40cfe985d463",
   "metadata": {},
   "outputs": [],
   "source": []
  },
  {
   "cell_type": "markdown",
   "id": "ea5ce5d2-a8b0-4369-a028-098c691c2e07",
   "metadata": {},
   "source": [
    "# Test: with Baysian"
   ]
  },
  {
   "cell_type": "code",
   "execution_count": null,
   "id": "b0be4fc2-3bd6-408d-bf62-5acb73a18661",
   "metadata": {
    "scrolled": true
   },
   "outputs": [],
   "source": [
    "# Step 1: Create unique flow ID (origin -> destination)\n",
    "df[\"flow_id\"] = df[\"country_from\"] + \"_\" + df[\"country_to\"]\n",
    "\n",
    "# Create numeric indices for flows and months\n",
    "df[\"flow_index\"] = df[\"flow_id\"].astype(\"category\").cat.codes\n",
    "df[\"time_index\"] = (\n",
    "    (df[\"migration_month\"].dt.year - df[\"migration_month\"].dt.year.min()) * 12 +\n",
    "    (df[\"migration_month\"].dt.month - df[\"migration_month\"].dt.month.min())\n",
    ")\n",
    "\n",
    "# Check unique flow mappings and time indexing\n",
    "flow_map = df[[\"flow_id\", \"flow_index\"]].drop_duplicates().reset_index(drop=True)\n",
    "time_range = df[\"migration_month\"].min(), df[\"migration_month\"].max()\n",
    "df"
   ]
  },
  {
   "cell_type": "code",
   "execution_count": null,
   "id": "4f09c064-de82-48cd-82e4-dededf00ad58",
   "metadata": {
    "scrolled": true
   },
   "outputs": [],
   "source": [
    "# Your data:\n",
    "flow_idx = df[\"flow_index\"].values\n",
    "time_idx = df[\"time_index\"].values\n",
    "y = df[\"num_migrants\"].values\n",
    "num_flows = df[\"flow_index\"].nunique()\n",
    "num_times = df[\"time_index\"].nunique()\n",
    "\n",
    "with pm.Model() as model:\n",
    "    mu = pm.Normal(\"mu\", mu=0, sigma=5)\n",
    "    sigma_flow = pm.HalfNormal(\"sigma_flow\", sigma=2)\n",
    "    alpha = pm.Normal(\"alpha\", mu=0, sigma=sigma_flow, shape=num_flows)\n",
    "    sigma_time = pm.HalfNormal(\"sigma_time\", sigma=2)\n",
    "    beta = pm.Normal(\"beta\", mu=0, sigma=sigma_time, shape=num_times)\n",
    "    \n",
    "    log_lambda = mu + alpha[flow_idx] + beta[time_idx]\n",
    "    lambda_ = pm.math.exp(log_lambda)\n",
    "    \n",
    "    y_obs = pm.Poisson(\"y_obs\", mu=lambda_, observed=y)\n",
    "\n",
    "    trace = pm.sample(2000, tune=2000, target_accept=0.99, \n",
    "                      init='jitter+adapt_diag', chains=4, cores=4, max_treedepth=15, return_inferencedata=True)\n",
    "    \n",
    "    # trace = pm.sample(500, tune=500, chains=2, cores=2, target_accept=0.9)  # for simple test\n"
   ]
  },
  {
   "cell_type": "markdown",
   "id": "f011771f-612a-499d-ad2a-89c3c4d15dd7",
   "metadata": {},
   "source": [
    "| Term            | Meaning                                                                    |\n",
    "| --------------- | -------------------------------------------------------------------------- |\n",
    "| **mean**        | Posterior mean (best guess based on all chains)                            |\n",
    "| **sd**          | Posterior standard deviation (uncertainty)                                 |\n",
    "| **hdi\\_3%-97%** | 94% credible interval (Bayesian version of confidence interval)            |\n",
    "| **r\\_hat**      | Should be \\~1.00. Values >1.1 → **non-converged** (⚠️ yours are too high)  |\n",
    "| **ess\\_bulk**   | Effective sample size. You want this to be **much higher** (like >200)     |\n",
    "| **trace plots** | Chain mixing over time — your `mu` and `sigma_*` are **not well-mixed** 😕 |\n"
   ]
  },
  {
   "cell_type": "code",
   "execution_count": null,
   "id": "d76ca662-1e08-4cf7-9b50-c1ca059eaaf5",
   "metadata": {
    "scrolled": true
   },
   "outputs": [],
   "source": [
    "az.plot_trace(trace, var_names=[\"mu\", \"sigma_flow\", \"sigma_time\"])\n",
    "az.summary(trace, var_names=[\"mu\", \"sigma_flow\", \"sigma_time\"])"
   ]
  },
  {
   "cell_type": "code",
   "execution_count": null,
   "id": "ed627830-740f-43ce-8db7-ec88452f62c4",
   "metadata": {},
   "outputs": [],
   "source": [
    "# import numpy as np\n",
    "# import arviz as az\n",
    "\n",
    "# Extract posterior samples from trace\n",
    "mu_samples = trace.posterior[\"mu\"].values.flatten()\n",
    "alpha_samples = trace.posterior[\"alpha\"].values[:, :, 28].flatten()  # flow_index = 36 UK; 28 PL\n",
    "beta_samples = trace.posterior[\"beta\"].values[:, :, 38].flatten()    # time_index = 41\n",
    "\n",
    "# Compute log-lambda samples\n",
    "log_lambda_samples = mu_samples + alpha_samples + beta_samples\n",
    "\n",
    "# Convert to rate (expected migrant count)\n",
    "lambda_samples = np.exp(log_lambda_samples)\n",
    "\n",
    "# Summary statistics\n",
    "mean_prediction = lambda_samples.mean()\n",
    "median_prediction = np.median(lambda_samples)\n",
    "hdi_interval = az.hdi(lambda_samples, hdi_prob=0.94)\n",
    "\n",
    "print(f\"Estimated migrants from UA to UK in 2022-04:\")\n",
    "print(f\"  Posterior mean: {mean_prediction:.2f}\")\n",
    "print(f\"  Posterior median: {median_prediction:.2f}\")\n",
    "print(f\"  94% credible interval: {hdi_interval[0]:.2f} to {hdi_interval[1]:.2f}\")\n"
   ]
  },
  {
   "cell_type": "code",
   "execution_count": null,
   "id": "13255d66-219f-4102-ba67-8e6b8cc729c4",
   "metadata": {
    "scrolled": true
   },
   "outputs": [],
   "source": [
    "# df[(df['country_from'] == 'UA') & (df['country_to'] == 'PL')]\n",
    "# df[(df['country_from'] == 'UA') & (df['country_to'] == 'UK')]\n",
    "df[(df['flow_index'] == 28) & (df['time_index'] == 38)]"
   ]
  },
  {
   "cell_type": "code",
   "execution_count": null,
   "id": "bdeec795-42d8-457b-b82c-7d560d4dfeb8",
   "metadata": {},
   "outputs": [],
   "source": []
  }
 ],
 "metadata": {
  "kernelspec": {
   "display_name": "Python 3 (ipykernel)",
   "language": "python",
   "name": "python3"
  },
  "language_info": {
   "codemirror_mode": {
    "name": "ipython",
    "version": 3
   },
   "file_extension": ".py",
   "mimetype": "text/x-python",
   "name": "python",
   "nbconvert_exporter": "python",
   "pygments_lexer": "ipython3",
   "version": "3.10.17"
  }
 },
 "nbformat": 4,
 "nbformat_minor": 5
}
