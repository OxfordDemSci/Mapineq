{
 "cells": [
  {
   "cell_type": "markdown",
   "id": "75fe9a88-a7c2-4329-8c23-dfdc42953ac2",
   "metadata": {},
   "source": [
    "# international_migration Network Analysis"
   ]
  },
  {
   "cell_type": "markdown",
   "id": "61a44b9a-68ab-4978-8cf3-900f84092f78",
   "metadata": {},
   "source": [
    "This note works with international migration with unemployment  \n",
    "\n",
    "Meta Migration Data: https://data.humdata.org/dataset/international-migration-flows)    \n",
    "\n",
    "Special countries: BA, UA, XK, UK/GB, EL/GR "
   ]
  },
  {
   "cell_type": "code",
   "execution_count": 1,
   "id": "0581cb57-f366-4b06-8729-42bf79ebf4ab",
   "metadata": {},
   "outputs": [],
   "source": [
    "import os\n",
    "import gc\n",
    "import rasterio\n",
    "import numpy as np\n",
    "import pandas as pd\n",
    "import networkx as nx\n",
    "from tqdm import tqdm\n",
    "import seaborn as sns\n",
    "import geopandas as gpd\n",
    "from pathlib import Path\n",
    "from osgeo import gdal, osr\n",
    "import dask_geopandas as dgpd\n",
    "import matplotlib.pyplot as plt\n",
    "from rasterstats import zonal_stats\n",
    "from scipy.stats import linregress\n",
    "from pyvis.network import Network\n",
    "\n",
    "BASE_DIR = Path('/Users/wenlanzhang/PycharmProjects/Mapineq/src/data-wrangling/')\n",
    "DATA_DIR = Path('/Users/wenlanzhang/Downloads/PhD_UCL/Data/Oxford')"
   ]
  },
  {
   "cell_type": "markdown",
   "id": "ecceb69a-1d48-4dd3-9c18-701fcde97e4a",
   "metadata": {},
   "source": [
    "# Load & Clean Migration Data"
   ]
  },
  {
   "cell_type": "code",
   "execution_count": 2,
   "id": "c307998c-b883-4985-822f-2c3f2336fe5d",
   "metadata": {
    "scrolled": true
   },
   "outputs": [
    {
     "data": {
      "text/html": [
       "<div>\n",
       "<style scoped>\n",
       "    .dataframe tbody tr th:only-of-type {\n",
       "        vertical-align: middle;\n",
       "    }\n",
       "\n",
       "    .dataframe tbody tr th {\n",
       "        vertical-align: top;\n",
       "    }\n",
       "\n",
       "    .dataframe thead th {\n",
       "        text-align: right;\n",
       "    }\n",
       "</style>\n",
       "<table border=\"1\" class=\"dataframe\">\n",
       "  <thead>\n",
       "    <tr style=\"text-align: right;\">\n",
       "      <th></th>\n",
       "      <th>country_from</th>\n",
       "      <th>country_to</th>\n",
       "      <th>migration_month</th>\n",
       "      <th>num_migrants</th>\n",
       "      <th>year</th>\n",
       "      <th>month</th>\n",
       "    </tr>\n",
       "  </thead>\n",
       "  <tbody>\n",
       "    <tr>\n",
       "      <th>0</th>\n",
       "      <td>AD</td>\n",
       "      <td>AE</td>\n",
       "      <td>2019-01</td>\n",
       "      <td>12</td>\n",
       "      <td>2019</td>\n",
       "      <td>1</td>\n",
       "    </tr>\n",
       "    <tr>\n",
       "      <th>1</th>\n",
       "      <td>AD</td>\n",
       "      <td>AE</td>\n",
       "      <td>2019-02</td>\n",
       "      <td>2</td>\n",
       "      <td>2019</td>\n",
       "      <td>2</td>\n",
       "    </tr>\n",
       "    <tr>\n",
       "      <th>2</th>\n",
       "      <td>AD</td>\n",
       "      <td>AE</td>\n",
       "      <td>2019-03</td>\n",
       "      <td>1</td>\n",
       "      <td>2019</td>\n",
       "      <td>3</td>\n",
       "    </tr>\n",
       "    <tr>\n",
       "      <th>3</th>\n",
       "      <td>AD</td>\n",
       "      <td>AE</td>\n",
       "      <td>2019-04</td>\n",
       "      <td>7</td>\n",
       "      <td>2019</td>\n",
       "      <td>4</td>\n",
       "    </tr>\n",
       "    <tr>\n",
       "      <th>4</th>\n",
       "      <td>AD</td>\n",
       "      <td>AE</td>\n",
       "      <td>2019-05</td>\n",
       "      <td>0</td>\n",
       "      <td>2019</td>\n",
       "      <td>5</td>\n",
       "    </tr>\n",
       "    <tr>\n",
       "      <th>...</th>\n",
       "      <td>...</td>\n",
       "      <td>...</td>\n",
       "      <td>...</td>\n",
       "      <td>...</td>\n",
       "      <td>...</td>\n",
       "      <td>...</td>\n",
       "    </tr>\n",
       "    <tr>\n",
       "      <th>1563149</th>\n",
       "      <td>ZW</td>\n",
       "      <td>ZM</td>\n",
       "      <td>2022-08</td>\n",
       "      <td>138</td>\n",
       "      <td>2022</td>\n",
       "      <td>8</td>\n",
       "    </tr>\n",
       "    <tr>\n",
       "      <th>1563150</th>\n",
       "      <td>ZW</td>\n",
       "      <td>ZM</td>\n",
       "      <td>2022-09</td>\n",
       "      <td>162</td>\n",
       "      <td>2022</td>\n",
       "      <td>9</td>\n",
       "    </tr>\n",
       "    <tr>\n",
       "      <th>1563151</th>\n",
       "      <td>ZW</td>\n",
       "      <td>ZM</td>\n",
       "      <td>2022-10</td>\n",
       "      <td>149</td>\n",
       "      <td>2022</td>\n",
       "      <td>10</td>\n",
       "    </tr>\n",
       "    <tr>\n",
       "      <th>1563152</th>\n",
       "      <td>ZW</td>\n",
       "      <td>ZM</td>\n",
       "      <td>2022-11</td>\n",
       "      <td>104</td>\n",
       "      <td>2022</td>\n",
       "      <td>11</td>\n",
       "    </tr>\n",
       "    <tr>\n",
       "      <th>1563153</th>\n",
       "      <td>ZW</td>\n",
       "      <td>ZM</td>\n",
       "      <td>2022-12</td>\n",
       "      <td>99</td>\n",
       "      <td>2022</td>\n",
       "      <td>12</td>\n",
       "    </tr>\n",
       "  </tbody>\n",
       "</table>\n",
       "<p>1563154 rows × 6 columns</p>\n",
       "</div>"
      ],
      "text/plain": [
       "        country_from country_to migration_month  num_migrants  year  month\n",
       "0                 AD         AE         2019-01            12  2019      1\n",
       "1                 AD         AE         2019-02             2  2019      2\n",
       "2                 AD         AE         2019-03             1  2019      3\n",
       "3                 AD         AE         2019-04             7  2019      4\n",
       "4                 AD         AE         2019-05             0  2019      5\n",
       "...              ...        ...             ...           ...   ...    ...\n",
       "1563149           ZW         ZM         2022-08           138  2022      8\n",
       "1563150           ZW         ZM         2022-09           162  2022      9\n",
       "1563151           ZW         ZM         2022-10           149  2022     10\n",
       "1563152           ZW         ZM         2022-11           104  2022     11\n",
       "1563153           ZW         ZM         2022-12            99  2022     12\n",
       "\n",
       "[1563154 rows x 6 columns]"
      ]
     },
     "execution_count": 2,
     "metadata": {},
     "output_type": "execute_result"
    }
   ],
   "source": [
    "# Step 1: Load international migration data\n",
    "def load_international_migration(filepath):\n",
    "    df = pd.read_csv(filepath)\n",
    "    df['year'] = pd.to_datetime(df['migration_month']).dt.year\n",
    "    df['month'] = pd.to_datetime(df['migration_month']).dt.month\n",
    "\n",
    "    # Country code mapping\n",
    "    # country_code_mapping = {'GR': 'EL', 'GB': 'UK'}\n",
    "    # df['country_from'] = df['country_from'].replace(country_code_mapping)\n",
    "    # df['country_to'] = df['country_to'].replace(country_code_mapping)\n",
    "    \n",
    "    return df\n",
    "\n",
    "migration_df = load_international_migration(DATA_DIR / \"Migration/international_migration_flow.csv\")\n",
    "migration_df"
   ]
  },
  {
   "cell_type": "code",
   "execution_count": 3,
   "id": "7ee2330d-78be-4f68-b266-f28465297b59",
   "metadata": {
    "scrolled": true
   },
   "outputs": [
    {
     "name": "stdout",
     "output_type": "stream",
     "text": [
      "\n",
      "Missing values per column (before cleaning):\n",
      "country_from       8640\n",
      "country_to         8640\n",
      "migration_month       0\n",
      "num_migrants          0\n",
      "year                  0\n",
      "month                 0\n",
      "dtype: int64\n"
     ]
    }
   ],
   "source": [
    "# Check for missing values\n",
    "print(\"\\nMissing values per column (before cleaning):\")\n",
    "print(migration_df.isnull().sum())"
   ]
  },
  {
   "cell_type": "code",
   "execution_count": 4,
   "id": "1a70f61d-9387-4b73-a5fc-3abbef7c2980",
   "metadata": {
    "scrolled": true
   },
   "outputs": [
    {
     "name": "stdout",
     "output_type": "stream",
     "text": [
      "\n",
      "Number of rows after cleaning: 939922\n",
      "Cleaned data preview:\n"
     ]
    },
    {
     "data": {
      "text/html": [
       "<div>\n",
       "<style scoped>\n",
       "    .dataframe tbody tr th:only-of-type {\n",
       "        vertical-align: middle;\n",
       "    }\n",
       "\n",
       "    .dataframe tbody tr th {\n",
       "        vertical-align: top;\n",
       "    }\n",
       "\n",
       "    .dataframe thead th {\n",
       "        text-align: right;\n",
       "    }\n",
       "</style>\n",
       "<table border=\"1\" class=\"dataframe\">\n",
       "  <thead>\n",
       "    <tr style=\"text-align: right;\">\n",
       "      <th></th>\n",
       "      <th>country_from</th>\n",
       "      <th>country_to</th>\n",
       "      <th>migration_month</th>\n",
       "      <th>num_migrants</th>\n",
       "      <th>year</th>\n",
       "      <th>month</th>\n",
       "    </tr>\n",
       "  </thead>\n",
       "  <tbody>\n",
       "    <tr>\n",
       "      <th>0</th>\n",
       "      <td>AD</td>\n",
       "      <td>AE</td>\n",
       "      <td>2019-01</td>\n",
       "      <td>12</td>\n",
       "      <td>2019</td>\n",
       "      <td>1</td>\n",
       "    </tr>\n",
       "    <tr>\n",
       "      <th>1</th>\n",
       "      <td>AD</td>\n",
       "      <td>AE</td>\n",
       "      <td>2019-02</td>\n",
       "      <td>2</td>\n",
       "      <td>2019</td>\n",
       "      <td>2</td>\n",
       "    </tr>\n",
       "    <tr>\n",
       "      <th>2</th>\n",
       "      <td>AD</td>\n",
       "      <td>AE</td>\n",
       "      <td>2019-03</td>\n",
       "      <td>1</td>\n",
       "      <td>2019</td>\n",
       "      <td>3</td>\n",
       "    </tr>\n",
       "    <tr>\n",
       "      <th>3</th>\n",
       "      <td>AD</td>\n",
       "      <td>AE</td>\n",
       "      <td>2019-04</td>\n",
       "      <td>7</td>\n",
       "      <td>2019</td>\n",
       "      <td>4</td>\n",
       "    </tr>\n",
       "    <tr>\n",
       "      <th>5</th>\n",
       "      <td>AD</td>\n",
       "      <td>AE</td>\n",
       "      <td>2019-06</td>\n",
       "      <td>14</td>\n",
       "      <td>2019</td>\n",
       "      <td>6</td>\n",
       "    </tr>\n",
       "  </tbody>\n",
       "</table>\n",
       "</div>"
      ],
      "text/plain": [
       "  country_from country_to migration_month  num_migrants  year  month\n",
       "0           AD         AE         2019-01            12  2019      1\n",
       "1           AD         AE         2019-02             2  2019      2\n",
       "2           AD         AE         2019-03             1  2019      3\n",
       "3           AD         AE         2019-04             7  2019      4\n",
       "5           AD         AE         2019-06            14  2019      6"
      ]
     },
     "metadata": {},
     "output_type": "display_data"
    }
   ],
   "source": [
    "migration_df_cleaned = migration_df.dropna()  # drop missing data\n",
    "migration_df_cleaned = migration_df_cleaned[migration_df_cleaned['num_migrants'] > 0]  # filter num_migrants > 0\n",
    "\n",
    "# Result preview after cleaning\n",
    "print(f\"\\nNumber of rows after cleaning: {len(migration_df_cleaned)}\")\n",
    "print(\"Cleaned data preview:\")\n",
    "display(migration_df_cleaned.head())\n",
    "\n",
    "# # Final missing value check\n",
    "# print(\"\\nMissing values per column (after cleaning):\")\n",
    "# print(migration_df_cleaned.isnull().sum())"
   ]
  },
  {
   "cell_type": "markdown",
   "id": "23acd7ca-f05b-482e-9ce6-49f9d2a63703",
   "metadata": {},
   "source": [
    "# Basic Flow Statistics"
   ]
  },
  {
   "cell_type": "code",
   "execution_count": 5,
   "id": "b62e3f9f-b0dc-425a-9065-9c6501905ab8",
   "metadata": {},
   "outputs": [
    {
     "name": "stdout",
     "output_type": "stream",
     "text": [
      "Migration flow statistics:\n",
      "count    939922.000000\n",
      "mean        126.291461\n",
      "std        1155.268020\n",
      "min           1.000000\n",
      "25%           4.000000\n",
      "50%           9.000000\n",
      "75%          24.000000\n",
      "max      163937.000000\n",
      "Name: num_migrants, dtype: float64\n",
      "\n",
      "Number of unique origin countries: 180\n",
      "Number of unique destination countries: 180\n"
     ]
    }
   ],
   "source": [
    "# Summary statistics of migration flows\n",
    "print(\"Migration flow statistics:\")\n",
    "print(migration_df_cleaned['num_migrants'].describe())\n",
    "\n",
    "# Number of unique countries\n",
    "num_origin_countries = migration_df_cleaned['country_from'].nunique()\n",
    "num_destination_countries = migration_df_cleaned['country_to'].nunique()\n",
    "\n",
    "print(f\"\\nNumber of unique origin countries: {num_origin_countries}\")\n",
    "print(f\"Number of unique destination countries: {num_destination_countries}\")"
   ]
  },
  {
   "cell_type": "markdown",
   "id": "dda68a12-5ec3-406a-bcf6-f6affdde0dae",
   "metadata": {},
   "source": [
    "# Full Migration Network (Static Network)"
   ]
  },
  {
   "cell_type": "markdown",
   "id": "b6dff8b2-3fc8-46e6-b14e-b68d68b4da8d",
   "metadata": {},
   "source": [
    "- High density (~1), high reciprocity (1), means your data records nearly all possible migration relations.\n",
    "- Some countries (US, IN, SA, AE) clearly dominate in inflow and outflow.\n",
    "- Interesting that some small countries (FM, BN, VC) have high betweenness centrality — suggesting \"bridging\" roles."
   ]
  },
  {
   "cell_type": "markdown",
   "id": "9232c527-db38-483e-bb96-2d6d93865ea2",
   "metadata": {},
   "source": [
    "## Build full graph and basic stats"
   ]
  },
  {
   "cell_type": "code",
   "execution_count": 6,
   "id": "2cb7a48d-09e5-4847-958c-110a3f30a951",
   "metadata": {
    "scrolled": true
   },
   "outputs": [
    {
     "name": "stdout",
     "output_type": "stream",
     "text": [
      "\n",
      "Full Network Statistics:\n",
      "Number of nodes: 180\n",
      "Number of edges: 32208\n",
      "Network density: 0.9996\n",
      "Network reciprocity: 1.0000\n",
      "Flow range: min=40, max=2266749\n"
     ]
    }
   ],
   "source": [
    "# Aggregate total number of migrants per country pair\n",
    "df_agg = migration_df_cleaned.groupby(['country_from', 'country_to'])['num_migrants'].sum().reset_index()\n",
    "\n",
    "# Build full directed graph\n",
    "G = nx.DiGraph()\n",
    "for idx, row in df_agg.iterrows():\n",
    "    G.add_edge(row['country_from'], row['country_to'], weight=row['num_migrants'])\n",
    "\n",
    "# Basic graph stats\n",
    "print(f\"\\nFull Network Statistics:\")\n",
    "print(f\"Number of nodes: {G.number_of_nodes()}\")\n",
    "print(f\"Number of edges: {G.number_of_edges()}\")\n",
    "\n",
    "# Network density\n",
    "density = nx.density(G)\n",
    "print(f\"Network density: {density:.4f}\")\n",
    "\n",
    "# Reciprocity\n",
    "reciprocity = nx.overall_reciprocity(G)\n",
    "print(f\"Network reciprocity: {reciprocity:.4f}\")\n",
    "\n",
    "# Flow range\n",
    "print(f\"Flow range: min={df_agg['num_migrants'].min()}, max={df_agg['num_migrants'].max()}\")"
   ]
  },
  {
   "cell_type": "markdown",
   "id": "66e9b8ad-bb2d-49f8-8e7f-ba0264cdfb67",
   "metadata": {},
   "source": [
    "## Degree and Strength"
   ]
  },
  {
   "cell_type": "code",
   "execution_count": 7,
   "id": "1517009d-fd2c-4751-95ed-ba2e41301237",
   "metadata": {
    "scrolled": true
   },
   "outputs": [
    {
     "name": "stdout",
     "output_type": "stream",
     "text": [
      "\n",
      "Average in-degree: 178.93\n",
      "Average out-degree: 178.93\n",
      "\n",
      "Top 5 countries by migration inflow:\n",
      "US: 10248130\n",
      "SA: 6445863\n",
      "IN: 6254349\n",
      "AE: 5187573\n",
      "GB: 3694022\n",
      "\n",
      "Top 5 countries by migration outflow:\n",
      "IN: 8916761\n",
      "SA: 7295844\n",
      "US: 3869882\n",
      "VE: 3791224\n",
      "PH: 3321684\n"
     ]
    }
   ],
   "source": [
    "# Degree\n",
    "in_degree = dict(G.in_degree())\n",
    "out_degree = dict(G.out_degree())\n",
    "\n",
    "print(f\"\\nAverage in-degree: {sum(in_degree.values()) / len(in_degree):.2f}\")\n",
    "print(f\"Average out-degree: {sum(out_degree.values()) / len(out_degree):.2f}\")\n",
    "\n",
    "# Strength\n",
    "in_strength = dict(G.in_degree(weight='weight'))\n",
    "out_strength = dict(G.out_degree(weight='weight'))\n",
    "\n",
    "# Top 5 by inflow\n",
    "print(f\"\\nTop 5 countries by migration inflow:\")\n",
    "for country, strength in sorted(in_strength.items(), key=lambda x: x[1], reverse=True)[:5]:\n",
    "    print(f\"{country}: {strength}\")\n",
    "\n",
    "# Top 5 by outflow\n",
    "print(f\"\\nTop 5 countries by migration outflow:\")\n",
    "for country, strength in sorted(out_strength.items(), key=lambda x: x[1], reverse=True)[:5]:\n",
    "    print(f\"{country}: {strength}\")\n"
   ]
  },
  {
   "cell_type": "markdown",
   "id": "4d3ea837-a302-4341-a67e-f59638fbbcc3",
   "metadata": {},
   "source": [
    "## Centrality Measures"
   ]
  },
  {
   "cell_type": "code",
   "execution_count": 8,
   "id": "744d5bf5-9afa-45ef-a4e7-07b223d89ea2",
   "metadata": {
    "scrolled": true
   },
   "outputs": [
    {
     "name": "stdout",
     "output_type": "stream",
     "text": [
      "\n",
      "Top 5 countries by betweenness centrality:\n",
      "FM: 0.0327\n",
      "BN: 0.0247\n",
      "VC: 0.0244\n",
      "ST: 0.0181\n",
      "BZ: 0.0160\n"
     ]
    }
   ],
   "source": [
    "# Betweenness centrality\n",
    "bet_centrality = nx.betweenness_centrality(G, weight='weight', normalized=True)\n",
    "\n",
    "# Eigenvector centrality\n",
    "eigen_centrality = nx.eigenvector_centrality_numpy(G, weight='weight')\n",
    "\n",
    "# Top 5 by betweenness\n",
    "top_betweenness = sorted(bet_centrality.items(), key=lambda x: x[1], reverse=True)[:5]\n",
    "print(f\"\\nTop 5 countries by betweenness centrality:\")\n",
    "for country, centrality in top_betweenness:\n",
    "    print(f\"{country}: {centrality:.4f}\")"
   ]
  },
  {
   "cell_type": "markdown",
   "id": "1e1dd539-157c-4fba-a3b1-6815cdfd21f5",
   "metadata": {},
   "source": [
    "### PageRank (importance in terms of flow passing through)"
   ]
  },
  {
   "cell_type": "code",
   "execution_count": 9,
   "id": "594939ae-5f4b-4507-817d-03403edf7ae0",
   "metadata": {},
   "outputs": [
    {
     "name": "stdout",
     "output_type": "stream",
     "text": [
      "Top 5 countries by PageRank: [('US', 0.06551843799150323), ('IN', 0.039828844069561574), ('GB', 0.03465947903440195), ('DE', 0.03075938063701663), ('SA', 0.030039197758895304)]\n"
     ]
    }
   ],
   "source": [
    "pagerank = nx.pagerank(G, weight='weight')\n",
    "top_pagerank = sorted(pagerank.items(), key=lambda x: x[1], reverse=True)[:5]\n",
    "print(\"Top 5 countries by PageRank:\", top_pagerank)\n"
   ]
  },
  {
   "cell_type": "markdown",
   "id": "97e93b4d-bd32-4c33-a910-f43054540807",
   "metadata": {},
   "source": [
    "### Closeness Centrality (how close a node is to all others)"
   ]
  },
  {
   "cell_type": "code",
   "execution_count": 10,
   "id": "7b79f00e-0edc-4c66-9c8f-ad22a262b20c",
   "metadata": {},
   "outputs": [
    {
     "name": "stdout",
     "output_type": "stream",
     "text": [
      "Top 5 countries by closeness centrality: [('FM', 0.0077368603042876904), ('WS', 0.007572552669430578), ('LC', 0.007503038940352936), ('VU', 0.007425229186543328), ('TO', 0.0074080205272524105)]\n"
     ]
    }
   ],
   "source": [
    "closeness = nx.closeness_centrality(G, distance='weight')\n",
    "top_closeness = sorted(closeness.items(), key=lambda x: x[1], reverse=True)[:5]\n",
    "print(\"Top 5 countries by closeness centrality:\", top_closeness)\n"
   ]
  },
  {
   "cell_type": "markdown",
   "id": "a0129ecd-a907-45b3-bd41-13137c3f8503",
   "metadata": {},
   "source": [
    "### Katz Centrality\n",
    "(for strongly connected graphs with high density, Katz centrality can highlight influence propagation)"
   ]
  },
  {
   "cell_type": "code",
   "execution_count": 11,
   "id": "afc9dd5b-2890-445b-9682-3eeed441b2e0",
   "metadata": {},
   "outputs": [
    {
     "name": "stdout",
     "output_type": "stream",
     "text": [
      "Top 5 countries by Katz centrality: [('VC', 0.2717081946107067), ('ST', 0.2641578168051126), ('DJ', 0.24426649294956532), ('LC', 0.23443881059180458), ('SZ', 0.20663748484196998)]\n"
     ]
    }
   ],
   "source": [
    "katz_centrality = nx.katz_centrality_numpy(G, weight='weight')\n",
    "top_katz = sorted(katz_centrality.items(), key=lambda x: x[1], reverse=True)[:5]\n",
    "print(\"Top 5 countries by Katz centrality:\", top_katz)\n"
   ]
  },
  {
   "cell_type": "markdown",
   "id": "8f044299-f7fa-4dd9-8483-a77d2b8eb369",
   "metadata": {},
   "source": [
    "## Community Detection\n",
    "In this section, we detect communities in the migration network.  \n",
    "This can reveal clusters of countries with higher migration flow between them.\n",
    "We use the Louvain algorithm, which optimizes modularity to find good community partitions."
   ]
  },
  {
   "cell_type": "code",
   "execution_count": 12,
   "id": "af451376-1fbb-49c7-88a8-b175899e4fca",
   "metadata": {},
   "outputs": [
    {
     "ename": "AttributeError",
     "evalue": "module 'community' has no attribute 'best_partition'",
     "output_type": "error",
     "traceback": [
      "\u001b[0;31m---------------------------------------------------------------------------\u001b[0m",
      "\u001b[0;31mAttributeError\u001b[0m                            Traceback (most recent call last)",
      "Cell \u001b[0;32mIn[12], line 7\u001b[0m\n\u001b[1;32m      4\u001b[0m \u001b[38;5;66;03m# Run Louvain community detection\u001b[39;00m\n\u001b[1;32m      5\u001b[0m \u001b[38;5;28;01mimport\u001b[39;00m\u001b[38;5;250m \u001b[39m\u001b[38;5;21;01mcommunity\u001b[39;00m\u001b[38;5;250m \u001b[39m\u001b[38;5;28;01mas\u001b[39;00m\u001b[38;5;250m \u001b[39m\u001b[38;5;21;01mcommunity_louvain\u001b[39;00m\n\u001b[0;32m----> 7\u001b[0m partition \u001b[38;5;241m=\u001b[39m \u001b[43mcommunity_louvain\u001b[49m\u001b[38;5;241;43m.\u001b[39;49m\u001b[43mbest_partition\u001b[49m(G_undirected, weight\u001b[38;5;241m=\u001b[39m\u001b[38;5;124m'\u001b[39m\u001b[38;5;124mweight\u001b[39m\u001b[38;5;124m'\u001b[39m)\n\u001b[1;32m      9\u001b[0m \u001b[38;5;66;03m# Number of communities\u001b[39;00m\n\u001b[1;32m     10\u001b[0m num_communities \u001b[38;5;241m=\u001b[39m \u001b[38;5;28mlen\u001b[39m(\u001b[38;5;28mset\u001b[39m(partition\u001b[38;5;241m.\u001b[39mvalues()))\n",
      "\u001b[0;31mAttributeError\u001b[0m: module 'community' has no attribute 'best_partition'"
     ]
    }
   ],
   "source": [
    "# Convert to undirected graph for Louvain (works better this way)\n",
    "G_undirected = G.to_undirected()\n",
    "\n",
    "# Run Louvain community detection\n",
    "import community as community_louvain\n",
    "\n",
    "partition = community_louvain.best_partition(G_undirected, weight='weight')\n",
    "\n",
    "# Number of communities\n",
    "num_communities = len(set(partition.values()))\n",
    "print(f\"Number of communities detected: {num_communities}\")\n",
    "\n",
    "# Size of each community\n",
    "from collections import Counter\n",
    "community_sizes = Counter(partition.values())\n",
    "print(\"Community sizes:\", community_sizes)\n",
    "\n",
    "# Example: list countries in largest community\n",
    "largest_community_id = community_sizes.most_common(1)[0][0]\n",
    "largest_community_countries = [country for country, comm in partition.items() if comm == largest_community_id]\n",
    "\n",
    "print(f\"Countries in largest community ({len(largest_community_countries)} countries):\")\n",
    "print(largest_community_countries)\n"
   ]
  },
  {
   "cell_type": "markdown",
   "id": "374e8db9-d6e0-4f6e-9aac-ef2b5bb4be86",
   "metadata": {},
   "source": [
    "## Flow Imbalance Analysis\n",
    "In this section, we compute **net migration flow** for each country:  \n",
    "**Net flow = inflow - outflow**  \n",
    "Countries with high net inflow are migration \"magnets\", while high net outflow countries are \"sources\" of migrants."
   ]
  },
  {
   "cell_type": "code",
   "execution_count": null,
   "id": "6d271f8b-87a3-449f-bd1d-4ed240540d84",
   "metadata": {},
   "outputs": [],
   "source": [
    "# Compute net flow: inflow - outflow\n",
    "net_flow = {country: in_strength.get(country, 0) - out_strength.get(country, 0) for country in G.nodes()}\n",
    "\n",
    "# Top net inflow countries\n",
    "top_net_inflow = sorted(net_flow.items(), key=lambda x: x[1], reverse=True)[:5]\n",
    "print(\"Top 5 net inflow countries:\")\n",
    "for country, value in top_net_inflow:\n",
    "    print(f\"{country}: {value}\")\n",
    "\n",
    "# Top net outflow countries\n",
    "top_net_outflow = sorted(net_flow.items(), key=lambda x: x[1], reverse=False)[:5]\n",
    "print(\"\\nTop 5 net outflow countries:\")\n",
    "for country, value in top_net_outflow:\n",
    "    print(f\"{country}: {value}\")"
   ]
  },
  {
   "cell_type": "markdown",
   "id": "f9155a93-964d-49d0-803e-168b666145de",
   "metadata": {},
   "source": [
    "## Temporal Network Dynamics\n",
    "### Nodes and Edges per Yea"
   ]
  },
  {
   "cell_type": "code",
   "execution_count": null,
   "id": "4aa2b518-fb36-41f0-87ae-61a96ec53a03",
   "metadata": {
    "scrolled": true
   },
   "outputs": [],
   "source": [
    "# Analyze network per year\n",
    "for year in migration_df_cleaned['year'].unique():\n",
    "    df_year = migration_df_cleaned[migration_df_cleaned['year'] == year]\n",
    "    df_agg_year = df_year.groupby(['country_from', 'country_to'])['num_migrants'].sum().reset_index()\n",
    "\n",
    "    G_year = nx.DiGraph()\n",
    "    for idx, row in df_agg_year.iterrows():\n",
    "        G_year.add_edge(row['country_from'], row['country_to'], weight=row['num_migrants'])\n",
    "\n",
    "    print(f\"\\nYear {year} Statistics:\")\n",
    "    print(f\"Number of nodes: {G_year.number_of_nodes()}\")\n",
    "    print(f\"Number of edges: {G_year.number_of_edges()}\")"
   ]
  },
  {
   "cell_type": "markdown",
   "id": "651eb9c1-dec8-4446-9250-e57a3c88b1c2",
   "metadata": {},
   "source": [
    "### Density per Year\n",
    "We compute network density for each year to see if connectivity changes over time."
   ]
  },
  {
   "cell_type": "code",
   "execution_count": 13,
   "id": "2db62bf1-0f76-49a2-a5da-488e9dfac642",
   "metadata": {},
   "outputs": [
    {
     "name": "stdout",
     "output_type": "stream",
     "text": [
      "Year 2019: density = 0.9993\n",
      "Year 2020: density = 0.9995\n",
      "Year 2021: density = 0.9988\n",
      "Year 2022: density = 0.9992\n"
     ]
    }
   ],
   "source": [
    "for year in sorted(migration_df_cleaned['year'].unique()):\n",
    "    df_year = migration_df_cleaned[migration_df_cleaned['year'] == year]\n",
    "    df_agg_year = df_year.groupby(['country_from', 'country_to'])['num_migrants'].sum().reset_index()\n",
    "    \n",
    "    G_year = nx.DiGraph()\n",
    "    for idx, row in df_agg_year.iterrows():\n",
    "        G_year.add_edge(row['country_from'], row['country_to'], weight=row['num_migrants'])\n",
    "    \n",
    "    density_year = nx.density(G_year)\n",
    "    print(f\"Year {year}: density = {density_year:.4f}\")\n"
   ]
  },
  {
   "cell_type": "markdown",
   "id": "fd9bc0ae-025e-4e1e-9da1-ba28d414b64e",
   "metadata": {},
   "source": [
    "### Top Inflow/Outflow per Year\n",
    "We compute the top 5 countries by migration inflow and outflow for each year."
   ]
  },
  {
   "cell_type": "code",
   "execution_count": 14,
   "id": "55c3d275-9f4c-4730-aafa-b8298bcc330f",
   "metadata": {
    "scrolled": true
   },
   "outputs": [
    {
     "name": "stdout",
     "output_type": "stream",
     "text": [
      "\n",
      "Year 2019 - Top 5 Inflow Countries:\n",
      "US: 2283443\n",
      "SA: 1599334\n",
      "IN: 1544724\n",
      "AE: 1248096\n",
      "CO: 991173\n",
      "\n",
      "Year 2019 - Top 5 Outflow Countries:\n",
      "IN: 2520488\n",
      "SA: 2032124\n",
      "VE: 1701418\n",
      "US: 1242349\n",
      "PH: 1113302\n",
      "\n",
      "Year 2020 - Top 5 Inflow Countries:\n",
      "IN: 1654002\n",
      "US: 1263920\n",
      "SA: 840582\n",
      "PH: 752719\n",
      "GB: 657852\n",
      "\n",
      "Year 2020 - Top 5 Outflow Countries:\n",
      "SA: 1666458\n",
      "IN: 1329305\n",
      "US: 980398\n",
      "MY: 832512\n",
      "AE: 803513\n",
      "\n",
      "Year 2021 - Top 5 Inflow Countries:\n",
      "US: 2591779\n",
      "IN: 1683903\n",
      "SA: 1207846\n",
      "AE: 1144569\n",
      "GB: 845050\n",
      "\n",
      "Year 2021 - Top 5 Outflow Countries:\n",
      "SA: 1882098\n",
      "IN: 1638009\n",
      "VE: 809954\n",
      "US: 806117\n",
      "AE: 749804\n",
      "\n",
      "Year 2022 - Top 5 Inflow Countries:\n",
      "US: 4108988\n",
      "SA: 2798101\n",
      "AE: 2151213\n",
      "IN: 1371720\n",
      "DE: 1345548\n",
      "\n",
      "Year 2022 - Top 5 Outflow Countries:\n",
      "IN: 3428959\n",
      "UA: 2402143\n",
      "SA: 1715164\n",
      "PK: 1413776\n",
      "BD: 1391282\n"
     ]
    }
   ],
   "source": [
    "for year in sorted(migration_df_cleaned['year'].unique()):\n",
    "    df_year = migration_df_cleaned[migration_df_cleaned['year'] == year]\n",
    "    df_agg_year = df_year.groupby(['country_from', 'country_to'])['num_migrants'].sum().reset_index()\n",
    "    \n",
    "    G_year = nx.DiGraph()\n",
    "    for idx, row in df_agg_year.iterrows():\n",
    "        G_year.add_edge(row['country_from'], row['country_to'], weight=row['num_migrants'])\n",
    "    \n",
    "    in_strength_year = dict(G_year.in_degree(weight='weight'))\n",
    "    out_strength_year = dict(G_year.out_degree(weight='weight'))\n",
    "    \n",
    "    top_inflow_year = sorted(in_strength_year.items(), key=lambda x: x[1], reverse=True)[:5]\n",
    "    top_outflow_year = sorted(out_strength_year.items(), key=lambda x: x[1], reverse=True)[:5]\n",
    "    \n",
    "    print(f\"\\nYear {year} - Top 5 Inflow Countries:\")\n",
    "    for country, value in top_inflow_year:\n",
    "        print(f\"{country}: {value}\")\n",
    "    \n",
    "    print(f\"\\nYear {year} - Top 5 Outflow Countries:\")\n",
    "    for country, value in top_outflow_year:\n",
    "        print(f\"{country}: {value}\")\n"
   ]
  },
  {
   "cell_type": "markdown",
   "id": "73bfd8a1-9bec-493d-9386-90d2d29bee47",
   "metadata": {},
   "source": [
    "### Flow imbalance evolution over time (optional)\n",
    "We compute net flow (inflow - outflow) per year.  \n",
    "This shows if a country is becoming more of a migration source or destination over time."
   ]
  },
  {
   "cell_type": "code",
   "execution_count": 15,
   "id": "3aceed2f-a223-4276-8d48-69532702dc1f",
   "metadata": {},
   "outputs": [
    {
     "name": "stdout",
     "output_type": "stream",
     "text": [
      "\n",
      "Net flow over time for UA:\n",
      "2019: -74422\n",
      "2020: 6089\n",
      "2021: -180810\n",
      "2022: -2335585\n"
     ]
    }
   ],
   "source": [
    "# Example: track net flow for one country over time (e.g., US)\n",
    "country_to_track = 'UA'\n",
    "\n",
    "net_flow_over_time = {}\n",
    "\n",
    "for year in sorted(migration_df_cleaned['year'].unique()):\n",
    "    df_year = migration_df_cleaned[migration_df_cleaned['year'] == year]\n",
    "    df_agg_year = df_year.groupby(['country_from', 'country_to'])['num_migrants'].sum().reset_index()\n",
    "    \n",
    "    G_year = nx.DiGraph()\n",
    "    for idx, row in df_agg_year.iterrows():\n",
    "        G_year.add_edge(row['country_from'], row['country_to'], weight=row['num_migrants'])\n",
    "    \n",
    "    in_strength_year = dict(G_year.in_degree(weight='weight'))\n",
    "    out_strength_year = dict(G_year.out_degree(weight='weight'))\n",
    "    \n",
    "    net_flow_year = in_strength_year.get(country_to_track, 0) - out_strength_year.get(country_to_track, 0)\n",
    "    net_flow_over_time[year] = net_flow_year\n",
    "\n",
    "# Print result\n",
    "print(f\"\\nNet flow over time for {country_to_track}:\")\n",
    "for year, value in net_flow_over_time.items():\n",
    "    print(f\"{year}: {value}\")"
   ]
  },
  {
   "cell_type": "markdown",
   "id": "d058de98-e458-44ab-a2f5-45601980d8aa",
   "metadata": {},
   "source": [
    "## Filtered Network for Visualization (Strong Flows)"
   ]
  },
  {
   "cell_type": "code",
   "execution_count": 27,
   "id": "6eb89abe-4bfe-451f-8a8d-f50cd4aefe8f",
   "metadata": {},
   "outputs": [
    {
     "name": "stdout",
     "output_type": "stream",
     "text": [
      "migration_network.html\n"
     ]
    },
    {
     "data": {
      "text/html": [
       "\n",
       "        <iframe\n",
       "            width=\"100%\"\n",
       "            height=\"800px\"\n",
       "            src=\"migration_network.html\"\n",
       "            frameborder=\"0\"\n",
       "            allowfullscreen\n",
       "            \n",
       "        ></iframe>\n",
       "        "
      ],
      "text/plain": [
       "<IPython.lib.display.IFrame at 0x177e88370>"
      ]
     },
     "execution_count": 27,
     "metadata": {},
     "output_type": "execute_result"
    }
   ],
   "source": [
    "# Define threshold for \"strong\" flows\n",
    "threshold = 10000\n",
    "\n",
    "# Filter flows\n",
    "df_agg_filtered = df_agg[df_agg['num_migrants'] >= threshold]\n",
    "\n",
    "# Build filtered graph\n",
    "G_filtered = nx.DiGraph()\n",
    "for idx, row in df_agg_filtered.iterrows():\n",
    "    G_filtered.add_edge(row['country_from'], row['country_to'], weight=row['num_migrants'])\n",
    "\n",
    "# Compute in-strength\n",
    "in_strength_filtered = dict(G_filtered.in_degree(weight='weight'))\n",
    "\n",
    "# PyVis visualization\n",
    "net = Network(height='800px', width='100%', bgcolor='#222222', font_color='white', notebook=True, directed=True, cdn_resources='in_line')\n",
    "net.force_atlas_2based()\n",
    "\n",
    "# Scaling node size\n",
    "if in_strength_filtered:\n",
    "    max_inflow = max(in_strength_filtered.values())\n",
    "else:\n",
    "    max_inflow = 1\n",
    "\n",
    "for node in G_filtered.nodes():\n",
    "    inflow = in_strength_filtered.get(node, 0)\n",
    "    size = 10 + 40 * (inflow / max_inflow)\n",
    "    net.add_node(node, label=node, size=size, title=f\"Inflow: {inflow} migrants\")\n",
    "\n",
    "# Add edges\n",
    "for u, v, data in G_filtered.edges(data=True):\n",
    "    net.add_edge(u, v, value=data['weight'] / 100000, title=f\"{u} → {v}: {data['weight']} migrants\")\n",
    "\n",
    "# Show network\n",
    "net.show(\"migration_network.html\")\n"
   ]
  },
  {
   "cell_type": "code",
   "execution_count": 28,
   "id": "a7a740af-d3e0-4411-a05f-1da432196913",
   "metadata": {
    "scrolled": true
   },
   "outputs": [],
   "source": [
    "net = Network(height='800px', width='100%', bgcolor='#222222', font_color='white', notebook=True, directed=True, cdn_resources='in_line')\n",
    "net.force_atlas_2based()\n",
    "\n",
    "# Set options FIRST\n",
    "options = \"\"\"\n",
    "{\n",
    "  \"nodes\": {\n",
    "    \"font\": {\n",
    "      \"size\": 50,\n",
    "      \"color\": \"white\"\n",
    "    },\n",
    "    \"color\": {\n",
    "      \"background\": \"#1f78b4\",\n",
    "      \"border\": \"#ffffff\"\n",
    "    }\n",
    "  },\n",
    "  \"edges\": {\n",
    "    \"color\": {\n",
    "      \"color\": \"#aaaaaa\"\n",
    "    },\n",
    "    \"arrows\": {\n",
    "      \"to\": {\"enabled\": true, \"scaleFactor\": 1.2}\n",
    "    }\n",
    "  },\n",
    "  \"physics\": {\n",
    "    \"forceAtlas2Based\": {\n",
    "      \"gravitationalConstant\": -50,\n",
    "      \"centralGravity\": 0.01,\n",
    "      \"springLength\": 100,\n",
    "      \"springConstant\": 0.08\n",
    "    },\n",
    "    \"solver\": \"forceAtlas2Based\"\n",
    "  }\n",
    "}\n",
    "\"\"\"\n",
    "net.set_options(options)\n"
   ]
  },
  {
   "cell_type": "code",
   "execution_count": 29,
   "id": "e94eb055-140f-4fd3-8c7e-bcb61e1cec6d",
   "metadata": {},
   "outputs": [
    {
     "name": "stdout",
     "output_type": "stream",
     "text": [
      "migration_network.html\n"
     ]
    },
    {
     "data": {
      "text/html": [
       "\n",
       "        <iframe\n",
       "            width=\"100%\"\n",
       "            height=\"800px\"\n",
       "            src=\"migration_network.html\"\n",
       "            frameborder=\"0\"\n",
       "            allowfullscreen\n",
       "            \n",
       "        ></iframe>\n",
       "        "
      ],
      "text/plain": [
       "<IPython.lib.display.IFrame at 0x328426470>"
      ]
     },
     "execution_count": 29,
     "metadata": {},
     "output_type": "execute_result"
    }
   ],
   "source": [
    "# Add nodes\n",
    "for node in G_filtered.nodes():\n",
    "    inflow = in_strength_filtered.get(node, 0)\n",
    "    size = 10 + 40 * (inflow / max_inflow)\n",
    "    net.add_node(node, label=node, size=size, title=f\"Inflow: {inflow} migrants\")\n",
    "\n",
    "# Add edges\n",
    "for u, v, data in G_filtered.edges(data=True):\n",
    "    net.add_edge(u, v, value=data['weight'] / 100000, title=f\"{u} → {v}: {data['weight']} migrants\")\n",
    "\n",
    "# Show\n",
    "net.show(\"migration_network.html\")\n"
   ]
  },
  {
   "cell_type": "markdown",
   "id": "59bec39d-21f9-4dac-94cc-ab9872a9b846",
   "metadata": {},
   "source": [
    "# Group by region"
   ]
  },
  {
   "cell_type": "code",
   "execution_count": 30,
   "id": "3590cbe2-195c-4e15-b39f-8e1582e990c6",
   "metadata": {
    "scrolled": true
   },
   "outputs": [
    {
     "data": {
      "text/html": [
       "<div>\n",
       "<style scoped>\n",
       "    .dataframe tbody tr th:only-of-type {\n",
       "        vertical-align: middle;\n",
       "    }\n",
       "\n",
       "    .dataframe tbody tr th {\n",
       "        vertical-align: top;\n",
       "    }\n",
       "\n",
       "    .dataframe thead th {\n",
       "        text-align: right;\n",
       "    }\n",
       "</style>\n",
       "<table border=\"1\" class=\"dataframe\">\n",
       "  <thead>\n",
       "    <tr style=\"text-align: right;\">\n",
       "      <th></th>\n",
       "      <th>name</th>\n",
       "      <th>alpha-2</th>\n",
       "      <th>alpha-3</th>\n",
       "      <th>country-code</th>\n",
       "      <th>iso_3166-2</th>\n",
       "      <th>region</th>\n",
       "      <th>sub-region</th>\n",
       "      <th>intermediate-region</th>\n",
       "      <th>region-code</th>\n",
       "      <th>sub-region-code</th>\n",
       "      <th>intermediate-region-code</th>\n",
       "    </tr>\n",
       "  </thead>\n",
       "  <tbody>\n",
       "    <tr>\n",
       "      <th>0</th>\n",
       "      <td>Afghanistan</td>\n",
       "      <td>AF</td>\n",
       "      <td>AFG</td>\n",
       "      <td>4</td>\n",
       "      <td>ISO 3166-2:AF</td>\n",
       "      <td>Asia</td>\n",
       "      <td>Southern Asia</td>\n",
       "      <td>NaN</td>\n",
       "      <td>142.0</td>\n",
       "      <td>34.0</td>\n",
       "      <td>NaN</td>\n",
       "    </tr>\n",
       "    <tr>\n",
       "      <th>1</th>\n",
       "      <td>Åland Islands</td>\n",
       "      <td>AX</td>\n",
       "      <td>ALA</td>\n",
       "      <td>248</td>\n",
       "      <td>ISO 3166-2:AX</td>\n",
       "      <td>Europe</td>\n",
       "      <td>Northern Europe</td>\n",
       "      <td>NaN</td>\n",
       "      <td>150.0</td>\n",
       "      <td>154.0</td>\n",
       "      <td>NaN</td>\n",
       "    </tr>\n",
       "    <tr>\n",
       "      <th>2</th>\n",
       "      <td>Albania</td>\n",
       "      <td>AL</td>\n",
       "      <td>ALB</td>\n",
       "      <td>8</td>\n",
       "      <td>ISO 3166-2:AL</td>\n",
       "      <td>Europe</td>\n",
       "      <td>Southern Europe</td>\n",
       "      <td>NaN</td>\n",
       "      <td>150.0</td>\n",
       "      <td>39.0</td>\n",
       "      <td>NaN</td>\n",
       "    </tr>\n",
       "    <tr>\n",
       "      <th>3</th>\n",
       "      <td>Algeria</td>\n",
       "      <td>DZ</td>\n",
       "      <td>DZA</td>\n",
       "      <td>12</td>\n",
       "      <td>ISO 3166-2:DZ</td>\n",
       "      <td>Africa</td>\n",
       "      <td>Northern Africa</td>\n",
       "      <td>NaN</td>\n",
       "      <td>2.0</td>\n",
       "      <td>15.0</td>\n",
       "      <td>NaN</td>\n",
       "    </tr>\n",
       "    <tr>\n",
       "      <th>4</th>\n",
       "      <td>American Samoa</td>\n",
       "      <td>AS</td>\n",
       "      <td>ASM</td>\n",
       "      <td>16</td>\n",
       "      <td>ISO 3166-2:AS</td>\n",
       "      <td>Oceania</td>\n",
       "      <td>Polynesia</td>\n",
       "      <td>NaN</td>\n",
       "      <td>9.0</td>\n",
       "      <td>61.0</td>\n",
       "      <td>NaN</td>\n",
       "    </tr>\n",
       "    <tr>\n",
       "      <th>...</th>\n",
       "      <td>...</td>\n",
       "      <td>...</td>\n",
       "      <td>...</td>\n",
       "      <td>...</td>\n",
       "      <td>...</td>\n",
       "      <td>...</td>\n",
       "      <td>...</td>\n",
       "      <td>...</td>\n",
       "      <td>...</td>\n",
       "      <td>...</td>\n",
       "      <td>...</td>\n",
       "    </tr>\n",
       "    <tr>\n",
       "      <th>244</th>\n",
       "      <td>Wallis and Futuna</td>\n",
       "      <td>WF</td>\n",
       "      <td>WLF</td>\n",
       "      <td>876</td>\n",
       "      <td>ISO 3166-2:WF</td>\n",
       "      <td>Oceania</td>\n",
       "      <td>Polynesia</td>\n",
       "      <td>NaN</td>\n",
       "      <td>9.0</td>\n",
       "      <td>61.0</td>\n",
       "      <td>NaN</td>\n",
       "    </tr>\n",
       "    <tr>\n",
       "      <th>245</th>\n",
       "      <td>Western Sahara</td>\n",
       "      <td>EH</td>\n",
       "      <td>ESH</td>\n",
       "      <td>732</td>\n",
       "      <td>ISO 3166-2:EH</td>\n",
       "      <td>Africa</td>\n",
       "      <td>Northern Africa</td>\n",
       "      <td>NaN</td>\n",
       "      <td>2.0</td>\n",
       "      <td>15.0</td>\n",
       "      <td>NaN</td>\n",
       "    </tr>\n",
       "    <tr>\n",
       "      <th>246</th>\n",
       "      <td>Yemen</td>\n",
       "      <td>YE</td>\n",
       "      <td>YEM</td>\n",
       "      <td>887</td>\n",
       "      <td>ISO 3166-2:YE</td>\n",
       "      <td>Asia</td>\n",
       "      <td>Western Asia</td>\n",
       "      <td>NaN</td>\n",
       "      <td>142.0</td>\n",
       "      <td>145.0</td>\n",
       "      <td>NaN</td>\n",
       "    </tr>\n",
       "    <tr>\n",
       "      <th>247</th>\n",
       "      <td>Zambia</td>\n",
       "      <td>ZM</td>\n",
       "      <td>ZMB</td>\n",
       "      <td>894</td>\n",
       "      <td>ISO 3166-2:ZM</td>\n",
       "      <td>Africa</td>\n",
       "      <td>Sub-Saharan Africa</td>\n",
       "      <td>Eastern Africa</td>\n",
       "      <td>2.0</td>\n",
       "      <td>202.0</td>\n",
       "      <td>14.0</td>\n",
       "    </tr>\n",
       "    <tr>\n",
       "      <th>248</th>\n",
       "      <td>Zimbabwe</td>\n",
       "      <td>ZW</td>\n",
       "      <td>ZWE</td>\n",
       "      <td>716</td>\n",
       "      <td>ISO 3166-2:ZW</td>\n",
       "      <td>Africa</td>\n",
       "      <td>Sub-Saharan Africa</td>\n",
       "      <td>Eastern Africa</td>\n",
       "      <td>2.0</td>\n",
       "      <td>202.0</td>\n",
       "      <td>14.0</td>\n",
       "    </tr>\n",
       "  </tbody>\n",
       "</table>\n",
       "<p>249 rows × 11 columns</p>\n",
       "</div>"
      ],
      "text/plain": [
       "                  name alpha-2 alpha-3  country-code     iso_3166-2   region  \\\n",
       "0          Afghanistan      AF     AFG             4  ISO 3166-2:AF     Asia   \n",
       "1        Åland Islands      AX     ALA           248  ISO 3166-2:AX   Europe   \n",
       "2              Albania      AL     ALB             8  ISO 3166-2:AL   Europe   \n",
       "3              Algeria      DZ     DZA            12  ISO 3166-2:DZ   Africa   \n",
       "4       American Samoa      AS     ASM            16  ISO 3166-2:AS  Oceania   \n",
       "..                 ...     ...     ...           ...            ...      ...   \n",
       "244  Wallis and Futuna      WF     WLF           876  ISO 3166-2:WF  Oceania   \n",
       "245     Western Sahara      EH     ESH           732  ISO 3166-2:EH   Africa   \n",
       "246              Yemen      YE     YEM           887  ISO 3166-2:YE     Asia   \n",
       "247             Zambia      ZM     ZMB           894  ISO 3166-2:ZM   Africa   \n",
       "248           Zimbabwe      ZW     ZWE           716  ISO 3166-2:ZW   Africa   \n",
       "\n",
       "             sub-region intermediate-region  region-code  sub-region-code  \\\n",
       "0         Southern Asia                 NaN        142.0             34.0   \n",
       "1       Northern Europe                 NaN        150.0            154.0   \n",
       "2       Southern Europe                 NaN        150.0             39.0   \n",
       "3       Northern Africa                 NaN          2.0             15.0   \n",
       "4             Polynesia                 NaN          9.0             61.0   \n",
       "..                  ...                 ...          ...              ...   \n",
       "244           Polynesia                 NaN          9.0             61.0   \n",
       "245     Northern Africa                 NaN          2.0             15.0   \n",
       "246        Western Asia                 NaN        142.0            145.0   \n",
       "247  Sub-Saharan Africa      Eastern Africa          2.0            202.0   \n",
       "248  Sub-Saharan Africa      Eastern Africa          2.0            202.0   \n",
       "\n",
       "     intermediate-region-code  \n",
       "0                         NaN  \n",
       "1                         NaN  \n",
       "2                         NaN  \n",
       "3                         NaN  \n",
       "4                         NaN  \n",
       "..                        ...  \n",
       "244                       NaN  \n",
       "245                       NaN  \n",
       "246                       NaN  \n",
       "247                      14.0  \n",
       "248                      14.0  \n",
       "\n",
       "[249 rows x 11 columns]"
      ]
     },
     "execution_count": 30,
     "metadata": {},
     "output_type": "execute_result"
    }
   ],
   "source": [
    "all_df = pd.read_csv(DATA_DIR/'all.csv')\n",
    "all_df"
   ]
  },
  {
   "cell_type": "code",
   "execution_count": 36,
   "id": "f0bc0a5e-83b2-4e40-a3a4-3310a7280adb",
   "metadata": {
    "scrolled": true
   },
   "outputs": [
    {
     "data": {
      "text/html": [
       "<div>\n",
       "<style scoped>\n",
       "    .dataframe tbody tr th:only-of-type {\n",
       "        vertical-align: middle;\n",
       "    }\n",
       "\n",
       "    .dataframe tbody tr th {\n",
       "        vertical-align: top;\n",
       "    }\n",
       "\n",
       "    .dataframe thead th {\n",
       "        text-align: right;\n",
       "    }\n",
       "</style>\n",
       "<table border=\"1\" class=\"dataframe\">\n",
       "  <thead>\n",
       "    <tr style=\"text-align: right;\">\n",
       "      <th></th>\n",
       "      <th>country_from</th>\n",
       "      <th>country_to</th>\n",
       "      <th>num_migrants</th>\n",
       "      <th>region_from</th>\n",
       "      <th>sub_region_from</th>\n",
       "      <th>region_to</th>\n",
       "      <th>sub_region_to</th>\n",
       "    </tr>\n",
       "  </thead>\n",
       "  <tbody>\n",
       "    <tr>\n",
       "      <th>180</th>\n",
       "      <td>AE</td>\n",
       "      <td>AF</td>\n",
       "      <td>15481</td>\n",
       "      <td>Asia</td>\n",
       "      <td>Western Asia</td>\n",
       "      <td>Asia</td>\n",
       "      <td>Southern Asia</td>\n",
       "    </tr>\n",
       "    <tr>\n",
       "      <th>186</th>\n",
       "      <td>AE</td>\n",
       "      <td>AU</td>\n",
       "      <td>11857</td>\n",
       "      <td>Asia</td>\n",
       "      <td>Western Asia</td>\n",
       "      <td>Oceania</td>\n",
       "      <td>Australia and New Zealand</td>\n",
       "    </tr>\n",
       "    <tr>\n",
       "      <th>190</th>\n",
       "      <td>AE</td>\n",
       "      <td>BD</td>\n",
       "      <td>208064</td>\n",
       "      <td>Asia</td>\n",
       "      <td>Western Asia</td>\n",
       "      <td>Asia</td>\n",
       "      <td>Southern Asia</td>\n",
       "    </tr>\n",
       "    <tr>\n",
       "      <th>205</th>\n",
       "      <td>AE</td>\n",
       "      <td>CA</td>\n",
       "      <td>28115</td>\n",
       "      <td>Asia</td>\n",
       "      <td>Western Asia</td>\n",
       "      <td>Americas</td>\n",
       "      <td>Northern America</td>\n",
       "    </tr>\n",
       "    <tr>\n",
       "      <th>225</th>\n",
       "      <td>AE</td>\n",
       "      <td>EG</td>\n",
       "      <td>115237</td>\n",
       "      <td>Asia</td>\n",
       "      <td>Western Asia</td>\n",
       "      <td>Africa</td>\n",
       "      <td>Northern Africa</td>\n",
       "    </tr>\n",
       "    <tr>\n",
       "      <th>...</th>\n",
       "      <td>...</td>\n",
       "      <td>...</td>\n",
       "      <td>...</td>\n",
       "      <td>...</td>\n",
       "      <td>...</td>\n",
       "      <td>...</td>\n",
       "      <td>...</td>\n",
       "    </tr>\n",
       "    <tr>\n",
       "      <th>31848</th>\n",
       "      <td>ZA</td>\n",
       "      <td>ZM</td>\n",
       "      <td>11168</td>\n",
       "      <td>Africa</td>\n",
       "      <td>Sub-Saharan Africa</td>\n",
       "      <td>Africa</td>\n",
       "      <td>Sub-Saharan Africa</td>\n",
       "    </tr>\n",
       "    <tr>\n",
       "      <th>31849</th>\n",
       "      <td>ZA</td>\n",
       "      <td>ZW</td>\n",
       "      <td>117845</td>\n",
       "      <td>Africa</td>\n",
       "      <td>Sub-Saharan Africa</td>\n",
       "      <td>Africa</td>\n",
       "      <td>Sub-Saharan Africa</td>\n",
       "    </tr>\n",
       "    <tr>\n",
       "      <th>32053</th>\n",
       "      <td>ZW</td>\n",
       "      <td>BW</td>\n",
       "      <td>12916</td>\n",
       "      <td>Africa</td>\n",
       "      <td>Sub-Saharan Africa</td>\n",
       "      <td>Africa</td>\n",
       "      <td>Sub-Saharan Africa</td>\n",
       "    </tr>\n",
       "    <tr>\n",
       "      <th>32085</th>\n",
       "      <td>ZW</td>\n",
       "      <td>GB</td>\n",
       "      <td>22411</td>\n",
       "      <td>Africa</td>\n",
       "      <td>Sub-Saharan Africa</td>\n",
       "      <td>Europe</td>\n",
       "      <td>Northern Europe</td>\n",
       "    </tr>\n",
       "    <tr>\n",
       "      <th>32206</th>\n",
       "      <td>ZW</td>\n",
       "      <td>ZA</td>\n",
       "      <td>134092</td>\n",
       "      <td>Africa</td>\n",
       "      <td>Sub-Saharan Africa</td>\n",
       "      <td>Africa</td>\n",
       "      <td>Sub-Saharan Africa</td>\n",
       "    </tr>\n",
       "  </tbody>\n",
       "</table>\n",
       "<p>1468 rows × 7 columns</p>\n",
       "</div>"
      ],
      "text/plain": [
       "      country_from country_to  num_migrants region_from     sub_region_from  \\\n",
       "180             AE         AF         15481        Asia        Western Asia   \n",
       "186             AE         AU         11857        Asia        Western Asia   \n",
       "190             AE         BD        208064        Asia        Western Asia   \n",
       "205             AE         CA         28115        Asia        Western Asia   \n",
       "225             AE         EG        115237        Asia        Western Asia   \n",
       "...            ...        ...           ...         ...                 ...   \n",
       "31848           ZA         ZM         11168      Africa  Sub-Saharan Africa   \n",
       "31849           ZA         ZW        117845      Africa  Sub-Saharan Africa   \n",
       "32053           ZW         BW         12916      Africa  Sub-Saharan Africa   \n",
       "32085           ZW         GB         22411      Africa  Sub-Saharan Africa   \n",
       "32206           ZW         ZA        134092      Africa  Sub-Saharan Africa   \n",
       "\n",
       "      region_to              sub_region_to  \n",
       "180        Asia              Southern Asia  \n",
       "186     Oceania  Australia and New Zealand  \n",
       "190        Asia              Southern Asia  \n",
       "205    Americas           Northern America  \n",
       "225      Africa            Northern Africa  \n",
       "...         ...                        ...  \n",
       "31848    Africa         Sub-Saharan Africa  \n",
       "31849    Africa         Sub-Saharan Africa  \n",
       "32053    Africa         Sub-Saharan Africa  \n",
       "32085    Europe            Northern Europe  \n",
       "32206    Africa         Sub-Saharan Africa  \n",
       "\n",
       "[1468 rows x 7 columns]"
      ]
     },
     "execution_count": 36,
     "metadata": {},
     "output_type": "execute_result"
    }
   ],
   "source": [
    "region_lookup = dict(zip(all_df['alpha-2'], all_df['region']))\n",
    "subregion_lookup = dict(zip(all_df['alpha-2'], all_df['sub-region']))\n",
    "\n",
    "# Now, map the values to df_agg_filtered\n",
    "df_agg_filtered.loc[:, 'region_from'] = df_agg_filtered['country_from'].map(region_lookup)\n",
    "df_agg_filtered.loc[:, 'sub_region_from'] = df_agg_filtered['country_from'].map(subregion_lookup)\n",
    "\n",
    "df_agg_filtered.loc[:, 'region_to'] = df_agg_filtered['country_to'].map(region_lookup)\n",
    "df_agg_filtered.loc[:, 'sub_region_to'] = df_agg_filtered['country_to'].map(subregion_lookup)\n",
    "df_agg_filtered"
   ]
  },
  {
   "cell_type": "code",
   "execution_count": 32,
   "id": "67d9ac6b-e116-49a3-a798-89deb7e641da",
   "metadata": {},
   "outputs": [],
   "source": [
    "# Example regions in your data\n",
    "regions = df_agg_filtered['region_from'].dropna().unique().tolist() + df_agg_filtered['region_to'].dropna().unique().tolist()\n",
    "regions = list(set(regions))  # remove duplicates\n",
    "\n",
    "# Color palette\n",
    "color_palette = [\n",
    "    \"#1f78b4\",  # blue\n",
    "    \"#33a02c\",  # green\n",
    "    \"#e31a1c\",  # red\n",
    "    \"#ff7f00\",  # orange\n",
    "    \"#6a3d9a\",  # purple\n",
    "    \"#b15928\",  # brown\n",
    "]\n",
    "\n",
    "# Map each region to a color\n",
    "region_color_map = {region: color_palette[i % len(color_palette)] for i, region in enumerate(regions)}\n"
   ]
  },
  {
   "cell_type": "code",
   "execution_count": 33,
   "id": "12076c1e-1729-4588-b914-317771176ce2",
   "metadata": {},
   "outputs": [],
   "source": [
    "# Build a lookup for country_code → region\n",
    "country_region_lookup = {}\n",
    "\n",
    "# Add country_from\n",
    "for idx, row in df_agg_filtered.iterrows():\n",
    "    country_region_lookup[row['country_from']] = row['region_from']\n",
    "\n",
    "# Add country_to\n",
    "for idx, row in df_agg_filtered.iterrows():\n",
    "    country_region_lookup[row['country_to']] = row['region_to']\n"
   ]
  },
  {
   "cell_type": "code",
   "execution_count": 35,
   "id": "649791d7-30a6-420c-9ea9-0372d205f8c5",
   "metadata": {},
   "outputs": [
    {
     "name": "stdout",
     "output_type": "stream",
     "text": [
      "migration_network.html\n"
     ]
    },
    {
     "data": {
      "text/html": [
       "\n",
       "        <iframe\n",
       "            width=\"100%\"\n",
       "            height=\"800px\"\n",
       "            src=\"migration_network.html\"\n",
       "            frameborder=\"0\"\n",
       "            allowfullscreen\n",
       "            \n",
       "        ></iframe>\n",
       "        "
      ],
      "text/plain": [
       "<IPython.lib.display.IFrame at 0x177dd3ee0>"
      ]
     },
     "execution_count": 35,
     "metadata": {},
     "output_type": "execute_result"
    }
   ],
   "source": [
    "net = Network(height='800px', width='100%', bgcolor='#222222', font_color='white', notebook=True, directed=True, cdn_resources='in_line')\n",
    "net.force_atlas_2based()\n",
    "\n",
    "# Set options FIRST (your same options)\n",
    "net.set_options(options)\n",
    "\n",
    "# Add nodes with region-based color\n",
    "for node in G_filtered.nodes():\n",
    "    inflow = in_strength_filtered.get(node, 0)\n",
    "    size = 60 + 100 * (inflow / max_inflow)\n",
    "    \n",
    "    region = country_region_lookup.get(node, \"Unknown\")\n",
    "    color = region_color_map.get(region, \"#999999\")  # fallback to gray if unknown\n",
    "    \n",
    "    net.add_node(\n",
    "        node,\n",
    "        label=node,\n",
    "        size=size,\n",
    "        title=f\"Inflow: {inflow} migrants<br>Region: {region}\",\n",
    "        color=color\n",
    "    )\n",
    "\n",
    "for u, v, data in G_filtered.edges(data=True):\n",
    "    net.add_edge(u, v, value=data['weight'] / 100000, title=f\"{u} → {v}: {data['weight']} migrants\")\n",
    "\n",
    "net.show(\"migration_network_region_grouped.html\")"
   ]
  },
  {
   "cell_type": "markdown",
   "id": "3a2b4f20-ceb7-4fd3-9066-fcf22f8eb8c5",
   "metadata": {},
   "source": [
    "If you want to make the plot even more informative:\n",
    "\n",
    "- Add a legend explaining the color coding (regions) and node size.\n",
    "- If feasible, show edge weights (thicker line = stronger flow) to visually differentiate strong corridors from weaker ones.\n",
    "- Label a few key nodes (big hubs) explicitly — e.g. US, UK, DE, IN — to help the reader orient themselves.\n",
    "- Consider using a slightly lighter background or lighter edges to improve visual contrast."
   ]
  },
  {
   "cell_type": "code",
   "execution_count": null,
   "id": "493c5c75-c512-45ca-8dc9-3ac1931dab27",
   "metadata": {},
   "outputs": [],
   "source": []
  }
 ],
 "metadata": {
  "kernelspec": {
   "display_name": "Python 3 (ipykernel)",
   "language": "python",
   "name": "python3"
  },
  "language_info": {
   "codemirror_mode": {
    "name": "ipython",
    "version": 3
   },
   "file_extension": ".py",
   "mimetype": "text/x-python",
   "name": "python",
   "nbconvert_exporter": "python",
   "pygments_lexer": "ipython3",
   "version": "3.10.17"
  }
 },
 "nbformat": 4,
 "nbformat_minor": 5
}
